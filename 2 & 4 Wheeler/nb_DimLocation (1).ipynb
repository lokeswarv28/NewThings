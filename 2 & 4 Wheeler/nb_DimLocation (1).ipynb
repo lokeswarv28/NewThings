{
 "cells": [
  {
   "cell_type": "code",
   "execution_count": 0,
   "metadata": {
    "application/vnd.databricks.v1+cell": {
     "cellMetadata": {
      "byteLimit": 2048000,
      "rowLimit": 10000
     },
     "inputWidgets": {},
     "nuid": "a2ece82f-732f-498e-8304-5b4adc3c0a91",
     "showTitle": false,
     "title": ""
    }
   },
   "outputs": [
    {
     "output_type": "display_data",
     "data": {
      "text/html": [
       "<style scoped>\n",
       "  .table-result-container {\n",
       "    max-height: 300px;\n",
       "    overflow: auto;\n",
       "  }\n",
       "  table, th, td {\n",
       "    border: 1px solid black;\n",
       "    border-collapse: collapse;\n",
       "  }\n",
       "  th, td {\n",
       "    padding: 5px;\n",
       "  }\n",
       "  th {\n",
       "    text-align: left;\n",
       "  }\n",
       "</style><div class='table-result-container'><table class='table-result'><thead style='background-color: white'><tr><th>City</th><th>Region</th><th>Country</th></tr></thead><tbody><tr><td>Bangalore</td><td>South</td><td>Unknown</td></tr><tr><td>Ahmedabad</td><td>West</td><td>Unknown</td></tr><tr><td>Hyderabad</td><td>South</td><td>Unknown</td></tr><tr><td>NoCity</td><td>West</td><td>Unknown</td></tr><tr><td>Kolkata</td><td>East</td><td>Unknown</td></tr><tr><td>Jaipur</td><td>North</td><td>Unknown</td></tr><tr><td>Chennai</td><td>South</td><td>Unknown</td></tr><tr><td>#####</td><td>West</td><td>Unknown</td></tr><tr><td>NULL</td><td>West</td><td>Unknown</td></tr><tr><td>Mumbai</td><td>West</td><td>Unknown</td></tr><tr><td>Bhubaneswar</td><td>East</td><td>Unknown</td></tr><tr><td>AFMDSS</td><td>#####</td><td>Unknown</td></tr><tr><td>Guwahati</td><td>East</td><td>Unknown</td></tr><tr><td>Delhi</td><td>North</td><td>Unknown</td></tr><tr><td>Chandigarh</td><td>North</td><td>Unknown</td></tr><tr><td>Pune</td><td>West</td><td>Unknown</td></tr></tbody></table></div>"
      ]
     },
     "metadata": {
      "application/vnd.databricks.v1+output": {
       "addedWidgets": {},
       "aggData": [],
       "aggError": "",
       "aggOverflow": false,
       "aggSchema": [],
       "aggSeriesLimitReached": false,
       "aggType": "",
       "arguments": {},
       "columnCustomDisplayInfos": {},
       "data": [
        [
         "Bangalore",
         "South",
         "Unknown"
        ],
        [
         "Ahmedabad",
         "West",
         "Unknown"
        ],
        [
         "Hyderabad",
         "South",
         "Unknown"
        ],
        [
         "NoCity",
         "West",
         "Unknown"
        ],
        [
         "Kolkata",
         "East",
         "Unknown"
        ],
        [
         "Jaipur",
         "North",
         "Unknown"
        ],
        [
         "Chennai",
         "South",
         "Unknown"
        ],
        [
         "#####",
         "West",
         "Unknown"
        ],
        [
         "NULL",
         "West",
         "Unknown"
        ],
        [
         "Mumbai",
         "West",
         "Unknown"
        ],
        [
         "Bhubaneswar",
         "East",
         "Unknown"
        ],
        [
         "AFMDSS",
         "#####",
         "Unknown"
        ],
        [
         "Guwahati",
         "East",
         "Unknown"
        ],
        [
         "Delhi",
         "North",
         "Unknown"
        ],
        [
         "Chandigarh",
         "North",
         "Unknown"
        ],
        [
         "Pune",
         "West",
         "Unknown"
        ]
       ],
       "datasetInfos": [],
       "dbfsResultPath": null,
       "isJsonSchema": true,
       "metadata": {},
       "overflow": false,
       "plotOptions": {
        "customPlotOptions": {},
        "displayType": "table",
        "pivotAggregation": null,
        "pivotColumns": null,
        "xColumns": null,
        "yColumns": null
       },
       "removedWidgets": [],
       "schema": [
        {
         "metadata": "{}",
         "name": "City",
         "type": "\"string\""
        },
        {
         "metadata": "{}",
         "name": "Region",
         "type": "\"string\""
        },
        {
         "metadata": "{}",
         "name": "Country",
         "type": "\"string\""
        }
       ],
       "type": "table"
      }
     },
     "output_type": "display_data"
    },
    {
     "output_type": "display_data",
     "data": {
      "text/html": [
       "<style scoped>\n",
       "  .table-result-container {\n",
       "    max-height: 300px;\n",
       "    overflow: auto;\n",
       "  }\n",
       "  table, th, td {\n",
       "    border: 1px solid black;\n",
       "    border-collapse: collapse;\n",
       "  }\n",
       "  th, td {\n",
       "    padding: 5px;\n",
       "  }\n",
       "  th {\n",
       "    text-align: left;\n",
       "  }\n",
       "</style><div class='table-result-container'><table class='table-result'><thead style='background-color: white'><tr><th>Country</th><th>City</th><th>Region</th></tr></thead><tbody><tr><td>India</td><td>Hyderabad</td><td>Unknown</td></tr><tr><td>India</td><td>Ahmedabad</td><td>Unknown</td></tr><tr><td>India</td><td>Bangalore</td><td>Unknown</td></tr><tr><td>India</td><td>Jaipur</td><td>Unknown</td></tr><tr><td>India</td><td>Mumbai</td><td>Unknown</td></tr><tr><td>India</td><td>Kolkata</td><td>Unknown</td></tr><tr><td>India</td><td>Lucknow</td><td>Unknown</td></tr><tr><td>India</td><td>Delhi</td><td>Unknown</td></tr><tr><td>India</td><td>Chennai</td><td>Unknown</td></tr><tr><td>India</td><td>Pune</td><td>Unknown</td></tr></tbody></table></div>"
      ]
     },
     "metadata": {
      "application/vnd.databricks.v1+output": {
       "addedWidgets": {},
       "aggData": [],
       "aggError": "",
       "aggOverflow": false,
       "aggSchema": [],
       "aggSeriesLimitReached": false,
       "aggType": "",
       "arguments": {},
       "columnCustomDisplayInfos": {},
       "data": [
        [
         "India",
         "Hyderabad",
         "Unknown"
        ],
        [
         "India",
         "Ahmedabad",
         "Unknown"
        ],
        [
         "India",
         "Bangalore",
         "Unknown"
        ],
        [
         "India",
         "Jaipur",
         "Unknown"
        ],
        [
         "India",
         "Mumbai",
         "Unknown"
        ],
        [
         "India",
         "Kolkata",
         "Unknown"
        ],
        [
         "India",
         "Lucknow",
         "Unknown"
        ],
        [
         "India",
         "Delhi",
         "Unknown"
        ],
        [
         "India",
         "Chennai",
         "Unknown"
        ],
        [
         "India",
         "Pune",
         "Unknown"
        ]
       ],
       "datasetInfos": [],
       "dbfsResultPath": null,
       "isJsonSchema": true,
       "metadata": {},
       "overflow": false,
       "plotOptions": {
        "customPlotOptions": {},
        "displayType": "table",
        "pivotAggregation": null,
        "pivotColumns": null,
        "xColumns": null,
        "yColumns": null
       },
       "removedWidgets": [],
       "schema": [
        {
         "metadata": "{}",
         "name": "Country",
         "type": "\"string\""
        },
        {
         "metadata": "{}",
         "name": "City",
         "type": "\"string\""
        },
        {
         "metadata": "{}",
         "name": "Region",
         "type": "\"string\""
        }
       ],
       "type": "table"
      }
     },
     "output_type": "display_data"
    }
   ],
   "source": [
    "from pyspark.sql.functions import col, lit\n",
    "from pyspark.sql.functions import input_file_name, substring_index,col\n",
    "parquet_file_path1 = \"dbfs:/Silver/2_wheelers/202403/29/*.parquet\"\n",
    "parquet_file_path2 = \"dbfs:/Silver/4_wheelers/202403/29/*.parquet\"\n",
    "\n",
    "from pyspark.sql.functions import col\n",
    "\n",
    "df1 = spark.read.parquet(parquet_file_path1).select(col('dealerlocation').alias('City'), col('region').alias('Region'), lit('Unknown').alias('Country')).distinct()\n",
    "\n",
    "\n",
    "display(df1)\n",
    "\n",
    "df2= spark.read.parquet(parquet_file_path2).select(col('country').alias('Country'), col('city').alias('City'), lit('Unknown').alias('Region')).distinct()\n",
    "\n",
    "display(df2)\n",
    "\n"
   ]
  },
  {
   "cell_type": "code",
   "execution_count": 0,
   "metadata": {
    "application/vnd.databricks.v1+cell": {
     "cellMetadata": {
      "byteLimit": 2048000,
      "rowLimit": 10000
     },
     "inputWidgets": {},
     "nuid": "293fa7a4-7a95-40e5-b84d-2d0585ed0b17",
     "showTitle": false,
     "title": ""
    }
   },
   "outputs": [
    {
     "output_type": "stream",
     "name": "stdout",
     "output_type": "stream",
     "text": [
      "combined_count : 116786\ncombined_distinct : 26\n+-----------+-------+-------+----------+\n|       City| Region|Country|wheelerkey|\n+-----------+-------+-------+----------+\n|      #####|   West|Unknown|         T|\n|     AFMDSS|  #####|Unknown|         T|\n|  Ahmedabad|Unknown|  India|         F|\n|  Ahmedabad|   West|Unknown|         T|\n|  Bangalore|  South|Unknown|         T|\n|  Bangalore|Unknown|  India|         F|\n|Bhubaneswar|   East|Unknown|         T|\n| Chandigarh|  North|Unknown|         T|\n|    Chennai|  South|Unknown|         T|\n|    Chennai|Unknown|  India|         F|\n|      Delhi|  North|Unknown|         T|\n|      Delhi|Unknown|  India|         F|\n|   Guwahati|   East|Unknown|         T|\n|  Hyderabad|  South|Unknown|         T|\n|  Hyderabad|Unknown|  India|         F|\n|     Jaipur|  North|Unknown|         T|\n|     Jaipur|Unknown|  India|         F|\n|    Kolkata|   East|Unknown|         T|\n|    Kolkata|Unknown|  India|         F|\n|    Lucknow|Unknown|  India|         F|\n+-----------+-------+-------+----------+\nonly showing top 20 rows\n\ndim_df show...\n+------------+-------+------+----+----------+\n|pkLocationId|Country|Region|City|WheelerKey|\n+------------+-------+------+----+----------+\n+------------+-------+------+----+----------+\n\ncheck for new records...\n+-----------+-------+-------+----------+\n|       City| Region|Country|wheelerkey|\n+-----------+-------+-------+----------+\n|      #####|   West|Unknown|         T|\n|     AFMDSS|  #####|Unknown|         T|\n|  Ahmedabad|Unknown|  India|         F|\n|  Ahmedabad|   West|Unknown|         T|\n|  Bangalore|  South|Unknown|         T|\n|  Bangalore|Unknown|  India|         F|\n|Bhubaneswar|   East|Unknown|         T|\n| Chandigarh|  North|Unknown|         T|\n|    Chennai|  South|Unknown|         T|\n|    Chennai|Unknown|  India|         F|\n|      Delhi|  North|Unknown|         T|\n|      Delhi|Unknown|  India|         F|\n|   Guwahati|   East|Unknown|         T|\n|  Hyderabad|  South|Unknown|         T|\n|  Hyderabad|Unknown|  India|         F|\n|     Jaipur|  North|Unknown|         T|\n|     Jaipur|Unknown|  India|         F|\n|    Kolkata|   East|Unknown|         T|\n|    Kolkata|Unknown|  India|         F|\n|    Lucknow|Unknown|  India|         F|\n+-----------+-------+-------+----------+\nonly showing top 20 rows\n\nmatching from src to target \n+------------+-------+------+----+----------+\n|pkLocationId|Country|Region|City|WheelerKey|\n+------------+-------+------+----+----------+\n+------------+-------+------+----+----------+\n\ncombined....\ncombined_records df count: 26\n+-----------+-------+-------+----------+\n|       City| Region|Country|wheelerkey|\n+-----------+-------+-------+----------+\n|      #####|   West|Unknown|         T|\n|     AFMDSS|  #####|Unknown|         T|\n|  Ahmedabad|Unknown|  India|         F|\n|  Ahmedabad|   West|Unknown|         T|\n|  Bangalore|  South|Unknown|         T|\n|  Bangalore|Unknown|  India|         F|\n|Bhubaneswar|   East|Unknown|         T|\n| Chandigarh|  North|Unknown|         T|\n|    Chennai|  South|Unknown|         T|\n|    Chennai|Unknown|  India|         F|\n|      Delhi|  North|Unknown|         T|\n|      Delhi|Unknown|  India|         F|\n|   Guwahati|   East|Unknown|         T|\n|  Hyderabad|  South|Unknown|         T|\n|  Hyderabad|Unknown|  India|         F|\n|     Jaipur|  North|Unknown|         T|\n|     Jaipur|Unknown|  India|         F|\n|    Kolkata|   East|Unknown|         T|\n|    Kolkata|Unknown|  India|         F|\n|    Lucknow|Unknown|  India|         F|\n+-----------+-------+-------+----------+\nonly showing top 20 rows\n\nsuccess\n"
     ]
    }
   ],
   "source": [
    "#nnnn\n",
    "from pyspark.sql.functions import col, input_file_name, lit, when, split, regexp_replace\n",
    "import pyspark.sql.functions as F\n",
    "\n",
    "stg_df_1 = spark.read.format('parquet').option('Header', 'True').option('inferSchema', 'True').load(parquet_file_path1) \\\n",
    "    .withColumn('inputfilename', input_file_name()).withColumn('inputfilename', split(F.col('inputfilename'), '/').getItem(2)).withColumn('WheelerKey', when(F.col('inputfilename') == '2-WheelSales', lit('F')).otherwise(lit('T'))).select(col('dealerlocation').alias('City'), col('region').alias('Region'), lit('Unknown').alias('Country'), 'wheelerkey')\n",
    "\n",
    "stg_df_2 =  spark.read.format('parquet').option('Header', 'True').option('inferSchema', 'True').load(parquet_file_path2) \\\n",
    "    .withColumn('inputfilename', input_file_name()).withColumn('inputfilename', split(col('inputfilename'), '/').getItem(2)).withColumn('WheelerKey', when(F.col('inputfilename') == '4-WheelSales', lit('T')).otherwise(lit('F'))).select(col('city').alias('City'), col('country').alias('Country'), lit('Unknown').alias('Region'), 'wheelerkey')\n",
    "\n",
    "combined_stg = stg_df_1.unionByName(stg_df_2)\n",
    "print(\"combined_count :\", combined_stg.count())\n",
    "# pattern = \" \"\n",
    "# combined_stg = combined_stg.withColumn(\"City\", regexp_replace(col(\"City\"), pattern, \"\")).dropDuplicates(['City','Region','Country'])\n",
    "combined_stg=combined_stg.dropDuplicates(['City','Region','Country'])\n",
    "print(\"combined_distinct :\" ,combined_stg.count())\n",
    "combined_stg.show()\n",
    "\n",
    "dim_df = spark.sql(\"\"\"SELECT * FROM  dev.dimlocation\"\"\")\n",
    "print('dim_df show...')\n",
    "dim_df.show()\n",
    "print(\"check for new records...\")\n",
    "\n",
    "new_records = combined_stg.join(dim_df, 'City', 'left_anti')\n",
    "new_records.show()\n",
    "\n",
    "updated_records = combined_stg.join(dim_df, combined_stg['City'] == dim_df['City'], 'inner').select(dim_df['*'])\n",
    "\n",
    "print(\"matching from src to target \")\n",
    "updated_records.show()\n",
    "\n",
    "combined_records = new_records.unionByName(updated_records.drop('pkLocationId'))\n",
    "\n",
    "\n",
    "print('combined....')\n",
    "combined_records = combined_records.dropDuplicates(['City','Region','Country'])\n",
    "print('combined_records df count:', combined_records.count())\n",
    "combined_records.show()\n",
    "\n",
    "combined_records.write.mode('overwrite').saveAsTable(\"dev.dimlocation\")\n",
    "\n",
    "print(\"success\") "
   ]
  },
  {
   "cell_type": "code",
   "execution_count": 0,
   "metadata": {
    "application/vnd.databricks.v1+cell": {
     "cellMetadata": {
      "byteLimit": 2048000,
      "implicitDf": true,
      "rowLimit": 10000
     },
     "inputWidgets": {},
     "nuid": "9ef10049-a4df-4aff-9ccb-79a9efaa9d6d",
     "showTitle": false,
     "title": ""
    }
   },
   "outputs": [
    {
     "output_type": "display_data",
     "data": {
      "text/html": [
       "<style scoped>\n",
       "  .table-result-container {\n",
       "    max-height: 300px;\n",
       "    overflow: auto;\n",
       "  }\n",
       "  table, th, td {\n",
       "    border: 1px solid black;\n",
       "    border-collapse: collapse;\n",
       "  }\n",
       "  th, td {\n",
       "    padding: 5px;\n",
       "  }\n",
       "  th {\n",
       "    text-align: left;\n",
       "  }\n",
       "</style><div class='table-result-container'><table class='table-result'><thead style='background-color: white'><tr><th>pkLocationId</th><th>Country</th><th>Region</th><th>City</th><th>WheelerKey</th></tr></thead><tbody><tr><td>1</td><td>Unknown</td><td>West</td><td>#####</td><td>T</td></tr><tr><td>2</td><td>Unknown</td><td>#####</td><td>AFMDSS</td><td>T</td></tr><tr><td>3</td><td>India</td><td>Unknown</td><td>Ahmedabad</td><td>F</td></tr><tr><td>4</td><td>Unknown</td><td>West</td><td>Ahmedabad</td><td>T</td></tr><tr><td>5</td><td>Unknown</td><td>South</td><td>Bangalore</td><td>T</td></tr><tr><td>6</td><td>India</td><td>Unknown</td><td>Bangalore</td><td>F</td></tr><tr><td>7</td><td>Unknown</td><td>East</td><td>Bhubaneswar</td><td>T</td></tr><tr><td>8</td><td>Unknown</td><td>North</td><td>Chandigarh</td><td>T</td></tr><tr><td>9</td><td>Unknown</td><td>South</td><td>Chennai</td><td>T</td></tr><tr><td>10</td><td>India</td><td>Unknown</td><td>Chennai</td><td>F</td></tr><tr><td>11</td><td>Unknown</td><td>North</td><td>Delhi</td><td>T</td></tr><tr><td>12</td><td>India</td><td>Unknown</td><td>Delhi</td><td>F</td></tr><tr><td>13</td><td>Unknown</td><td>East</td><td>Guwahati</td><td>T</td></tr><tr><td>14</td><td>Unknown</td><td>South</td><td>Hyderabad</td><td>T</td></tr><tr><td>15</td><td>India</td><td>Unknown</td><td>Hyderabad</td><td>F</td></tr><tr><td>16</td><td>Unknown</td><td>North</td><td>Jaipur</td><td>T</td></tr><tr><td>17</td><td>India</td><td>Unknown</td><td>Jaipur</td><td>F</td></tr><tr><td>18</td><td>Unknown</td><td>East</td><td>Kolkata</td><td>T</td></tr><tr><td>19</td><td>India</td><td>Unknown</td><td>Kolkata</td><td>F</td></tr><tr><td>20</td><td>India</td><td>Unknown</td><td>Lucknow</td><td>F</td></tr><tr><td>21</td><td>India</td><td>Unknown</td><td>Mumbai</td><td>F</td></tr><tr><td>22</td><td>Unknown</td><td>West</td><td>Mumbai</td><td>T</td></tr><tr><td>23</td><td>Unknown</td><td>West</td><td>NULL</td><td>T</td></tr><tr><td>24</td><td>Unknown</td><td>West</td><td>NoCity</td><td>T</td></tr><tr><td>25</td><td>India</td><td>Unknown</td><td>Pune</td><td>F</td></tr><tr><td>26</td><td>Unknown</td><td>West</td><td>Pune</td><td>T</td></tr></tbody></table></div>"
      ]
     },
     "metadata": {
      "application/vnd.databricks.v1+output": {
       "addedWidgets": {},
       "aggData": [],
       "aggError": "",
       "aggOverflow": false,
       "aggSchema": [],
       "aggSeriesLimitReached": false,
       "aggType": "",
       "arguments": {},
       "columnCustomDisplayInfos": {},
       "data": [
        [
         1,
         "Unknown",
         "West",
         "#####",
         "T"
        ],
        [
         2,
         "Unknown",
         "#####",
         "AFMDSS",
         "T"
        ],
        [
         3,
         "India",
         "Unknown",
         "Ahmedabad",
         "F"
        ],
        [
         4,
         "Unknown",
         "West",
         "Ahmedabad",
         "T"
        ],
        [
         5,
         "Unknown",
         "South",
         "Bangalore",
         "T"
        ],
        [
         6,
         "India",
         "Unknown",
         "Bangalore",
         "F"
        ],
        [
         7,
         "Unknown",
         "East",
         "Bhubaneswar",
         "T"
        ],
        [
         8,
         "Unknown",
         "North",
         "Chandigarh",
         "T"
        ],
        [
         9,
         "Unknown",
         "South",
         "Chennai",
         "T"
        ],
        [
         10,
         "India",
         "Unknown",
         "Chennai",
         "F"
        ],
        [
         11,
         "Unknown",
         "North",
         "Delhi",
         "T"
        ],
        [
         12,
         "India",
         "Unknown",
         "Delhi",
         "F"
        ],
        [
         13,
         "Unknown",
         "East",
         "Guwahati",
         "T"
        ],
        [
         14,
         "Unknown",
         "South",
         "Hyderabad",
         "T"
        ],
        [
         15,
         "India",
         "Unknown",
         "Hyderabad",
         "F"
        ],
        [
         16,
         "Unknown",
         "North",
         "Jaipur",
         "T"
        ],
        [
         17,
         "India",
         "Unknown",
         "Jaipur",
         "F"
        ],
        [
         18,
         "Unknown",
         "East",
         "Kolkata",
         "T"
        ],
        [
         19,
         "India",
         "Unknown",
         "Kolkata",
         "F"
        ],
        [
         20,
         "India",
         "Unknown",
         "Lucknow",
         "F"
        ],
        [
         21,
         "India",
         "Unknown",
         "Mumbai",
         "F"
        ],
        [
         22,
         "Unknown",
         "West",
         "Mumbai",
         "T"
        ],
        [
         23,
         "Unknown",
         "West",
         "NULL",
         "T"
        ],
        [
         24,
         "Unknown",
         "West",
         "NoCity",
         "T"
        ],
        [
         25,
         "India",
         "Unknown",
         "Pune",
         "F"
        ],
        [
         26,
         "Unknown",
         "West",
         "Pune",
         "T"
        ]
       ],
       "datasetInfos": [],
       "dbfsResultPath": null,
       "isJsonSchema": true,
       "metadata": {},
       "overflow": false,
       "plotOptions": {
        "customPlotOptions": {},
        "displayType": "table",
        "pivotAggregation": null,
        "pivotColumns": null,
        "xColumns": null,
        "yColumns": null
       },
       "removedWidgets": [],
       "schema": [
        {
         "metadata": "{}",
         "name": "pkLocationId",
         "type": "\"long\""
        },
        {
         "metadata": "{}",
         "name": "Country",
         "type": "\"string\""
        },
        {
         "metadata": "{}",
         "name": "Region",
         "type": "\"string\""
        },
        {
         "metadata": "{}",
         "name": "City",
         "type": "\"string\""
        },
        {
         "metadata": "{}",
         "name": "WheelerKey",
         "type": "\"string\""
        }
       ],
       "type": "table"
      }
     },
     "output_type": "display_data"
    }
   ],
   "source": [
    "%sql\n",
    "select * from dev.dimlocation"
   ]
  },
  {
   "cell_type": "code",
   "execution_count": 0,
   "metadata": {
    "application/vnd.databricks.v1+cell": {
     "cellMetadata": {
      "byteLimit": 2048000,
      "rowLimit": 10000
     },
     "inputWidgets": {},
     "nuid": "105c3c8a-3610-44fe-be3b-d62f0193f937",
     "showTitle": false,
     "title": ""
    }
   },
   "outputs": [
    {
     "output_type": "stream",
     "name": "stdout",
     "output_type": "stream",
     "text": [
      "16\n10\n"
     ]
    }
   ],
   "source": [
    "# from pyspark.sql.functions import col, lit\n",
    "\n",
    "# # For DataFrame df1\n",
    "# df1_unique = df1.select('City', 'Region', 'Country').distinct().count()\n",
    "\n",
    "# # For DataFrame df2\n",
    "# df2_unique = df2.select('City', 'Country', 'Region').distinct().count()\n",
    "\n",
    "# # Display unique records\n",
    "# print(df1_unique)\n",
    "\n",
    "\n",
    "# print(df2_unique)\n",
    "\n"
   ]
  },
  {
   "cell_type": "code",
   "execution_count": 0,
   "metadata": {
    "application/vnd.databricks.v1+cell": {
     "cellMetadata": {
      "byteLimit": 2048000,
      "rowLimit": 10000
     },
     "inputWidgets": {},
     "nuid": "6f65cadb-9aad-4bc5-a496-d233842cbf5c",
     "showTitle": false,
     "title": ""
    }
   },
   "outputs": [],
   "source": [
    "# from pyspark.sql.functions import *\n",
    "# from pyspark.sql.types import *\n",
    "# from datetime import datetime \n",
    "\n",
    "# def Location_scd1(path1, path2):\n",
    "\n",
    "#     stg_df_2 = spark.read.format('parquet') \\\n",
    "#                     .option('Header', 'True') \\\n",
    "#                     .load(path1) \\\n",
    "#                     .withColumn('inputfilename', input_file_name()) \\\n",
    "#                     .withColumn('inputfilename',  concat_ws(\"/\", expr(\"slice(split(inputfilename, '/'), 1, 3)\"))) \\\n",
    "#                     .withColumn('wheelerkey', when(col('inputfilename') == 'dbfs:/Silver/2_wheelers', lit('T')).otherwise(lit('F'))) \\\n",
    "#                     .select(col('dealerlocation').alias('City'), col('region').alias('Region'), lit('Unknown').alias('Country'), 'wheelerkey').distinct()\n",
    "\n",
    "\n",
    "#     stg_df_4 = spark.read.format('parquet') \\\n",
    "#                     .option('Header', 'True') \\\n",
    "#                     .load(path2) \\\n",
    "#                     .withColumn('inputfilename', input_file_name()) \\\n",
    "#                     .withColumn('inputfilename',  concat_ws(\"/\", expr(\"slice(split(inputfilename, '/'), 1, 3)\"))) \\\n",
    "#                     .withColumn('wheelerkey', when(col('inputfilename') == 'dbfs:/Silver/4_wheelers', lit('F')).otherwise(lit('T'))) \\\n",
    "#                     .select(col('city').alias('City'), col('country').alias('Country'), lit('Unknown').alias('Region'), 'wheelerkey').distinct()\n",
    "\n",
    "\n",
    "#     # # Load Delta table\n",
    "#     # delta_table = DeltaTable.forPath(spark, \"dbfs:/delta_tables/Dim1\")\n",
    "\n",
    "#     combined_stg = stg_df_2.unionByName(stg_df_4)\n",
    "\n",
    "#     combined_stg.show()\n",
    "\n",
    "#     print(\"read the table\")\n",
    "\n",
    "#     dim_df = spark.sql(\"select * from dev.dimlocation \")\n",
    "#     print(dim_df.printSchema())\n",
    "#     # Cast the \"City\" column to StringType in dim_df\n",
    "#     dim_df = dim_df.withColumn(\"City\", dim_df[\"City\"].cast(StringType()))\n",
    "\n",
    "#     dim_df.show()\n",
    "#     print(\"check for new and updated records...\")\n",
    "#     new_records = combined_stg.join(dim_df, 'City', 'left_anti')\n",
    "#     new_records.show()\n",
    "\n",
    "#     print(\"check for matched records\")\n",
    "\n",
    "#     matched_records = combined_stg.join(dim_df,  combined_stg['city']==dim_df['City'], 'inner').select(dim_df['*'])\n",
    "\n",
    "#     matched_records.show()\n",
    "\n",
    "#     print(\"final_df\")\n",
    "\n",
    "#     final_df = matched_records.drop('pkLocationId').unionByName(new_records)\n",
    "\n",
    "#     final_df.show()\n",
    "\n",
    "\n",
    "#     final_df.write.mode('overwrite').saveAsTable('dev.dimlocation')\n",
    "\n",
    "#     # final_df1 = final_df.fillna('India', subset=['Country'])\n",
    "#     # final_df1.show()\n",
    "\n",
    "#     print('success')\n",
    "\n",
    "\n",
    "\n",
    "    "
   ]
  },
  {
   "cell_type": "code",
   "execution_count": 0,
   "metadata": {
    "application/vnd.databricks.v1+cell": {
     "cellMetadata": {
      "byteLimit": 2048000,
      "rowLimit": 10000
     },
     "inputWidgets": {},
     "nuid": "c9749c61-3c3e-42ad-9ff9-112a97d819d6",
     "showTitle": false,
     "title": ""
    }
   },
   "outputs": [
    {
     "output_type": "stream",
     "name": "stdout",
     "output_type": "stream",
     "text": [
      "+-----------+-------+-------+----------+\n|       City| Region|Country|wheelerkey|\n+-----------+-------+-------+----------+\n|     NoCity|   West|Unknown|         T|\n|    Kolkata|   East|Unknown|         T|\n|  Ahmedabad|   West|Unknown|         T|\n|       NULL|   West|Unknown|         T|\n|    Chennai|  South|Unknown|         T|\n|   Guwahati|   East|Unknown|         T|\n| Chandigarh|  North|Unknown|         T|\n|      #####|   West|Unknown|         T|\n|  Hyderabad|  South|Unknown|         T|\n|     Mumbai|   West|Unknown|         T|\n|  Bangalore|  South|Unknown|         T|\n|Bhubaneswar|   East|Unknown|         T|\n|     Jaipur|  North|Unknown|         T|\n|       Pune|   West|Unknown|         T|\n|     AFMDSS|  #####|Unknown|         T|\n|      Delhi|  North|Unknown|         T|\n|  Ahmedabad|Unknown|  India|         F|\n|      Delhi|Unknown|  India|         F|\n|     Jaipur|Unknown|  India|         F|\n|    Lucknow|Unknown|  India|         F|\n+-----------+-------+-------+----------+\nonly showing top 20 rows\n\nread the table\nroot\n |-- pkLocationId: long (nullable = true)\n |-- Country: string (nullable = true)\n |-- Region: string (nullable = true)\n |-- City: string (nullable = true)\n |-- WheelerKey: string (nullable = true)\n\nNone\n+------------+-------+------+----+----------+\n|pkLocationId|Country|Region|City|WheelerKey|\n+------------+-------+------+----+----------+\n+------------+-------+------+----+----------+\n\ncheck for new and updated records...\n+-----------+-------+-------+----------+\n|       City| Region|Country|wheelerkey|\n+-----------+-------+-------+----------+\n|     NoCity|   West|Unknown|         T|\n|    Kolkata|   East|Unknown|         T|\n|  Ahmedabad|   West|Unknown|         T|\n|       NULL|   West|Unknown|         T|\n|    Chennai|  South|Unknown|         T|\n|   Guwahati|   East|Unknown|         T|\n| Chandigarh|  North|Unknown|         T|\n|      #####|   West|Unknown|         T|\n|  Hyderabad|  South|Unknown|         T|\n|     Mumbai|   West|Unknown|         T|\n|  Bangalore|  South|Unknown|         T|\n|Bhubaneswar|   East|Unknown|         T|\n|     Jaipur|  North|Unknown|         T|\n|       Pune|   West|Unknown|         T|\n|     AFMDSS|  #####|Unknown|         T|\n|      Delhi|  North|Unknown|         T|\n|  Ahmedabad|Unknown|  India|         F|\n|      Delhi|Unknown|  India|         F|\n|     Jaipur|Unknown|  India|         F|\n|    Lucknow|Unknown|  India|         F|\n+-----------+-------+-------+----------+\nonly showing top 20 rows\n\ncheck for matched records\n+------------+-------+------+----+----------+\n|pkLocationId|Country|Region|City|WheelerKey|\n+------------+-------+------+----+----------+\n+------------+-------+------+----+----------+\n\nfinal_df\n+-------+-------+-----------+----------+\n|Country| Region|       City|WheelerKey|\n+-------+-------+-----------+----------+\n|Unknown|   West|     NoCity|         T|\n|Unknown|   East|    Kolkata|         T|\n|Unknown|   West|  Ahmedabad|         T|\n|Unknown|   West|       NULL|         T|\n|Unknown|  South|    Chennai|         T|\n|Unknown|   East|   Guwahati|         T|\n|Unknown|  North| Chandigarh|         T|\n|Unknown|   West|      #####|         T|\n|Unknown|  South|  Hyderabad|         T|\n|Unknown|   West|     Mumbai|         T|\n|Unknown|  South|  Bangalore|         T|\n|Unknown|   East|Bhubaneswar|         T|\n|Unknown|  North|     Jaipur|         T|\n|Unknown|   West|       Pune|         T|\n|Unknown|  #####|     AFMDSS|         T|\n|Unknown|  North|      Delhi|         T|\n|  India|Unknown|  Ahmedabad|         F|\n|  India|Unknown|      Delhi|         F|\n|  India|Unknown|     Jaipur|         F|\n|  India|Unknown|    Lucknow|         F|\n+-------+-------+-----------+----------+\nonly showing top 20 rows\n\nsuccess\n"
     ]
    }
   ],
   "source": [
    "Location_scd1(parquet_file_path1, parquet_file_path2)"
   ]
  },
  {
   "cell_type": "code",
   "execution_count": 0,
   "metadata": {
    "application/vnd.databricks.v1+cell": {
     "cellMetadata": {
      "byteLimit": 2048000,
      "implicitDf": true,
      "rowLimit": 10000
     },
     "inputWidgets": {},
     "nuid": "d7771fc8-ffb7-4db8-83ea-31b4ef435d41",
     "showTitle": false,
     "title": ""
    }
   },
   "outputs": [
    {
     "output_type": "display_data",
     "data": {
      "text/html": [
       "<style scoped>\n",
       "  .table-result-container {\n",
       "    max-height: 300px;\n",
       "    overflow: auto;\n",
       "  }\n",
       "  table, th, td {\n",
       "    border: 1px solid black;\n",
       "    border-collapse: collapse;\n",
       "  }\n",
       "  th, td {\n",
       "    padding: 5px;\n",
       "  }\n",
       "  th {\n",
       "    text-align: left;\n",
       "  }\n",
       "</style><div class='table-result-container'><table class='table-result'><thead style='background-color: white'><tr><th>pkLocationId</th><th>Country</th><th>Region</th><th>City</th><th>WheelerKey</th></tr></thead><tbody><tr><td>1</td><td>Unknown</td><td>West</td><td>NoCity</td><td>T</td></tr><tr><td>3</td><td>Unknown</td><td>East</td><td>Kolkata</td><td>T</td></tr><tr><td>5</td><td>Unknown</td><td>West</td><td>Ahmedabad</td><td>T</td></tr><tr><td>7</td><td>Unknown</td><td>West</td><td>NULL</td><td>T</td></tr><tr><td>9</td><td>Unknown</td><td>South</td><td>Chennai</td><td>T</td></tr><tr><td>11</td><td>Unknown</td><td>East</td><td>Guwahati</td><td>T</td></tr><tr><td>13</td><td>Unknown</td><td>North</td><td>Chandigarh</td><td>T</td></tr><tr><td>15</td><td>Unknown</td><td>West</td><td>#####</td><td>T</td></tr><tr><td>17</td><td>Unknown</td><td>South</td><td>Hyderabad</td><td>T</td></tr><tr><td>19</td><td>Unknown</td><td>West</td><td>Mumbai</td><td>T</td></tr><tr><td>21</td><td>Unknown</td><td>South</td><td>Bangalore</td><td>T</td></tr><tr><td>23</td><td>Unknown</td><td>East</td><td>Bhubaneswar</td><td>T</td></tr><tr><td>25</td><td>Unknown</td><td>North</td><td>Jaipur</td><td>T</td></tr><tr><td>27</td><td>Unknown</td><td>West</td><td>Pune</td><td>T</td></tr><tr><td>29</td><td>Unknown</td><td>#####</td><td>AFMDSS</td><td>T</td></tr><tr><td>31</td><td>Unknown</td><td>North</td><td>Delhi</td><td>T</td></tr><tr><td>2</td><td>India</td><td>Unknown</td><td>Ahmedabad</td><td>F</td></tr><tr><td>4</td><td>India</td><td>Unknown</td><td>Delhi</td><td>F</td></tr><tr><td>6</td><td>India</td><td>Unknown</td><td>Jaipur</td><td>F</td></tr><tr><td>8</td><td>India</td><td>Unknown</td><td>Lucknow</td><td>F</td></tr><tr><td>10</td><td>India</td><td>Unknown</td><td>Mumbai</td><td>F</td></tr><tr><td>12</td><td>India</td><td>Unknown</td><td>Hyderabad</td><td>F</td></tr><tr><td>14</td><td>India</td><td>Unknown</td><td>Bangalore</td><td>F</td></tr><tr><td>16</td><td>India</td><td>Unknown</td><td>Pune</td><td>F</td></tr><tr><td>18</td><td>India</td><td>Unknown</td><td>Kolkata</td><td>F</td></tr><tr><td>20</td><td>India</td><td>Unknown</td><td>Chennai</td><td>F</td></tr></tbody></table></div>"
      ]
     },
     "metadata": {
      "application/vnd.databricks.v1+output": {
       "addedWidgets": {},
       "aggData": [],
       "aggError": "",
       "aggOverflow": false,
       "aggSchema": [],
       "aggSeriesLimitReached": false,
       "aggType": "",
       "arguments": {},
       "columnCustomDisplayInfos": {},
       "data": [
        [
         1,
         "Unknown",
         "West",
         "NoCity",
         "T"
        ],
        [
         3,
         "Unknown",
         "East",
         "Kolkata",
         "T"
        ],
        [
         5,
         "Unknown",
         "West",
         "Ahmedabad",
         "T"
        ],
        [
         7,
         "Unknown",
         "West",
         "NULL",
         "T"
        ],
        [
         9,
         "Unknown",
         "South",
         "Chennai",
         "T"
        ],
        [
         11,
         "Unknown",
         "East",
         "Guwahati",
         "T"
        ],
        [
         13,
         "Unknown",
         "North",
         "Chandigarh",
         "T"
        ],
        [
         15,
         "Unknown",
         "West",
         "#####",
         "T"
        ],
        [
         17,
         "Unknown",
         "South",
         "Hyderabad",
         "T"
        ],
        [
         19,
         "Unknown",
         "West",
         "Mumbai",
         "T"
        ],
        [
         21,
         "Unknown",
         "South",
         "Bangalore",
         "T"
        ],
        [
         23,
         "Unknown",
         "East",
         "Bhubaneswar",
         "T"
        ],
        [
         25,
         "Unknown",
         "North",
         "Jaipur",
         "T"
        ],
        [
         27,
         "Unknown",
         "West",
         "Pune",
         "T"
        ],
        [
         29,
         "Unknown",
         "#####",
         "AFMDSS",
         "T"
        ],
        [
         31,
         "Unknown",
         "North",
         "Delhi",
         "T"
        ],
        [
         2,
         "India",
         "Unknown",
         "Ahmedabad",
         "F"
        ],
        [
         4,
         "India",
         "Unknown",
         "Delhi",
         "F"
        ],
        [
         6,
         "India",
         "Unknown",
         "Jaipur",
         "F"
        ],
        [
         8,
         "India",
         "Unknown",
         "Lucknow",
         "F"
        ],
        [
         10,
         "India",
         "Unknown",
         "Mumbai",
         "F"
        ],
        [
         12,
         "India",
         "Unknown",
         "Hyderabad",
         "F"
        ],
        [
         14,
         "India",
         "Unknown",
         "Bangalore",
         "F"
        ],
        [
         16,
         "India",
         "Unknown",
         "Pune",
         "F"
        ],
        [
         18,
         "India",
         "Unknown",
         "Kolkata",
         "F"
        ],
        [
         20,
         "India",
         "Unknown",
         "Chennai",
         "F"
        ]
       ],
       "datasetInfos": [],
       "dbfsResultPath": null,
       "isJsonSchema": true,
       "metadata": {},
       "overflow": false,
       "plotOptions": {
        "customPlotOptions": {},
        "displayType": "table",
        "pivotAggregation": null,
        "pivotColumns": null,
        "xColumns": null,
        "yColumns": null
       },
       "removedWidgets": [],
       "schema": [
        {
         "metadata": "{}",
         "name": "pkLocationId",
         "type": "\"long\""
        },
        {
         "metadata": "{}",
         "name": "Country",
         "type": "\"string\""
        },
        {
         "metadata": "{}",
         "name": "Region",
         "type": "\"string\""
        },
        {
         "metadata": "{}",
         "name": "City",
         "type": "\"string\""
        },
        {
         "metadata": "{}",
         "name": "WheelerKey",
         "type": "\"string\""
        }
       ],
       "type": "table"
      }
     },
     "output_type": "display_data"
    }
   ],
   "source": [
    "%sql\n",
    "select * from dev.dimlocation"
   ]
  },
  {
   "cell_type": "code",
   "execution_count": 0,
   "metadata": {
    "application/vnd.databricks.v1+cell": {
     "cellMetadata": {
      "byteLimit": 2048000,
      "rowLimit": 10000
     },
     "inputWidgets": {},
     "nuid": "d29aa95b-7f75-4177-9432-e281132698df",
     "showTitle": false,
     "title": ""
    }
   },
   "outputs": [],
   "source": []
  }
 ],
 "metadata": {
  "application/vnd.databricks.v1+notebook": {
   "dashboards": [],
   "language": "python",
   "notebookMetadata": {
    "mostRecentlyExecutedCommandWithImplicitDF": {
     "commandId": 336972736029715,
     "dataframes": [
      "_sqldf"
     ]
    },
    "pythonIndentUnit": 4
   },
   "notebookName": "nb_DimLocation",
   "widgets": {}
  }
 },
 "nbformat": 4,
 "nbformat_minor": 0
}
