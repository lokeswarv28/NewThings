{
 "cells": [
  {
   "cell_type": "code",
   "execution_count": 0,
   "metadata": {
    "application/vnd.databricks.v1+cell": {
     "cellMetadata": {
      "byteLimit": 2048000,
      "implicitDf": true,
      "rowLimit": 10000
     },
     "inputWidgets": {},
     "nuid": "c3b063e4-cc02-4ccb-b02f-da578c9cb841",
     "showTitle": false,
     "title": ""
    }
   },
   "outputs": [
    {
     "output_type": "display_data",
     "data": {
      "text/html": [
       "<style scoped>\n",
       "  .table-result-container {\n",
       "    max-height: 300px;\n",
       "    overflow: auto;\n",
       "  }\n",
       "  table, th, td {\n",
       "    border: 1px solid black;\n",
       "    border-collapse: collapse;\n",
       "  }\n",
       "  th, td {\n",
       "    padding: 5px;\n",
       "  }\n",
       "  th {\n",
       "    text-align: left;\n",
       "  }\n",
       "</style><div class='table-result-container'><table class='table-result'><thead style='background-color: white'><tr><th>DateId</th><th>Year</th><th>MonthName</th></tr></thead><tbody></tbody></table></div>"
      ]
     },
     "metadata": {
      "application/vnd.databricks.v1+output": {
       "addedWidgets": {},
       "aggData": [],
       "aggError": "",
       "aggOverflow": false,
       "aggSchema": [],
       "aggSeriesLimitReached": false,
       "aggType": "",
       "arguments": {},
       "columnCustomDisplayInfos": {},
       "data": [],
       "datasetInfos": [],
       "dbfsResultPath": null,
       "isJsonSchema": true,
       "metadata": {},
       "overflow": false,
       "plotOptions": {
        "customPlotOptions": {},
        "displayType": "table",
        "pivotAggregation": null,
        "pivotColumns": null,
        "xColumns": null,
        "yColumns": null
       },
       "removedWidgets": [],
       "schema": [
        {
         "metadata": "{}",
         "name": "DateId",
         "type": "\"long\""
        },
        {
         "metadata": "{}",
         "name": "Year",
         "type": "\"string\""
        },
        {
         "metadata": "{}",
         "name": "MonthName",
         "type": "\"string\""
        }
       ],
       "type": "table"
      }
     },
     "output_type": "display_data"
    }
   ],
   "source": [
    "%sql\n",
    "select * from dev.dimdate\n"
   ]
  },
  {
   "cell_type": "code",
   "execution_count": 0,
   "metadata": {
    "application/vnd.databricks.v1+cell": {
     "cellMetadata": {
      "byteLimit": 2048000,
      "rowLimit": 10000
     },
     "inputWidgets": {},
     "nuid": "38e995f7-5bee-4c37-9667-c4a46e49b109",
     "showTitle": false,
     "title": ""
    }
   },
   "outputs": [],
   "source": [
    "from datetime import datetime \n",
    "from pyspark.sql.functions import input_file_name, substring_index\n",
    "\n",
    "parquet_file_path1 = \"dbfs:/Silver/2_wheelers/202403/29/*.parquet\"\n",
    "parquet_file_path2 = \"dbfs:/Silver/4_wheelers/202403/29/*.parquet\"\n",
    "\n",
    "\n",
    "\n",
    "\n"
   ]
  },
  {
   "cell_type": "code",
   "execution_count": 0,
   "metadata": {
    "application/vnd.databricks.v1+cell": {
     "cellMetadata": {
      "byteLimit": 2048000,
      "rowLimit": 10000
     },
     "inputWidgets": {},
     "nuid": "0b85d23f-7305-42d7-8fbb-3c319f131f24",
     "showTitle": false,
     "title": ""
    }
   },
   "outputs": [
    {
     "output_type": "stream",
     "name": "stdout",
     "output_type": "stream",
     "text": [
      "combined_count : 116786\ncombined_distinct : 34\n+-------------+----------+\n|    BrandName|WheelerKey|\n+-------------+----------+\n|          TVS|         T|\n|       Yamaha|         T|\n|      Piaggio|         T|\n|        Honda|         T|\n|      Okinawa|         T|\n|Royal Enfield|         T|\n|Hero MotoCorp|         T|\n|        Bajaj|         T|\n|       Jaguar|         F|\n|Mercedes Benz|         F|\n|          BMW|         F|\n|         Audi|         F|\n|        Lexus|         F|\n|      Ferrari|         F|\n|  Rolls Royce|         F|\n|     Maserati|         F|\n|  Lamborghini|         F|\n|      Porsche|         F|\n|        Volvo|         F|\n|        Honda|         F|\n+-------------+----------+\nonly showing top 20 rows\n\ndim_df show...\n+---------+---------+----------+\n|pkBrandId|BrandName|WheelerKey|\n+---------+---------+----------+\n+---------+---------+----------+\n\ncheck for new records...\n+-------------+----------+\n|    BrandName|WheelerKey|\n+-------------+----------+\n|          TVS|         T|\n|       Yamaha|         T|\n|      Piaggio|         T|\n|        Honda|         T|\n|      Okinawa|         T|\n|Royal Enfield|         T|\n|Hero MotoCorp|         T|\n|        Bajaj|         T|\n|       Jaguar|         F|\n|Mercedes Benz|         F|\n|          BMW|         F|\n|         Audi|         F|\n|        Lexus|         F|\n|      Ferrari|         F|\n|  Rolls Royce|         F|\n|     Maserati|         F|\n|  Lamborghini|         F|\n|      Porsche|         F|\n|        Volvo|         F|\n|        Honda|         F|\n+-------------+----------+\nonly showing top 20 rows\n\nmatching from src to target \n+---------+---------+----------+\n|pkBrandId|BrandName|WheelerKey|\n+---------+---------+----------+\n+---------+---------+----------+\n\ncombined....\ncombined_records df count: 34\n+-------------+----------+\n|    BrandName|WheelerKey|\n+-------------+----------+\n|          TVS|         T|\n|       Yamaha|         T|\n|      Piaggio|         T|\n|        Honda|         T|\n|      Okinawa|         T|\n|Royal Enfield|         T|\n|Hero MotoCorp|         T|\n|        Bajaj|         T|\n|       Jaguar|         F|\n|Mercedes Benz|         F|\n|          BMW|         F|\n|         Audi|         F|\n|        Lexus|         F|\n|      Ferrari|         F|\n|  Rolls Royce|         F|\n|     Maserati|         F|\n|  Lamborghini|         F|\n|      Porsche|         F|\n|        Volvo|         F|\n|        Honda|         F|\n+-------------+----------+\nonly showing top 20 rows\n\nsuccess\n"
     ]
    }
   ],
   "source": [
    "#nnnn\n",
    "from pyspark.sql.functions import col, input_file_name, lit, when, split, regexp_replace\n",
    "import pyspark.sql.functions as F\n",
    "\n",
    "stg_df_1 = spark.read.format('parquet').option('Header', 'True').option('inferSchema', 'True').load(parquet_file_path1) \\\n",
    "    .withColumn('inputfilename', input_file_name()).withColumn('inputfilename', split(F.col('inputfilename'), '/').getItem(2)).withColumn('WheelerKey', when(F.col('inputfilename') == '2-WheelSales', lit('F')).otherwise(lit('T'))).select(F.col('brand').alias('BrandName'), F.col('WheelerKey'))\n",
    "\n",
    "\n",
    "stg_df_2 =  spark.read.format('parquet').option('Header', 'True').option('inferSchema', 'True').load(parquet_file_path2) \\\n",
    "    .withColumn('inputfilename', input_file_name()).withColumn('inputfilename', split(col('inputfilename'), '/').getItem(2)).withColumn('WheelerKey', when(F.col('inputfilename') == '4-WheelSales', lit('T')).otherwise(lit('F'))).select(F.col('Brand').alias('BrandName'), F.col('WheelerKey'))\n",
    "\n",
    "combined_stg = stg_df_1.unionByName(stg_df_2)\n",
    "print(\"combined_count :\", combined_stg.count())\n",
    "pattern = \" \"\n",
    "# combined_stg = combined_stg.withColumn(\"BrandName\", regexp_replace(col(\"BrandName\"), pattern, \"\")).dropDuplicates(['BrandName', 'WheelerKey'])\n",
    "combined_stg = combined_stg.dropDuplicates(['BrandName', 'WheelerKey'])\n",
    "\n",
    "print(\"combined_distinct :\" ,combined_stg.count())\n",
    "combined_stg.show()\n",
    "\n",
    "dim_df = spark.sql(\"\"\"SELECT * FROM  dev.dimbrand\"\"\")\n",
    "print('dim_df show...')\n",
    "dim_df.show()\n",
    "print(\"check for new records...\")\n",
    "\n",
    "new_records = combined_stg.join(dim_df, 'BrandName', 'left_anti')\n",
    "new_records.show()\n",
    "\n",
    "updated_records = combined_stg.join(dim_df, combined_stg['BrandName'] == dim_df['BrandName'], 'inner').select(dim_df['*'])\n",
    "\n",
    "print(\"matching from src to target \")\n",
    "updated_records.show()\n",
    "\n",
    "combined_records = new_records.unionByName(updated_records.drop('pkBrandId'))\n",
    "\n",
    "print('combined....')\n",
    "combined_records = combined_records.dropDuplicates(['BrandName', 'WheelerKey'])\n",
    "print('combined_records df count:', combined_records.count())\n",
    "combined_records.show()\n",
    "\n",
    "combined_records.write.mode('overwrite').saveAsTable(\"dev.dimbrand\")\n",
    "print(\"success\") "
   ]
  },
  {
   "cell_type": "code",
   "execution_count": 0,
   "metadata": {
    "application/vnd.databricks.v1+cell": {
     "cellMetadata": {
      "byteLimit": 2048000,
      "implicitDf": true,
      "rowLimit": 10000
     },
     "inputWidgets": {},
     "nuid": "c73dcf90-4f1d-44d0-91c6-dc3b15e5b004",
     "showTitle": false,
     "title": ""
    }
   },
   "outputs": [
    {
     "output_type": "display_data",
     "data": {
      "text/html": [
       "<style scoped>\n",
       "  .table-result-container {\n",
       "    max-height: 300px;\n",
       "    overflow: auto;\n",
       "  }\n",
       "  table, th, td {\n",
       "    border: 1px solid black;\n",
       "    border-collapse: collapse;\n",
       "  }\n",
       "  th, td {\n",
       "    padding: 5px;\n",
       "  }\n",
       "  th {\n",
       "    text-align: left;\n",
       "  }\n",
       "</style><div class='table-result-container'><table class='table-result'><thead style='background-color: white'><tr><th>pkBrandId</th><th>BrandName</th><th>WheelerKey</th></tr></thead><tbody><tr><td>1</td><td>TVS</td><td>T</td></tr><tr><td>2</td><td>Yamaha</td><td>T</td></tr><tr><td>3</td><td>Piaggio</td><td>T</td></tr><tr><td>4</td><td>Honda</td><td>T</td></tr><tr><td>5</td><td>Okinawa</td><td>T</td></tr><tr><td>6</td><td>Royal Enfield</td><td>T</td></tr><tr><td>7</td><td>Hero MotoCorp</td><td>T</td></tr><tr><td>8</td><td>Bajaj</td><td>T</td></tr><tr><td>9</td><td>Jaguar</td><td>F</td></tr><tr><td>10</td><td>Mercedes Benz</td><td>F</td></tr><tr><td>11</td><td>BMW</td><td>F</td></tr><tr><td>12</td><td>Audi</td><td>F</td></tr><tr><td>13</td><td>Lexus</td><td>F</td></tr><tr><td>14</td><td>Ferrari</td><td>F</td></tr><tr><td>15</td><td>Rolls Royce</td><td>F</td></tr><tr><td>16</td><td>Maserati</td><td>F</td></tr><tr><td>17</td><td>Lamborghini</td><td>F</td></tr><tr><td>18</td><td>Porsche</td><td>F</td></tr><tr><td>19</td><td>Volvo</td><td>F</td></tr><tr><td>20</td><td>Honda</td><td>F</td></tr><tr><td>21</td><td>Hyundai</td><td>F</td></tr><tr><td>22</td><td>Volkswagen</td><td>F</td></tr><tr><td>23</td><td>Jeep</td><td>F</td></tr><tr><td>24</td><td>Toyota</td><td>F</td></tr><tr><td>25</td><td>Tata</td><td>F</td></tr><tr><td>26</td><td>MINI Cooper</td><td>F</td></tr><tr><td>27</td><td>MG</td><td>F</td></tr><tr><td>28</td><td>Kia</td><td>F</td></tr><tr><td>29</td><td>Bentley</td><td>F</td></tr><tr><td>30</td><td>Renault</td><td>F</td></tr><tr><td>31</td><td>Nissan</td><td>F</td></tr><tr><td>32</td><td>Datsun</td><td>F</td></tr><tr><td>33</td><td>Mahindra</td><td>F</td></tr><tr><td>34</td><td>Citroen</td><td>F</td></tr></tbody></table></div>"
      ]
     },
     "metadata": {
      "application/vnd.databricks.v1+output": {
       "addedWidgets": {},
       "aggData": [],
       "aggError": "",
       "aggOverflow": false,
       "aggSchema": [],
       "aggSeriesLimitReached": false,
       "aggType": "",
       "arguments": {},
       "columnCustomDisplayInfos": {},
       "data": [
        [
         1,
         "TVS",
         "T"
        ],
        [
         2,
         "Yamaha",
         "T"
        ],
        [
         3,
         "Piaggio",
         "T"
        ],
        [
         4,
         "Honda",
         "T"
        ],
        [
         5,
         "Okinawa",
         "T"
        ],
        [
         6,
         "Royal Enfield",
         "T"
        ],
        [
         7,
         "Hero MotoCorp",
         "T"
        ],
        [
         8,
         "Bajaj",
         "T"
        ],
        [
         9,
         "Jaguar",
         "F"
        ],
        [
         10,
         "Mercedes Benz",
         "F"
        ],
        [
         11,
         "BMW",
         "F"
        ],
        [
         12,
         "Audi",
         "F"
        ],
        [
         13,
         "Lexus",
         "F"
        ],
        [
         14,
         "Ferrari",
         "F"
        ],
        [
         15,
         "Rolls Royce",
         "F"
        ],
        [
         16,
         "Maserati",
         "F"
        ],
        [
         17,
         "Lamborghini",
         "F"
        ],
        [
         18,
         "Porsche",
         "F"
        ],
        [
         19,
         "Volvo",
         "F"
        ],
        [
         20,
         "Honda",
         "F"
        ],
        [
         21,
         "Hyundai",
         "F"
        ],
        [
         22,
         "Volkswagen",
         "F"
        ],
        [
         23,
         "Jeep",
         "F"
        ],
        [
         24,
         "Toyota",
         "F"
        ],
        [
         25,
         "Tata",
         "F"
        ],
        [
         26,
         "MINI Cooper",
         "F"
        ],
        [
         27,
         "MG",
         "F"
        ],
        [
         28,
         "Kia",
         "F"
        ],
        [
         29,
         "Bentley",
         "F"
        ],
        [
         30,
         "Renault",
         "F"
        ],
        [
         31,
         "Nissan",
         "F"
        ],
        [
         32,
         "Datsun",
         "F"
        ],
        [
         33,
         "Mahindra",
         "F"
        ],
        [
         34,
         "Citroen",
         "F"
        ]
       ],
       "datasetInfos": [],
       "dbfsResultPath": null,
       "isJsonSchema": true,
       "metadata": {},
       "overflow": false,
       "plotOptions": {
        "customPlotOptions": {},
        "displayType": "table",
        "pivotAggregation": null,
        "pivotColumns": null,
        "xColumns": null,
        "yColumns": null
       },
       "removedWidgets": [],
       "schema": [
        {
         "metadata": "{}",
         "name": "pkBrandId",
         "type": "\"long\""
        },
        {
         "metadata": "{}",
         "name": "BrandName",
         "type": "\"string\""
        },
        {
         "metadata": "{}",
         "name": "WheelerKey",
         "type": "\"string\""
        }
       ],
       "type": "table"
      }
     },
     "output_type": "display_data"
    }
   ],
   "source": [
    "%sql\n",
    "select * from dev.dimbrand"
   ]
  },
  {
   "cell_type": "code",
   "execution_count": 0,
   "metadata": {
    "application/vnd.databricks.v1+cell": {
     "cellMetadata": {
      "byteLimit": 2048000,
      "implicitDf": true,
      "rowLimit": 10000
     },
     "inputWidgets": {},
     "nuid": "c6d8a95a-1633-4166-a9a2-869458887064",
     "showTitle": false,
     "title": ""
    }
   },
   "outputs": [
    {
     "output_type": "display_data",
     "data": {
      "text/html": [
       "<style scoped>\n",
       "  .table-result-container {\n",
       "    max-height: 300px;\n",
       "    overflow: auto;\n",
       "  }\n",
       "  table, th, td {\n",
       "    border: 1px solid black;\n",
       "    border-collapse: collapse;\n",
       "  }\n",
       "  th, td {\n",
       "    padding: 5px;\n",
       "  }\n",
       "  th {\n",
       "    text-align: left;\n",
       "  }\n",
       "</style><div class='table-result-container'><table class='table-result'><thead style='background-color: white'><tr></tr></thead><tbody></tbody></table></div>"
      ]
     },
     "metadata": {
      "application/vnd.databricks.v1+output": {
       "addedWidgets": {},
       "aggData": [],
       "aggError": "",
       "aggOverflow": false,
       "aggSchema": [],
       "aggSeriesLimitReached": false,
       "aggType": "",
       "arguments": {},
       "columnCustomDisplayInfos": {},
       "data": [],
       "datasetInfos": [],
       "dbfsResultPath": null,
       "isJsonSchema": true,
       "metadata": {},
       "overflow": false,
       "plotOptions": {
        "customPlotOptions": {},
        "displayType": "table",
        "pivotAggregation": null,
        "pivotColumns": null,
        "xColumns": null,
        "yColumns": null
       },
       "removedWidgets": [],
       "schema": [],
       "type": "table"
      }
     },
     "output_type": "display_data"
    }
   ],
   "source": [
    "%sql\n",
    "truncate table dev.dimbrand"
   ]
  },
  {
   "cell_type": "code",
   "execution_count": 0,
   "metadata": {
    "application/vnd.databricks.v1+cell": {
     "cellMetadata": {
      "byteLimit": 2048000,
      "rowLimit": 10000
     },
     "inputWidgets": {},
     "nuid": "13d766f4-94db-49d5-a12a-957dda64c985",
     "showTitle": false,
     "title": ""
    }
   },
   "outputs": [],
   "source": [
    "# from pyspark.sql.functions import *\n",
    "# from pyspark.sql.types import *\n",
    "# from datetime import datetime \n",
    "\n",
    "# def Brand_scd1(path1, path2):\n",
    "#     # Read data from Parquet files and add necessary columns\n",
    "#     stg_df_2 = spark.read.format('parquet') \\\n",
    "#                     .option('Header', 'True') \\\n",
    "#                     .load(path1) \\\n",
    "#                     .withColumn('inputfilename', input_file_name()) \\\n",
    "#                     .withColumn('inputfilename',  concat_ws(\"/\", expr(\"slice(split(inputfilename, '/'), 1, 3)\"))) \\\n",
    "#                     .withColumn('wheelerkey', when(col('inputfilename') == 'dbfs:/Silver/2_wheelers', lit('T')).otherwise(lit('F'))) \\\n",
    "#                     .select(col('Brand').alias('BrandName'), 'wheelerkey').distinct()\n",
    "\n",
    "#     stg_df_4 = spark.read.format('parquet') \\\n",
    "#                     .option('Header', 'True') \\\n",
    "#                     .load(path2) \\\n",
    "#                     .withColumn('inputfilename', input_file_name()) \\\n",
    "#                     .withColumn('inputfilename',  concat_ws(\"/\", expr(\"slice(split(inputfilename, '/'), 1, 3)\"))) \\\n",
    "#                     .withColumn('wheelerkey', when(col('inputfilename') == 'dbfs:/Silver/4_wheelers', lit('F')).otherwise(lit('T'))) \\\n",
    "#                     .select(col('Brand').alias('BrandName'), 'wheelerkey').distinct()\n",
    "\n",
    "#     # # Load Delta table\n",
    "#     # delta_table = DeltaTable.forPath(spark, \"dbfs:/delta_tables/Dim1\")\n",
    "\n",
    "#     combined_stg = stg_df_2.unionByName(stg_df_4)\n",
    "\n",
    "#     # combined_stg.show()\n",
    "\n",
    "#     print(\"read the table\")\n",
    "\n",
    "#     dim_df = spark.sql(\"select * from dev.dimbrand\")\n",
    "\n",
    "#     # dim_df.show()\n",
    "#     print(\"check for new and updated records...\")\n",
    "#     new_records = combined_stg.join(dim_df, 'BrandName', 'left_anti')\n",
    "#     new_records.show()\n",
    "\n",
    "#     print(\"check for matched records\")\n",
    "\n",
    "#     matched_records = combined_stg.join(dim_df,  combined_stg['BrandName']==dim_df['BrandName'], 'inner').select(combined_stg['*'])\n",
    "\n",
    "#     matched_records.show()\n",
    "\n",
    "#     print(\"final_df\")\n",
    "\n",
    "#     final_df = matched_records.drop('pkBrandId').unionByName(new_records)\n",
    "\n",
    "#     # final_df.show()\n",
    "\n",
    "#     final_df.write.mode('overwrite').saveAsTable('dev.dimbrand')\n",
    "\n",
    "#     print('success')\n",
    "\n",
    "\n",
    "    "
   ]
  },
  {
   "cell_type": "code",
   "execution_count": 0,
   "metadata": {
    "application/vnd.databricks.v1+cell": {
     "cellMetadata": {
      "byteLimit": 2048000,
      "rowLimit": 10000
     },
     "inputWidgets": {},
     "nuid": "7f07a707-3509-4ed1-a4cc-9174c07f473b",
     "showTitle": false,
     "title": ""
    }
   },
   "outputs": [
    {
     "output_type": "stream",
     "name": "stdout",
     "output_type": "stream",
     "text": [
      "read the table\ncheck for new and updated records...\n+-------------+----------+\n|    BrandName|wheelerkey|\n+-------------+----------+\n|          TVS|         T|\n|       Yamaha|         T|\n|      Piaggio|         T|\n|        Honda|         T|\n|      Okinawa|         T|\n|Royal Enfield|         T|\n|Hero MotoCorp|         T|\n|        Bajaj|         T|\n|          TVS|         T|\n|       Yamaha|         T|\n|      Piaggio|         T|\n|        Honda|         T|\n|      Okinawa|         T|\n|Royal Enfield|         T|\n|Hero MotoCorp|         T|\n|        Bajaj|         T|\n+-------------+----------+\n\ncheck for matched records\n+---------+----------+\n|BrandName|wheelerkey|\n+---------+----------+\n+---------+----------+\n\nfinal_df\nsuccess\n"
     ]
    }
   ],
   "source": [
    "Brand_scd1(parquet_file_path1, parquet_file_path1)\n"
   ]
  },
  {
   "cell_type": "code",
   "execution_count": 0,
   "metadata": {
    "application/vnd.databricks.v1+cell": {
     "cellMetadata": {
      "byteLimit": 2048000,
      "implicitDf": true,
      "rowLimit": 10000
     },
     "inputWidgets": {},
     "nuid": "33050409-649f-465b-8397-4368e345654a",
     "showTitle": false,
     "title": ""
    }
   },
   "outputs": [
    {
     "output_type": "display_data",
     "data": {
      "text/html": [
       "<style scoped>\n",
       "  .table-result-container {\n",
       "    max-height: 300px;\n",
       "    overflow: auto;\n",
       "  }\n",
       "  table, th, td {\n",
       "    border: 1px solid black;\n",
       "    border-collapse: collapse;\n",
       "  }\n",
       "  th, td {\n",
       "    padding: 5px;\n",
       "  }\n",
       "  th {\n",
       "    text-align: left;\n",
       "  }\n",
       "</style><div class='table-result-container'><table class='table-result'><thead style='background-color: white'><tr></tr></thead><tbody></tbody></table></div>"
      ]
     },
     "metadata": {
      "application/vnd.databricks.v1+output": {
       "addedWidgets": {},
       "aggData": [],
       "aggError": "",
       "aggOverflow": false,
       "aggSchema": [],
       "aggSeriesLimitReached": false,
       "aggType": "",
       "arguments": {},
       "columnCustomDisplayInfos": {},
       "data": [],
       "datasetInfos": [],
       "dbfsResultPath": null,
       "isJsonSchema": true,
       "metadata": {},
       "overflow": false,
       "plotOptions": {
        "customPlotOptions": {},
        "displayType": "table",
        "pivotAggregation": null,
        "pivotColumns": null,
        "xColumns": null,
        "yColumns": null
       },
       "removedWidgets": [],
       "schema": [],
       "type": "table"
      }
     },
     "output_type": "display_data"
    }
   ],
   "source": [
    "%sql\n",
    "truncate table dev.dimbrand"
   ]
  },
  {
   "cell_type": "code",
   "execution_count": 0,
   "metadata": {
    "application/vnd.databricks.v1+cell": {
     "cellMetadata": {
      "byteLimit": 2048000,
      "rowLimit": 10000
     },
     "inputWidgets": {},
     "nuid": "bcc1bf31-db8b-448c-b7c8-dd7b93fed66f",
     "showTitle": false,
     "title": ""
    }
   },
   "outputs": [],
   "source": [
    "# p = spark.read.format(\"csv\").option(\"header\", \"true\").option(\"inferSchema\", \"true\").load('dbfs:/FileStore/4_wheelers/BRAND_TEST2.csv')\n",
    "# fp = \"dbfs:/FileStore/4_wheelers/BRAND_TEST2.parquet\"\n",
    "# p.write.mode(\"overwrite\").parquet(fp)\n"
   ]
  },
  {
   "cell_type": "code",
   "execution_count": 0,
   "metadata": {
    "application/vnd.databricks.v1+cell": {
     "cellMetadata": {
      "byteLimit": 2048000,
      "rowLimit": 10000
     },
     "inputWidgets": {},
     "nuid": "6ddf6ae3-bed9-4c1b-a181-7b758a0a4b79",
     "showTitle": false,
     "title": ""
    }
   },
   "outputs": [
    {
     "output_type": "stream",
     "name": "stdout",
     "output_type": "stream",
     "text": [
      "combined_count : 116786\ncombined_distinct : 34\n+------------+----------+\n|   BrandName|WheelerKey|\n+------------+----------+\n|         TVS|         T|\n|RoyalEnfield|         T|\n|      Yamaha|         T|\n|     Piaggio|         T|\n|       Honda|         T|\n|     Okinawa|         T|\n|HeroMotoCorp|         T|\n|    BajajOne|         T|\n|      Jaguar|         F|\n|         BMW|         F|\n|        Audi|         F|\n|       Lexus|         F|\n|     Ferrari|         F|\n|MercedesBenz|         F|\n|  RollsRoyce|         F|\n|  PorscheNew|         F|\n|       Volvo|         F|\n|       Honda|         F|\n|     Hyundai|         F|\n|        Jeep|         F|\n+------------+----------+\nonly showing top 20 rows\n\ndim_df show...\n+---------+-------------+----------+\n|pkBrandId|    BrandName|WheelerKey|\n+---------+-------------+----------+\n|       69|          TVS|         T|\n|       70|       Yamaha|         T|\n|       71|      Piaggio|         T|\n|       72|        Honda|         T|\n|       73|      Okinawa|         T|\n|       74|Royal Enfield|         T|\n|       75|Hero MotoCorp|         T|\n|       76|        Bajaj|         T|\n|       77|       Jaguar|         F|\n|       78|Mercedes Benz|         F|\n|       79|          BMW|         F|\n|       80|         Audi|         F|\n|       81|        Lexus|         F|\n|       82|      Ferrari|         F|\n|       83|  Rolls Royce|         F|\n|       84|     Maserati|         F|\n|       85|  Lamborghini|         F|\n|       86|      Porsche|         F|\n|       87|        Volvo|         F|\n|       88|        Honda|         F|\n+---------+-------------+----------+\nonly showing top 20 rows\n\ncheck for new records...\n+------------+----------+\n|   BrandName|WheelerKey|\n+------------+----------+\n|RoyalEnfield|         T|\n|HeroMotoCorp|         T|\n|    BajajOne|         T|\n|MercedesBenz|         F|\n|  RollsRoyce|         F|\n|  PorscheNew|         F|\n|  MINICooper|         F|\n+------------+----------+\n\nmatching from src to target \n+---------+---------+----------+\n|pkBrandId|BrandName|WheelerKey|\n+---------+---------+----------+\n|       69|      TVS|         T|\n|       70|   Yamaha|         T|\n|       71|  Piaggio|         T|\n|       88|    Honda|         F|\n|       72|    Honda|         T|\n|       73|  Okinawa|         T|\n|       77|   Jaguar|         F|\n|       79|      BMW|         F|\n|       80|     Audi|         F|\n|       81|    Lexus|         F|\n|       82|  Ferrari|         F|\n|       87|    Volvo|         F|\n|       88|    Honda|         F|\n|       72|    Honda|         T|\n|       89|  Hyundai|         F|\n|       91|     Jeep|         F|\n|       92|   Toyota|         F|\n|       95|       MG|         F|\n|       84| Maserati|         F|\n|       96|      Kia|         F|\n+---------+---------+----------+\nonly showing top 20 rows\n\ncombined....\ncombined_records df count: 34\n+------------+----------+\n|   BrandName|WheelerKey|\n+------------+----------+\n|RoyalEnfield|         T|\n|  MINICooper|         F|\n|MercedesBenz|         F|\n|HeroMotoCorp|         T|\n|  RollsRoyce|         F|\n|    BajajOne|         T|\n|  PorscheNew|         F|\n|      Jaguar|         F|\n|       Honda|         F|\n|     Renault|         F|\n|         TVS|         T|\n|     Hyundai|         F|\n|      Yamaha|         T|\n|        Jeep|         F|\n|     Piaggio|         T|\n|       Honda|         T|\n|      Toyota|         F|\n|         BMW|         F|\n|        Audi|         F|\n|       Lexus|         F|\n+------------+----------+\nonly showing top 20 rows\n\nsuccess\n"
     ]
    }
   ],
   "source": [
    "#nnnn_test\n",
    "stg_df_1 = spark.read.format('csv').option('Header', 'True').option('inferSchema', 'True').load('dbfs:/FileStore/4_wheelers/2_WheelSales_scd1_test.csv') \\\n",
    "    .withColumn('inputfilename', input_file_name()).withColumn('inputfilename', split(col('inputfilename'), '/').getItem(2)).withColumn('WheelerKey', when(col('inputfilename') == '2-WheelSales', lit('F')).otherwise(lit('T'))).select(F.col('OEM').alias('BrandName'), F.col('WheelerKey'))\n",
    "\n",
    "\n",
    "stg_df_2 =  spark.read.format('csv').option('Header', 'True').option('inferSchema', 'True').load('dbfs:/FileStore/4_wheelers/4_WheelSales_scd1_test.csv') \\\n",
    "    .withColumn('inputfilename', input_file_name()).withColumn('inputfilename', split(col('inputfilename'), '/').getItem(2)).withColumn('WheelerKey', when(col('inputfilename') == '4-WheelSales', lit('T')).otherwise(lit('F'))).select(F.col('Brand').alias('BrandName'), F.col('WheelerKey'))\n",
    "\n",
    "combined_stg = stg_df_1.unionByName(stg_df_2)\n",
    "print(\"combined_count :\", combined_stg.count())\n",
    "pattern = \" \"\n",
    "combined_stg = combined_stg.withColumn(\"BrandName\", regexp_replace(col(\"BrandName\"), pattern, \"\")).dropDuplicates(['BrandName', 'WheelerKey'])\n",
    "print(\"combined_distinct :\" ,combined_stg.count())\n",
    "combined_stg.show()\n",
    "\n",
    "dim_df = spark.sql(\"\"\"SELECT * FROM  dev.dimbrand\"\"\")\n",
    "print('dim_df show...')\n",
    "dim_df.show()\n",
    "print(\"check for new records...\")\n",
    "\n",
    "new_records = combined_stg.join(dim_df, 'BrandName', 'left_anti')\n",
    "new_records.show()\n",
    "\n",
    "updated_records = combined_stg.join(dim_df, combined_stg['BrandName'] == dim_df['BrandName'], 'inner').select(dim_df['*'])\n",
    "\n",
    "print(\"matching from src to target \")\n",
    "updated_records.show()\n",
    "\n",
    "combined_records = new_records.unionByName(updated_records.drop('pkBrandId'))\n",
    "\n",
    "# combined_records = combined_records.withColumn(\"BrandName\", regexp_replace(\"BrandName\", \" +\", \" \"))\n",
    "\n",
    "print('combined....')\n",
    "combined_records = combined_records.dropDuplicates(['BrandName', 'WheelerKey'])\n",
    "print('combined_records df count:', combined_records.count())\n",
    "combined_records.show()\n",
    "\n",
    "combined_records.write.mode('overwrite').saveAsTable(\"dev.dimbrand\")\n",
    "\n",
    "print(\"success\")"
   ]
  },
  {
   "cell_type": "code",
   "execution_count": 0,
   "metadata": {
    "application/vnd.databricks.v1+cell": {
     "cellMetadata": {
      "byteLimit": 2048000,
      "implicitDf": true,
      "rowLimit": 10000
     },
     "inputWidgets": {},
     "nuid": "a95d505e-01d5-463b-85df-9c60b5f7e1e9",
     "showTitle": false,
     "title": ""
    }
   },
   "outputs": [
    {
     "output_type": "display_data",
     "data": {
      "text/html": [
       "<style scoped>\n",
       "  .table-result-container {\n",
       "    max-height: 300px;\n",
       "    overflow: auto;\n",
       "  }\n",
       "  table, th, td {\n",
       "    border: 1px solid black;\n",
       "    border-collapse: collapse;\n",
       "  }\n",
       "  th, td {\n",
       "    padding: 5px;\n",
       "  }\n",
       "  th {\n",
       "    text-align: left;\n",
       "  }\n",
       "</style><div class='table-result-container'><table class='table-result'><thead style='background-color: white'><tr><th>pkBrandId</th><th>BrandName</th><th>WheelerKey</th></tr></thead><tbody><tr><td>103</td><td>RoyalEnfield</td><td>T</td></tr><tr><td>104</td><td>MINICooper</td><td>F</td></tr><tr><td>105</td><td>MercedesBenz</td><td>F</td></tr><tr><td>106</td><td>HeroMotoCorp</td><td>T</td></tr><tr><td>107</td><td>RollsRoyce</td><td>F</td></tr><tr><td>108</td><td>BajajOne</td><td>T</td></tr><tr><td>109</td><td>PorscheNew</td><td>F</td></tr><tr><td>110</td><td>Jaguar</td><td>F</td></tr><tr><td>111</td><td>Honda</td><td>F</td></tr><tr><td>112</td><td>Renault</td><td>F</td></tr><tr><td>113</td><td>TVS</td><td>T</td></tr><tr><td>114</td><td>Nissan</td><td>F</td></tr><tr><td>115</td><td>Hyundai</td><td>F</td></tr><tr><td>116</td><td>Volkswagen</td><td>F</td></tr><tr><td>117</td><td>Yamaha</td><td>T</td></tr><tr><td>118</td><td>Jeep</td><td>F</td></tr><tr><td>119</td><td>Piaggio</td><td>T</td></tr><tr><td>120</td><td>Honda</td><td>T</td></tr><tr><td>121</td><td>Toyota</td><td>F</td></tr><tr><td>122</td><td>Tata</td><td>F</td></tr><tr><td>123</td><td>BMW</td><td>F</td></tr><tr><td>124</td><td>Audi</td><td>F</td></tr><tr><td>125</td><td>Lexus</td><td>F</td></tr><tr><td>126</td><td>Datsun</td><td>F</td></tr><tr><td>127</td><td>Ferrari</td><td>F</td></tr><tr><td>128</td><td>MG</td><td>F</td></tr><tr><td>129</td><td>Okinawa</td><td>T</td></tr><tr><td>130</td><td>Maserati</td><td>F</td></tr><tr><td>131</td><td>Mahindra</td><td>F</td></tr><tr><td>132</td><td>Kia</td><td>F</td></tr><tr><td>133</td><td>Lamborghini</td><td>F</td></tr><tr><td>134</td><td>Citroen</td><td>F</td></tr><tr><td>135</td><td>Bentley</td><td>F</td></tr><tr><td>136</td><td>Volvo</td><td>F</td></tr></tbody></table></div>"
      ]
     },
     "metadata": {
      "application/vnd.databricks.v1+output": {
       "addedWidgets": {},
       "aggData": [],
       "aggError": "",
       "aggOverflow": false,
       "aggSchema": [],
       "aggSeriesLimitReached": false,
       "aggType": "",
       "arguments": {},
       "columnCustomDisplayInfos": {},
       "data": [
        [
         103,
         "RoyalEnfield",
         "T"
        ],
        [
         104,
         "MINICooper",
         "F"
        ],
        [
         105,
         "MercedesBenz",
         "F"
        ],
        [
         106,
         "HeroMotoCorp",
         "T"
        ],
        [
         107,
         "RollsRoyce",
         "F"
        ],
        [
         108,
         "BajajOne",
         "T"
        ],
        [
         109,
         "PorscheNew",
         "F"
        ],
        [
         110,
         "Jaguar",
         "F"
        ],
        [
         111,
         "Honda",
         "F"
        ],
        [
         112,
         "Renault",
         "F"
        ],
        [
         113,
         "TVS",
         "T"
        ],
        [
         114,
         "Nissan",
         "F"
        ],
        [
         115,
         "Hyundai",
         "F"
        ],
        [
         116,
         "Volkswagen",
         "F"
        ],
        [
         117,
         "Yamaha",
         "T"
        ],
        [
         118,
         "Jeep",
         "F"
        ],
        [
         119,
         "Piaggio",
         "T"
        ],
        [
         120,
         "Honda",
         "T"
        ],
        [
         121,
         "Toyota",
         "F"
        ],
        [
         122,
         "Tata",
         "F"
        ],
        [
         123,
         "BMW",
         "F"
        ],
        [
         124,
         "Audi",
         "F"
        ],
        [
         125,
         "Lexus",
         "F"
        ],
        [
         126,
         "Datsun",
         "F"
        ],
        [
         127,
         "Ferrari",
         "F"
        ],
        [
         128,
         "MG",
         "F"
        ],
        [
         129,
         "Okinawa",
         "T"
        ],
        [
         130,
         "Maserati",
         "F"
        ],
        [
         131,
         "Mahindra",
         "F"
        ],
        [
         132,
         "Kia",
         "F"
        ],
        [
         133,
         "Lamborghini",
         "F"
        ],
        [
         134,
         "Citroen",
         "F"
        ],
        [
         135,
         "Bentley",
         "F"
        ],
        [
         136,
         "Volvo",
         "F"
        ]
       ],
       "datasetInfos": [],
       "dbfsResultPath": null,
       "isJsonSchema": true,
       "metadata": {},
       "overflow": false,
       "plotOptions": {
        "customPlotOptions": {},
        "displayType": "table",
        "pivotAggregation": null,
        "pivotColumns": null,
        "xColumns": null,
        "yColumns": null
       },
       "removedWidgets": [],
       "schema": [
        {
         "metadata": "{}",
         "name": "pkBrandId",
         "type": "\"long\""
        },
        {
         "metadata": "{}",
         "name": "BrandName",
         "type": "\"string\""
        },
        {
         "metadata": "{}",
         "name": "WheelerKey",
         "type": "\"string\""
        }
       ],
       "type": "table"
      }
     },
     "output_type": "display_data"
    }
   ],
   "source": [
    "%sql\n",
    "select * from dev.dimbrand"
   ]
  },
  {
   "cell_type": "code",
   "execution_count": 0,
   "metadata": {
    "application/vnd.databricks.v1+cell": {
     "cellMetadata": {},
     "inputWidgets": {},
     "nuid": "1b7bd8b0-0af9-40b5-bfe8-319311b9502e",
     "showTitle": false,
     "title": ""
    }
   },
   "outputs": [],
   "source": []
  }
 ],
 "metadata": {
  "application/vnd.databricks.v1+notebook": {
   "dashboards": [],
   "language": "python",
   "notebookMetadata": {
    "mostRecentlyExecutedCommandWithImplicitDF": {
     "commandId": 551650951735009,
     "dataframes": [
      "_sqldf"
     ]
    },
    "pythonIndentUnit": 4
   },
   "notebookName": "nb_DimBrand",
   "widgets": {}
  }
 },
 "nbformat": 4,
 "nbformat_minor": 0
}
