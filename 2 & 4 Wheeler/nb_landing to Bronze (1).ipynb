{
 "cells": [
  {
   "cell_type": "code",
   "execution_count": 0,
   "metadata": {
    "application/vnd.databricks.v1+cell": {
     "cellMetadata": {
      "byteLimit": 2048000,
      "rowLimit": 10000
     },
     "inputWidgets": {},
     "nuid": "8d922cb7-ac91-4852-8ca0-da1377c47496",
     "showTitle": false,
     "title": ""
    }
   },
   "outputs": [],
   "source": [
    "from datetime import datetime"
   ]
  },
  {
   "cell_type": "code",
   "execution_count": 0,
   "metadata": {
    "application/vnd.databricks.v1+cell": {
     "cellMetadata": {
      "byteLimit": 2048000,
      "rowLimit": 10000
     },
     "inputWidgets": {},
     "nuid": "c85ede2e-9f5f-4f08-a6e1-e9ea4d52970b",
     "showTitle": false,
     "title": ""
    }
   },
   "outputs": [
    {
     "output_type": "stream",
     "name": "stdout",
     "output_type": "stream",
     "text": [
      "2024/03/29\n"
     ]
    }
   ],
   "source": [
    "dt_string = datetime.now().strftime(\"%Y/%m/%d\")\n",
    "print(dt_string)\n"
   ]
  },
  {
   "cell_type": "code",
   "execution_count": 0,
   "metadata": {
    "application/vnd.databricks.v1+cell": {
     "cellMetadata": {
      "byteLimit": 2048000,
      "rowLimit": 10000
     },
     "inputWidgets": {},
     "nuid": "26c12c74-a546-4180-a518-2bf35c31f4a6",
     "showTitle": false,
     "title": ""
    }
   },
   "outputs": [],
   "source": [
    "def Landing_to_bronze(filepath, filename):\n",
    "    try:\n",
    "        print(f\"Trying to create df for specified path:{filepath}\")\n",
    "        df = spark.read.format('csv').option('Header', 'True').option('inferSchema', 'True').load(filepath)\n",
    "        print(\"data frame created......\")\n",
    "       \n",
    "        df.coalesce(1).write.mode('overwrite').option('Header', 'True').csv(f\"dbfs:/Bronze/{filename}/{dt_string}/\")\n",
    " \n",
    "        return df\n",
    "    except Exception as e:\n",
    "        print(f\"An error occure while executing Landing_to_Bronze function:: , {str(e)}\")"
   ]
  },
  {
   "cell_type": "code",
   "execution_count": 0,
   "metadata": {
    "application/vnd.databricks.v1+cell": {
     "cellMetadata": {
      "byteLimit": 2048000,
      "rowLimit": 10000
     },
     "inputWidgets": {},
     "nuid": "2071e208-6319-4410-86a4-d20b11cecc3b",
     "showTitle": false,
     "title": ""
    }
   },
   "outputs": [
    {
     "output_type": "stream",
     "name": "stdout",
     "output_type": "stream",
     "text": [
      "Trying to create df for specified path:dbfs:/Landing/2_WheelSales.csv\ndata frame created......\nTrying to create df for specified path:dbfs:/Landing/4_WheelSales.csv\ndata frame created......\nOut[4]: DataFrame[Brand: string, Model: string, Body Type: string, FUEL TYPE: string, Mileage: string, ENGINE: string, TRANSMISSION: string, Price range: string, Fuel Capacity (L): int, Seating Capacity: int, Top_Speed in Km/h: string, No Of Cylinders: int, Year Of Sale: int, Month Of Sale : string, Country: string, City: string]"
     ]
    }
   ],
   "source": [
    "Landing_to_bronze(\"dbfs:/Landing/2_WheelSales.csv\", \"2_WheelSales\")\n",
    "Landing_to_bronze(\"dbfs:/Landing/4_WheelSales.csv\", \"4_WheelSales\")\n"
   ]
  },
  {
   "cell_type": "code",
   "execution_count": 0,
   "metadata": {
    "application/vnd.databricks.v1+cell": {
     "cellMetadata": {
      "byteLimit": 2048000,
      "rowLimit": 10000
     },
     "inputWidgets": {},
     "nuid": "5ecf880f-4b23-484a-bcba-6ebe27c65f91",
     "showTitle": false,
     "title": ""
    }
   },
   "outputs": [],
   "source": []
  }
 ],
 "metadata": {
  "application/vnd.databricks.v1+notebook": {
   "dashboards": [],
   "language": "python",
   "notebookMetadata": {
    "pythonIndentUnit": 4
   },
   "notebookName": "nb_landing to Bronze",
   "widgets": {}
  }
 },
 "nbformat": 4,
 "nbformat_minor": 0
}
