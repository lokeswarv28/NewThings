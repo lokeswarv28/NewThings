{
 "cells": [
  {
   "cell_type": "markdown",
   "metadata": {
    "application/vnd.databricks.v1+cell": {
     "cellMetadata": {},
     "inputWidgets": {},
     "nuid": "4cad7343-49cd-4c33-9219-bcbe3adaf152",
     "showTitle": false,
     "title": ""
    }
   },
   "source": [
    "## Vaccum : Is used to earse the data which are no loger needed:\n",
    "\n",
    "Example: So imagine there is a clickstream project where they want to identify the previous days data only,and they don't want to have the first days data.\n",
    "\n",
    ">> However, deleting the data is a not an ideal option in any organization because that may have some compliance or governance issues.\n",
    "\n",
    ">> So vacuum command is quite a dangerous command to implement because it is going to deal with deletion of this particular data.\n",
    "\n",
    ">> So if you are getting a very high storage cost now, if your organization wish to delete the old data like a 30 days old data, you can make use of the vacuum command.\n",
    "\n",
    ">> by default, the retention period of this vacuum command is seven days. \n",
    "\n",
    ">> So any data that is having the age of more than seven days that will be deleted by default using this\n",
    "\n",
    ">> iF YOU DO VACCUM THEN TIME TRAVEL IS NOT POSSIBLE \n",
    "\n",
    ">> VACCUM = NO TIME TRAVEL\n"
   ]
  },
  {
   "cell_type": "code",
   "execution_count": 0,
   "metadata": {
    "application/vnd.databricks.v1+cell": {
     "cellMetadata": {
      "byteLimit": 2048000,
      "rowLimit": 10000
     },
     "inputWidgets": {},
     "nuid": "60a09109-d93c-468b-b0b1-0117ed11c4fc",
     "showTitle": false,
     "title": ""
    }
   },
   "outputs": [
    {
     "output_type": "execute_result",
     "data": {
      "text/plain": [
       "[FileInfo(path='dbfs:/mnt/DeltaLake/Test/Delta/', name='Delta/', size=0, modificationTime=1709017418000),\n",
       " FileInfo(path='dbfs:/mnt/DeltaLake/Test/ParquetFolder/', name='ParquetFolder/', size=0, modificationTime=1709016139000),\n",
       " FileInfo(path='dbfs:/mnt/DeltaLake/Test/SchemaManagementDelta.csv', name='SchemaManagementDelta.csv', size=101806, modificationTime=1709015324000),\n",
       " FileInfo(path='dbfs:/mnt/DeltaLake/Test/Temp/', name='Temp/', size=0, modificationTime=1709017143000),\n",
       " FileInfo(path='dbfs:/mnt/DeltaLake/Test/schemaevol/', name='schemaevol/', size=0, modificationTime=1709031320000)]"
      ]
     },
     "execution_count": 4,
     "metadata": {},
     "output_type": "execute_result"
    }
   ],
   "source": [
    "dbutils.fs.ls('/mnt/DeltaLake/Test/')"
   ]
  },
  {
   "cell_type": "code",
   "execution_count": 0,
   "metadata": {
    "application/vnd.databricks.v1+cell": {
     "cellMetadata": {
      "byteLimit": 2048000,
      "rowLimit": 10000
     },
     "inputWidgets": {},
     "nuid": "ae3741bb-ef87-455e-8d75-b2f945ebf397",
     "showTitle": false,
     "title": ""
    }
   },
   "outputs": [],
   "source": [
    "filepath = 'dbfs:/mnt/DeltaLake/Test/SchemaManagementDelta.csv'\n",
    "\n",
    "df = spark.read.format('csv').option('Header', 'True').option('inferSchema', 'True').load(filepath)"
   ]
  },
  {
   "cell_type": "code",
   "execution_count": 0,
   "metadata": {
    "application/vnd.databricks.v1+cell": {
     "cellMetadata": {
      "byteLimit": 2048000,
      "rowLimit": 10000
     },
     "inputWidgets": {},
     "nuid": "70656796-a901-4766-b98a-e363ab50adb7",
     "showTitle": false,
     "title": ""
    }
   },
   "outputs": [
    {
     "output_type": "stream",
     "name": "stdout",
     "output_type": "stream",
     "text": [
      "root\n |-- Education_Level: string (nullable = true)\n |-- Line_Number: integer (nullable = true)\n |-- Employed: integer (nullable = true)\n |-- Unemployed: integer (nullable = true)\n |-- Industry: string (nullable = true)\n |-- Gender: string (nullable = true)\n |-- Date_Inserted: string (nullable = true)\n |-- dense_rank: integer (nullable = true)\n\n"
     ]
    }
   ],
   "source": [
    "df.printSchema()"
   ]
  },
  {
   "cell_type": "code",
   "execution_count": 0,
   "metadata": {
    "application/vnd.databricks.v1+cell": {
     "cellMetadata": {
      "byteLimit": 2048000,
      "rowLimit": 10000
     },
     "inputWidgets": {},
     "nuid": "05d53daa-5f4f-43c7-acac-09d137965e10",
     "showTitle": false,
     "title": ""
    }
   },
   "outputs": [],
   "source": [
    "df.createOrReplaceTempView(\"df_view\")"
   ]
  },
  {
   "cell_type": "code",
   "execution_count": 0,
   "metadata": {
    "application/vnd.databricks.v1+cell": {
     "cellMetadata": {
      "byteLimit": 2048000,
      "implicitDf": true,
      "rowLimit": 10000
     },
     "inputWidgets": {},
     "nuid": "2c28922e-06de-485b-b6fb-7b1675eaff06",
     "showTitle": false,
     "title": ""
    }
   },
   "outputs": [
    {
     "output_type": "display_data",
     "data": {
      "text/html": [
       "<style scoped>\n",
       "  .table-result-container {\n",
       "    max-height: 300px;\n",
       "    overflow: auto;\n",
       "  }\n",
       "  table, th, td {\n",
       "    border: 1px solid black;\n",
       "    border-collapse: collapse;\n",
       "  }\n",
       "  th, td {\n",
       "    padding: 5px;\n",
       "  }\n",
       "  th {\n",
       "    text-align: left;\n",
       "  }\n",
       "</style><div class='table-result-container'><table class='table-result'><thead style='background-color: white'><tr><th>num_affected_rows</th><th>num_inserted_rows</th></tr></thead><tbody></tbody></table></div>"
      ]
     },
     "metadata": {
      "application/vnd.databricks.v1+output": {
       "addedWidgets": {},
       "aggData": [],
       "aggError": "",
       "aggOverflow": false,
       "aggSchema": [],
       "aggSeriesLimitReached": false,
       "aggType": "",
       "arguments": {},
       "columnCustomDisplayInfos": {},
       "data": [],
       "datasetInfos": [],
       "dbfsResultPath": null,
       "isJsonSchema": true,
       "metadata": {
        "dataframeName": "_sqldf",
        "executionCount": 9
       },
       "overflow": false,
       "plotOptions": {
        "customPlotOptions": {},
        "displayType": "table",
        "pivotAggregation": null,
        "pivotColumns": null,
        "xColumns": null,
        "yColumns": null
       },
       "removedWidgets": [],
       "schema": [
        {
         "metadata": "{}",
         "name": "num_affected_rows",
         "type": "\"long\""
        },
        {
         "metadata": "{}",
         "name": "num_inserted_rows",
         "type": "\"long\""
        }
       ],
       "type": "table"
      }
     },
     "output_type": "display_data"
    }
   ],
   "source": [
    "%sql \n",
    "-- create delta table from View \n",
    "-- create table delta.vaccumTable (\n",
    "--   Using Delta\n",
    "--   as\n",
    "--   select * \n",
    "--   from df_view\n",
    "-- )\n",
    "\n",
    "create table delta.vaccumTable\n",
    "using delta \n",
    "as\n",
    "select * from df_view"
   ]
  },
  {
   "cell_type": "code",
   "execution_count": 0,
   "metadata": {
    "application/vnd.databricks.v1+cell": {
     "cellMetadata": {
      "byteLimit": 2048000,
      "implicitDf": true,
      "rowLimit": 10000
     },
     "inputWidgets": {},
     "nuid": "8546a108-5616-461f-b42c-49132d1115b2",
     "showTitle": false,
     "title": ""
    }
   },
   "outputs": [
    {
     "output_type": "display_data",
     "data": {
      "text/html": [
       "<style scoped>\n",
       "  .table-result-container {\n",
       "    max-height: 300px;\n",
       "    overflow: auto;\n",
       "  }\n",
       "  table, th, td {\n",
       "    border: 1px solid black;\n",
       "    border-collapse: collapse;\n",
       "  }\n",
       "  th, td {\n",
       "    padding: 5px;\n",
       "  }\n",
       "  th {\n",
       "    text-align: left;\n",
       "  }\n",
       "</style><div class='table-result-container'><table class='table-result'><thead style='background-color: white'><tr><th>Education_Level</th><th>Line_Number</th><th>Employed</th><th>Unemployed</th><th>Industry</th><th>Gender</th><th>Date_Inserted</th><th>dense_rank</th></tr></thead><tbody><tr><td>Bachelor's Degree</td><td>371</td><td>192000</td><td>8000</td><td>Finance</td><td>Female</td><td>5/1/2000</td><td>16</td></tr><tr><td>Master's Degree</td><td>702</td><td>81000</td><td>4000</td><td>Finance</td><td>Male</td><td>4/1/2007</td><td>30</td></tr><tr><td>Bachelor's Degree</td><td>506</td><td>93300</td><td>4700</td><td>Finance</td><td>Male</td><td>3/1/2003</td><td>32</td></tr><tr><td>Bachelor's Degree</td><td>1425</td><td>5079</td><td>257</td><td>Finance</td><td>Male</td><td>5/1/1999</td><td>34</td></tr><tr><td>Master's Degree</td><td>579</td><td>62000</td><td>3400</td><td>Finance</td><td>Female</td><td>9/1/2004</td><td>52</td></tr><tr><td>High School</td><td>1421</td><td>4876</td><td>269</td><td>Finance</td><td>Male</td><td>1/1/1999</td><td>54</td></tr><tr><td>Graduate</td><td>1447</td><td>5400</td><td>300</td><td>Finance</td><td>Male</td><td>8/1/2000</td><td>57</td></tr><tr><td>College</td><td>1505</td><td>4634769</td><td>262653</td><td>Finance</td><td>Male</td><td>6/1/2002</td><td>60</td></tr><tr><td>Bachelor's Degree</td><td>805</td><td>12100000</td><td>700000</td><td>Finance</td><td>Female</td><td>6/1/2009</td><td>68</td></tr><tr><td>High School Diploma</td><td>789</td><td>12000000</td><td>700000</td><td>Finance</td><td>Female</td><td>2/1/2009</td><td>70</td></tr><tr><td>Master's Degree</td><td>1471</td><td>3892329</td><td>236000</td><td>Finance</td><td>Male</td><td>8/1/2001</td><td>87</td></tr><tr><td>Bachelor's Degree</td><td>1475</td><td>3946542</td><td>243000</td><td>Finance</td><td>Male</td><td>12/1/2001</td><td>101</td></tr><tr><td>Bachelor's Degree</td><td>1467</td><td>3830349</td><td>239000</td><td>Finance</td><td>Male</td><td>4/1/2001</td><td>111</td></tr><tr><td>Bachelor's Degree</td><td>813</td><td>6622000</td><td>422000</td><td>Finance</td><td>Female</td><td>8/1/2009</td><td>118</td></tr><tr><td>Associate's Degree</td><td>683</td><td>6622000</td><td>422000</td><td>Finance</td><td>Female</td><td>11/1/2006</td><td>118</td></tr><tr><td>High School</td><td>832</td><td>6622000</td><td>422000</td><td>Finance</td><td>Male</td><td>1/1/2010</td><td>118</td></tr><tr><td>High School</td><td>1488</td><td>94000</td><td>6000</td><td>Finance</td><td>Female</td><td>1/1/2002</td><td>119</td></tr><tr><td>High School</td><td>1440</td><td>4700</td><td>300</td><td>Finance</td><td>Female</td><td>1/1/2000</td><td>119</td></tr><tr><td>Bachelor's Degree</td><td>347</td><td>79875</td><td>5125</td><td>Finance</td><td>Female</td><td>11/1/1999</td><td>121</td></tr><tr><td>High School Diploma</td><td>574</td><td>3929000</td><td>254000</td><td>Finance</td><td>Male</td><td>8/1/2004</td><td>124</td></tr><tr><td>High School Diploma</td><td>797</td><td>3929000</td><td>254000</td><td>Finance</td><td>Female</td><td>4/1/2009</td><td>124</td></tr><tr><td>Bachelor's Degree</td><td>836</td><td>3909000</td><td>253000</td><td>Finance</td><td>Male</td><td>2/1/2010</td><td>125</td></tr><tr><td>Master's Degree</td><td>866</td><td>6590000</td><td>429000</td><td>Finance</td><td>Male</td><td>9/1/2010</td><td>127</td></tr><tr><td>Bachelor's Degree</td><td>796</td><td>6590000</td><td>429000</td><td>Finance</td><td>Male</td><td>4/1/2009</td><td>127</td></tr><tr><td>Associate's Degree</td><td>768</td><td>18250000</td><td>1200000</td><td>Finance</td><td>Male</td><td>9/1/2008</td><td>131</td></tr><tr><td>Bachelor's Degree</td><td>467</td><td>84375</td><td>5625</td><td>Finance</td><td>Female</td><td>5/1/2002</td><td>142</td></tr><tr><td>Bachelor's Degree</td><td>369</td><td>84375</td><td>5625</td><td>Finance</td><td>Female</td><td>5/1/2000</td><td>142</td></tr><tr><td>Master's Degree</td><td>1493</td><td>89000</td><td>6000</td><td>Finance</td><td>Male</td><td>6/1/2002</td><td>149</td></tr><tr><td>Master's Degree</td><td>809</td><td>6555000</td><td>443000</td><td>Finance</td><td>Female</td><td>7/1/2009</td><td>150</td></tr><tr><td>Bachelor's Degree</td><td>644</td><td>6524000</td><td>447000</td><td>Finance</td><td>Male</td><td>2/1/2006</td><td>160</td></tr><tr><td>High School Diploma</td><td>806</td><td>3878000</td><td>267000</td><td>Finance</td><td>Male</td><td>6/1/2009</td><td>166</td></tr><tr><td>High School</td><td>825</td><td>3878000</td><td>267000</td><td>Finance</td><td>Female</td><td>11/1/2009</td><td>166</td></tr><tr><td>High School Diploma</td><td>357</td><td>79500</td><td>5500</td><td>Finance</td><td>Female</td><td>2/1/2000</td><td>171</td></tr><tr><td>Master's Degree</td><td>603</td><td>112200</td><td>7800</td><td>Finance</td><td>Female</td><td>3/1/2005</td><td>178</td></tr><tr><td>Bachelor's Degree</td><td>345</td><td>72840</td><td>5160</td><td>Finance</td><td>Female</td><td>11/1/1999</td><td>191</td></tr><tr><td>Bachelor's Degree</td><td>1498</td><td>84000</td><td>6000</td><td>Finance</td><td>Female</td><td>11/1/2002</td><td>197</td></tr><tr><td>College</td><td>1484</td><td>3748776</td><td>272147</td><td>Finance</td><td>Female</td><td>9/1/2001</td><td>209</td></tr><tr><td>College</td><td>1476</td><td>3738191</td><td>281207</td><td>Finance</td><td>Female</td><td>1/1/2001</td><td>243</td></tr><tr><td>Associate's Degree</td><td>591</td><td>378000</td><td>29000</td><td>Finance</td><td>Female</td><td>12/1/2004</td><td>278</td></tr><tr><td>High School Diploma</td><td>281</td><td>425000</td><td>33000</td><td>Finance</td><td>Female</td><td>7/1/1998</td><td>291</td></tr><tr><td>Bachelor's Degree</td><td>266</td><td>316000</td><td>25000</td><td>Finance</td><td>Male</td><td>3/1/1998</td><td>316</td></tr><tr><td>Bachelor's Degree</td><td>264</td><td>8154000</td><td>646000</td><td>Finance</td><td>Male</td><td>3/1/1998</td><td>317</td></tr><tr><td>High School Diploma</td><td>224</td><td>8929000</td><td>713000</td><td>Finance</td><td>Female</td><td>5/1/1997</td><td>324</td></tr><tr><td>Associate's Degree</td><td>551</td><td>14181000</td><td>1140000</td><td>Finance</td><td>Female</td><td>2/1/2004</td><td>326</td></tr><tr><td>Master's Degree</td><td>546</td><td>14181000</td><td>1140000</td><td>Finance</td><td>Male</td><td>1/1/2004</td><td>326</td></tr><tr><td>High School Diploma</td><td>560</td><td>8047500</td><td>652500</td><td>Finance</td><td>Male</td><td>5/1/2004</td><td>332</td></tr><tr><td>Associate's Degree</td><td>700</td><td>8047500</td><td>652500</td><td>Finance</td><td>Male</td><td>4/1/2007</td><td>332</td></tr><tr><td>Bachelor's Degree</td><td>252</td><td>8047500</td><td>652500</td><td>Finance</td><td>Male</td><td>12/1/1997</td><td>332</td></tr><tr><td>Bachelor's Degree</td><td>254</td><td>8047500</td><td>652500</td><td>Finance</td><td>Male</td><td>12/1/1997</td><td>332</td></tr><tr><td>Master's Degree</td><td>214</td><td>10546000</td><td>858000</td><td>Finance</td><td>Male</td><td>2/1/1997</td><td>333</td></tr><tr><td>Bachelor's Degree</td><td>688</td><td>10546000</td><td>858000</td><td>Finance</td><td>Male</td><td>1/1/2007</td><td>333</td></tr><tr><td>High School Diploma</td><td>527</td><td>83000</td><td>7000</td><td>Finance</td><td>Female</td><td>8/1/2003</td><td>346</td></tr><tr><td>Master's Degree</td><td>862</td><td>82800</td><td>7200</td><td>Finance</td><td>Male</td><td>8/1/2010</td><td>354</td></tr><tr><td>Associate's Degree</td><td>671</td><td>82800</td><td>7200</td><td>Finance</td><td>Female</td><td>8/1/2006</td><td>354</td></tr><tr><td>Master's Degree</td><td>622</td><td>101200</td><td>8800</td><td>Finance</td><td>Male</td><td>8/1/2005</td><td>354</td></tr><tr><td>High School Diploma</td><td>666</td><td>82800</td><td>7200</td><td>Finance</td><td>Male</td><td>7/1/2006</td><td>354</td></tr><tr><td>Bachelor's Degree</td><td>612</td><td>138000</td><td>12000</td><td>Finance</td><td>Male</td><td>6/1/2005</td><td>354</td></tr><tr><td>High School Diploma</td><td>750</td><td>82800</td><td>7200</td><td>Finance</td><td>Male</td><td>4/1/2008</td><td>354</td></tr><tr><td>Associate's Degree</td><td>607</td><td>101200</td><td>8800</td><td>Finance</td><td>Female</td><td>4/1/2005</td><td>354</td></tr><tr><td>Master's Degree</td><td>934</td><td>82800</td><td>7200</td><td>Finance</td><td>Male</td><td>2/1/2012</td><td>354</td></tr><tr><td>Master's Degree</td><td>694</td><td>82800</td><td>7200</td><td>Finance</td><td>Male</td><td>2/1/2007</td><td>354</td></tr><tr><td>Master's Degree</td><td>630</td><td>82800</td><td>7200</td><td>Finance</td><td>Male</td><td>10/1/2005</td><td>354</td></tr><tr><td>Master's Degree</td><td>430</td><td>91000</td><td>8000</td><td>Finance</td><td>Male</td><td>8/1/2001</td><td>357</td></tr><tr><td>Bachelor's Degree</td><td>993</td><td>11188300</td><td>984400</td><td>Finance</td><td>Female</td><td>5/1/2013</td><td>358</td></tr><tr><td>High School Diploma</td><td>717</td><td>183800</td><td>16200</td><td>Finance</td><td>Female</td><td>8/1/2007</td><td>360</td></tr><tr><td>Master's Degree</td><td>4</td><td>110000</td><td>10000</td><td>Finance</td><td>Male</td><td>2/1/2021</td><td>374</td></tr><tr><td>High School</td><td>1289</td><td>12027800</td><td>1109000</td><td>Finance</td><td>Female</td><td>7/1/2020</td><td>380</td></tr><tr><td>Bachelor's Degree</td><td>941</td><td>11237900</td><td>1042300</td><td>Finance</td><td>Female</td><td>4/1/2012</td><td>383</td></tr><tr><td>Bachelor's Degree</td><td>402</td><td>68500</td><td>6500</td><td>Finance</td><td>Male</td><td>1/1/2001</td><td>397</td></tr><tr><td>Master's Degree</td><td>322</td><td>76600</td><td>7400</td><td>Finance</td><td>Male</td><td>5/1/1999</td><td>405</td></tr><tr><td>Bachelor's Degree</td><td>388</td><td>107000</td><td>11000</td><td>Finance</td><td>Male</td><td>10/1/2000</td><td>422</td></tr><tr><td>Bachelor's Degree</td><td>150</td><td>107000</td><td>11000</td><td>Finance</td><td>Male</td><td>10/1/1995</td><td>422</td></tr><tr><td>Bachelor's Degree</td><td>723</td><td>68000</td><td>7000</td><td>Finance</td><td>Female</td><td>9/1/2007</td><td>423</td></tr><tr><td>High School Diploma</td><td>167</td><td>68000</td><td>7000</td><td>Finance</td><td>Female</td><td>2/1/1996</td><td>423</td></tr><tr><td>College</td><td>885</td><td>10993700</td><td>1153800</td><td>Finance</td><td>Female</td><td>2/1/2011</td><td>439</td></tr><tr><td>Bachelor's Degree</td><td>905</td><td>11024500</td><td>1167400</td><td>Finance</td><td>Female</td><td>7/1/2011</td><td>442</td></tr><tr><td>Master's Degree</td><td>476</td><td>135500</td><td>14500</td><td>Finance</td><td>Male</td><td>8/1/2002</td><td>447</td></tr><tr><td>High School Diploma</td><td>447</td><td>56000</td><td>6000</td><td>Finance</td><td>Female</td><td>12/1/2001</td><td>448</td></tr><tr><td>High School</td><td>901</td><td>11047400</td><td>1192800</td><td>Finance</td><td>Female</td><td>6/1/2011</td><td>450</td></tr><tr><td>Master's Degree</td><td>818</td><td>11224400</td><td>1227200</td><td>Finance</td><td>Male</td><td>9/1/2009</td><td>456</td></tr><tr><td>Master's Degree</td><td>10</td><td>739000</td><td>81000</td><td>Finance</td><td>Male</td><td>3/1/2021</td><td>460</td></tr><tr><td>Master's Degree</td><td>120</td><td>739000</td><td>81000</td><td>Finance</td><td>Male</td><td>3/1/1995</td><td>460</td></tr><tr><td>College</td><td>865</td><td>11122700</td><td>1230900</td><td>Finance</td><td>Female</td><td>9/1/2010</td><td>466</td></tr><tr><td>Associate's Degree</td><td>576</td><td>126000</td><td>14000</td><td>Finance</td><td>Male</td><td>9/1/2004</td><td>470</td></tr><tr><td>Associate's Degree</td><td>482</td><td>81000</td><td>9000</td><td>Finance</td><td>Male</td><td>9/1/2002</td><td>470</td></tr><tr><td>Master's Degree</td><td>76</td><td>99000</td><td>11000</td><td>Finance</td><td>Male</td><td>8/1/2022</td><td>470</td></tr><tr><td>Master's Degree</td><td>428</td><td>103500</td><td>11500</td><td>Finance</td><td>Male</td><td>8/1/2001</td><td>470</td></tr><tr><td>Master's Degree</td><td>332</td><td>103500</td><td>11500</td><td>Finance</td><td>Male</td><td>8/1/1999</td><td>470</td></tr><tr><td>Bachelor's Degree</td><td>665</td><td>76500</td><td>8500</td><td>Finance</td><td>Female</td><td>7/1/2006</td><td>470</td></tr><tr><td>Bachelor's Degree</td><td>20</td><td>153000</td><td>17000</td><td>Finance</td><td>Male</td><td>6/1/2021</td><td>470</td></tr><tr><td>Bachelor's Degree</td><td>660</td><td>126000</td><td>14000</td><td>Finance</td><td>Male</td><td>6/1/2006</td><td>470</td></tr><tr><td>High School Diploma</td><td>615</td><td>108000</td><td>12000</td><td>Finance</td><td>Female</td><td>6/1/2005</td><td>470</td></tr><tr><td>Associate's Degree</td><td>468</td><td>132300</td><td>14700</td><td>Finance</td><td>Male</td><td>6/1/2002</td><td>470</td></tr><tr><td>Master's Degree</td><td>132</td><td>805500</td><td>89500</td><td>Finance</td><td>Male</td><td>6/1/1995</td><td>470</td></tr><tr><td>High School Diploma</td><td>753</td><td>185400</td><td>20600</td><td>Finance</td><td>Female</td><td>5/1/2008</td><td>470</td></tr><tr><td>Bachelor's Degree</td><td>656</td><td>103500</td><td>11500</td><td>Finance</td><td>Male</td><td>5/1/2006</td><td>470</td></tr><tr><td>Master's Degree</td><td>416</td><td>126000</td><td>14000</td><td>Finance</td><td>Male</td><td>5/1/2001</td><td>470</td></tr><tr><td>Master's Degree</td><td>320</td><td>103500</td><td>11500</td><td>Finance</td><td>Male</td><td>5/1/1999</td><td>470</td></tr><tr><td>High School Diploma</td><td>177</td><td>67500</td><td>7500</td><td>Finance</td><td>Female</td><td>5/1/1996</td><td>470</td></tr><tr><td>Bachelor's Degree</td><td>749</td><td>182700</td><td>20300</td><td>Finance</td><td>Female</td><td>4/1/2008</td><td>470</td></tr><tr><td>Master's Degree</td><td>104</td><td>112500</td><td>12500</td><td>Finance</td><td>Male</td><td>3/1/2023</td><td>470</td></tr><tr><td>Bachelor's Degree</td><td>600</td><td>144000</td><td>16000</td><td>Finance</td><td>Male</td><td>3/1/2005</td><td>470</td></tr><tr><td>Associate's Degree</td><td>456</td><td>130500</td><td>14500</td><td>Finance</td><td>Male</td><td>3/1/2002</td><td>470</td></tr><tr><td>High School Diploma</td><td>103</td><td>76500</td><td>8500</td><td>Finance</td><td>Female</td><td>2/1/2023</td><td>470</td></tr><tr><td>Master's Degree</td><td>52</td><td>108000</td><td>12000</td><td>Finance</td><td>Male</td><td>2/1/2022</td><td>470</td></tr><tr><td>High School Diploma</td><td>693</td><td>76500</td><td>8500</td><td>Finance</td><td>Female</td><td>2/1/2007</td><td>470</td></tr><tr><td>High School Diploma</td><td>165</td><td>76500</td><td>8500</td><td>Finance</td><td>Female</td><td>2/1/1996</td><td>470</td></tr><tr><td>High School Diploma</td><td>1118</td><td>207000</td><td>23000</td><td>Finance</td><td>Male</td><td>12/1/2015</td><td>470</td></tr><tr><td>Bachelor's Degree</td><td>780</td><td>121500</td><td>13500</td><td>Finance</td><td>Male</td><td>12/1/2008</td><td>470</td></tr><tr><td>High School Diploma</td><td>781</td><td>81000</td><td>9000</td><td>Finance</td><td>Female</td><td>12/1/2008</td><td>470</td></tr><tr><td>Bachelor's Degree</td><td>588</td><td>675000</td><td>75000</td><td>Finance</td><td>Male</td><td>12/1/2004</td><td>470</td></tr><tr><td>Bachelor's Degree</td><td>541</td><td>81000</td><td>9000</td><td>Finance</td><td>Female</td><td>12/1/2003</td><td>470</td></tr><tr><td>High School Diploma</td><td>445</td><td>81000</td><td>9000</td><td>Finance</td><td>Female</td><td>12/1/2001</td><td>470</td></tr><tr><td>Master's Degree</td><td>40</td><td>103500</td><td>11500</td><td>Finance</td><td>Male</td><td>11/1/2021</td><td>470</td></tr><tr><td>Bachelor's Degree</td><td>677</td><td>72000</td><td>8000</td><td>Finance</td><td>Female</td><td>10/1/2006</td><td>470</td></tr><tr><td>Bachelor's Degree</td><td>580</td><td>103500</td><td>11500</td><td>Finance</td><td>Male</td><td>10/1/2004</td><td>470</td></tr><tr><td>Bachelor's Degree</td><td>390</td><td>155700</td><td>17300</td><td>Finance</td><td>Male</td><td>10/1/2000</td><td>470</td></tr><tr><td>Master's Degree</td><td>149</td><td>85500</td><td>9500</td><td>Finance</td><td>Female</td><td>10/1/1995</td><td>470</td></tr><tr><td>High School Diploma</td><td>3</td><td>76500</td><td>8500</td><td>Finance</td><td>Female</td><td>1/1/2021</td><td>470</td></tr><tr><td>High School Diploma</td><td>737</td><td>174600</td><td>19400</td><td>Finance</td><td>Female</td><td>1/1/2008</td><td>470</td></tr><tr><td>High School Diploma</td><td>909</td><td>11025900</td><td>1227400</td><td>Finance</td><td>Female</td><td>8/1/2011</td><td>472</td></tr><tr><td>High School Diploma</td><td>893</td><td>10966800</td><td>1224900</td><td>Finance</td><td>Female</td><td>4/1/2011</td><td>473</td></tr><tr><td>Bachelor's Degree</td><td>398</td><td>53000</td><td>6000</td><td>Finance</td><td>Male</td><td>12/1/2000</td><td>477</td></tr><tr><td>Bachelor's Degree</td><td>817</td><td>9581500</td><td>1108800</td><td>Finance</td><td>Female</td><td>9/1/2009</td><td>487</td></tr><tr><td>High School</td><td>1430</td><td>405000</td><td>50000</td><td>Finance</td><td>Female</td><td>2/1/1999</td><td>501</td></tr><tr><td>College</td><td>833</td><td>9516400</td><td>1178500</td><td>Finance</td><td>Female</td><td>1/1/2010</td><td>502</td></tr><tr><td>High School</td><td>1429</td><td>400000</td><td>50000</td><td>Finance</td><td>Male</td><td>1/1/1999</td><td>505</td></tr><tr><td>Master's Degree</td><td>78</td><td>133100</td><td>16900</td><td>Finance</td><td>Male</td><td>8/1/2022</td><td>515</td></tr><tr><td>College</td><td>913</td><td>10936700</td><td>1417900</td><td>Finance</td><td>Female</td><td>9/1/2011</td><td>520</td></tr><tr><td>High School</td><td>1081</td><td>10587600</td><td>1406500</td><td>Finance</td><td>Female</td><td>3/1/2015</td><td>533</td></tr><tr><td>Bachelor's Degree</td><td>824</td><td>11937500</td><td>1602900</td><td>Finance</td><td>Male</td><td>11/1/2009</td><td>535</td></tr><tr><td>Bachelor's Degree</td><td>583</td><td>15576000</td><td>2102400</td><td>Finance</td><td>Female</td><td>10/1/2004</td><td>536</td></tr><tr><td>College</td><td>904</td><td>15994200</td><td>2281900</td><td>Finance</td><td>Male</td><td>7/1/2011</td><td>541</td></tr><tr><td>Bachelor's Degree</td><td>900</td><td>16024600</td><td>2307600</td><td>Finance</td><td>Male</td><td>6/1/2011</td><td>543</td></tr><tr><td>Bachelor's Degree</td><td>908</td><td>15941800</td><td>2303800</td><td>Finance</td><td>Male</td><td>8/1/2011</td><td>544</td></tr><tr><td>High School Diploma</td><td>678</td><td>16805000</td><td>2445000</td><td>Finance</td><td>Male</td><td>10/1/2006</td><td>547</td></tr><tr><td>Master's Degree</td><td>738</td><td>16805000</td><td>2445000</td><td>Finance</td><td>Male</td><td>1/1/2008</td><td>547</td></tr><tr><td>Bachelor's Degree</td><td>892</td><td>15985300</td><td>2360300</td><td>Finance</td><td>Male</td><td>4/1/2011</td><td>550</td></tr><tr><td>Bachelor's Degree</td><td>924</td><td>14596300</td><td>2189300</td><td>Finance</td><td>Male</td><td>12/1/2011</td><td>555</td></tr><tr><td>High School</td><td>884</td><td>15860200</td><td>2382900</td><td>Finance</td><td>Male</td><td>2/1/2011</td><td>556</td></tr><tr><td>Bachelor's Degree</td><td>192</td><td>52700</td><td>9300</td><td>Finance</td><td>Male</td><td>9/1/1996</td><td>561</td></tr><tr><td>High School Diploma</td><td>283</td><td>123250</td><td>21750</td><td>Finance</td><td>Female</td><td>7/1/1998</td><td>561</td></tr><tr><td>Bachelor's Degree</td><td>565</td><td>76500</td><td>13500</td><td>Finance</td><td>Female</td><td>6/1/2004</td><td>561</td></tr><tr><td>Associate's Degree</td><td>471</td><td>56950</td><td>10050</td><td>Finance</td><td>Female</td><td>6/1/2002</td><td>561</td></tr><tr><td>Associate's Degree</td><td>513</td><td>56950</td><td>10050</td><td>Finance</td><td>Female</td><td>5/1/2003</td><td>561</td></tr><tr><td>High School Diploma</td><td>226</td><td>39100</td><td>6900</td><td>Finance</td><td>Female</td><td>5/1/1997</td><td>561</td></tr><tr><td>Bachelor's Degree</td><td>557</td><td>85000</td><td>15000</td><td>Finance</td><td>Female</td><td>4/1/2004</td><td>561</td></tr><tr><td>Bachelor's Degree</td><td>549</td><td>89250</td><td>15750</td><td>Finance</td><td>Female</td><td>2/1/2004</td><td>561</td></tr><tr><td>Master's Degree</td><td>212</td><td>56100</td><td>9900</td><td>Finance</td><td>Male</td><td>2/1/1997</td><td>561</td></tr><tr><td>High School Diploma</td><td>534</td><td>140250</td><td>24750</td><td>Finance</td><td>Male</td><td>10/1/2003</td><td>561</td></tr><tr><td>Master's Degree</td><td>594</td><td>56950</td><td>10050</td><td>Finance</td><td>Male</td><td>1/1/2005</td><td>561</td></tr><tr><td>High School Diploma</td><td>179</td><td>67500</td><td>12500</td><td>Finance</td><td>Female</td><td>5/1/1996</td><td>562</td></tr><tr><td>High School Diploma</td><td>619</td><td>80750</td><td>17250</td><td>Finance</td><td>Female</td><td>7/1/2005</td><td>570</td></tr><tr><td>Master's Degree</td><td>571</td><td>80750</td><td>17250</td><td>Finance</td><td>Female</td><td>7/1/2004</td><td>570</td></tr><tr><td>Master's Degree</td><td>88</td><td>98000</td><td>22000</td><td>Finance</td><td>Male</td><td>11/1/2022</td><td>574</td></tr><tr><td>Master's Degree</td><td>718</td><td>34900</td><td>7900</td><td>Finance</td><td>Male</td><td>8/1/2007</td><td>575</td></tr><tr><td>Bachelor's Degree</td><td>586</td><td>34900</td><td>7900</td><td>Finance</td><td>Male</td><td>11/1/2004</td><td>575</td></tr><tr><td>Bachelor's Degree</td><td>194</td><td>52700</td><td>13300</td><td>Finance</td><td>Male</td><td>9/1/1996</td><td>579</td></tr><tr><td>Master's Degree</td><td>334</td><td>142000</td><td>38000</td><td>Finance</td><td>Male</td><td>8/1/1999</td><td>581</td></tr><tr><td>Bachelor's Degree</td><td>788</td><td>200000</td><td>70000</td><td>Finance</td><td>Male</td><td>2/1/2009</td><td>588</td></tr><tr><td>Master's Degree</td><td>418</td><td>34200</td><td>17800</td><td>Finance</td><td>Male</td><td>5/1/2001</td><td>598</td></tr><tr><td>Bachelor's Degree</td><td>278</td><td>73950</td><td>44050</td><td>Finance</td><td>Male</td><td>6/1/1998</td><td>601</td></tr><tr><td>Bachelor's Degree</td><td>769</td><td>250000</td><td>200000</td><td>Finance</td><td>Female</td><td>9/1/2008</td><td>605</td></tr><tr><td>Associate's Degree</td><td>515</td><td>56950</td><td>53050</td><td>Finance</td><td>Female</td><td>5/1/2003</td><td>606</td></tr><tr><td>Master</td><td>2</td><td>6500</td><td>500</td><td>Finance</td><td>Female</td><td>2023-07-12</td><td>2</td></tr></tbody></table></div>"
      ]
     },
     "metadata": {
      "application/vnd.databricks.v1+output": {
       "addedWidgets": {},
       "aggData": [],
       "aggError": "",
       "aggOverflow": false,
       "aggSchema": [],
       "aggSeriesLimitReached": false,
       "aggType": "",
       "arguments": {},
       "columnCustomDisplayInfos": {},
       "data": [
        [
         "Bachelor's Degree",
         371,
         192000,
         8000,
         "Finance",
         "Female",
         "5/1/2000",
         16
        ],
        [
         "Master's Degree",
         702,
         81000,
         4000,
         "Finance",
         "Male",
         "4/1/2007",
         30
        ],
        [
         "Bachelor's Degree",
         506,
         93300,
         4700,
         "Finance",
         "Male",
         "3/1/2003",
         32
        ],
        [
         "Bachelor's Degree",
         1425,
         5079,
         257,
         "Finance",
         "Male",
         "5/1/1999",
         34
        ],
        [
         "Master's Degree",
         579,
         62000,
         3400,
         "Finance",
         "Female",
         "9/1/2004",
         52
        ],
        [
         "High School",
         1421,
         4876,
         269,
         "Finance",
         "Male",
         "1/1/1999",
         54
        ],
        [
         "Graduate",
         1447,
         5400,
         300,
         "Finance",
         "Male",
         "8/1/2000",
         57
        ],
        [
         "College",
         1505,
         4634769,
         262653,
         "Finance",
         "Male",
         "6/1/2002",
         60
        ],
        [
         "Bachelor's Degree",
         805,
         12100000,
         700000,
         "Finance",
         "Female",
         "6/1/2009",
         68
        ],
        [
         "High School Diploma",
         789,
         12000000,
         700000,
         "Finance",
         "Female",
         "2/1/2009",
         70
        ],
        [
         "Master's Degree",
         1471,
         3892329,
         236000,
         "Finance",
         "Male",
         "8/1/2001",
         87
        ],
        [
         "Bachelor's Degree",
         1475,
         3946542,
         243000,
         "Finance",
         "Male",
         "12/1/2001",
         101
        ],
        [
         "Bachelor's Degree",
         1467,
         3830349,
         239000,
         "Finance",
         "Male",
         "4/1/2001",
         111
        ],
        [
         "Bachelor's Degree",
         813,
         6622000,
         422000,
         "Finance",
         "Female",
         "8/1/2009",
         118
        ],
        [
         "Associate's Degree",
         683,
         6622000,
         422000,
         "Finance",
         "Female",
         "11/1/2006",
         118
        ],
        [
         "High School",
         832,
         6622000,
         422000,
         "Finance",
         "Male",
         "1/1/2010",
         118
        ],
        [
         "High School",
         1488,
         94000,
         6000,
         "Finance",
         "Female",
         "1/1/2002",
         119
        ],
        [
         "High School",
         1440,
         4700,
         300,
         "Finance",
         "Female",
         "1/1/2000",
         119
        ],
        [
         "Bachelor's Degree",
         347,
         79875,
         5125,
         "Finance",
         "Female",
         "11/1/1999",
         121
        ],
        [
         "High School Diploma",
         574,
         3929000,
         254000,
         "Finance",
         "Male",
         "8/1/2004",
         124
        ],
        [
         "High School Diploma",
         797,
         3929000,
         254000,
         "Finance",
         "Female",
         "4/1/2009",
         124
        ],
        [
         "Bachelor's Degree",
         836,
         3909000,
         253000,
         "Finance",
         "Male",
         "2/1/2010",
         125
        ],
        [
         "Master's Degree",
         866,
         6590000,
         429000,
         "Finance",
         "Male",
         "9/1/2010",
         127
        ],
        [
         "Bachelor's Degree",
         796,
         6590000,
         429000,
         "Finance",
         "Male",
         "4/1/2009",
         127
        ],
        [
         "Associate's Degree",
         768,
         18250000,
         1200000,
         "Finance",
         "Male",
         "9/1/2008",
         131
        ],
        [
         "Bachelor's Degree",
         467,
         84375,
         5625,
         "Finance",
         "Female",
         "5/1/2002",
         142
        ],
        [
         "Bachelor's Degree",
         369,
         84375,
         5625,
         "Finance",
         "Female",
         "5/1/2000",
         142
        ],
        [
         "Master's Degree",
         1493,
         89000,
         6000,
         "Finance",
         "Male",
         "6/1/2002",
         149
        ],
        [
         "Master's Degree",
         809,
         6555000,
         443000,
         "Finance",
         "Female",
         "7/1/2009",
         150
        ],
        [
         "Bachelor's Degree",
         644,
         6524000,
         447000,
         "Finance",
         "Male",
         "2/1/2006",
         160
        ],
        [
         "High School Diploma",
         806,
         3878000,
         267000,
         "Finance",
         "Male",
         "6/1/2009",
         166
        ],
        [
         "High School",
         825,
         3878000,
         267000,
         "Finance",
         "Female",
         "11/1/2009",
         166
        ],
        [
         "High School Diploma",
         357,
         79500,
         5500,
         "Finance",
         "Female",
         "2/1/2000",
         171
        ],
        [
         "Master's Degree",
         603,
         112200,
         7800,
         "Finance",
         "Female",
         "3/1/2005",
         178
        ],
        [
         "Bachelor's Degree",
         345,
         72840,
         5160,
         "Finance",
         "Female",
         "11/1/1999",
         191
        ],
        [
         "Bachelor's Degree",
         1498,
         84000,
         6000,
         "Finance",
         "Female",
         "11/1/2002",
         197
        ],
        [
         "College",
         1484,
         3748776,
         272147,
         "Finance",
         "Female",
         "9/1/2001",
         209
        ],
        [
         "College",
         1476,
         3738191,
         281207,
         "Finance",
         "Female",
         "1/1/2001",
         243
        ],
        [
         "Associate's Degree",
         591,
         378000,
         29000,
         "Finance",
         "Female",
         "12/1/2004",
         278
        ],
        [
         "High School Diploma",
         281,
         425000,
         33000,
         "Finance",
         "Female",
         "7/1/1998",
         291
        ],
        [
         "Bachelor's Degree",
         266,
         316000,
         25000,
         "Finance",
         "Male",
         "3/1/1998",
         316
        ],
        [
         "Bachelor's Degree",
         264,
         8154000,
         646000,
         "Finance",
         "Male",
         "3/1/1998",
         317
        ],
        [
         "High School Diploma",
         224,
         8929000,
         713000,
         "Finance",
         "Female",
         "5/1/1997",
         324
        ],
        [
         "Associate's Degree",
         551,
         14181000,
         1140000,
         "Finance",
         "Female",
         "2/1/2004",
         326
        ],
        [
         "Master's Degree",
         546,
         14181000,
         1140000,
         "Finance",
         "Male",
         "1/1/2004",
         326
        ],
        [
         "High School Diploma",
         560,
         8047500,
         652500,
         "Finance",
         "Male",
         "5/1/2004",
         332
        ],
        [
         "Associate's Degree",
         700,
         8047500,
         652500,
         "Finance",
         "Male",
         "4/1/2007",
         332
        ],
        [
         "Bachelor's Degree",
         252,
         8047500,
         652500,
         "Finance",
         "Male",
         "12/1/1997",
         332
        ],
        [
         "Bachelor's Degree",
         254,
         8047500,
         652500,
         "Finance",
         "Male",
         "12/1/1997",
         332
        ],
        [
         "Master's Degree",
         214,
         10546000,
         858000,
         "Finance",
         "Male",
         "2/1/1997",
         333
        ],
        [
         "Bachelor's Degree",
         688,
         10546000,
         858000,
         "Finance",
         "Male",
         "1/1/2007",
         333
        ],
        [
         "High School Diploma",
         527,
         83000,
         7000,
         "Finance",
         "Female",
         "8/1/2003",
         346
        ],
        [
         "Master's Degree",
         862,
         82800,
         7200,
         "Finance",
         "Male",
         "8/1/2010",
         354
        ],
        [
         "Associate's Degree",
         671,
         82800,
         7200,
         "Finance",
         "Female",
         "8/1/2006",
         354
        ],
        [
         "Master's Degree",
         622,
         101200,
         8800,
         "Finance",
         "Male",
         "8/1/2005",
         354
        ],
        [
         "High School Diploma",
         666,
         82800,
         7200,
         "Finance",
         "Male",
         "7/1/2006",
         354
        ],
        [
         "Bachelor's Degree",
         612,
         138000,
         12000,
         "Finance",
         "Male",
         "6/1/2005",
         354
        ],
        [
         "High School Diploma",
         750,
         82800,
         7200,
         "Finance",
         "Male",
         "4/1/2008",
         354
        ],
        [
         "Associate's Degree",
         607,
         101200,
         8800,
         "Finance",
         "Female",
         "4/1/2005",
         354
        ],
        [
         "Master's Degree",
         934,
         82800,
         7200,
         "Finance",
         "Male",
         "2/1/2012",
         354
        ],
        [
         "Master's Degree",
         694,
         82800,
         7200,
         "Finance",
         "Male",
         "2/1/2007",
         354
        ],
        [
         "Master's Degree",
         630,
         82800,
         7200,
         "Finance",
         "Male",
         "10/1/2005",
         354
        ],
        [
         "Master's Degree",
         430,
         91000,
         8000,
         "Finance",
         "Male",
         "8/1/2001",
         357
        ],
        [
         "Bachelor's Degree",
         993,
         11188300,
         984400,
         "Finance",
         "Female",
         "5/1/2013",
         358
        ],
        [
         "High School Diploma",
         717,
         183800,
         16200,
         "Finance",
         "Female",
         "8/1/2007",
         360
        ],
        [
         "Master's Degree",
         4,
         110000,
         10000,
         "Finance",
         "Male",
         "2/1/2021",
         374
        ],
        [
         "High School",
         1289,
         12027800,
         1109000,
         "Finance",
         "Female",
         "7/1/2020",
         380
        ],
        [
         "Bachelor's Degree",
         941,
         11237900,
         1042300,
         "Finance",
         "Female",
         "4/1/2012",
         383
        ],
        [
         "Bachelor's Degree",
         402,
         68500,
         6500,
         "Finance",
         "Male",
         "1/1/2001",
         397
        ],
        [
         "Master's Degree",
         322,
         76600,
         7400,
         "Finance",
         "Male",
         "5/1/1999",
         405
        ],
        [
         "Bachelor's Degree",
         388,
         107000,
         11000,
         "Finance",
         "Male",
         "10/1/2000",
         422
        ],
        [
         "Bachelor's Degree",
         150,
         107000,
         11000,
         "Finance",
         "Male",
         "10/1/1995",
         422
        ],
        [
         "Bachelor's Degree",
         723,
         68000,
         7000,
         "Finance",
         "Female",
         "9/1/2007",
         423
        ],
        [
         "High School Diploma",
         167,
         68000,
         7000,
         "Finance",
         "Female",
         "2/1/1996",
         423
        ],
        [
         "College",
         885,
         10993700,
         1153800,
         "Finance",
         "Female",
         "2/1/2011",
         439
        ],
        [
         "Bachelor's Degree",
         905,
         11024500,
         1167400,
         "Finance",
         "Female",
         "7/1/2011",
         442
        ],
        [
         "Master's Degree",
         476,
         135500,
         14500,
         "Finance",
         "Male",
         "8/1/2002",
         447
        ],
        [
         "High School Diploma",
         447,
         56000,
         6000,
         "Finance",
         "Female",
         "12/1/2001",
         448
        ],
        [
         "High School",
         901,
         11047400,
         1192800,
         "Finance",
         "Female",
         "6/1/2011",
         450
        ],
        [
         "Master's Degree",
         818,
         11224400,
         1227200,
         "Finance",
         "Male",
         "9/1/2009",
         456
        ],
        [
         "Master's Degree",
         10,
         739000,
         81000,
         "Finance",
         "Male",
         "3/1/2021",
         460
        ],
        [
         "Master's Degree",
         120,
         739000,
         81000,
         "Finance",
         "Male",
         "3/1/1995",
         460
        ],
        [
         "College",
         865,
         11122700,
         1230900,
         "Finance",
         "Female",
         "9/1/2010",
         466
        ],
        [
         "Associate's Degree",
         576,
         126000,
         14000,
         "Finance",
         "Male",
         "9/1/2004",
         470
        ],
        [
         "Associate's Degree",
         482,
         81000,
         9000,
         "Finance",
         "Male",
         "9/1/2002",
         470
        ],
        [
         "Master's Degree",
         76,
         99000,
         11000,
         "Finance",
         "Male",
         "8/1/2022",
         470
        ],
        [
         "Master's Degree",
         428,
         103500,
         11500,
         "Finance",
         "Male",
         "8/1/2001",
         470
        ],
        [
         "Master's Degree",
         332,
         103500,
         11500,
         "Finance",
         "Male",
         "8/1/1999",
         470
        ],
        [
         "Bachelor's Degree",
         665,
         76500,
         8500,
         "Finance",
         "Female",
         "7/1/2006",
         470
        ],
        [
         "Bachelor's Degree",
         20,
         153000,
         17000,
         "Finance",
         "Male",
         "6/1/2021",
         470
        ],
        [
         "Bachelor's Degree",
         660,
         126000,
         14000,
         "Finance",
         "Male",
         "6/1/2006",
         470
        ],
        [
         "High School Diploma",
         615,
         108000,
         12000,
         "Finance",
         "Female",
         "6/1/2005",
         470
        ],
        [
         "Associate's Degree",
         468,
         132300,
         14700,
         "Finance",
         "Male",
         "6/1/2002",
         470
        ],
        [
         "Master's Degree",
         132,
         805500,
         89500,
         "Finance",
         "Male",
         "6/1/1995",
         470
        ],
        [
         "High School Diploma",
         753,
         185400,
         20600,
         "Finance",
         "Female",
         "5/1/2008",
         470
        ],
        [
         "Bachelor's Degree",
         656,
         103500,
         11500,
         "Finance",
         "Male",
         "5/1/2006",
         470
        ],
        [
         "Master's Degree",
         416,
         126000,
         14000,
         "Finance",
         "Male",
         "5/1/2001",
         470
        ],
        [
         "Master's Degree",
         320,
         103500,
         11500,
         "Finance",
         "Male",
         "5/1/1999",
         470
        ],
        [
         "High School Diploma",
         177,
         67500,
         7500,
         "Finance",
         "Female",
         "5/1/1996",
         470
        ],
        [
         "Bachelor's Degree",
         749,
         182700,
         20300,
         "Finance",
         "Female",
         "4/1/2008",
         470
        ],
        [
         "Master's Degree",
         104,
         112500,
         12500,
         "Finance",
         "Male",
         "3/1/2023",
         470
        ],
        [
         "Bachelor's Degree",
         600,
         144000,
         16000,
         "Finance",
         "Male",
         "3/1/2005",
         470
        ],
        [
         "Associate's Degree",
         456,
         130500,
         14500,
         "Finance",
         "Male",
         "3/1/2002",
         470
        ],
        [
         "High School Diploma",
         103,
         76500,
         8500,
         "Finance",
         "Female",
         "2/1/2023",
         470
        ],
        [
         "Master's Degree",
         52,
         108000,
         12000,
         "Finance",
         "Male",
         "2/1/2022",
         470
        ],
        [
         "High School Diploma",
         693,
         76500,
         8500,
         "Finance",
         "Female",
         "2/1/2007",
         470
        ],
        [
         "High School Diploma",
         165,
         76500,
         8500,
         "Finance",
         "Female",
         "2/1/1996",
         470
        ],
        [
         "High School Diploma",
         1118,
         207000,
         23000,
         "Finance",
         "Male",
         "12/1/2015",
         470
        ],
        [
         "Bachelor's Degree",
         780,
         121500,
         13500,
         "Finance",
         "Male",
         "12/1/2008",
         470
        ],
        [
         "High School Diploma",
         781,
         81000,
         9000,
         "Finance",
         "Female",
         "12/1/2008",
         470
        ],
        [
         "Bachelor's Degree",
         588,
         675000,
         75000,
         "Finance",
         "Male",
         "12/1/2004",
         470
        ],
        [
         "Bachelor's Degree",
         541,
         81000,
         9000,
         "Finance",
         "Female",
         "12/1/2003",
         470
        ],
        [
         "High School Diploma",
         445,
         81000,
         9000,
         "Finance",
         "Female",
         "12/1/2001",
         470
        ],
        [
         "Master's Degree",
         40,
         103500,
         11500,
         "Finance",
         "Male",
         "11/1/2021",
         470
        ],
        [
         "Bachelor's Degree",
         677,
         72000,
         8000,
         "Finance",
         "Female",
         "10/1/2006",
         470
        ],
        [
         "Bachelor's Degree",
         580,
         103500,
         11500,
         "Finance",
         "Male",
         "10/1/2004",
         470
        ],
        [
         "Bachelor's Degree",
         390,
         155700,
         17300,
         "Finance",
         "Male",
         "10/1/2000",
         470
        ],
        [
         "Master's Degree",
         149,
         85500,
         9500,
         "Finance",
         "Female",
         "10/1/1995",
         470
        ],
        [
         "High School Diploma",
         3,
         76500,
         8500,
         "Finance",
         "Female",
         "1/1/2021",
         470
        ],
        [
         "High School Diploma",
         737,
         174600,
         19400,
         "Finance",
         "Female",
         "1/1/2008",
         470
        ],
        [
         "High School Diploma",
         909,
         11025900,
         1227400,
         "Finance",
         "Female",
         "8/1/2011",
         472
        ],
        [
         "High School Diploma",
         893,
         10966800,
         1224900,
         "Finance",
         "Female",
         "4/1/2011",
         473
        ],
        [
         "Bachelor's Degree",
         398,
         53000,
         6000,
         "Finance",
         "Male",
         "12/1/2000",
         477
        ],
        [
         "Bachelor's Degree",
         817,
         9581500,
         1108800,
         "Finance",
         "Female",
         "9/1/2009",
         487
        ],
        [
         "High School",
         1430,
         405000,
         50000,
         "Finance",
         "Female",
         "2/1/1999",
         501
        ],
        [
         "College",
         833,
         9516400,
         1178500,
         "Finance",
         "Female",
         "1/1/2010",
         502
        ],
        [
         "High School",
         1429,
         400000,
         50000,
         "Finance",
         "Male",
         "1/1/1999",
         505
        ],
        [
         "Master's Degree",
         78,
         133100,
         16900,
         "Finance",
         "Male",
         "8/1/2022",
         515
        ],
        [
         "College",
         913,
         10936700,
         1417900,
         "Finance",
         "Female",
         "9/1/2011",
         520
        ],
        [
         "High School",
         1081,
         10587600,
         1406500,
         "Finance",
         "Female",
         "3/1/2015",
         533
        ],
        [
         "Bachelor's Degree",
         824,
         11937500,
         1602900,
         "Finance",
         "Male",
         "11/1/2009",
         535
        ],
        [
         "Bachelor's Degree",
         583,
         15576000,
         2102400,
         "Finance",
         "Female",
         "10/1/2004",
         536
        ],
        [
         "College",
         904,
         15994200,
         2281900,
         "Finance",
         "Male",
         "7/1/2011",
         541
        ],
        [
         "Bachelor's Degree",
         900,
         16024600,
         2307600,
         "Finance",
         "Male",
         "6/1/2011",
         543
        ],
        [
         "Bachelor's Degree",
         908,
         15941800,
         2303800,
         "Finance",
         "Male",
         "8/1/2011",
         544
        ],
        [
         "High School Diploma",
         678,
         16805000,
         2445000,
         "Finance",
         "Male",
         "10/1/2006",
         547
        ],
        [
         "Master's Degree",
         738,
         16805000,
         2445000,
         "Finance",
         "Male",
         "1/1/2008",
         547
        ],
        [
         "Bachelor's Degree",
         892,
         15985300,
         2360300,
         "Finance",
         "Male",
         "4/1/2011",
         550
        ],
        [
         "Bachelor's Degree",
         924,
         14596300,
         2189300,
         "Finance",
         "Male",
         "12/1/2011",
         555
        ],
        [
         "High School",
         884,
         15860200,
         2382900,
         "Finance",
         "Male",
         "2/1/2011",
         556
        ],
        [
         "Bachelor's Degree",
         192,
         52700,
         9300,
         "Finance",
         "Male",
         "9/1/1996",
         561
        ],
        [
         "High School Diploma",
         283,
         123250,
         21750,
         "Finance",
         "Female",
         "7/1/1998",
         561
        ],
        [
         "Bachelor's Degree",
         565,
         76500,
         13500,
         "Finance",
         "Female",
         "6/1/2004",
         561
        ],
        [
         "Associate's Degree",
         471,
         56950,
         10050,
         "Finance",
         "Female",
         "6/1/2002",
         561
        ],
        [
         "Associate's Degree",
         513,
         56950,
         10050,
         "Finance",
         "Female",
         "5/1/2003",
         561
        ],
        [
         "High School Diploma",
         226,
         39100,
         6900,
         "Finance",
         "Female",
         "5/1/1997",
         561
        ],
        [
         "Bachelor's Degree",
         557,
         85000,
         15000,
         "Finance",
         "Female",
         "4/1/2004",
         561
        ],
        [
         "Bachelor's Degree",
         549,
         89250,
         15750,
         "Finance",
         "Female",
         "2/1/2004",
         561
        ],
        [
         "Master's Degree",
         212,
         56100,
         9900,
         "Finance",
         "Male",
         "2/1/1997",
         561
        ],
        [
         "High School Diploma",
         534,
         140250,
         24750,
         "Finance",
         "Male",
         "10/1/2003",
         561
        ],
        [
         "Master's Degree",
         594,
         56950,
         10050,
         "Finance",
         "Male",
         "1/1/2005",
         561
        ],
        [
         "High School Diploma",
         179,
         67500,
         12500,
         "Finance",
         "Female",
         "5/1/1996",
         562
        ],
        [
         "High School Diploma",
         619,
         80750,
         17250,
         "Finance",
         "Female",
         "7/1/2005",
         570
        ],
        [
         "Master's Degree",
         571,
         80750,
         17250,
         "Finance",
         "Female",
         "7/1/2004",
         570
        ],
        [
         "Master's Degree",
         88,
         98000,
         22000,
         "Finance",
         "Male",
         "11/1/2022",
         574
        ],
        [
         "Master's Degree",
         718,
         34900,
         7900,
         "Finance",
         "Male",
         "8/1/2007",
         575
        ],
        [
         "Bachelor's Degree",
         586,
         34900,
         7900,
         "Finance",
         "Male",
         "11/1/2004",
         575
        ],
        [
         "Bachelor's Degree",
         194,
         52700,
         13300,
         "Finance",
         "Male",
         "9/1/1996",
         579
        ],
        [
         "Master's Degree",
         334,
         142000,
         38000,
         "Finance",
         "Male",
         "8/1/1999",
         581
        ],
        [
         "Bachelor's Degree",
         788,
         200000,
         70000,
         "Finance",
         "Male",
         "2/1/2009",
         588
        ],
        [
         "Master's Degree",
         418,
         34200,
         17800,
         "Finance",
         "Male",
         "5/1/2001",
         598
        ],
        [
         "Bachelor's Degree",
         278,
         73950,
         44050,
         "Finance",
         "Male",
         "6/1/1998",
         601
        ],
        [
         "Bachelor's Degree",
         769,
         250000,
         200000,
         "Finance",
         "Female",
         "9/1/2008",
         605
        ],
        [
         "Associate's Degree",
         515,
         56950,
         53050,
         "Finance",
         "Female",
         "5/1/2003",
         606
        ],
        [
         "Master",
         2,
         6500,
         500,
         "Finance",
         "Female",
         "2023-07-12",
         2
        ]
       ],
       "datasetInfos": [],
       "dbfsResultPath": null,
       "isJsonSchema": true,
       "metadata": {
        "dataframeName": "_sqldf",
        "executionCount": 24
       },
       "overflow": false,
       "plotOptions": {
        "customPlotOptions": {},
        "displayType": "table",
        "pivotAggregation": null,
        "pivotColumns": null,
        "xColumns": null,
        "yColumns": null
       },
       "removedWidgets": [],
       "schema": [
        {
         "metadata": "{}",
         "name": "Education_Level",
         "type": "\"string\""
        },
        {
         "metadata": "{}",
         "name": "Line_Number",
         "type": "\"integer\""
        },
        {
         "metadata": "{}",
         "name": "Employed",
         "type": "\"integer\""
        },
        {
         "metadata": "{}",
         "name": "Unemployed",
         "type": "\"integer\""
        },
        {
         "metadata": "{}",
         "name": "Industry",
         "type": "\"string\""
        },
        {
         "metadata": "{}",
         "name": "Gender",
         "type": "\"string\""
        },
        {
         "metadata": "{}",
         "name": "Date_Inserted",
         "type": "\"string\""
        },
        {
         "metadata": "{}",
         "name": "dense_rank",
         "type": "\"integer\""
        }
       ],
       "type": "table"
      }
     },
     "output_type": "display_data"
    }
   ],
   "source": [
    "%sql\n",
    "select * from `delta`.vaccumtable where Industry = 'Finance'"
   ]
  },
  {
   "cell_type": "markdown",
   "metadata": {
    "application/vnd.databricks.v1+cell": {
     "cellMetadata": {},
     "inputWidgets": {},
     "nuid": "b30bffa7-b95f-44b2-9af8-5068d1bd4d42",
     "showTitle": false,
     "title": ""
    }
   },
   "source": [
    "## Performing Multiple Inserts in differenct cells. \n",
    ">> To understand each commit will be become spearate operation in Transaction log"
   ]
  },
  {
   "cell_type": "code",
   "execution_count": 0,
   "metadata": {
    "application/vnd.databricks.v1+cell": {
     "cellMetadata": {
      "byteLimit": 2048000,
      "implicitDf": true,
      "rowLimit": 10000
     },
     "inputWidgets": {},
     "nuid": "b87ac26d-b4eb-4242-946e-962c1858a172",
     "showTitle": false,
     "title": ""
    }
   },
   "outputs": [
    {
     "output_type": "display_data",
     "data": {
      "text/html": [
       "<style scoped>\n",
       "  .table-result-container {\n",
       "    max-height: 300px;\n",
       "    overflow: auto;\n",
       "  }\n",
       "  table, th, td {\n",
       "    border: 1px solid black;\n",
       "    border-collapse: collapse;\n",
       "  }\n",
       "  th, td {\n",
       "    padding: 5px;\n",
       "  }\n",
       "  th {\n",
       "    text-align: left;\n",
       "  }\n",
       "</style><div class='table-result-container'><table class='table-result'><thead style='background-color: white'><tr><th>num_affected_rows</th><th>num_inserted_rows</th></tr></thead><tbody><tr><td>1</td><td>1</td></tr></tbody></table></div>"
      ]
     },
     "metadata": {
      "application/vnd.databricks.v1+output": {
       "addedWidgets": {},
       "aggData": [],
       "aggError": "",
       "aggOverflow": false,
       "aggSchema": [],
       "aggSeriesLimitReached": false,
       "aggType": "",
       "arguments": {},
       "columnCustomDisplayInfos": {},
       "data": [
        [
         1,
         1
        ]
       ],
       "datasetInfos": [],
       "dbfsResultPath": null,
       "isJsonSchema": true,
       "metadata": {
        "dataframeName": "_sqldf",
        "executionCount": 11
       },
       "overflow": false,
       "plotOptions": {
        "customPlotOptions": {},
        "displayType": "table",
        "pivotAggregation": null,
        "pivotColumns": null,
        "xColumns": null,
        "yColumns": null
       },
       "removedWidgets": [],
       "schema": [
        {
         "metadata": "{}",
         "name": "num_affected_rows",
         "type": "\"long\""
        },
        {
         "metadata": "{}",
         "name": "num_inserted_rows",
         "type": "\"long\""
        }
       ],
       "type": "table"
      }
     },
     "output_type": "display_data"
    }
   ],
   "source": [
    "%sql\n",
    "INSERT INTO `delta`.deltafile\n",
    "VALUES\n",
    "    ('Bachelor', 1, 4500, 500, 'IT', 'Male', '2023-07-12',  1)"
   ]
  },
  {
   "cell_type": "code",
   "execution_count": 0,
   "metadata": {
    "application/vnd.databricks.v1+cell": {
     "cellMetadata": {
      "byteLimit": 2048000,
      "implicitDf": true,
      "rowLimit": 10000
     },
     "inputWidgets": {},
     "nuid": "4f1058c3-c4db-4c12-95c6-cccae7ad8275",
     "showTitle": false,
     "title": ""
    }
   },
   "outputs": [
    {
     "output_type": "display_data",
     "data": {
      "text/html": [
       "<style scoped>\n",
       "  .table-result-container {\n",
       "    max-height: 300px;\n",
       "    overflow: auto;\n",
       "  }\n",
       "  table, th, td {\n",
       "    border: 1px solid black;\n",
       "    border-collapse: collapse;\n",
       "  }\n",
       "  th, td {\n",
       "    padding: 5px;\n",
       "  }\n",
       "  th {\n",
       "    text-align: left;\n",
       "  }\n",
       "</style><div class='table-result-container'><table class='table-result'><thead style='background-color: white'><tr><th>num_affected_rows</th><th>num_inserted_rows</th></tr></thead><tbody><tr><td>1</td><td>1</td></tr></tbody></table></div>"
      ]
     },
     "metadata": {
      "application/vnd.databricks.v1+output": {
       "addedWidgets": {},
       "aggData": [],
       "aggError": "",
       "aggOverflow": false,
       "aggSchema": [],
       "aggSeriesLimitReached": false,
       "aggType": "",
       "arguments": {},
       "columnCustomDisplayInfos": {},
       "data": [
        [
         1,
         1
        ]
       ],
       "datasetInfos": [],
       "dbfsResultPath": null,
       "isJsonSchema": true,
       "metadata": {
        "dataframeName": "_sqldf",
        "executionCount": 18
       },
       "overflow": false,
       "plotOptions": {
        "customPlotOptions": {},
        "displayType": "table",
        "pivotAggregation": null,
        "pivotColumns": null,
        "xColumns": null,
        "yColumns": null
       },
       "removedWidgets": [],
       "schema": [
        {
         "metadata": "{}",
         "name": "num_affected_rows",
         "type": "\"long\""
        },
        {
         "metadata": "{}",
         "name": "num_inserted_rows",
         "type": "\"long\""
        }
       ],
       "type": "table"
      }
     },
     "output_type": "display_data"
    }
   ],
   "source": [
    "%sql\n",
    "INSERT INTO `delta`.vaccumtable\n",
    "VALUES\n",
    "    \n",
    "    ('Master', 2, 6500, 500, 'Finance', 'Female', '2023-07-12', 2)"
   ]
  },
  {
   "cell_type": "code",
   "execution_count": 0,
   "metadata": {
    "application/vnd.databricks.v1+cell": {
     "cellMetadata": {
      "byteLimit": 2048000,
      "implicitDf": true,
      "rowLimit": 10000
     },
     "inputWidgets": {},
     "nuid": "6d4f0778-04d0-4db8-95d4-3fbd85c882a9",
     "showTitle": false,
     "title": ""
    }
   },
   "outputs": [
    {
     "output_type": "display_data",
     "data": {
      "text/html": [
       "<style scoped>\n",
       "  .table-result-container {\n",
       "    max-height: 300px;\n",
       "    overflow: auto;\n",
       "  }\n",
       "  table, th, td {\n",
       "    border: 1px solid black;\n",
       "    border-collapse: collapse;\n",
       "  }\n",
       "  th, td {\n",
       "    padding: 5px;\n",
       "  }\n",
       "  th {\n",
       "    text-align: left;\n",
       "  }\n",
       "</style><div class='table-result-container'><table class='table-result'><thead style='background-color: white'><tr><th>num_affected_rows</th><th>num_inserted_rows</th></tr></thead><tbody><tr><td>1</td><td>1</td></tr></tbody></table></div>"
      ]
     },
     "metadata": {
      "application/vnd.databricks.v1+output": {
       "addedWidgets": {},
       "aggData": [],
       "aggError": "",
       "aggOverflow": false,
       "aggSchema": [],
       "aggSeriesLimitReached": false,
       "aggType": "",
       "arguments": {},
       "columnCustomDisplayInfos": {},
       "data": [
        [
         1,
         1
        ]
       ],
       "datasetInfos": [],
       "dbfsResultPath": null,
       "isJsonSchema": true,
       "metadata": {
        "dataframeName": "_sqldf",
        "executionCount": 19
       },
       "overflow": false,
       "plotOptions": {
        "customPlotOptions": {},
        "displayType": "table",
        "pivotAggregation": null,
        "pivotColumns": null,
        "xColumns": null,
        "yColumns": null
       },
       "removedWidgets": [],
       "schema": [
        {
         "metadata": "{}",
         "name": "num_affected_rows",
         "type": "\"long\""
        },
        {
         "metadata": "{}",
         "name": "num_inserted_rows",
         "type": "\"long\""
        }
       ],
       "type": "table"
      }
     },
     "output_type": "display_data"
    }
   ],
   "source": [
    "%sql\n",
    "INSERT INTO `delta`.vaccumtable\n",
    "VALUES\n",
    " \n",
    "    ('High School', 3, 3500, 500, 'Retail', 'Male', '2023-07-12', 3)"
   ]
  },
  {
   "cell_type": "code",
   "execution_count": 0,
   "metadata": {
    "application/vnd.databricks.v1+cell": {
     "cellMetadata": {
      "byteLimit": 2048000,
      "implicitDf": true,
      "rowLimit": 10000
     },
     "inputWidgets": {},
     "nuid": "282904f2-0032-4750-a348-63a511a25c7e",
     "showTitle": false,
     "title": ""
    }
   },
   "outputs": [
    {
     "output_type": "display_data",
     "data": {
      "text/html": [
       "<style scoped>\n",
       "  .table-result-container {\n",
       "    max-height: 300px;\n",
       "    overflow: auto;\n",
       "  }\n",
       "  table, th, td {\n",
       "    border: 1px solid black;\n",
       "    border-collapse: collapse;\n",
       "  }\n",
       "  th, td {\n",
       "    padding: 5px;\n",
       "  }\n",
       "  th {\n",
       "    text-align: left;\n",
       "  }\n",
       "</style><div class='table-result-container'><table class='table-result'><thead style='background-color: white'><tr><th>num_affected_rows</th><th>num_inserted_rows</th></tr></thead><tbody><tr><td>1</td><td>1</td></tr></tbody></table></div>"
      ]
     },
     "metadata": {
      "application/vnd.databricks.v1+output": {
       "addedWidgets": {},
       "aggData": [],
       "aggError": "",
       "aggOverflow": false,
       "aggSchema": [],
       "aggSeriesLimitReached": false,
       "aggType": "",
       "arguments": {},
       "columnCustomDisplayInfos": {},
       "data": [
        [
         1,
         1
        ]
       ],
       "datasetInfos": [],
       "dbfsResultPath": null,
       "isJsonSchema": true,
       "metadata": {
        "dataframeName": "_sqldf",
        "executionCount": 20
       },
       "overflow": false,
       "plotOptions": {
        "customPlotOptions": {},
        "displayType": "table",
        "pivotAggregation": null,
        "pivotColumns": null,
        "xColumns": null,
        "yColumns": null
       },
       "removedWidgets": [],
       "schema": [
        {
         "metadata": "{}",
         "name": "num_affected_rows",
         "type": "\"long\""
        },
        {
         "metadata": "{}",
         "name": "num_inserted_rows",
         "type": "\"long\""
        }
       ],
       "type": "table"
      }
     },
     "output_type": "display_data"
    }
   ],
   "source": [
    "%sql\n",
    "INSERT INTO `delta`.vaccumtable\n",
    "VALUES\n",
    "    ('PhD', 4, 5500, 500, 'Healthcare', 'Female', '2023-07-12', 4);"
   ]
  },
  {
   "cell_type": "code",
   "execution_count": 0,
   "metadata": {
    "application/vnd.databricks.v1+cell": {
     "cellMetadata": {},
     "inputWidgets": {},
     "nuid": "2b2667d4-e3f6-4627-b303-36b9f6f4b927",
     "showTitle": false,
     "title": ""
    }
   },
   "outputs": [],
   "source": [
    "%sql "
   ]
  },
  {
   "cell_type": "markdown",
   "metadata": {
    "application/vnd.databricks.v1+cell": {
     "cellMetadata": {},
     "inputWidgets": {},
     "nuid": "c87e88fc-5592-4dc6-a867-9c405ca12ca5",
     "showTitle": false,
     "title": ""
    }
   },
   "source": [
    "## Performing multiple Updates "
   ]
  },
  {
   "cell_type": "code",
   "execution_count": 0,
   "metadata": {
    "application/vnd.databricks.v1+cell": {
     "cellMetadata": {
      "byteLimit": 2048000,
      "implicitDf": true,
      "rowLimit": 10000
     },
     "inputWidgets": {},
     "nuid": "54d28590-3d52-45f7-9a04-7d72557f8cc9",
     "showTitle": false,
     "title": ""
    }
   },
   "outputs": [
    {
     "output_type": "display_data",
     "data": {
      "text/html": [
       "<style scoped>\n",
       "  .table-result-container {\n",
       "    max-height: 300px;\n",
       "    overflow: auto;\n",
       "  }\n",
       "  table, th, td {\n",
       "    border: 1px solid black;\n",
       "    border-collapse: collapse;\n",
       "  }\n",
       "  th, td {\n",
       "    padding: 5px;\n",
       "  }\n",
       "  th {\n",
       "    text-align: left;\n",
       "  }\n",
       "</style><div class='table-result-container'><table class='table-result'><thead style='background-color: white'><tr><th>num_affected_rows</th></tr></thead><tbody><tr><td>165</td></tr></tbody></table></div>"
      ]
     },
     "metadata": {
      "application/vnd.databricks.v1+output": {
       "addedWidgets": {},
       "aggData": [],
       "aggError": "",
       "aggOverflow": false,
       "aggSchema": [],
       "aggSeriesLimitReached": false,
       "aggType": "",
       "arguments": {},
       "columnCustomDisplayInfos": {},
       "data": [
        [
         165
        ]
       ],
       "datasetInfos": [],
       "dbfsResultPath": null,
       "isJsonSchema": true,
       "metadata": {
        "dataframeName": "_sqldf",
        "executionCount": 25
       },
       "overflow": false,
       "plotOptions": {
        "customPlotOptions": {},
        "displayType": "table",
        "pivotAggregation": null,
        "pivotColumns": null,
        "xColumns": null,
        "yColumns": null
       },
       "removedWidgets": [],
       "schema": [
        {
         "metadata": "{}",
         "name": "num_affected_rows",
         "type": "\"long\""
        }
       ],
       "type": "table"
      }
     },
     "output_type": "display_data"
    }
   ],
   "source": [
    "%sql \n",
    "\n",
    "update `delta`.vaccumtable\n",
    "set Education_Level = 'Phd'\n",
    "where Industry = 'Finance';"
   ]
  },
  {
   "cell_type": "code",
   "execution_count": 0,
   "metadata": {
    "application/vnd.databricks.v1+cell": {
     "cellMetadata": {
      "byteLimit": 2048000,
      "implicitDf": true,
      "rowLimit": 10000
     },
     "inputWidgets": {},
     "nuid": "052a5e22-d6cc-4f80-baa7-63294333d26d",
     "showTitle": false,
     "title": ""
    }
   },
   "outputs": [
    {
     "output_type": "display_data",
     "data": {
      "text/html": [
       "<style scoped>\n",
       "  .table-result-container {\n",
       "    max-height: 300px;\n",
       "    overflow: auto;\n",
       "  }\n",
       "  table, th, td {\n",
       "    border: 1px solid black;\n",
       "    border-collapse: collapse;\n",
       "  }\n",
       "  th, td {\n",
       "    padding: 5px;\n",
       "  }\n",
       "  th {\n",
       "    text-align: left;\n",
       "  }\n",
       "</style><div class='table-result-container'><table class='table-result'><thead style='background-color: white'><tr><th>num_affected_rows</th></tr></thead><tbody><tr><td>165</td></tr></tbody></table></div>"
      ]
     },
     "metadata": {
      "application/vnd.databricks.v1+output": {
       "addedWidgets": {},
       "aggData": [],
       "aggError": "",
       "aggOverflow": false,
       "aggSchema": [],
       "aggSeriesLimitReached": false,
       "aggType": "",
       "arguments": {},
       "columnCustomDisplayInfos": {},
       "data": [
        [
         165
        ]
       ],
       "datasetInfos": [],
       "dbfsResultPath": null,
       "isJsonSchema": true,
       "metadata": {
        "dataframeName": "_sqldf",
        "executionCount": 26
       },
       "overflow": false,
       "plotOptions": {
        "customPlotOptions": {},
        "displayType": "table",
        "pivotAggregation": null,
        "pivotColumns": null,
        "xColumns": null,
        "yColumns": null
       },
       "removedWidgets": [],
       "schema": [
        {
         "metadata": "{}",
         "name": "num_affected_rows",
         "type": "\"long\""
        }
       ],
       "type": "table"
      }
     },
     "output_type": "display_data"
    }
   ],
   "source": [
    "%sql\n",
    "-- perfomrm delete \n",
    "\n",
    "DELETE from `delta`.vaccumtable\n",
    "where Education_Level = 'Phd'"
   ]
  },
  {
   "cell_type": "code",
   "execution_count": 0,
   "metadata": {
    "application/vnd.databricks.v1+cell": {
     "cellMetadata": {
      "byteLimit": 2048000,
      "implicitDf": true,
      "rowLimit": 10000
     },
     "inputWidgets": {},
     "nuid": "ce9cabc2-b1ca-4cf4-b755-5738810ace1a",
     "showTitle": false,
     "title": ""
    }
   },
   "outputs": [
    {
     "output_type": "display_data",
     "data": {
      "text/html": [
       "<style scoped>\n",
       "  .table-result-container {\n",
       "    max-height: 300px;\n",
       "    overflow: auto;\n",
       "  }\n",
       "  table, th, td {\n",
       "    border: 1px solid black;\n",
       "    border-collapse: collapse;\n",
       "  }\n",
       "  th, td {\n",
       "    padding: 5px;\n",
       "  }\n",
       "  th {\n",
       "    text-align: left;\n",
       "  }\n",
       "</style><div class='table-result-container'><table class='table-result'><thead style='background-color: white'><tr><th>version</th><th>timestamp</th><th>userId</th><th>userName</th><th>operation</th><th>operationParameters</th><th>job</th><th>notebook</th><th>clusterId</th><th>readVersion</th><th>isolationLevel</th><th>isBlindAppend</th><th>operationMetrics</th><th>userMetadata</th><th>engineInfo</th></tr></thead><tbody><tr><td>7</td><td>2024-02-28T06:33:44Z</td><td>4700893722167418</td><td>lokeswar.valluru@xyenta.com</td><td>DELETE</td><td>Map(predicate -> [\"(Education_Level#7056 = Phd)\"])</td><td>null</td><td>List(3765828261440188)</td><td>1227-053858-m1tsqg19</td><td>6</td><td>WriteSerializable</td><td>false</td><td>Map(numRemovedFiles -> 2, numRemovedBytes -> 28170, numCopiedRows -> 1360, numDeletionVectorsAdded -> 0, numDeletionVectorsRemoved -> 0, numAddedChangeFiles -> 0, executionTimeMs -> 786, numDeletedRows -> 165, scanTimeMs -> 370, numAddedFiles -> 1, numAddedBytes -> 24031, rewriteTimeMs -> 416)</td><td>null</td><td>Databricks-Runtime/13.3.x-photon-scala2.12</td></tr><tr><td>6</td><td>2024-02-28T06:32:58Z</td><td>4700893722167418</td><td>lokeswar.valluru@xyenta.com</td><td>UPDATE</td><td>Map(predicate -> [\"(Industry#6442 = Finance)\"])</td><td>null</td><td>List(3765828261440188)</td><td>1227-053858-m1tsqg19</td><td>5</td><td>WriteSerializable</td><td>false</td><td>Map(numRemovedFiles -> 2, numRemovedBytes -> 27963, numCopiedRows -> 1360, numDeletionVectorsAdded -> 0, numDeletionVectorsRemoved -> 0, numAddedChangeFiles -> 0, executionTimeMs -> 977, scanTimeMs -> 334, numAddedFiles -> 2, numUpdatedRows -> 165, numAddedBytes -> 28170, rewriteTimeMs -> 643)</td><td>null</td><td>Databricks-Runtime/13.3.x-photon-scala2.12</td></tr><tr><td>5</td><td>2024-02-28T06:31:34Z</td><td>4700893722167418</td><td>lokeswar.valluru@xyenta.com</td><td>UPDATE</td><td>Map(predicate -> [\"(Industry#5715 = Networking)\"])</td><td>null</td><td>List(3765828261440188)</td><td>1227-053858-m1tsqg19</td><td>4</td><td>WriteSerializable</td><td>false</td><td>Map(numRemovedFiles -> 0, numRemovedBytes -> 0, numCopiedRows -> 0, numDeletionVectorsAdded -> 0, numDeletionVectorsRemoved -> 0, numAddedChangeFiles -> 0, executionTimeMs -> 171, scanTimeMs -> 171, numAddedFiles -> 0, numUpdatedRows -> 0, numAddedBytes -> 0, rewriteTimeMs -> 0)</td><td>null</td><td>Databricks-Runtime/13.3.x-photon-scala2.12</td></tr><tr><td>4</td><td>2024-02-28T06:31:19Z</td><td>4700893722167418</td><td>lokeswar.valluru@xyenta.com</td><td>WRITE</td><td>Map(mode -> Append, statsOnLoad -> false, partitionBy -> [])</td><td>null</td><td>List(3765828261440188)</td><td>1227-053858-m1tsqg19</td><td>3</td><td>WriteSerializable</td><td>true</td><td>Map(numFiles -> 1, numOutputRows -> 1, numOutputBytes -> 1951)</td><td>null</td><td>Databricks-Runtime/13.3.x-photon-scala2.12</td></tr><tr><td>3</td><td>2024-02-28T06:31:13Z</td><td>4700893722167418</td><td>lokeswar.valluru@xyenta.com</td><td>WRITE</td><td>Map(mode -> Append, statsOnLoad -> false, partitionBy -> [])</td><td>null</td><td>List(3765828261440188)</td><td>1227-053858-m1tsqg19</td><td>2</td><td>WriteSerializable</td><td>true</td><td>Map(numFiles -> 1, numOutputRows -> 1, numOutputBytes -> 1961)</td><td>null</td><td>Databricks-Runtime/13.3.x-photon-scala2.12</td></tr><tr><td>2</td><td>2024-02-28T06:31:11Z</td><td>4700893722167418</td><td>lokeswar.valluru@xyenta.com</td><td>WRITE</td><td>Map(mode -> Append, statsOnLoad -> false, partitionBy -> [])</td><td>null</td><td>List(3765828261440188)</td><td>1227-053858-m1tsqg19</td><td>1</td><td>WriteSerializable</td><td>true</td><td>Map(numFiles -> 1, numOutputRows -> 1, numOutputBytes -> 1949)</td><td>null</td><td>Databricks-Runtime/13.3.x-photon-scala2.12</td></tr><tr><td>1</td><td>2024-02-28T06:29:50Z</td><td>4700893722167418</td><td>lokeswar.valluru@xyenta.com</td><td>UPDATE</td><td>Map(predicate -> [\"(Industry#3726 = Networking)\"])</td><td>null</td><td>List(3765828261440188)</td><td>1227-053858-m1tsqg19</td><td>0</td><td>WriteSerializable</td><td>false</td><td>Map(numRemovedFiles -> 0, numRemovedBytes -> 0, numCopiedRows -> 0, numDeletionVectorsAdded -> 0, numDeletionVectorsRemoved -> 0, numAddedChangeFiles -> 0, executionTimeMs -> 808, scanTimeMs -> 781, numAddedFiles -> 0, numUpdatedRows -> 0, numAddedBytes -> 0, rewriteTimeMs -> 0)</td><td>null</td><td>Databricks-Runtime/13.3.x-photon-scala2.12</td></tr><tr><td>0</td><td>2024-02-28T06:23:04Z</td><td>4700893722167418</td><td>lokeswar.valluru@xyenta.com</td><td>CREATE TABLE AS SELECT</td><td>Map(partitionBy -> [], description -> null, isManaged -> true, properties -> {}, statsOnLoad -> false)</td><td>null</td><td>List(3765828261440188)</td><td>1227-053858-m1tsqg19</td><td>null</td><td>WriteSerializable</td><td>true</td><td>Map(numFiles -> 1, numOutputRows -> 1524, numOutputBytes -> 26014)</td><td>null</td><td>Databricks-Runtime/13.3.x-photon-scala2.12</td></tr></tbody></table></div>"
      ]
     },
     "metadata": {
      "application/vnd.databricks.v1+output": {
       "addedWidgets": {},
       "aggData": [],
       "aggError": "",
       "aggOverflow": false,
       "aggSchema": [],
       "aggSeriesLimitReached": false,
       "aggType": "",
       "arguments": {},
       "columnCustomDisplayInfos": {},
       "data": [
        [
         7,
         "2024-02-28T06:33:44Z",
         "4700893722167418",
         "lokeswar.valluru@xyenta.com",
         "DELETE",
         {
          "predicate": "[\"(Education_Level#7056 = Phd)\"]"
         },
         null,
         [
          "3765828261440188"
         ],
         "1227-053858-m1tsqg19",
         6,
         "WriteSerializable",
         false,
         {
          "executionTimeMs": "786",
          "numAddedBytes": "24031",
          "numAddedChangeFiles": "0",
          "numAddedFiles": "1",
          "numCopiedRows": "1360",
          "numDeletedRows": "165",
          "numDeletionVectorsAdded": "0",
          "numDeletionVectorsRemoved": "0",
          "numRemovedBytes": "28170",
          "numRemovedFiles": "2",
          "rewriteTimeMs": "416",
          "scanTimeMs": "370"
         },
         null,
         "Databricks-Runtime/13.3.x-photon-scala2.12"
        ],
        [
         6,
         "2024-02-28T06:32:58Z",
         "4700893722167418",
         "lokeswar.valluru@xyenta.com",
         "UPDATE",
         {
          "predicate": "[\"(Industry#6442 = Finance)\"]"
         },
         null,
         [
          "3765828261440188"
         ],
         "1227-053858-m1tsqg19",
         5,
         "WriteSerializable",
         false,
         {
          "executionTimeMs": "977",
          "numAddedBytes": "28170",
          "numAddedChangeFiles": "0",
          "numAddedFiles": "2",
          "numCopiedRows": "1360",
          "numDeletionVectorsAdded": "0",
          "numDeletionVectorsRemoved": "0",
          "numRemovedBytes": "27963",
          "numRemovedFiles": "2",
          "numUpdatedRows": "165",
          "rewriteTimeMs": "643",
          "scanTimeMs": "334"
         },
         null,
         "Databricks-Runtime/13.3.x-photon-scala2.12"
        ],
        [
         5,
         "2024-02-28T06:31:34Z",
         "4700893722167418",
         "lokeswar.valluru@xyenta.com",
         "UPDATE",
         {
          "predicate": "[\"(Industry#5715 = Networking)\"]"
         },
         null,
         [
          "3765828261440188"
         ],
         "1227-053858-m1tsqg19",
         4,
         "WriteSerializable",
         false,
         {
          "executionTimeMs": "171",
          "numAddedBytes": "0",
          "numAddedChangeFiles": "0",
          "numAddedFiles": "0",
          "numCopiedRows": "0",
          "numDeletionVectorsAdded": "0",
          "numDeletionVectorsRemoved": "0",
          "numRemovedBytes": "0",
          "numRemovedFiles": "0",
          "numUpdatedRows": "0",
          "rewriteTimeMs": "0",
          "scanTimeMs": "171"
         },
         null,
         "Databricks-Runtime/13.3.x-photon-scala2.12"
        ],
        [
         4,
         "2024-02-28T06:31:19Z",
         "4700893722167418",
         "lokeswar.valluru@xyenta.com",
         "WRITE",
         {
          "mode": "Append",
          "partitionBy": "[]",
          "statsOnLoad": "false"
         },
         null,
         [
          "3765828261440188"
         ],
         "1227-053858-m1tsqg19",
         3,
         "WriteSerializable",
         true,
         {
          "numFiles": "1",
          "numOutputBytes": "1951",
          "numOutputRows": "1"
         },
         null,
         "Databricks-Runtime/13.3.x-photon-scala2.12"
        ],
        [
         3,
         "2024-02-28T06:31:13Z",
         "4700893722167418",
         "lokeswar.valluru@xyenta.com",
         "WRITE",
         {
          "mode": "Append",
          "partitionBy": "[]",
          "statsOnLoad": "false"
         },
         null,
         [
          "3765828261440188"
         ],
         "1227-053858-m1tsqg19",
         2,
         "WriteSerializable",
         true,
         {
          "numFiles": "1",
          "numOutputBytes": "1961",
          "numOutputRows": "1"
         },
         null,
         "Databricks-Runtime/13.3.x-photon-scala2.12"
        ],
        [
         2,
         "2024-02-28T06:31:11Z",
         "4700893722167418",
         "lokeswar.valluru@xyenta.com",
         "WRITE",
         {
          "mode": "Append",
          "partitionBy": "[]",
          "statsOnLoad": "false"
         },
         null,
         [
          "3765828261440188"
         ],
         "1227-053858-m1tsqg19",
         1,
         "WriteSerializable",
         true,
         {
          "numFiles": "1",
          "numOutputBytes": "1949",
          "numOutputRows": "1"
         },
         null,
         "Databricks-Runtime/13.3.x-photon-scala2.12"
        ],
        [
         1,
         "2024-02-28T06:29:50Z",
         "4700893722167418",
         "lokeswar.valluru@xyenta.com",
         "UPDATE",
         {
          "predicate": "[\"(Industry#3726 = Networking)\"]"
         },
         null,
         [
          "3765828261440188"
         ],
         "1227-053858-m1tsqg19",
         0,
         "WriteSerializable",
         false,
         {
          "executionTimeMs": "808",
          "numAddedBytes": "0",
          "numAddedChangeFiles": "0",
          "numAddedFiles": "0",
          "numCopiedRows": "0",
          "numDeletionVectorsAdded": "0",
          "numDeletionVectorsRemoved": "0",
          "numRemovedBytes": "0",
          "numRemovedFiles": "0",
          "numUpdatedRows": "0",
          "rewriteTimeMs": "0",
          "scanTimeMs": "781"
         },
         null,
         "Databricks-Runtime/13.3.x-photon-scala2.12"
        ],
        [
         0,
         "2024-02-28T06:23:04Z",
         "4700893722167418",
         "lokeswar.valluru@xyenta.com",
         "CREATE TABLE AS SELECT",
         {
          "description": null,
          "isManaged": "true",
          "partitionBy": "[]",
          "properties": "{}",
          "statsOnLoad": "false"
         },
         null,
         [
          "3765828261440188"
         ],
         "1227-053858-m1tsqg19",
         null,
         "WriteSerializable",
         true,
         {
          "numFiles": "1",
          "numOutputBytes": "26014",
          "numOutputRows": "1524"
         },
         null,
         "Databricks-Runtime/13.3.x-photon-scala2.12"
        ]
       ],
       "datasetInfos": [],
       "dbfsResultPath": null,
       "isJsonSchema": true,
       "metadata": {
        "dataframeName": "_sqldf",
        "executionCount": 27
       },
       "overflow": false,
       "plotOptions": {
        "customPlotOptions": {},
        "displayType": "table",
        "pivotAggregation": null,
        "pivotColumns": null,
        "xColumns": null,
        "yColumns": null
       },
       "removedWidgets": [],
       "schema": [
        {
         "metadata": "{}",
         "name": "version",
         "type": "\"long\""
        },
        {
         "metadata": "{}",
         "name": "timestamp",
         "type": "\"timestamp\""
        },
        {
         "metadata": "{}",
         "name": "userId",
         "type": "\"string\""
        },
        {
         "metadata": "{}",
         "name": "userName",
         "type": "\"string\""
        },
        {
         "metadata": "{}",
         "name": "operation",
         "type": "\"string\""
        },
        {
         "metadata": "{}",
         "name": "operationParameters",
         "type": "{\"type\":\"map\",\"keyType\":\"string\",\"valueType\":\"string\",\"valueContainsNull\":true}"
        },
        {
         "metadata": "{}",
         "name": "job",
         "type": "{\"type\":\"struct\",\"fields\":[{\"name\":\"jobId\",\"type\":\"string\",\"nullable\":true,\"metadata\":{}},{\"name\":\"jobName\",\"type\":\"string\",\"nullable\":true,\"metadata\":{}},{\"name\":\"jobRunId\",\"type\":\"string\",\"nullable\":true,\"metadata\":{}},{\"name\":\"runId\",\"type\":\"string\",\"nullable\":true,\"metadata\":{}},{\"name\":\"jobOwnerId\",\"type\":\"string\",\"nullable\":true,\"metadata\":{}},{\"name\":\"triggerType\",\"type\":\"string\",\"nullable\":true,\"metadata\":{}}]}"
        },
        {
         "metadata": "{}",
         "name": "notebook",
         "type": "{\"type\":\"struct\",\"fields\":[{\"name\":\"notebookId\",\"type\":\"string\",\"nullable\":true,\"metadata\":{}}]}"
        },
        {
         "metadata": "{}",
         "name": "clusterId",
         "type": "\"string\""
        },
        {
         "metadata": "{}",
         "name": "readVersion",
         "type": "\"long\""
        },
        {
         "metadata": "{}",
         "name": "isolationLevel",
         "type": "\"string\""
        },
        {
         "metadata": "{}",
         "name": "isBlindAppend",
         "type": "\"boolean\""
        },
        {
         "metadata": "{}",
         "name": "operationMetrics",
         "type": "{\"type\":\"map\",\"keyType\":\"string\",\"valueType\":\"string\",\"valueContainsNull\":true}"
        },
        {
         "metadata": "{}",
         "name": "userMetadata",
         "type": "\"string\""
        },
        {
         "metadata": "{}",
         "name": "engineInfo",
         "type": "\"string\""
        }
       ],
       "type": "table"
      }
     },
     "output_type": "display_data"
    }
   ],
   "source": [
    "%sql\n",
    "DESCRIBE HISTORY `delta`.vaccumtable"
   ]
  },
  {
   "cell_type": "markdown",
   "metadata": {
    "application/vnd.databricks.v1+cell": {
     "cellMetadata": {},
     "inputWidgets": {},
     "nuid": "91e9d8a4-dd2d-42c9-9794-27ad32a4195d",
     "showTitle": false,
     "title": ""
    }
   },
   "source": [
    ">> in order to know how many files will be deleted, you can make use of the dry run feature in the Vaccum"
   ]
  },
  {
   "cell_type": "code",
   "execution_count": 0,
   "metadata": {
    "application/vnd.databricks.v1+cell": {
     "cellMetadata": {
      "byteLimit": 2048000,
      "rowLimit": 10000
     },
     "inputWidgets": {},
     "nuid": "12123235-17b0-4d73-a260-00f4f4334968",
     "showTitle": false,
     "title": ""
    }
   },
   "outputs": [
    {
     "output_type": "execute_result",
     "data": {
      "text/plain": [
       "[FileInfo(path='dbfs:/user/hive/warehouse/delta.db/vaccumtable/_delta_log/', name='_delta_log/', size=0, modificationTime=1709101374000),\n",
       " FileInfo(path='dbfs:/user/hive/warehouse/delta.db/vaccumtable/part-00000-1823be1c-f655-4756-b330-3c6c890403a3.c000.snappy.parquet', name='part-00000-1823be1c-f655-4756-b330-3c6c890403a3.c000.snappy.parquet', size=1951, modificationTime=1709101878000),\n",
       " FileInfo(path='dbfs:/user/hive/warehouse/delta.db/vaccumtable/part-00000-58367f2c-f3d7-414c-897e-5f6132f9907a.c000.snappy.parquet', name='part-00000-58367f2c-f3d7-414c-897e-5f6132f9907a.c000.snappy.parquet', size=1961, modificationTime=1709101873000),\n",
       " FileInfo(path='dbfs:/user/hive/warehouse/delta.db/vaccumtable/part-00000-79116b00-b930-46de-8f9e-bd4d5d9ae1a2.c000.snappy.parquet', name='part-00000-79116b00-b930-46de-8f9e-bd4d5d9ae1a2.c000.snappy.parquet', size=24031, modificationTime=1709102024000),\n",
       " FileInfo(path='dbfs:/user/hive/warehouse/delta.db/vaccumtable/part-00000-c63152b2-02fc-4155-83ef-167b5be29ee9.c000.snappy.parquet', name='part-00000-c63152b2-02fc-4155-83ef-167b5be29ee9.c000.snappy.parquet', size=1949, modificationTime=1709101870000),\n",
       " FileInfo(path='dbfs:/user/hive/warehouse/delta.db/vaccumtable/part-00000-dd05b318-d3ad-4341-be53-1ecd06defa84.c000.snappy.parquet', name='part-00000-dd05b318-d3ad-4341-be53-1ecd06defa84.c000.snappy.parquet', size=26014, modificationTime=1709101375000),\n",
       " FileInfo(path='dbfs:/user/hive/warehouse/delta.db/vaccumtable/part-00000-e9a35eac-cb5d-423b-810d-4e8f9c8cb0cf.c000.snappy.parquet', name='part-00000-e9a35eac-cb5d-423b-810d-4e8f9c8cb0cf.c000.snappy.parquet', size=26187, modificationTime=1709101978000),\n",
       " FileInfo(path='dbfs:/user/hive/warehouse/delta.db/vaccumtable/part-00001-e0f62a07-ffd6-47fb-8691-51ba7c4f1331.c000.snappy.parquet', name='part-00001-e0f62a07-ffd6-47fb-8691-51ba7c4f1331.c000.snappy.parquet', size=1983, modificationTime=1709101978000)]"
      ]
     },
     "execution_count": 28,
     "metadata": {},
     "output_type": "execute_result"
    }
   ],
   "source": [
    "dbutils.fs.ls('dbfs:/user/hive/warehouse/delta.db/vaccumtable') #here total 7 parquet files created due to sperate operations "
   ]
  },
  {
   "cell_type": "code",
   "execution_count": 0,
   "metadata": {
    "application/vnd.databricks.v1+cell": {
     "cellMetadata": {
      "byteLimit": 2048000,
      "implicitDf": true,
      "rowLimit": 10000
     },
     "inputWidgets": {},
     "nuid": "01996c83-99d3-4898-b5ce-44fe07251673",
     "showTitle": false,
     "title": ""
    }
   },
   "outputs": [
    {
     "output_type": "display_data",
     "data": {
      "text/html": [
       "<style scoped>\n",
       "  .table-result-container {\n",
       "    max-height: 300px;\n",
       "    overflow: auto;\n",
       "  }\n",
       "  table, th, td {\n",
       "    border: 1px solid black;\n",
       "    border-collapse: collapse;\n",
       "  }\n",
       "  th, td {\n",
       "    padding: 5px;\n",
       "  }\n",
       "  th {\n",
       "    text-align: left;\n",
       "  }\n",
       "</style><div class='table-result-container'><table class='table-result'><thead style='background-color: white'><tr><th>path</th></tr></thead><tbody></tbody></table></div>"
      ]
     },
     "metadata": {
      "application/vnd.databricks.v1+output": {
       "addedWidgets": {},
       "aggData": [],
       "aggError": "",
       "aggOverflow": false,
       "aggSchema": [],
       "aggSeriesLimitReached": false,
       "aggType": "",
       "arguments": {},
       "columnCustomDisplayInfos": {},
       "data": [],
       "datasetInfos": [],
       "dbfsResultPath": null,
       "isJsonSchema": true,
       "metadata": {
        "dataframeName": "_sqldf",
        "executionCount": 30
       },
       "overflow": false,
       "plotOptions": {
        "customPlotOptions": {},
        "displayType": "table",
        "pivotAggregation": null,
        "pivotColumns": null,
        "xColumns": null,
        "yColumns": null
       },
       "removedWidgets": [],
       "schema": [
        {
         "metadata": "{}",
         "name": "path",
         "type": "\"string\""
        }
       ],
       "type": "table"
      }
     },
     "output_type": "display_data"
    }
   ],
   "source": [
    "%sql\n",
    "\n",
    "VACUUM `delta`.vaccumtable DRY RUN \n",
    "\n",
    "-- IT WON'T RETURN ANY RESULT BECAUSE WE DON'T HAVE DATA FROM PREVIOUS 7 DAYS OLD "
   ]
  },
  {
   "cell_type": "code",
   "execution_count": 0,
   "metadata": {
    "application/vnd.databricks.v1+cell": {
     "cellMetadata": {},
     "inputWidgets": {},
     "nuid": "f46e889b-5fb0-4560-a0b6-abed2f2b72e0",
     "showTitle": false,
     "title": ""
    }
   },
   "outputs": [],
   "source": []
  }
 ],
 "metadata": {
  "application/vnd.databricks.v1+notebook": {
   "dashboards": [],
   "language": "python",
   "notebookMetadata": {
    "mostRecentlyExecutedCommandWithImplicitDF": {
     "commandId": 3765828261440212,
     "dataframes": [
      "_sqldf"
     ]
    },
    "pythonIndentUnit": 4
   },
   "notebookName": "Vaccum Command",
   "widgets": {}
  }
 },
 "nbformat": 4,
 "nbformat_minor": 0
}
