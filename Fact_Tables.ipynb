{
 "cells": [
  {
   "cell_type": "code",
   "execution_count": 0,
   "metadata": {
    "application/vnd.databricks.v1+cell": {
     "cellMetadata": {
      "byteLimit": 2048000,
      "rowLimit": 10000
     },
     "inputWidgets": {},
     "nuid": "faa07f96-5e6e-4bfd-98a5-7ad6c2476310",
     "showTitle": false,
     "title": ""
    }
   },
   "outputs": [],
   "source": [
    "from pyspark.sql.types import *\n",
    "from pyspark.sql.functions import *"
   ]
  },
  {
   "cell_type": "code",
   "execution_count": 0,
   "metadata": {
    "application/vnd.databricks.v1+cell": {
     "cellMetadata": {
      "byteLimit": 2048000,
      "rowLimit": 10000
     },
     "inputWidgets": {},
     "nuid": "9d439ce6-b1ef-4bec-8c58-3da79361297a",
     "showTitle": false,
     "title": ""
    }
   },
   "outputs": [
    {
     "output_type": "stream",
     "name": "stdout",
     "output_type": "stream",
     "text": [
      "Presented and trying to remove\nremoved\n"
     ]
    }
   ],
   "source": [
    "# dbutils.fs.ls('/user/hive/warehouse/')\n",
    "\n",
    "try:\n",
    "    dir_path = dbutils.fs.ls('/user/hive/warehouse/dev.db')\n",
    "\n",
    "    if dir_path:\n",
    "        print('Presented and trying to remove')\n",
    "\n",
    "        dbutils.fs.rm('dbfs:/user/hive/warehouse/dev.db/', True)\n",
    "\n",
    "        print('removed')\n",
    "\n",
    "    else : \n",
    "        print(\"An empty dir found, please check the path\")\n",
    "\n",
    "except Exception as e:\n",
    "    print(f\"An error occured while processing this code : {str(e)}\")"
   ]
  },
  {
   "cell_type": "code",
   "execution_count": 0,
   "metadata": {
    "application/vnd.databricks.v1+cell": {
     "cellMetadata": {
      "byteLimit": 2048000,
      "implicitDf": true,
      "rowLimit": 10000
     },
     "inputWidgets": {},
     "nuid": "abc9921d-b5dd-4e25-93f1-0d3c8c520661",
     "showTitle": false,
     "title": ""
    }
   },
   "outputs": [
    {
     "output_type": "display_data",
     "data": {
      "text/html": [
       "<style scoped>\n",
       "  .table-result-container {\n",
       "    max-height: 300px;\n",
       "    overflow: auto;\n",
       "  }\n",
       "  table, th, td {\n",
       "    border: 1px solid black;\n",
       "    border-collapse: collapse;\n",
       "  }\n",
       "  th, td {\n",
       "    padding: 5px;\n",
       "  }\n",
       "  th {\n",
       "    text-align: left;\n",
       "  }\n",
       "</style><div class='table-result-container'><table class='table-result'><thead style='background-color: white'><tr></tr></thead><tbody></tbody></table></div>"
      ]
     },
     "metadata": {
      "application/vnd.databricks.v1+output": {
       "addedWidgets": {},
       "aggData": [],
       "aggError": "",
       "aggOverflow": false,
       "aggSchema": [],
       "aggSeriesLimitReached": false,
       "aggType": "",
       "arguments": {},
       "columnCustomDisplayInfos": {},
       "data": [],
       "datasetInfos": [],
       "dbfsResultPath": null,
       "isJsonSchema": true,
       "metadata": {},
       "overflow": false,
       "plotOptions": {
        "customPlotOptions": {},
        "displayType": "table",
        "pivotAggregation": null,
        "pivotColumns": null,
        "xColumns": null,
        "yColumns": null
       },
       "removedWidgets": [],
       "schema": [],
       "type": "table"
      }
     },
     "output_type": "display_data"
    }
   ],
   "source": [
    "%sql\n",
    "\n",
    "create schema if not exists dev;"
   ]
  },
  {
   "cell_type": "code",
   "execution_count": 0,
   "metadata": {
    "application/vnd.databricks.v1+cell": {
     "cellMetadata": {
      "byteLimit": 2048000,
      "implicitDf": true,
      "rowLimit": 10000
     },
     "inputWidgets": {},
     "nuid": "413c4567-e57b-4517-8d1f-bd82d4cf1222",
     "showTitle": false,
     "title": ""
    }
   },
   "outputs": [
    {
     "output_type": "display_data",
     "data": {
      "text/html": [
       "<style scoped>\n",
       "  .table-result-container {\n",
       "    max-height: 300px;\n",
       "    overflow: auto;\n",
       "  }\n",
       "  table, th, td {\n",
       "    border: 1px solid black;\n",
       "    border-collapse: collapse;\n",
       "  }\n",
       "  th, td {\n",
       "    padding: 5px;\n",
       "  }\n",
       "  th {\n",
       "    text-align: left;\n",
       "  }\n",
       "</style><div class='table-result-container'><table class='table-result'><thead style='background-color: white'><tr></tr></thead><tbody></tbody></table></div>"
      ]
     },
     "metadata": {
      "application/vnd.databricks.v1+output": {
       "addedWidgets": {},
       "aggData": [],
       "aggError": "",
       "aggOverflow": false,
       "aggSchema": [],
       "aggSeriesLimitReached": false,
       "aggType": "",
       "arguments": {},
       "columnCustomDisplayInfos": {},
       "data": [],
       "datasetInfos": [],
       "dbfsResultPath": null,
       "isJsonSchema": true,
       "metadata": {},
       "overflow": false,
       "plotOptions": {
        "customPlotOptions": {},
        "displayType": "table",
        "pivotAggregation": null,
        "pivotColumns": null,
        "xColumns": null,
        "yColumns": null
       },
       "removedWidgets": [],
       "schema": [],
       "type": "table"
      }
     },
     "output_type": "display_data"
    }
   ],
   "source": [
    "%sql \n",
    "\n",
    "create table dev.Employees (\n",
    "  employee_key BIGINT GENERATED ALWAYS AS IDENTITY,\n",
    "  employee_id integer, \n",
    "  employee_fname string, \n",
    "  employee_lname string , \n",
    "  city string , \n",
    "  gender string , \n",
    "  eff_startdate timestamp,\n",
    "  eff_enddate timestamp\n",
    ");\n",
    "\n",
    "\n",
    "create table dev.store (\n",
    "  store_key bigint generated always as identity,\n",
    "  store_id int \n",
    "); \n",
    "\n"
   ]
  },
  {
   "cell_type": "code",
   "execution_count": 0,
   "metadata": {
    "application/vnd.databricks.v1+cell": {
     "cellMetadata": {
      "byteLimit": 2048000,
      "implicitDf": true,
      "rowLimit": 10000
     },
     "inputWidgets": {},
     "nuid": "fae14bcf-817c-4c4f-9e00-f2eb4c635d3e",
     "showTitle": false,
     "title": ""
    }
   },
   "outputs": [
    {
     "output_type": "display_data",
     "data": {
      "text/html": [
       "<style scoped>\n",
       "  .table-result-container {\n",
       "    max-height: 300px;\n",
       "    overflow: auto;\n",
       "  }\n",
       "  table, th, td {\n",
       "    border: 1px solid black;\n",
       "    border-collapse: collapse;\n",
       "  }\n",
       "  th, td {\n",
       "    padding: 5px;\n",
       "  }\n",
       "  th {\n",
       "    text-align: left;\n",
       "  }\n",
       "</style><div class='table-result-container'><table class='table-result'><thead style='background-color: white'><tr></tr></thead><tbody></tbody></table></div>"
      ]
     },
     "metadata": {
      "application/vnd.databricks.v1+output": {
       "addedWidgets": {},
       "aggData": [],
       "aggError": "",
       "aggOverflow": false,
       "aggSchema": [],
       "aggSeriesLimitReached": false,
       "aggType": "",
       "arguments": {},
       "columnCustomDisplayInfos": {},
       "data": [],
       "datasetInfos": [],
       "dbfsResultPath": null,
       "isJsonSchema": true,
       "metadata": {},
       "overflow": false,
       "plotOptions": {
        "customPlotOptions": {},
        "displayType": "table",
        "pivotAggregation": null,
        "pivotColumns": null,
        "xColumns": null,
        "yColumns": null
       },
       "removedWidgets": [],
       "schema": [],
       "type": "table"
      }
     },
     "output_type": "display_data"
    }
   ],
   "source": [
    "%sql \n",
    "-- DROP TABLE dev.factsales;\n",
    "create table dev.FactSales (\n",
    "  sales_key bigint generated always as identity,\n",
    "  order_id string, \n",
    "  quantity integer, \n",
    "  price integer, \n",
    "  Total_price integer, \n",
    "  Fk_employee_key bigint, \n",
    "  Fk_store_key bigint, \n",
    "  Fk_customer_key bigint, \n",
    "  entry_date timestamp\n",
    ");"
   ]
  },
  {
   "cell_type": "code",
   "execution_count": 0,
   "metadata": {
    "application/vnd.databricks.v1+cell": {
     "cellMetadata": {
      "byteLimit": 2048000,
      "implicitDf": true,
      "rowLimit": 10000
     },
     "inputWidgets": {},
     "nuid": "2fe3f112-3272-432c-ac45-77646c03670b",
     "showTitle": false,
     "title": ""
    }
   },
   "outputs": [
    {
     "output_type": "display_data",
     "data": {
      "text/html": [
       "<style scoped>\n",
       "  .table-result-container {\n",
       "    max-height: 300px;\n",
       "    overflow: auto;\n",
       "  }\n",
       "  table, th, td {\n",
       "    border: 1px solid black;\n",
       "    border-collapse: collapse;\n",
       "  }\n",
       "  th, td {\n",
       "    padding: 5px;\n",
       "  }\n",
       "  th {\n",
       "    text-align: left;\n",
       "  }\n",
       "</style><div class='table-result-container'><table class='table-result'><thead style='background-color: white'><tr></tr></thead><tbody></tbody></table></div>"
      ]
     },
     "metadata": {
      "application/vnd.databricks.v1+output": {
       "addedWidgets": {},
       "aggData": [],
       "aggError": "",
       "aggOverflow": false,
       "aggSchema": [],
       "aggSeriesLimitReached": false,
       "aggType": "",
       "arguments": {},
       "columnCustomDisplayInfos": {},
       "data": [],
       "datasetInfos": [],
       "dbfsResultPath": null,
       "isJsonSchema": true,
       "metadata": {},
       "overflow": false,
       "plotOptions": {
        "customPlotOptions": {},
        "displayType": "table",
        "pivotAggregation": null,
        "pivotColumns": null,
        "xColumns": null,
        "yColumns": null
       },
       "removedWidgets": [],
       "schema": [],
       "type": "table"
      }
     },
     "output_type": "display_data"
    }
   ],
   "source": [
    "%sql \n",
    "-- DROP TABLE dev.customers;\n",
    "create table dev.customers (\n",
    "  customer_key bigint generated always as identity, \n",
    "  customer_id integer, \n",
    "  customer_name string , \n",
    "  mobile string, \n",
    "  payment_type string, \n",
    "  entry_date timestamp\n",
    "); "
   ]
  },
  {
   "cell_type": "code",
   "execution_count": 0,
   "metadata": {
    "application/vnd.databricks.v1+cell": {
     "cellMetadata": {
      "byteLimit": 2048000,
      "implicitDf": true,
      "rowLimit": 10000
     },
     "inputWidgets": {},
     "nuid": "132f2cf7-d647-4eb8-8f7b-51470a27f35c",
     "showTitle": false,
     "title": ""
    }
   },
   "outputs": [
    {
     "output_type": "display_data",
     "data": {
      "text/html": [
       "<style scoped>\n",
       "  .table-result-container {\n",
       "    max-height: 300px;\n",
       "    overflow: auto;\n",
       "  }\n",
       "  table, th, td {\n",
       "    border: 1px solid black;\n",
       "    border-collapse: collapse;\n",
       "  }\n",
       "  th, td {\n",
       "    padding: 5px;\n",
       "  }\n",
       "  th {\n",
       "    text-align: left;\n",
       "  }\n",
       "</style><div class='table-result-container'><table class='table-result'><thead style='background-color: white'><tr><th>employee_key</th><th>employee_id</th><th>employee_fname</th><th>employee_lname</th><th>city</th><th>gender</th><th>eff_startdate</th><th>eff_enddate</th></tr></thead><tbody><tr><td>1</td><td>1</td><td>Lilith</td><td>Milhench</td><td>Geputan</td><td>F</td><td>2024-03-21T00:00:00.000+0000</td><td>9999-12-31T00:00:00.000+0000</td></tr><tr><td>2</td><td>2</td><td>Rory</td><td>Delia</td><td>Ban Pong</td><td>F</td><td>2024-03-21T00:00:00.000+0000</td><td>9999-12-31T00:00:00.000+0000</td></tr><tr><td>3</td><td>3</td><td>Sheppard</td><td>Markova</td><td>Bouillon</td><td>M</td><td>2024-03-21T00:00:00.000+0000</td><td>9999-12-31T00:00:00.000+0000</td></tr><tr><td>4</td><td>4</td><td>Andee</td><td>Lampens</td><td>Tacarigua</td><td>F</td><td>2024-03-21T00:00:00.000+0000</td><td>9999-12-31T00:00:00.000+0000</td></tr><tr><td>5</td><td>5</td><td>Gusella</td><td>Dackombe</td><td>Kepel</td><td>F</td><td>2024-03-21T00:00:00.000+0000</td><td>9999-12-31T00:00:00.000+0000</td></tr><tr><td>6</td><td>6</td><td>Carlo</td><td>Form</td><td>Baro Kunda</td><td>M</td><td>2024-03-21T00:00:00.000+0000</td><td>9999-12-31T00:00:00.000+0000</td></tr><tr><td>7</td><td>7</td><td>Lory</td><td>Sneesby</td><td>Otan Aiyegbaju</td><td>F</td><td>2024-03-21T00:00:00.000+0000</td><td>9999-12-31T00:00:00.000+0000</td></tr><tr><td>8</td><td>8</td><td>Anders</td><td>Klimko</td><td>Demak</td><td>M</td><td>2024-03-21T00:00:00.000+0000</td><td>9999-12-31T00:00:00.000+0000</td></tr><tr><td>9</td><td>9</td><td>Kelley</td><td>Parnham</td><td>Ljubno ob Savinji</td><td>M</td><td>2024-03-21T00:00:00.000+0000</td><td>9999-12-31T00:00:00.000+0000</td></tr><tr><td>10</td><td>10</td><td>Cinderella</td><td>Aven</td><td>newyork</td><td>M</td><td>2024-03-21T00:00:00.000+0000</td><td>9999-12-31T00:00:00.000+0000</td></tr></tbody></table></div>"
      ]
     },
     "metadata": {
      "application/vnd.databricks.v1+output": {
       "addedWidgets": {},
       "aggData": [],
       "aggError": "",
       "aggOverflow": false,
       "aggSchema": [],
       "aggSeriesLimitReached": false,
       "aggType": "",
       "arguments": {},
       "columnCustomDisplayInfos": {},
       "data": [
        [
         1,
         1,
         "Lilith",
         "Milhench",
         "Geputan",
         "F",
         "2024-03-21T00:00:00.000+0000",
         "9999-12-31T00:00:00.000+0000"
        ],
        [
         2,
         2,
         "Rory",
         "Delia",
         "Ban Pong",
         "F",
         "2024-03-21T00:00:00.000+0000",
         "9999-12-31T00:00:00.000+0000"
        ],
        [
         3,
         3,
         "Sheppard",
         "Markova",
         "Bouillon",
         "M",
         "2024-03-21T00:00:00.000+0000",
         "9999-12-31T00:00:00.000+0000"
        ],
        [
         4,
         4,
         "Andee",
         "Lampens",
         "Tacarigua",
         "F",
         "2024-03-21T00:00:00.000+0000",
         "9999-12-31T00:00:00.000+0000"
        ],
        [
         5,
         5,
         "Gusella",
         "Dackombe",
         "Kepel",
         "F",
         "2024-03-21T00:00:00.000+0000",
         "9999-12-31T00:00:00.000+0000"
        ],
        [
         6,
         6,
         "Carlo",
         "Form",
         "Baro Kunda",
         "M",
         "2024-03-21T00:00:00.000+0000",
         "9999-12-31T00:00:00.000+0000"
        ],
        [
         7,
         7,
         "Lory",
         "Sneesby",
         "Otan Aiyegbaju",
         "F",
         "2024-03-21T00:00:00.000+0000",
         "9999-12-31T00:00:00.000+0000"
        ],
        [
         8,
         8,
         "Anders",
         "Klimko",
         "Demak",
         "M",
         "2024-03-21T00:00:00.000+0000",
         "9999-12-31T00:00:00.000+0000"
        ],
        [
         9,
         9,
         "Kelley",
         "Parnham",
         "Ljubno ob Savinji",
         "M",
         "2024-03-21T00:00:00.000+0000",
         "9999-12-31T00:00:00.000+0000"
        ],
        [
         10,
         10,
         "Cinderella",
         "Aven",
         "newyork",
         "M",
         "2024-03-21T00:00:00.000+0000",
         "9999-12-31T00:00:00.000+0000"
        ]
       ],
       "datasetInfos": [],
       "dbfsResultPath": null,
       "isJsonSchema": true,
       "metadata": {},
       "overflow": false,
       "plotOptions": {
        "customPlotOptions": {},
        "displayType": "table",
        "pivotAggregation": null,
        "pivotColumns": null,
        "xColumns": null,
        "yColumns": null
       },
       "removedWidgets": [],
       "schema": [
        {
         "metadata": "{}",
         "name": "employee_key",
         "type": "\"long\""
        },
        {
         "metadata": "{}",
         "name": "employee_id",
         "type": "\"integer\""
        },
        {
         "metadata": "{}",
         "name": "employee_fname",
         "type": "\"string\""
        },
        {
         "metadata": "{}",
         "name": "employee_lname",
         "type": "\"string\""
        },
        {
         "metadata": "{}",
         "name": "city",
         "type": "\"string\""
        },
        {
         "metadata": "{}",
         "name": "gender",
         "type": "\"string\""
        },
        {
         "metadata": "{}",
         "name": "eff_startdate",
         "type": "\"timestamp\""
        },
        {
         "metadata": "{}",
         "name": "eff_enddate",
         "type": "\"timestamp\""
        }
       ],
       "type": "table"
      }
     },
     "output_type": "display_data"
    }
   ],
   "source": [
    "%sql \n",
    "select * from dev.employees; \n",
    "-- select * from dev.store;\n",
    "-- select * from dev.customers;\n",
    "-- select * from dev.factsales;"
   ]
  },
  {
   "cell_type": "code",
   "execution_count": 0,
   "metadata": {
    "application/vnd.databricks.v1+cell": {
     "cellMetadata": {
      "byteLimit": 2048000,
      "implicitDf": true,
      "rowLimit": 10000
     },
     "inputWidgets": {},
     "nuid": "871e57ad-0dda-4a03-9caa-3595bc2b2906",
     "showTitle": false,
     "title": ""
    }
   },
   "outputs": [
    {
     "output_type": "display_data",
     "data": {
      "text/html": [
       "<style scoped>\n",
       "  .table-result-container {\n",
       "    max-height: 300px;\n",
       "    overflow: auto;\n",
       "  }\n",
       "  table, th, td {\n",
       "    border: 1px solid black;\n",
       "    border-collapse: collapse;\n",
       "  }\n",
       "  th, td {\n",
       "    padding: 5px;\n",
       "  }\n",
       "  th {\n",
       "    text-align: left;\n",
       "  }\n",
       "</style><div class='table-result-container'><table class='table-result'><thead style='background-color: white'><tr><th>current_date()</th></tr></thead><tbody><tr><td>2024-03-21</td></tr></tbody></table></div>"
      ]
     },
     "metadata": {
      "application/vnd.databricks.v1+output": {
       "addedWidgets": {},
       "aggData": [],
       "aggError": "",
       "aggOverflow": false,
       "aggSchema": [],
       "aggSeriesLimitReached": false,
       "aggType": "",
       "arguments": {},
       "columnCustomDisplayInfos": {},
       "data": [
        [
         "2024-03-21"
        ]
       ],
       "datasetInfos": [],
       "dbfsResultPath": null,
       "isJsonSchema": true,
       "metadata": {},
       "overflow": false,
       "plotOptions": {
        "customPlotOptions": {},
        "displayType": "table",
        "pivotAggregation": null,
        "pivotColumns": null,
        "xColumns": null,
        "yColumns": null
       },
       "removedWidgets": [],
       "schema": [
        {
         "metadata": "{\"__autoGeneratedAlias\":\"true\"}",
         "name": "current_date()",
         "type": "\"date\""
        }
       ],
       "type": "table"
      }
     },
     "output_type": "display_data"
    }
   ],
   "source": [
    "%sql \n",
    "select current_date();"
   ]
  },
  {
   "cell_type": "code",
   "execution_count": 0,
   "metadata": {
    "application/vnd.databricks.v1+cell": {
     "cellMetadata": {
      "byteLimit": 2048000,
      "implicitDf": true,
      "rowLimit": 10000
     },
     "inputWidgets": {},
     "nuid": "20d05815-67b7-49e3-a3fa-6a18e4109fa4",
     "showTitle": false,
     "title": ""
    }
   },
   "outputs": [
    {
     "output_type": "display_data",
     "data": {
      "text/html": [
       "<style scoped>\n",
       "  .table-result-container {\n",
       "    max-height: 300px;\n",
       "    overflow: auto;\n",
       "  }\n",
       "  table, th, td {\n",
       "    border: 1px solid black;\n",
       "    border-collapse: collapse;\n",
       "  }\n",
       "  th, td {\n",
       "    padding: 5px;\n",
       "  }\n",
       "  th {\n",
       "    text-align: left;\n",
       "  }\n",
       "</style><div class='table-result-container'><table class='table-result'><thead style='background-color: white'><tr><th>num_affected_rows</th><th>num_inserted_rows</th></tr></thead><tbody><tr><td>10</td><td>10</td></tr></tbody></table></div>"
      ]
     },
     "metadata": {
      "application/vnd.databricks.v1+output": {
       "addedWidgets": {},
       "aggData": [],
       "aggError": "",
       "aggOverflow": false,
       "aggSchema": [],
       "aggSeriesLimitReached": false,
       "aggType": "",
       "arguments": {},
       "columnCustomDisplayInfos": {},
       "data": [
        [
         10,
         10
        ]
       ],
       "datasetInfos": [],
       "dbfsResultPath": null,
       "isJsonSchema": true,
       "metadata": {},
       "overflow": false,
       "plotOptions": {
        "customPlotOptions": {},
        "displayType": "table",
        "pivotAggregation": null,
        "pivotColumns": null,
        "xColumns": null,
        "yColumns": null
       },
       "removedWidgets": [],
       "schema": [
        {
         "metadata": "{}",
         "name": "num_affected_rows",
         "type": "\"long\""
        },
        {
         "metadata": "{}",
         "name": "num_inserted_rows",
         "type": "\"long\""
        }
       ],
       "type": "table"
      }
     },
     "output_type": "display_data"
    }
   ],
   "source": [
    "%sql \n",
    "insert into dev.employees  (employee_id, employee_fname, employee_lname, city, gender, eff_startdate, eff_enddate) values (1, 'Lilith', 'Milhench', 'Geputan', 'F', current_date(), '9999-12-31'), (2, 'Rory', 'Delia', 'Ban Pong', 'F', current_date(), '9999-12-31'), \n",
    "(3, 'Sheppard', 'Markova', 'Bouillon', 'M', current_date(), '9999-12-31'), \n",
    "(4, 'Andee', 'Lampens', 'Tacarigua', 'F', current_date(), '9999-12-31') , \n",
    "(5, 'Gusella', 'Dackombe', 'Kepel', 'F', current_date(), '9999-12-31'), \n",
    "(6, 'Carlo', 'Form', 'Baro Kunda', 'M', current_date(), '9999-12-31'), \n",
    "(7, 'Lory', 'Sneesby', 'Otan Aiyegbaju', 'F', current_date(), '9999-12-31'), \n",
    "(8, 'Anders', 'Klimko', 'Demak','M', current_date(), '9999-12-31'),\n",
    "(9,'Kelley' ,'Parnham' ,'Ljubno ob Savinji', 'M' ,current_date(), '9999-12-31'), (10,'Cinderella','Aven','newyork','M' ,current_date(), '9999-12-31');"
   ]
  },
  {
   "cell_type": "code",
   "execution_count": 0,
   "metadata": {
    "application/vnd.databricks.v1+cell": {
     "cellMetadata": {
      "byteLimit": 2048000,
      "implicitDf": true,
      "rowLimit": 10000
     },
     "inputWidgets": {},
     "nuid": "3bbba9f1-2199-4d97-98aa-fe4dc97acfa2",
     "showTitle": false,
     "title": ""
    }
   },
   "outputs": [
    {
     "output_type": "display_data",
     "data": {
      "text/html": [
       "<style scoped>\n",
       "  .table-result-container {\n",
       "    max-height: 300px;\n",
       "    overflow: auto;\n",
       "  }\n",
       "  table, th, td {\n",
       "    border: 1px solid black;\n",
       "    border-collapse: collapse;\n",
       "  }\n",
       "  th, td {\n",
       "    padding: 5px;\n",
       "  }\n",
       "  th {\n",
       "    text-align: left;\n",
       "  }\n",
       "</style><div class='table-result-container'><table class='table-result'><thead style='background-color: white'><tr><th>num_affected_rows</th><th>num_inserted_rows</th></tr></thead><tbody><tr><td>4</td><td>4</td></tr></tbody></table></div>"
      ]
     },
     "metadata": {
      "application/vnd.databricks.v1+output": {
       "addedWidgets": {},
       "aggData": [],
       "aggError": "",
       "aggOverflow": false,
       "aggSchema": [],
       "aggSeriesLimitReached": false,
       "aggType": "",
       "arguments": {},
       "columnCustomDisplayInfos": {},
       "data": [
        [
         4,
         4
        ]
       ],
       "datasetInfos": [],
       "dbfsResultPath": null,
       "isJsonSchema": true,
       "metadata": {},
       "overflow": false,
       "plotOptions": {
        "customPlotOptions": {},
        "displayType": "table",
        "pivotAggregation": null,
        "pivotColumns": null,
        "xColumns": null,
        "yColumns": null
       },
       "removedWidgets": [],
       "schema": [
        {
         "metadata": "{}",
         "name": "num_affected_rows",
         "type": "\"long\""
        },
        {
         "metadata": "{}",
         "name": "num_inserted_rows",
         "type": "\"long\""
        }
       ],
       "type": "table"
      }
     },
     "output_type": "display_data"
    }
   ],
   "source": [
    "%sql \n",
    "insert into dev.store (store_id) values (101), (102), (103), (104);"
   ]
  },
  {
   "cell_type": "code",
   "execution_count": 0,
   "metadata": {
    "application/vnd.databricks.v1+cell": {
     "cellMetadata": {
      "byteLimit": 2048000,
      "implicitDf": true,
      "rowLimit": 10000
     },
     "inputWidgets": {},
     "nuid": "388af3ef-eef1-49b6-91ff-07d678bd16b2",
     "showTitle": false,
     "title": ""
    }
   },
   "outputs": [
    {
     "output_type": "display_data",
     "data": {
      "text/html": [
       "<style scoped>\n",
       "  .table-result-container {\n",
       "    max-height: 300px;\n",
       "    overflow: auto;\n",
       "  }\n",
       "  table, th, td {\n",
       "    border: 1px solid black;\n",
       "    border-collapse: collapse;\n",
       "  }\n",
       "  th, td {\n",
       "    padding: 5px;\n",
       "  }\n",
       "  th {\n",
       "    text-align: left;\n",
       "  }\n",
       "</style><div class='table-result-container'><table class='table-result'><thead style='background-color: white'><tr><th>now()</th></tr></thead><tbody><tr><td>2024-03-21T10:40:37.177+0000</td></tr></tbody></table></div>"
      ]
     },
     "metadata": {
      "application/vnd.databricks.v1+output": {
       "addedWidgets": {},
       "aggData": [],
       "aggError": "",
       "aggOverflow": false,
       "aggSchema": [],
       "aggSeriesLimitReached": false,
       "aggType": "",
       "arguments": {},
       "columnCustomDisplayInfos": {},
       "data": [
        [
         "2024-03-21T10:40:37.177+0000"
        ]
       ],
       "datasetInfos": [],
       "dbfsResultPath": null,
       "isJsonSchema": true,
       "metadata": {},
       "overflow": false,
       "plotOptions": {
        "customPlotOptions": {},
        "displayType": "table",
        "pivotAggregation": null,
        "pivotColumns": null,
        "xColumns": null,
        "yColumns": null
       },
       "removedWidgets": [],
       "schema": [
        {
         "metadata": "{\"__autoGeneratedAlias\":\"true\"}",
         "name": "now()",
         "type": "\"timestamp\""
        }
       ],
       "type": "table"
      }
     },
     "output_type": "display_data"
    }
   ],
   "source": [
    "%sql \n",
    "select now()"
   ]
  },
  {
   "cell_type": "code",
   "execution_count": 0,
   "metadata": {
    "application/vnd.databricks.v1+cell": {
     "cellMetadata": {
      "byteLimit": 2048000,
      "implicitDf": true,
      "rowLimit": 10000
     },
     "inputWidgets": {},
     "nuid": "4272c37c-947c-4324-96fc-8e5a296acd63",
     "showTitle": false,
     "title": ""
    }
   },
   "outputs": [
    {
     "output_type": "display_data",
     "data": {
      "text/html": [
       "<style scoped>\n",
       "  .table-result-container {\n",
       "    max-height: 300px;\n",
       "    overflow: auto;\n",
       "  }\n",
       "  table, th, td {\n",
       "    border: 1px solid black;\n",
       "    border-collapse: collapse;\n",
       "  }\n",
       "  th, td {\n",
       "    padding: 5px;\n",
       "  }\n",
       "  th {\n",
       "    text-align: left;\n",
       "  }\n",
       "</style><div class='table-result-container'><table class='table-result'><thead style='background-color: white'><tr><th>num_affected_rows</th><th>num_inserted_rows</th></tr></thead><tbody><tr><td>1</td><td>1</td></tr></tbody></table></div>"
      ]
     },
     "metadata": {
      "application/vnd.databricks.v1+output": {
       "addedWidgets": {},
       "aggData": [],
       "aggError": "",
       "aggOverflow": false,
       "aggSchema": [],
       "aggSeriesLimitReached": false,
       "aggType": "",
       "arguments": {},
       "columnCustomDisplayInfos": {},
       "data": [
        [
         1,
         1
        ]
       ],
       "datasetInfos": [],
       "dbfsResultPath": null,
       "isJsonSchema": true,
       "metadata": {},
       "overflow": false,
       "plotOptions": {
        "customPlotOptions": {},
        "displayType": "table",
        "pivotAggregation": null,
        "pivotColumns": null,
        "xColumns": null,
        "yColumns": null
       },
       "removedWidgets": [],
       "schema": [
        {
         "metadata": "{}",
         "name": "num_affected_rows",
         "type": "\"long\""
        },
        {
         "metadata": "{}",
         "name": "num_inserted_rows",
         "type": "\"long\""
        }
       ],
       "type": "table"
      }
     },
     "output_type": "display_data"
    }
   ],
   "source": [
    "%sql \n",
    "-- insert into dev.customers(customer_id, mobile, customer_name,payment_type, entry_date) values (1, '500680694', 'Chelsie', 'card', NOW()),\n",
    "--   (2, '914497546', 'Sofia', 'card', NOW()),\n",
    "--   (3, '865990304', 'Hilliard', 'upi', NOW()),\n",
    "--   (4,'907476084', 'Philomena', 'upi', NOW()),\n",
    "--   (5,'419264146', 'Berrie', 'card', NOW()),\n",
    "--   (6,'569896204', 'Leif', 'upi', NOW()),\n",
    "--   (7,'526107507', 'Martelle', 'cash', NOW()),\n",
    "--   (8,'233332122', 'Blane', 'cash', NOW()),\n",
    "--   (9,'213007963', 'Bryanty', 'card', NOW()),\n",
    "--   (10, '656048044', 'Corissa', 'upi', NOW());\n",
    "\n",
    "\n",
    "-- insert into dev.customers(customer_id, mobile, customer_name,payment_type, entry_date) values (11, '911058022','ricky', 'card', now())\n",
    "insert into dev.customers(customer_id, mobile, customer_name,payment_type, entry_date) values(12\t, \t'787878878', 'ponting', \t'cash', now());"
   ]
  },
  {
   "cell_type": "code",
   "execution_count": 0,
   "metadata": {
    "application/vnd.databricks.v1+cell": {
     "cellMetadata": {
      "byteLimit": 2048000,
      "implicitDf": true,
      "rowLimit": 10000
     },
     "inputWidgets": {},
     "nuid": "aa81f49e-79a4-4c38-b496-d932d33476ab",
     "showTitle": false,
     "title": ""
    }
   },
   "outputs": [
    {
     "output_type": "display_data",
     "data": {
      "text/html": [
       "<style scoped>\n",
       "  .table-result-container {\n",
       "    max-height: 300px;\n",
       "    overflow: auto;\n",
       "  }\n",
       "  table, th, td {\n",
       "    border: 1px solid black;\n",
       "    border-collapse: collapse;\n",
       "  }\n",
       "  th, td {\n",
       "    padding: 5px;\n",
       "  }\n",
       "  th {\n",
       "    text-align: left;\n",
       "  }\n",
       "</style><div class='table-result-container'><table class='table-result'><thead style='background-color: white'><tr><th>customer_key</th><th>customer_id</th><th>customer_name</th><th>mobile</th><th>payment_type</th><th>entry_date</th></tr></thead><tbody><tr><td>1</td><td>1</td><td>Chelsie</td><td>500680694</td><td>card</td><td>2024-03-21T10:41:49.333+0000</td></tr><tr><td>2</td><td>2</td><td>Sofia</td><td>914497546</td><td>card</td><td>2024-03-21T10:41:49.333+0000</td></tr><tr><td>3</td><td>3</td><td>Hilliard</td><td>865990304</td><td>upi</td><td>2024-03-21T10:41:49.333+0000</td></tr><tr><td>4</td><td>4</td><td>Philomena</td><td>907476084</td><td>upi</td><td>2024-03-21T10:41:49.333+0000</td></tr><tr><td>5</td><td>5</td><td>Berrie</td><td>419264146</td><td>card</td><td>2024-03-21T10:41:49.333+0000</td></tr><tr><td>6</td><td>6</td><td>Leif</td><td>569896204</td><td>upi</td><td>2024-03-21T10:41:49.333+0000</td></tr><tr><td>7</td><td>7</td><td>Martelle</td><td>526107507</td><td>cash</td><td>2024-03-21T10:41:49.333+0000</td></tr><tr><td>8</td><td>8</td><td>Blane</td><td>233332122</td><td>cash</td><td>2024-03-21T10:41:49.333+0000</td></tr><tr><td>9</td><td>9</td><td>Bryanty</td><td>213007963</td><td>card</td><td>2024-03-21T10:41:49.333+0000</td></tr><tr><td>10</td><td>10</td><td>Corissa</td><td>656048044</td><td>upi</td><td>2024-03-21T10:41:49.333+0000</td></tr><tr><td>12</td><td>12</td><td>ponting</td><td>787878878</td><td>cash</td><td>2024-03-21T11:38:53.855+0000</td></tr><tr><td>11</td><td>11</td><td>ricky</td><td>911058022</td><td>card</td><td>2024-03-21T11:38:21.878+0000</td></tr></tbody></table></div>"
      ]
     },
     "metadata": {
      "application/vnd.databricks.v1+output": {
       "addedWidgets": {},
       "aggData": [],
       "aggError": "",
       "aggOverflow": false,
       "aggSchema": [],
       "aggSeriesLimitReached": false,
       "aggType": "",
       "arguments": {},
       "columnCustomDisplayInfos": {},
       "data": [
        [
         1,
         1,
         "Chelsie",
         "500680694",
         "card",
         "2024-03-21T10:41:49.333+0000"
        ],
        [
         2,
         2,
         "Sofia",
         "914497546",
         "card",
         "2024-03-21T10:41:49.333+0000"
        ],
        [
         3,
         3,
         "Hilliard",
         "865990304",
         "upi",
         "2024-03-21T10:41:49.333+0000"
        ],
        [
         4,
         4,
         "Philomena",
         "907476084",
         "upi",
         "2024-03-21T10:41:49.333+0000"
        ],
        [
         5,
         5,
         "Berrie",
         "419264146",
         "card",
         "2024-03-21T10:41:49.333+0000"
        ],
        [
         6,
         6,
         "Leif",
         "569896204",
         "upi",
         "2024-03-21T10:41:49.333+0000"
        ],
        [
         7,
         7,
         "Martelle",
         "526107507",
         "cash",
         "2024-03-21T10:41:49.333+0000"
        ],
        [
         8,
         8,
         "Blane",
         "233332122",
         "cash",
         "2024-03-21T10:41:49.333+0000"
        ],
        [
         9,
         9,
         "Bryanty",
         "213007963",
         "card",
         "2024-03-21T10:41:49.333+0000"
        ],
        [
         10,
         10,
         "Corissa",
         "656048044",
         "upi",
         "2024-03-21T10:41:49.333+0000"
        ],
        [
         12,
         12,
         "ponting",
         "787878878",
         "cash",
         "2024-03-21T11:38:53.855+0000"
        ],
        [
         11,
         11,
         "ricky",
         "911058022",
         "card",
         "2024-03-21T11:38:21.878+0000"
        ]
       ],
       "datasetInfos": [],
       "dbfsResultPath": null,
       "isJsonSchema": true,
       "metadata": {},
       "overflow": false,
       "plotOptions": {
        "customPlotOptions": {},
        "displayType": "table",
        "pivotAggregation": null,
        "pivotColumns": null,
        "xColumns": null,
        "yColumns": null
       },
       "removedWidgets": [],
       "schema": [
        {
         "metadata": "{}",
         "name": "customer_key",
         "type": "\"long\""
        },
        {
         "metadata": "{}",
         "name": "customer_id",
         "type": "\"integer\""
        },
        {
         "metadata": "{}",
         "name": "customer_name",
         "type": "\"string\""
        },
        {
         "metadata": "{}",
         "name": "mobile",
         "type": "\"string\""
        },
        {
         "metadata": "{}",
         "name": "payment_type",
         "type": "\"string\""
        },
        {
         "metadata": "{}",
         "name": "entry_date",
         "type": "\"timestamp\""
        }
       ],
       "type": "table"
      }
     },
     "output_type": "display_data"
    }
   ],
   "source": [
    "%sql\n",
    "select * from dev.customers;"
   ]
  },
  {
   "cell_type": "code",
   "execution_count": 0,
   "metadata": {
    "application/vnd.databricks.v1+cell": {
     "cellMetadata": {
      "byteLimit": 2048000,
      "rowLimit": 10000
     },
     "inputWidgets": {},
     "nuid": "05293b67-7dac-4c0e-adbf-7369bc5bf11e",
     "showTitle": false,
     "title": ""
    }
   },
   "outputs": [],
   "source": [
    "# dbutils.fs.ls('/FileStore/stores/')\n",
    "path='dbfs:/FileStore/stores/store_records-1.csv'"
   ]
  },
  {
   "cell_type": "code",
   "execution_count": 0,
   "metadata": {
    "application/vnd.databricks.v1+cell": {
     "cellMetadata": {
      "byteLimit": 2048000,
      "rowLimit": 10000
     },
     "inputWidgets": {},
     "nuid": "2d36eb6e-2147-42f3-a9b2-99db0b319c70",
     "showTitle": false,
     "title": ""
    }
   },
   "outputs": [
    {
     "output_type": "stream",
     "name": "stdout",
     "output_type": "stream",
     "text": [
      "+-----------+-------------+-----------+------------+--------+-----------+--------------+--------------+-----------------+------+--------+--------+-----+-----------+\n|customer_id|customer_name|     mobile|payment_type|store_id|employee_id|employee_fname|employee_lname|             city|gender|order_id|quantity|price|Total_price|\n+-----------+-------------+-----------+------------+--------+-----------+--------------+--------------+-----------------+------+--------+--------+-----+-----------+\n|          1|      Chelsie|500680694-X|        card|     103|          1|        Lilith|      Milhench|          Geputan|     F|    #e5d|       2|   81|        162|\n|          2|        Sofia|914497546-5|        card|     101|          2|          Rory|         Delia|         Ban Pong|     F|    #920|       1|  104|        104|\n|          3|     Hilliard|865990304-8|         upi|     101|          3|      Sheppard|       Markova|         Bouillon|     M|    #da9|      10|   90|        900|\n|          4|    Philomena|907476084-8|         upi|     104|          4|         Andee|       Lampens|        Tacarigua|     F|    #6bb|      10|  120|       1200|\n|          5|       Berrie|419264146-1|        card|     101|          5|       Gusella|      Dackombe|            Kepel|     F|    #e66|       9|  146|       1314|\n|          6|         Leif|569896204-9|         upi|     102|          6|         Carlo|          Form|       Baro Kunda|     M|    #a6b|       5|  148|        740|\n|          7|     Martelle|526107507-6|        cash|     104|          7|          Lory|       Sneesby|   Otan Aiyegbaju|     F|    #9c3|      10|   57|        570|\n|          8|        Blane|233332122-9|        cash|     102|          8|        Anders|        Klimko|            Demak|     M|    #91b|      10|   32|        320|\n|          9|      Bryanty|213007963-6|        card|     101|          9|        Kelley|       Parnham|Ljubno ob Savinji|     M|    #f63|       1|  118|        118|\n|         10|      Corissa|656048044-5|         upi|     101|         10|    Cinderella|          Aven|          newyork|     F|    #ef4|       6|   83|        498|\n|         11|        ricky|  911058022|        card|     102|          1|        Lilith|      Milhench|          Geputan|     F|    #opc|       2|  100|        200|\n|         12|      ponting|  787878878|        cash|     101|          2|          Rory|         Delia|         Ban Pong|     F|   #dosa|       2|  150|        300|\n+-----------+-------------+-----------+------------+--------+-----------+--------------+--------------+-----------------+------+--------+--------+-----+-----------+\n\n"
     ]
    }
   ],
   "source": [
    "source_df = spark.read.format('csv').option('Header', 'True').option('inferSchema', 'True').load(path)\n",
    "\n",
    "source_df.show()"
   ]
  },
  {
   "cell_type": "code",
   "execution_count": 0,
   "metadata": {
    "application/vnd.databricks.v1+cell": {
     "cellMetadata": {
      "byteLimit": 2048000,
      "rowLimit": 10000
     },
     "inputWidgets": {},
     "nuid": "4b8d25ac-aecb-4701-b86d-d761559b1aac",
     "showTitle": false,
     "title": ""
    }
   },
   "outputs": [],
   "source": [
    "dim_emp = spark.sql(\"\"\" select * from dev.employees \"\"\")\n",
    "dim_store = spark.sql(\"\"\" select * from dev.store \"\"\")\n",
    "dim_customer = spark.sql(\"\"\" select * from dev.customers \"\"\")\n",
    "fact_df = spark.sql(\"\"\" select * from dev.factsales \"\"\")"
   ]
  },
  {
   "cell_type": "code",
   "execution_count": 0,
   "metadata": {
    "application/vnd.databricks.v1+cell": {
     "cellMetadata": {
      "byteLimit": 2048000,
      "rowLimit": 10000
     },
     "inputWidgets": {},
     "nuid": "8d91bee4-a7bc-4eb6-8c76-04d4064feef5",
     "showTitle": false,
     "title": ""
    }
   },
   "outputs": [],
   "source": [
    "source_df_selected = source_df.select('quantity', 'price', 'Total_price')"
   ]
  },
  {
   "cell_type": "code",
   "execution_count": 0,
   "metadata": {
    "application/vnd.databricks.v1+cell": {
     "cellMetadata": {
      "byteLimit": 2048000,
      "rowLimit": 10000
     },
     "inputWidgets": {},
     "nuid": "df24ee4b-1f7d-407f-9ed0-11482a37014c",
     "showTitle": false,
     "title": ""
    }
   },
   "outputs": [
    {
     "output_type": "display_data",
     "data": {
      "text/html": [
       "<style scoped>\n",
       "  .table-result-container {\n",
       "    max-height: 300px;\n",
       "    overflow: auto;\n",
       "  }\n",
       "  table, th, td {\n",
       "    border: 1px solid black;\n",
       "    border-collapse: collapse;\n",
       "  }\n",
       "  th, td {\n",
       "    padding: 5px;\n",
       "  }\n",
       "  th {\n",
       "    text-align: left;\n",
       "  }\n",
       "</style><div class='table-result-container'><table class='table-result'><thead style='background-color: white'><tr><th>customer_id</th><th>store_id</th><th>employee_id</th><th>order_id</th><th>quantity</th><th>price</th><th>Total_price</th><th>employee_id</th><th>employee_key</th><th>eff_enddate</th><th>store_key</th><th>store_id</th><th>customer_key</th><th>customer_id</th><th>customer_name</th><th>mobile</th><th>payment_type</th><th>entry_date</th></tr></thead><tbody><tr><td>11</td><td>102</td><td>1</td><td>#opc</td><td>2</td><td>100</td><td>200</td><td>1</td><td>1</td><td>9999-12-31T00:00:00.000+0000</td><td>2</td><td>102</td><td>11</td><td>11</td><td>ricky</td><td>911058022</td><td>card</td><td>2024-03-21T11:38:21.878+0000</td></tr><tr><td>1</td><td>103</td><td>1</td><td>#e5d</td><td>2</td><td>81</td><td>162</td><td>1</td><td>1</td><td>9999-12-31T00:00:00.000+0000</td><td>3</td><td>103</td><td>1</td><td>1</td><td>Chelsie</td><td>500680694</td><td>card</td><td>2024-03-21T10:41:49.333+0000</td></tr><tr><td>12</td><td>101</td><td>2</td><td>#dosa</td><td>2</td><td>150</td><td>300</td><td>2</td><td>2</td><td>9999-12-31T00:00:00.000+0000</td><td>1</td><td>101</td><td>12</td><td>12</td><td>ponting</td><td>787878878</td><td>cash</td><td>2024-03-21T11:38:53.855+0000</td></tr><tr><td>2</td><td>101</td><td>2</td><td>#920</td><td>1</td><td>104</td><td>104</td><td>2</td><td>2</td><td>9999-12-31T00:00:00.000+0000</td><td>1</td><td>101</td><td>2</td><td>2</td><td>Sofia</td><td>914497546</td><td>card</td><td>2024-03-21T10:41:49.333+0000</td></tr><tr><td>3</td><td>101</td><td>3</td><td>#da9</td><td>10</td><td>90</td><td>900</td><td>3</td><td>3</td><td>9999-12-31T00:00:00.000+0000</td><td>1</td><td>101</td><td>3</td><td>3</td><td>Hilliard</td><td>865990304</td><td>upi</td><td>2024-03-21T10:41:49.333+0000</td></tr><tr><td>4</td><td>104</td><td>4</td><td>#6bb</td><td>10</td><td>120</td><td>1200</td><td>4</td><td>4</td><td>9999-12-31T00:00:00.000+0000</td><td>4</td><td>104</td><td>4</td><td>4</td><td>Philomena</td><td>907476084</td><td>upi</td><td>2024-03-21T10:41:49.333+0000</td></tr><tr><td>5</td><td>101</td><td>5</td><td>#e66</td><td>9</td><td>146</td><td>1314</td><td>5</td><td>5</td><td>9999-12-31T00:00:00.000+0000</td><td>1</td><td>101</td><td>5</td><td>5</td><td>Berrie</td><td>419264146</td><td>card</td><td>2024-03-21T10:41:49.333+0000</td></tr><tr><td>6</td><td>102</td><td>6</td><td>#a6b</td><td>5</td><td>148</td><td>740</td><td>6</td><td>6</td><td>9999-12-31T00:00:00.000+0000</td><td>2</td><td>102</td><td>6</td><td>6</td><td>Leif</td><td>569896204</td><td>upi</td><td>2024-03-21T10:41:49.333+0000</td></tr><tr><td>7</td><td>104</td><td>7</td><td>#9c3</td><td>10</td><td>57</td><td>570</td><td>7</td><td>7</td><td>9999-12-31T00:00:00.000+0000</td><td>4</td><td>104</td><td>7</td><td>7</td><td>Martelle</td><td>526107507</td><td>cash</td><td>2024-03-21T10:41:49.333+0000</td></tr><tr><td>8</td><td>102</td><td>8</td><td>#91b</td><td>10</td><td>32</td><td>320</td><td>8</td><td>8</td><td>9999-12-31T00:00:00.000+0000</td><td>2</td><td>102</td><td>8</td><td>8</td><td>Blane</td><td>233332122</td><td>cash</td><td>2024-03-21T10:41:49.333+0000</td></tr><tr><td>9</td><td>101</td><td>9</td><td>#f63</td><td>1</td><td>118</td><td>118</td><td>9</td><td>9</td><td>9999-12-31T00:00:00.000+0000</td><td>1</td><td>101</td><td>9</td><td>9</td><td>Bryanty</td><td>213007963</td><td>card</td><td>2024-03-21T10:41:49.333+0000</td></tr><tr><td>10</td><td>101</td><td>10</td><td>#ef4</td><td>6</td><td>83</td><td>498</td><td>10</td><td>10</td><td>9999-12-31T00:00:00.000+0000</td><td>1</td><td>101</td><td>10</td><td>10</td><td>Corissa</td><td>656048044</td><td>upi</td><td>2024-03-21T10:41:49.333+0000</td></tr></tbody></table></div>"
      ]
     },
     "metadata": {
      "application/vnd.databricks.v1+output": {
       "addedWidgets": {},
       "aggData": [],
       "aggError": "",
       "aggOverflow": false,
       "aggSchema": [],
       "aggSeriesLimitReached": false,
       "aggType": "",
       "arguments": {},
       "columnCustomDisplayInfos": {},
       "data": [
        [
         11,
         102,
         1,
         "#opc",
         2,
         100,
         200,
         1,
         1,
         "9999-12-31T00:00:00.000+0000",
         2,
         102,
         11,
         11,
         "ricky",
         "911058022",
         "card",
         "2024-03-21T11:38:21.878+0000"
        ],
        [
         1,
         103,
         1,
         "#e5d",
         2,
         81,
         162,
         1,
         1,
         "9999-12-31T00:00:00.000+0000",
         3,
         103,
         1,
         1,
         "Chelsie",
         "500680694",
         "card",
         "2024-03-21T10:41:49.333+0000"
        ],
        [
         12,
         101,
         2,
         "#dosa",
         2,
         150,
         300,
         2,
         2,
         "9999-12-31T00:00:00.000+0000",
         1,
         101,
         12,
         12,
         "ponting",
         "787878878",
         "cash",
         "2024-03-21T11:38:53.855+0000"
        ],
        [
         2,
         101,
         2,
         "#920",
         1,
         104,
         104,
         2,
         2,
         "9999-12-31T00:00:00.000+0000",
         1,
         101,
         2,
         2,
         "Sofia",
         "914497546",
         "card",
         "2024-03-21T10:41:49.333+0000"
        ],
        [
         3,
         101,
         3,
         "#da9",
         10,
         90,
         900,
         3,
         3,
         "9999-12-31T00:00:00.000+0000",
         1,
         101,
         3,
         3,
         "Hilliard",
         "865990304",
         "upi",
         "2024-03-21T10:41:49.333+0000"
        ],
        [
         4,
         104,
         4,
         "#6bb",
         10,
         120,
         1200,
         4,
         4,
         "9999-12-31T00:00:00.000+0000",
         4,
         104,
         4,
         4,
         "Philomena",
         "907476084",
         "upi",
         "2024-03-21T10:41:49.333+0000"
        ],
        [
         5,
         101,
         5,
         "#e66",
         9,
         146,
         1314,
         5,
         5,
         "9999-12-31T00:00:00.000+0000",
         1,
         101,
         5,
         5,
         "Berrie",
         "419264146",
         "card",
         "2024-03-21T10:41:49.333+0000"
        ],
        [
         6,
         102,
         6,
         "#a6b",
         5,
         148,
         740,
         6,
         6,
         "9999-12-31T00:00:00.000+0000",
         2,
         102,
         6,
         6,
         "Leif",
         "569896204",
         "upi",
         "2024-03-21T10:41:49.333+0000"
        ],
        [
         7,
         104,
         7,
         "#9c3",
         10,
         57,
         570,
         7,
         7,
         "9999-12-31T00:00:00.000+0000",
         4,
         104,
         7,
         7,
         "Martelle",
         "526107507",
         "cash",
         "2024-03-21T10:41:49.333+0000"
        ],
        [
         8,
         102,
         8,
         "#91b",
         10,
         32,
         320,
         8,
         8,
         "9999-12-31T00:00:00.000+0000",
         2,
         102,
         8,
         8,
         "Blane",
         "233332122",
         "cash",
         "2024-03-21T10:41:49.333+0000"
        ],
        [
         9,
         101,
         9,
         "#f63",
         1,
         118,
         118,
         9,
         9,
         "9999-12-31T00:00:00.000+0000",
         1,
         101,
         9,
         9,
         "Bryanty",
         "213007963",
         "card",
         "2024-03-21T10:41:49.333+0000"
        ],
        [
         10,
         101,
         10,
         "#ef4",
         6,
         83,
         498,
         10,
         10,
         "9999-12-31T00:00:00.000+0000",
         1,
         101,
         10,
         10,
         "Corissa",
         "656048044",
         "upi",
         "2024-03-21T10:41:49.333+0000"
        ]
       ],
       "datasetInfos": [],
       "dbfsResultPath": null,
       "isJsonSchema": true,
       "metadata": {},
       "overflow": false,
       "plotOptions": {
        "customPlotOptions": {},
        "displayType": "table",
        "pivotAggregation": null,
        "pivotColumns": null,
        "xColumns": null,
        "yColumns": null
       },
       "removedWidgets": [],
       "schema": [
        {
         "metadata": "{}",
         "name": "customer_id",
         "type": "\"integer\""
        },
        {
         "metadata": "{}",
         "name": "store_id",
         "type": "\"integer\""
        },
        {
         "metadata": "{}",
         "name": "employee_id",
         "type": "\"integer\""
        },
        {
         "metadata": "{}",
         "name": "order_id",
         "type": "\"string\""
        },
        {
         "metadata": "{}",
         "name": "quantity",
         "type": "\"integer\""
        },
        {
         "metadata": "{}",
         "name": "price",
         "type": "\"integer\""
        },
        {
         "metadata": "{}",
         "name": "Total_price",
         "type": "\"integer\""
        },
        {
         "metadata": "{}",
         "name": "employee_id",
         "type": "\"integer\""
        },
        {
         "metadata": "{}",
         "name": "employee_key",
         "type": "\"long\""
        },
        {
         "metadata": "{}",
         "name": "eff_enddate",
         "type": "\"timestamp\""
        },
        {
         "metadata": "{}",
         "name": "store_key",
         "type": "\"long\""
        },
        {
         "metadata": "{}",
         "name": "store_id",
         "type": "\"integer\""
        },
        {
         "metadata": "{}",
         "name": "customer_key",
         "type": "\"long\""
        },
        {
         "metadata": "{}",
         "name": "customer_id",
         "type": "\"integer\""
        },
        {
         "metadata": "{}",
         "name": "customer_name",
         "type": "\"string\""
        },
        {
         "metadata": "{}",
         "name": "mobile",
         "type": "\"string\""
        },
        {
         "metadata": "{}",
         "name": "payment_type",
         "type": "\"string\""
        },
        {
         "metadata": "{}",
         "name": "entry_date",
         "type": "\"timestamp\""
        }
       ],
       "type": "table"
      }
     },
     "output_type": "display_data"
    }
   ],
   "source": [
    "joined_df = source_df.select('customer_id', 'store_id', 'employee_id', 'order_id','quantity', 'price', 'Total_price').join(\n",
    "    dim_emp.select(\"employee_id\", \"employee_key\", \"eff_enddate\"),\n",
    "    source_df[\"employee_id\"] == dim_emp[\"employee_id\"],\n",
    "    \"left\" ).join(dim_store, source_df[\"store_id\"] == dim_store[\"store_id\"], \"left\").join(dim_customer, source_df[\"customer_id\"] == dim_customer[\"customer_id\"], \"left\")\n",
    "\n",
    "joined_df_filter = joined_df.filter(col('eff_enddate') == '9999-12-31 00:00:00')\n",
    "\n",
    "display(joined_df_filter)"
   ]
  },
  {
   "cell_type": "code",
   "execution_count": 0,
   "metadata": {
    "application/vnd.databricks.v1+cell": {
     "cellMetadata": {
      "byteLimit": 2048000,
      "rowLimit": 10000
     },
     "inputWidgets": {},
     "nuid": "8a5feab3-dc81-46bd-bc93-822a6aac5489",
     "showTitle": false,
     "title": ""
    }
   },
   "outputs": [],
   "source": [
    "fact_data = joined_df_filter.select(\n",
    "    \"order_id\",\n",
    "    \"quantity\",\n",
    "    \"price\",\n",
    "    \"Total_price\",\n",
    "    col(\"employee_key\").alias(\"Fk_employee_key\"),\n",
    "    col(\"store_key\").alias(\"Fk_store_key\"),\n",
    "    col(\"customer_key\").alias(\"Fk_customer_key\"),\n",
    "    current_date().alias(\"entry_date\")  \n",
    ")"
   ]
  },
  {
   "cell_type": "code",
   "execution_count": 0,
   "metadata": {
    "application/vnd.databricks.v1+cell": {
     "cellMetadata": {
      "byteLimit": 2048000,
      "rowLimit": 10000
     },
     "inputWidgets": {},
     "nuid": "802c3ad8-adf5-4810-b1ca-923d94701dc0",
     "showTitle": false,
     "title": ""
    }
   },
   "outputs": [
    {
     "output_type": "stream",
     "name": "stdout",
     "output_type": "stream",
     "text": [
      "+--------+--------+-----+-----------+---------------+------------+---------------+----------+\n|order_id|quantity|price|Total_price|Fk_employee_key|Fk_store_key|Fk_customer_key|entry_date|\n+--------+--------+-----+-----------+---------------+------------+---------------+----------+\n|    #opc|       2|  100|        200|              1|           2|             11|2024-03-21|\n|    #e5d|       2|   81|        162|              1|           3|              1|2024-03-21|\n|   #dosa|       2|  150|        300|              2|           1|             12|2024-03-21|\n|    #920|       1|  104|        104|              2|           1|              2|2024-03-21|\n|    #da9|      10|   90|        900|              3|           1|              3|2024-03-21|\n|    #6bb|      10|  120|       1200|              4|           4|              4|2024-03-21|\n|    #e66|       9|  146|       1314|              5|           1|              5|2024-03-21|\n|    #a6b|       5|  148|        740|              6|           2|              6|2024-03-21|\n|    #9c3|      10|   57|        570|              7|           4|              7|2024-03-21|\n|    #91b|      10|   32|        320|              8|           2|              8|2024-03-21|\n|    #f63|       1|  118|        118|              9|           1|              9|2024-03-21|\n|    #ef4|       6|   83|        498|             10|           1|             10|2024-03-21|\n+--------+--------+-----+-----------+---------------+------------+---------------+----------+\n\ncheck new and append to fact_table\n+--------+--------+-----+-----------+---------------+------------+---------------+-------------------+\n|order_id|quantity|price|Total_price|Fk_employee_key|Fk_store_key|Fk_customer_key|         entry_date|\n+--------+--------+-----+-----------+---------------+------------+---------------+-------------------+\n|    #opc|       2|  100|        200|              1|           2|             11|2024-03-21 00:00:00|\n|   #dosa|       2|  150|        300|              2|           1|             12|2024-03-21 00:00:00|\n+--------+--------+-----+-----------+---------------+------------+---------------+-------------------+\n\ndone\n"
     ]
    }
   ],
   "source": [
    "fact_data.show()\n",
    "\n",
    "# conditon = source_df['customer_id'] == fact_df['Fk_customer_key'] & source_df['store_id'] == fact_df['Fk_store_key'] & source_df['employee_id']\n",
    "# exisitng_records = source_df.select('customer_id', 'store_id', 'employee_id', 'quantity', 'price', 'Total_price').join(fact_df, ())\n",
    "print(\"check new and append to fact_table\")\n",
    "\n",
    "new_df = fact_data.join(fact_df, 'order_id', 'left_anti').withColumn('entry_date', to_timestamp('entry_date'))\n",
    "\n",
    "new_df.show()\n",
    "\n",
    "new_df.write.mode('append').saveAsTable('dev.factsales')\n",
    "print(\"done\")\n"
   ]
  },
  {
   "cell_type": "code",
   "execution_count": 0,
   "metadata": {
    "application/vnd.databricks.v1+cell": {
     "cellMetadata": {
      "byteLimit": 2048000,
      "implicitDf": true,
      "rowLimit": 10000
     },
     "inputWidgets": {},
     "nuid": "a75626c8-df17-40cc-9d7b-e64f08dfb356",
     "showTitle": false,
     "title": ""
    }
   },
   "outputs": [
    {
     "output_type": "display_data",
     "data": {
      "text/html": [
       "<style scoped>\n",
       "  .table-result-container {\n",
       "    max-height: 300px;\n",
       "    overflow: auto;\n",
       "  }\n",
       "  table, th, td {\n",
       "    border: 1px solid black;\n",
       "    border-collapse: collapse;\n",
       "  }\n",
       "  th, td {\n",
       "    padding: 5px;\n",
       "  }\n",
       "  th {\n",
       "    text-align: left;\n",
       "  }\n",
       "</style><div class='table-result-container'><table class='table-result'><thead style='background-color: white'><tr><th>sales_key</th><th>order_id</th><th>quantity</th><th>price</th><th>Total_price</th><th>Fk_employee_key</th><th>Fk_store_key</th><th>Fk_customer_key</th><th>entry_date</th></tr></thead><tbody><tr><td>1</td><td>#e5d</td><td>2</td><td>81</td><td>162</td><td>1</td><td>3</td><td>1</td><td>2024-03-21T00:00:00.000+0000</td></tr><tr><td>2</td><td>#920</td><td>1</td><td>104</td><td>104</td><td>2</td><td>1</td><td>2</td><td>2024-03-21T00:00:00.000+0000</td></tr><tr><td>3</td><td>#da9</td><td>10</td><td>90</td><td>900</td><td>3</td><td>1</td><td>3</td><td>2024-03-21T00:00:00.000+0000</td></tr><tr><td>4</td><td>#6bb</td><td>10</td><td>120</td><td>1200</td><td>4</td><td>4</td><td>4</td><td>2024-03-21T00:00:00.000+0000</td></tr><tr><td>5</td><td>#e66</td><td>9</td><td>146</td><td>1314</td><td>5</td><td>1</td><td>5</td><td>2024-03-21T00:00:00.000+0000</td></tr><tr><td>6</td><td>#a6b</td><td>5</td><td>148</td><td>740</td><td>6</td><td>2</td><td>6</td><td>2024-03-21T00:00:00.000+0000</td></tr><tr><td>7</td><td>#9c3</td><td>10</td><td>57</td><td>570</td><td>7</td><td>4</td><td>7</td><td>2024-03-21T00:00:00.000+0000</td></tr><tr><td>8</td><td>#91b</td><td>10</td><td>32</td><td>320</td><td>8</td><td>2</td><td>8</td><td>2024-03-21T00:00:00.000+0000</td></tr><tr><td>9</td><td>#f63</td><td>1</td><td>118</td><td>118</td><td>9</td><td>1</td><td>9</td><td>2024-03-21T00:00:00.000+0000</td></tr><tr><td>10</td><td>#ef4</td><td>6</td><td>83</td><td>498</td><td>10</td><td>1</td><td>10</td><td>2024-03-21T00:00:00.000+0000</td></tr><tr><td>11</td><td>#opc</td><td>2</td><td>100</td><td>200</td><td>1</td><td>2</td><td>11</td><td>2024-03-21T00:00:00.000+0000</td></tr><tr><td>12</td><td>#dosa</td><td>2</td><td>150</td><td>300</td><td>2</td><td>1</td><td>12</td><td>2024-03-21T00:00:00.000+0000</td></tr></tbody></table></div>"
      ]
     },
     "metadata": {
      "application/vnd.databricks.v1+output": {
       "addedWidgets": {},
       "aggData": [],
       "aggError": "",
       "aggOverflow": false,
       "aggSchema": [],
       "aggSeriesLimitReached": false,
       "aggType": "",
       "arguments": {},
       "columnCustomDisplayInfos": {},
       "data": [
        [
         1,
         "#e5d",
         2,
         81,
         162,
         1,
         3,
         1,
         "2024-03-21T00:00:00.000+0000"
        ],
        [
         2,
         "#920",
         1,
         104,
         104,
         2,
         1,
         2,
         "2024-03-21T00:00:00.000+0000"
        ],
        [
         3,
         "#da9",
         10,
         90,
         900,
         3,
         1,
         3,
         "2024-03-21T00:00:00.000+0000"
        ],
        [
         4,
         "#6bb",
         10,
         120,
         1200,
         4,
         4,
         4,
         "2024-03-21T00:00:00.000+0000"
        ],
        [
         5,
         "#e66",
         9,
         146,
         1314,
         5,
         1,
         5,
         "2024-03-21T00:00:00.000+0000"
        ],
        [
         6,
         "#a6b",
         5,
         148,
         740,
         6,
         2,
         6,
         "2024-03-21T00:00:00.000+0000"
        ],
        [
         7,
         "#9c3",
         10,
         57,
         570,
         7,
         4,
         7,
         "2024-03-21T00:00:00.000+0000"
        ],
        [
         8,
         "#91b",
         10,
         32,
         320,
         8,
         2,
         8,
         "2024-03-21T00:00:00.000+0000"
        ],
        [
         9,
         "#f63",
         1,
         118,
         118,
         9,
         1,
         9,
         "2024-03-21T00:00:00.000+0000"
        ],
        [
         10,
         "#ef4",
         6,
         83,
         498,
         10,
         1,
         10,
         "2024-03-21T00:00:00.000+0000"
        ],
        [
         11,
         "#opc",
         2,
         100,
         200,
         1,
         2,
         11,
         "2024-03-21T00:00:00.000+0000"
        ],
        [
         12,
         "#dosa",
         2,
         150,
         300,
         2,
         1,
         12,
         "2024-03-21T00:00:00.000+0000"
        ]
       ],
       "datasetInfos": [],
       "dbfsResultPath": null,
       "isJsonSchema": true,
       "metadata": {},
       "overflow": false,
       "plotOptions": {
        "customPlotOptions": {},
        "displayType": "table",
        "pivotAggregation": null,
        "pivotColumns": null,
        "xColumns": null,
        "yColumns": null
       },
       "removedWidgets": [],
       "schema": [
        {
         "metadata": "{}",
         "name": "sales_key",
         "type": "\"long\""
        },
        {
         "metadata": "{}",
         "name": "order_id",
         "type": "\"string\""
        },
        {
         "metadata": "{}",
         "name": "quantity",
         "type": "\"integer\""
        },
        {
         "metadata": "{}",
         "name": "price",
         "type": "\"integer\""
        },
        {
         "metadata": "{}",
         "name": "Total_price",
         "type": "\"integer\""
        },
        {
         "metadata": "{}",
         "name": "Fk_employee_key",
         "type": "\"long\""
        },
        {
         "metadata": "{}",
         "name": "Fk_store_key",
         "type": "\"long\""
        },
        {
         "metadata": "{}",
         "name": "Fk_customer_key",
         "type": "\"long\""
        },
        {
         "metadata": "{}",
         "name": "entry_date",
         "type": "\"timestamp\""
        }
       ],
       "type": "table"
      }
     },
     "output_type": "display_data"
    }
   ],
   "source": [
    "%sql \n",
    "select * from dev.factsales;"
   ]
  }
 ],
 "metadata": {
  "application/vnd.databricks.v1+notebook": {
   "dashboards": [],
   "language": "python",
   "notebookMetadata": {
    "mostRecentlyExecutedCommandWithImplicitDF": {
     "commandId": 752110113494646,
     "dataframes": [
      "_sqldf"
     ]
    },
    "pythonIndentUnit": 4
   },
   "notebookName": "Fact_Tables",
   "widgets": {}
  }
 },
 "nbformat": 4,
 "nbformat_minor": 0
}
