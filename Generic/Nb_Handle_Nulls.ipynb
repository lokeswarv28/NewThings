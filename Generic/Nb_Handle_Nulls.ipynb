{
 "cells": [
  {
   "cell_type": "markdown",
   "metadata": {
    "application/vnd.databricks.v1+cell": {
     "cellMetadata": {},
     "inputWidgets": {},
     "nuid": "c7339065-7b49-4c9e-b164-c648fcfe2df0",
     "showTitle": false,
     "title": ""
    }
   },
   "source": [
    "\n",
    "## In this Notebook , we used to fill the Null values automatically and also trim the spaces around the values "
   ]
  },
  {
   "cell_type": "code",
   "execution_count": 0,
   "metadata": {
    "application/vnd.databricks.v1+cell": {
     "cellMetadata": {
      "byteLimit": 2048000,
      "rowLimit": 10000
     },
     "inputWidgets": {},
     "nuid": "abfd8b23-48cb-42ba-9d1c-7a74032fd587",
     "showTitle": false,
     "title": ""
    }
   },
   "outputs": [],
   "source": [
    "from pyspark.sql.types import *\n",
    "from pyspark.sql.functions import *\n",
    "from datetime import datetime"
   ]
  },
  {
   "cell_type": "code",
   "execution_count": 0,
   "metadata": {
    "application/vnd.databricks.v1+cell": {
     "cellMetadata": {},
     "inputWidgets": {},
     "nuid": "1111151b-0eb6-43f9-924e-e586e792dc51",
     "showTitle": false,
     "title": ""
    }
   },
   "outputs": [],
   "source": [
    "# run the setup notebook"
   ]
  },
  {
   "cell_type": "code",
   "execution_count": 0,
   "metadata": {
    "application/vnd.databricks.v1+cell": {
     "cellMetadata": {
      "byteLimit": 2048000,
      "rowLimit": 10000
     },
     "inputWidgets": {},
     "nuid": "84168c11-e877-4aba-b62b-21bece6670df",
     "showTitle": false,
     "title": ""
    }
   },
   "outputs": [
    {
     "output_type": "execute_result",
     "data": {
      "text/plain": [
       "[FileInfo(path='dbfs:/FileStore/2024_04_18_4_WheelSales-1.csv', name='2024_04_18_4_WheelSales-1.csv', size=10992761, modificationTime=1719993217000),\n",
       " FileInfo(path='dbfs:/FileStore/2024_04_18_4_WheelSales.csv', name='2024_04_18_4_WheelSales.csv', size=10992762, modificationTime=1719989742000),\n",
       " FileInfo(path='dbfs:/FileStore/4_WheelSales.csv', name='4_WheelSales.csv', size=10992762, modificationTime=1719989774000),\n",
       " FileInfo(path='dbfs:/FileStore/jars/', name='jars/', size=0, modificationTime=1716203553000),\n",
       " FileInfo(path='dbfs:/FileStore/source1.csv', name='source1.csv', size=1138, modificationTime=1709555634000),\n",
       " FileInfo(path='dbfs:/FileStore/tables/', name='tables/', size=0, modificationTime=1708600418000)]"
      ]
     },
     "execution_count": 3,
     "metadata": {},
     "output_type": "execute_result"
    },
    {
     "output_type": "stream",
     "name": "stdout",
     "output_type": "stream",
     "text": [
      "['PipelineName', 'Pk_PipelineID', 'Pk_ActivityID', 'PipelineSourceTypes', 'ParameterValueSink', 'parameterValues2', 'ColumnSourceTypes', 'SourceColumnName', 'TargetColumnName', 'sourcecolumntypes', 'IsNullable', 'IsActive']\n"
     ]
    },
    {
     "output_type": "display_data",
     "data": {
      "text/html": [
       "<style scoped>\n",
       "  .table-result-container {\n",
       "    max-height: 300px;\n",
       "    overflow: auto;\n",
       "  }\n",
       "  table, th, td {\n",
       "    border: 1px solid black;\n",
       "    border-collapse: collapse;\n",
       "  }\n",
       "  th, td {\n",
       "    padding: 5px;\n",
       "  }\n",
       "  th {\n",
       "    text-align: left;\n",
       "  }\n",
       "</style><div class='table-result-container'><table class='table-result'><thead style='background-color: white'><tr><th>PipelineName</th><th>Pk_PipelineID</th><th>Pk_ActivityID</th><th>PipelineSourceTypes</th><th>ParameterValueSink</th><th>parameterValues2</th><th>ColumnSourceTypes</th><th>SourceColumnName</th><th>TargetColumnName</th><th>sourcecolumntypes</th><th>IsNullable</th><th>IsActive</th></tr></thead><tbody><tr><td>PL_Copy2WheelsData</td><td>101</td><td>2</td><td>CSV</td><td>2-WheelSales.csv</td><td>2-WheelSData.parquet</td><td>CSV</td><td>[OEM, Model, Segment, Month, Year, NoOfSales, EngineCapacity, Mileage, Model Price, Dealer location, Region]</td><td>[OEM, Model, Segment, Month, Year, NoOfSales, EngineCapacity, Mileage, ModelPrice, Dealerlocation, Region]</td><td>[string, string, string, string, int, int, string, string, string, string, string]</td><td>0</td><td>1</td></tr><tr><td>PL_Copy4WheelsData</td><td>102</td><td>3</td><td>CSV</td><td>4-WheelSales.csv</td><td>4-WheelSData.parquet</td><td>CSV</td><td>[Brand, Model, Body Type, FUEL TYPE, Mileage, ENGINE, TRANSMISSION, Price range, Fuel Capacity (L), Seating Capacity, Top_Speed in Km/h, No Of Cylinders, Year Of Sale, Month Of Sale , Country, City]</td><td>[Brand, Model, BodyType, FUELTYPE, Mileage, ENGINE, TRANSMISSION, Pricerange, FuelCapacity, SeatingCapacity, Top_Speed, NoOfCylinders, YearOfSale, MonthOfSale, Country, City]</td><td>[string, string, string, string, string, string, string, string, int, int, string, int, int, string, string, string]</td><td>null</td><td>null</td></tr></tbody></table></div>"
      ]
     },
     "metadata": {
      "application/vnd.databricks.v1+output": {
       "addedWidgets": {},
       "aggData": [],
       "aggError": "",
       "aggOverflow": false,
       "aggSchema": [],
       "aggSeriesLimitReached": false,
       "aggType": "",
       "arguments": {},
       "columnCustomDisplayInfos": {},
       "data": [
        [
         "PL_Copy2WheelsData",
         101,
         2,
         "CSV",
         "2-WheelSales.csv",
         "2-WheelSData.parquet",
         "CSV",
         "[OEM, Model, Segment, Month, Year, NoOfSales, EngineCapacity, Mileage, Model Price, Dealer location, Region]",
         "[OEM, Model, Segment, Month, Year, NoOfSales, EngineCapacity, Mileage, ModelPrice, Dealerlocation, Region]",
         "[string, string, string, string, int, int, string, string, string, string, string]",
         0,
         1
        ],
        [
         "PL_Copy4WheelsData",
         102,
         3,
         "CSV",
         "4-WheelSales.csv",
         "4-WheelSData.parquet",
         "CSV",
         "[Brand, Model, Body Type, FUEL TYPE, Mileage, ENGINE, TRANSMISSION, Price range, Fuel Capacity (L), Seating Capacity, Top_Speed in Km/h, No Of Cylinders, Year Of Sale, Month Of Sale , Country, City]",
         "[Brand, Model, BodyType, FUELTYPE, Mileage, ENGINE, TRANSMISSION, Pricerange, FuelCapacity, SeatingCapacity, Top_Speed, NoOfCylinders, YearOfSale, MonthOfSale, Country, City]",
         "[string, string, string, string, string, string, string, string, int, int, string, int, int, string, string, string]",
         null,
         null
        ]
       ],
       "datasetInfos": [],
       "dbfsResultPath": null,
       "isJsonSchema": true,
       "metadata": {},
       "overflow": false,
       "plotOptions": {
        "customPlotOptions": {},
        "displayType": "table",
        "pivotAggregation": null,
        "pivotColumns": null,
        "xColumns": null,
        "yColumns": null
       },
       "removedWidgets": [],
       "schema": [
        {
         "metadata": "{\"scale\":0}",
         "name": "PipelineName",
         "type": "\"string\""
        },
        {
         "metadata": "{\"scale\":0}",
         "name": "Pk_PipelineID",
         "type": "\"integer\""
        },
        {
         "metadata": "{\"scale\":0}",
         "name": "Pk_ActivityID",
         "type": "\"integer\""
        },
        {
         "metadata": "{\"scale\":0}",
         "name": "PipelineSourceTypes",
         "type": "\"string\""
        },
        {
         "metadata": "{\"scale\":0}",
         "name": "ParameterValueSink",
         "type": "\"string\""
        },
        {
         "metadata": "{\"scale\":0}",
         "name": "parameterValues2",
         "type": "\"string\""
        },
        {
         "metadata": "{\"scale\":0}",
         "name": "ColumnSourceTypes",
         "type": "\"string\""
        },
        {
         "metadata": "{\"scale\":0}",
         "name": "SourceColumnName",
         "type": "\"string\""
        },
        {
         "metadata": "{\"scale\":0}",
         "name": "TargetColumnName",
         "type": "\"string\""
        },
        {
         "metadata": "{\"scale\":0}",
         "name": "sourcecolumntypes",
         "type": "\"string\""
        },
        {
         "metadata": "{\"scale\":0}",
         "name": "IsNullable",
         "type": "\"integer\""
        },
        {
         "metadata": "{\"scale\":0}",
         "name": "IsActive",
         "type": "\"integer\""
        }
       ],
       "type": "table"
      }
     },
     "output_type": "display_data"
    },
    {
     "output_type": "display_data",
     "data": {
      "text/html": [
       "<style scoped>\n",
       "  .table-result-container {\n",
       "    max-height: 300px;\n",
       "    overflow: auto;\n",
       "  }\n",
       "  table, th, td {\n",
       "    border: 1px solid black;\n",
       "    border-collapse: collapse;\n",
       "  }\n",
       "  th, td {\n",
       "    padding: 5px;\n",
       "  }\n",
       "  th {\n",
       "    text-align: left;\n",
       "  }\n",
       "</style><div class='table-result-container'><table class='table-result'><thead style='background-color: white'><tr><th>PipelineName</th><th>Pk_PipelineID</th><th>Pk_ActivityID</th><th>PipelineSourceTypes</th><th>ParameterValueSink</th><th>parameterValues2</th><th>ColumnSourceTypes</th><th>SourceColumnName</th><th>TargetColumnName</th><th>sourcecolumntypes</th><th>IsNullable</th><th>IsActive</th><th>test</th></tr></thead><tbody><tr><td>PL_Copy2WheelsData</td><td>101</td><td>2</td><td>CSV</td><td>2-WheelSales.csv</td><td>2-WheelSData.parquet</td><td>CSV</td><td>[OEM, Model, Segment, Month, Year, NoOfSales, EngineCapacity, Mileage, Model Price, Dealer location, Region]</td><td>[OEM, Model, Segment, Month, Year, NoOfSales, EngineCapacity, Mileage, ModelPrice, Dealerlocation, Region]</td><td>[string, string, string, string, int, int, string, string, string, string, string]</td><td>0</td><td>1</td><td>2-WheelSales</td></tr><tr><td>PL_Copy4WheelsData</td><td>102</td><td>3</td><td>CSV</td><td>4-WheelSales.csv</td><td>4-WheelSData.parquet</td><td>CSV</td><td>[Brand, Model, Body Type, FUEL TYPE, Mileage, ENGINE, TRANSMISSION, Price range, Fuel Capacity (L), Seating Capacity, Top_Speed in Km/h, No Of Cylinders, Year Of Sale, Month Of Sale , Country, City]</td><td>[Brand, Model, BodyType, FUELTYPE, Mileage, ENGINE, TRANSMISSION, Pricerange, FuelCapacity, SeatingCapacity, Top_Speed, NoOfCylinders, YearOfSale, MonthOfSale, Country, City]</td><td>[string, string, string, string, string, string, string, string, int, int, string, int, int, string, string, string]</td><td>null</td><td>null</td><td>4-WheelSales</td></tr></tbody></table></div>"
      ]
     },
     "metadata": {
      "application/vnd.databricks.v1+output": {
       "addedWidgets": {},
       "aggData": [],
       "aggError": "",
       "aggOverflow": false,
       "aggSchema": [],
       "aggSeriesLimitReached": false,
       "aggType": "",
       "arguments": {},
       "columnCustomDisplayInfos": {},
       "data": [
        [
         "PL_Copy2WheelsData",
         101,
         2,
         "CSV",
         "2-WheelSales.csv",
         "2-WheelSData.parquet",
         "CSV",
         "[OEM, Model, Segment, Month, Year, NoOfSales, EngineCapacity, Mileage, Model Price, Dealer location, Region]",
         "[OEM, Model, Segment, Month, Year, NoOfSales, EngineCapacity, Mileage, ModelPrice, Dealerlocation, Region]",
         "[string, string, string, string, int, int, string, string, string, string, string]",
         0,
         1,
         "2-WheelSales"
        ],
        [
         "PL_Copy4WheelsData",
         102,
         3,
         "CSV",
         "4-WheelSales.csv",
         "4-WheelSData.parquet",
         "CSV",
         "[Brand, Model, Body Type, FUEL TYPE, Mileage, ENGINE, TRANSMISSION, Price range, Fuel Capacity (L), Seating Capacity, Top_Speed in Km/h, No Of Cylinders, Year Of Sale, Month Of Sale , Country, City]",
         "[Brand, Model, BodyType, FUELTYPE, Mileage, ENGINE, TRANSMISSION, Pricerange, FuelCapacity, SeatingCapacity, Top_Speed, NoOfCylinders, YearOfSale, MonthOfSale, Country, City]",
         "[string, string, string, string, string, string, string, string, int, int, string, int, int, string, string, string]",
         null,
         null,
         "4-WheelSales"
        ]
       ],
       "datasetInfos": [],
       "dbfsResultPath": null,
       "isJsonSchema": true,
       "metadata": {},
       "overflow": false,
       "plotOptions": {
        "customPlotOptions": {},
        "displayType": "table",
        "pivotAggregation": null,
        "pivotColumns": null,
        "xColumns": null,
        "yColumns": null
       },
       "removedWidgets": [],
       "schema": [
        {
         "metadata": "{\"scale\":0}",
         "name": "PipelineName",
         "type": "\"string\""
        },
        {
         "metadata": "{\"scale\":0}",
         "name": "Pk_PipelineID",
         "type": "\"integer\""
        },
        {
         "metadata": "{\"scale\":0}",
         "name": "Pk_ActivityID",
         "type": "\"integer\""
        },
        {
         "metadata": "{\"scale\":0}",
         "name": "PipelineSourceTypes",
         "type": "\"string\""
        },
        {
         "metadata": "{\"scale\":0}",
         "name": "ParameterValueSink",
         "type": "\"string\""
        },
        {
         "metadata": "{\"scale\":0}",
         "name": "parameterValues2",
         "type": "\"string\""
        },
        {
         "metadata": "{\"scale\":0}",
         "name": "ColumnSourceTypes",
         "type": "\"string\""
        },
        {
         "metadata": "{\"scale\":0}",
         "name": "SourceColumnName",
         "type": "\"string\""
        },
        {
         "metadata": "{\"scale\":0}",
         "name": "TargetColumnName",
         "type": "\"string\""
        },
        {
         "metadata": "{\"scale\":0}",
         "name": "sourcecolumntypes",
         "type": "\"string\""
        },
        {
         "metadata": "{\"scale\":0}",
         "name": "IsNullable",
         "type": "\"integer\""
        },
        {
         "metadata": "{\"scale\":0}",
         "name": "IsActive",
         "type": "\"integer\""
        },
        {
         "metadata": "{}",
         "name": "test",
         "type": "\"string\""
        }
       ],
       "type": "table"
      }
     },
     "output_type": "display_data"
    },
    {
     "output_type": "stream",
     "name": "stdout",
     "output_type": "stream",
     "text": [
      "2-WheelSales\n/mnt/genericSilver/2-WheelSales\nabfss://xyenta-dev-96-silver@adlsxyentadevuks96.dfs.core.windows.net/2-WheelSales/\n4-WheelSales\n/mnt/genericSilver/4-WheelSales\nabfss://xyenta-dev-96-silver@adlsxyentadevuks96.dfs.core.windows.net/4-WheelSales/\n"
     ]
    },
    {
     "output_type": "stream",
     "name": "stdout",
     "output_type": "stream",
     "text": [
      "2-WheelSales\n/mnt/genericrawTest/2-WheelSales\nabfss://xyenta-dev-96-raw@adlsxyentadevuks96.dfs.core.windows.net/2-WheelSales/\n4-WheelSales\n/mnt/genericrawTest/4-WheelSales\nabfss://xyenta-dev-96-raw@adlsxyentadevuks96.dfs.core.windows.net/4-WheelSales/\n"
     ]
    },
    {
     "output_type": "stream",
     "name": "stdout",
     "output_type": "stream",
     "text": [
      "2-WheelSales\n/mnt/genericStage/2-WheelSales\nabfss://xyenta-dev-96-stg@adlsxyentadevuks96.dfs.core.windows.net/2-WheelSales/\n4-WheelSales\n/mnt/genericStage/4-WheelSales\nabfss://xyenta-dev-96-stg@adlsxyentadevuks96.dfs.core.windows.net/4-WheelSales/\n"
     ]
    },
    {
     "output_type": "stream",
     "name": "stdout",
     "output_type": "stream",
     "text": [
      "2024/07/04\n"
     ]
    }
   ],
   "source": [
    "%run /Workspace/Generic/Nb_SetUpMounts_JDBC"
   ]
  },
  {
   "cell_type": "code",
   "execution_count": 0,
   "metadata": {
    "application/vnd.databricks.v1+cell": {
     "cellMetadata": {},
     "inputWidgets": {},
     "nuid": "c068833b-c5b6-417f-b2e7-4af35fe64dec",
     "showTitle": false,
     "title": ""
    }
   },
   "outputs": [],
   "source": [
    "## define the function "
   ]
  },
  {
   "cell_type": "code",
   "execution_count": 0,
   "metadata": {
    "application/vnd.databricks.v1+cell": {
     "cellMetadata": {
      "byteLimit": 2048000,
      "rowLimit": 10000
     },
     "inputWidgets": {},
     "nuid": "a0000e7c-a376-4495-9ef2-dcbdf5c31b2e",
     "showTitle": false,
     "title": ""
    }
   },
   "outputs": [],
   "source": [
    "def fn_handlenull_spaces(filepaths, reference_df):\n",
    "\n",
    "    try:\n",
    "\n",
    "        # file_info = dbutils.fs.ls(filepaths)\n",
    "\n",
    "        # file_paths = [file.path for file in file_info]\n",
    "        # print(file_paths)\n",
    "\n",
    "        # paths = [f\"'{file.path}'\" for file in file_info]\n",
    "\n",
    "        for x in reference_df.collect():\n",
    "\n",
    "            filenames = x['parameterValues2']\n",
    "            print(filenames)\n",
    "            folder_names = x['test']\n",
    "            print(folder_names)\n",
    "\n",
    "            dt_string = datetime.now().strftime(\"%Y/%m/%d\")\n",
    "            full_path = f\"{filepaths}{folder_names}/{dt_string}/{filenames}\"\n",
    "            print(full_path)\n",
    "\n",
    "\n",
    "            try:\n",
    "                dbutils.fs.ls(full_path)\n",
    "                print(f'Exists :: {full_path}')\n",
    "\n",
    "                dfs = spark.read.format('parquet').option('inferSchema', True).load(full_path)\n",
    "\n",
    "                nulls_count = dfs.select([ count( when( col(c).isNull() | isnan(c),c) ).alias(c) for c in dfs.columns  ]).first().asDict()\n",
    "\n",
    "                total_nulls = 0\n",
    "\n",
    "                for null_count in nulls_count.values():\n",
    "                    total_nulls += null_count\n",
    "                print(f\"Total null values in {filenames}: {total_nulls}\")\n",
    "\n",
    "                dfs_str = dfs.fillna('unkown', subset=dfs.schema.names)\n",
    "\n",
    "                dfs_cleaned = dfs_str.fillna(0, subset=dfs.schema.names)\n",
    "\n",
    "                nulls_count2 = dfs_cleaned.select([count( when (col(c).isNull() | isnan(c),c  )).alias(c) for c in dfs_cleaned.columns  ])\n",
    "\n",
    "                output_good_path = f\"/mnt/genericSilver/{folder_names}/{dt_string}\"\n",
    "\n",
    "                dfs2 = dfs_cleaned.select(*[trim(col(c)).alias(c) for c in dfs_cleaned.columns])\n",
    "        \n",
    "                dfs2.coalesce(1).write.mode('overwrite').option(\"header\", \"true\").parquet(output_good_path)\n",
    "                print(\"Done\")\n",
    "\n",
    "            except Exception as e:\n",
    "\n",
    "                print(f'Does not exists :: {full_path}')\n",
    "\n",
    "    except Exception as e:\n",
    "        raise e\n",
    "\n"
   ]
  },
  {
   "cell_type": "code",
   "execution_count": 0,
   "metadata": {
    "application/vnd.databricks.v1+cell": {
     "cellMetadata": {
      "byteLimit": 2048000,
      "rowLimit": 10000
     },
     "inputWidgets": {},
     "nuid": "65279f35-e09f-4cf2-8c70-ba90b988675a",
     "showTitle": false,
     "title": ""
    }
   },
   "outputs": [
    {
     "output_type": "stream",
     "name": "stdout",
     "output_type": "stream",
     "text": [
      "2-WheelSData.parquet\n2-WheelSales\n/mnt/genericraw/2-WheelSales/2024/07/04/2-WheelSData.parquet\nExists :: /mnt/genericraw/2-WheelSales/2024/07/04/2-WheelSData.parquet\nTotal null values in 2-WheelSData.parquet: 964\nDone\n4-WheelSData.parquet\n4-WheelSales\n/mnt/genericraw/4-WheelSales/2024/07/04/4-WheelSData.parquet\nExists :: /mnt/genericraw/4-WheelSales/2024/07/04/4-WheelSData.parquet\nTotal null values in 4-WheelSData.parquet: 3960\nDone\n"
     ]
    }
   ],
   "source": [
    "fn_handlenull_spaces(filepaths= '/mnt/genericraw/', reference_df= res)"
   ]
  }
 ],
 "metadata": {
  "application/vnd.databricks.v1+notebook": {
   "dashboards": [],
   "environmentMetadata": null,
   "language": "python",
   "notebookMetadata": {
    "pythonIndentUnit": 4
   },
   "notebookName": "Nb_Handle_Nulls",
   "widgets": {}
  }
 },
 "nbformat": 4,
 "nbformat_minor": 0
}
