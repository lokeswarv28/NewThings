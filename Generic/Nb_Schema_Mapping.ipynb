{
 "cells": [
  {
   "cell_type": "markdown",
   "metadata": {
    "application/vnd.databricks.v1+cell": {
     "cellMetadata": {},
     "inputWidgets": {},
     "nuid": "d21dc376-e42c-41d0-b5c0-55466efd0a53",
     "showTitle": false,
     "title": ""
    }
   },
   "source": [
    "## This Notebook used to Map the schema comming from the control_df or res dataframe\n",
    ">> Also It'll check the files or folder exists or not in the Raw Layer"
   ]
  },
  {
   "cell_type": "code",
   "execution_count": 0,
   "metadata": {
    "application/vnd.databricks.v1+cell": {
     "cellMetadata": {
      "byteLimit": 2048000,
      "rowLimit": 10000
     },
     "inputWidgets": {},
     "nuid": "c508725e-85d7-461a-a73c-e4c35674b867",
     "showTitle": false,
     "title": ""
    }
   },
   "outputs": [],
   "source": [
    "from pyspark.sql.functions import *\n",
    "from pyspark.sql.types import *\n",
    "from datetime import datetime \n"
   ]
  },
  {
   "cell_type": "code",
   "execution_count": 0,
   "metadata": {
    "application/vnd.databricks.v1+cell": {
     "cellMetadata": {
      "byteLimit": 2048000,
      "rowLimit": 10000
     },
     "inputWidgets": {},
     "nuid": "9c3e455c-12d1-42aa-b37e-18cad3e321f6",
     "showTitle": false,
     "title": ""
    }
   },
   "outputs": [],
   "source": [
    "## run the setup notebook \n",
    "\n",
    "\n"
   ]
  },
  {
   "cell_type": "code",
   "execution_count": 0,
   "metadata": {
    "application/vnd.databricks.v1+cell": {
     "cellMetadata": {
      "byteLimit": 2048000,
      "rowLimit": 10000
     },
     "inputWidgets": {},
     "nuid": "7ee881d5-7438-40d8-91db-c4e7fabb5668",
     "showTitle": false,
     "title": ""
    }
   },
   "outputs": [
    {
     "output_type": "execute_result",
     "data": {
      "text/plain": [
       "[FileInfo(path='dbfs:/FileStore/2024_04_18_4_WheelSales-1.csv', name='2024_04_18_4_WheelSales-1.csv', size=10992761, modificationTime=1719993217000),\n",
       " FileInfo(path='dbfs:/FileStore/2024_04_18_4_WheelSales.csv', name='2024_04_18_4_WheelSales.csv', size=10992762, modificationTime=1719989742000),\n",
       " FileInfo(path='dbfs:/FileStore/4_WheelSales.csv', name='4_WheelSales.csv', size=10992762, modificationTime=1719989774000),\n",
       " FileInfo(path='dbfs:/FileStore/jars/', name='jars/', size=0, modificationTime=1716203553000),\n",
       " FileInfo(path='dbfs:/FileStore/source1.csv', name='source1.csv', size=1138, modificationTime=1709555634000),\n",
       " FileInfo(path='dbfs:/FileStore/tables/', name='tables/', size=0, modificationTime=1708600418000)]"
      ]
     },
     "execution_count": 56,
     "metadata": {},
     "output_type": "execute_result"
    },
    {
     "output_type": "stream",
     "name": "stdout",
     "output_type": "stream",
     "text": [
      "['PipelineName', 'Pk_PipelineID', 'Pk_ActivityID', 'PipelineSourceTypes', 'ParameterValueSink', 'parameterValues2', 'ColumnSourceTypes', 'SourceColumnName', 'TargetColumnName', 'sourcecolumntypes', 'IsNullable', 'IsActive']\n"
     ]
    },
    {
     "output_type": "display_data",
     "data": {
      "text/html": [
       "<style scoped>\n",
       "  .table-result-container {\n",
       "    max-height: 300px;\n",
       "    overflow: auto;\n",
       "  }\n",
       "  table, th, td {\n",
       "    border: 1px solid black;\n",
       "    border-collapse: collapse;\n",
       "  }\n",
       "  th, td {\n",
       "    padding: 5px;\n",
       "  }\n",
       "  th {\n",
       "    text-align: left;\n",
       "  }\n",
       "</style><div class='table-result-container'><table class='table-result'><thead style='background-color: white'><tr><th>PipelineName</th><th>Pk_PipelineID</th><th>Pk_ActivityID</th><th>PipelineSourceTypes</th><th>ParameterValueSink</th><th>parameterValues2</th><th>ColumnSourceTypes</th><th>SourceColumnName</th><th>TargetColumnName</th><th>sourcecolumntypes</th><th>IsNullable</th><th>IsActive</th></tr></thead><tbody><tr><td>PL_Copy2WheelsData</td><td>101</td><td>2</td><td>CSV</td><td>2-WheelSales.csv</td><td>2-WheelSData.parquet</td><td>CSV</td><td>[OEM, Model, Segment, Month, Year, NoOfSales, EngineCapacity, Mileage, Model Price, Dealer location, Region]</td><td>[OEM, Model, Segment, Month, Year, NoOfSales, EngineCapacity, Mileage, ModelPrice, Dealerlocation, Region]</td><td>[string, string, string, string, int, int, string, string, string, string, string]</td><td>0</td><td>1</td></tr><tr><td>PL_Copy4WheelsData</td><td>102</td><td>3</td><td>CSV</td><td>4-WheelSales.csv</td><td>4-WheelSData.parquet</td><td>CSV</td><td>[Brand, Model, Body Type, FUEL TYPE, Mileage, ENGINE, TRANSMISSION, Price range, Fuel Capacity (L), Seating Capacity, Top_Speed in Km/h, No Of Cylinders, Year Of Sale, Month Of Sale , Country, City]</td><td>[Brand, Model, BodyType, FUELTYPE, Mileage, ENGINE, TRANSMISSION, Pricerange, FuelCapacity, SeatingCapacity, Top_Speed, NoOfCylinders, YearOfSale, MonthOfSale, Country, City]</td><td>[string, string, string, string, string, string, string, string, int, int, string, int, int, string, string, string]</td><td>null</td><td>null</td></tr></tbody></table></div>"
      ]
     },
     "metadata": {
      "application/vnd.databricks.v1+output": {
       "addedWidgets": {},
       "aggData": [],
       "aggError": "",
       "aggOverflow": false,
       "aggSchema": [],
       "aggSeriesLimitReached": false,
       "aggType": "",
       "arguments": {},
       "columnCustomDisplayInfos": {},
       "data": [
        [
         "PL_Copy2WheelsData",
         101,
         2,
         "CSV",
         "2-WheelSales.csv",
         "2-WheelSData.parquet",
         "CSV",
         "[OEM, Model, Segment, Month, Year, NoOfSales, EngineCapacity, Mileage, Model Price, Dealer location, Region]",
         "[OEM, Model, Segment, Month, Year, NoOfSales, EngineCapacity, Mileage, ModelPrice, Dealerlocation, Region]",
         "[string, string, string, string, int, int, string, string, string, string, string]",
         0,
         1
        ],
        [
         "PL_Copy4WheelsData",
         102,
         3,
         "CSV",
         "4-WheelSales.csv",
         "4-WheelSData.parquet",
         "CSV",
         "[Brand, Model, Body Type, FUEL TYPE, Mileage, ENGINE, TRANSMISSION, Price range, Fuel Capacity (L), Seating Capacity, Top_Speed in Km/h, No Of Cylinders, Year Of Sale, Month Of Sale , Country, City]",
         "[Brand, Model, BodyType, FUELTYPE, Mileage, ENGINE, TRANSMISSION, Pricerange, FuelCapacity, SeatingCapacity, Top_Speed, NoOfCylinders, YearOfSale, MonthOfSale, Country, City]",
         "[string, string, string, string, string, string, string, string, int, int, string, int, int, string, string, string]",
         null,
         null
        ]
       ],
       "datasetInfos": [],
       "dbfsResultPath": null,
       "isJsonSchema": true,
       "metadata": {},
       "overflow": false,
       "plotOptions": {
        "customPlotOptions": {},
        "displayType": "table",
        "pivotAggregation": null,
        "pivotColumns": null,
        "xColumns": null,
        "yColumns": null
       },
       "removedWidgets": [],
       "schema": [
        {
         "metadata": "{\"scale\":0}",
         "name": "PipelineName",
         "type": "\"string\""
        },
        {
         "metadata": "{\"scale\":0}",
         "name": "Pk_PipelineID",
         "type": "\"integer\""
        },
        {
         "metadata": "{\"scale\":0}",
         "name": "Pk_ActivityID",
         "type": "\"integer\""
        },
        {
         "metadata": "{\"scale\":0}",
         "name": "PipelineSourceTypes",
         "type": "\"string\""
        },
        {
         "metadata": "{\"scale\":0}",
         "name": "ParameterValueSink",
         "type": "\"string\""
        },
        {
         "metadata": "{\"scale\":0}",
         "name": "parameterValues2",
         "type": "\"string\""
        },
        {
         "metadata": "{\"scale\":0}",
         "name": "ColumnSourceTypes",
         "type": "\"string\""
        },
        {
         "metadata": "{\"scale\":0}",
         "name": "SourceColumnName",
         "type": "\"string\""
        },
        {
         "metadata": "{\"scale\":0}",
         "name": "TargetColumnName",
         "type": "\"string\""
        },
        {
         "metadata": "{\"scale\":0}",
         "name": "sourcecolumntypes",
         "type": "\"string\""
        },
        {
         "metadata": "{\"scale\":0}",
         "name": "IsNullable",
         "type": "\"integer\""
        },
        {
         "metadata": "{\"scale\":0}",
         "name": "IsActive",
         "type": "\"integer\""
        }
       ],
       "type": "table"
      }
     },
     "output_type": "display_data"
    },
    {
     "output_type": "display_data",
     "data": {
      "text/html": [
       "<style scoped>\n",
       "  .table-result-container {\n",
       "    max-height: 300px;\n",
       "    overflow: auto;\n",
       "  }\n",
       "  table, th, td {\n",
       "    border: 1px solid black;\n",
       "    border-collapse: collapse;\n",
       "  }\n",
       "  th, td {\n",
       "    padding: 5px;\n",
       "  }\n",
       "  th {\n",
       "    text-align: left;\n",
       "  }\n",
       "</style><div class='table-result-container'><table class='table-result'><thead style='background-color: white'><tr><th>PipelineName</th><th>Pk_PipelineID</th><th>Pk_ActivityID</th><th>PipelineSourceTypes</th><th>ParameterValueSink</th><th>parameterValues2</th><th>ColumnSourceTypes</th><th>SourceColumnName</th><th>TargetColumnName</th><th>sourcecolumntypes</th><th>IsNullable</th><th>IsActive</th><th>test</th></tr></thead><tbody><tr><td>PL_Copy2WheelsData</td><td>101</td><td>2</td><td>CSV</td><td>2-WheelSales.csv</td><td>2-WheelSData.parquet</td><td>CSV</td><td>[OEM, Model, Segment, Month, Year, NoOfSales, EngineCapacity, Mileage, Model Price, Dealer location, Region]</td><td>[OEM, Model, Segment, Month, Year, NoOfSales, EngineCapacity, Mileage, ModelPrice, Dealerlocation, Region]</td><td>[string, string, string, string, int, int, string, string, string, string, string]</td><td>0</td><td>1</td><td>2-WheelSales</td></tr><tr><td>PL_Copy4WheelsData</td><td>102</td><td>3</td><td>CSV</td><td>4-WheelSales.csv</td><td>4-WheelSData.parquet</td><td>CSV</td><td>[Brand, Model, Body Type, FUEL TYPE, Mileage, ENGINE, TRANSMISSION, Price range, Fuel Capacity (L), Seating Capacity, Top_Speed in Km/h, No Of Cylinders, Year Of Sale, Month Of Sale , Country, City]</td><td>[Brand, Model, BodyType, FUELTYPE, Mileage, ENGINE, TRANSMISSION, Pricerange, FuelCapacity, SeatingCapacity, Top_Speed, NoOfCylinders, YearOfSale, MonthOfSale, Country, City]</td><td>[string, string, string, string, string, string, string, string, int, int, string, int, int, string, string, string]</td><td>null</td><td>null</td><td>4-WheelSales</td></tr></tbody></table></div>"
      ]
     },
     "metadata": {
      "application/vnd.databricks.v1+output": {
       "addedWidgets": {},
       "aggData": [],
       "aggError": "",
       "aggOverflow": false,
       "aggSchema": [],
       "aggSeriesLimitReached": false,
       "aggType": "",
       "arguments": {},
       "columnCustomDisplayInfos": {},
       "data": [
        [
         "PL_Copy2WheelsData",
         101,
         2,
         "CSV",
         "2-WheelSales.csv",
         "2-WheelSData.parquet",
         "CSV",
         "[OEM, Model, Segment, Month, Year, NoOfSales, EngineCapacity, Mileage, Model Price, Dealer location, Region]",
         "[OEM, Model, Segment, Month, Year, NoOfSales, EngineCapacity, Mileage, ModelPrice, Dealerlocation, Region]",
         "[string, string, string, string, int, int, string, string, string, string, string]",
         0,
         1,
         "2-WheelSales"
        ],
        [
         "PL_Copy4WheelsData",
         102,
         3,
         "CSV",
         "4-WheelSales.csv",
         "4-WheelSData.parquet",
         "CSV",
         "[Brand, Model, Body Type, FUEL TYPE, Mileage, ENGINE, TRANSMISSION, Price range, Fuel Capacity (L), Seating Capacity, Top_Speed in Km/h, No Of Cylinders, Year Of Sale, Month Of Sale , Country, City]",
         "[Brand, Model, BodyType, FUELTYPE, Mileage, ENGINE, TRANSMISSION, Pricerange, FuelCapacity, SeatingCapacity, Top_Speed, NoOfCylinders, YearOfSale, MonthOfSale, Country, City]",
         "[string, string, string, string, string, string, string, string, int, int, string, int, int, string, string, string]",
         null,
         null,
         "4-WheelSales"
        ]
       ],
       "datasetInfos": [],
       "dbfsResultPath": null,
       "isJsonSchema": true,
       "metadata": {},
       "overflow": false,
       "plotOptions": {
        "customPlotOptions": {},
        "displayType": "table",
        "pivotAggregation": null,
        "pivotColumns": null,
        "xColumns": null,
        "yColumns": null
       },
       "removedWidgets": [],
       "schema": [
        {
         "metadata": "{\"scale\":0}",
         "name": "PipelineName",
         "type": "\"string\""
        },
        {
         "metadata": "{\"scale\":0}",
         "name": "Pk_PipelineID",
         "type": "\"integer\""
        },
        {
         "metadata": "{\"scale\":0}",
         "name": "Pk_ActivityID",
         "type": "\"integer\""
        },
        {
         "metadata": "{\"scale\":0}",
         "name": "PipelineSourceTypes",
         "type": "\"string\""
        },
        {
         "metadata": "{\"scale\":0}",
         "name": "ParameterValueSink",
         "type": "\"string\""
        },
        {
         "metadata": "{\"scale\":0}",
         "name": "parameterValues2",
         "type": "\"string\""
        },
        {
         "metadata": "{\"scale\":0}",
         "name": "ColumnSourceTypes",
         "type": "\"string\""
        },
        {
         "metadata": "{\"scale\":0}",
         "name": "SourceColumnName",
         "type": "\"string\""
        },
        {
         "metadata": "{\"scale\":0}",
         "name": "TargetColumnName",
         "type": "\"string\""
        },
        {
         "metadata": "{\"scale\":0}",
         "name": "sourcecolumntypes",
         "type": "\"string\""
        },
        {
         "metadata": "{\"scale\":0}",
         "name": "IsNullable",
         "type": "\"integer\""
        },
        {
         "metadata": "{\"scale\":0}",
         "name": "IsActive",
         "type": "\"integer\""
        },
        {
         "metadata": "{}",
         "name": "test",
         "type": "\"string\""
        }
       ],
       "type": "table"
      }
     },
     "output_type": "display_data"
    },
    {
     "output_type": "stream",
     "name": "stdout",
     "output_type": "stream",
     "text": [
      "2-WheelSales\n/mnt/genericSilver/2-WheelSales\nabfss://xyenta-dev-96-silver@adlsxyentadevuks96.dfs.core.windows.net/2-WheelSales/\n4-WheelSales\n/mnt/genericSilver/4-WheelSales\nabfss://xyenta-dev-96-silver@adlsxyentadevuks96.dfs.core.windows.net/4-WheelSales/\n"
     ]
    },
    {
     "output_type": "stream",
     "name": "stdout",
     "output_type": "stream",
     "text": [
      "2-WheelSales\n/mnt/genericrawTest/2-WheelSales\nabfss://xyenta-dev-96-raw@adlsxyentadevuks96.dfs.core.windows.net/2-WheelSales/\n4-WheelSales\n/mnt/genericrawTest/4-WheelSales\nabfss://xyenta-dev-96-raw@adlsxyentadevuks96.dfs.core.windows.net/4-WheelSales/\n"
     ]
    },
    {
     "output_type": "stream",
     "name": "stdout",
     "output_type": "stream",
     "text": [
      "2-WheelSales\n/mnt/genericStage/2-WheelSales\nabfss://xyenta-dev-96-stg@adlsxyentadevuks96.dfs.core.windows.net/2-WheelSales/\n4-WheelSales\n/mnt/genericStage/4-WheelSales\nabfss://xyenta-dev-96-stg@adlsxyentadevuks96.dfs.core.windows.net/4-WheelSales/\n"
     ]
    }
   ],
   "source": [
    "%run /Workspace/Generic/Nb_SetUpMounts_JDBC"
   ]
  },
  {
   "cell_type": "code",
   "execution_count": 0,
   "metadata": {
    "application/vnd.databricks.v1+cell": {
     "cellMetadata": {},
     "inputWidgets": {},
     "nuid": "bab4dd02-fade-4851-a702-0cd5dc4ef96b",
     "showTitle": false,
     "title": ""
    }
   },
   "outputs": [
    {
     "output_type": "stream",
     "name": "stdout",
     "output_type": "stream",
     "text": [
      "2024/07/04\n"
     ]
    }
   ],
   "source": [
    "# Define the function for schema mapping"
   ]
  },
  {
   "cell_type": "code",
   "execution_count": 0,
   "metadata": {
    "application/vnd.databricks.v1+cell": {
     "cellMetadata": {
      "byteLimit": 2048000,
      "rowLimit": 10000
     },
     "inputWidgets": {},
     "nuid": "cef12fdb-ec05-43cb-92af-0aa0d696d16e",
     "showTitle": false,
     "title": ""
    }
   },
   "outputs": [],
   "source": [
    "def schema_mappings(filepaths, reference_df):\n",
    "    try:\n",
    "        # Define a mapping for types\n",
    "        type_dict = {\n",
    "            'string': StringType(),\n",
    "            'int': IntegerType(),\n",
    "            'long': LongType(),\n",
    "            'float': FloatType(),\n",
    "            'double': DoubleType(),\n",
    "            'boolean': BooleanType(),\n",
    "            'date': DateType(),\n",
    "            'timestamp': TimestampType()\n",
    "        }\n",
    "\n",
    "        for row in reference_df.collect():\n",
    "            filenames = row['parameterValues2']\n",
    "            print(f\"\\nProcessing files: {filenames}\")\n",
    "            folder_names = row['test']\n",
    "            print(folder_names)\n",
    "\n",
    "            source_columns = row['SourceColumnName']\n",
    "            target_columns = row['TargetColumnName']\n",
    "            target_columns = target_columns.strip(\"[]\").split(\",\")\n",
    "            print(f'Target_before:: {target_columns}')\n",
    "            target_columns = [col_name.strip() for col_name in target_columns]\n",
    "\n",
    "            source_types = row['sourcecolumntypes']\n",
    "            source_types = source_types.strip(\"[]\").split(\",\")\n",
    "            source_types = [col_type.strip() for col_type in source_types]\n",
    "\n",
    "            if len(target_columns) != len(source_types):\n",
    "\n",
    "                raise ValueError(f\"Mismatch between target columns and source types lengths for {filenames}\")\n",
    "\n",
    "            type_mapping = {}\n",
    "\n",
    "            for col_name, col_type in zip(target_columns, source_types):\n",
    "\n",
    "                if col_type not in type_dict:\n",
    "                    raise ValueError(f\"Unsupported data type: {col_type}\")\n",
    "                type_mapping[col_name] = type_dict[col_type]\n",
    "\n",
    "\n",
    "            print(f'{type_mapping}')\n",
    "\n",
    "            dt_string = datetime.now().strftime(\"%Y/%m/%d\")\n",
    "            full_path = f\"{filepaths}{folder_names}/{dt_string}/{filenames}\"\n",
    "            print(full_path)\n",
    "\n",
    "            try:\n",
    "                dbutils.fs.ls(full_path)\n",
    "                print(f'path exists for :: {full_path}')\n",
    "\n",
    "                dfs = spark.read.format('parquet').load(full_path)\n",
    "\n",
    "                actual_columns = dfs.columns\n",
    "\n",
    "                print(f'Actual_columns for {filenames} are :: {actual_columns}')\n",
    "\n",
    "                for col_name, col_type in type_mapping.items():\n",
    "                    if col_name in actual_columns:\n",
    "                        dfs = dfs.withColumn(col_name, col(col_name).cast(col_type))\n",
    "\n",
    "                    else:\n",
    "                        raise ValueError(f\"Column '{col_name}' from target columns does not exist in the DataFrame\")\n",
    "\n",
    "                dfs.printSchema()\n",
    "\n",
    "                output_good_path = f\"/mnt/genericSilver/{folder_names}/{dt_string}\"\n",
    "                dfs.coalesce(1).write.mode('overwrite').option(\"header\", \"true\").parquet(output_good_path)\n",
    "                print(\"Done\")\n",
    "\n",
    "            except Exception as e :\n",
    "                print(f'Does not exists :: {full_path}')\n",
    "\n",
    "    except Exception as e:\n",
    "        raise e"
   ]
  },
  {
   "cell_type": "code",
   "execution_count": 0,
   "metadata": {
    "application/vnd.databricks.v1+cell": {
     "cellMetadata": {
      "byteLimit": 2048000,
      "rowLimit": 10000
     },
     "inputWidgets": {},
     "nuid": "4c9c32c6-4575-4ddd-a547-ba9ef5246ff2",
     "showTitle": false,
     "title": ""
    }
   },
   "outputs": [
    {
     "output_type": "stream",
     "name": "stdout",
     "output_type": "stream",
     "text": [
      "\nProcessing files: 2-WheelSData.parquet\n2-WheelSales\nTarget_before:: ['OEM', ' Model', ' Segment', ' Month', ' Year', ' NoOfSales', ' EngineCapacity', ' Mileage', ' ModelPrice', ' Dealerlocation', ' Region']\n{'OEM': StringType(), 'Model': StringType(), 'Segment': StringType(), 'Month': StringType(), 'Year': IntegerType(), 'NoOfSales': IntegerType(), 'EngineCapacity': StringType(), 'Mileage': StringType(), 'ModelPrice': StringType(), 'Dealerlocation': StringType(), 'Region': StringType()}\n/mnt/genericraw/2-WheelSales/2024/07/04/2-WheelSData.parquet\npath exists for :: /mnt/genericraw/2-WheelSales/2024/07/04/2-WheelSData.parquet\nActual_columns for 2-WheelSData.parquet are :: ['Dealerlocation', 'EngineCapacity', 'Mileage', 'Model', 'ModelPrice', 'Month', 'NoOfSales', 'OEM', 'Region', 'Segment', 'Year']\nroot\n |-- Dealerlocation: string (nullable = true)\n |-- EngineCapacity: string (nullable = true)\n |-- Mileage: string (nullable = true)\n |-- Model: string (nullable = true)\n |-- ModelPrice: string (nullable = true)\n |-- Month: string (nullable = true)\n |-- NoOfSales: integer (nullable = true)\n |-- OEM: string (nullable = true)\n |-- Region: string (nullable = true)\n |-- Segment: string (nullable = true)\n |-- Year: integer (nullable = true)\n\nDone\n\nProcessing files: 4-WheelSData.parquet\n4-WheelSales\nTarget_before:: ['Brand', ' Model', ' BodyType', ' FUELTYPE', ' Mileage', ' ENGINE', ' TRANSMISSION', ' Pricerange', ' FuelCapacity', ' SeatingCapacity', ' Top_Speed', ' NoOfCylinders', ' YearOfSale', ' MonthOfSale', ' Country', ' City']\n{'Brand': StringType(), 'Model': StringType(), 'BodyType': StringType(), 'FUELTYPE': StringType(), 'Mileage': StringType(), 'ENGINE': StringType(), 'TRANSMISSION': StringType(), 'Pricerange': StringType(), 'FuelCapacity': IntegerType(), 'SeatingCapacity': IntegerType(), 'Top_Speed': StringType(), 'NoOfCylinders': IntegerType(), 'YearOfSale': IntegerType(), 'MonthOfSale': StringType(), 'Country': StringType(), 'City': StringType()}\n/mnt/genericraw/4-WheelSales/2024/07/04/4-WheelSData.parquet\npath exists for :: /mnt/genericraw/4-WheelSales/2024/07/04/4-WheelSData.parquet\nActual_columns for 4-WheelSData.parquet are :: ['BodyType', 'Brand', 'City', 'Country', 'ENGINE', 'FuelCapacity', 'FUELTYPE', 'Mileage', 'Model', 'MonthOfSale', 'NoOfCylinders', 'Pricerange', 'SeatingCapacity', 'Top_Speed', 'TRANSMISSION', 'YearOfSale']\nroot\n |-- BodyType: string (nullable = true)\n |-- Brand: string (nullable = true)\n |-- City: string (nullable = true)\n |-- Country: string (nullable = true)\n |-- ENGINE: string (nullable = true)\n |-- FuelCapacity: integer (nullable = true)\n |-- FUELTYPE: string (nullable = true)\n |-- Mileage: string (nullable = true)\n |-- Model: string (nullable = true)\n |-- MonthOfSale: string (nullable = true)\n |-- NoOfCylinders: integer (nullable = true)\n |-- Pricerange: string (nullable = true)\n |-- SeatingCapacity: integer (nullable = true)\n |-- Top_Speed: string (nullable = true)\n |-- TRANSMISSION: string (nullable = true)\n |-- YearOfSale: integer (nullable = true)\n\nDone\n"
     ]
    }
   ],
   "source": [
    "schema_mappings(filepaths='/mnt/genericraw/', reference_df= res)"
   ]
  }
 ],
 "metadata": {
  "application/vnd.databricks.v1+notebook": {
   "dashboards": [],
   "environmentMetadata": null,
   "language": "python",
   "notebookMetadata": {
    "pythonIndentUnit": 4
   },
   "notebookName": "Nb_Schema_Mapping",
   "widgets": {}
  }
 },
 "nbformat": 4,
 "nbformat_minor": 0
}
