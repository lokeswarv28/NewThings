{
 "cells": [
  {
   "cell_type": "code",
   "execution_count": 0,
   "metadata": {
    "application/vnd.databricks.v1+cell": {
     "cellMetadata": {
      "byteLimit": 2048000,
      "rowLimit": 10000
     },
     "inputWidgets": {},
     "nuid": "bc266a74-3535-4b6b-b6d4-f70a9aef9c01",
     "showTitle": false,
     "title": ""
    }
   },
   "outputs": [],
   "source": [
    "from pyspark.sql.functions import *\n",
    "from pyspark.sql.types import *\n",
    "from datetime import datetime"
   ]
  },
  {
   "cell_type": "code",
   "execution_count": 0,
   "metadata": {
    "application/vnd.databricks.v1+cell": {
     "cellMetadata": {
      "byteLimit": 2048000,
      "rowLimit": 10000
     },
     "inputWidgets": {},
     "nuid": "8c150586-bd05-4625-96d6-6eaee54b56c9",
     "showTitle": false,
     "title": ""
    }
   },
   "outputs": [
    {
     "output_type": "execute_result",
     "data": {
      "text/plain": [
       "[FileInfo(path='dbfs:/FileStore/2024_04_18_4_WheelSales.csv', name='2024_04_18_4_WheelSales.csv', size=10992762, modificationTime=1719989742000),\n",
       " FileInfo(path='dbfs:/FileStore/4_WheelSales.csv', name='4_WheelSales.csv', size=10992762, modificationTime=1719989774000),\n",
       " FileInfo(path='dbfs:/FileStore/jars/', name='jars/', size=0, modificationTime=1716203553000),\n",
       " FileInfo(path='dbfs:/FileStore/source1.csv', name='source1.csv', size=1138, modificationTime=1709555634000),\n",
       " FileInfo(path='dbfs:/FileStore/tables/', name='tables/', size=0, modificationTime=1708600418000)]"
      ]
     },
     "execution_count": 3,
     "metadata": {},
     "output_type": "execute_result"
    }
   ],
   "source": [
    "dbutils.fs.ls('/FileStore/')"
   ]
  },
  {
   "cell_type": "code",
   "execution_count": 0,
   "metadata": {
    "application/vnd.databricks.v1+cell": {
     "cellMetadata": {
      "byteLimit": 2048000,
      "rowLimit": 10000
     },
     "inputWidgets": {},
     "nuid": "a16f0f13-a34a-4739-aab1-14f46c8fe968",
     "showTitle": false,
     "title": ""
    },
    "jupyter": {
     "outputs_hidden": true
    }
   },
   "outputs": [],
   "source": [
    "df = spark.read.format('csv').option('Header', True).option('inferSchema', True).load('dbfs:/FileStore/2024_04_18_4_WheelSales-1.csv')\n",
    "\n"
   ]
  },
  {
   "cell_type": "code",
   "execution_count": 0,
   "metadata": {
    "application/vnd.databricks.v1+cell": {
     "cellMetadata": {
      "byteLimit": 2048000,
      "rowLimit": 10000
     },
     "inputWidgets": {},
     "nuid": "89c01857-1d1b-4a40-8a20-a48e439d440b",
     "showTitle": false,
     "title": ""
    }
   },
   "outputs": [
    {
     "output_type": "stream",
     "name": "stdout",
     "output_type": "stream",
     "text": [
      "['Brand', 'Model', 'Body Type', 'FUEL TYPE', 'Mileage', 'ENGINE', 'TRANSMISSION', 'Price range', 'Fuel Capacity (L)', 'Seating Capacity', 'Top_Speed in Km/h', 'No Of Cylinders', 'Year Of Sale', 'Month Of Sale', 'Country', 'City']\n"
     ]
    }
   ],
   "source": [
    "print(df.columns)"
   ]
  },
  {
   "cell_type": "code",
   "execution_count": 0,
   "metadata": {
    "application/vnd.databricks.v1+cell": {
     "cellMetadata": {
      "byteLimit": 2048000,
      "rowLimit": 10000
     },
     "inputWidgets": {},
     "nuid": "726912dc-c384-4415-a29a-39c77c49e15d",
     "showTitle": false,
     "title": ""
    }
   },
   "outputs": [
    {
     "output_type": "stream",
     "name": "stdout",
     "output_type": "stream",
     "text": [
      "['string', 'string', 'string', 'string', 'string', 'string', 'string', 'string', 'int', 'int', 'string', 'int', 'int', 'string', 'string', 'string']\n"
     ]
    }
   ],
   "source": [
    "schemas = df.dtypes\n",
    "\n",
    "types_in_list = [x[1] for x in schemas]\n",
    "\n",
    "print(types_in_list)"
   ]
  },
  {
   "cell_type": "code",
   "execution_count": 0,
   "metadata": {
    "application/vnd.databricks.v1+cell": {
     "cellMetadata": {
      "byteLimit": 2048000,
      "rowLimit": 10000
     },
     "inputWidgets": {},
     "nuid": "14932f4a-6035-4927-ab3a-d5b1e7b08920",
     "showTitle": false,
     "title": ""
    }
   },
   "outputs": [
    {
     "output_type": "execute_result",
     "data": {
      "text/plain": [
       "[SecretMetadata(key='accountkey'),\n",
       " SecretMetadata(key='accountname'),\n",
       " SecretMetadata(key='blodstorelogs'),\n",
       " SecretMetadata(key='clientid'),\n",
       " SecretMetadata(key='fb-app-id'),\n",
       " SecretMetadata(key='fb-app-secret'),\n",
       " SecretMetadata(key='fb-longlived-accesstoken'),\n",
       " SecretMetadata(key='Gai-access-token'),\n",
       " SecretMetadata(key='Gai-client-id'),\n",
       " SecretMetadata(key='Gai-client-secret'),\n",
       " SecretMetadata(key='Gai-refresh-token'),\n",
       " SecretMetadata(key='insta-client-id'),\n",
       " SecretMetadata(key='insta-client-secret'),\n",
       " SecretMetadata(key='insta-longlived-access-token'),\n",
       " SecretMetadata(key='insta-shortlive-access-token'),\n",
       " SecretMetadata(key='password'),\n",
       " SecretMetadata(key='refreshtokenxero'),\n",
       " SecretMetadata(key='secretvalue'),\n",
       " SecretMetadata(key='smtpport'),\n",
       " SecretMetadata(key='smtpserver'),\n",
       " SecretMetadata(key='smtpuser'),\n",
       " SecretMetadata(key='tenantid'),\n",
       " SecretMetadata(key='xero-access-token'),\n",
       " SecretMetadata(key='xero-client-id'),\n",
       " SecretMetadata(key='xero-client-seceret'),\n",
       " SecretMetadata(key='xero-tenant-id'),\n",
       " SecretMetadata(key='xerorefreshtoken'),\n",
       " SecretMetadata(key='youtube-access-token'),\n",
       " SecretMetadata(key='youtube-app-key'),\n",
       " SecretMetadata(key='youtube-client-id'),\n",
       " SecretMetadata(key='youtube-client-secret'),\n",
       " SecretMetadata(key='zoho-access-token'),\n",
       " SecretMetadata(key='zoho-client-id'),\n",
       " SecretMetadata(key='zoho-client-secret'),\n",
       " SecretMetadata(key='zoho-refresh-token')]"
      ]
     },
     "execution_count": 1,
     "metadata": {},
     "output_type": "execute_result"
    }
   ],
   "source": [
    "dbutils.secrets.list(scope='adf-adb-generic')\n"
   ]
  },
  {
   "cell_type": "code",
   "execution_count": 0,
   "metadata": {
    "application/vnd.databricks.v1+cell": {
     "cellMetadata": {
      "byteLimit": 2048000,
      "rowLimit": 10000
     },
     "inputWidgets": {},
     "nuid": "e76485e6-f21b-41c5-a9b9-e258dd7ebd9a",
     "showTitle": false,
     "title": ""
    }
   },
   "outputs": [],
   "source": [
    "jdbcHostname = \"prospectmanagement.database.windows.net\"\n",
    "jdbcDatabase = \"ProspectManagement\"\n",
    "jdbcPort = 1433\n",
    "jdbcUrl = \"jdbc:sqlserver://{0}:{1};database={2}\".format(jdbcHostname, jdbcPort, jdbcDatabase)\n",
    "connectionProperties = {\n",
    "\"user\" : \"ProspectManagementAdmin@prospectmanagement\",\n",
    "\"password\" : \"Admin@123\",\n",
    "\"driver\" : \"com.microsoft.sqlserver.jdbc.SQLServerDriver\"\n",
    "}"
   ]
  },
  {
   "cell_type": "code",
   "execution_count": 0,
   "metadata": {
    "application/vnd.databricks.v1+cell": {
     "cellMetadata": {
      "byteLimit": 2048000,
      "rowLimit": 10000
     },
     "inputWidgets": {},
     "nuid": "9862ebab-d885-4156-8b50-697eec9e0945",
     "showTitle": false,
     "title": ""
    }
   },
   "outputs": [],
   "source": [
    "control_df = spark.read.jdbc(url=jdbcUrl, table='dev.v_test',properties=connectionProperties)"
   ]
  },
  {
   "cell_type": "code",
   "execution_count": 0,
   "metadata": {
    "application/vnd.databricks.v1+cell": {
     "cellMetadata": {
      "byteLimit": 2048000,
      "rowLimit": 10000
     },
     "inputWidgets": {},
     "nuid": "1ef4c391-5801-48ea-bb69-f7afb1ec1ab9",
     "showTitle": false,
     "title": ""
    }
   },
   "outputs": [
    {
     "output_type": "stream",
     "name": "stdout",
     "output_type": "stream",
     "text": [
      "['PipelineName', 'Pk_PipelineID', 'Pk_ActivityID', 'PipelineSourceTypes', 'ParameterValueSink', 'ColumnSourceTypes', 'SourceColumnName', 'TargetColumnName', 'sourcecolumntypes', 'IsNullable', 'IsActive']\n"
     ]
    }
   ],
   "source": [
    "print(control_df.columns)"
   ]
  },
  {
   "cell_type": "code",
   "execution_count": 0,
   "metadata": {
    "application/vnd.databricks.v1+cell": {
     "cellMetadata": {
      "byteLimit": 2048000,
      "rowLimit": 10000
     },
     "inputWidgets": {},
     "nuid": "df29340b-f995-4e9c-a66a-1869e887b0ca",
     "showTitle": false,
     "title": ""
    }
   },
   "outputs": [
    {
     "output_type": "display_data",
     "data": {
      "text/html": [
       "<style scoped>\n",
       "  .table-result-container {\n",
       "    max-height: 300px;\n",
       "    overflow: auto;\n",
       "  }\n",
       "  table, th, td {\n",
       "    border: 1px solid black;\n",
       "    border-collapse: collapse;\n",
       "  }\n",
       "  th, td {\n",
       "    padding: 5px;\n",
       "  }\n",
       "  th {\n",
       "    text-align: left;\n",
       "  }\n",
       "</style><div class='table-result-container'><table class='table-result'><thead style='background-color: white'><tr><th>PipelineName</th><th>Pk_PipelineID</th><th>Pk_ActivityID</th><th>PipelineSourceTypes</th><th>ParameterValueSink</th><th>ColumnSourceTypes</th><th>SourceColumnName</th><th>TargetColumnName</th><th>sourcecolumntypes</th><th>IsNullable</th><th>IsActive</th></tr></thead><tbody><tr><td>PL_Copy2WheelsData</td><td>101</td><td>2</td><td>CSV</td><td>2-WheelSales.csv</td><td>CSV</td><td>[OEM, Model, Segment, Month, Year, NoOfSales, EngineCapacity, Mileage, Model Price, Dealer location, Region]</td><td>[OEM, Model, Segment, Month, Year, NoOfSales, EngineCapacity, Mileage, ModelPrice, Dealerlocation, Region]</td><td>[string, string, string, string, int, int, string, string, string, string, string]</td><td>0</td><td>1</td></tr><tr><td>PL_Copy4WheelsData</td><td>102</td><td>3</td><td>CSV</td><td>4-WheelSales.csv</td><td>CSV</td><td>[Brand, Model, Body Type, FUEL TYPE, Mileage, ENGINE, TRANSMISSION, Price range, Fuel Capacity (L), Seating Capacity, Top_Speed in Km/h, No Of Cylinders, Year Of Sale, Month Of Sale , Country, City]</td><td>[Brand, Model, BodyType, FUELTYPE, Mileage, ENGINE, TRANSMISSION, Pricerange, FuelCapacity, SeatingCapacity, Top_Speed, NoOfCylinders, YearOfSale, MonthOfSale, Country, City]</td><td>[string, string, string, string, string, string, string, string, int, int, string, int, int, string, string, string]</td><td>null</td><td>null</td></tr></tbody></table></div>"
      ]
     },
     "metadata": {
      "application/vnd.databricks.v1+output": {
       "addedWidgets": {},
       "aggData": [],
       "aggError": "",
       "aggOverflow": false,
       "aggSchema": [],
       "aggSeriesLimitReached": false,
       "aggType": "",
       "arguments": {},
       "columnCustomDisplayInfos": {},
       "data": [
        [
         "PL_Copy2WheelsData",
         101,
         2,
         "CSV",
         "2-WheelSales.csv",
         "CSV",
         "[OEM, Model, Segment, Month, Year, NoOfSales, EngineCapacity, Mileage, Model Price, Dealer location, Region]",
         "[OEM, Model, Segment, Month, Year, NoOfSales, EngineCapacity, Mileage, ModelPrice, Dealerlocation, Region]",
         "[string, string, string, string, int, int, string, string, string, string, string]",
         0,
         1
        ],
        [
         "PL_Copy4WheelsData",
         102,
         3,
         "CSV",
         "4-WheelSales.csv",
         "CSV",
         "[Brand, Model, Body Type, FUEL TYPE, Mileage, ENGINE, TRANSMISSION, Price range, Fuel Capacity (L), Seating Capacity, Top_Speed in Km/h, No Of Cylinders, Year Of Sale, Month Of Sale , Country, City]",
         "[Brand, Model, BodyType, FUELTYPE, Mileage, ENGINE, TRANSMISSION, Pricerange, FuelCapacity, SeatingCapacity, Top_Speed, NoOfCylinders, YearOfSale, MonthOfSale, Country, City]",
         "[string, string, string, string, string, string, string, string, int, int, string, int, int, string, string, string]",
         null,
         null
        ]
       ],
       "datasetInfos": [],
       "dbfsResultPath": null,
       "isJsonSchema": true,
       "metadata": {},
       "overflow": false,
       "plotOptions": {
        "customPlotOptions": {},
        "displayType": "table",
        "pivotAggregation": null,
        "pivotColumns": null,
        "xColumns": null,
        "yColumns": null
       },
       "removedWidgets": [],
       "schema": [
        {
         "metadata": "{\"scale\":0}",
         "name": "PipelineName",
         "type": "\"string\""
        },
        {
         "metadata": "{\"scale\":0}",
         "name": "Pk_PipelineID",
         "type": "\"integer\""
        },
        {
         "metadata": "{\"scale\":0}",
         "name": "Pk_ActivityID",
         "type": "\"integer\""
        },
        {
         "metadata": "{\"scale\":0}",
         "name": "PipelineSourceTypes",
         "type": "\"string\""
        },
        {
         "metadata": "{\"scale\":0}",
         "name": "ParameterValueSink",
         "type": "\"string\""
        },
        {
         "metadata": "{\"scale\":0}",
         "name": "ColumnSourceTypes",
         "type": "\"string\""
        },
        {
         "metadata": "{\"scale\":0}",
         "name": "SourceColumnName",
         "type": "\"string\""
        },
        {
         "metadata": "{\"scale\":0}",
         "name": "TargetColumnName",
         "type": "\"string\""
        },
        {
         "metadata": "{\"scale\":0}",
         "name": "sourcecolumntypes",
         "type": "\"string\""
        },
        {
         "metadata": "{\"scale\":0}",
         "name": "IsNullable",
         "type": "\"integer\""
        },
        {
         "metadata": "{\"scale\":0}",
         "name": "IsActive",
         "type": "\"integer\""
        }
       ],
       "type": "table"
      }
     },
     "output_type": "display_data"
    }
   ],
   "source": [
    "display(control_df)"
   ]
  },
  {
   "cell_type": "code",
   "execution_count": 0,
   "metadata": {
    "application/vnd.databricks.v1+cell": {
     "cellMetadata": {
      "byteLimit": 2048000,
      "rowLimit": 10000
     },
     "inputWidgets": {},
     "nuid": "b1b5303e-3fa4-49d7-a80f-1be9f26547bd",
     "showTitle": false,
     "title": ""
    }
   },
   "outputs": [
    {
     "output_type": "display_data",
     "data": {
      "text/html": [
       "<style scoped>\n",
       "  .table-result-container {\n",
       "    max-height: 300px;\n",
       "    overflow: auto;\n",
       "  }\n",
       "  table, th, td {\n",
       "    border: 1px solid black;\n",
       "    border-collapse: collapse;\n",
       "  }\n",
       "  th, td {\n",
       "    padding: 5px;\n",
       "  }\n",
       "  th {\n",
       "    text-align: left;\n",
       "  }\n",
       "</style><div class='table-result-container'><table class='table-result'><thead style='background-color: white'><tr><th>PipelineName</th><th>Pk_PipelineID</th><th>Pk_ActivityID</th><th>PipelineSourceTypes</th><th>ParameterValueSink</th><th>ColumnSourceTypes</th><th>SourceColumnName</th><th>TargetColumnName</th><th>sourcecolumntypes</th><th>IsNullable</th><th>IsActive</th><th>test</th></tr></thead><tbody><tr><td>PL_Copy2WheelsData</td><td>101</td><td>2</td><td>CSV</td><td>2-WheelSales.csv</td><td>CSV</td><td>[OEM, Model, Segment, Month, Year, NoOfSales, EngineCapacity, Mileage, Model Price, Dealer location, Region]</td><td>[OEM, Model, Segment, Month, Year, NoOfSales, EngineCapacity, Mileage, ModelPrice, Dealerlocation, Region]</td><td>[string, string, string, string, int, int, string, string, string, string, string]</td><td>0</td><td>1</td><td>2-WheelSales</td></tr><tr><td>PL_Copy4WheelsData</td><td>102</td><td>3</td><td>CSV</td><td>4-WheelSales.csv</td><td>CSV</td><td>[Brand, Model, Body Type, FUEL TYPE, Mileage, ENGINE, TRANSMISSION, Price range, Fuel Capacity (L), Seating Capacity, Top_Speed in Km/h, No Of Cylinders, Year Of Sale, Month Of Sale , Country, City]</td><td>[Brand, Model, BodyType, FUELTYPE, Mileage, ENGINE, TRANSMISSION, Pricerange, FuelCapacity, SeatingCapacity, Top_Speed, NoOfCylinders, YearOfSale, MonthOfSale, Country, City]</td><td>[string, string, string, string, string, string, string, string, int, int, string, int, int, string, string, string]</td><td>null</td><td>null</td><td>4-WheelSales</td></tr></tbody></table></div>"
      ]
     },
     "metadata": {
      "application/vnd.databricks.v1+output": {
       "addedWidgets": {},
       "aggData": [],
       "aggError": "",
       "aggOverflow": false,
       "aggSchema": [],
       "aggSeriesLimitReached": false,
       "aggType": "",
       "arguments": {},
       "columnCustomDisplayInfos": {},
       "data": [
        [
         "PL_Copy2WheelsData",
         101,
         2,
         "CSV",
         "2-WheelSales.csv",
         "CSV",
         "[OEM, Model, Segment, Month, Year, NoOfSales, EngineCapacity, Mileage, Model Price, Dealer location, Region]",
         "[OEM, Model, Segment, Month, Year, NoOfSales, EngineCapacity, Mileage, ModelPrice, Dealerlocation, Region]",
         "[string, string, string, string, int, int, string, string, string, string, string]",
         0,
         1,
         "2-WheelSales"
        ],
        [
         "PL_Copy4WheelsData",
         102,
         3,
         "CSV",
         "4-WheelSales.csv",
         "CSV",
         "[Brand, Model, Body Type, FUEL TYPE, Mileage, ENGINE, TRANSMISSION, Price range, Fuel Capacity (L), Seating Capacity, Top_Speed in Km/h, No Of Cylinders, Year Of Sale, Month Of Sale , Country, City]",
         "[Brand, Model, BodyType, FUELTYPE, Mileage, ENGINE, TRANSMISSION, Pricerange, FuelCapacity, SeatingCapacity, Top_Speed, NoOfCylinders, YearOfSale, MonthOfSale, Country, City]",
         "[string, string, string, string, string, string, string, string, int, int, string, int, int, string, string, string]",
         null,
         null,
         "4-WheelSales"
        ]
       ],
       "datasetInfos": [],
       "dbfsResultPath": null,
       "isJsonSchema": true,
       "metadata": {},
       "overflow": false,
       "plotOptions": {
        "customPlotOptions": {},
        "displayType": "table",
        "pivotAggregation": null,
        "pivotColumns": null,
        "xColumns": null,
        "yColumns": null
       },
       "removedWidgets": [],
       "schema": [
        {
         "metadata": "{\"scale\":0}",
         "name": "PipelineName",
         "type": "\"string\""
        },
        {
         "metadata": "{\"scale\":0}",
         "name": "Pk_PipelineID",
         "type": "\"integer\""
        },
        {
         "metadata": "{\"scale\":0}",
         "name": "Pk_ActivityID",
         "type": "\"integer\""
        },
        {
         "metadata": "{\"scale\":0}",
         "name": "PipelineSourceTypes",
         "type": "\"string\""
        },
        {
         "metadata": "{\"scale\":0}",
         "name": "ParameterValueSink",
         "type": "\"string\""
        },
        {
         "metadata": "{\"scale\":0}",
         "name": "ColumnSourceTypes",
         "type": "\"string\""
        },
        {
         "metadata": "{\"scale\":0}",
         "name": "SourceColumnName",
         "type": "\"string\""
        },
        {
         "metadata": "{\"scale\":0}",
         "name": "TargetColumnName",
         "type": "\"string\""
        },
        {
         "metadata": "{\"scale\":0}",
         "name": "sourcecolumntypes",
         "type": "\"string\""
        },
        {
         "metadata": "{\"scale\":0}",
         "name": "IsNullable",
         "type": "\"integer\""
        },
        {
         "metadata": "{\"scale\":0}",
         "name": "IsActive",
         "type": "\"integer\""
        },
        {
         "metadata": "{}",
         "name": "test",
         "type": "\"string\""
        }
       ],
       "type": "table"
      }
     },
     "output_type": "display_data"
    }
   ],
   "source": [
    "res = control_df.withColumn('test', split(col('ParameterValueSink'), '.csv').getItem(0))\n",
    "\n",
    "display(res)"
   ]
  },
  {
   "cell_type": "code",
   "execution_count": 0,
   "metadata": {
    "application/vnd.databricks.v1+cell": {
     "cellMetadata": {
      "byteLimit": 2048000,
      "rowLimit": 10000
     },
     "inputWidgets": {},
     "nuid": "e4a9a23a-0fac-479d-a222-35df9d21a406",
     "showTitle": false,
     "title": ""
    }
   },
   "outputs": [
    {
     "output_type": "stream",
     "name": "stdout",
     "output_type": "stream",
     "text": [
      "[Row(ParameterValueSink='2-WheelSData.csv'), Row(ParameterValueSink='4-WheelSData.csv')]\n"
     ]
    }
   ],
   "source": [
    "print(res)"
   ]
  },
  {
   "cell_type": "code",
   "execution_count": 0,
   "metadata": {
    "application/vnd.databricks.v1+cell": {
     "cellMetadata": {
      "byteLimit": 2048000,
      "rowLimit": 10000
     },
     "inputWidgets": {},
     "nuid": "07c3074d-4ab2-434d-907f-96b751fe6374",
     "showTitle": false,
     "title": ""
    }
   },
   "outputs": [],
   "source": [
    "def get_secrets():\n",
    "    try:\n",
    "        \n",
    "        application_id = dbutils.secrets.get(scope='adf-adb-generic', key='clientid')\n",
    "        authenticationKey = dbutils.secrets.get(scope='adf-adb-generic', key='secretvalue')\n",
    "        tenant_id = dbutils.secrets.get(scope='adf-adb-generic', key='tenantid')\n",
    "\n",
    "        return application_id, authenticationKey, tenant_id\n",
    "    \n",
    "    except Exception as e :\n",
    "        print(f\"An error occure in get_secrets method:: {str(e)}\")\n",
    "        raise e "
   ]
  },
  {
   "cell_type": "code",
   "execution_count": 0,
   "metadata": {
    "application/vnd.databricks.v1+cell": {
     "cellMetadata": {
      "byteLimit": 2048000,
      "rowLimit": 10000
     },
     "inputWidgets": {},
     "nuid": "e0d09189-0feb-4818-b98e-1a5dce4efc02",
     "showTitle": false,
     "title": ""
    }
   },
   "outputs": [],
   "source": [
    "def mount_raw(adls_container_name, storage_account_name, adls_folder_name, mount_point):\n",
    "    try:\n",
    "        dt_string = datetime.now().strftime(\"year=%Y/Month=%m/day=%d\")\n",
    "            \n",
    "        application_id, authenticationKey, tenant_id = get_secrets()\n",
    "        \n",
    "        #formated_path = f\"year = {now.strftime('%Y')}/month = {now.strftime('%m')}/day = {now.strftime('%d')}\"\n",
    "    \n",
    "        #date_folder_path = f\"{adls_folder_name}/{dt_string}\"\n",
    "        \n",
    "        source = f\"abfss://{adls_container_name}@{storage_account_name}.dfs.core.windows.net/{adls_folder_name}/\"\n",
    "        print(source)\n",
    "        endpoint = f\"https://login.microsoftonline.com/{tenant_id}/oauth2/token\"\n",
    "\n",
    "        configs = {\n",
    "            \"fs.azure.account.auth.type\": \"OAuth\",\n",
    "            \"fs.azure.account.oauth.provider.type\": \"org.apache.hadoop.fs.azurebfs.oauth2.ClientCredsTokenProvider\",\n",
    "            \"fs.azure.account.oauth2.client.id\": f\"{application_id}\",\n",
    "            \"fs.azure.account.oauth2.client.secret\": f\"{authenticationKey}\",\n",
    "            \"fs.azure.account.oauth2.client.endpoint\": f\"{endpoint}\",\n",
    "            \"fs.azure.createRemoteFileSystemDuringInitialization\": \"true\"\n",
    "        }\n",
    "\n",
    "        if not any(mount.mountPoint == mount_point for mount in dbutils.fs.mounts()):\n",
    "            dbutils.fs.mount(\n",
    "                source=source,\n",
    "                mount_point=mount_point,\n",
    "                extra_configs=configs\n",
    "            )\n",
    "            \n",
    "        \n",
    "    except Exception as e:\n",
    "        print(f\"An error occure in mount_adls_folde method:: {str(e)}\")\n",
    "        raise e \n"
   ]
  },
  {
   "cell_type": "code",
   "execution_count": 0,
   "metadata": {
    "application/vnd.databricks.v1+cell": {
     "cellMetadata": {
      "byteLimit": 2048000,
      "rowLimit": 10000
     },
     "inputWidgets": {},
     "nuid": "01cf6461-43e0-46bc-943d-eca2f0371b58",
     "showTitle": false,
     "title": ""
    }
   },
   "outputs": [],
   "source": [
    "def mount_stage(adls_container_name, storage_account_name, adls_folder_name, mount_point):\n",
    "    try:\n",
    "        dt_string = datetime.now().strftime(\"year=%Y/Month=%m/day=%d\")\n",
    "            \n",
    "        application_id, authenticationKey, tenant_id = get_secrets()\n",
    "        \n",
    "        #formated_path = f\"year = {now.strftime('%Y')}/month = {now.strftime('%m')}/day = {now.strftime('%d')}\"\n",
    "    \n",
    "        #date_folder_path = f\"{adls_folder_name}/{dt_string}\"\n",
    "        \n",
    "        source = f\"abfss://{adls_container_name}@{storage_account_name}.dfs.core.windows.net/{adls_folder_name}/\"\n",
    "        print(source)\n",
    "        endpoint = f\"https://login.microsoftonline.com/{tenant_id}/oauth2/token\"\n",
    "\n",
    "        configs = {\n",
    "            \"fs.azure.account.auth.type\": \"OAuth\",\n",
    "            \"fs.azure.account.oauth.provider.type\": \"org.apache.hadoop.fs.azurebfs.oauth2.ClientCredsTokenProvider\",\n",
    "            \"fs.azure.account.oauth2.client.id\": f\"{application_id}\",\n",
    "            \"fs.azure.account.oauth2.client.secret\": f\"{authenticationKey}\",\n",
    "            \"fs.azure.account.oauth2.client.endpoint\": f\"{endpoint}\",\n",
    "            \"fs.azure.createRemoteFileSystemDuringInitialization\": \"true\"\n",
    "        }\n",
    "\n",
    "        if not any(mount.mountPoint == mount_point for mount in dbutils.fs.mounts()):\n",
    "            dbutils.fs.mount(\n",
    "                source=source,\n",
    "                mount_point=mount_point,\n",
    "                extra_configs=configs\n",
    "            )\n",
    "            \n",
    "        \n",
    "    except Exception as e:\n",
    "        print(f\"An error occure in mount_adls_folde method:: {str(e)}\")\n",
    "        raise e \n"
   ]
  },
  {
   "cell_type": "code",
   "execution_count": 0,
   "metadata": {
    "application/vnd.databricks.v1+cell": {
     "cellMetadata": {
      "byteLimit": 2048000,
      "rowLimit": 10000
     },
     "inputWidgets": {},
     "nuid": "186ba387-fec2-4e36-96d8-7d9980b9769d",
     "showTitle": false,
     "title": ""
    }
   },
   "outputs": [],
   "source": [
    "def mount_silver(adls_container_name, storage_account_name, adls_folder_name, mount_point):\n",
    "    try:\n",
    "        dt_string = datetime.now().strftime(\"year=%Y/Month=%m/day=%d\")\n",
    "            \n",
    "        application_id, authenticationKey, tenant_id = get_secrets()\n",
    "        \n",
    "        #formated_path = f\"year = {now.strftime('%Y')}/month = {now.strftime('%m')}/day = {now.strftime('%d')}\"\n",
    "    \n",
    "        #date_folder_path = f\"{adls_folder_name}/{dt_string}\"\n",
    "        \n",
    "        source = f\"abfss://{adls_container_name}@{storage_account_name}.dfs.core.windows.net/{adls_folder_name}/\"\n",
    "        print(source)\n",
    "        endpoint = f\"https://login.microsoftonline.com/{tenant_id}/oauth2/token\"\n",
    "\n",
    "        configs = {\n",
    "            \"fs.azure.account.auth.type\": \"OAuth\",\n",
    "            \"fs.azure.account.oauth.provider.type\": \"org.apache.hadoop.fs.azurebfs.oauth2.ClientCredsTokenProvider\",\n",
    "            \"fs.azure.account.oauth2.client.id\": f\"{application_id}\",\n",
    "            \"fs.azure.account.oauth2.client.secret\": f\"{authenticationKey}\",\n",
    "            \"fs.azure.account.oauth2.client.endpoint\": f\"{endpoint}\",\n",
    "            \"fs.azure.createRemoteFileSystemDuringInitialization\": \"true\"\n",
    "        }\n",
    "\n",
    "        if not any(mount.mountPoint == mount_point for mount in dbutils.fs.mounts()):\n",
    "            dbutils.fs.mount(\n",
    "                source=source,\n",
    "                mount_point=mount_point,\n",
    "                extra_configs=configs\n",
    "            )\n",
    "            \n",
    "        \n",
    "    except Exception as e:\n",
    "        print(f\"An error occure in mount_adls_folde method:: {str(e)}\")\n",
    "        raise e \n"
   ]
  },
  {
   "cell_type": "code",
   "execution_count": 0,
   "metadata": {
    "application/vnd.databricks.v1+cell": {
     "cellMetadata": {
      "byteLimit": 2048000,
      "rowLimit": 10000
     },
     "inputWidgets": {},
     "nuid": "6deb34d2-33f5-49fc-a834-1230a4d85873",
     "showTitle": false,
     "title": ""
    }
   },
   "outputs": [
    {
     "output_type": "stream",
     "name": "stdout",
     "output_type": "stream",
     "text": [
      "2-WheelSales\n/mnt/genericSilver/2-WheelSales\nabfss://xyenta-dev-96-silver@adlsxyentadevuks96.dfs.core.windows.net/2-WheelSales/\n4-WheelSales\n/mnt/genericSilver/4-WheelSales\nabfss://xyenta-dev-96-silver@adlsxyentadevuks96.dfs.core.windows.net/4-WheelSales/\n"
     ]
    }
   ],
   "source": [
    "## for silver mount points \n",
    "\n",
    "for row in res.collect():\n",
    "    adlsContainerName = 'xyenta-dev-96-silver'\n",
    "    storageAccountName = 'adlsxyentadevuks96'\n",
    "    mountPointSuffix = row['test']\n",
    "    mountPoint = f\"/mnt/genericSilver/{mountPointSuffix}\"\n",
    "    print(mountPointSuffix)\n",
    "    print(mountPoint)\n",
    "\n",
    "    mount_silver(adls_container_name= adlsContainerName, storage_account_name= storageAccountName, adls_folder_name= mountPointSuffix, mount_point= mountPoint)\n"
   ]
  },
  {
   "cell_type": "code",
   "execution_count": 0,
   "metadata": {
    "application/vnd.databricks.v1+cell": {
     "cellMetadata": {
      "byteLimit": 2048000,
      "rowLimit": 10000
     },
     "inputWidgets": {},
     "nuid": "81ad6967-d554-403f-8466-2b27903d56ba",
     "showTitle": false,
     "title": ""
    }
   },
   "outputs": [
    {
     "output_type": "stream",
     "name": "stdout",
     "output_type": "stream",
     "text": [
      "Test\n/mnt/genericrawTest/Test\nabfss://xyenta-dev-96-raw@adlsxyentadevuks96.dfs.core.windows.net/Test/\nTest\n/mnt/genericrawTest/Test\nabfss://xyenta-dev-96-raw@adlsxyentadevuks96.dfs.core.windows.net/Test/\n"
     ]
    }
   ],
   "source": [
    "\n",
    "for row in res.collect():\n",
    "    adlsContainerName = 'xyenta-dev-96-raw'\n",
    "    storageAccountName = 'adlsxyentadevuks96'\n",
    "    mountPointSuffix = row['test']\n",
    "    # mountPointSuffix = 'Test'\n",
    "    mountPoint = f\"/mnt/genericrawTest/{mountPointSuffix}\"\n",
    "    print(mountPointSuffix)\n",
    "    print(mountPoint)\n",
    "\n",
    "    mount_raw(adls_container_name= adlsContainerName, storage_account_name= storageAccountName, adls_folder_name= mountPointSuffix, mount_point= mountPoint)"
   ]
  },
  {
   "cell_type": "code",
   "execution_count": 0,
   "metadata": {
    "application/vnd.databricks.v1+cell": {
     "cellMetadata": {
      "byteLimit": 2048000,
      "rowLimit": 10000
     },
     "inputWidgets": {},
     "nuid": "db29a74d-bd89-4b30-9e3c-acdaedb71fd8",
     "showTitle": false,
     "title": ""
    }
   },
   "outputs": [
    {
     "output_type": "stream",
     "name": "stdout",
     "output_type": "stream",
     "text": [
      "root\n |-- OEM: string (nullable = true)\n |-- Model: string (nullable = true)\n |-- Segment: string (nullable = true)\n |-- Month: string (nullable = true)\n |-- Year: string (nullable = true)\n |-- NoOfSales: string (nullable = true)\n |-- EngineCapacity: string (nullable = true)\n |-- Mileage: string (nullable = true)\n |-- ModelPrice: string (nullable = true)\n |-- Dealerlocation: string (nullable = true)\n |-- Region: string (nullable = true)\n\n"
     ]
    }
   ],
   "source": [
    "df_p.printSchema()"
   ]
  },
  {
   "cell_type": "code",
   "execution_count": 0,
   "metadata": {
    "application/vnd.databricks.v1+cell": {
     "cellMetadata": {
      "byteLimit": 2048000,
      "rowLimit": 10000
     },
     "inputWidgets": {},
     "nuid": "8165e904-6d29-4628-9a4f-cd9780f96bc0",
     "showTitle": false,
     "title": ""
    }
   },
   "outputs": [
    {
     "output_type": "stream",
     "name": "stdout",
     "output_type": "stream",
     "text": [
      "2-WheelSales\n/mnt/genericStage/2-WheelSales\nabfss://xyenta-dev-96-stg@adlsxyentadevuks96.dfs.core.windows.net/2-WheelSales/\n4-WheelSales\n/mnt/genericStage/4-WheelSales\nabfss://xyenta-dev-96-stg@adlsxyentadevuks96.dfs.core.windows.net/4-WheelSales/\n"
     ]
    }
   ],
   "source": [
    "# adlsContainerName = 'xyenta-dev-96-raw'\n",
    "# storageAccountName = 'adlsxyentadevuks96'\n",
    "\n",
    "for row in res.collect():\n",
    "    adlsContainerName = 'xyenta-dev-96-stg'\n",
    "    storageAccountName = 'adlsxyentadevuks96'\n",
    "    mountPointSuffix = row['test']\n",
    "    mountPoint = f\"/mnt/genericStage/{mountPointSuffix}\"\n",
    "    print(mountPointSuffix)\n",
    "    print(mountPoint)\n",
    "\n",
    "    mount_stage(adls_container_name= adlsContainerName, storage_account_name= storageAccountName, adls_folder_name= mountPointSuffix, mount_point= mountPoint)\n",
    "\n"
   ]
  },
  {
   "cell_type": "code",
   "execution_count": 0,
   "metadata": {
    "application/vnd.databricks.v1+cell": {
     "cellMetadata": {},
     "inputWidgets": {},
     "nuid": "6d0093ff-8989-4f32-8e83-918f92af619c",
     "showTitle": false,
     "title": ""
    }
   },
   "outputs": [],
   "source": []
  },
  {
   "cell_type": "code",
   "execution_count": 0,
   "metadata": {
    "application/vnd.databricks.v1+cell": {
     "cellMetadata": {
      "byteLimit": 2048000,
      "rowLimit": 10000
     },
     "inputWidgets": {},
     "nuid": "afa75dc5-e68d-460d-b90d-9dc68dd3dfc4",
     "showTitle": false,
     "title": ""
    }
   },
   "outputs": [
    {
     "output_type": "execute_result",
     "data": {
      "text/plain": [
       "[MountInfo(mountPoint='/mnt/genericrawTest/Test', source='abfss://xyenta-dev-96-raw@adlsxyentadevuks96.dfs.core.windows.net/Test/', encryptionType=''),\n",
       " MountInfo(mountPoint='/mnt/genericraw/2-WheelSales', source='abfss://xyenta-dev-96-raw@adlsxyentadevuks96.dfs.core.windows.net/2-WheelSales/', encryptionType=''),\n",
       " MountInfo(mountPoint='/mnt/StageDev/s', source='abfss://xyenta-dev-96-stg@adlsxyentadevuks96.dfs.core.windows.net/s/year=2024/month=01/day=06/', encryptionType=''),\n",
       " MountInfo(mountPoint='/mnt/StageDev/d', source='abfss://xyenta-dev-96-stg@adlsxyentadevuks96.dfs.core.windows.net/d/year=2024/month=01/day=06/', encryptionType=''),\n",
       " MountInfo(mountPoint='/databricks-datasets', source='databricks-datasets', encryptionType=''),\n",
       " MountInfo(mountPoint='/mnt/StageDev/O', source='abfss://xyenta-dev-96-stg@adlsxyentadevuks96.dfs.core.windows.net/O/year=2024/month=01/day=06/', encryptionType=''),\n",
       " MountInfo(mountPoint='/Volumes', source='UnityCatalogVolumes', encryptionType=''),\n",
       " MountInfo(mountPoint='/mnt/Xyenta-dev01-stg/Orders', source='abfss://xyenta-dev-96-stg@adlsxyentadevuks96.dfs.core.windows.net/Orders/year=2024/month=01/day=06/', encryptionType=''),\n",
       " MountInfo(mountPoint='/databricks/mlflow-tracking', source='databricks/mlflow-tracking', encryptionType=''),\n",
       " MountInfo(mountPoint='/mnt/raw/GoodRecords', source='abfss://xyenta-dev-96-raw@adlsxyentadevuks96.dfs.core.windows.net/GoodRecords/', encryptionType=''),\n",
       " MountInfo(mountPoint='/mnt/StageDev/r', source='abfss://xyenta-dev-96-stg@adlsxyentadevuks96.dfs.core.windows.net/r/year=2024/month=01/day=06/', encryptionType=''),\n",
       " MountInfo(mountPoint='/mnt/Dev96Stage/Zoho', source='abfss://xyenta-dev-96-stg@adlsxyentadevuks96.dfs.core.windows.net/Zoho/', encryptionType=''),\n",
       " MountInfo(mountPoint='/databricks-results', source='databricks-results', encryptionType=''),\n",
       " MountInfo(mountPoint='/mnt/RawLayer/People', source='abfss://xyenta-dev-96-raw@adlsxyentadevuks96.dfs.core.windows.net/People/2024/01/03/', encryptionType=''),\n",
       " MountInfo(mountPoint='/databricks/mlflow-registry', source='databricks/mlflow-registry', encryptionType=''),\n",
       " MountInfo(mountPoint='/mnt/Dev96Stage/youtube', source='abfss://xyenta-dev-96-raw@adlsxyentadevuks96.dfs.core.windows.net/youtube_comments/', encryptionType=''),\n",
       " MountInfo(mountPoint='/mnt/Dev96Stage/Zoho_results', source='abfss://xyenta-dev-96-raw@adlsxyentadevuks96.dfs.core.windows.net/Zoho_results/', encryptionType=''),\n",
       " MountInfo(mountPoint='/mnt/xyenta-dev-96-stg/', source='abfss://xyenta-dev-96-stg@adlsxyentadevuks96.dfs.core.windows.net/Orders/', encryptionType=''),\n",
       " MountInfo(mountPoint='/mnt/genericStage/4-WheelSales', source='abfss://xyenta-dev-96-stg@adlsxyentadevuks96.dfs.core.windows.net/4-WheelSales/', encryptionType=''),\n",
       " MountInfo(mountPoint='/mnt/raw/YOUTUBE_DATA_PROCESSED', source='abfss://xyenta-dev-96-raw@adlsxyentadevuks96.dfs.core.windows.net/YOUTUBE_DATA_PROCESSED/', encryptionType=''),\n",
       " MountInfo(mountPoint='/mnt/adlsxyentadevuks96/xyenta-dev-96-stg/People/year=2024/Month=01/day=06', source='abfss://xyenta-dev-96-stg@adlsxyentadevuks96.dfs.core.windows.net/People/', encryptionType=''),\n",
       " MountInfo(mountPoint='/mnt/Stage/Returns', source='abfss://xyenta-dev-96-stg@adlsxyentadevuks96.dfs.core.windows.net/Returns/year%20=%202024/month%20=%2001/day%20=%2005/', encryptionType=''),\n",
       " MountInfo(mountPoint='/mnt/RawLayer/Orders', source='abfss://xyenta-dev-96-raw@adlsxyentadevuks96.dfs.core.windows.net/Orders/2024/01/03/', encryptionType=''),\n",
       " MountInfo(mountPoint='/mnt/Dev96Stage/youtube_results', source='abfss://xyenta-dev-96-raw@adlsxyentadevuks96.dfs.core.windows.net/%20youtube_comments/', encryptionType=''),\n",
       " MountInfo(mountPoint='/mnt/genericStage/2-WheelSales', source='abfss://xyenta-dev-96-stg@adlsxyentadevuks96.dfs.core.windows.net/2-WheelSales/', encryptionType=''),\n",
       " MountInfo(mountPoint='/mnt/adlsxyentadevuks96/xyenta-dev-96-stg/year=2024/Month=01/day=06', source='abfss://xyenta-dev-96-stg@adlsxyentadevuks96.dfs.core.windows.net/People/', encryptionType=''),\n",
       " MountInfo(mountPoint='/mnt/Dev96Stage/People', source='abfss://xyenta-dev-96-stg@adlsxyentadevuks96.dfs.core.windows.net/People/', encryptionType=''),\n",
       " MountInfo(mountPoint='/mnt/genericSilver/4-WheelSales', source='abfss://xyenta-dev-96-silver@adlsxyentadevuks96.dfs.core.windows.net/4-WheelSales/', encryptionType=''),\n",
       " MountInfo(mountPoint='/mnt/StageDev/e', source='abfss://xyenta-dev-96-stg@adlsxyentadevuks96.dfs.core.windows.net/e/year=2024/month=01/day=06/', encryptionType=''),\n",
       " MountInfo(mountPoint='/Volume', source='DbfsReserved', encryptionType=''),\n",
       " MountInfo(mountPoint='/mnt/Stage/Orders', source='abfss://xyenta-dev-96-stg@adlsxyentadevuks96.dfs.core.windows.net/Orders/year%20=%202024/month%20=%2001/day%20=%2005/', encryptionType=''),\n",
       " MountInfo(mountPoint='/mnt/genericSilver/2-WheelSales', source='abfss://xyenta-dev-96-silver@adlsxyentadevuks96.dfs.core.windows.net/2-WheelSales/', encryptionType=''),\n",
       " MountInfo(mountPoint='/mnt/raw/BadRecords', source='abfss://xyenta-dev-96-raw@adlsxyentadevuks96.dfs.core.windows.net/BadRecords/', encryptionType=''),\n",
       " MountInfo(mountPoint='/mnt/DeltaLake/Test', source='abfss://xyenta-dev-96-synapse@adlsxyentadevuks96.dfs.core.windows.net/Test/', encryptionType=''),\n",
       " MountInfo(mountPoint='/volumes', source='DbfsReserved', encryptionType=''),\n",
       " MountInfo(mountPoint='/mnt/genericraw/4-WheelSales', source='abfss://xyenta-dev-96-raw@adlsxyentadevuks96.dfs.core.windows.net/4-WheelSales/', encryptionType=''),\n",
       " MountInfo(mountPoint='/mnt/Xyenta-dev-stg/Orders', source='abfss://xyenta-dev-96-stg@adlsxyentadevuks96.dfs.core.windows.net/Orders/year=2024/month=01/day=06/', encryptionType=''),\n",
       " MountInfo(mountPoint='/', source='DatabricksRoot', encryptionType=''),\n",
       " MountInfo(mountPoint='/volume', source='DbfsReserved', encryptionType='')]"
      ]
     },
     "execution_count": 9,
     "metadata": {},
     "output_type": "execute_result"
    }
   ],
   "source": [
    "# dbutils.fs.mounts()"
   ]
  },
  {
   "cell_type": "code",
   "execution_count": 0,
   "metadata": {
    "application/vnd.databricks.v1+cell": {
     "cellMetadata": {},
     "inputWidgets": {},
     "nuid": "e6237368-167e-4ed6-b63c-c8f11d2f1b59",
     "showTitle": false,
     "title": ""
    }
   },
   "outputs": [],
   "source": [
    "## /mnt/genericSilver/\n",
    "## /mnt/genericraw/\n",
    "## /mnt/genericStage/"
   ]
  },
  {
   "cell_type": "code",
   "execution_count": 0,
   "metadata": {
    "application/vnd.databricks.v1+cell": {
     "cellMetadata": {
      "byteLimit": 2048000,
      "rowLimit": 10000
     },
     "inputWidgets": {},
     "nuid": "a1c2f246-2c84-49a2-99ed-7548059cd296",
     "showTitle": false,
     "title": ""
    }
   },
   "outputs": [
    {
     "output_type": "execute_result",
     "data": {
      "text/plain": [
       "[FileInfo(path='dbfs:/mnt/genericStage/2-WheelSales/2-WheelSData.csv', name='2-WheelSData.csv', size=2085500, modificationTime=1719815771000)]"
      ]
     },
     "execution_count": 29,
     "metadata": {},
     "output_type": "execute_result"
    }
   ],
   "source": [
    "# dbutils.fs.ls('/mnt/genericStage/2-WheelSales')"
   ]
  },
  {
   "cell_type": "code",
   "execution_count": 0,
   "metadata": {
    "application/vnd.databricks.v1+cell": {
     "cellMetadata": {
      "byteLimit": 2048000,
      "rowLimit": 10000
     },
     "inputWidgets": {},
     "nuid": "d67c7560-4f56-43e0-bb9a-b50affa09d34",
     "showTitle": false,
     "title": ""
    }
   },
   "outputs": [
    {
     "output_type": "stream",
     "name": "stdout",
     "output_type": "stream",
     "text": [
      "/mnt/genericStage/4-WheelSData/ has been unmounted.\n"
     ]
    },
    {
     "output_type": "execute_result",
     "data": {
      "text/plain": [
       "True"
      ]
     },
     "execution_count": 32,
     "metadata": {},
     "output_type": "execute_result"
    }
   ],
   "source": [
    "# dbutils.fs.unmount('/mnt/genericStage/4-WheelSData/')"
   ]
  },
  {
   "cell_type": "code",
   "execution_count": 0,
   "metadata": {
    "application/vnd.databricks.v1+cell": {
     "cellMetadata": {
      "byteLimit": 2048000,
      "rowLimit": 10000
     },
     "inputWidgets": {},
     "nuid": "06d3dfa9-7c43-41e2-bcab-15ba5417e6ff",
     "showTitle": false,
     "title": ""
    }
   },
   "outputs": [],
   "source": [
    "# df = spark.read.format('csv').option('Header', True).option('inferSchema', True).load('dbfs:/mnt/genericStage/2-WheelSales/')"
   ]
  },
  {
   "cell_type": "code",
   "execution_count": 0,
   "metadata": {
    "application/vnd.databricks.v1+cell": {
     "cellMetadata": {
      "byteLimit": 2048000,
      "rowLimit": 10000
     },
     "inputWidgets": {},
     "nuid": "e89f324c-7569-48a6-8cc0-40a96405c73f",
     "showTitle": false,
     "title": ""
    }
   },
   "outputs": [
    {
     "output_type": "stream",
     "name": "stdout",
     "output_type": "stream",
     "text": [
      "['OEM', 'Model', 'Segment', 'Month', 'Year', 'NoOfSales', 'EngineCapacity', 'Mileage', 'Model Price', 'Dealer location', 'Region']\n"
     ]
    }
   ],
   "source": [
    "# print(df.columns)"
   ]
  },
  {
   "cell_type": "code",
   "execution_count": 0,
   "metadata": {
    "application/vnd.databricks.v1+cell": {
     "cellMetadata": {
      "byteLimit": 2048000,
      "rowLimit": 10000
     },
     "inputWidgets": {},
     "nuid": "96328e5c-57d1-4b55-a26f-5c5016d88c03",
     "showTitle": false,
     "title": ""
    }
   },
   "outputs": [
    {
     "output_type": "stream",
     "name": "stdout",
     "output_type": "stream",
     "text": [
      "[('OEM', 'string'), ('Model', 'string'), ('Segment', 'string'), ('Month', 'string'), ('Year', 'int'), ('NoOfSales', 'int'), ('EngineCapacity', 'string'), ('Mileage', 'string'), ('Model Price', 'string'), ('Dealer location', 'string'), ('Region', 'string')]\n"
     ]
    }
   ],
   "source": [
    "# df.schema.fields\n",
    "\n",
    "# print(df.dtypes)"
   ]
  },
  {
   "cell_type": "code",
   "execution_count": 0,
   "metadata": {
    "application/vnd.databricks.v1+cell": {
     "cellMetadata": {
      "byteLimit": 2048000,
      "rowLimit": 10000
     },
     "inputWidgets": {},
     "nuid": "a693f8e9-ca81-4e5d-ae75-56c31aacefff",
     "showTitle": false,
     "title": ""
    }
   },
   "outputs": [
    {
     "output_type": "stream",
     "name": "stdout",
     "output_type": "stream",
     "text": [
      "['string', 'string', 'string', 'string', 'int', 'int', 'string', 'string', 'string', 'string', 'string']\n"
     ]
    }
   ],
   "source": [
    "# schemas = df.dtypes\n",
    "\n",
    "# types_in_list = [x[1] for x in schemas]\n",
    "\n",
    "# print(types_in_list)"
   ]
  },
  {
   "cell_type": "code",
   "execution_count": 0,
   "metadata": {
    "application/vnd.databricks.v1+cell": {
     "cellMetadata": {
      "byteLimit": 2048000,
      "rowLimit": 10000
     },
     "inputWidgets": {},
     "nuid": "3a8ffcec-6fbf-49d2-84f1-ceff42758576",
     "showTitle": false,
     "title": ""
    }
   },
   "outputs": [
    {
     "output_type": "stream",
     "name": "stdout",
     "output_type": "stream",
     "text": [
      "+-----+---------+----------+-----+----+---------+--------------------+-------+-------------------+---------------+------+\n|  OEM|    Model|   Segment|Month|Year|NoOfSales|      EngineCapacity|Mileage|        Model Price|Dealer location|Region|\n+-----+---------+----------+-----+----+---------+--------------------+-------+-------------------+---------------+------+\n|Bajaj|  Platina|Motorcycle|  Jan|2022|    46492|                 100|  70-75|    52,166 - 63,578|          Delhi| North|\n|Bajaj|       CT|Motorcycle|  Jan|2022|    12422|                 100|  75-80|    45,274 - 54,138|          Delhi| North|\n|Bajaj|   CHETAK|EV Scooter|  Jan|2022|     1268|N/A (electric sco...|     85|1,00,000 - 1,15,000|          Delhi| North|\n|Bajaj|       CT|Motorcycle|  Jan|2022|        0|                 125|  70-75|              55300|          Delhi| North|\n|Bajaj|     Duke|Motorcycle|  Jan|2022|      778|                 125|  45-50|             150925|          Delhi| North|\n|Bajaj|   Pulsar|Motorcycle|  Jan|2022|    44181|                 125|  50-55|    75,494 - 88,869|          Delhi| North|\n|Bajaj|   Pulsar|Motorcycle|  Jan|2022|    11239|                 150|  45-50|  98,835 - 1,04,314|          Delhi| North|\n|Bajaj|  Avenger|    Motorc|  Jan|2022|     1688|                 180|  45-50|             107605|          Delhi| North|\n|Bajaj|Pulsar NS|Motorcycle|  Jan|2022|     5407|           180 / 200|  35-40|1,15,615 - 1,36,248|          Delhi| North|\n|Bajaj| KTM Duke|Motorcycle|  Jan|2022|     2398|                 200|  30-35|             183327|          Delhi| North|\n|Bajaj|   Pulsar|Motorcycle|  Jan|2022|     6012|                 220|  30-35|             128508|          Delhi| North|\n|Bajaj|  Avenger|Motorcycle|  Jan|2022|      525|                 220|  35-40|             130774|          Delhi| North|\n|Bajaj| KTM Duke|Motorcycle|  Jan|2022|     1223|                 250|  30-35|             228878|          Delhi| North|\n|Bajaj|HUSQVARNA|    Motorc|  Jan|2022|      243|         N/A (brand)|  35-40|1,80,000 - 2,20,000|          Delhi| North|\n|Bajaj|  DOMINAR|    Motorc|  Jan|2022|      662|                 250|  30-35|             178900|          Delhi| North|\n|Bajaj|  DOMINAR|Motorcycle|  Jan|2022|      717|                 375|  25-30|2,08,995 - 2,33,995|          Delhi| North|\n|Bajaj| KTM Duke|Motorcycle|  Jan|2022|      241|                 375|  25-30|             287295|          Delhi| North|\n|Bajaj|  Platina|Motorcycle|  Dec|2022|    36157|                 100|  70-75|    52,166 - 63,578|          Delhi| North|\n|Bajaj|       CT|Motorcycle|  Dec|2022|     3332|                 100|  75-80|    45,274 - 54,138|          Delhi| North|\n|Bajaj|   CHETAK|EV Scooter|  Dec|2022|     3249|N/A (electric sco...|     85|1,00,000 - 1,15,000|          Delhi| North|\n+-----+---------+----------+-----+----+---------+--------------------+-------+-------------------+---------------+------+\nonly showing top 20 rows\n\n"
     ]
    }
   ],
   "source": [
    "# result = df.select(*[trim(col(c)).alias(c) for c in df.columns]).show()"
   ]
  },
  {
   "cell_type": "code",
   "execution_count": 0,
   "metadata": {
    "application/vnd.databricks.v1+cell": {
     "cellMetadata": {
      "byteLimit": 2048000,
      "rowLimit": 10000
     },
     "inputWidgets": {},
     "nuid": "99ecef59-a13d-45f0-be23-9372ed492168",
     "showTitle": false,
     "title": ""
    }
   },
   "outputs": [
    {
     "output_type": "stream",
     "name": "stdout",
     "output_type": "stream",
     "text": [
      "347\n"
     ]
    }
   ],
   "source": [
    "# print(df.count())"
   ]
  },
  {
   "cell_type": "code",
   "execution_count": 0,
   "metadata": {
    "application/vnd.databricks.v1+cell": {
     "cellMetadata": {
      "byteLimit": 2048000,
      "rowLimit": 10000
     },
     "inputWidgets": {},
     "nuid": "7dca82be-3cb0-4534-8580-bb7a6ed9bfc9",
     "showTitle": false,
     "title": ""
    }
   },
   "outputs": [
    {
     "output_type": "stream",
     "name": "stdout",
     "output_type": "stream",
     "text": [
      "2-WheelSales\n"
     ]
    }
   ],
   "source": [
    "# a = 'dbfs:/mnt/genericStage/2-WheelSales/'\n",
    "# b = a.split('/')[3]\n",
    "# print(b)"
   ]
  },
  {
   "cell_type": "code",
   "execution_count": 0,
   "metadata": {
    "application/vnd.databricks.v1+cell": {
     "cellMetadata": {
      "byteLimit": 2048000,
      "rowLimit": 10000
     },
     "inputWidgets": {},
     "nuid": "f8d45617-96c8-41c3-9fd9-592abe6e3afe",
     "showTitle": false,
     "title": ""
    }
   },
   "outputs": [
    {
     "output_type": "execute_result",
     "data": {
      "text/plain": [
       "[FileInfo(path='dbfs:/mnt/genericStage/2-WheelSales/2-WheelSData.csv', name='2-WheelSData.csv', size=2085500, modificationTime=1719815771000)]"
      ]
     },
     "execution_count": 14,
     "metadata": {},
     "output_type": "execute_result"
    }
   ],
   "source": [
    "# dbutils.fs.ls('/mnt/genericStage/2-WheelSales/')"
   ]
  },
  {
   "cell_type": "code",
   "execution_count": 0,
   "metadata": {
    "application/vnd.databricks.v1+cell": {
     "cellMetadata": {
      "byteLimit": 2048000,
      "rowLimit": 10000
     },
     "inputWidgets": {},
     "nuid": "ccd5d460-e399-43be-8911-1a58aaf98bdc",
     "showTitle": false,
     "title": ""
    }
   },
   "outputs": [
    {
     "output_type": "stream",
     "name": "stdout",
     "output_type": "stream",
     "text": [
      "2024/07/03\n"
     ]
    }
   ],
   "source": [
    "dt_str = datetime.now().strftime('%Y/%m/%d')\n",
    "print(dt_str)"
   ]
  },
  {
   "cell_type": "code",
   "execution_count": 0,
   "metadata": {
    "application/vnd.databricks.v1+cell": {
     "cellMetadata": {
      "byteLimit": 2048000,
      "rowLimit": 10000
     },
     "inputWidgets": {},
     "nuid": "0a7f7342-5700-4f54-82a6-3ef6a4f6bda4",
     "showTitle": false,
     "title": ""
    }
   },
   "outputs": [],
   "source": [
    "\n",
    "def fn_handlenull_spaces():\n",
    "\n",
    "    file_info = dbutils.fs.ls('/mnt/genericraw/')\n",
    "\n",
    "    file_paths = [file.path for file in file_info]\n",
    "\n",
    "    paths = [f\"'{file.path}'\" for file in file_info]\n",
    "\n",
    "    for x in file_paths:\n",
    "        print(x)\n",
    "        full_path = x+dt_str\n",
    "        print(full_path)\n",
    "        dfs = spark.read.format('parquet').option('inferSchema', True).load(full_path)\n",
    "\n",
    "        nulls_count = dfs.select([count( when (col(c).isNull() | isnan(c),c  )).alias(c) for c in dfs.columns  ]).first().asDict()\n",
    "\n",
    "        display(nulls_count)\n",
    "\n",
    "        total_nulls = 0\n",
    "        for null_count in nulls_count.values():\n",
    "            total_nulls += null_count\n",
    "        print(f\"Total null values in {x}: {total_nulls}\")\n",
    "\n",
    "        dfs_str = dfs.fillna('unkown', subset=dfs.schema.names)\n",
    "\n",
    "        dfs_cleaned = dfs_str.fillna(0, subset=dfs.schema.names)\n",
    "\n",
    "        nulls_count2 = dfs_cleaned.select([count( when (col(c).isNull() | isnan(c),c  )).alias(c) for c in dfs_cleaned.columns  ])\n",
    "\n",
    "        display(nulls_count2)\n",
    "        outfolder = x.split('/')[3]\n",
    "        print(outfolder)\n",
    "\n",
    "        dt_string = datetime.now().strftime(\"year=%Y/Month=%m/day=%d\")\n",
    "        \n",
    "        print('writing')\n",
    "        output_good_path = f\"/mnt/genericSilver/{outfolder}/{dt_string}\"\n",
    "\n",
    "        dfs2 = dfs_cleaned.select(*[trim(col(c)).alias(c) for c in dfs_cleaned.columns])\n",
    "        \n",
    "        dfs2.coalesce(1).write.mode('overwrite').option(\"header\", \"true\").parquet(output_good_path)\n",
    "        print(\"Done\")\n"
   ]
  },
  {
   "cell_type": "code",
   "execution_count": 0,
   "metadata": {
    "application/vnd.databricks.v1+cell": {
     "cellMetadata": {
      "byteLimit": 2048000,
      "rowLimit": 10000
     },
     "inputWidgets": {},
     "nuid": "266b7f6a-65b4-4f34-9934-2d1d865e07d6",
     "showTitle": false,
     "title": ""
    }
   },
   "outputs": [
    {
     "output_type": "stream",
     "name": "stdout",
     "output_type": "stream",
     "text": [
      "dbfs:/mnt/genericraw/2-WheelSales/\ndbfs:/mnt/genericraw/2-WheelSales/2024/07/03\n"
     ]
    },
    {
     "output_type": "display_data",
     "data": {
      "text/plain": [
       "{'Dealerlocation': 0,\n",
       " 'EngineCapacity': 960,\n",
       " 'Mileage': 0,\n",
       " 'Model': 2,\n",
       " 'ModelPrice': 0,\n",
       " 'Month': 0,\n",
       " 'NoOfSales': 0,\n",
       " 'OEM': 0,\n",
       " 'Region': 0,\n",
       " 'Segment': 2,\n",
       " 'Year': 0}"
      ]
     },
     "metadata": {},
     "output_type": "display_data"
    },
    {
     "output_type": "stream",
     "name": "stdout",
     "output_type": "stream",
     "text": [
      "Total null values in dbfs:/mnt/genericraw/2-WheelSales/: 964\n"
     ]
    },
    {
     "output_type": "display_data",
     "data": {
      "text/html": [
       "<style scoped>\n",
       "  .table-result-container {\n",
       "    max-height: 300px;\n",
       "    overflow: auto;\n",
       "  }\n",
       "  table, th, td {\n",
       "    border: 1px solid black;\n",
       "    border-collapse: collapse;\n",
       "  }\n",
       "  th, td {\n",
       "    padding: 5px;\n",
       "  }\n",
       "  th {\n",
       "    text-align: left;\n",
       "  }\n",
       "</style><div class='table-result-container'><table class='table-result'><thead style='background-color: white'><tr><th>Dealerlocation</th><th>EngineCapacity</th><th>Mileage</th><th>Model</th><th>ModelPrice</th><th>Month</th><th>NoOfSales</th><th>OEM</th><th>Region</th><th>Segment</th><th>Year</th></tr></thead><tbody><tr><td>0</td><td>0</td><td>0</td><td>0</td><td>0</td><td>0</td><td>0</td><td>0</td><td>0</td><td>0</td><td>0</td></tr></tbody></table></div>"
      ]
     },
     "metadata": {
      "application/vnd.databricks.v1+output": {
       "addedWidgets": {},
       "aggData": [],
       "aggError": "",
       "aggOverflow": false,
       "aggSchema": [],
       "aggSeriesLimitReached": false,
       "aggType": "",
       "arguments": {},
       "columnCustomDisplayInfos": {},
       "data": [
        [
         0,
         0,
         0,
         0,
         0,
         0,
         0,
         0,
         0,
         0,
         0
        ]
       ],
       "datasetInfos": [],
       "dbfsResultPath": null,
       "isJsonSchema": true,
       "metadata": {},
       "overflow": false,
       "plotOptions": {
        "customPlotOptions": {},
        "displayType": "table",
        "pivotAggregation": null,
        "pivotColumns": null,
        "xColumns": null,
        "yColumns": null
       },
       "removedWidgets": [],
       "schema": [
        {
         "metadata": "{}",
         "name": "Dealerlocation",
         "type": "\"long\""
        },
        {
         "metadata": "{}",
         "name": "EngineCapacity",
         "type": "\"long\""
        },
        {
         "metadata": "{}",
         "name": "Mileage",
         "type": "\"long\""
        },
        {
         "metadata": "{}",
         "name": "Model",
         "type": "\"long\""
        },
        {
         "metadata": "{}",
         "name": "ModelPrice",
         "type": "\"long\""
        },
        {
         "metadata": "{}",
         "name": "Month",
         "type": "\"long\""
        },
        {
         "metadata": "{}",
         "name": "NoOfSales",
         "type": "\"long\""
        },
        {
         "metadata": "{}",
         "name": "OEM",
         "type": "\"long\""
        },
        {
         "metadata": "{}",
         "name": "Region",
         "type": "\"long\""
        },
        {
         "metadata": "{}",
         "name": "Segment",
         "type": "\"long\""
        },
        {
         "metadata": "{}",
         "name": "Year",
         "type": "\"long\""
        }
       ],
       "type": "table"
      }
     },
     "output_type": "display_data"
    },
    {
     "output_type": "stream",
     "name": "stdout",
     "output_type": "stream",
     "text": [
      "2-WheelSales\nwriting\nDone\ndbfs:/mnt/genericraw/4-WheelSales/\ndbfs:/mnt/genericraw/4-WheelSales/2024/07/03\n"
     ]
    },
    {
     "output_type": "display_data",
     "data": {
      "text/plain": [
       "{'Brand': 0,\n",
       " 'Model': 0,\n",
       " 'BodyType': 0,\n",
       " 'FUELTYPE': 0,\n",
       " 'Mileage': 0,\n",
       " 'ENGINE': 2160,\n",
       " 'TRANSMISSION': 0,\n",
       " 'Pricerange': 0,\n",
       " 'FuelCapacity': 1800,\n",
       " 'SeatingCapacity': 0,\n",
       " 'Top_Speed': 0,\n",
       " 'NoOfCylinders': 0,\n",
       " 'YearOfSale': 0,\n",
       " 'MonthOfSale': 0,\n",
       " 'Country': 0,\n",
       " 'City': 0}"
      ]
     },
     "metadata": {},
     "output_type": "display_data"
    },
    {
     "output_type": "stream",
     "name": "stdout",
     "output_type": "stream",
     "text": [
      "Total null values in dbfs:/mnt/genericraw/4-WheelSales/: 3960\n"
     ]
    },
    {
     "output_type": "display_data",
     "data": {
      "text/html": [
       "<style scoped>\n",
       "  .table-result-container {\n",
       "    max-height: 300px;\n",
       "    overflow: auto;\n",
       "  }\n",
       "  table, th, td {\n",
       "    border: 1px solid black;\n",
       "    border-collapse: collapse;\n",
       "  }\n",
       "  th, td {\n",
       "    padding: 5px;\n",
       "  }\n",
       "  th {\n",
       "    text-align: left;\n",
       "  }\n",
       "</style><div class='table-result-container'><table class='table-result'><thead style='background-color: white'><tr><th>Brand</th><th>Model</th><th>BodyType</th><th>FUELTYPE</th><th>Mileage</th><th>ENGINE</th><th>TRANSMISSION</th><th>Pricerange</th><th>FuelCapacity</th><th>SeatingCapacity</th><th>Top_Speed</th><th>NoOfCylinders</th><th>YearOfSale</th><th>MonthOfSale</th><th>Country</th><th>City</th></tr></thead><tbody><tr><td>0</td><td>0</td><td>0</td><td>0</td><td>0</td><td>0</td><td>0</td><td>0</td><td>0</td><td>0</td><td>0</td><td>0</td><td>0</td><td>0</td><td>0</td><td>0</td></tr></tbody></table></div>"
      ]
     },
     "metadata": {
      "application/vnd.databricks.v1+output": {
       "addedWidgets": {},
       "aggData": [],
       "aggError": "",
       "aggOverflow": false,
       "aggSchema": [],
       "aggSeriesLimitReached": false,
       "aggType": "",
       "arguments": {},
       "columnCustomDisplayInfos": {},
       "data": [
        [
         0,
         0,
         0,
         0,
         0,
         0,
         0,
         0,
         0,
         0,
         0,
         0,
         0,
         0,
         0,
         0
        ]
       ],
       "datasetInfos": [],
       "dbfsResultPath": null,
       "isJsonSchema": true,
       "metadata": {},
       "overflow": false,
       "plotOptions": {
        "customPlotOptions": {},
        "displayType": "table",
        "pivotAggregation": null,
        "pivotColumns": null,
        "xColumns": null,
        "yColumns": null
       },
       "removedWidgets": [],
       "schema": [
        {
         "metadata": "{}",
         "name": "Brand",
         "type": "\"long\""
        },
        {
         "metadata": "{}",
         "name": "Model",
         "type": "\"long\""
        },
        {
         "metadata": "{}",
         "name": "BodyType",
         "type": "\"long\""
        },
        {
         "metadata": "{}",
         "name": "FUELTYPE",
         "type": "\"long\""
        },
        {
         "metadata": "{}",
         "name": "Mileage",
         "type": "\"long\""
        },
        {
         "metadata": "{}",
         "name": "ENGINE",
         "type": "\"long\""
        },
        {
         "metadata": "{}",
         "name": "TRANSMISSION",
         "type": "\"long\""
        },
        {
         "metadata": "{}",
         "name": "Pricerange",
         "type": "\"long\""
        },
        {
         "metadata": "{}",
         "name": "FuelCapacity",
         "type": "\"long\""
        },
        {
         "metadata": "{}",
         "name": "SeatingCapacity",
         "type": "\"long\""
        },
        {
         "metadata": "{}",
         "name": "Top_Speed",
         "type": "\"long\""
        },
        {
         "metadata": "{}",
         "name": "NoOfCylinders",
         "type": "\"long\""
        },
        {
         "metadata": "{}",
         "name": "YearOfSale",
         "type": "\"long\""
        },
        {
         "metadata": "{}",
         "name": "MonthOfSale",
         "type": "\"long\""
        },
        {
         "metadata": "{}",
         "name": "Country",
         "type": "\"long\""
        },
        {
         "metadata": "{}",
         "name": "City",
         "type": "\"long\""
        }
       ],
       "type": "table"
      }
     },
     "output_type": "display_data"
    },
    {
     "output_type": "stream",
     "name": "stdout",
     "output_type": "stream",
     "text": [
      "4-WheelSales\nwriting\nDone\n"
     ]
    }
   ],
   "source": [
    "fn_handlenull_spaces()"
   ]
  },
  {
   "cell_type": "code",
   "execution_count": 0,
   "metadata": {
    "application/vnd.databricks.v1+cell": {
     "cellMetadata": {
      "byteLimit": 2048000,
      "rowLimit": 10000
     },
     "inputWidgets": {},
     "nuid": "9feb01c1-e67e-42a6-a92c-ec42fc358365",
     "showTitle": false,
     "title": ""
    }
   },
   "outputs": [
    {
     "output_type": "stream",
     "name": "stdout",
     "output_type": "stream",
     "text": [
      "+------------------+-------------+-------------+-------------------+------------------+-----------------+--------------------+--------------------+--------------------+----------+--------+\n|      PipelineName|Pk_PipelineID|Pk_ActivityID|PipelineSourceTypes|ParameterValueSink|ColumnSourceTypes|    SourceColumnName|    TargetColumnName|   sourcecolumntypes|IsNullable|IsActive|\n+------------------+-------------+-------------+-------------------+------------------+-----------------+--------------------+--------------------+--------------------+----------+--------+\n|PL_Copy2WheelsData|          101|            2|                CSV|  2-WheelSales.csv|              CSV|[OEM, Model, Segm...|[OEM, Model, Segm...|[string, string, ...|         0|       1|\n|PL_Copy4WheelsData|          102|            3|                CSV|  4-WheelSales.csv|              CSV|[Brand, Model, Bo...|[Brand, Model, Bo...|[string, string, ...|      NULL|    NULL|\n+------------------+-------------+-------------+-------------------+------------------+-----------------+--------------------+--------------------+--------------------+----------+--------+\n\n"
     ]
    }
   ],
   "source": [
    "control_df.show()"
   ]
  },
  {
   "cell_type": "code",
   "execution_count": 0,
   "metadata": {
    "application/vnd.databricks.v1+cell": {
     "cellMetadata": {
      "byteLimit": 2048000,
      "rowLimit": 10000
     },
     "inputWidgets": {},
     "nuid": "9c46d78c-4729-4348-9fc2-c0dd9740ecf1",
     "showTitle": false,
     "title": ""
    }
   },
   "outputs": [],
   "source": [
    "def schema_mappings(filepaths, reference_df):\n",
    "    try:\n",
    "        # Define a mapping for types\n",
    "        type_dict = {\n",
    "            'string': StringType(),\n",
    "            'int': IntegerType(),\n",
    "            'long': LongType(),\n",
    "            'float': FloatType(),\n",
    "            'double': DoubleType(),\n",
    "            'boolean': BooleanType(),\n",
    "            'date': DateType(),\n",
    "            'timestamp': TimestampType()\n",
    "        }\n",
    "\n",
    "        # Iterate over each row in the reference DataFrame\n",
    "        for row in reference_df.collect():\n",
    "            pipeline_name = row['PipelineName']\n",
    "            print(f\"\\nProcessing pipeline: {pipeline_name}\")\n",
    "\n",
    "            source_columns = row['SourceColumnName']\n",
    "            target_columns = row['TargetColumnName']\n",
    "            target_columns = target_columns.strip(\"[]\").split(\",\")\n",
    "            target_columns = [col_name.strip() for col_name in target_columns]\n",
    "\n",
    "            source_types = row['sourcecolumntypes']\n",
    "            source_types = source_types.strip(\"[]\").split(\",\")\n",
    "            source_types = [col_type.strip() for col_type in source_types]\n",
    "\n",
    "            folder_names = row['test']\n",
    "\n",
    "            print(f\"Source Columns: {source_columns}\")\n",
    "            print(f\"Target Columns: {target_columns}\")\n",
    "            print(f\"Source Types: {source_types}\")\n",
    "            print(f\"Folder Name: {folder_names}\")\n",
    "\n",
    "            if len(target_columns) != len(source_types):\n",
    "                raise ValueError(f\"Mismatch between target columns and source types lengths for {pipeline_name}\")\n",
    "\n",
    "            # Create the type mapping for the current pipeline\n",
    "            type_mapping = {}\n",
    "            for col_name, col_type in zip(target_columns, source_types):\n",
    "                if col_type not in type_dict:\n",
    "                    raise ValueError(f\"Unsupported data type: {col_type}\")\n",
    "                type_mapping[col_name] = type_dict[col_type]\n",
    "\n",
    "            print(f\"Type Mapping: {type_mapping}\")\n",
    "\n",
    "            # Process the files for the current pipeline\n",
    "            dt_string = datetime.now().strftime(\"year=%Y/Month=%m/day=%d\")\n",
    "            full_path = f\"{filepaths}/{folder_names}/{dt_string}\"\n",
    "\n",
    "            print(f\"Full Path: {full_path}\")\n",
    "\n",
    "            dfs = spark.read.format('parquet').load(full_path)\n",
    "            actual_columns = dfs.columns\n",
    "            print(f\"Actual Columns: {actual_columns}\")\n",
    "\n",
    "            # Cast the columns to their appropriate types\n",
    "            for col_name, col_type in type_mapping.items():\n",
    "                if col_name in actual_columns:\n",
    "                    print(col_name)\n",
    "                    dfs = dfs.withColumn(col_name, col(col_name).cast(col_type))\n",
    "                else:\n",
    "                    raise ValueError(f\"Column '{col_name}' from target columns does not exist in the DataFrame\")\n",
    "\n",
    "            # Print the updated schema\n",
    "            dfs.printSchema()\n",
    "\n",
    "            outfolder = folder_names\n",
    "            print(outfolder)\n",
    "\n",
    "            dt_string = datetime.now().strftime(\"year=%Y/Month=%m/day=%d\")\n",
    "        \n",
    "            print('writing')\n",
    "            output_good_path = f\"/mnt/genericSilver/{outfolder}/{dt_string}\"\n",
    "\n",
    "            dfs.coalesce(1).write.mode('overwrite').option(\"header\", \"true\").parquet(output_good_path)\n",
    "            print(\"Done\")\n",
    "\n",
    "    except Exception as e:\n",
    "        raise e"
   ]
  },
  {
   "cell_type": "code",
   "execution_count": 0,
   "metadata": {
    "application/vnd.databricks.v1+cell": {
     "cellMetadata": {
      "byteLimit": 2048000,
      "rowLimit": 10000
     },
     "inputWidgets": {},
     "nuid": "61564d10-7cb3-47cf-a25b-5fc59aba625e",
     "showTitle": false,
     "title": ""
    }
   },
   "outputs": [
    {
     "output_type": "stream",
     "name": "stdout",
     "output_type": "stream",
     "text": [
      "\nProcessing pipeline: PL_Copy2WheelsData\nSource Columns: [OEM, Model, Segment, Month, Year, NoOfSales, EngineCapacity, Mileage, Model Price, Dealer location, Region]\nTarget Columns: ['OEM', 'Model', 'Segment', 'Month', 'Year', 'NoOfSales', 'EngineCapacity', 'Mileage', 'ModelPrice', 'Dealerlocation', 'Region']\nSource Types: ['string', 'string', 'string', 'string', 'int', 'int', 'string', 'string', 'string', 'string', 'string']\nFolder Name: 2-WheelSales\nType Mapping: {'OEM': StringType(), 'Model': StringType(), 'Segment': StringType(), 'Month': StringType(), 'Year': IntegerType(), 'NoOfSales': IntegerType(), 'EngineCapacity': StringType(), 'Mileage': StringType(), 'ModelPrice': StringType(), 'Dealerlocation': StringType(), 'Region': StringType()}\nFull Path: /mnt/genericSilver//2-WheelSales/year=2024/Month=07/day=03\nActual Columns: ['Dealerlocation', 'EngineCapacity', 'Mileage', 'Model', 'ModelPrice', 'Month', 'NoOfSales', 'OEM', 'Region', 'Segment', 'Year']\nOEM\nModel\nSegment\nMonth\nYear\nNoOfSales\nEngineCapacity\nMileage\nModelPrice\nDealerlocation\nRegion\nroot\n |-- Dealerlocation: string (nullable = true)\n |-- EngineCapacity: string (nullable = true)\n |-- Mileage: string (nullable = true)\n |-- Model: string (nullable = true)\n |-- ModelPrice: string (nullable = true)\n |-- Month: string (nullable = true)\n |-- NoOfSales: integer (nullable = true)\n |-- OEM: string (nullable = true)\n |-- Region: string (nullable = true)\n |-- Segment: string (nullable = true)\n |-- Year: integer (nullable = true)\n\n2-WheelSales\nwriting\nDone\n\nProcessing pipeline: PL_Copy4WheelsData\nSource Columns: [Brand, Model, Body Type, FUEL TYPE, Mileage, ENGINE, TRANSMISSION, Price range, Fuel Capacity (L), Seating Capacity, Top_Speed in Km/h, No Of Cylinders, Year Of Sale, Month Of Sale , Country, City]\nTarget Columns: ['Brand', 'Model', 'BodyType', 'FUELTYPE', 'Mileage', 'ENGINE', 'TRANSMISSION', 'Pricerange', 'FuelCapacity', 'SeatingCapacity', 'Top_Speed', 'NoOfCylinders', 'YearOfSale', 'MonthOfSale', 'Country', 'City']\nSource Types: ['string', 'string', 'string', 'string', 'string', 'string', 'string', 'string', 'int', 'int', 'string', 'int', 'int', 'string', 'string', 'string']\nFolder Name: 4-WheelSales\nType Mapping: {'Brand': StringType(), 'Model': StringType(), 'BodyType': StringType(), 'FUELTYPE': StringType(), 'Mileage': StringType(), 'ENGINE': StringType(), 'TRANSMISSION': StringType(), 'Pricerange': StringType(), 'FuelCapacity': IntegerType(), 'SeatingCapacity': IntegerType(), 'Top_Speed': StringType(), 'NoOfCylinders': IntegerType(), 'YearOfSale': IntegerType(), 'MonthOfSale': StringType(), 'Country': StringType(), 'City': StringType()}\nFull Path: /mnt/genericSilver//4-WheelSales/year=2024/Month=07/day=03\nActual Columns: ['Brand', 'Model', 'BodyType', 'FUELTYPE', 'Mileage', 'ENGINE', 'TRANSMISSION', 'Pricerange', 'FuelCapacity', 'SeatingCapacity', 'Top_Speed', 'NoOfCylinders', 'YearOfSale', 'MonthOfSale', 'Country', 'City']\nBrand\nModel\nBodyType\nFUELTYPE\nMileage\nENGINE\nTRANSMISSION\nPricerange\nFuelCapacity\nSeatingCapacity\nTop_Speed\nNoOfCylinders\nYearOfSale\nMonthOfSale\nCountry\nCity\nroot\n |-- Brand: string (nullable = true)\n |-- Model: string (nullable = true)\n |-- BodyType: string (nullable = true)\n |-- FUELTYPE: string (nullable = true)\n |-- Mileage: string (nullable = true)\n |-- ENGINE: string (nullable = true)\n |-- TRANSMISSION: string (nullable = true)\n |-- Pricerange: string (nullable = true)\n |-- FuelCapacity: integer (nullable = true)\n |-- SeatingCapacity: integer (nullable = true)\n |-- Top_Speed: string (nullable = true)\n |-- NoOfCylinders: integer (nullable = true)\n |-- YearOfSale: integer (nullable = true)\n |-- MonthOfSale: string (nullable = true)\n |-- Country: string (nullable = true)\n |-- City: string (nullable = true)\n\n4-WheelSales\nwriting\nDone\n"
     ]
    }
   ],
   "source": [
    "schema_mappings(filepaths='/mnt/genericSilver/', reference_df= res)"
   ]
  },
  {
   "cell_type": "code",
   "execution_count": 0,
   "metadata": {
    "application/vnd.databricks.v1+cell": {
     "cellMetadata": {
      "byteLimit": 2048000,
      "rowLimit": 10000
     },
     "inputWidgets": {},
     "nuid": "fbfe7fc2-44cc-4440-9d53-c0aaae86a4ca",
     "showTitle": false,
     "title": ""
    }
   },
   "outputs": [
    {
     "output_type": "execute_result",
     "data": {
      "text/plain": [
       "[FileInfo(path='dbfs:/mnt/genericSilver/2-WheelSales/year=2024/Month=07/day=03/_committed_2437260535246933528', name='_committed_2437260535246933528', size=220, modificationTime=1720014033000),\n",
       " FileInfo(path='dbfs:/mnt/genericSilver/2-WheelSales/year=2024/Month=07/day=03/_committed_4642103600012763668', name='_committed_4642103600012763668', size=220, modificationTime=1720013746000),\n",
       " FileInfo(path='dbfs:/mnt/genericSilver/2-WheelSales/year=2024/Month=07/day=03/_committed_5004893812437007468', name='_committed_5004893812437007468', size=221, modificationTime=1719993804000),\n",
       " FileInfo(path='dbfs:/mnt/genericSilver/2-WheelSales/year=2024/Month=07/day=03/_committed_5154617478946274281', name='_committed_5154617478946274281', size=231, modificationTime=1719987743000),\n",
       " FileInfo(path='dbfs:/mnt/genericSilver/2-WheelSales/year=2024/Month=07/day=03/_committed_7551987012282441069', name='_committed_7551987012282441069', size=221, modificationTime=1720014113000),\n",
       " FileInfo(path='dbfs:/mnt/genericSilver/2-WheelSales/year=2024/Month=07/day=03/_started_2437260535246933528', name='_started_2437260535246933528', size=0, modificationTime=1720014033000),\n",
       " FileInfo(path='dbfs:/mnt/genericSilver/2-WheelSales/year=2024/Month=07/day=03/_started_4642103600012763668', name='_started_4642103600012763668', size=0, modificationTime=1720013745000),\n",
       " FileInfo(path='dbfs:/mnt/genericSilver/2-WheelSales/year=2024/Month=07/day=03/_started_7551987012282441069', name='_started_7551987012282441069', size=0, modificationTime=1720014112000),\n",
       " FileInfo(path='dbfs:/mnt/genericSilver/2-WheelSales/year=2024/Month=07/day=03/part-00000-tid-7551987012282441069-48e6af8d-1e77-4d18-864b-69a5ad2089bd-25-1-c000.snappy.parquet', name='part-00000-tid-7551987012282441069-48e6af8d-1e77-4d18-864b-69a5ad2089bd-25-1-c000.snappy.parquet', size=37210, modificationTime=1720014113000)]"
      ]
     },
     "execution_count": 25,
     "metadata": {},
     "output_type": "execute_result"
    }
   ],
   "source": [
    "dbutils.fs.ls('/mnt/genericSilver/2-WheelSales/year=2024/Month=07/day=03/')"
   ]
  },
  {
   "cell_type": "code",
   "execution_count": 0,
   "metadata": {
    "application/vnd.databricks.v1+cell": {
     "cellMetadata": {
      "byteLimit": 2048000,
      "rowLimit": 10000
     },
     "inputWidgets": {},
     "nuid": "676ca399-cc07-4572-a979-692e706052f1",
     "showTitle": false,
     "title": ""
    }
   },
   "outputs": [],
   "source": [
    "df = spark.read.format('parquet').load('dbfs:/mnt/genericSilver/2-WheelSales/year=2024/Month=07/day=03/')"
   ]
  },
  {
   "cell_type": "code",
   "execution_count": 0,
   "metadata": {
    "application/vnd.databricks.v1+cell": {
     "cellMetadata": {
      "byteLimit": 2048000,
      "rowLimit": 10000
     },
     "inputWidgets": {},
     "nuid": "47fcfa56-e240-4d08-9c0d-02f415ca46a9",
     "showTitle": false,
     "title": ""
    }
   },
   "outputs": [
    {
     "output_type": "stream",
     "name": "stdout",
     "output_type": "stream",
     "text": [
      "root\n |-- Dealerlocation: string (nullable = true)\n |-- EngineCapacity: string (nullable = true)\n |-- Mileage: string (nullable = true)\n |-- Model: string (nullable = true)\n |-- ModelPrice: string (nullable = true)\n |-- Month: string (nullable = true)\n |-- NoOfSales: integer (nullable = true)\n |-- OEM: string (nullable = true)\n |-- Region: string (nullable = true)\n |-- Segment: string (nullable = true)\n |-- Year: integer (nullable = true)\n\n"
     ]
    }
   ],
   "source": [
    "df.printSchema()"
   ]
  },
  {
   "cell_type": "code",
   "execution_count": 0,
   "metadata": {
    "application/vnd.databricks.v1+cell": {
     "cellMetadata": {
      "byteLimit": 2048000,
      "rowLimit": 10000
     },
     "inputWidgets": {},
     "nuid": "da745e1a-107d-4622-8f68-1325db78da13",
     "showTitle": false,
     "title": ""
    }
   },
   "outputs": [
    {
     "output_type": "stream",
     "name": "stdout",
     "output_type": "stream",
     "text": [
      "\nProcessing pipeline: PL_Copy2WheelsData\nSource Columns: [OEM, Model, Segment, Month, Year, NoOfSales, EngineCapacity, Mileage, Model Price, Dealer location, Region]\nTarget Columns: ['OEM', 'Model', 'Segment', 'Month', 'Year', 'NoOfSales', 'EngineCapacity', 'Mileage', 'ModelPrice', 'Dealerlocation', 'Region']\nSource Types: ['string', 'string', 'string', 'string', 'int', 'int', 'string', 'string', 'string', 'string', 'string']\nFolder Name: 2-WheelSales\nType Mapping: {'OEM': StringType(), 'Model': StringType(), 'Segment': StringType(), 'Month': StringType(), 'Year': IntegerType(), 'NoOfSales': IntegerType(), 'EngineCapacity': StringType(), 'Mileage': StringType(), 'ModelPrice': StringType(), 'Dealerlocation': StringType(), 'Region': StringType()}\nFull Path: /mnt/genericSilver//2-WheelSales/year=2024/Month=07/day=03\nActual Columns: ['Dealerlocation', 'EngineCapacity', 'Mileage', 'Model', 'ModelPrice', 'Month', 'NoOfSales', 'OEM', 'Region', 'Segment', 'Year']\nOEM\nModel\nSegment\nMonth\nYear\nNoOfSales\nEngineCapacity\nMileage\nModelPrice\nDealerlocation\nRegion\nroot\n |-- Dealerlocation: string (nullable = true)\n |-- EngineCapacity: string (nullable = true)\n |-- Mileage: string (nullable = true)\n |-- Model: string (nullable = true)\n |-- ModelPrice: string (nullable = true)\n |-- Month: string (nullable = true)\n |-- NoOfSales: integer (nullable = true)\n |-- OEM: string (nullable = true)\n |-- Region: string (nullable = true)\n |-- Segment: string (nullable = true)\n |-- Year: integer (nullable = true)\n\n\nProcessing pipeline: PL_Copy4WheelsData\nSource Columns: [Brand, Model, Body Type, FUEL TYPE, Mileage, ENGINE, TRANSMISSION, Price range, Fuel Capacity (L), Seating Capacity, Top_Speed in Km/h, No Of Cylinders, Year Of Sale, Month Of Sale , Country, City]\nTarget Columns: ['Brand', 'Model', 'BodyType', 'FUELTYPE', 'Mileage', 'ENGINE', 'TRANSMISSION', 'Pricerange', 'FuelCapacity', 'SeatingCapacity', 'Top_Speed', 'NoOfCylinders', 'YearOfSale', 'MonthOfSale', 'Country', 'City']\nSource Types: ['string', 'string', 'string', 'string', 'string', 'string', 'string', 'string', 'int', 'int', 'string', 'int', 'int', 'string', 'string', 'string']\nFolder Name: 4-WheelSales\nType Mapping: {'Brand': StringType(), 'Model': StringType(), 'BodyType': StringType(), 'FUELTYPE': StringType(), 'Mileage': StringType(), 'ENGINE': StringType(), 'TRANSMISSION': StringType(), 'Pricerange': StringType(), 'FuelCapacity': IntegerType(), 'SeatingCapacity': IntegerType(), 'Top_Speed': StringType(), 'NoOfCylinders': IntegerType(), 'YearOfSale': IntegerType(), 'MonthOfSale': StringType(), 'Country': StringType(), 'City': StringType()}\nFull Path: /mnt/genericSilver//4-WheelSales/year=2024/Month=07/day=03\nActual Columns: ['Brand', 'Model', 'BodyType', 'FUELTYPE', 'Mileage', 'ENGINE', 'TRANSMISSION', 'Pricerange', 'FuelCapacity', 'SeatingCapacity', 'Top_Speed', 'NoOfCylinders', 'YearOfSale', 'MonthOfSale', 'Country', 'City']\nBrand\nModel\nBodyType\nFUELTYPE\nMileage\nENGINE\nTRANSMISSION\nPricerange\nFuelCapacity\nSeatingCapacity\nTop_Speed\nNoOfCylinders\nYearOfSale\nMonthOfSale\nCountry\nCity\nroot\n |-- Brand: string (nullable = true)\n |-- Model: string (nullable = true)\n |-- BodyType: string (nullable = true)\n |-- FUELTYPE: string (nullable = true)\n |-- Mileage: string (nullable = true)\n |-- ENGINE: string (nullable = true)\n |-- TRANSMISSION: string (nullable = true)\n |-- Pricerange: string (nullable = true)\n |-- FuelCapacity: integer (nullable = true)\n |-- SeatingCapacity: integer (nullable = true)\n |-- Top_Speed: string (nullable = true)\n |-- NoOfCylinders: integer (nullable = true)\n |-- YearOfSale: integer (nullable = true)\n |-- MonthOfSale: string (nullable = true)\n |-- Country: string (nullable = true)\n |-- City: string (nullable = true)\n\n"
     ]
    }
   ],
   "source": [
    "# test(filepaths='/mnt/genericSilver/', reference_df= res)"
   ]
  },
  {
   "cell_type": "code",
   "execution_count": 0,
   "metadata": {
    "application/vnd.databricks.v1+cell": {
     "cellMetadata": {},
     "inputWidgets": {},
     "nuid": "bb490dd4-dd0a-4273-8bbe-2c1eddb925eb",
     "showTitle": false,
     "title": ""
    }
   },
   "outputs": [],
   "source": [
    "df = spark.read.format('parquet').load('')"
   ]
  },
  {
   "cell_type": "code",
   "execution_count": 0,
   "metadata": {
    "application/vnd.databricks.v1+cell": {
     "cellMetadata": {
      "byteLimit": 2048000,
      "rowLimit": 10000
     },
     "inputWidgets": {},
     "nuid": "19ab6a39-98d4-487e-8f81-80a4cf13beda",
     "showTitle": false,
     "title": ""
    }
   },
   "outputs": [],
   "source": [
    "# def schema_mappings (filepaths, reference_df):\n",
    "#     try:\n",
    "#         type_dict = {\n",
    "#             'string' : StringType(),\n",
    "#             'int' : IntegerType(),\n",
    "#             'long' : LongType(),\n",
    "#             'float' : FloatType(),\n",
    "#             'double' : DoubleType(),\n",
    "#             'boolean' : BooleanType(),\n",
    "#             'date' : DateType()\n",
    "#         }\n",
    "\n",
    "#         for row in reference_df.collect():\n",
    "\n",
    "#             pipeline_name = row['PipelineName']\n",
    "#             print(\"sourcecolumnNames\")\n",
    "#             source_columns = row['SourceColumnName']\n",
    "#             target_columns = row['TargetColumnName']\n",
    "#             target_columns = target_columns.strip(\"[]\").split(\",\")\n",
    "#             print(len(target_columns))\n",
    "#             target_columns = [col_name.strip() for col_name in target_columns]\n",
    "#             source_types = row['sourcecolumntypes']\n",
    "#             folder_names = row['test']\n",
    "\n",
    "#             print(pipeline_name)\n",
    "#             print(f\"target_columns are {target_columns}\")\n",
    "#             print(source_types)\n",
    "#             print(folder_names)\n",
    "\n",
    "#             # print(source_types.strip(\"[]\").replace(\"'\",\"\").split(\", \"))\n",
    "#             source_types = source_types.strip(\"[]\").split(\",\")\n",
    "#             print(len(source_types))\n",
    "\n",
    "#             if len(target_columns) != len(source_types):\n",
    "#                 raise ValueError(f\"Mismatch between target columns and source types lengths for {pipeline_name}\")\n",
    "\n",
    "#             type_mapping = {}\n",
    "\n",
    "#             for col_name, col_type in zip(target_columns, source_types):\n",
    "#                 col_type = col_type.strip()\n",
    "#                 print(col_type)\n",
    "#                 if col_type not in type_dict:\n",
    "#                     raise ValueError (f\"Unsupported data type : {col_type}\")\n",
    "\n",
    "#                 type_mapping[col_name] = type_dict[col_type]\n",
    "\n",
    "#             print(f\"Type Mapping : {type_mapping}\")\n",
    "\n",
    "#             file_info = dbutils.fs.ls(filepaths)\n",
    "\n",
    "\n",
    "#             file_paths = [file.path for file in file_info]\n",
    "\n",
    "#             dt_string = datetime.now().strftime(\"year=%Y/Month=%m/day=%d\")\n",
    "\n",
    "#             for x in file_paths:\n",
    "#                 print(x)\n",
    "#                 full_path = x+dt_string\n",
    "#                 print(full_path)\n",
    "\n",
    "#                 dfs = spark.read.format('parquet').load(full_path)\n",
    "\n",
    "#                 actual_columns = dfs.columns\n",
    "\n",
    "#                 print(f\"Actual Columns : {actual_columns}\")\n",
    "\n",
    "#                 for col_name, col_type in type_mapping.items():\n",
    "#                     if col_name in actual_columns :\n",
    "#                         print(col_name)\n",
    "#                     else:\n",
    "#                         raise ValueError (f\"Column '{col_name}' from target columns does not exist in the DataFrame\")\n",
    "\n",
    "\n",
    "     \n",
    "#     except Exception as e:\n",
    "#         raise e \n",
    "        \n"
   ]
  },
  {
   "cell_type": "code",
   "execution_count": 0,
   "metadata": {
    "application/vnd.databricks.v1+cell": {
     "cellMetadata": {
      "byteLimit": 2048000,
      "rowLimit": 10000
     },
     "inputWidgets": {},
     "nuid": "9980614e-6ce8-4a3c-bcb5-bb41d0f70086",
     "showTitle": false,
     "title": ""
    }
   },
   "outputs": [
    {
     "output_type": "stream",
     "name": "stdout",
     "output_type": "stream",
     "text": [
      "2-WheelSales\n"
     ]
    }
   ],
   "source": [
    "a = 'dbfs:/mnt/genericSilver/2-WheelSales/year=2024/Month=07/day=03/part-00000-tid-5004893812437007468-4b44db16-090a-4869-85ab-8bf81bd26653-11-1-c000.snappy.parquet'\n",
    "\n",
    "print(a.split('/')[3])"
   ]
  },
  {
   "cell_type": "code",
   "execution_count": 0,
   "metadata": {
    "application/vnd.databricks.v1+cell": {
     "cellMetadata": {
      "byteLimit": 2048000,
      "rowLimit": 10000
     },
     "inputWidgets": {},
     "nuid": "ac9acb26-c719-4669-81c1-1901f1c943e6",
     "showTitle": false,
     "title": ""
    }
   },
   "outputs": [
    {
     "output_type": "stream",
     "name": "stdout",
     "output_type": "stream",
     "text": [
      "sourcecolumnNames\n11\nPL_Copy2WheelsData\ntarget_columns are ['OEM', 'Model', 'Segment', 'Month', 'Year', 'NoOfSales', 'EngineCapacity', 'Mileage', 'ModelPrice', 'Dealerlocation', 'Region']\n[string, string, string, string, int, int, string, string, string, string, string]\n2-WheelSales\n11\nstring\nstring\nstring\nstring\nint\nint\nstring\nstring\nstring\nstring\nstring\nType Mapping : {'OEM': StringType(), 'Model': StringType(), 'Segment': StringType(), 'Month': StringType(), 'Year': IntegerType(), 'NoOfSales': IntegerType(), 'EngineCapacity': StringType(), 'Mileage': StringType(), 'ModelPrice': StringType(), 'Dealerlocation': StringType(), 'Region': StringType()}\ndbfs:/mnt/genericSilver/2-WheelSales/\ndbfs:/mnt/genericSilver/2-WheelSales/year=2024/Month=07/day=03\nActual Columns : ['Dealerlocation', 'EngineCapacity', 'Mileage', 'Model', 'ModelPrice', 'Month', 'NoOfSales', 'OEM', 'Region', 'Segment', 'Year']\nOEM\nModel\nSegment\nMonth\nYear\nNoOfSales\nEngineCapacity\nMileage\nModelPrice\nDealerlocation\nRegion\ndbfs:/mnt/genericSilver/4-WheelSales/\ndbfs:/mnt/genericSilver/4-WheelSales/year=2024/Month=07/day=03\nActual Columns : ['BodyType', 'Brand', 'City', 'Country', 'ENGINE', 'FUELTYPE', 'Mileage', 'Model', 'MonthOfSale', 'NoOfCylinders', 'Pricerange', 'SeatingCapacity', 'TRANSMISSION', 'YearOfSale']\n"
     ]
    },
    {
     "output_type": "display_data",
     "data": {
      "text/plain": [
       "\u001B[0;31m---------------------------------------------------------------------------\u001B[0m\n",
       "\u001B[0;31mValueError\u001B[0m                                Traceback (most recent call last)\n",
       "File \u001B[0;32m<command-2178238408620504>, line 1\u001B[0m\n",
       "\u001B[0;32m----> 1\u001B[0m \u001B[43mschema_mappings\u001B[49m\u001B[43m(\u001B[49m\u001B[43mfilepaths\u001B[49m\u001B[38;5;241;43m=\u001B[39;49m\u001B[38;5;124;43m'\u001B[39;49m\u001B[38;5;124;43m/mnt/genericSilver/\u001B[39;49m\u001B[38;5;124;43m'\u001B[39;49m\u001B[43m,\u001B[49m\u001B[43m \u001B[49m\u001B[43mreference_df\u001B[49m\u001B[38;5;241;43m=\u001B[39;49m\u001B[43m \u001B[49m\u001B[43mres\u001B[49m\u001B[43m)\u001B[49m\n",
       "\n",
       "File \u001B[0;32m<command-2178238408620503>, line 111\u001B[0m, in \u001B[0;36mschema_mappings\u001B[0;34m(filepaths, reference_df)\u001B[0m\n",
       "\u001B[1;32m     74\u001B[0m         \u001B[38;5;66;03m# if isinstance(source_types, str):\u001B[39;00m\n",
       "\u001B[1;32m     75\u001B[0m         \u001B[38;5;66;03m#     source_types = source_types.strip(\"[]\").split(\",\")\u001B[39;00m\n",
       "\u001B[1;32m     76\u001B[0m \n",
       "\u001B[0;32m   (...)\u001B[0m\n",
       "\u001B[1;32m    106\u001B[0m     \u001B[38;5;66;03m#         actual_columns = dfs.columns\u001B[39;00m\n",
       "\u001B[1;32m    107\u001B[0m     \u001B[38;5;66;03m#         print(actual_columns)\u001B[39;00m\n",
       "\u001B[1;32m    110\u001B[0m \u001B[38;5;28;01mexcept\u001B[39;00m \u001B[38;5;167;01mException\u001B[39;00m \u001B[38;5;28;01mas\u001B[39;00m e:\n",
       "\u001B[0;32m--> 111\u001B[0m     \u001B[38;5;28;01mraise\u001B[39;00m e\n",
       "\n",
       "File \u001B[0;32m<command-2178238408620503>, line 70\u001B[0m, in \u001B[0;36mschema_mappings\u001B[0;34m(filepaths, reference_df)\u001B[0m\n",
       "\u001B[1;32m     68\u001B[0m                     \u001B[38;5;28mprint\u001B[39m(col_name)\n",
       "\u001B[1;32m     69\u001B[0m                 \u001B[38;5;28;01melse\u001B[39;00m:\n",
       "\u001B[0;32m---> 70\u001B[0m                     \u001B[38;5;28;01mraise\u001B[39;00m \u001B[38;5;167;01mValueError\u001B[39;00m (\u001B[38;5;124mf\u001B[39m\u001B[38;5;124m\"\u001B[39m\u001B[38;5;124mColumn \u001B[39m\u001B[38;5;124m'\u001B[39m\u001B[38;5;132;01m{\u001B[39;00mcol_name\u001B[38;5;132;01m}\u001B[39;00m\u001B[38;5;124m'\u001B[39m\u001B[38;5;124m from target columns does not exist in the DataFrame\u001B[39m\u001B[38;5;124m\"\u001B[39m)\n",
       "\u001B[1;32m     74\u001B[0m         \u001B[38;5;66;03m# if isinstance(source_types, str):\u001B[39;00m\n",
       "\u001B[1;32m     75\u001B[0m         \u001B[38;5;66;03m#     source_types = source_types.strip(\"[]\").split(\",\")\u001B[39;00m\n",
       "\u001B[1;32m     76\u001B[0m \n",
       "\u001B[0;32m   (...)\u001B[0m\n",
       "\u001B[1;32m    106\u001B[0m     \u001B[38;5;66;03m#         actual_columns = dfs.columns\u001B[39;00m\n",
       "\u001B[1;32m    107\u001B[0m     \u001B[38;5;66;03m#         print(actual_columns)\u001B[39;00m\n",
       "\u001B[1;32m    110\u001B[0m \u001B[38;5;28;01mexcept\u001B[39;00m \u001B[38;5;167;01mException\u001B[39;00m \u001B[38;5;28;01mas\u001B[39;00m e:\n",
       "\n",
       "\u001B[0;31mValueError\u001B[0m: Column 'OEM' from target columns does not exist in the DataFrame"
      ]
     },
     "metadata": {
      "application/vnd.databricks.v1+output": {
       "addedWidgets": {},
       "arguments": {},
       "datasetInfos": [],
       "jupyterProps": {
        "ename": "ValueError",
        "evalue": "Column 'OEM' from target columns does not exist in the DataFrame"
       },
       "metadata": {
        "errorSummary": "<span class='ansi-red-fg'>ValueError</span>: Column 'OEM' from target columns does not exist in the DataFrame"
       },
       "removedWidgets": [],
       "sqlProps": null,
       "stackFrames": [
        "\u001B[0;31m---------------------------------------------------------------------------\u001B[0m",
        "\u001B[0;31mValueError\u001B[0m                                Traceback (most recent call last)",
        "File \u001B[0;32m<command-2178238408620504>, line 1\u001B[0m\n\u001B[0;32m----> 1\u001B[0m \u001B[43mschema_mappings\u001B[49m\u001B[43m(\u001B[49m\u001B[43mfilepaths\u001B[49m\u001B[38;5;241;43m=\u001B[39;49m\u001B[38;5;124;43m'\u001B[39;49m\u001B[38;5;124;43m/mnt/genericSilver/\u001B[39;49m\u001B[38;5;124;43m'\u001B[39;49m\u001B[43m,\u001B[49m\u001B[43m \u001B[49m\u001B[43mreference_df\u001B[49m\u001B[38;5;241;43m=\u001B[39;49m\u001B[43m \u001B[49m\u001B[43mres\u001B[49m\u001B[43m)\u001B[49m\n",
        "File \u001B[0;32m<command-2178238408620503>, line 111\u001B[0m, in \u001B[0;36mschema_mappings\u001B[0;34m(filepaths, reference_df)\u001B[0m\n\u001B[1;32m     74\u001B[0m         \u001B[38;5;66;03m# if isinstance(source_types, str):\u001B[39;00m\n\u001B[1;32m     75\u001B[0m         \u001B[38;5;66;03m#     source_types = source_types.strip(\"[]\").split(\",\")\u001B[39;00m\n\u001B[1;32m     76\u001B[0m \n\u001B[0;32m   (...)\u001B[0m\n\u001B[1;32m    106\u001B[0m     \u001B[38;5;66;03m#         actual_columns = dfs.columns\u001B[39;00m\n\u001B[1;32m    107\u001B[0m     \u001B[38;5;66;03m#         print(actual_columns)\u001B[39;00m\n\u001B[1;32m    110\u001B[0m \u001B[38;5;28;01mexcept\u001B[39;00m \u001B[38;5;167;01mException\u001B[39;00m \u001B[38;5;28;01mas\u001B[39;00m e:\n\u001B[0;32m--> 111\u001B[0m     \u001B[38;5;28;01mraise\u001B[39;00m e\n",
        "File \u001B[0;32m<command-2178238408620503>, line 70\u001B[0m, in \u001B[0;36mschema_mappings\u001B[0;34m(filepaths, reference_df)\u001B[0m\n\u001B[1;32m     68\u001B[0m                     \u001B[38;5;28mprint\u001B[39m(col_name)\n\u001B[1;32m     69\u001B[0m                 \u001B[38;5;28;01melse\u001B[39;00m:\n\u001B[0;32m---> 70\u001B[0m                     \u001B[38;5;28;01mraise\u001B[39;00m \u001B[38;5;167;01mValueError\u001B[39;00m (\u001B[38;5;124mf\u001B[39m\u001B[38;5;124m\"\u001B[39m\u001B[38;5;124mColumn \u001B[39m\u001B[38;5;124m'\u001B[39m\u001B[38;5;132;01m{\u001B[39;00mcol_name\u001B[38;5;132;01m}\u001B[39;00m\u001B[38;5;124m'\u001B[39m\u001B[38;5;124m from target columns does not exist in the DataFrame\u001B[39m\u001B[38;5;124m\"\u001B[39m)\n\u001B[1;32m     74\u001B[0m         \u001B[38;5;66;03m# if isinstance(source_types, str):\u001B[39;00m\n\u001B[1;32m     75\u001B[0m         \u001B[38;5;66;03m#     source_types = source_types.strip(\"[]\").split(\",\")\u001B[39;00m\n\u001B[1;32m     76\u001B[0m \n\u001B[0;32m   (...)\u001B[0m\n\u001B[1;32m    106\u001B[0m     \u001B[38;5;66;03m#         actual_columns = dfs.columns\u001B[39;00m\n\u001B[1;32m    107\u001B[0m     \u001B[38;5;66;03m#         print(actual_columns)\u001B[39;00m\n\u001B[1;32m    110\u001B[0m \u001B[38;5;28;01mexcept\u001B[39;00m \u001B[38;5;167;01mException\u001B[39;00m \u001B[38;5;28;01mas\u001B[39;00m e:\n",
        "\u001B[0;31mValueError\u001B[0m: Column 'OEM' from target columns does not exist in the DataFrame"
       ],
       "type": "baseError"
      }
     },
     "output_type": "display_data"
    }
   ],
   "source": [
    "# schema_mappings(filepaths='/mnt/genericSilver/', reference_df= res)"
   ]
  },
  {
   "cell_type": "code",
   "execution_count": 0,
   "metadata": {
    "application/vnd.databricks.v1+cell": {
     "cellMetadata": {
      "byteLimit": 2048000,
      "rowLimit": 10000
     },
     "inputWidgets": {},
     "nuid": "43c79810-ad5a-4328-bb15-1f7cce01e495",
     "showTitle": false,
     "title": ""
    }
   },
   "outputs": [
    {
     "output_type": "stream",
     "name": "stdout",
     "output_type": "stream",
     "text": [
      "dbfs:/mnt/genericStage/2-WheelSales/\n"
     ]
    },
    {
     "output_type": "display_data",
     "data": {
      "text/plain": [
       "{'OEM': 0,\n",
       " 'Model': 2,\n",
       " 'Segment': 2,\n",
       " 'Month': 0,\n",
       " 'Year': 0,\n",
       " 'NoOfSales': 0,\n",
       " 'EngineCapacity': 960,\n",
       " 'Mileage': 0,\n",
       " 'Model Price': 0,\n",
       " 'Dealer location': 0,\n",
       " 'Region': 0}"
      ]
     },
     "metadata": {},
     "output_type": "display_data"
    },
    {
     "output_type": "stream",
     "name": "stdout",
     "output_type": "stream",
     "text": [
      "Total null values in dbfs:/mnt/genericStage/2-WheelSales/: 964\n"
     ]
    },
    {
     "output_type": "display_data",
     "data": {
      "text/html": [
       "<style scoped>\n",
       "  .table-result-container {\n",
       "    max-height: 300px;\n",
       "    overflow: auto;\n",
       "  }\n",
       "  table, th, td {\n",
       "    border: 1px solid black;\n",
       "    border-collapse: collapse;\n",
       "  }\n",
       "  th, td {\n",
       "    padding: 5px;\n",
       "  }\n",
       "  th {\n",
       "    text-align: left;\n",
       "  }\n",
       "</style><div class='table-result-container'><table class='table-result'><thead style='background-color: white'><tr><th>OEM</th><th>Model</th><th>Segment</th><th>Month</th><th>Year</th><th>NoOfSales</th><th>EngineCapacity</th><th>Mileage</th><th>Model Price</th><th>Dealer location</th><th>Region</th></tr></thead><tbody><tr><td>0</td><td>0</td><td>0</td><td>0</td><td>0</td><td>0</td><td>0</td><td>0</td><td>0</td><td>0</td><td>0</td></tr></tbody></table></div>"
      ]
     },
     "metadata": {
      "application/vnd.databricks.v1+output": {
       "addedWidgets": {},
       "aggData": [],
       "aggError": "",
       "aggOverflow": false,
       "aggSchema": [],
       "aggSeriesLimitReached": false,
       "aggType": "",
       "arguments": {},
       "columnCustomDisplayInfos": {},
       "data": [
        [
         0,
         0,
         0,
         0,
         0,
         0,
         0,
         0,
         0,
         0,
         0
        ]
       ],
       "datasetInfos": [],
       "dbfsResultPath": null,
       "isJsonSchema": true,
       "metadata": {},
       "overflow": false,
       "plotOptions": {
        "customPlotOptions": {},
        "displayType": "table",
        "pivotAggregation": null,
        "pivotColumns": null,
        "xColumns": null,
        "yColumns": null
       },
       "removedWidgets": [],
       "schema": [
        {
         "metadata": "{}",
         "name": "OEM",
         "type": "\"long\""
        },
        {
         "metadata": "{}",
         "name": "Model",
         "type": "\"long\""
        },
        {
         "metadata": "{}",
         "name": "Segment",
         "type": "\"long\""
        },
        {
         "metadata": "{}",
         "name": "Month",
         "type": "\"long\""
        },
        {
         "metadata": "{}",
         "name": "Year",
         "type": "\"long\""
        },
        {
         "metadata": "{}",
         "name": "NoOfSales",
         "type": "\"long\""
        },
        {
         "metadata": "{}",
         "name": "EngineCapacity",
         "type": "\"long\""
        },
        {
         "metadata": "{}",
         "name": "Mileage",
         "type": "\"long\""
        },
        {
         "metadata": "{}",
         "name": "Model Price",
         "type": "\"long\""
        },
        {
         "metadata": "{}",
         "name": "Dealer location",
         "type": "\"long\""
        },
        {
         "metadata": "{}",
         "name": "Region",
         "type": "\"long\""
        }
       ],
       "type": "table"
      }
     },
     "output_type": "display_data"
    },
    {
     "output_type": "stream",
     "name": "stdout",
     "output_type": "stream",
     "text": [
      "2-WheelSales\nwriting\nDone\ndbfs:/mnt/genericStage/4-WheelSales/\n"
     ]
    },
    {
     "output_type": "display_data",
     "data": {
      "text/plain": [
       "{'Brand': 0,\n",
       " 'Model': 0,\n",
       " 'Body Type': 0,\n",
       " 'FUEL TYPE': 0,\n",
       " 'Mileage': 0,\n",
       " 'ENGINE': 2160,\n",
       " 'TRANSMISSION': 0,\n",
       " 'Price range': 0,\n",
       " 'Fuel Capacity (L)': 1800,\n",
       " 'Seating Capacity': 0,\n",
       " 'Top_Speed in Km/h': 0,\n",
       " 'No Of Cylinders': 0,\n",
       " 'Year Of Sale': 0,\n",
       " 'Month Of Sale ': 0,\n",
       " 'Country': 0,\n",
       " 'City': 0}"
      ]
     },
     "metadata": {},
     "output_type": "display_data"
    },
    {
     "output_type": "stream",
     "name": "stdout",
     "output_type": "stream",
     "text": [
      "Total null values in dbfs:/mnt/genericStage/4-WheelSales/: 3960\n"
     ]
    },
    {
     "output_type": "display_data",
     "data": {
      "text/html": [
       "<style scoped>\n",
       "  .table-result-container {\n",
       "    max-height: 300px;\n",
       "    overflow: auto;\n",
       "  }\n",
       "  table, th, td {\n",
       "    border: 1px solid black;\n",
       "    border-collapse: collapse;\n",
       "  }\n",
       "  th, td {\n",
       "    padding: 5px;\n",
       "  }\n",
       "  th {\n",
       "    text-align: left;\n",
       "  }\n",
       "</style><div class='table-result-container'><table class='table-result'><thead style='background-color: white'><tr><th>Brand</th><th>Model</th><th>Body Type</th><th>FUEL TYPE</th><th>Mileage</th><th>ENGINE</th><th>TRANSMISSION</th><th>Price range</th><th>Fuel Capacity (L)</th><th>Seating Capacity</th><th>Top_Speed in Km/h</th><th>No Of Cylinders</th><th>Year Of Sale</th><th>Month Of Sale </th><th>Country</th><th>City</th></tr></thead><tbody><tr><td>0</td><td>0</td><td>0</td><td>0</td><td>0</td><td>0</td><td>0</td><td>0</td><td>0</td><td>0</td><td>0</td><td>0</td><td>0</td><td>0</td><td>0</td><td>0</td></tr></tbody></table></div>"
      ]
     },
     "metadata": {
      "application/vnd.databricks.v1+output": {
       "addedWidgets": {},
       "aggData": [],
       "aggError": "",
       "aggOverflow": false,
       "aggSchema": [],
       "aggSeriesLimitReached": false,
       "aggType": "",
       "arguments": {},
       "columnCustomDisplayInfos": {},
       "data": [
        [
         0,
         0,
         0,
         0,
         0,
         0,
         0,
         0,
         0,
         0,
         0,
         0,
         0,
         0,
         0,
         0
        ]
       ],
       "datasetInfos": [],
       "dbfsResultPath": null,
       "isJsonSchema": true,
       "metadata": {},
       "overflow": false,
       "plotOptions": {
        "customPlotOptions": {},
        "displayType": "table",
        "pivotAggregation": null,
        "pivotColumns": null,
        "xColumns": null,
        "yColumns": null
       },
       "removedWidgets": [],
       "schema": [
        {
         "metadata": "{}",
         "name": "Brand",
         "type": "\"long\""
        },
        {
         "metadata": "{}",
         "name": "Model",
         "type": "\"long\""
        },
        {
         "metadata": "{}",
         "name": "Body Type",
         "type": "\"long\""
        },
        {
         "metadata": "{}",
         "name": "FUEL TYPE",
         "type": "\"long\""
        },
        {
         "metadata": "{}",
         "name": "Mileage",
         "type": "\"long\""
        },
        {
         "metadata": "{}",
         "name": "ENGINE",
         "type": "\"long\""
        },
        {
         "metadata": "{}",
         "name": "TRANSMISSION",
         "type": "\"long\""
        },
        {
         "metadata": "{}",
         "name": "Price range",
         "type": "\"long\""
        },
        {
         "metadata": "{}",
         "name": "Fuel Capacity (L)",
         "type": "\"long\""
        },
        {
         "metadata": "{}",
         "name": "Seating Capacity",
         "type": "\"long\""
        },
        {
         "metadata": "{}",
         "name": "Top_Speed in Km/h",
         "type": "\"long\""
        },
        {
         "metadata": "{}",
         "name": "No Of Cylinders",
         "type": "\"long\""
        },
        {
         "metadata": "{}",
         "name": "Year Of Sale",
         "type": "\"long\""
        },
        {
         "metadata": "{}",
         "name": "Month Of Sale ",
         "type": "\"long\""
        },
        {
         "metadata": "{}",
         "name": "Country",
         "type": "\"long\""
        },
        {
         "metadata": "{}",
         "name": "City",
         "type": "\"long\""
        }
       ],
       "type": "table"
      }
     },
     "output_type": "display_data"
    },
    {
     "output_type": "stream",
     "name": "stdout",
     "output_type": "stream",
     "text": [
      "4-WheelSales\nwriting\nDone\n"
     ]
    }
   ],
   "source": [
    "# file_info = dbutils.fs.ls('/mnt/genericStage/')\n",
    "\n",
    "# file_paths = [file.path for file in file_info]\n",
    "\n",
    "# paths = [f\"'{file.path}'\" for file in file_info]\n",
    "\n",
    "# for x in file_paths:\n",
    "#     print(x)\n",
    "#     dfs = spark.read.format('csv').option('Header', True).option('inferSchema', True).load(x)\n",
    "\n",
    "#     nulls_count = dfs.select([count( when (col(c).isNull() | isnan(c),c  )).alias(c) for c in dfs.columns  ]).first().asDict()\n",
    "\n",
    "#     display(nulls_count)\n",
    "\n",
    "#     total_nulls = 0\n",
    "#     for null_count in nulls_count.values():\n",
    "#         total_nulls += null_count\n",
    "#     print(f\"Total null values in {x}: {total_nulls}\")\n",
    "\n",
    "#     dfs_str = dfs.fillna('unkown', subset=dfs.schema.names)\n",
    "\n",
    "#     dfs_cleaned = dfs_str.fillna(0, subset=dfs.schema.names)\n",
    "\n",
    "#     nulls_count2 = dfs_cleaned.select([count( when (col(c).isNull() | isnan(c),c  )).alias(c) for c in dfs_cleaned.columns  ])\n",
    "\n",
    "#     display(nulls_count2)\n",
    "#     outfolder = x.split('/')[3]\n",
    "#     print(outfolder)\n",
    "\n",
    "\n",
    "\n",
    "#     dt_string = datetime.now().strftime(\"year=%Y/Month=%m/day=%d\")\n",
    "    \n",
    "#     print('writing')\n",
    "#     output_good_path = f\"/mnt/genericSilver/{outfolder}/{dt_string}\"\n",
    "\n",
    "#     dfs2 = dfs_cleaned.select(*[trim(col(c)).alias(c) for c in dfs_cleaned.columns])\n",
    "    \n",
    "#     dfs2.coalesce(1).write.mode('overwrite').option(\"header\", \"true\").parquet(output_good_path)\n",
    "#     print(\"Done\")\n",
    "\n",
    "\n",
    "\n",
    "\n",
    "\n"
   ]
  },
  {
   "cell_type": "code",
   "execution_count": 0,
   "metadata": {
    "application/vnd.databricks.v1+cell": {
     "cellMetadata": {},
     "inputWidgets": {},
     "nuid": "2fe0de9a-c371-4cfc-bea7-0101d09c55df",
     "showTitle": false,
     "title": ""
    }
   },
   "outputs": [],
   "source": []
  },
  {
   "cell_type": "code",
   "execution_count": 0,
   "metadata": {
    "application/vnd.databricks.v1+cell": {
     "cellMetadata": {
      "byteLimit": 2048000,
      "rowLimit": 10000
     },
     "inputWidgets": {},
     "nuid": "b69a00f9-5ba6-42b2-af5d-86f1effbc3de",
     "showTitle": false,
     "title": ""
    }
   },
   "outputs": [
    {
     "output_type": "display_data",
     "data": {
      "text/html": [
       "<div class = \"ansiout\"><b>dbutils.fs</b> provides utilities for working with FileSystems. Most methods in\n",
       "this package can take either a DBFS path (e.g., \"/foo\" or \"dbfs:/foo\"), or\n",
       "another FileSystem URI.\n",
       "\n",
       "For more info about a method, use <b>dbutils.fs.help(\"methodName\")</b>.\n",
       "\n",
       "In notebooks, you can also use the %fs shorthand to access DBFS. The %fs shorthand maps\n",
       "straightforwardly onto dbutils calls. For example, \"%fs head --maxBytes=10000 /file/path\"\n",
       "translates into \"dbutils.fs.head(\"/file/path\", maxBytes = 10000)\".\n",
       "    <h3>mount</h3><b>mount(source: String, mountPoint: String, encryptionType: String = \"\", owner: String = null, extraConfigs: Map = Map.empty[String, String]): boolean</b> -> Mounts the given source directory into DBFS at the given mount point<br /><b>mounts: Seq</b> -> Displays information about what is mounted within DBFS<br /><b>refreshMounts: boolean</b> -> Forces all machines in this cluster to refresh their mount cache, ensuring they receive the most recent information<br /><b>unmount(mountPoint: String): boolean</b> -> Deletes a DBFS mount point<br /><b>updateMount(source: String, mountPoint: String, encryptionType: String = \"\", owner: String = null, extraConfigs: Map = Map.empty[String, String]): boolean</b> -> Similar to mount(), but updates an existing mount point (if present) instead of creating a new one<br /><br /><h3>fsutils</h3><b>cp(from: String, to: String, recurse: boolean = false): boolean</b> -> Copies a file or directory, possibly across FileSystems<br /><b>head(file: String, maxBytes: int = 65536): String</b> -> Returns up to the first 'maxBytes' bytes of the given file as a String encoded in UTF-8<br /><b>ls(dir: String): Seq</b> -> Lists the contents of a directory<br /><b>mkdirs(dir: String): boolean</b> -> Creates the given directory if it does not exist, also creating any necessary parent directories<br /><b>mv(from: String, to: String, recurse: boolean = false): boolean</b> -> Moves a file or directory, possibly across FileSystems<br /><b>put(file: String, contents: String, overwrite: boolean = false): boolean</b> -> Writes the given String out to a file, encoded in UTF-8<br /><b>rm(dir: String, recurse: boolean = false): boolean</b> -> Removes a file or directory<br /><br /></div>"
      ]
     },
     "metadata": {},
     "output_type": "display_data"
    }
   ],
   "source": [
    "# dbutils.fs.help()"
   ]
  },
  {
   "cell_type": "code",
   "execution_count": 0,
   "metadata": {
    "application/vnd.databricks.v1+cell": {
     "cellMetadata": {
      "byteLimit": 2048000,
      "rowLimit": 10000
     },
     "inputWidgets": {},
     "nuid": "3f0ea745-732d-43ce-97d4-0d2bb3dc54a4",
     "showTitle": false,
     "title": ""
    }
   },
   "outputs": [
    {
     "output_type": "stream",
     "name": "stdout",
     "output_type": "stream",
     "text": [
      "/mnt/xyenta-dev-96-stg/People has been unmounted.\n"
     ]
    },
    {
     "output_type": "execute_result",
     "data": {
      "text/plain": [
       "True"
      ]
     },
     "execution_count": 14,
     "metadata": {},
     "output_type": "execute_result"
    }
   ],
   "source": [
    "# dbutils.fs.unmount('/mnt/xyenta-dev-96-stg/People')"
   ]
  },
  {
   "cell_type": "code",
   "execution_count": 0,
   "metadata": {
    "application/vnd.databricks.v1+cell": {
     "cellMetadata": {
      "byteLimit": 2048000,
      "rowLimit": 10000
     },
     "inputWidgets": {},
     "nuid": "03059797-4d91-46ed-97db-b1b33600181d",
     "showTitle": false,
     "title": ""
    }
   },
   "outputs": [
    {
     "output_type": "stream",
     "name": "stdout",
     "output_type": "stream",
     "text": [
      "/mnt/Dev96Stage/Returns has been unmounted.\n"
     ]
    },
    {
     "output_type": "execute_result",
     "data": {
      "text/plain": [
       "True"
      ]
     },
     "execution_count": 15,
     "metadata": {},
     "output_type": "execute_result"
    }
   ],
   "source": [
    "# dbutils.fs.unmount('/mnt/Dev96Stage/Returns')"
   ]
  }
 ],
 "metadata": {
  "application/vnd.databricks.v1+notebook": {
   "dashboards": [],
   "environmentMetadata": null,
   "language": "python",
   "notebookMetadata": {
    "pythonIndentUnit": 4
   },
   "notebookName": "Nb_SetUpMounts_JDBC",
   "widgets": {}
  }
 },
 "nbformat": 4,
 "nbformat_minor": 0
}
