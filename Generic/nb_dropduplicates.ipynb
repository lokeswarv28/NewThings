{
 "cells": [
  {
   "cell_type": "markdown",
   "metadata": {
    "application/vnd.databricks.v1+cell": {
     "cellMetadata": {},
     "inputWidgets": {},
     "nuid": "89a6e450-a2c8-4c36-bcb6-d5c0d3729b7d",
     "showTitle": false,
     "title": ""
    }
   },
   "source": [
    "\n",
    "## This Notebook is used to filter out or drop the duplicates from the files "
   ]
  },
  {
   "cell_type": "code",
   "execution_count": 0,
   "metadata": {
    "application/vnd.databricks.v1+cell": {
     "cellMetadata": {
      "byteLimit": 2048000,
      "rowLimit": 10000
     },
     "inputWidgets": {},
     "nuid": "712f77af-8416-452a-9fd9-eb44df16c50a",
     "showTitle": false,
     "title": ""
    }
   },
   "outputs": [],
   "source": [
    "from pyspark.sql.functions import *\n",
    "from pyspark.sql.types import *\n",
    "from datetime import datetime "
   ]
  },
  {
   "cell_type": "code",
   "execution_count": 0,
   "metadata": {
    "application/vnd.databricks.v1+cell": {
     "cellMetadata": {},
     "inputWidgets": {},
     "nuid": "425786b1-d84e-40ea-aa43-d91374b4a805",
     "showTitle": false,
     "title": ""
    }
   },
   "outputs": [],
   "source": [
    "#run the notebook setup notebookk"
   ]
  },
  {
   "cell_type": "code",
   "execution_count": 0,
   "metadata": {
    "application/vnd.databricks.v1+cell": {
     "cellMetadata": {
      "byteLimit": 2048000,
      "rowLimit": 10000
     },
     "inputWidgets": {},
     "nuid": "b8e163d9-0ad9-43c7-988f-91c3e67ae46d",
     "showTitle": false,
     "title": ""
    }
   },
   "outputs": [
    {
     "output_type": "execute_result",
     "data": {
      "text/plain": [
       "[FileInfo(path='dbfs:/FileStore/2024_04_18_4_WheelSales-1.csv', name='2024_04_18_4_WheelSales-1.csv', size=10992761, modificationTime=1719993217000),\n",
       " FileInfo(path='dbfs:/FileStore/2024_04_18_4_WheelSales.csv', name='2024_04_18_4_WheelSales.csv', size=10992762, modificationTime=1719989742000),\n",
       " FileInfo(path='dbfs:/FileStore/4_WheelSales.csv', name='4_WheelSales.csv', size=10992762, modificationTime=1719989774000),\n",
       " FileInfo(path='dbfs:/FileStore/jars/', name='jars/', size=0, modificationTime=1716203553000),\n",
       " FileInfo(path='dbfs:/FileStore/source1.csv', name='source1.csv', size=1138, modificationTime=1709555634000),\n",
       " FileInfo(path='dbfs:/FileStore/tables/', name='tables/', size=0, modificationTime=1708600418000)]"
      ]
     },
     "execution_count": 78,
     "metadata": {},
     "output_type": "execute_result"
    },
    {
     "output_type": "stream",
     "name": "stdout",
     "output_type": "stream",
     "text": [
      "['PipelineName', 'Pk_PipelineID', 'Pk_ActivityID', 'PipelineSourceTypes', 'ParameterValueSink', 'parameterValues2', 'ColumnSourceTypes', 'SourceColumnName', 'TargetColumnName', 'sourcecolumntypes', 'IsNullable', 'IsActive']\n"
     ]
    },
    {
     "output_type": "display_data",
     "data": {
      "text/html": [
       "<style scoped>\n",
       "  .table-result-container {\n",
       "    max-height: 300px;\n",
       "    overflow: auto;\n",
       "  }\n",
       "  table, th, td {\n",
       "    border: 1px solid black;\n",
       "    border-collapse: collapse;\n",
       "  }\n",
       "  th, td {\n",
       "    padding: 5px;\n",
       "  }\n",
       "  th {\n",
       "    text-align: left;\n",
       "  }\n",
       "</style><div class='table-result-container'><table class='table-result'><thead style='background-color: white'><tr><th>PipelineName</th><th>Pk_PipelineID</th><th>Pk_ActivityID</th><th>PipelineSourceTypes</th><th>ParameterValueSink</th><th>parameterValues2</th><th>ColumnSourceTypes</th><th>SourceColumnName</th><th>TargetColumnName</th><th>sourcecolumntypes</th><th>IsNullable</th><th>IsActive</th></tr></thead><tbody><tr><td>PL_Copy2WheelsData</td><td>101</td><td>2</td><td>CSV</td><td>2-WheelSales.csv</td><td>2-WheelSData.parquet</td><td>CSV</td><td>[OEM, Model, Segment, Month, Year, NoOfSales, EngineCapacity, Mileage, Model Price, Dealer location, Region]</td><td>[OEM, Model, Segment, Month, Year, NoOfSales, EngineCapacity, Mileage, ModelPrice, Dealerlocation, Region]</td><td>[string, string, string, string, int, int, string, string, string, string, string]</td><td>0</td><td>1</td></tr><tr><td>PL_Copy4WheelsData</td><td>102</td><td>3</td><td>CSV</td><td>4-WheelSales.csv</td><td>4-WheelSData.parquet</td><td>CSV</td><td>[Brand, Model, Body Type, FUEL TYPE, Mileage, ENGINE, TRANSMISSION, Price range, Fuel Capacity (L), Seating Capacity, Top_Speed in Km/h, No Of Cylinders, Year Of Sale, Month Of Sale , Country, City]</td><td>[Brand, Model, BodyType, FUELTYPE, Mileage, ENGINE, TRANSMISSION, Pricerange, FuelCapacity, SeatingCapacity, Top_Speed, NoOfCylinders, YearOfSale, MonthOfSale, Country, City]</td><td>[string, string, string, string, string, string, string, string, int, int, string, int, int, string, string, string]</td><td>null</td><td>null</td></tr></tbody></table></div>"
      ]
     },
     "metadata": {
      "application/vnd.databricks.v1+output": {
       "addedWidgets": {},
       "aggData": [],
       "aggError": "",
       "aggOverflow": false,
       "aggSchema": [],
       "aggSeriesLimitReached": false,
       "aggType": "",
       "arguments": {},
       "columnCustomDisplayInfos": {},
       "data": [
        [
         "PL_Copy2WheelsData",
         101,
         2,
         "CSV",
         "2-WheelSales.csv",
         "2-WheelSData.parquet",
         "CSV",
         "[OEM, Model, Segment, Month, Year, NoOfSales, EngineCapacity, Mileage, Model Price, Dealer location, Region]",
         "[OEM, Model, Segment, Month, Year, NoOfSales, EngineCapacity, Mileage, ModelPrice, Dealerlocation, Region]",
         "[string, string, string, string, int, int, string, string, string, string, string]",
         0,
         1
        ],
        [
         "PL_Copy4WheelsData",
         102,
         3,
         "CSV",
         "4-WheelSales.csv",
         "4-WheelSData.parquet",
         "CSV",
         "[Brand, Model, Body Type, FUEL TYPE, Mileage, ENGINE, TRANSMISSION, Price range, Fuel Capacity (L), Seating Capacity, Top_Speed in Km/h, No Of Cylinders, Year Of Sale, Month Of Sale , Country, City]",
         "[Brand, Model, BodyType, FUELTYPE, Mileage, ENGINE, TRANSMISSION, Pricerange, FuelCapacity, SeatingCapacity, Top_Speed, NoOfCylinders, YearOfSale, MonthOfSale, Country, City]",
         "[string, string, string, string, string, string, string, string, int, int, string, int, int, string, string, string]",
         null,
         null
        ]
       ],
       "datasetInfos": [],
       "dbfsResultPath": null,
       "isJsonSchema": true,
       "metadata": {},
       "overflow": false,
       "plotOptions": {
        "customPlotOptions": {},
        "displayType": "table",
        "pivotAggregation": null,
        "pivotColumns": null,
        "xColumns": null,
        "yColumns": null
       },
       "removedWidgets": [],
       "schema": [
        {
         "metadata": "{\"scale\":0}",
         "name": "PipelineName",
         "type": "\"string\""
        },
        {
         "metadata": "{\"scale\":0}",
         "name": "Pk_PipelineID",
         "type": "\"integer\""
        },
        {
         "metadata": "{\"scale\":0}",
         "name": "Pk_ActivityID",
         "type": "\"integer\""
        },
        {
         "metadata": "{\"scale\":0}",
         "name": "PipelineSourceTypes",
         "type": "\"string\""
        },
        {
         "metadata": "{\"scale\":0}",
         "name": "ParameterValueSink",
         "type": "\"string\""
        },
        {
         "metadata": "{\"scale\":0}",
         "name": "parameterValues2",
         "type": "\"string\""
        },
        {
         "metadata": "{\"scale\":0}",
         "name": "ColumnSourceTypes",
         "type": "\"string\""
        },
        {
         "metadata": "{\"scale\":0}",
         "name": "SourceColumnName",
         "type": "\"string\""
        },
        {
         "metadata": "{\"scale\":0}",
         "name": "TargetColumnName",
         "type": "\"string\""
        },
        {
         "metadata": "{\"scale\":0}",
         "name": "sourcecolumntypes",
         "type": "\"string\""
        },
        {
         "metadata": "{\"scale\":0}",
         "name": "IsNullable",
         "type": "\"integer\""
        },
        {
         "metadata": "{\"scale\":0}",
         "name": "IsActive",
         "type": "\"integer\""
        }
       ],
       "type": "table"
      }
     },
     "output_type": "display_data"
    },
    {
     "output_type": "display_data",
     "data": {
      "text/html": [
       "<style scoped>\n",
       "  .table-result-container {\n",
       "    max-height: 300px;\n",
       "    overflow: auto;\n",
       "  }\n",
       "  table, th, td {\n",
       "    border: 1px solid black;\n",
       "    border-collapse: collapse;\n",
       "  }\n",
       "  th, td {\n",
       "    padding: 5px;\n",
       "  }\n",
       "  th {\n",
       "    text-align: left;\n",
       "  }\n",
       "</style><div class='table-result-container'><table class='table-result'><thead style='background-color: white'><tr><th>PipelineName</th><th>Pk_PipelineID</th><th>Pk_ActivityID</th><th>PipelineSourceTypes</th><th>ParameterValueSink</th><th>parameterValues2</th><th>ColumnSourceTypes</th><th>SourceColumnName</th><th>TargetColumnName</th><th>sourcecolumntypes</th><th>IsNullable</th><th>IsActive</th><th>test</th></tr></thead><tbody><tr><td>PL_Copy2WheelsData</td><td>101</td><td>2</td><td>CSV</td><td>2-WheelSales.csv</td><td>2-WheelSData.parquet</td><td>CSV</td><td>[OEM, Model, Segment, Month, Year, NoOfSales, EngineCapacity, Mileage, Model Price, Dealer location, Region]</td><td>[OEM, Model, Segment, Month, Year, NoOfSales, EngineCapacity, Mileage, ModelPrice, Dealerlocation, Region]</td><td>[string, string, string, string, int, int, string, string, string, string, string]</td><td>0</td><td>1</td><td>2-WheelSales</td></tr><tr><td>PL_Copy4WheelsData</td><td>102</td><td>3</td><td>CSV</td><td>4-WheelSales.csv</td><td>4-WheelSData.parquet</td><td>CSV</td><td>[Brand, Model, Body Type, FUEL TYPE, Mileage, ENGINE, TRANSMISSION, Price range, Fuel Capacity (L), Seating Capacity, Top_Speed in Km/h, No Of Cylinders, Year Of Sale, Month Of Sale , Country, City]</td><td>[Brand, Model, BodyType, FUELTYPE, Mileage, ENGINE, TRANSMISSION, Pricerange, FuelCapacity, SeatingCapacity, Top_Speed, NoOfCylinders, YearOfSale, MonthOfSale, Country, City]</td><td>[string, string, string, string, string, string, string, string, int, int, string, int, int, string, string, string]</td><td>null</td><td>null</td><td>4-WheelSales</td></tr></tbody></table></div>"
      ]
     },
     "metadata": {
      "application/vnd.databricks.v1+output": {
       "addedWidgets": {},
       "aggData": [],
       "aggError": "",
       "aggOverflow": false,
       "aggSchema": [],
       "aggSeriesLimitReached": false,
       "aggType": "",
       "arguments": {},
       "columnCustomDisplayInfos": {},
       "data": [
        [
         "PL_Copy2WheelsData",
         101,
         2,
         "CSV",
         "2-WheelSales.csv",
         "2-WheelSData.parquet",
         "CSV",
         "[OEM, Model, Segment, Month, Year, NoOfSales, EngineCapacity, Mileage, Model Price, Dealer location, Region]",
         "[OEM, Model, Segment, Month, Year, NoOfSales, EngineCapacity, Mileage, ModelPrice, Dealerlocation, Region]",
         "[string, string, string, string, int, int, string, string, string, string, string]",
         0,
         1,
         "2-WheelSales"
        ],
        [
         "PL_Copy4WheelsData",
         102,
         3,
         "CSV",
         "4-WheelSales.csv",
         "4-WheelSData.parquet",
         "CSV",
         "[Brand, Model, Body Type, FUEL TYPE, Mileage, ENGINE, TRANSMISSION, Price range, Fuel Capacity (L), Seating Capacity, Top_Speed in Km/h, No Of Cylinders, Year Of Sale, Month Of Sale , Country, City]",
         "[Brand, Model, BodyType, FUELTYPE, Mileage, ENGINE, TRANSMISSION, Pricerange, FuelCapacity, SeatingCapacity, Top_Speed, NoOfCylinders, YearOfSale, MonthOfSale, Country, City]",
         "[string, string, string, string, string, string, string, string, int, int, string, int, int, string, string, string]",
         null,
         null,
         "4-WheelSales"
        ]
       ],
       "datasetInfos": [],
       "dbfsResultPath": null,
       "isJsonSchema": true,
       "metadata": {},
       "overflow": false,
       "plotOptions": {
        "customPlotOptions": {},
        "displayType": "table",
        "pivotAggregation": null,
        "pivotColumns": null,
        "xColumns": null,
        "yColumns": null
       },
       "removedWidgets": [],
       "schema": [
        {
         "metadata": "{\"scale\":0}",
         "name": "PipelineName",
         "type": "\"string\""
        },
        {
         "metadata": "{\"scale\":0}",
         "name": "Pk_PipelineID",
         "type": "\"integer\""
        },
        {
         "metadata": "{\"scale\":0}",
         "name": "Pk_ActivityID",
         "type": "\"integer\""
        },
        {
         "metadata": "{\"scale\":0}",
         "name": "PipelineSourceTypes",
         "type": "\"string\""
        },
        {
         "metadata": "{\"scale\":0}",
         "name": "ParameterValueSink",
         "type": "\"string\""
        },
        {
         "metadata": "{\"scale\":0}",
         "name": "parameterValues2",
         "type": "\"string\""
        },
        {
         "metadata": "{\"scale\":0}",
         "name": "ColumnSourceTypes",
         "type": "\"string\""
        },
        {
         "metadata": "{\"scale\":0}",
         "name": "SourceColumnName",
         "type": "\"string\""
        },
        {
         "metadata": "{\"scale\":0}",
         "name": "TargetColumnName",
         "type": "\"string\""
        },
        {
         "metadata": "{\"scale\":0}",
         "name": "sourcecolumntypes",
         "type": "\"string\""
        },
        {
         "metadata": "{\"scale\":0}",
         "name": "IsNullable",
         "type": "\"integer\""
        },
        {
         "metadata": "{\"scale\":0}",
         "name": "IsActive",
         "type": "\"integer\""
        },
        {
         "metadata": "{}",
         "name": "test",
         "type": "\"string\""
        }
       ],
       "type": "table"
      }
     },
     "output_type": "display_data"
    },
    {
     "output_type": "stream",
     "name": "stdout",
     "output_type": "stream",
     "text": [
      "/mnt/genericGold/2-WheelSales\n2-WheelSales\nabfss://xyenta-dev-96-gold@adlsxyentadevuks96.dfs.core.windows.net/2-WheelSales/\n/mnt/genericGold/4-WheelSales\n4-WheelSales\nabfss://xyenta-dev-96-gold@adlsxyentadevuks96.dfs.core.windows.net/4-WheelSales/\n"
     ]
    },
    {
     "output_type": "stream",
     "name": "stdout",
     "output_type": "stream",
     "text": [
      "2-WheelSales\n/mnt/genericSilver/2-WheelSales\nabfss://xyenta-dev-96-silver@adlsxyentadevuks96.dfs.core.windows.net/2-WheelSales/\n4-WheelSales\n/mnt/genericSilver/4-WheelSales\nabfss://xyenta-dev-96-silver@adlsxyentadevuks96.dfs.core.windows.net/4-WheelSales/\n"
     ]
    },
    {
     "output_type": "stream",
     "name": "stdout",
     "output_type": "stream",
     "text": [
      "2-WheelSales\n/mnt/genericrawTest/2-WheelSales\nabfss://xyenta-dev-96-raw@adlsxyentadevuks96.dfs.core.windows.net/2-WheelSales/\n4-WheelSales\n/mnt/genericrawTest/4-WheelSales\nabfss://xyenta-dev-96-raw@adlsxyentadevuks96.dfs.core.windows.net/4-WheelSales/\n"
     ]
    },
    {
     "output_type": "stream",
     "name": "stdout",
     "output_type": "stream",
     "text": [
      "2-WheelSales\n/mnt/genericStage/2-WheelSales\nabfss://xyenta-dev-96-stg@adlsxyentadevuks96.dfs.core.windows.net/2-WheelSales/\n4-WheelSales\n/mnt/genericStage/4-WheelSales\nabfss://xyenta-dev-96-stg@adlsxyentadevuks96.dfs.core.windows.net/4-WheelSales/\n"
     ]
    }
   ],
   "source": [
    "%run /Workspace/Generic/Nb_SetUpMounts_JDBC"
   ]
  },
  {
   "cell_type": "code",
   "execution_count": 0,
   "metadata": {
    "application/vnd.databricks.v1+cell": {
     "cellMetadata": {
      "byteLimit": 2048000,
      "rowLimit": 10000
     },
     "inputWidgets": {},
     "nuid": "1ecdaba9-ac12-4fb3-9e9e-c683f38e20ec",
     "showTitle": false,
     "title": ""
    }
   },
   "outputs": [],
   "source": [
    "## define a function which drops the duplicates "
   ]
  },
  {
   "cell_type": "code",
   "execution_count": 0,
   "metadata": {
    "application/vnd.databricks.v1+cell": {
     "cellMetadata": {
      "byteLimit": 2048000,
      "rowLimit": 10000
     },
     "inputWidgets": {},
     "nuid": "8902d121-5935-4f7b-ad80-73c983f6b6f7",
     "showTitle": false,
     "title": ""
    }
   },
   "outputs": [],
   "source": [
    "def fn_drop_duplicates(filepaths, reference_df):\n",
    "    try:\n",
    "        for x in reference_df.collect():\n",
    "            filenames = x['parameterValues2']\n",
    "            folder_names = x['test']\n",
    "\n",
    "            dt_string = datetime.now().strftime(\"year=%Y/Month=%m/day=%d\")\n",
    "            full_path = f'{filepaths}{folder_names}/{dt_string}/'\n",
    "            print(f'Checking path: {full_path}')\n",
    "\n",
    "            try:\n",
    "                dbutils.fs.ls(full_path)\n",
    "                print(f'Exists: {full_path}')\n",
    "\n",
    "                dfs = spark.read.format('parquet').option('inferSchema', True).load(full_path)\n",
    "                print(\"Schema before dropping duplicates:\")\n",
    "                dfs.printSchema()\n",
    "\n",
    "                original_count = dfs.count()\n",
    "                print(f'Original record count for {filenames}: {original_count}')\n",
    "\n",
    "                dfs_cleaned = dfs.dropDuplicates()\n",
    "                cleaned_count = dfs_cleaned.count()\n",
    "                print(f'Record count after dropping duplicates for {filenames}: {cleaned_count}')\n",
    "\n",
    "                dt_string2 = datetime.now().strftime(\"year=%Y/Month=%m/day=%d\")\n",
    "                output_good_path = f\"/mnt/genericSilver/{folder_names}/{dt_string2}\"\n",
    "                \n",
    "                print(f'Writing cleaned data to: {output_good_path}')\n",
    "                dfs_cleaned.coalesce(1).write.mode('overwrite').option(\"header\", \"true\").parquet(output_good_path)\n",
    "                print(\"Write operation successful\")\n",
    "\n",
    "            except Exception as e:\n",
    "                print(f'Error processing path {full_path}: {e}')\n",
    "                continue\n",
    "\n",
    "    except Exception as e:\n",
    "        raise e\n"
   ]
  },
  {
   "cell_type": "code",
   "execution_count": 0,
   "metadata": {
    "application/vnd.databricks.v1+cell": {
     "cellMetadata": {
      "byteLimit": 2048000,
      "rowLimit": 10000
     },
     "inputWidgets": {},
     "nuid": "96534458-9a86-4659-8e59-b18eafdd0681",
     "showTitle": false,
     "title": ""
    }
   },
   "outputs": [
    {
     "output_type": "stream",
     "name": "stdout",
     "output_type": "stream",
     "text": [
      "Checking path: /mnt/genericSilver/2-WheelSales/year=2024/Month=07/day=09/\nExists: /mnt/genericSilver/2-WheelSales/year=2024/Month=07/day=09/\nSchema before dropping duplicates:\nroot\n |-- Dealerlocation: string (nullable = true)\n |-- EngineCapacity: string (nullable = true)\n |-- Mileage: string (nullable = true)\n |-- Model: string (nullable = true)\n |-- ModelPrice: string (nullable = true)\n |-- Month: string (nullable = true)\n |-- NoOfSales: integer (nullable = true)\n |-- OEM: string (nullable = true)\n |-- Region: string (nullable = true)\n |-- Segment: string (nullable = true)\n |-- Year: integer (nullable = true)\n\nOriginal record count for 2-WheelSData.parquet: 25346\nRecord count after dropping duplicates for 2-WheelSData.parquet: 23427\nWriting cleaned data to: /mnt/genericSilver/2-WheelSales/year=2024/Month=07/day=09\nWrite operation successful\nChecking path: /mnt/genericSilver/4-WheelSales/year=2024/Month=07/day=09/\nExists: /mnt/genericSilver/4-WheelSales/year=2024/Month=07/day=09/\nSchema before dropping duplicates:\nroot\n |-- BodyType: string (nullable = true)\n |-- Brand: string (nullable = true)\n |-- City: string (nullable = true)\n |-- Country: string (nullable = true)\n |-- ENGINE: string (nullable = true)\n |-- FuelCapacity: integer (nullable = true)\n |-- FUELTYPE: string (nullable = true)\n |-- Mileage: string (nullable = true)\n |-- Model: string (nullable = true)\n |-- MonthOfSale: string (nullable = true)\n |-- NoOfCylinders: integer (nullable = true)\n |-- Pricerange: string (nullable = true)\n |-- SeatingCapacity: integer (nullable = true)\n |-- Top_Speed: string (nullable = true)\n |-- TRANSMISSION: string (nullable = true)\n |-- YearOfSale: integer (nullable = true)\n\nOriginal record count for 4-WheelSData.parquet: 91440\nRecord count after dropping duplicates for 4-WheelSData.parquet: 91440\nWriting cleaned data to: /mnt/genericSilver/4-WheelSales/year=2024/Month=07/day=09\nWrite operation successful\n"
     ]
    }
   ],
   "source": [
    "fn_drop_duplicates(filepaths= '/mnt/genericSilver/', reference_df=res)"
   ]
  },
  {
   "cell_type": "code",
   "execution_count": 0,
   "metadata": {
    "application/vnd.databricks.v1+cell": {
     "cellMetadata": {
      "byteLimit": 2048000,
      "rowLimit": 10000
     },
     "inputWidgets": {},
     "nuid": "f59f4009-5077-46c7-8215-55d67091439d",
     "showTitle": false,
     "title": ""
    }
   },
   "outputs": [],
   "source": []
  },
  {
   "cell_type": "code",
   "execution_count": 0,
   "metadata": {
    "application/vnd.databricks.v1+cell": {
     "cellMetadata": {
      "byteLimit": 2048000,
      "rowLimit": 10000
     },
     "inputWidgets": {},
     "nuid": "8465d068-3144-48ab-8801-c170fba5ce5b",
     "showTitle": false,
     "title": ""
    }
   },
   "outputs": [],
   "source": []
  }
 ],
 "metadata": {
  "application/vnd.databricks.v1+notebook": {
   "dashboards": [],
   "environmentMetadata": null,
   "language": "python",
   "notebookMetadata": {
    "pythonIndentUnit": 4
   },
   "notebookName": "nb_dropduplicates",
   "widgets": {}
  }
 },
 "nbformat": 4,
 "nbformat_minor": 0
}
