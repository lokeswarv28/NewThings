{
 "cells": [
  {
   "cell_type": "markdown",
   "metadata": {
    "application/vnd.databricks.v1+cell": {
     "cellMetadata": {},
     "inputWidgets": {},
     "nuid": "bfd18023-376d-4e72-beac-f19e7633d303",
     "showTitle": false,
     "title": ""
    }
   },
   "source": [
    "Requirements \n",
    "\n",
    ">>  just imagine you are working in a project which is not using Delta Lake , But they have the files in parquet format \n",
    "\n",
    ">> Now you got a new requirement where you want to convert all these parquet files to delta.\n"
   ]
  },
  {
   "cell_type": "code",
   "execution_count": 0,
   "metadata": {
    "application/vnd.databricks.v1+cell": {
     "cellMetadata": {
      "byteLimit": 2048000,
      "rowLimit": 10000
     },
     "inputWidgets": {},
     "nuid": "d441738b-9857-432a-9d33-a941596f88a5",
     "showTitle": false,
     "title": ""
    }
   },
   "outputs": [
    {
     "output_type": "execute_result",
     "data": {
      "text/plain": [
       "[FileInfo(path='dbfs:/mnt/DeltaLake/Test/only_parquet/_SUCCESS', name='_SUCCESS', size=0, modificationTime=1709104999000),\n",
       " FileInfo(path='dbfs:/mnt/DeltaLake/Test/only_parquet/_committed_5733939502324421826', name='_committed_5733939502324421826', size=236, modificationTime=1709104999000),\n",
       " FileInfo(path='dbfs:/mnt/DeltaLake/Test/only_parquet/_committed_6143306704378934151', name='_committed_6143306704378934151', size=125, modificationTime=1709104875000),\n",
       " FileInfo(path='dbfs:/mnt/DeltaLake/Test/only_parquet/_started_5733939502324421826', name='_started_5733939502324421826', size=0, modificationTime=1709104999000),\n",
       " FileInfo(path='dbfs:/mnt/DeltaLake/Test/only_parquet/_started_6143306704378934151', name='_started_6143306704378934151', size=0, modificationTime=1709104875000),\n",
       " FileInfo(path='dbfs:/mnt/DeltaLake/Test/only_parquet/part-00000-tid-5733939502324421826-d3eba2d8-2e0b-4978-b435-5a747c3a78db-2936-1.c000.snappy.parquet', name='part-00000-tid-5733939502324421826-d3eba2d8-2e0b-4978-b435-5a747c3a78db-2936-1.c000.snappy.parquet', size=25990, modificationTime=1709104999000)]"
      ]
     },
     "execution_count": 9,
     "metadata": {},
     "output_type": "execute_result"
    }
   ],
   "source": [
    "dbutils.fs.ls('/mnt/DeltaLake/Test/only_parquet')"
   ]
  },
  {
   "cell_type": "code",
   "execution_count": 0,
   "metadata": {
    "application/vnd.databricks.v1+cell": {
     "cellMetadata": {
      "byteLimit": 2048000,
      "rowLimit": 10000
     },
     "inputWidgets": {},
     "nuid": "f8c71296-2c77-4de3-831c-5f3953c4f177",
     "showTitle": false,
     "title": ""
    }
   },
   "outputs": [],
   "source": [
    "filepath = 'dbfs:/mnt/DeltaLake/Test/SchemaManagementDelta.csv'\n",
    "\n",
    "df = spark.read.format('csv').option('Header', 'True').option('inferSchema', 'True').load(filepath)"
   ]
  },
  {
   "cell_type": "code",
   "execution_count": 0,
   "metadata": {
    "application/vnd.databricks.v1+cell": {
     "cellMetadata": {
      "byteLimit": 2048000,
      "rowLimit": 10000
     },
     "inputWidgets": {},
     "nuid": "01dd3aff-963c-4e03-aad0-2e973238122b",
     "showTitle": false,
     "title": ""
    }
   },
   "outputs": [],
   "source": [
    "## write to parquet files \n",
    "\n",
    "op = 'dbfs:/mnt/DeltaLake/Test'\n",
    "df.write.format('parquet').save(f'{op}/only_parquet')"
   ]
  },
  {
   "cell_type": "code",
   "execution_count": 0,
   "metadata": {
    "application/vnd.databricks.v1+cell": {
     "cellMetadata": {
      "byteLimit": 2048000,
      "rowLimit": 10000
     },
     "inputWidgets": {},
     "nuid": "e776b348-b061-44c4-9ffb-678b8af10caf",
     "showTitle": false,
     "title": ""
    }
   },
   "outputs": [],
   "source": [
    "## Do some transformation on top of df \n",
    "\n",
    "dfNew = df.withColumnRenamed('Line_Number', 'LNo')"
   ]
  },
  {
   "cell_type": "code",
   "execution_count": 0,
   "metadata": {
    "application/vnd.databricks.v1+cell": {
     "cellMetadata": {
      "byteLimit": 2048000,
      "rowLimit": 10000
     },
     "inputWidgets": {},
     "nuid": "389ae17e-e26a-4bd3-bbaf-dc1d7d594c9b",
     "showTitle": false,
     "title": ""
    }
   },
   "outputs": [],
   "source": [
    "dfNew.write.format('parquet').mode('overwrite').save(f'{op}/only_parquet')"
   ]
  },
  {
   "cell_type": "markdown",
   "metadata": {
    "application/vnd.databricks.v1+cell": {
     "cellMetadata": {},
     "inputWidgets": {},
     "nuid": "1265a7af-5e7a-4927-b5b0-b7b5052eae59",
     "showTitle": false,
     "title": ""
    }
   },
   "source": [
    "## Now conver that parquet file to delta format and overwrite to same location \n"
   ]
  },
  {
   "cell_type": "code",
   "execution_count": 0,
   "metadata": {
    "application/vnd.databricks.v1+cell": {
     "cellMetadata": {
      "byteLimit": 2048000,
      "implicitDf": true,
      "rowLimit": 10000
     },
     "inputWidgets": {},
     "nuid": "b837e661-a8de-4b86-adc7-4bffdc121d75",
     "showTitle": false,
     "title": ""
    }
   },
   "outputs": [
    {
     "output_type": "display_data",
     "data": {
      "text/html": [
       "<style scoped>\n",
       "  .table-result-container {\n",
       "    max-height: 300px;\n",
       "    overflow: auto;\n",
       "  }\n",
       "  table, th, td {\n",
       "    border: 1px solid black;\n",
       "    border-collapse: collapse;\n",
       "  }\n",
       "  th, td {\n",
       "    padding: 5px;\n",
       "  }\n",
       "  th {\n",
       "    text-align: left;\n",
       "  }\n",
       "</style><div class='table-result-container'><table class='table-result'><thead style='background-color: white'><tr></tr></thead><tbody></tbody></table></div>"
      ]
     },
     "metadata": {
      "application/vnd.databricks.v1+output": {
       "addedWidgets": {},
       "aggData": [],
       "aggError": "",
       "aggOverflow": false,
       "aggSchema": [],
       "aggSeriesLimitReached": false,
       "aggType": "",
       "arguments": {},
       "columnCustomDisplayInfos": {},
       "data": [],
       "datasetInfos": [],
       "dbfsResultPath": null,
       "isJsonSchema": true,
       "metadata": {
        "dataframeName": null
       },
       "overflow": false,
       "plotOptions": {
        "customPlotOptions": {},
        "displayType": "table",
        "pivotAggregation": null,
        "pivotColumns": null,
        "xColumns": null,
        "yColumns": null
       },
       "removedWidgets": [],
       "schema": [],
       "type": "table"
      }
     },
     "output_type": "display_data"
    }
   ],
   "source": [
    "%sql \n",
    "\n",
    "convert to delta parquet.`dbfs:/mnt/DeltaLake/Test/only_parquet`"
   ]
  },
  {
   "cell_type": "code",
   "execution_count": 0,
   "metadata": {
    "application/vnd.databricks.v1+cell": {
     "cellMetadata": {
      "byteLimit": 2048000,
      "implicitDf": true,
      "rowLimit": 10000
     },
     "inputWidgets": {},
     "nuid": "0bc6a47b-3690-4389-865e-dcc60921e4f8",
     "showTitle": false,
     "title": ""
    }
   },
   "outputs": [
    {
     "output_type": "display_data",
     "data": {
      "text/html": [
       "<style scoped>\n",
       "  .table-result-container {\n",
       "    max-height: 300px;\n",
       "    overflow: auto;\n",
       "  }\n",
       "  table, th, td {\n",
       "    border: 1px solid black;\n",
       "    border-collapse: collapse;\n",
       "  }\n",
       "  th, td {\n",
       "    padding: 5px;\n",
       "  }\n",
       "  th {\n",
       "    text-align: left;\n",
       "  }\n",
       "</style><div class='table-result-container'><table class='table-result'><thead style='background-color: white'><tr><th>version</th><th>timestamp</th><th>userId</th><th>userName</th><th>operation</th><th>operationParameters</th><th>job</th><th>notebook</th><th>clusterId</th><th>readVersion</th><th>isolationLevel</th><th>isBlindAppend</th><th>operationMetrics</th><th>userMetadata</th><th>engineInfo</th></tr></thead><tbody><tr><td>0</td><td>2024-02-28T07:26:10Z</td><td>4700893722167418</td><td>lokeswar.valluru@xyenta.com</td><td>CONVERT</td><td>Map(numFiles -> 1, partitionedBy -> [], collectStats -> true, sourceFormat -> parquet)</td><td>null</td><td>List(192613546049837)</td><td>1227-053858-m1tsqg19</td><td>-1</td><td>Serializable</td><td>false</td><td>Map(numConvertedFiles -> 1)</td><td>null</td><td>Databricks-Runtime/13.3.x-photon-scala2.12</td></tr></tbody></table></div>"
      ]
     },
     "metadata": {
      "application/vnd.databricks.v1+output": {
       "addedWidgets": {},
       "aggData": [],
       "aggError": "",
       "aggOverflow": false,
       "aggSchema": [],
       "aggSeriesLimitReached": false,
       "aggType": "",
       "arguments": {},
       "columnCustomDisplayInfos": {},
       "data": [
        [
         0,
         "2024-02-28T07:26:10Z",
         "4700893722167418",
         "lokeswar.valluru@xyenta.com",
         "CONVERT",
         {
          "collectStats": "true",
          "numFiles": "1",
          "partitionedBy": "[]",
          "sourceFormat": "parquet"
         },
         null,
         [
          "192613546049837"
         ],
         "1227-053858-m1tsqg19",
         -1,
         "Serializable",
         false,
         {
          "numConvertedFiles": "1"
         },
         null,
         "Databricks-Runtime/13.3.x-photon-scala2.12"
        ]
       ],
       "datasetInfos": [],
       "dbfsResultPath": null,
       "isJsonSchema": true,
       "metadata": {
        "dataframeName": "_sqldf",
        "executionCount": 10
       },
       "overflow": false,
       "plotOptions": {
        "customPlotOptions": {},
        "displayType": "table",
        "pivotAggregation": null,
        "pivotColumns": null,
        "xColumns": null,
        "yColumns": null
       },
       "removedWidgets": [],
       "schema": [
        {
         "metadata": "{}",
         "name": "version",
         "type": "\"long\""
        },
        {
         "metadata": "{}",
         "name": "timestamp",
         "type": "\"timestamp\""
        },
        {
         "metadata": "{}",
         "name": "userId",
         "type": "\"string\""
        },
        {
         "metadata": "{}",
         "name": "userName",
         "type": "\"string\""
        },
        {
         "metadata": "{}",
         "name": "operation",
         "type": "\"string\""
        },
        {
         "metadata": "{}",
         "name": "operationParameters",
         "type": "{\"type\":\"map\",\"keyType\":\"string\",\"valueType\":\"string\",\"valueContainsNull\":true}"
        },
        {
         "metadata": "{}",
         "name": "job",
         "type": "{\"type\":\"struct\",\"fields\":[{\"name\":\"jobId\",\"type\":\"string\",\"nullable\":true,\"metadata\":{}},{\"name\":\"jobName\",\"type\":\"string\",\"nullable\":true,\"metadata\":{}},{\"name\":\"jobRunId\",\"type\":\"string\",\"nullable\":true,\"metadata\":{}},{\"name\":\"runId\",\"type\":\"string\",\"nullable\":true,\"metadata\":{}},{\"name\":\"jobOwnerId\",\"type\":\"string\",\"nullable\":true,\"metadata\":{}},{\"name\":\"triggerType\",\"type\":\"string\",\"nullable\":true,\"metadata\":{}}]}"
        },
        {
         "metadata": "{}",
         "name": "notebook",
         "type": "{\"type\":\"struct\",\"fields\":[{\"name\":\"notebookId\",\"type\":\"string\",\"nullable\":true,\"metadata\":{}}]}"
        },
        {
         "metadata": "{}",
         "name": "clusterId",
         "type": "\"string\""
        },
        {
         "metadata": "{}",
         "name": "readVersion",
         "type": "\"long\""
        },
        {
         "metadata": "{}",
         "name": "isolationLevel",
         "type": "\"string\""
        },
        {
         "metadata": "{}",
         "name": "isBlindAppend",
         "type": "\"boolean\""
        },
        {
         "metadata": "{}",
         "name": "operationMetrics",
         "type": "{\"type\":\"map\",\"keyType\":\"string\",\"valueType\":\"string\",\"valueContainsNull\":true}"
        },
        {
         "metadata": "{}",
         "name": "userMetadata",
         "type": "\"string\""
        },
        {
         "metadata": "{}",
         "name": "engineInfo",
         "type": "\"string\""
        }
       ],
       "type": "table"
      }
     },
     "output_type": "display_data"
    }
   ],
   "source": [
    "%sql\n",
    "DESCRIBE History delta.`dbfs:/mnt/DeltaLake/Test/only_parquet`"
   ]
  },
  {
   "cell_type": "markdown",
   "metadata": {
    "application/vnd.databricks.v1+cell": {
     "cellMetadata": {},
     "inputWidgets": {},
     "nuid": "b1c416af-980a-4218-997e-31ae1f8fcb2b",
     "showTitle": false,
     "title": ""
    }
   },
   "source": [
    ">>  the reason why I done Rename Transaction before converting this into the data lake or before overwriting this, To understand Can we get the previous version of this line number or not?.\n",
    "\n",
    ">. It's not possible to Do versioning. Beacuse versioning will come into picture when we do transformations on delta table ot delta files only "
   ]
  },
  {
   "cell_type": "code",
   "execution_count": 0,
   "metadata": {
    "application/vnd.databricks.v1+cell": {
     "cellMetadata": {},
     "inputWidgets": {},
     "nuid": "f98aab60-b1aa-45c1-ab4a-7610b9f725ca",
     "showTitle": false,
     "title": ""
    }
   },
   "outputs": [],
   "source": []
  },
  {
   "cell_type": "markdown",
   "metadata": {
    "application/vnd.databricks.v1+cell": {
     "cellMetadata": {
      "byteLimit": 2048000,
      "rowLimit": 10000
     },
     "inputWidgets": {},
     "nuid": "0f2dede5-e8b3-43bd-8086-f6f389622cfc",
     "showTitle": false,
     "title": ""
    }
   },
   "source": [
    "##Optimize is used to compacting Small Files using Optimize command Optimize by ZORDER BY Column_name (optimize by Indexing)"
   ]
  },
  {
   "cell_type": "markdown",
   "metadata": {
    "application/vnd.databricks.v1+cell": {
     "cellMetadata": {},
     "inputWidgets": {},
     "nuid": "cc217178-54ef-411e-b905-76aedd51afca",
     "showTitle": false,
     "title": ""
    }
   },
   "source": [
    "## Also used to get rid of the InActive parquet files at time multiple operations are done "
   ]
  },
  {
   "cell_type": "code",
   "execution_count": 0,
   "metadata": {
    "application/vnd.databricks.v1+cell": {
     "cellMetadata": {},
     "inputWidgets": {},
     "nuid": "4045d77c-01d8-4be8-879b-0fa3b4a3d5ec",
     "showTitle": false,
     "title": ""
    }
   },
   "outputs": [],
   "source": [
    "%sql\n",
    "\n",
    "-- OPTIMIZE my_table ZORDER BY col_name ;\n",
    "\n",
    "-- OPTIMIZE my_table;"
   ]
  }
 ],
 "metadata": {
  "application/vnd.databricks.v1+notebook": {
   "dashboards": [],
   "language": "python",
   "notebookMetadata": {
    "mostRecentlyExecutedCommandWithImplicitDF": {
     "commandId": 192613546049846,
     "dataframes": [
      "_sqldf"
     ]
    },
    "pythonIndentUnit": 4
   },
   "notebookName": "Convert_to_Delta&Optimize",
   "widgets": {}
  }
 },
 "nbformat": 4,
 "nbformat_minor": 0
}
