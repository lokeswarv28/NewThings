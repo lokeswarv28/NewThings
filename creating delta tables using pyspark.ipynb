{
 "cells": [
  {
   "cell_type": "markdown",
   "metadata": {
    "application/vnd.databricks.v1+cell": {
     "cellMetadata": {},
     "inputWidgets": {},
     "nuid": "dddd9b46-9a59-4b2e-85b1-5f780bf3aa84",
     "showTitle": false,
     "title": ""
    }
   },
   "source": [
    "will try to create Delta Tables using Pyspark .As a Tables. Not as a Files or Folders "
   ]
  },
  {
   "cell_type": "code",
   "execution_count": 0,
   "metadata": {
    "application/vnd.databricks.v1+cell": {
     "cellMetadata": {
      "byteLimit": 2048000,
      "rowLimit": 10000
     },
     "inputWidgets": {},
     "nuid": "c618039e-d58a-48fe-86f5-368dd917ef04",
     "showTitle": false,
     "title": ""
    }
   },
   "outputs": [],
   "source": [
    "op = f'dbfs:/mnt/DeltaLake/Test'\n",
    "\n",
    "df = spark.read.format('parquet').load(f'{op}/ParquetFolder')"
   ]
  },
  {
   "cell_type": "code",
   "execution_count": 0,
   "metadata": {
    "application/vnd.databricks.v1+cell": {
     "cellMetadata": {
      "byteLimit": 2048000,
      "rowLimit": 10000
     },
     "inputWidgets": {},
     "nuid": "fe2d2271-d19c-4b63-9040-b33515d76b91",
     "showTitle": false,
     "title": ""
    }
   },
   "outputs": [],
   "source": [
    "#Here delta is a schema previously we created and DeltaSpark is the name of the table \n",
    "df_delta = df.write.format('delta').mode('overwrite').saveAsTable('`delta`.DeltaSpark')"
   ]
  },
  {
   "cell_type": "code",
   "execution_count": 0,
   "metadata": {
    "application/vnd.databricks.v1+cell": {
     "cellMetadata": {
      "byteLimit": 2048000,
      "rowLimit": 10000
     },
     "inputWidgets": {},
     "nuid": "83435ca3-bd30-4d36-8c2d-3ff88cdce6ab",
     "showTitle": false,
     "title": ""
    }
   },
   "outputs": [
    {
     "output_type": "execute_result",
     "data": {
      "text/plain": [
       "[FileInfo(path='dbfs:/user/hive/warehouse/delta.db/deltaspark/_delta_log/00000000000000000000.crc', name='00000000000000000000.crc', size=3405, modificationTime=1709020359000),\n",
       " FileInfo(path='dbfs:/user/hive/warehouse/delta.db/deltaspark/_delta_log/00000000000000000000.json', name='00000000000000000000.json', size=2507, modificationTime=1709020357000),\n",
       " FileInfo(path='dbfs:/user/hive/warehouse/delta.db/deltaspark/_delta_log/__tmp_path_dir/', name='__tmp_path_dir/', size=0, modificationTime=1709020357000)]"
      ]
     },
     "execution_count": 9,
     "metadata": {},
     "output_type": "execute_result"
    }
   ],
   "source": [
    "dbutils.fs.ls('dbfs:/user/hive/warehouse/delta.db/deltaspark/_delta_log')"
   ]
  },
  {
   "cell_type": "code",
   "execution_count": 0,
   "metadata": {
    "application/vnd.databricks.v1+cell": {
     "cellMetadata": {
      "byteLimit": 2048000,
      "rowLimit": 10000
     },
     "inputWidgets": {},
     "nuid": "0d787727-62e2-45fa-b619-ba2a1d2bf0b8",
     "showTitle": false,
     "title": ""
    }
   },
   "outputs": [
    {
     "output_type": "display_data",
     "data": {
      "text/html": [
       "<style scoped>\n",
       "  .table-result-container {\n",
       "    max-height: 300px;\n",
       "    overflow: auto;\n",
       "  }\n",
       "  table, th, td {\n",
       "    border: 1px solid black;\n",
       "    border-collapse: collapse;\n",
       "  }\n",
       "  th, td {\n",
       "    padding: 5px;\n",
       "  }\n",
       "  th {\n",
       "    text-align: left;\n",
       "  }\n",
       "</style><div class='table-result-container'><table class='table-result'><thead style='background-color: white'><tr><th>value</th></tr></thead><tbody><tr><td>{\"commitInfo\":{\"timestamp\":1709020357473,\"userId\":\"4700893722167418\",\"userName\":\"lokeswar.valluru@xyenta.com\",\"operation\":\"CREATE OR REPLACE TABLE AS SELECT\",\"operationParameters\":{\"partitionBy\":\"[]\",\"description\":null,\"isManaged\":\"true\",\"properties\":\"{}\",\"statsOnLoad\":false},\"notebook\":{\"notebookId\":\"482608276354755\"},\"clusterId\":\"1227-053858-m1tsqg19\",\"isolationLevel\":\"WriteSerializable\",\"isBlindAppend\":false,\"operationMetrics\":{\"numFiles\":\"1\",\"numOutputRows\":\"112\",\"numOutputBytes\":\"4851\"},\"tags\":{\"restoresDeletedRows\":\"false\"},\"engineInfo\":\"Databricks-Runtime/13.3.x-photon-scala2.12\",\"txnId\":\"19bc297b-5048-4dbb-9b73-49a1ca8e35b6\"}}</td></tr><tr><td>{\"metaData\":{\"id\":\"2f34627c-132d-4c78-adc7-823172082f02\",\"format\":{\"provider\":\"parquet\",\"options\":{}},\"schemaString\":\"{\\\"type\\\":\\\"struct\\\",\\\"fields\\\":[{\\\"name\\\":\\\"Education_Level\\\",\\\"type\\\":\\\"string\\\",\\\"nullable\\\":true,\\\"metadata\\\":{}},{\\\"name\\\":\\\"Line_Number\\\",\\\"type\\\":\\\"integer\\\",\\\"nullable\\\":true,\\\"metadata\\\":{}},{\\\"name\\\":\\\"Employed\\\",\\\"type\\\":\\\"integer\\\",\\\"nullable\\\":true,\\\"metadata\\\":{}},{\\\"name\\\":\\\"Unemployed\\\",\\\"type\\\":\\\"integer\\\",\\\"nullable\\\":true,\\\"metadata\\\":{}},{\\\"name\\\":\\\"Industry\\\",\\\"type\\\":\\\"string\\\",\\\"nullable\\\":true,\\\"metadata\\\":{}},{\\\"name\\\":\\\"Gender\\\",\\\"type\\\":\\\"string\\\",\\\"nullable\\\":true,\\\"metadata\\\":{}},{\\\"name\\\":\\\"Date_Inserted\\\",\\\"type\\\":\\\"string\\\",\\\"nullable\\\":true,\\\"metadata\\\":{}},{\\\"name\\\":\\\"dense_rank\\\",\\\"type\\\":\\\"integer\\\",\\\"nullable\\\":true,\\\"metadata\\\":{}}]}\",\"partitionColumns\":[],\"configuration\":{},\"createdTime\":1709020356752}}</td></tr><tr><td>{\"protocol\":{\"minReaderVersion\":1,\"minWriterVersion\":2}}</td></tr><tr><td>{\"add\":{\"path\":\"part-00000-9470b3a1-3438-40e3-8d6e-cb5a14392523.c000.snappy.parquet\",\"partitionValues\":{},\"size\":4851,\"modificationTime\":1709020357000,\"dataChange\":true,\"stats\":\"{\\\"numRecords\\\":112,\\\"minValues\\\":{\\\"Education_Level\\\":\\\"High School\\\",\\\"Line_Number\\\":141,\\\"Employed\\\":4700,\\\"Unemployed\\\":258,\\\"Industry\\\":\\\"Construction\\\",\\\"Gender\\\":\\\"Female\\\",\\\"Date_Inserted\\\":\\\"1/1/1995\\\",\\\"dense_rank\\\":5},\\\"maxValues\\\":{\\\"Education_Level\\\":\\\"High School\\\",\\\"Line_Number\\\":1508,\\\"Employed\\\":17630700,\\\"Unemployed\\\":2382900,\\\"Industry\\\":\\\"finance\\\",\\\"Gender\\\":\\\"Male\\\",\\\"Date_Inserted\\\":\\\"9/1/2014\\\",\\\"dense_rank\\\":556},\\\"nullCount\\\":{\\\"Education_Level\\\":0,\\\"Line_Number\\\":0,\\\"Employed\\\":0,\\\"Unemployed\\\":0,\\\"Industry\\\":0,\\\"Gender\\\":0,\\\"Date_Inserted\\\":0,\\\"dense_rank\\\":0}}\",\"tags\":{\"INSERTION_TIME\":\"1709020357000000\",\"MIN_INSERTION_TIME\":\"1709020357000000\",\"MAX_INSERTION_TIME\":\"1709020357000000\",\"OPTIMIZE_TARGET_SIZE\":\"268435456\"}}}</td></tr></tbody></table></div>"
      ]
     },
     "metadata": {
      "application/vnd.databricks.v1+output": {
       "addedWidgets": {},
       "aggData": [],
       "aggError": "",
       "aggOverflow": false,
       "aggSchema": [],
       "aggSeriesLimitReached": false,
       "aggType": "",
       "arguments": {},
       "columnCustomDisplayInfos": {},
       "data": [
        [
         "{\"commitInfo\":{\"timestamp\":1709020357473,\"userId\":\"4700893722167418\",\"userName\":\"lokeswar.valluru@xyenta.com\",\"operation\":\"CREATE OR REPLACE TABLE AS SELECT\",\"operationParameters\":{\"partitionBy\":\"[]\",\"description\":null,\"isManaged\":\"true\",\"properties\":\"{}\",\"statsOnLoad\":false},\"notebook\":{\"notebookId\":\"482608276354755\"},\"clusterId\":\"1227-053858-m1tsqg19\",\"isolationLevel\":\"WriteSerializable\",\"isBlindAppend\":false,\"operationMetrics\":{\"numFiles\":\"1\",\"numOutputRows\":\"112\",\"numOutputBytes\":\"4851\"},\"tags\":{\"restoresDeletedRows\":\"false\"},\"engineInfo\":\"Databricks-Runtime/13.3.x-photon-scala2.12\",\"txnId\":\"19bc297b-5048-4dbb-9b73-49a1ca8e35b6\"}}"
        ],
        [
         "{\"metaData\":{\"id\":\"2f34627c-132d-4c78-adc7-823172082f02\",\"format\":{\"provider\":\"parquet\",\"options\":{}},\"schemaString\":\"{\\\"type\\\":\\\"struct\\\",\\\"fields\\\":[{\\\"name\\\":\\\"Education_Level\\\",\\\"type\\\":\\\"string\\\",\\\"nullable\\\":true,\\\"metadata\\\":{}},{\\\"name\\\":\\\"Line_Number\\\",\\\"type\\\":\\\"integer\\\",\\\"nullable\\\":true,\\\"metadata\\\":{}},{\\\"name\\\":\\\"Employed\\\",\\\"type\\\":\\\"integer\\\",\\\"nullable\\\":true,\\\"metadata\\\":{}},{\\\"name\\\":\\\"Unemployed\\\",\\\"type\\\":\\\"integer\\\",\\\"nullable\\\":true,\\\"metadata\\\":{}},{\\\"name\\\":\\\"Industry\\\",\\\"type\\\":\\\"string\\\",\\\"nullable\\\":true,\\\"metadata\\\":{}},{\\\"name\\\":\\\"Gender\\\",\\\"type\\\":\\\"string\\\",\\\"nullable\\\":true,\\\"metadata\\\":{}},{\\\"name\\\":\\\"Date_Inserted\\\",\\\"type\\\":\\\"string\\\",\\\"nullable\\\":true,\\\"metadata\\\":{}},{\\\"name\\\":\\\"dense_rank\\\",\\\"type\\\":\\\"integer\\\",\\\"nullable\\\":true,\\\"metadata\\\":{}}]}\",\"partitionColumns\":[],\"configuration\":{},\"createdTime\":1709020356752}}"
        ],
        [
         "{\"protocol\":{\"minReaderVersion\":1,\"minWriterVersion\":2}}"
        ],
        [
         "{\"add\":{\"path\":\"part-00000-9470b3a1-3438-40e3-8d6e-cb5a14392523.c000.snappy.parquet\",\"partitionValues\":{},\"size\":4851,\"modificationTime\":1709020357000,\"dataChange\":true,\"stats\":\"{\\\"numRecords\\\":112,\\\"minValues\\\":{\\\"Education_Level\\\":\\\"High School\\\",\\\"Line_Number\\\":141,\\\"Employed\\\":4700,\\\"Unemployed\\\":258,\\\"Industry\\\":\\\"Construction\\\",\\\"Gender\\\":\\\"Female\\\",\\\"Date_Inserted\\\":\\\"1/1/1995\\\",\\\"dense_rank\\\":5},\\\"maxValues\\\":{\\\"Education_Level\\\":\\\"High School\\\",\\\"Line_Number\\\":1508,\\\"Employed\\\":17630700,\\\"Unemployed\\\":2382900,\\\"Industry\\\":\\\"finance\\\",\\\"Gender\\\":\\\"Male\\\",\\\"Date_Inserted\\\":\\\"9/1/2014\\\",\\\"dense_rank\\\":556},\\\"nullCount\\\":{\\\"Education_Level\\\":0,\\\"Line_Number\\\":0,\\\"Employed\\\":0,\\\"Unemployed\\\":0,\\\"Industry\\\":0,\\\"Gender\\\":0,\\\"Date_Inserted\\\":0,\\\"dense_rank\\\":0}}\",\"tags\":{\"INSERTION_TIME\":\"1709020357000000\",\"MIN_INSERTION_TIME\":\"1709020357000000\",\"MAX_INSERTION_TIME\":\"1709020357000000\",\"OPTIMIZE_TARGET_SIZE\":\"268435456\"}}}"
        ]
       ],
       "datasetInfos": [],
       "dbfsResultPath": null,
       "isJsonSchema": true,
       "metadata": {},
       "overflow": false,
       "plotOptions": {
        "customPlotOptions": {},
        "displayType": "table",
        "pivotAggregation": null,
        "pivotColumns": null,
        "xColumns": null,
        "yColumns": null
       },
       "removedWidgets": [],
       "schema": [
        {
         "metadata": "{}",
         "name": "value",
         "type": "\"string\""
        }
       ],
       "type": "table"
      }
     },
     "output_type": "display_data"
    }
   ],
   "source": [
    "display(spark.read.format('text').load('dbfs:/user/hive/warehouse/delta.db/deltaspark/_delta_log/00000000000000000000.json')) #Here Operation : create table as select "
   ]
  },
  {
   "cell_type": "code",
   "execution_count": 0,
   "metadata": {
    "application/vnd.databricks.v1+cell": {
     "cellMetadata": {
      "byteLimit": 2048000,
      "rowLimit": 10000
     },
     "inputWidgets": {},
     "nuid": "c1d82661-d9f4-4023-8908-7baf4fe99d0e",
     "showTitle": false,
     "title": ""
    }
   },
   "outputs": [
    {
     "output_type": "display_data",
     "data": {
      "text/html": [
       "<style scoped>\n",
       "  .table-result-container {\n",
       "    max-height: 300px;\n",
       "    overflow: auto;\n",
       "  }\n",
       "  table, th, td {\n",
       "    border: 1px solid black;\n",
       "    border-collapse: collapse;\n",
       "  }\n",
       "  th, td {\n",
       "    padding: 5px;\n",
       "  }\n",
       "  th {\n",
       "    text-align: left;\n",
       "  }\n",
       "</style><div class='table-result-container'><table class='table-result'><thead style='background-color: white'><tr><th>Education_Level</th><th>Line_Number</th><th>Employed</th><th>Unemployed</th><th>Industry</th><th>Gender</th><th>Date_Inserted</th><th>dense_rank</th></tr></thead><tbody><tr><td>High School</td><td>1463</td><td>4031000</td><td>115000</td><td>Retail Trade</td><td>Male</td><td>12/1/2000</td><td>5</td></tr><tr><td>High School</td><td>1462</td><td>4018000</td><td>123000</td><td>Retail Trade</td><td>Female</td><td>11/1/2000</td><td>7</td></tr><tr><td>High School</td><td>1461</td><td>4004000</td><td>132000</td><td>Retail Trade</td><td>Male</td><td>10/1/2000</td><td>9</td></tr><tr><td>High School</td><td>1460</td><td>3990000</td><td>140000</td><td>Retail Trade</td><td>Female</td><td>9/1/2000</td><td>10</td></tr><tr><td>High School</td><td>1459</td><td>3974000</td><td>149000</td><td>Retail Trade</td><td>Male</td><td>8/1/2000</td><td>11</td></tr><tr><td>High School</td><td>1458</td><td>3958000</td><td>157000</td><td>Retail Trade</td><td>Female</td><td>7/1/2000</td><td>13</td></tr><tr><td>High School</td><td>1457</td><td>3942000</td><td>165000</td><td>Retail Trade</td><td>Male</td><td>6/1/2000</td><td>17</td></tr><tr><td>High School</td><td>1456</td><td>3925000</td><td>173000</td><td>Retail Trade</td><td>Female</td><td>5/1/2000</td><td>19</td></tr><tr><td>High School</td><td>1455</td><td>3907000</td><td>182000</td><td>Retail Trade</td><td>Male</td><td>4/1/2000</td><td>21</td></tr><tr><td>High School</td><td>1439</td><td>5625</td><td>276</td><td>Technology</td><td>Male</td><td>12/1/1999</td><td>25</td></tr><tr><td>High School</td><td>1454</td><td>3889000</td><td>191000</td><td>Retail Trade</td><td>Female</td><td>3/1/2000</td><td>27</td></tr><tr><td>High School</td><td>1437</td><td>5571</td><td>274</td><td>Education</td><td>Male</td><td>10/1/1999</td><td>29</td></tr><tr><td>High School</td><td>1428</td><td>5200</td><td>258</td><td>Technology</td><td>Female</td><td>8/1/1999</td><td>31</td></tr><tr><td>High School</td><td>1426</td><td>5118</td><td>260</td><td>Education</td><td>Female</td><td>6/1/1999</td><td>36</td></tr><tr><td>High School</td><td>1453</td><td>3871000</td><td>199000</td><td>Retail Trade</td><td>Male</td><td>2/1/2000</td><td>38</td></tr><tr><td>High School</td><td>1451</td><td>5800</td><td>300</td><td>Manufacturing</td><td>Male</td><td>12/1/2000</td><td>39</td></tr><tr><td>High School</td><td>1508</td><td>4660495</td><td>248411</td><td>Construction</td><td>Female</td><td>9/1/2002</td><td>43</td></tr><tr><td>High School</td><td>1424</td><td>5022</td><td>269</td><td>Technology</td><td>Female</td><td>4/1/1999</td><td>44</td></tr><tr><td>High School</td><td>1452</td><td>3853000</td><td>208000</td><td>Retail Trade</td><td>Female</td><td>1/1/2000</td><td>46</td></tr><tr><td>High School</td><td>1448</td><td>5500</td><td>300</td><td>Retail</td><td>Female</td><td>9/1/2000</td><td>48</td></tr><tr><td>High School</td><td>1421</td><td>4876</td><td>269</td><td>Finance</td><td>Male</td><td>1/1/1999</td><td>54</td></tr><tr><td>High School</td><td>1265</td><td>12351400</td><td>710600</td><td>Retail</td><td>Female</td><td>1/1/2020</td><td>62</td></tr><tr><td>High School</td><td>1445</td><td>5200</td><td>300</td><td>Manufacturing</td><td>Male</td><td>6/1/2000</td><td>66</td></tr><tr><td>High School</td><td>1504</td><td>4627225</td><td>266990</td><td>Education</td><td>Female</td><td>5/1/2002</td><td>67</td></tr><tr><td>High School</td><td>1370</td><td>5295262</td><td>313570</td><td>Manufacturing</td><td>Female</td><td>10/1/1997</td><td>74</td></tr><tr><td>High School</td><td>1470</td><td>3877827</td><td>234000</td><td>Education</td><td>Female</td><td>7/1/2001</td><td>81</td></tr><tr><td>High School</td><td>1382</td><td>7498000</td><td>455000</td><td>Manufacturing</td><td>Female</td><td>10/1/1998</td><td>89</td></tr><tr><td>High School</td><td>1349</td><td>6685000</td><td>406000</td><td>Construction</td><td>Male</td><td>7/1/1996</td><td>91</td></tr><tr><td>High School</td><td>1465</td><td>3808680</td><td>232000</td><td>Healthcare</td><td>Male</td><td>2/1/2001</td><td>92</td></tr><tr><td>High School</td><td>1442</td><td>4900</td><td>300</td><td>Healthcare</td><td>Female</td><td>3/1/2000</td><td>97</td></tr><tr><td>High School</td><td>1473</td><td>3918491</td><td>240000</td><td>Healthcare</td><td>Male</td><td>10/1/2001</td><td>98</td></tr><tr><td>High School</td><td>1500</td><td>4600112</td><td>282730</td><td>Manufacturing</td><td>Female</td><td>1/1/2002</td><td>100</td></tr><tr><td>High School</td><td>1376</td><td>7386000</td><td>455000</td><td>Retail</td><td>Female</td><td>4/1/1998</td><td>102</td></tr><tr><td>High School</td><td>1468</td><td>3849511</td><td>238000</td><td>Technology</td><td>Female</td><td>5/1/2001</td><td>105</td></tr><tr><td>High School</td><td>1379</td><td>7438000</td><td>461000</td><td>Financial Services</td><td>Male</td><td>7/1/1998</td><td>107</td></tr><tr><td>High School</td><td>1366</td><td>5213332</td><td>326589</td><td>Health Care</td><td>Female</td><td>6/1/1997</td><td>114</td></tr><tr><td>High School</td><td>1373</td><td>7323000</td><td>461000</td><td>Education Services</td><td>Male</td><td>1/1/1998</td><td>117</td></tr><tr><td>High School</td><td>861</td><td>6622000</td><td>422000</td><td>Transportation</td><td>Female</td><td>8/1/2010</td><td>118</td></tr><tr><td>High School</td><td>1345</td><td>6622000</td><td>422000</td><td>Health Care</td><td>Male</td><td>5/1/1996</td><td>118</td></tr><tr><td>High School</td><td>832</td><td>6622000</td><td>422000</td><td>Finance</td><td>Male</td><td>1/1/2010</td><td>118</td></tr><tr><td>High School</td><td>1488</td><td>94000</td><td>6000</td><td>Finance</td><td>Female</td><td>1/1/2002</td><td>119</td></tr><tr><td>High School</td><td>1440</td><td>4700</td><td>300</td><td>Finance</td><td>Female</td><td>1/1/2000</td><td>119</td></tr><tr><td>High School</td><td>1491</td><td>91000</td><td>6000</td><td>Manufacturing</td><td>Male</td><td>4/1/2002</td><td>134</td></tr><tr><td>High School</td><td>1419</td><td>8960700</td><td>593300</td><td>Education</td><td>Male</td><td>11/1/1999</td><td>139</td></tr><tr><td>High School</td><td>1416</td><td>8900500</td><td>599500</td><td>Retail</td><td>Female</td><td>8/1/1999</td><td>148</td></tr><tr><td>High School</td><td>1341</td><td>6555000</td><td>443000</td><td>Retail</td><td>Male</td><td>3/1/1996</td><td>150</td></tr><tr><td>High School</td><td>837</td><td>6555000</td><td>443000</td><td>Manufacturing</td><td>Female</td><td>2/1/2010</td><td>150</td></tr><tr><td>High School</td><td>1361</td><td>5128562</td><td>349587</td><td>Construction</td><td>Male</td><td>1/1/1997</td><td>154</td></tr><tr><td>High School</td><td>1494</td><td>88000</td><td>6000</td><td>Retail</td><td>Female</td><td>7/1/2002</td><td>155</td></tr><tr><td>High School</td><td>1244</td><td>17630700</td><td>1209200</td><td>Manufacturing</td><td>Male</td><td>8/1/2019</td><td>162</td></tr><tr><td>High School</td><td>1359</td><td>8674000</td><td>595000</td><td>Retail</td><td>Male</td><td>12/1/1996</td><td>163</td></tr><tr><td>High School</td><td>825</td><td>3878000</td><td>267000</td><td>Finance</td><td>Female</td><td>11/1/2009</td><td>166</td></tr><tr><td>High School</td><td>1322</td><td>2890000</td><td>200000</td><td>Healthcare</td><td>Female</td><td>10/1/1995</td><td>172</td></tr><tr><td>High School</td><td>1411</td><td>8802600</td><td>609400</td><td>Retail</td><td>Male</td><td>3/1/1999</td><td>173</td></tr><tr><td>High School</td><td>1337</td><td>6489000</td><td>453000</td><td>Manufacturing</td><td>Male</td><td>1/1/1996</td><td>181</td></tr><tr><td>High School</td><td>1319</td><td>2860000</td><td>200000</td><td>Manufacturing</td><td>Male</td><td>7/1/1995</td><td>183</td></tr><tr><td>High School</td><td>1497</td><td>85000</td><td>6000</td><td>Technology</td><td>Male</td><td>10/1/2002</td><td>188</td></tr><tr><td>High School</td><td>1316</td><td>2830000</td><td>200000</td><td>Healthcare</td><td>Female</td><td>4/1/1995</td><td>190</td></tr><tr><td>High School</td><td>1355</td><td>8645000</td><td>616000</td><td>Healthcare</td><td>Male</td><td>10/1/1996</td><td>196</td></tr><tr><td>High School</td><td>1185</td><td>11778600</td><td>850500</td><td>Retail</td><td>Female</td><td>5/1/2017</td><td>203</td></tr><tr><td>High School</td><td>1482</td><td>3752561</td><td>271675</td><td>Healthcare</td><td>Female</td><td>7/1/2001</td><td>206</td></tr><tr><td>High School</td><td>1216</td><td>17378000</td><td>1262300</td><td>Manufacturing</td><td>Male</td><td>1/1/2019</td><td>210</td></tr><tr><td>High School</td><td>1486</td><td>3744076</td><td>272945</td><td>Retail</td><td>Female</td><td>11/1/2001</td><td>218</td></tr><tr><td>High School</td><td>1172</td><td>15024600</td><td>1112100</td><td>Retail</td><td>Male</td><td>2/1/2017</td><td>225</td></tr><tr><td>High School</td><td>1478</td><td>3740556</td><td>278840</td><td>Healthcare</td><td>Female</td><td>3/1/2001</td><td>234</td></tr><tr><td>High School</td><td>1333</td><td>3237700</td><td>243900</td><td>Technology</td><td>Male</td><td>9/1/1995</td><td>246</td></tr><tr><td>High School</td><td>1329</td><td>3231600</td><td>245200</td><td>Retail</td><td>Male</td><td>5/1/1995</td><td>254</td></tr><tr><td>High School</td><td>1398</td><td>3111020</td><td>237180</td><td>Retail</td><td>Female</td><td>2/1/1998</td><td>264</td></tr><tr><td>High School</td><td>1161</td><td>11566700</td><td>883800</td><td>Construction</td><td>Female</td><td>11/1/2016</td><td>269</td></tr><tr><td>High School</td><td>1325</td><td>3222600</td><td>246300</td><td>Education</td><td>Male</td><td>1/1/1995</td><td>270</td></tr><tr><td>High School</td><td>1149</td><td>11611300</td><td>889200</td><td>Financial Services</td><td>Female</td><td>8/1/2016</td><td>275</td></tr><tr><td>High School</td><td>848</td><td>378000</td><td>29000</td><td>Hospitality</td><td>Male</td><td>5/1/2010</td><td>278</td></tr><tr><td>High School</td><td>1402</td><td>3122690</td><td>240510</td><td>Manufacturing</td><td>Female</td><td>6/1/1998</td><td>283</td></tr><tr><td>High School</td><td>1406</td><td>3132460</td><td>244940</td><td>Financial Services</td><td>Female</td><td>10/1/1998</td><td>302</td></tr><tr><td>High School</td><td>1144</td><td>14351200</td><td>1127700</td><td>Energy</td><td>Male</td><td>7/1/2016</td><td>306</td></tr><tr><td>High School</td><td>1140</td><td>14301100</td><td>1127800</td><td>Technology</td><td>Male</td><td>6/1/2016</td><td>312</td></tr><tr><td>High School</td><td>1305</td><td>11673000</td><td>1045400</td><td>Education</td><td>Female</td><td>11/1/2020</td><td>365</td></tr><tr><td>High School</td><td>949</td><td>11331000</td><td>1024200</td><td>Retail</td><td>Female</td><td>6/1/2012</td><td>371</td></tr><tr><td>High School</td><td>1393</td><td>3335300</td><td>303900</td><td>Technology</td><td>Male</td><td>9/1/1997</td><td>375</td></tr><tr><td>High School</td><td>1289</td><td>12027800</td><td>1109000</td><td>Finance</td><td>Female</td><td>7/1/2020</td><td>380</td></tr><tr><td>High School</td><td>1390</td><td>3312500</td><td>310800</td><td>Financial Services</td><td>Female</td><td>6/1/1997</td><td>388</td></tr><tr><td>High School</td><td>992</td><td>14085800</td><td>1330000</td><td>Hospitality</td><td>Male</td><td>5/1/2013</td><td>392</td></tr><tr><td>High School</td><td>1387</td><td>3291500</td><td>313900</td><td>Healthcare</td><td>Male</td><td>3/1/1997</td><td>398</td></tr><tr><td>High School</td><td>984</td><td>13973800</td><td>1335800</td><td>Health Care</td><td>Male</td><td>3/1/2013</td><td>400</td></tr><tr><td>High School</td><td>1056</td><td>15984100</td><td>1615600</td><td>Construction</td><td>Male</td><td>9/1/2014</td><td>415</td></tr><tr><td>High School</td><td>1048</td><td>15914400</td><td>1646700</td><td>Professional and Business Services</td><td>Male</td><td>7/1/2014</td><td>426</td></tr><tr><td>High School</td><td>932</td><td>15891000</td><td>1692700</td><td>Manufacturing</td><td>Male</td><td>2/1/2012</td><td>444</td></tr><tr><td>High School</td><td>901</td><td>11047400</td><td>1192800</td><td>Finance</td><td>Female</td><td>6/1/2011</td><td>450</td></tr><tr><td>High School</td><td>965</td><td>11224400</td><td>1227200</td><td>Construction</td><td>Female</td><td>10/1/2012</td><td>456</td></tr><tr><td>High School</td><td>889</td><td>10925200</td><td>1212400</td><td>Construction</td><td>Female</td><td>3/1/2011</td><td>469</td></tr><tr><td>High School</td><td>961</td><td>81000</td><td>9000</td><td>Hospitality</td><td>Female</td><td>9/1/2012</td><td>470</td></tr><tr><td>High School</td><td>141</td><td>810000</td><td>90000</td><td>Retail</td><td>Female</td><td>8/1/1995</td><td>470</td></tr><tr><td>High School</td><td>1284</td><td>121500</td><td>13500</td><td>Technology</td><td>Male</td><td>6/1/2020</td><td>470</td></tr><tr><td>High School</td><td>1041</td><td>81000</td><td>9000</td><td>Trade, Transportation, and Utilities</td><td>Female</td><td>5/1/2014</td><td>470</td></tr><tr><td>High School</td><td>1012</td><td>81000</td><td>9000</td><td>Retail</td><td>Male</td><td>10/1/2013</td><td>470</td></tr><tr><td>High School</td><td>929</td><td>81000</td><td>9000</td><td>Hospitality</td><td>Female</td><td>1/1/2012</td><td>470</td></tr><tr><td>High School</td><td>873</td><td>11052600</td><td>1228900</td><td>Manufacturing</td><td>Female</td><td>11/1/2010</td><td>471</td></tr><tr><td>High School</td><td>1025</td><td>11142500</td><td>1280400</td><td>finance</td><td>Female</td><td>1/1/2014</td><td>483</td></tr><tr><td>High School</td><td>997</td><td>10980700</td><td>1265900</td><td>Hospitality</td><td>Female</td><td>6/1/2013</td><td>485</td></tr><tr><td>High School</td><td>1093</td><td>10906500</td><td>1283100</td><td>Hospitality</td><td>Female</td><td>6/1/2015</td><td>492</td></tr><tr><td>High School</td><td>1430</td><td>405000</td><td>50000</td><td>Finance</td><td>Female</td><td>2/1/1999</td><td>501</td></tr><tr><td>High School</td><td>1433</td><td>418000</td><td>52000</td><td>Healthcare</td><td>Male</td><td>5/1/1999</td><td>504</td></tr><tr><td>High School</td><td>1429</td><td>400000</td><td>50000</td><td>Finance</td><td>Male</td><td>1/1/1999</td><td>505</td></tr><tr><td>High School</td><td>1434</td><td>422000</td><td>53000</td><td>Healthcare</td><td>Female</td><td>6/1/1999</td><td>508</td></tr><tr><td>High School</td><td>921</td><td>10837500</td><td>1427100</td><td>Hospitality</td><td>Female</td><td>11/1/2011</td><td>524</td></tr><tr><td>High School</td><td>1069</td><td>10512000</td><td>1386900</td><td>Technology</td><td>Female</td><td>12/1/2014</td><td>525</td></tr><tr><td>High School</td><td>1089</td><td>10633300</td><td>1410200</td><td>Education</td><td>Female</td><td>5/1/2015</td><td>528</td></tr><tr><td>High School</td><td>1081</td><td>10587600</td><td>1406500</td><td>Finance</td><td>Female</td><td>3/1/2015</td><td>533</td></tr><tr><td>High School</td><td>868</td><td>14799100</td><td>2104800</td><td>Hospitality</td><td>Male</td><td>10/1/2010</td><td>540</td></tr><tr><td>High School</td><td>896</td><td>16016000</td><td>2323800</td><td>Hospitality</td><td>Male</td><td>5/1/2011</td><td>546</td></tr><tr><td>High School</td><td>912</td><td>14723600</td><td>2199800</td><td>Manufacturing</td><td>Male</td><td>9/1/2011</td><td>553</td></tr><tr><td>High School</td><td>884</td><td>15860200</td><td>2382900</td><td>Finance</td><td>Male</td><td>2/1/2011</td><td>556</td></tr></tbody></table></div>"
      ]
     },
     "metadata": {
      "application/vnd.databricks.v1+output": {
       "addedWidgets": {},
       "aggData": [],
       "aggError": "",
       "aggOverflow": false,
       "aggSchema": [],
       "aggSeriesLimitReached": false,
       "aggType": "",
       "arguments": {},
       "columnCustomDisplayInfos": {},
       "data": [
        [
         "High School",
         1463,
         4031000,
         115000,
         "Retail Trade",
         "Male",
         "12/1/2000",
         5
        ],
        [
         "High School",
         1462,
         4018000,
         123000,
         "Retail Trade",
         "Female",
         "11/1/2000",
         7
        ],
        [
         "High School",
         1461,
         4004000,
         132000,
         "Retail Trade",
         "Male",
         "10/1/2000",
         9
        ],
        [
         "High School",
         1460,
         3990000,
         140000,
         "Retail Trade",
         "Female",
         "9/1/2000",
         10
        ],
        [
         "High School",
         1459,
         3974000,
         149000,
         "Retail Trade",
         "Male",
         "8/1/2000",
         11
        ],
        [
         "High School",
         1458,
         3958000,
         157000,
         "Retail Trade",
         "Female",
         "7/1/2000",
         13
        ],
        [
         "High School",
         1457,
         3942000,
         165000,
         "Retail Trade",
         "Male",
         "6/1/2000",
         17
        ],
        [
         "High School",
         1456,
         3925000,
         173000,
         "Retail Trade",
         "Female",
         "5/1/2000",
         19
        ],
        [
         "High School",
         1455,
         3907000,
         182000,
         "Retail Trade",
         "Male",
         "4/1/2000",
         21
        ],
        [
         "High School",
         1439,
         5625,
         276,
         "Technology",
         "Male",
         "12/1/1999",
         25
        ],
        [
         "High School",
         1454,
         3889000,
         191000,
         "Retail Trade",
         "Female",
         "3/1/2000",
         27
        ],
        [
         "High School",
         1437,
         5571,
         274,
         "Education",
         "Male",
         "10/1/1999",
         29
        ],
        [
         "High School",
         1428,
         5200,
         258,
         "Technology",
         "Female",
         "8/1/1999",
         31
        ],
        [
         "High School",
         1426,
         5118,
         260,
         "Education",
         "Female",
         "6/1/1999",
         36
        ],
        [
         "High School",
         1453,
         3871000,
         199000,
         "Retail Trade",
         "Male",
         "2/1/2000",
         38
        ],
        [
         "High School",
         1451,
         5800,
         300,
         "Manufacturing",
         "Male",
         "12/1/2000",
         39
        ],
        [
         "High School",
         1508,
         4660495,
         248411,
         "Construction",
         "Female",
         "9/1/2002",
         43
        ],
        [
         "High School",
         1424,
         5022,
         269,
         "Technology",
         "Female",
         "4/1/1999",
         44
        ],
        [
         "High School",
         1452,
         3853000,
         208000,
         "Retail Trade",
         "Female",
         "1/1/2000",
         46
        ],
        [
         "High School",
         1448,
         5500,
         300,
         "Retail",
         "Female",
         "9/1/2000",
         48
        ],
        [
         "High School",
         1421,
         4876,
         269,
         "Finance",
         "Male",
         "1/1/1999",
         54
        ],
        [
         "High School",
         1265,
         12351400,
         710600,
         "Retail",
         "Female",
         "1/1/2020",
         62
        ],
        [
         "High School",
         1445,
         5200,
         300,
         "Manufacturing",
         "Male",
         "6/1/2000",
         66
        ],
        [
         "High School",
         1504,
         4627225,
         266990,
         "Education",
         "Female",
         "5/1/2002",
         67
        ],
        [
         "High School",
         1370,
         5295262,
         313570,
         "Manufacturing",
         "Female",
         "10/1/1997",
         74
        ],
        [
         "High School",
         1470,
         3877827,
         234000,
         "Education",
         "Female",
         "7/1/2001",
         81
        ],
        [
         "High School",
         1382,
         7498000,
         455000,
         "Manufacturing",
         "Female",
         "10/1/1998",
         89
        ],
        [
         "High School",
         1349,
         6685000,
         406000,
         "Construction",
         "Male",
         "7/1/1996",
         91
        ],
        [
         "High School",
         1465,
         3808680,
         232000,
         "Healthcare",
         "Male",
         "2/1/2001",
         92
        ],
        [
         "High School",
         1442,
         4900,
         300,
         "Healthcare",
         "Female",
         "3/1/2000",
         97
        ],
        [
         "High School",
         1473,
         3918491,
         240000,
         "Healthcare",
         "Male",
         "10/1/2001",
         98
        ],
        [
         "High School",
         1500,
         4600112,
         282730,
         "Manufacturing",
         "Female",
         "1/1/2002",
         100
        ],
        [
         "High School",
         1376,
         7386000,
         455000,
         "Retail",
         "Female",
         "4/1/1998",
         102
        ],
        [
         "High School",
         1468,
         3849511,
         238000,
         "Technology",
         "Female",
         "5/1/2001",
         105
        ],
        [
         "High School",
         1379,
         7438000,
         461000,
         "Financial Services",
         "Male",
         "7/1/1998",
         107
        ],
        [
         "High School",
         1366,
         5213332,
         326589,
         "Health Care",
         "Female",
         "6/1/1997",
         114
        ],
        [
         "High School",
         1373,
         7323000,
         461000,
         "Education Services",
         "Male",
         "1/1/1998",
         117
        ],
        [
         "High School",
         861,
         6622000,
         422000,
         "Transportation",
         "Female",
         "8/1/2010",
         118
        ],
        [
         "High School",
         1345,
         6622000,
         422000,
         "Health Care",
         "Male",
         "5/1/1996",
         118
        ],
        [
         "High School",
         832,
         6622000,
         422000,
         "Finance",
         "Male",
         "1/1/2010",
         118
        ],
        [
         "High School",
         1488,
         94000,
         6000,
         "Finance",
         "Female",
         "1/1/2002",
         119
        ],
        [
         "High School",
         1440,
         4700,
         300,
         "Finance",
         "Female",
         "1/1/2000",
         119
        ],
        [
         "High School",
         1491,
         91000,
         6000,
         "Manufacturing",
         "Male",
         "4/1/2002",
         134
        ],
        [
         "High School",
         1419,
         8960700,
         593300,
         "Education",
         "Male",
         "11/1/1999",
         139
        ],
        [
         "High School",
         1416,
         8900500,
         599500,
         "Retail",
         "Female",
         "8/1/1999",
         148
        ],
        [
         "High School",
         1341,
         6555000,
         443000,
         "Retail",
         "Male",
         "3/1/1996",
         150
        ],
        [
         "High School",
         837,
         6555000,
         443000,
         "Manufacturing",
         "Female",
         "2/1/2010",
         150
        ],
        [
         "High School",
         1361,
         5128562,
         349587,
         "Construction",
         "Male",
         "1/1/1997",
         154
        ],
        [
         "High School",
         1494,
         88000,
         6000,
         "Retail",
         "Female",
         "7/1/2002",
         155
        ],
        [
         "High School",
         1244,
         17630700,
         1209200,
         "Manufacturing",
         "Male",
         "8/1/2019",
         162
        ],
        [
         "High School",
         1359,
         8674000,
         595000,
         "Retail",
         "Male",
         "12/1/1996",
         163
        ],
        [
         "High School",
         825,
         3878000,
         267000,
         "Finance",
         "Female",
         "11/1/2009",
         166
        ],
        [
         "High School",
         1322,
         2890000,
         200000,
         "Healthcare",
         "Female",
         "10/1/1995",
         172
        ],
        [
         "High School",
         1411,
         8802600,
         609400,
         "Retail",
         "Male",
         "3/1/1999",
         173
        ],
        [
         "High School",
         1337,
         6489000,
         453000,
         "Manufacturing",
         "Male",
         "1/1/1996",
         181
        ],
        [
         "High School",
         1319,
         2860000,
         200000,
         "Manufacturing",
         "Male",
         "7/1/1995",
         183
        ],
        [
         "High School",
         1497,
         85000,
         6000,
         "Technology",
         "Male",
         "10/1/2002",
         188
        ],
        [
         "High School",
         1316,
         2830000,
         200000,
         "Healthcare",
         "Female",
         "4/1/1995",
         190
        ],
        [
         "High School",
         1355,
         8645000,
         616000,
         "Healthcare",
         "Male",
         "10/1/1996",
         196
        ],
        [
         "High School",
         1185,
         11778600,
         850500,
         "Retail",
         "Female",
         "5/1/2017",
         203
        ],
        [
         "High School",
         1482,
         3752561,
         271675,
         "Healthcare",
         "Female",
         "7/1/2001",
         206
        ],
        [
         "High School",
         1216,
         17378000,
         1262300,
         "Manufacturing",
         "Male",
         "1/1/2019",
         210
        ],
        [
         "High School",
         1486,
         3744076,
         272945,
         "Retail",
         "Female",
         "11/1/2001",
         218
        ],
        [
         "High School",
         1172,
         15024600,
         1112100,
         "Retail",
         "Male",
         "2/1/2017",
         225
        ],
        [
         "High School",
         1478,
         3740556,
         278840,
         "Healthcare",
         "Female",
         "3/1/2001",
         234
        ],
        [
         "High School",
         1333,
         3237700,
         243900,
         "Technology",
         "Male",
         "9/1/1995",
         246
        ],
        [
         "High School",
         1329,
         3231600,
         245200,
         "Retail",
         "Male",
         "5/1/1995",
         254
        ],
        [
         "High School",
         1398,
         3111020,
         237180,
         "Retail",
         "Female",
         "2/1/1998",
         264
        ],
        [
         "High School",
         1161,
         11566700,
         883800,
         "Construction",
         "Female",
         "11/1/2016",
         269
        ],
        [
         "High School",
         1325,
         3222600,
         246300,
         "Education",
         "Male",
         "1/1/1995",
         270
        ],
        [
         "High School",
         1149,
         11611300,
         889200,
         "Financial Services",
         "Female",
         "8/1/2016",
         275
        ],
        [
         "High School",
         848,
         378000,
         29000,
         "Hospitality",
         "Male",
         "5/1/2010",
         278
        ],
        [
         "High School",
         1402,
         3122690,
         240510,
         "Manufacturing",
         "Female",
         "6/1/1998",
         283
        ],
        [
         "High School",
         1406,
         3132460,
         244940,
         "Financial Services",
         "Female",
         "10/1/1998",
         302
        ],
        [
         "High School",
         1144,
         14351200,
         1127700,
         "Energy",
         "Male",
         "7/1/2016",
         306
        ],
        [
         "High School",
         1140,
         14301100,
         1127800,
         "Technology",
         "Male",
         "6/1/2016",
         312
        ],
        [
         "High School",
         1305,
         11673000,
         1045400,
         "Education",
         "Female",
         "11/1/2020",
         365
        ],
        [
         "High School",
         949,
         11331000,
         1024200,
         "Retail",
         "Female",
         "6/1/2012",
         371
        ],
        [
         "High School",
         1393,
         3335300,
         303900,
         "Technology",
         "Male",
         "9/1/1997",
         375
        ],
        [
         "High School",
         1289,
         12027800,
         1109000,
         "Finance",
         "Female",
         "7/1/2020",
         380
        ],
        [
         "High School",
         1390,
         3312500,
         310800,
         "Financial Services",
         "Female",
         "6/1/1997",
         388
        ],
        [
         "High School",
         992,
         14085800,
         1330000,
         "Hospitality",
         "Male",
         "5/1/2013",
         392
        ],
        [
         "High School",
         1387,
         3291500,
         313900,
         "Healthcare",
         "Male",
         "3/1/1997",
         398
        ],
        [
         "High School",
         984,
         13973800,
         1335800,
         "Health Care",
         "Male",
         "3/1/2013",
         400
        ],
        [
         "High School",
         1056,
         15984100,
         1615600,
         "Construction",
         "Male",
         "9/1/2014",
         415
        ],
        [
         "High School",
         1048,
         15914400,
         1646700,
         "Professional and Business Services",
         "Male",
         "7/1/2014",
         426
        ],
        [
         "High School",
         932,
         15891000,
         1692700,
         "Manufacturing",
         "Male",
         "2/1/2012",
         444
        ],
        [
         "High School",
         901,
         11047400,
         1192800,
         "Finance",
         "Female",
         "6/1/2011",
         450
        ],
        [
         "High School",
         965,
         11224400,
         1227200,
         "Construction",
         "Female",
         "10/1/2012",
         456
        ],
        [
         "High School",
         889,
         10925200,
         1212400,
         "Construction",
         "Female",
         "3/1/2011",
         469
        ],
        [
         "High School",
         961,
         81000,
         9000,
         "Hospitality",
         "Female",
         "9/1/2012",
         470
        ],
        [
         "High School",
         141,
         810000,
         90000,
         "Retail",
         "Female",
         "8/1/1995",
         470
        ],
        [
         "High School",
         1284,
         121500,
         13500,
         "Technology",
         "Male",
         "6/1/2020",
         470
        ],
        [
         "High School",
         1041,
         81000,
         9000,
         "Trade, Transportation, and Utilities",
         "Female",
         "5/1/2014",
         470
        ],
        [
         "High School",
         1012,
         81000,
         9000,
         "Retail",
         "Male",
         "10/1/2013",
         470
        ],
        [
         "High School",
         929,
         81000,
         9000,
         "Hospitality",
         "Female",
         "1/1/2012",
         470
        ],
        [
         "High School",
         873,
         11052600,
         1228900,
         "Manufacturing",
         "Female",
         "11/1/2010",
         471
        ],
        [
         "High School",
         1025,
         11142500,
         1280400,
         "finance",
         "Female",
         "1/1/2014",
         483
        ],
        [
         "High School",
         997,
         10980700,
         1265900,
         "Hospitality",
         "Female",
         "6/1/2013",
         485
        ],
        [
         "High School",
         1093,
         10906500,
         1283100,
         "Hospitality",
         "Female",
         "6/1/2015",
         492
        ],
        [
         "High School",
         1430,
         405000,
         50000,
         "Finance",
         "Female",
         "2/1/1999",
         501
        ],
        [
         "High School",
         1433,
         418000,
         52000,
         "Healthcare",
         "Male",
         "5/1/1999",
         504
        ],
        [
         "High School",
         1429,
         400000,
         50000,
         "Finance",
         "Male",
         "1/1/1999",
         505
        ],
        [
         "High School",
         1434,
         422000,
         53000,
         "Healthcare",
         "Female",
         "6/1/1999",
         508
        ],
        [
         "High School",
         921,
         10837500,
         1427100,
         "Hospitality",
         "Female",
         "11/1/2011",
         524
        ],
        [
         "High School",
         1069,
         10512000,
         1386900,
         "Technology",
         "Female",
         "12/1/2014",
         525
        ],
        [
         "High School",
         1089,
         10633300,
         1410200,
         "Education",
         "Female",
         "5/1/2015",
         528
        ],
        [
         "High School",
         1081,
         10587600,
         1406500,
         "Finance",
         "Female",
         "3/1/2015",
         533
        ],
        [
         "High School",
         868,
         14799100,
         2104800,
         "Hospitality",
         "Male",
         "10/1/2010",
         540
        ],
        [
         "High School",
         896,
         16016000,
         2323800,
         "Hospitality",
         "Male",
         "5/1/2011",
         546
        ],
        [
         "High School",
         912,
         14723600,
         2199800,
         "Manufacturing",
         "Male",
         "9/1/2011",
         553
        ],
        [
         "High School",
         884,
         15860200,
         2382900,
         "Finance",
         "Male",
         "2/1/2011",
         556
        ]
       ],
       "datasetInfos": [],
       "dbfsResultPath": null,
       "isJsonSchema": true,
       "metadata": {},
       "overflow": false,
       "plotOptions": {
        "customPlotOptions": {},
        "displayType": "table",
        "pivotAggregation": null,
        "pivotColumns": null,
        "xColumns": null,
        "yColumns": null
       },
       "removedWidgets": [],
       "schema": [
        {
         "metadata": "{}",
         "name": "Education_Level",
         "type": "\"string\""
        },
        {
         "metadata": "{}",
         "name": "Line_Number",
         "type": "\"integer\""
        },
        {
         "metadata": "{}",
         "name": "Employed",
         "type": "\"integer\""
        },
        {
         "metadata": "{}",
         "name": "Unemployed",
         "type": "\"integer\""
        },
        {
         "metadata": "{}",
         "name": "Industry",
         "type": "\"string\""
        },
        {
         "metadata": "{}",
         "name": "Gender",
         "type": "\"string\""
        },
        {
         "metadata": "{}",
         "name": "Date_Inserted",
         "type": "\"string\""
        },
        {
         "metadata": "{}",
         "name": "dense_rank",
         "type": "\"integer\""
        }
       ],
       "type": "table"
      }
     },
     "output_type": "display_data"
    }
   ],
   "source": [
    "#read in pyspark\n",
    "\n",
    "display(spark.read.format('delta').load('dbfs:/user/hive/warehouse/delta.db/deltaspark'))"
   ]
  }
 ],
 "metadata": {
  "application/vnd.databricks.v1+notebook": {
   "dashboards": [],
   "language": "python",
   "notebookMetadata": {
    "pythonIndentUnit": 4
   },
   "notebookName": "creating delta tables using pyspark",
   "widgets": {}
  }
 },
 "nbformat": 4,
 "nbformat_minor": 0
}
