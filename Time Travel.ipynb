{
 "cells": [
  {
   "cell_type": "markdown",
   "metadata": {
    "application/vnd.databricks.v1+cell": {
     "cellMetadata": {},
     "inputWidgets": {},
     "nuid": "bc34f5bd-632d-476c-a98a-1ae97a065c6f",
     "showTitle": false,
     "title": ""
    }
   },
   "source": [
    "1. Delta Automatically versions every operation that you perform . You can time travel to historical versions \n",
    "2. This versioning makes it easy to audit data changes, roll back data in case of accidental bad writes or deletes and reproduce experiments and reports"
   ]
  },
  {
   "cell_type": "code",
   "execution_count": 0,
   "metadata": {
    "application/vnd.databricks.v1+cell": {
     "cellMetadata": {
      "byteLimit": 2048000,
      "rowLimit": 10000
     },
     "inputWidgets": {},
     "nuid": "de3336fc-3405-4a18-82e3-f1b0cfdc62cb",
     "showTitle": false,
     "title": ""
    }
   },
   "outputs": [],
   "source": [
    "from pyspark.sql.types import *"
   ]
  },
  {
   "cell_type": "code",
   "execution_count": 0,
   "metadata": {
    "application/vnd.databricks.v1+cell": {
     "cellMetadata": {
      "byteLimit": 2048000,
      "rowLimit": 10000
     },
     "inputWidgets": {},
     "nuid": "6ef9a497-35af-44ba-8a63-c25c3f22a40d",
     "showTitle": false,
     "title": ""
    }
   },
   "outputs": [],
   "source": [
    "path='dbfs:/mnt/DeltaLake/Test/SchemaManagementDelta.csv'\n",
    "\n",
    "df = spark.read.format('csv').option('Header', True).option('inferSchema', True).load(path=path)"
   ]
  },
  {
   "cell_type": "code",
   "execution_count": 0,
   "metadata": {
    "application/vnd.databricks.v1+cell": {
     "cellMetadata": {
      "byteLimit": 2048000,
      "rowLimit": 10000
     },
     "inputWidgets": {},
     "nuid": "26cd4683-368f-4224-b940-178522408f00",
     "showTitle": false,
     "title": ""
    }
   },
   "outputs": [
    {
     "output_type": "stream",
     "name": "stdout",
     "output_type": "stream",
     "text": [
      "root\n |-- Education_Level: string (nullable = true)\n |-- Line_Number: integer (nullable = true)\n |-- Employed: integer (nullable = true)\n |-- Unemployed: integer (nullable = true)\n |-- Industry: string (nullable = true)\n |-- Gender: string (nullable = true)\n |-- Date_Inserted: string (nullable = true)\n |-- dense_rank: integer (nullable = true)\n\n"
     ]
    }
   ],
   "source": [
    "df.printSchema()"
   ]
  },
  {
   "cell_type": "code",
   "execution_count": 0,
   "metadata": {
    "application/vnd.databricks.v1+cell": {
     "cellMetadata": {
      "byteLimit": 2048000,
      "rowLimit": 10000
     },
     "inputWidgets": {},
     "nuid": "fd387f3a-3925-4470-9281-cb534bc63dda",
     "showTitle": false,
     "title": ""
    }
   },
   "outputs": [],
   "source": [
    "## write to delta table \n",
    "\n",
    "df.write.format('delta').mode('overwrite').saveAsTable('`delta`.VersionTable')"
   ]
  },
  {
   "cell_type": "code",
   "execution_count": 0,
   "metadata": {
    "application/vnd.databricks.v1+cell": {
     "cellMetadata": {
      "byteLimit": 2048000,
      "implicitDf": true,
      "rowLimit": 10000
     },
     "inputWidgets": {},
     "nuid": "f145f177-82cb-4c26-a47f-6b463e0ba5ae",
     "showTitle": false,
     "title": ""
    }
   },
   "outputs": [
    {
     "output_type": "display_data",
     "data": {
      "text/html": [
       "<style scoped>\n",
       "  .table-result-container {\n",
       "    max-height: 300px;\n",
       "    overflow: auto;\n",
       "  }\n",
       "  table, th, td {\n",
       "    border: 1px solid black;\n",
       "    border-collapse: collapse;\n",
       "  }\n",
       "  th, td {\n",
       "    padding: 5px;\n",
       "  }\n",
       "  th {\n",
       "    text-align: left;\n",
       "  }\n",
       "</style><div class='table-result-container'><table class='table-result'><thead style='background-color: white'><tr><th>Education_Level</th><th>Line_Number</th><th>Employed</th><th>Unemployed</th><th>Industry</th><th>Gender</th><th>Date_Inserted</th><th>dense_rank</th></tr></thead><tbody><tr><td>Bachelor's Degree</td><td>326</td><td>118000</td><td>2000</td><td>Agriculture</td><td>Male</td><td>6/1/1999</td><td>1</td></tr><tr><td>High School Diploma</td><td>195</td><td>11134000</td><td>240000</td><td>Agriculture</td><td>Female</td><td>9/1/1996</td><td>2</td></tr><tr><td>High School Diploma</td><td>129</td><td>675000</td><td>15000</td><td>Retail</td><td>Female</td><td>5/1/1995</td><td>3</td></tr><tr><td>Master's Degree</td><td>406</td><td>131500</td><td>3500</td><td>Agriculture</td><td>Male</td><td>2/1/2001</td><td>4</td></tr><tr><td>High School</td><td>1463</td><td>4031000</td><td>115000</td><td>Retail Trade</td><td>Male</td><td>12/1/2000</td><td>5</td></tr><tr><td>Bachelor's Degree</td><td>426</td><td>136900</td><td>4100</td><td>Manufacturing</td><td>Male</td><td>7/1/2001</td><td>6</td></tr><tr><td>Bachelor's Degree</td><td>458</td><td>136900</td><td>4100</td><td>Agriculture</td><td>Male</td><td>3/1/2002</td><td>6</td></tr><tr><td>Bachelor's Degree</td><td>410</td><td>136900</td><td>4100</td><td>Agriculture</td><td>Male</td><td>3/1/2001</td><td>6</td></tr><tr><td>High School</td><td>1462</td><td>4018000</td><td>123000</td><td>Retail Trade</td><td>Female</td><td>11/1/2000</td><td>7</td></tr><tr><td>Associate's Degree</td><td>507</td><td>53350</td><td>1650</td><td>Education</td><td>Male</td><td>3/1/2003</td><td>8</td></tr><tr><td>High School</td><td>1461</td><td>4004000</td><td>132000</td><td>Retail Trade</td><td>Male</td><td>10/1/2000</td><td>9</td></tr><tr><td>High School</td><td>1460</td><td>3990000</td><td>140000</td><td>Retail Trade</td><td>Female</td><td>9/1/2000</td><td>10</td></tr><tr><td>High School</td><td>1459</td><td>3974000</td><td>149000</td><td>Retail Trade</td><td>Male</td><td>8/1/2000</td><td>11</td></tr><tr><td>High School Diploma</td><td>442</td><td>154900</td><td>6100</td><td>Healthcare</td><td>Male</td><td>11/1/2001</td><td>12</td></tr><tr><td>High School</td><td>1458</td><td>3958000</td><td>157000</td><td>Retail Trade</td><td>Female</td><td>7/1/2000</td><td>13</td></tr><tr><td>Bachelor's Degree</td><td>520</td><td>86500</td><td>3500</td><td>Energy</td><td>Male</td><td>7/1/2003</td><td>14</td></tr><tr><td>Bachelor's Degree</td><td>1213</td><td>11908700</td><td>483400</td><td>Health Care</td><td>Female</td><td>12/1/2017</td><td>15</td></tr><tr><td>Bachelor's Degree</td><td>371</td><td>192000</td><td>8000</td><td>Finance</td><td>Female</td><td>5/1/2000</td><td>16</td></tr><tr><td>High School</td><td>1457</td><td>3942000</td><td>165000</td><td>Retail Trade</td><td>Male</td><td>6/1/2000</td><td>17</td></tr><tr><td>Bachelor's Degree</td><td>434</td><td>182000</td><td>8000</td><td>Agriculture</td><td>Male</td><td>9/1/2001</td><td>18</td></tr><tr><td>High School</td><td>1456</td><td>3925000</td><td>173000</td><td>Retail Trade</td><td>Female</td><td>5/1/2000</td><td>19</td></tr><tr><td>High School Diploma</td><td>511</td><td>76500</td><td>3500</td><td>Agriculture</td><td>Female</td><td>4/1/2003</td><td>20</td></tr><tr><td>High School</td><td>1455</td><td>3907000</td><td>182000</td><td>Retail Trade</td><td>Male</td><td>4/1/2000</td><td>21</td></tr><tr><td>High School Diploma</td><td>487</td><td>90750</td><td>4250</td><td>Healthcare</td><td>Female</td><td>10/1/2002</td><td>22</td></tr><tr><td>Bachelor's Degree</td><td>1209</td><td>11812600</td><td>570500</td><td>Financial Services</td><td>Female</td><td>11/1/2017</td><td>23</td></tr><tr><td>High School Diploma</td><td>1205</td><td>11729600</td><td>574600</td><td>Technology</td><td>Female</td><td>10/1/2017</td><td>24</td></tr><tr><td>High School</td><td>1439</td><td>5625</td><td>276</td><td>Technology</td><td>Male</td><td>12/1/1999</td><td>25</td></tr><tr><td>Master's Degree</td><td>1438</td><td>5600</td><td>275</td><td>Healthcare</td><td>Female</td><td>11/1/1999</td><td>26</td></tr><tr><td>High School</td><td>1454</td><td>3889000</td><td>191000</td><td>Retail Trade</td><td>Female</td><td>3/1/2000</td><td>27</td></tr><tr><td>Master's Degree</td><td>1511</td><td>4691822</td><td>230540</td><td>Education</td><td>Male</td><td>12/1/2002</td><td>28</td></tr><tr><td>High School</td><td>1437</td><td>5571</td><td>274</td><td>Education</td><td>Male</td><td>10/1/1999</td><td>29</td></tr><tr><td>Associate's Degree</td><td>667</td><td>81000</td><td>4000</td><td>Hospitality</td><td>Female</td><td>7/1/2006</td><td>30</td></tr><tr><td>Master's Degree</td><td>754</td><td>81000</td><td>4000</td><td>Education</td><td>Male</td><td>5/1/2008</td><td>30</td></tr><tr><td>Master's Degree</td><td>702</td><td>81000</td><td>4000</td><td>Finance</td><td>Male</td><td>4/1/2007</td><td>30</td></tr><tr><td>Associate's Degree</td><td>554</td><td>81000</td><td>4000</td><td>Professional and Business S.</td><td>Male</td><td>3/1/2004</td><td>30</td></tr><tr><td>High School Diploma</td><td>538</td><td>81000</td><td>4000</td><td>Professional and Business S.</td><td>Male</td><td>11/1/2003</td><td>30</td></tr><tr><td>Master's Degree</td><td>679</td><td>81000</td><td>4000</td><td>Hospitality</td><td>Female</td><td>10/1/2006</td><td>30</td></tr><tr><td>Associate's Degree</td><td>739</td><td>81000</td><td>4000</td><td>Hospitality</td><td>Female</td><td>1/1/2008</td><td>30</td></tr><tr><td>High School</td><td>1428</td><td>5200</td><td>258</td><td>Technology</td><td>Female</td><td>8/1/1999</td><td>31</td></tr><tr><td>Bachelor's Degree</td><td>506</td><td>93300</td><td>4700</td><td>Finance</td><td>Male</td><td>3/1/2003</td><td>32</td></tr><tr><td>College</td><td>1201</td><td>11654300</td><td>589700</td><td>Technology</td><td>Female</td><td>9/1/2017</td><td>33</td></tr><tr><td>High School Diploma</td><td>1294</td><td>11654300</td><td>589700</td><td>Retail</td><td>Male</td><td>8/1/2020</td><td>33</td></tr><tr><td>High School Diploma</td><td>1278</td><td>11654300</td><td>589700</td><td>Education</td><td>Male</td><td>4/1/2020</td><td>33</td></tr><tr><td>Bachelor's Degree</td><td>1425</td><td>5079</td><td>257</td><td>Finance</td><td>Male</td><td>5/1/1999</td><td>34</td></tr><tr><td>Bachelor's Degree</td><td>1510</td><td>4680886</td><td>236931</td><td>Information</td><td>Female</td><td>11/1/2002</td><td>35</td></tr><tr><td>High School</td><td>1426</td><td>5118</td><td>260</td><td>Education</td><td>Female</td><td>6/1/1999</td><td>36</td></tr><tr><td>Master's Degree</td><td>1427</td><td>5157</td><td>263</td><td>Healthcare</td><td>Male</td><td>7/1/1999</td><td>37</td></tr><tr><td>High School</td><td>1453</td><td>3871000</td><td>199000</td><td>Retail Trade</td><td>Male</td><td>2/1/2000</td><td>38</td></tr><tr><td>High School</td><td>1451</td><td>5800</td><td>300</td><td>Manufacturing</td><td>Male</td><td>12/1/2000</td><td>39</td></tr><tr><td>College</td><td>1509</td><td>4670674</td><td>242570</td><td>Retail</td><td>Male</td><td>10/1/2002</td><td>40</td></tr><tr><td>Graduate</td><td>1450</td><td>5700</td><td>300</td><td>Technology</td><td>Female</td><td>11/1/2000</td><td>41</td></tr><tr><td>High School Diploma</td><td>1197</td><td>11561000</td><td>615900</td><td>Technology</td><td>Female</td><td>8/1/2017</td><td>42</td></tr><tr><td>High School</td><td>1508</td><td>4660495</td><td>248411</td><td>Construction</td><td>Female</td><td>9/1/2002</td><td>43</td></tr><tr><td>Master's Degree</td><td>914</td><td>5022</td><td>269</td><td>Technology</td><td>Male</td><td>9/1/2011</td><td>44</td></tr><tr><td>High School</td><td>1424</td><td>5022</td><td>269</td><td>Technology</td><td>Female</td><td>4/1/1999</td><td>44</td></tr><tr><td>High School Diploma</td><td>1178</td><td>5022</td><td>269</td><td>Technology</td><td>Male</td><td>3/1/2017</td><td>44</td></tr><tr><td>Associate's Degree</td><td>555</td><td>5022</td><td>269</td><td>Trade, Transportation, Util.</td><td>Female</td><td>3/1/2004</td><td>44</td></tr><tr><td>Master's Degree</td><td>730</td><td>5022</td><td>269</td><td>Education</td><td>Male</td><td>11/1/2007</td><td>44</td></tr><tr><td>High School Diploma</td><td>1110</td><td>5022</td><td>269</td><td>Agriculture</td><td>Male</td><td>10/1/2015</td><td>44</td></tr><tr><td>Associate's Degree</td><td>1015</td><td>5022</td><td>269</td><td>Retail</td><td>Female</td><td>10/1/2013</td><td>44</td></tr><tr><td>Bachelor's Degree</td><td>979</td><td>5022</td><td>269</td><td>Energy</td><td>Female</td><td>1/1/2013</td><td>44</td></tr><tr><td>College</td><td>1449</td><td>5600</td><td>300</td><td>Education</td><td>Male</td><td>10/1/2000</td><td>45</td></tr><tr><td>High School</td><td>1452</td><td>3853000</td><td>208000</td><td>Retail Trade</td><td>Female</td><td>1/1/2000</td><td>46</td></tr><tr><td>Bachelor's Degree</td><td>1268</td><td>17365200</td><td>947100</td><td>Energy</td><td>Male</td><td>2/1/2020</td><td>47</td></tr><tr><td>High School</td><td>1448</td><td>5500</td><td>300</td><td>Retail</td><td>Female</td><td>9/1/2000</td><td>48</td></tr><tr><td>Master's Degree</td><td>1507</td><td>4650797</td><td>253889</td><td>Manufacturing</td><td>Male</td><td>8/1/2002</td><td>49</td></tr><tr><td>Associate's Degree</td><td>1264</td><td>17364500</td><td>951000</td><td>Technology</td><td>Male</td><td>1/1/2020</td><td>50</td></tr><tr><td>Master's Degree</td><td>1423</td><td>4965</td><td>272</td><td>Healthcare</td><td>Male</td><td>3/1/1999</td><td>51</td></tr><tr><td>Master's Degree</td><td>579</td><td>62000</td><td>3400</td><td>Finance</td><td>Female</td><td>9/1/2004</td><td>52</td></tr><tr><td>High School Diploma</td><td>1150</td><td>62000</td><td>3400</td><td>Professional and Business S.</td><td>Male</td><td>8/1/2016</td><td>52</td></tr><tr><td>High School Diploma</td><td>762</td><td>62000</td><td>3400</td><td>Hospitality</td><td>Male</td><td>7/1/2008</td><td>52</td></tr><tr><td>Master's Degree</td><td>1043</td><td>62000</td><td>3400</td><td>Agriculture</td><td>Female</td><td>5/1/2014</td><td>52</td></tr><tr><td>Associate's Degree</td><td>895</td><td>62000</td><td>3400</td><td>Hospitality</td><td>Female</td><td>4/1/2011</td><td>52</td></tr><tr><td>Associate's Degree</td><td>935</td><td>62000</td><td>3400</td><td>Professional and Business S.</td><td>Female</td><td>2/1/2012</td><td>52</td></tr><tr><td>Associate's Degree</td><td>550</td><td>62000</td><td>3400</td><td>Professional and Business S.</td><td>Male</td><td>2/1/2004</td><td>52</td></tr><tr><td>Master's Degree</td><td>1014</td><td>62000</td><td>3400</td><td>Technology</td><td>Male</td><td>10/1/2013</td><td>52</td></tr><tr><td>High School Diploma</td><td>49</td><td>62000</td><td>3400</td><td>Healthcare</td><td>Female</td><td>1/1/2022</td><td>52</td></tr><tr><td>Bachelor's Degree</td><td>1252</td><td>17489600</td><td>961400</td><td>Technology</td><td>Male</td><td>10/1/2019</td><td>53</td></tr><tr><td>High School</td><td>1421</td><td>4876</td><td>269</td><td>Finance</td><td>Male</td><td>1/1/1999</td><td>54</td></tr><tr><td>Associate's Degree</td><td>1260</td><td>17367000</td><td>959200</td><td>Technology</td><td>Male</td><td>12/1/2019</td><td>55</td></tr><tr><td>Bachelor's Degree</td><td>1422</td><td>4923</td><td>273</td><td>Education</td><td>Female</td><td>2/1/1999</td><td>56</td></tr><tr><td>Graduate</td><td>1447</td><td>5400</td><td>300</td><td>Finance</td><td>Male</td><td>8/1/2000</td><td>57</td></tr><tr><td>Bachelor's Degree</td><td>1506</td><td>4642724</td><td>258165</td><td>Healthcare</td><td>Female</td><td>7/1/2002</td><td>58</td></tr><tr><td>College</td><td>1446</td><td>5300</td><td>300</td><td>Healthcare</td><td>Female</td><td>7/1/2000</td><td>59</td></tr><tr><td>College</td><td>1505</td><td>4634769</td><td>262653</td><td>Finance</td><td>Male</td><td>6/1/2002</td><td>60</td></tr><tr><td>College</td><td>1269</td><td>12349100</td><td>706000</td><td>Hospitality</td><td>Female</td><td>2/1/2020</td><td>61</td></tr><tr><td>High School</td><td>1265</td><td>12351400</td><td>710600</td><td>Retail</td><td>Female</td><td>1/1/2020</td><td>62</td></tr><tr><td>Bachelor's Degree</td><td>1372</td><td>5329795</td><td>306760</td><td>Health Care</td><td>Female</td><td>12/1/1997</td><td>63</td></tr><tr><td>Bachelor's Degree</td><td>1261</td><td>12353300</td><td>711400</td><td>Retail</td><td>Female</td><td>12/1/2019</td><td>64</td></tr><tr><td>High School Diploma</td><td>1253</td><td>12442000</td><td>717800</td><td>Retail</td><td>Female</td><td>10/1/2019</td><td>65</td></tr><tr><td>High School</td><td>1445</td><td>5200</td><td>300</td><td>Manufacturing</td><td>Male</td><td>6/1/2000</td><td>66</td></tr><tr><td>High School</td><td>1504</td><td>4627225</td><td>266990</td><td>Education</td><td>Female</td><td>5/1/2002</td><td>67</td></tr><tr><td>Bachelor's Degree</td><td>805</td><td>12100000</td><td>700000</td><td>Finance</td><td>Female</td><td>6/1/2009</td><td>68</td></tr><tr><td>Bachelor's Degree</td><td>364</td><td>118125</td><td>6875</td><td>Education</td><td>Male</td><td>4/1/2000</td><td>69</td></tr><tr><td>Master's Degree</td><td>394</td><td>118125</td><td>6875</td><td>Healthcare</td><td>Male</td><td>11/1/2000</td><td>69</td></tr><tr><td>High School Diploma</td><td>346</td><td>118125</td><td>6875</td><td>Healthcare</td><td>Male</td><td>11/1/1999</td><td>69</td></tr><tr><td>Master's Degree</td><td>298</td><td>118125</td><td>6875</td><td>Healthcare</td><td>Male</td><td>11/1/1998</td><td>69</td></tr><tr><td>High School Diploma</td><td>789</td><td>12000000</td><td>700000</td><td>Finance</td><td>Female</td><td>2/1/2009</td><td>70</td></tr><tr><td>College</td><td>1371</td><td>5311429</td><td>310347</td><td>Finance and Insurance</td><td>Male</td><td>11/1/1997</td><td>71</td></tr><tr><td>Master's Degree</td><td>1503</td><td>4620168</td><td>271161</td><td>Information</td><td>Male</td><td>4/1/2002</td><td>72</td></tr><tr><td>Graduate</td><td>1444</td><td>5100</td><td>300</td><td>Technology</td><td>Female</td><td>5/1/2000</td><td>73</td></tr><tr><td>Associate's Degree</td><td>772</td><td>11900000</td><td>700000</td><td>Manufacturing</td><td>Male</td><td>10/1/2008</td><td>73</td></tr><tr><td>High School</td><td>1370</td><td>5295262</td><td>313570</td><td>Manufacturing</td><td>Female</td><td>10/1/1997</td><td>74</td></tr><tr><td>Bachelor's Degree</td><td>765</td><td>11800000</td><td>700000</td><td>Construction</td><td>Female</td><td>8/1/2008</td><td>75</td></tr><tr><td>Associate's Degree</td><td>1212</td><td>13584200</td><td>807000</td><td>Retail</td><td>Male</td><td>12/1/2017</td><td>76</td></tr><tr><td>Bachelor's Degree</td><td>1502</td><td>4613335</td><td>275180</td><td>Retail</td><td>Female</td><td>3/1/2002</td><td>77</td></tr><tr><td>College</td><td>1501</td><td>4610273</td><td>275713</td><td>Construction</td><td>Male</td><td>2/1/2002</td><td>78</td></tr><tr><td>College</td><td>1384</td><td>7523000</td><td>451000</td><td>Financial Services</td><td>Female</td><td>12/1/1998</td><td>79</td></tr><tr><td>College</td><td>1443</td><td>5000</td><td>300</td><td>Education</td><td>Male</td><td>4/1/2000</td><td>80</td></tr><tr><td>High School</td><td>1470</td><td>3877827</td><td>234000</td><td>Education</td><td>Female</td><td>7/1/2001</td><td>81</td></tr><tr><td>Master's Degree</td><td>1369</td><td>5279014</td><td>318584</td><td>Retail Trade</td><td>Male</td><td>9/1/1997</td><td>82</td></tr><tr><td>Bachelor's Degree</td><td>1383</td><td>7508000</td><td>454000</td><td>Education Services</td><td>Male</td><td>11/1/1998</td><td>83</td></tr><tr><td>Bachelor's Degree</td><td>1464</td><td>3802536</td><td>230000</td><td>Technology</td><td>Female</td><td>1/1/2001</td><td>84</td></tr><tr><td>Bachelor's Degree</td><td>1469</td><td>3866255</td><td>234000</td><td>Healthcare</td><td>Male</td><td>6/1/2001</td><td>85</td></tr><tr><td>College</td><td>1351</td><td>6707000</td><td>406000</td><td>Health Care</td><td>Male</td><td>8/1/1996</td><td>86</td></tr><tr><td>Master's Degree</td><td>1471</td><td>3892329</td><td>236000</td><td>Finance</td><td>Male</td><td>8/1/2001</td><td>87</td></tr><tr><td>Bachelor's Degree</td><td>1472</td><td>3908215</td><td>237000</td><td>Technology</td><td>Female</td><td>9/1/2001</td><td>88</td></tr><tr><td>High School</td><td>1382</td><td>7498000</td><td>455000</td><td>Manufacturing</td><td>Female</td><td>10/1/1998</td><td>89</td></tr><tr><td>Associate's Degree</td><td>1208</td><td>13551800</td><td>822800</td><td>Hospitality</td><td>Male</td><td>11/1/2017</td><td>90</td></tr><tr><td>High School</td><td>1349</td><td>6685000</td><td>406000</td><td>Construction</td><td>Male</td><td>7/1/1996</td><td>91</td></tr><tr><td>High School</td><td>1465</td><td>3808680</td><td>232000</td><td>Healthcare</td><td>Male</td><td>2/1/2001</td><td>92</td></tr><tr><td>Bachelor's Degree</td><td>1368</td><td>5263819</td><td>321634</td><td>Wholesale Trade</td><td>Female</td><td>8/1/1997</td><td>93</td></tr><tr><td>High School Diploma</td><td>1202</td><td>13504000</td><td>825500</td><td>Retail</td><td>Male</td><td>9/1/2017</td><td>94</td></tr><tr><td>Bachelor's Degree</td><td>1204</td><td>13504000</td><td>825500</td><td>Manufacturing</td><td>Male</td><td>10/1/2017</td><td>94</td></tr><tr><td>Bachelor's Degree</td><td>1380</td><td>7456000</td><td>456000</td><td>Healthcare Services</td><td>Female</td><td>8/1/1998</td><td>95</td></tr><tr><td>College</td><td>1381</td><td>7472000</td><td>457000</td><td>Retail</td><td>Male</td><td>9/1/1998</td><td>96</td></tr><tr><td>High School</td><td>1442</td><td>4900</td><td>300</td><td>Healthcare</td><td>Female</td><td>3/1/2000</td><td>97</td></tr><tr><td>High School</td><td>1473</td><td>3918491</td><td>240000</td><td>Healthcare</td><td>Male</td><td>10/1/2001</td><td>98</td></tr><tr><td>College</td><td>1375</td><td>7362000</td><td>451000</td><td>Healthcare Services</td><td>Male</td><td>3/1/1998</td><td>99</td></tr><tr><td>High School</td><td>1500</td><td>4600112</td><td>282730</td><td>Manufacturing</td><td>Female</td><td>1/1/2002</td><td>100</td></tr><tr><td>Bachelor's Degree</td><td>1475</td><td>3946542</td><td>243000</td><td>Finance</td><td>Male</td><td>12/1/2001</td><td>101</td></tr><tr><td>High School</td><td>1376</td><td>7386000</td><td>455000</td><td>Retail</td><td>Female</td><td>4/1/1998</td><td>102</td></tr><tr><td>Master's Degree</td><td>1466</td><td>3820902</td><td>236000</td><td>Education</td><td>Female</td><td>3/1/2001</td><td>103</td></tr><tr><td>College</td><td>1367</td><td>5240404</td><td>323914</td><td>Professional Services</td><td>Male</td><td>7/1/1997</td><td>104</td></tr><tr><td>High School</td><td>1468</td><td>3849511</td><td>238000</td><td>Technology</td><td>Female</td><td>5/1/2001</td><td>105</td></tr><tr><td>Master's Degree</td><td>1474</td><td>3929381</td><td>243000</td><td>Education</td><td>Female</td><td>11/1/2001</td><td>106</td></tr><tr><td>High School</td><td>1379</td><td>7438000</td><td>461000</td><td>Financial Services</td><td>Male</td><td>7/1/1998</td><td>107</td></tr><tr><td>Bachelor's Degree</td><td>1377</td><td>7403000</td><td>459000</td><td>Manufacturing</td><td>Male</td><td>5/1/1998</td><td>108</td></tr><tr><td>Bachelor's Degree</td><td>1374</td><td>7345000</td><td>457000</td><td>Financial Services</td><td>Female</td><td>2/1/1998</td><td>109</td></tr><tr><td>College</td><td>1378</td><td>7422000</td><td>462000</td><td>Education Services</td><td>Female</td><td>6/1/1998</td><td>110</td></tr><tr><td>Bachelor's Degree</td><td>1467</td><td>3830349</td><td>239000</td><td>Finance</td><td>Male</td><td>4/1/2001</td><td>111</td></tr><tr><td>College</td><td>1441</td><td>4800</td><td>300</td><td>Retail</td><td>Male</td><td>2/1/2000</td><td>112</td></tr><tr><td>College</td><td>1347</td><td>6649000</td><td>416000</td><td>Education</td><td>Male</td><td>6/1/1996</td><td>113</td></tr><tr><td>High School</td><td>1366</td><td>5213332</td><td>326589</td><td>Health Care</td><td>Female</td><td>6/1/1997</td><td>114</td></tr><tr><td>High School Diploma</td><td>1273</td><td>12212200</td><td>765600</td><td>Healthcare</td><td>Female</td><td>3/1/2020</td><td>115</td></tr><tr><td>Bachelor's Degree</td><td>1249</td><td>13415600</td><td>842200</td><td>Technology</td><td>Female</td><td>9/1/2019</td><td>116</td></tr><tr><td>Bachelor's Degree</td><td>1200</td><td>13415600</td><td>842200</td><td>Manufacturing</td><td>Male</td><td>9/1/2017</td><td>116</td></tr><tr><td>High School</td><td>1373</td><td>7323000</td><td>461000</td><td>Education Services</td><td>Male</td><td>1/1/1998</td><td>117</td></tr><tr><td>High School</td><td>861</td><td>6622000</td><td>422000</td><td>Transportation</td><td>Female</td><td>8/1/2010</td><td>118</td></tr><tr><td>Bachelor's Degree</td><td>813</td><td>6622000</td><td>422000</td><td>Finance</td><td>Female</td><td>8/1/2009</td><td>118</td></tr><tr><td>Master's Degree</td><td>767</td><td>6622000</td><td>422000</td><td>Energy</td><td>Female</td><td>8/1/2008</td><td>118</td></tr><tr><td>Master's Degree</td><td>575</td><td>6622000</td><td>422000</td><td>Professional and Business S.</td><td>Female</td><td>8/1/2004</td><td>118</td></tr><tr><td>Associate's Degree</td><td>611</td><td>6622000</td><td>422000</td><td>Professional and Business S.</td><td>Female</td><td>5/1/2005</td><td>118</td></tr><tr><td>High School</td><td>1345</td><td>6622000</td><td>422000</td><td>Health Care</td><td>Male</td><td>5/1/1996</td><td>118</td></tr><tr><td>Master's Degree</td><td>798</td><td>6622000</td><td>422000</td><td>Hospitality</td><td>Male</td><td>4/1/2009</td><td>118</td></tr><tr><td>High School Diploma</td><td>841</td><td>6622000</td><td>422000</td><td>Hospitality</td><td>Female</td><td>3/1/2010</td><td>118</td></tr><tr><td>High School Diploma</td><td>650</td><td>6622000</td><td>422000</td><td>Hospitality</td><td>Male</td><td>3/1/2006</td><td>118</td></tr><tr><td>Associate's Degree</td><td>683</td><td>6622000</td><td>422000</td><td>Finance</td><td>Female</td><td>11/1/2006</td><td>118</td></tr><tr><td>High School</td><td>832</td><td>6622000</td><td>422000</td><td>Finance</td><td>Male</td><td>1/1/2010</td><td>118</td></tr><tr><td>Master's Degree</td><td>286</td><td>112800</td><td>7200</td><td>Healthcare</td><td>Male</td><td>8/1/1998</td><td>119</td></tr><tr><td>Bachelor's Degree</td><td>378</td><td>112800</td><td>7200</td><td>Agriculture</td><td>Male</td><td>7/1/2000</td><td>119</td></tr><tr><td>Master's Degree</td><td>372</td><td>126900</td><td>8100</td><td>Manufacturing</td><td>Male</td><td>6/1/2000</td><td>119</td></tr><tr><td>Master's Degree</td><td>134</td><td>126900</td><td>8100</td><td>Manufacturing</td><td>Male</td><td>6/1/1995</td><td>119</td></tr><tr><td>Associate's Degree</td><td>466</td><td>103400</td><td>6600</td><td>Healthcare</td><td>Male</td><td>5/1/2002</td><td>119</td></tr><tr><td>Associate's Degree</td><td>368</td><td>103400</td><td>6600</td><td>Healthcare</td><td>Male</td><td>5/1/2000</td><td>119</td></tr><tr><td>High School Diploma</td><td>344</td><td>89300</td><td>5700</td><td>Healthcare</td><td>Male</td><td>11/1/1999</td><td>119</td></tr><tr><td>High School</td><td>1488</td><td>94000</td><td>6000</td><td>Finance</td><td>Female</td><td>1/1/2002</td><td>119</td></tr><tr><td>Bachelor's Degree</td><td>352</td><td>112800</td><td>7200</td><td>Education</td><td>Male</td><td>1/1/2000</td><td>119</td></tr><tr><td>High School</td><td>1440</td><td>4700</td><td>300</td><td>Finance</td><td>Female</td><td>1/1/2000</td><td>119</td></tr><tr><td>Bachelor's Degree</td><td>1196</td><td>13353200</td><td>855500</td><td>Manufacturing</td><td>Male</td><td>8/1/2017</td><td>120</td></tr><tr><td>High School Diploma</td><td>1190</td><td>13353200</td><td>855500</td><td>Education</td><td>Male</td><td>6/1/2017</td><td>120</td></tr><tr><td>Bachelor's Degree</td><td>1234</td><td>13353200</td><td>855500</td><td>Education</td><td>Male</td><td>5/1/2019</td><td>120</td></tr><tr><td>Master's Degree</td><td>1139</td><td>13353200</td><td>855500</td><td>Manufacturing</td><td>Female</td><td>5/1/2016</td><td>120</td></tr><tr><td>Bachelor's Degree</td><td>1159</td><td>13353200</td><td>855500</td><td>Agriculture</td><td>Female</td><td>10/1/2016</td><td>120</td></tr><tr><td>Bachelor's Degree</td><td>338</td><td>79875</td><td>5125</td><td>Energy</td><td>Male</td><td>9/1/1999</td><td>121</td></tr><tr><td>High School Diploma</td><td>365</td><td>79875</td><td>5125</td><td>Energy</td><td>Female</td><td>4/1/2000</td><td>121</td></tr><tr><td>Associate's Degree</td><td>395</td><td>79875</td><td>5125</td><td>Retail</td><td>Female</td><td>11/1/2000</td><td>121</td></tr><tr><td>Bachelor's Degree</td><td>347</td><td>79875</td><td>5125</td><td>Finance</td><td>Female</td><td>11/1/1999</td><td>121</td></tr><tr><td>Bachelor's Degree</td><td>299</td><td>79875</td><td>5125</td><td>Manufacturing</td><td>Female</td><td>11/1/1998</td><td>121</td></tr><tr><td>Doctorate</td><td>1365</td><td>5197536</td><td>335384</td><td>Education Services</td><td>Male</td><td>5/1/1997</td><td>122</td></tr><tr><td>High School Diploma</td><td>314</td><td>98625</td><td>6375</td><td>Healthcare</td><td>Female</td><td>3/1/1999</td><td>123</td></tr><tr><td>Associate's Degree</td><td>356</td><td>98625</td><td>6375</td><td>Healthcare</td><td>Male</td><td>2/1/2000</td><td>123</td></tr><tr><td>College</td><td>860</td><td>3929000</td><td>254000</td><td>Retail</td><td>Male</td><td>8/1/2010</td><td>124</td></tr><tr><td>Associate's Degree</td><td>812</td><td>3929000</td><td>254000</td><td>Manufacturing</td><td>Male</td><td>8/1/2009</td><td>124</td></tr><tr><td>High School Diploma</td><td>766</td><td>3929000</td><td>254000</td><td>Professional and Business S.</td><td>Male</td><td>8/1/2008</td><td>124</td></tr><tr><td>High School Diploma</td><td>574</td><td>3929000</td><td>254000</td><td>Finance</td><td>Male</td><td>8/1/2004</td><td>124</td></tr><tr><td>Master's Degree</td><td>610</td><td>3929000</td><td>254000</td><td>Energy</td><td>Male</td><td>5/1/2005</td><td>124</td></tr><tr><td>High School Diploma</td><td>797</td><td>3929000</td><td>254000</td><td>Finance</td><td>Female</td><td>4/1/2009</td><td>124</td></tr><tr><td>Master's Degree</td><td>1344</td><td>3929000</td><td>254000</td><td>Manufacturing</td><td>Female</td><td>4/1/1996</td><td>124</td></tr><tr><td>Bachelor's Degree</td><td>840</td><td>3929000</td><td>254000</td><td>Hospitality</td><td>Male</td><td>3/1/2010</td><td>124</td></tr><tr><td>High School Diploma</td><td>649</td><td>3929000</td><td>254000</td><td>Healthcare</td><td>Female</td><td>3/1/2006</td><td>124</td></tr><tr><td>Master's Degree</td><td>831</td><td>3929000</td><td>254000</td><td>Energy</td><td>Female</td><td>12/1/2009</td><td>124</td></tr><tr><td>High School Diploma</td><td>682</td><td>3929000</td><td>254000</td><td>Professional and Business S.</td><td>Male</td><td>11/1/2006</td><td>124</td></tr><tr><td>Associate's Degree</td><td>856</td><td>3909000</td><td>253000</td><td>Hospitality</td><td>Male</td><td>7/1/2010</td><td>125</td></tr><tr><td>Master's Degree</td><td>808</td><td>3909000</td><td>253000</td><td>Hospitality</td><td>Male</td><td>7/1/2009</td><td>125</td></tr><tr><td>College</td><td>793</td><td>3909000</td><td>253000</td><td>Trade, Transportation, Util.</td><td>Female</td><td>3/1/2009</td><td>125</td></tr><tr><td>Bachelor's Degree</td><td>836</td><td>3909000</td><td>253000</td><td>Finance</td><td>Male</td><td>2/1/2010</td><td>125</td></tr><tr><td>High School Diploma</td><td>645</td><td>3909000</td><td>253000</td><td>Agriculture</td><td>Female</td><td>2/1/2006</td><td>125</td></tr><tr><td>Master's Degree</td><td>1340</td><td>3909000</td><td>253000</td><td>Health Care</td><td>Female</td><td>2/1/1996</td><td>125</td></tr><tr><td>Master's Degree</td><td>827</td><td>3909000</td><td>253000</td><td>Hospitality</td><td>Female</td><td>11/1/2009</td><td>125</td></tr><tr><td>High School Diploma</td><td>858</td><td>3914000</td><td>254000</td><td>Professional and Business S.</td><td>Male</td><td>7/1/2010</td><td>126</td></tr><tr><td>Bachelor's Degree</td><td>810</td><td>3914000</td><td>254000</td><td>Hospitality</td><td>Male</td><td>7/1/2009</td><td>126</td></tr><tr><td>Master's Degree</td><td>890</td><td>3914000</td><td>254000</td><td>Professional and Business S.</td><td>Male</td><td>3/1/2011</td><td>126</td></tr><tr><td>Master's Degree</td><td>795</td><td>3914000</td><td>254000</td><td>Energy</td><td>Female</td><td>3/1/2009</td><td>126</td></tr><tr><td>Bachelor's Degree</td><td>1342</td><td>3914000</td><td>254000</td><td>Financial Sector</td><td>Female</td><td>3/1/1996</td><td>126</td></tr><tr><td>Master's Degree</td><td>838</td><td>3914000</td><td>254000</td><td>Professional and Business S.</td><td>Male</td><td>2/1/2010</td><td>126</td></tr><tr><td>Associate's Degree</td><td>647</td><td>3914000</td><td>254000</td><td>Hospitality</td><td>Female</td><td>2/1/2006</td><td>126</td></tr><tr><td>Bachelor's Degree</td><td>829</td><td>3914000</td><td>254000</td><td>Health Care</td><td>Female</td><td>12/1/2009</td><td>126</td></tr><tr><td>Bachelor's Degree</td><td>869</td><td>3914000</td><td>254000</td><td>Health Care</td><td>Female</td><td>10/1/2010</td><td>126</td></tr><tr><td>Master's Degree</td><td>866</td><td>6590000</td><td>429000</td><td>Finance</td><td>Male</td><td>9/1/2010</td><td>127</td></tr><tr><td>Master's Degree</td><td>859</td><td>6590000</td><td>429000</td><td>Energy</td><td>Female</td><td>7/1/2010</td><td>127</td></tr><tr><td>Bachelor's Degree</td><td>811</td><td>6590000</td><td>429000</td><td>Hospitality</td><td>Female</td><td>7/1/2009</td><td>127</td></tr><tr><td>Bachelor's Degree</td><td>796</td><td>6590000</td><td>429000</td><td>Finance</td><td>Male</td><td>4/1/2009</td><td>127</td></tr><tr><td>College</td><td>1343</td><td>6590000</td><td>429000</td><td>Construction</td><td>Male</td><td>4/1/1996</td><td>127</td></tr><tr><td>Associate's Degree</td><td>891</td><td>6590000</td><td>429000</td><td>Energy</td><td>Female</td><td>3/1/2011</td><td>127</td></tr><tr><td>Bachelor's Degree</td><td>648</td><td>6590000</td><td>429000</td><td>Energy</td><td>Male</td><td>3/1/2006</td><td>127</td></tr><tr><td>Associate's Degree</td><td>839</td><td>6590000</td><td>429000</td><td>Energy</td><td>Female</td><td>2/1/2010</td><td>127</td></tr><tr><td>High School Diploma</td><td>830</td><td>6590000</td><td>429000</td><td>Professional and Business S.</td><td>Male</td><td>12/1/2009</td><td>127</td></tr><tr><td>Master's Degree</td><td>870</td><td>6590000</td><td>429000</td><td>finance</td><td>Male</td><td>10/1/2010</td><td>127</td></tr><tr><td>Master's Degree</td><td>1352</td><td>3980000</td><td>260000</td><td>Retail</td><td>Female</td><td>8/1/1996</td><td>128</td></tr><tr><td>Associate's Degree</td><td>764</td><td>18300000</td><td>1200000</td><td>Information</td><td>Male</td><td>8/1/2008</td><td>129</td></tr><tr><td>High School Diploma</td><td>790</td><td>18300000</td><td>1200000</td><td>Hospitality</td><td>Male</td><td>2/1/2009</td><td>129</td></tr><tr><td>Bachelor's Degree</td><td>1420</td><td>8981500</td><td>590500</td><td>Construction</td><td>Female</td><td>12/1/1999</td><td>130</td></tr><tr><td>Associate's Degree</td><td>768</td><td>18250000</td><td>1200000</td><td>Finance</td><td>Male</td><td>9/1/2008</td><td>131</td></tr><tr><td>Master's Degree</td><td>877</td><td>18250000</td><td>1200000</td><td>Retail</td><td>Female</td><td>12/1/2010</td><td>131</td></tr><tr><td>Master's Degree</td><td>272</td><td>14750000</td><td>970000</td><td>Healthcare</td><td>Male</td><td>5/1/1998</td><td>132</td></tr><tr><td>Master's Degree</td><td>382</td><td>152000</td><td>10000</td><td>Healthcare</td><td>Male</td><td>8/1/2000</td><td>133</td></tr><tr><td>High School</td><td>1491</td><td>91000</td><td>6000</td><td>Manufacturing</td><td>Male</td><td>4/1/2002</td><td>134</td></tr><tr><td>Bachelor's Degree</td><td>1346</td><td>3940000</td><td>260000</td><td>Retail</td><td>Female</td><td>5/1/1996</td><td>135</td></tr><tr><td>Master's Degree</td><td>1348</td><td>3952000</td><td>261000</td><td>Financial Sector</td><td>Female</td><td>6/1/1996</td><td>136</td></tr><tr><td>Bachelor's Degree</td><td>784</td><td>18150000</td><td>1200000</td><td>Manufacturing</td><td>Male</td><td>1/1/2009</td><td>137</td></tr><tr><td>Bachelor's Degree</td><td>1350</td><td>3960000</td><td>262000</td><td>Manufacturing</td><td>Female</td><td>7/1/1996</td><td>138</td></tr><tr><td>High School</td><td>1419</td><td>8960700</td><td>593300</td><td>Education</td><td>Male</td><td>11/1/1999</td><td>139</td></tr><tr><td>Associate's Degree</td><td>503</td><td>90950</td><td>6050</td><td>Healthcare</td><td>Female</td><td>2/1/2003</td><td>140</td></tr><tr><td>College</td><td>1418</td><td>8940500</td><td>595700</td><td>Financial Services</td><td>Female</td><td>10/1/1999</td><td>141</td></tr><tr><td>Bachelor's Degree</td><td>526</td><td>84375</td><td>5625</td><td>Energy</td><td>Male</td><td>8/1/2003</td><td>142</td></tr><tr><td>Bachelor's Degree</td><td>467</td><td>84375</td><td>5625</td><td>Finance</td><td>Female</td><td>5/1/2002</td><td>142</td></tr><tr><td>Bachelor's Degree</td><td>1492</td><td>90000</td><td>6000</td><td>Technology</td><td>Female</td><td>5/1/2002</td><td>142</td></tr><tr><td>Bachelor's Degree</td><td>369</td><td>84375</td><td>5625</td><td>Finance</td><td>Female</td><td>5/1/2000</td><td>142</td></tr><tr><td>Bachelor's Degree</td><td>1417</td><td>8919700</td><td>598100</td><td>Healthcare</td><td>Male</td><td>9/1/1999</td><td>143</td></tr><tr><td>Bachelor's Degree</td><td>287</td><td>76840</td><td>5160</td><td>Manufacturing</td><td>Female</td><td>8/1/1998</td><td>144</td></tr><tr><td>High School Diploma</td><td>379</td><td>76840</td><td>5160</td><td>Manufacturing</td><td>Female</td><td>7/1/2000</td><td>144</td></tr><tr><td>Bachelor's Degree</td><td>282</td><td>76840</td><td>5160</td><td>Retail</td><td>Male</td><td>7/1/1998</td><td>144</td></tr><tr><td>High School Diploma</td><td>353</td><td>76840</td><td>5160</td><td>Energy</td><td>Female</td><td>1/1/2000</td><td>144</td></tr><tr><td>High School Diploma</td><td>273</td><td>9258000</td><td>622000</td><td>Retail</td><td>Female</td><td>5/1/1998</td><td>145</td></tr><tr><td>Bachelor's Degree</td><td>342</td><td>9258000</td><td>622000</td><td>Manufacturing</td><td>Male</td><td>10/1/1999</td><td>145</td></tr><tr><td>Bachelor's Degree</td><td>1363</td><td>5149417</td><td>346298</td><td>Finance and Insurance</td><td>Male</td><td>3/1/1997</td><td>146</td></tr><tr><td>High School Diploma</td><td>367</td><td>323250</td><td>21750</td><td>Energy</td><td>Female</td><td>4/1/2000</td><td>147</td></tr><tr><td>High School</td><td>1416</td><td>8900500</td><td>599500</td><td>Retail</td><td>Female</td><td>8/1/1999</td><td>148</td></tr><tr><td>Master's Degree</td><td>1493</td><td>89000</td><td>6000</td><td>Finance</td><td>Male</td><td>6/1/2002</td><td>149</td></tr><tr><td>Bachelor's Degree</td><td>857</td><td>6555000</td><td>443000</td><td>Hospitality</td><td>Female</td><td>7/1/2010</td><td>150</td></tr><tr><td>Master's Degree</td><td>809</td><td>6555000</td><td>443000</td><td>Finance</td><td>Female</td><td>7/1/2009</td><td>150</td></tr><tr><td>Master's Degree</td><td>794</td><td>6555000</td><td>443000</td><td>Professional and Business S.</td><td>Male</td><td>3/1/2009</td><td>150</td></tr><tr><td>High School</td><td>1341</td><td>6555000</td><td>443000</td><td>Retail</td><td>Male</td><td>3/1/1996</td><td>150</td></tr><tr><td>High School</td><td>837</td><td>6555000</td><td>443000</td><td>Manufacturing</td><td>Female</td><td>2/1/2010</td><td>150</td></tr><tr><td>Master's Degree</td><td>646</td><td>6555000</td><td>443000</td><td>Energy</td><td>Male</td><td>2/1/2006</td><td>150</td></tr><tr><td>Associate's Degree</td><td>828</td><td>6555000</td><td>443000</td><td>Hospitality</td><td>Male</td><td>12/1/2009</td><td>150</td></tr><tr><td>Master's Degree</td><td>1364</td><td>5161526</td><td>348997</td><td>Manufacturing</td><td>Female</td><td>4/1/1997</td><td>151</td></tr><tr><td>College</td><td>1415</td><td>8880000</td><td>601700</td><td>Construction</td><td>Male</td><td>7/1/1999</td><td>152</td></tr><tr><td>Master's Degree</td><td>1414</td><td>8860200</td><td>603900</td><td>Education</td><td>Female</td><td>6/1/1999</td><td>153</td></tr><tr><td>High School</td><td>1361</td><td>5128562</td><td>349587</td><td>Construction</td><td>Male</td><td>1/1/1997</td><td>154</td></tr><tr><td>High School</td><td>1494</td><td>88000</td><td>6000</td><td>Retail</td><td>Female</td><td>7/1/2002</td><td>155</td></tr><tr><td>Bachelor's Degree</td><td>1272</td><td>17080400</td><td>1166000</td><td>Education</td><td>Male</td><td>3/1/2020</td><td>156</td></tr><tr><td>College</td><td>1248</td><td>17665500</td><td>1206100</td><td>Manufacturing</td><td>Male</td><td>9/1/2019</td><td>157</td></tr><tr><td>College</td><td>1362</td><td>5135402</td><td>350770</td><td>Retail Trade</td><td>Female</td><td>2/1/1997</td><td>158</td></tr><tr><td>Master's Degree</td><td>248</td><td>14460000</td><td>990000</td><td>Healthcare</td><td>Male</td><td>11/1/1997</td><td>159</td></tr><tr><td>Master's Degree</td><td>855</td><td>6524000</td><td>447000</td><td>Energy</td><td>Female</td><td>6/1/2010</td><td>160</td></tr><tr><td>High School Diploma</td><td>807</td><td>6524000</td><td>447000</td><td>Hospitality</td><td>Female</td><td>6/1/2009</td><td>160</td></tr><tr><td>College</td><td>792</td><td>6524000</td><td>447000</td><td>Trade, Transportation, Util.</td><td>Male</td><td>3/1/2009</td><td>160</td></tr><tr><td>Bachelor's Degree</td><td>644</td><td>6524000</td><td>447000</td><td>Finance</td><td>Male</td><td>2/1/2006</td><td>160</td></tr><tr><td>College</td><td>1339</td><td>6524000</td><td>447000</td><td>Education</td><td>Male</td><td>2/1/1996</td><td>160</td></tr><tr><td>Master's Degree</td><td>826</td><td>6524000</td><td>447000</td><td>Hospitality</td><td>Male</td><td>11/1/2009</td><td>160</td></tr><tr><td>Bachelor's Degree</td><td>835</td><td>6524000</td><td>447000</td><td>Hospitality</td><td>Female</td><td>1/1/2010</td><td>160</td></tr><tr><td>Bachelor's Degree</td><td>1413</td><td>8840400</td><td>605900</td><td>Financial Services</td><td>Male</td><td>5/1/1999</td><td>161</td></tr><tr><td>High School</td><td>1244</td><td>17630700</td><td>1209200</td><td>Manufacturing</td><td>Male</td><td>8/1/2019</td><td>162</td></tr><tr><td>High School</td><td>1359</td><td>8674000</td><td>595000</td><td>Retail</td><td>Male</td><td>12/1/1996</td><td>163</td></tr><tr><td>Bachelor's Degree</td><td>1324</td><td>2910000</td><td>200000</td><td>Construction</td><td>Female</td><td>12/1/1995</td><td>164</td></tr><tr><td>Master's Degree</td><td>260</td><td>14615000</td><td>1005000</td><td>Healthcare</td><td>Male</td><td>2/1/1998</td><td>165</td></tr><tr><td>Master's Degree</td><td>854</td><td>3878000</td><td>267000</td><td>Professional and Business S.</td><td>Male</td><td>6/1/2010</td><td>166</td></tr><tr><td>High School Diploma</td><td>806</td><td>3878000</td><td>267000</td><td>Finance</td><td>Male</td><td>6/1/2009</td><td>166</td></tr><tr><td>High School Diploma</td><td>791</td><td>3878000</td><td>267000</td><td>Hospitality</td><td>Female</td><td>2/1/2009</td><td>166</td></tr><tr><td>High School</td><td>825</td><td>3878000</td><td>267000</td><td>Finance</td><td>Female</td><td>11/1/2009</td><td>166</td></tr><tr><td>Bachelor's Degree</td><td>834</td><td>3878000</td><td>267000</td><td>Hospitality</td><td>Male</td><td>1/1/2010</td><td>166</td></tr><tr><td>Associate's Degree</td><td>643</td><td>3878000</td><td>267000</td><td>Energy</td><td>Female</td><td>1/1/2006</td><td>166</td></tr><tr><td>Bachelor's Degree</td><td>1338</td><td>3878000</td><td>267000</td><td>Information</td><td>Female</td><td>1/1/1996</td><td>166</td></tr><tr><td>Bachelor's Degree</td><td>1189</td><td>11848900</td><td>815900</td><td>Retail</td><td>Female</td><td>6/1/2017</td><td>167</td></tr><tr><td>College</td><td>1412</td><td>8821400</td><td>607600</td><td>Healthcare</td><td>Female</td><td>4/1/1999</td><td>168</td></tr><tr><td>Associate's Degree</td><td>1240</td><td>17596500</td><td>1212900</td><td>Technology</td><td>Male</td><td>7/1/2019</td><td>169</td></tr><tr><td>Bachelor's Degree</td><td>1495</td><td>87000</td><td>6000</td><td>Healthcare</td><td>Male</td><td>8/1/2002</td><td>170</td></tr><tr><td>College</td><td>1323</td><td>2900000</td><td>200000</td><td>Financial Services</td><td>Male</td><td>11/1/1995</td><td>170</td></tr><tr><td>Bachelor's Degree</td><td>315</td><td>79500</td><td>5500</td><td>Energy</td><td>Male</td><td>3/1/1999</td><td>171</td></tr><tr><td>High School Diploma</td><td>357</td><td>79500</td><td>5500</td><td>Finance</td><td>Female</td><td>2/1/2000</td><td>171</td></tr><tr><td>High School</td><td>1322</td><td>2890000</td><td>200000</td><td>Healthcare</td><td>Female</td><td>10/1/1995</td><td>172</td></tr><tr><td>High School</td><td>1411</td><td>8802600</td><td>609400</td><td>Retail</td><td>Male</td><td>3/1/1999</td><td>173</td></tr><tr><td>Bachelor's Degree</td><td>1410</td><td>8785300</td><td>608800</td><td>Information</td><td>Female</td><td>2/1/1999</td><td>174</td></tr><tr><td>Graduate</td><td>1512</td><td>384023</td><td>26615</td><td>Manufacturing</td><td>Female</td><td>1/1/2003</td><td>175</td></tr><tr><td>Bachelor's Degree</td><td>1236</td><td>17563200</td><td>1218800</td><td>Technology</td><td>Male</td><td>6/1/2019</td><td>176</td></tr><tr><td>Bachelor's Degree</td><td>1321</td><td>2880000</td><td>200000</td><td>Education</td><td>Male</td><td>9/1/1995</td><td>177</td></tr><tr><td>Master's Degree</td><td>1010</td><td>112200</td><td>7800</td><td>Hospitality</td><td>Male</td><td>9/1/2013</td><td>178</td></tr><tr><td>Master's Degree</td><td>1151</td><td>112200</td><td>7800</td><td>Energy</td><td>Female</td><td>8/1/2016</td><td>178</td></tr><tr><td>Bachelor's Degree</td><td>959</td><td>112200</td><td>7800</td><td>Energy</td><td>Female</td><td>8/1/2012</td><td>178</td></tr><tr><td>Master's Degree</td><td>1191</td><td>112200</td><td>7800</td><td>Manufacturing</td><td>Female</td><td>6/1/2017</td><td>178</td></tr><tr><td>High School Diploma</td><td>373</td><td>112200</td><td>7800</td><td>Retail</td><td>Female</td><td>6/1/2000</td><td>178</td></tr><tr><td>High School Diploma</td><td>135</td><td>112200</td><td>7800</td><td>Retail</td><td>Female</td><td>6/1/1995</td><td>178</td></tr><tr><td>Master's Degree</td><td>1283</td><td>112200</td><td>7800</td><td>Manufacturing</td><td>Female</td><td>5/1/2020</td><td>178</td></tr><tr><td>Master's Degree</td><td>1039</td><td>112200</td><td>7800</td><td>Agriculture</td><td>Female</td><td>4/1/2014</td><td>178</td></tr><tr><td>Associate's Degree</td><td>703</td><td>112200</td><td>7800</td><td>Technology</td><td>Female</td><td>4/1/2007</td><td>178</td></tr><tr><td>Master's Degree</td><td>603</td><td>112200</td><td>7800</td><td>Finance</td><td>Female</td><td>3/1/2005</td><td>178</td></tr><tr><td>Associate's Degree</td><td>779</td><td>112200</td><td>7800</td><td>Energy</td><td>Female</td><td>11/1/2008</td><td>178</td></tr><tr><td>Master's Degree</td><td>539</td><td>112200</td><td>7800</td><td>Trade, Transportation, Util.</td><td>Female</td><td>11/1/2003</td><td>178</td></tr><tr><td>High School Diploma</td><td>1254</td><td>112200</td><td>7800</td><td>Education</td><td>Male</td><td>10/1/2019</td><td>178</td></tr><tr><td>College</td><td>1320</td><td>2870000</td><td>200000</td><td>Retail</td><td>Female</td><td>8/1/1995</td><td>179</td></tr><tr><td>Master's Degree</td><td>1496</td><td>86000</td><td>6000</td><td>Manufacturing</td><td>Female</td><td>9/1/2002</td><td>180</td></tr><tr><td>High School</td><td>1337</td><td>6489000</td><td>453000</td><td>Manufacturing</td><td>Male</td><td>1/1/1996</td><td>181</td></tr><tr><td>Bachelor's Degree</td><td>1357</td><td>8661000</td><td>605000</td><td>Financial Services</td><td>Male</td><td>11/1/1996</td><td>182</td></tr><tr><td>High School</td><td>1319</td><td>2860000</td><td>200000</td><td>Manufacturing</td><td>Male</td><td>7/1/1995</td><td>183</td></tr><tr><td>College</td><td>1232</td><td>17531300</td><td>1226100</td><td>Technology</td><td>Male</td><td>5/1/2019</td><td>184</td></tr><tr><td>Bachelor's Degree</td><td>1318</td><td>2850000</td><td>200000</td><td>Construction</td><td>Female</td><td>6/1/1995</td><td>185</td></tr><tr><td>Associate's Degree</td><td>1228</td><td>17493200</td><td>1231900</td><td>Technology</td><td>Male</td><td>4/1/2019</td><td>186</td></tr><tr><td>College</td><td>1317</td><td>2840000</td><td>200000</td><td>Financial Services</td><td>Male</td><td>5/1/1995</td><td>187</td></tr><tr><td>Bachelor's Degree</td><td>1360</td><td>4165000</td><td>294000</td><td>Healthcare</td><td>Female</td><td>12/1/1996</td><td>188</td></tr><tr><td>High School</td><td>1497</td><td>85000</td><td>6000</td><td>Technology</td><td>Male</td><td>10/1/2002</td><td>188</td></tr><tr><td>College</td><td>1409</td><td>8757500</td><td>618300</td><td>Manufacturing</td><td>Male</td><td>1/1/1999</td><td>189</td></tr><tr><td>High School</td><td>1316</td><td>2830000</td><td>200000</td><td>Healthcare</td><td>Female</td><td>4/1/1995</td><td>190</td></tr><tr><td>Bachelor's Degree</td><td>345</td><td>72840</td><td>5160</td><td>Finance</td><td>Female</td><td>11/1/1999</td><td>191</td></tr><tr><td>Master's Degree</td><td>1224</td><td>17450500</td><td>1237500</td><td>Energy</td><td>Male</td><td>3/1/2019</td><td>192</td></tr><tr><td>Bachelor's Degree</td><td>1315</td><td>2820000</td><td>200000</td><td>Education</td><td>Male</td><td>3/1/1995</td><td>193</td></tr><tr><td>High School Diploma</td><td>1314</td><td>2810000</td><td>200000</td><td>Retail</td><td>Female</td><td>2/1/1995</td><td>194</td></tr><tr><td>College</td><td>1513</td><td>386013</td><td>27496</td><td>Manufacturing</td><td>Male</td><td>2/1/2003</td><td>195</td></tr><tr><td>High School</td><td>1355</td><td>8645000</td><td>616000</td><td>Healthcare</td><td>Male</td><td>10/1/1996</td><td>196</td></tr><tr><td>Bachelor's Degree</td><td>1498</td><td>84000</td><td>6000</td><td>Finance</td><td>Female</td><td>11/1/2002</td><td>197</td></tr><tr><td>Bachelor's Degree</td><td>1313</td><td>2800000</td><td>200000</td><td>Manufacturing</td><td>Male</td><td>1/1/1995</td><td>197</td></tr><tr><td>Bachelor's Degree</td><td>245</td><td>6472000</td><td>463000</td><td>Retail</td><td>Male</td><td>10/1/1997</td><td>198</td></tr><tr><td>Associate's Degree</td><td>1220</td><td>17394000</td><td>1247600</td><td>Manufacturing</td><td>Male</td><td>2/1/2019</td><td>199</td></tr><tr><td>College</td><td>1515</td><td>393278</td><td>28217</td><td>Manufacturing</td><td>Male</td><td>4/1/2003</td><td>200</td></tr><tr><td>Bachelor's Degree</td><td>1245</td><td>12609100</td><td>906200</td><td>Technology</td><td>Female</td><td>8/1/2019</td><td>201</td></tr><tr><td>Bachelor's Degree</td><td>276</td><td>8255000</td><td>595000</td><td>Wholesale Trade</td><td>Male</td><td>6/1/1998</td><td>202</td></tr><tr><td>High School</td><td>1185</td><td>11778600</td><td>850500</td><td>Retail</td><td>Female</td><td>5/1/2017</td><td>203</td></tr><tr><td>Master's Degree</td><td>1499</td><td>83000</td><td>6000</td><td>Retail</td><td>Male</td><td>12/1/2002</td><td>204</td></tr><tr><td>Bachelor's Degree</td><td>1481</td><td>3752513</td><td>271584</td><td>Manufacturing</td><td>Male</td><td>6/1/2001</td><td>205</td></tr><tr><td>High School</td><td>1482</td><td>3752561</td><td>271675</td><td>Healthcare</td><td>Female</td><td>7/1/2001</td><td>206</td></tr><tr><td>Master's Degree</td><td>1483</td><td>3751125</td><td>271975</td><td>Education</td><td>Male</td><td>8/1/2001</td><td>207</td></tr><tr><td>Bachelor's Degree</td><td>233</td><td>6420000</td><td>466000</td><td>Retail</td><td>Male</td><td>7/1/1997</td><td>208</td></tr><tr><td>Bachelor's Degree</td><td>218</td><td>6420000</td><td>466000</td><td>Education</td><td>Female</td><td>3/1/1997</td><td>208</td></tr><tr><td>College</td><td>1484</td><td>3748776</td><td>272147</td><td>Finance</td><td>Female</td><td>9/1/2001</td><td>209</td></tr><tr><td>High School</td><td>1216</td><td>17378000</td><td>1262300</td><td>Manufacturing</td><td>Male</td><td>1/1/2019</td><td>210</td></tr><tr><td>College</td><td>1358</td><td>4156000</td><td>302000</td><td>Manufacturing</td><td>Female</td><td>11/1/1996</td><td>211</td></tr><tr><td>Bachelor's Degree</td><td>1241</td><td>12563600</td><td>913200</td><td>Retail</td><td>Female</td><td>7/1/2019</td><td>212</td></tr><tr><td>Master's Degree</td><td>1195</td><td>11682000</td><td>849900</td><td>Education</td><td>Female</td><td>7/1/2017</td><td>213</td></tr><tr><td>Master's Degree</td><td>1299</td><td>11682000</td><td>849900</td><td>Agriculture</td><td>Female</td><td>11/1/2020</td><td>213</td></tr><tr><td>Master's Degree</td><td>1211</td><td>11682000</td><td>849900</td><td>Retail</td><td>Female</td><td>11/1/2017</td><td>213</td></tr><tr><td>Bachelor's Degree</td><td>1169</td><td>11682000</td><td>849900</td><td>Technology</td><td>Female</td><td>1/1/2017</td><td>213</td></tr><tr><td>Master's Degree</td><td>1171</td><td>11682000</td><td>849900</td><td>Education</td><td>Female</td><td>1/1/2017</td><td>213</td></tr><tr><td>Master's Degree</td><td>1173</td><td>11705900</td><td>852200</td><td>Retail</td><td>Female</td><td>2/1/2017</td><td>214</td></tr><tr><td>College</td><td>1487</td><td>3744822</td><td>272753</td><td>Manufacturing</td><td>Male</td><td>12/1/2001</td><td>215</td></tr><tr><td>Bachelor's Degree</td><td>1177</td><td>11716900</td><td>853700</td><td>Education</td><td>Female</td><td>3/1/2017</td><td>216</td></tr><tr><td>Bachelor's Degree</td><td>1485</td><td>3745253</td><td>272987</td><td>Technology</td><td>Male</td><td>10/1/2001</td><td>217</td></tr><tr><td>High School</td><td>1486</td><td>3744076</td><td>272945</td><td>Retail</td><td>Female</td><td>11/1/2001</td><td>218</td></tr><tr><td>High School Diploma</td><td>1181</td><td>11734900</td><td>858400</td><td>Manufacturing</td><td>Female</td><td>4/1/2017</td><td>219</td></tr><tr><td>Associate's Degree</td><td>215</td><td>8673000</td><td>636000</td><td>Retail</td><td>Female</td><td>2/1/1997</td><td>220</td></tr><tr><td>Bachelor's Degree</td><td>244</td><td>8673000</td><td>636000</td><td>Healthcare</td><td>Female</td><td>10/1/1997</td><td>220</td></tr><tr><td>College</td><td>1480</td><td>3748662</td><td>274917</td><td>Retail</td><td>Female</td><td>5/1/2001</td><td>221</td></tr><tr><td>College</td><td>1514</td><td>390099</td><td>28622</td><td>Manufacturing</td><td>Female</td><td>3/1/2003</td><td>222</td></tr><tr><td>High School Diploma</td><td>1237</td><td>12516200</td><td>922100</td><td>Retail</td><td>Female</td><td>6/1/2019</td><td>223</td></tr><tr><td>College</td><td>1176</td><td>15032200</td><td>1110600</td><td>Hospitality</td><td>Male</td><td>3/1/2017</td><td>224</td></tr><tr><td>High School</td><td>1172</td><td>15024600</td><td>1112100</td><td>Retail</td><td>Male</td><td>2/1/2017</td><td>225</td></tr><tr><td>College</td><td>1353</td><td>8610000</td><td>638000</td><td>Manufacturing</td><td>Male</td><td>9/1/1996</td><td>226</td></tr><tr><td>College</td><td>1168</td><td>15006700</td><td>1112500</td><td>Manufacturing</td><td>Male</td><td>1/1/2017</td><td>227</td></tr><tr><td>Bachelor's Degree</td><td>1184</td><td>15051600</td><td>1116400</td><td>Healthcare</td><td>Male</td><td>5/1/2017</td><td>228</td></tr><tr><td>Master's Degree</td><td>284</td><td>606000</td><td>45000</td><td>Healthcare</td><td>Male</td><td>8/1/1998</td><td>229</td></tr><tr><td>Master's Degree</td><td>1479</td><td>3745658</td><td>278185</td><td>Technology</td><td>Male</td><td>4/1/2001</td><td>230</td></tr><tr><td>Associate's Degree</td><td>1188</td><td>15068000</td><td>1119900</td><td>Technology</td><td>Male</td><td>6/1/2017</td><td>231</td></tr><tr><td>Bachelor's Degree</td><td>728</td><td>209400</td><td>15600</td><td>Technology</td><td>Male</td><td>11/1/2007</td><td>232</td></tr><tr><td>College</td><td>1356</td><td>4147000</td><td>309000</td><td>Information Services</td><td>Female</td><td>10/1/1996</td><td>233</td></tr><tr><td>High School</td><td>1478</td><td>3740556</td><td>278840</td><td>Healthcare</td><td>Female</td><td>3/1/2001</td><td>234</td></tr><tr><td>Bachelor's Degree</td><td>1107</td><td>3244100</td><td>242800</td><td>Manufacturing</td><td>Female</td><td>9/1/2015</td><td>235</td></tr><tr><td>Master's Degree</td><td>1275</td><td>3244100</td><td>242800</td><td>Professional and Business S.</td><td>Female</td><td>3/1/2020</td><td>235</td></tr><tr><td>Master's Degree</td><td>1311</td><td>3244100</td><td>242800</td><td>Professional and Business S.</td><td>Female</td><td>12/1/2020</td><td>235</td></tr><tr><td>Master's Degree</td><td>1336</td><td>3244100</td><td>242800</td><td>Healthcare</td><td>Female</td><td>12/1/1995</td><td>235</td></tr><tr><td>Master's Degree</td><td>1163</td><td>3244100</td><td>242800</td><td>Education</td><td>Female</td><td>11/1/2016</td><td>235</td></tr><tr><td>Master's Degree</td><td>1233</td><td>12469200</td><td>934100</td><td>Retail</td><td>Female</td><td>5/1/2019</td><td>236</td></tr><tr><td>High School Diploma</td><td>288</td><td>440000</td><td>33000</td><td>Education</td><td>Male</td><td>9/1/1998</td><td>237</td></tr><tr><td>College</td><td>1516</td><td>394256</td><td>29570</td><td>Manufacturing</td><td>Female</td><td>5/1/2003</td><td>238</td></tr><tr><td>Graduate</td><td>1517</td><td>396621</td><td>29751</td><td>Manufacturing</td><td>Male</td><td>6/1/2003</td><td>239</td></tr><tr><td>High School Diploma</td><td>1106</td><td>3241600</td><td>243200</td><td>Education</td><td>Male</td><td>9/1/2015</td><td>240</td></tr><tr><td>High School Diploma</td><td>1274</td><td>3241600</td><td>243200</td><td>Manufacturing</td><td>Male</td><td>3/1/2020</td><td>240</td></tr><tr><td>High School Diploma</td><td>1310</td><td>3241600</td><td>243200</td><td>Technology</td><td>Male</td><td>12/1/2020</td><td>240</td></tr><tr><td>High School Diploma</td><td>1162</td><td>3241600</td><td>243200</td><td>Agriculture</td><td>Male</td><td>11/1/2016</td><td>240</td></tr><tr><td>College</td><td>1335</td><td>3241600</td><td>243200</td><td>Education</td><td>Male</td><td>11/1/1995</td><td>240</td></tr><tr><td>Bachelor's Degree</td><td>1334</td><td>3240200</td><td>243100</td><td>Retail</td><td>Female</td><td>10/1/1995</td><td>241</td></tr><tr><td>Bachelor's Degree</td><td>1354</td><td>4142000</td><td>311000</td><td>Retail</td><td>Female</td><td>9/1/1996</td><td>242</td></tr><tr><td>College</td><td>1476</td><td>3738191</td><td>281207</td><td>Finance</td><td>Female</td><td>1/1/2001</td><td>243</td></tr><tr><td>Bachelor's Degree</td><td>624</td><td>148800</td><td>11200</td><td>Energy</td><td>Male</td><td>9/1/2005</td><td>244</td></tr><tr><td>Bachelor's Degree</td><td>361</td><td>106950</td><td>8050</td><td>Retail</td><td>Female</td><td>3/1/2000</td><td>244</td></tr><tr><td>Bachelor's Degree</td><td>123</td><td>106950</td><td>8050</td><td>Retail</td><td>Female</td><td>3/1/1995</td><td>244</td></tr><tr><td>Master's Degree</td><td>310</td><td>148800</td><td>11200</td><td>Healthcare</td><td>Male</td><td>2/1/1999</td><td>244</td></tr><tr><td>Associate's Degree</td><td>253</td><td>5115000</td><td>385000</td><td>Education</td><td>Female</td><td>12/1/1997</td><td>244</td></tr><tr><td>College</td><td>1145</td><td>11588200</td><td>872700</td><td>Hospitality</td><td>Female</td><td>7/1/2016</td><td>245</td></tr><tr><td>High School</td><td>1333</td><td>3237700</td><td>243900</td><td>Technology</td><td>Male</td><td>9/1/1995</td><td>246</td></tr><tr><td>Associate's Degree</td><td>628</td><td>169240</td><td>12760</td><td>Hospitality</td><td>Male</td><td>10/1/2005</td><td>247</td></tr><tr><td>Bachelor's Degree</td><td>1477</td><td>3735572</td><td>281699</td><td>Education</td><td>Male</td><td>2/1/2001</td><td>248</td></tr><tr><td>High School Diploma</td><td>243</td><td>8626000</td><td>651000</td><td>Wholesale Trade</td><td>Male</td><td>9/1/1997</td><td>249</td></tr><tr><td>Associate's Degree</td><td>232</td><td>8626000</td><td>651000</td><td>Education</td><td>Female</td><td>7/1/1997</td><td>249</td></tr><tr><td>Master's Degree</td><td>1332</td><td>3235200</td><td>244700</td><td>Financial Services</td><td>Female</td><td>8/1/1995</td><td>250</td></tr><tr><td>College</td><td>1331</td><td>3233800</td><td>245000</td><td>Healthcare</td><td>Male</td><td>7/1/1995</td><td>251</td></tr><tr><td>Bachelor's Degree</td><td>724</td><td>213800</td><td>16200</td><td>Healthcare</td><td>Male</td><td>10/1/2007</td><td>252</td></tr><tr><td>Bachelor's Degree</td><td>1330</td><td>3232900</td><td>245200</td><td>Education</td><td>Female</td><td>6/1/1995</td><td>253</td></tr><tr><td>High School</td><td>1329</td><td>3231600</td><td>245200</td><td>Retail</td><td>Male</td><td>5/1/1995</td><td>254</td></tr><tr><td>High School Diploma</td><td>305</td><td>369000</td><td>28000</td><td>Retail</td><td>Female</td><td>1/1/1999</td><td>255</td></tr><tr><td>High School Diploma</td><td>1210</td><td>11534800</td><td>876100</td><td>Technology</td><td>Male</td><td>11/1/2017</td><td>256</td></tr><tr><td>High School Diploma</td><td>1298</td><td>11534800</td><td>876100</td><td>Retail</td><td>Male</td><td>10/1/2020</td><td>256</td></tr><tr><td>Bachelor's Degree</td><td>1157</td><td>11534800</td><td>876100</td><td>Health Care</td><td>Female</td><td>10/1/2016</td><td>256</td></tr><tr><td>High School Diploma</td><td>1170</td><td>11534800</td><td>876100</td><td>Retail</td><td>Male</td><td>1/1/2017</td><td>256</td></tr><tr><td>Associate's Degree</td><td>221</td><td>6332000</td><td>481000</td><td>Retail</td><td>Male</td><td>4/1/1997</td><td>257</td></tr><tr><td>Bachelor's Degree</td><td>1235</td><td>3230100</td><td>245500</td><td>Manufacturing</td><td>Female</td><td>5/1/2019</td><td>258</td></tr><tr><td>Master's Degree</td><td>1328</td><td>3230100</td><td>245500</td><td>Technology</td><td>Female</td><td>4/1/1995</td><td>258</td></tr><tr><td>High School Diploma</td><td>1130</td><td>3230100</td><td>245500</td><td>Technology</td><td>Male</td><td>3/1/2016</td><td>258</td></tr><tr><td>Master's Degree</td><td>1271</td><td>3230100</td><td>245500</td><td>Agriculture</td><td>Female</td><td>2/1/2020</td><td>258</td></tr><tr><td>Bachelor's Degree</td><td>1158</td><td>3230100</td><td>245500</td><td>Professional and Business S.</td><td>Male</td><td>10/1/2016</td><td>258</td></tr><tr><td>College</td><td>1327</td><td>3228100</td><td>245600</td><td>Healthcare</td><td>Male</td><td>3/1/1995</td><td>259</td></tr><tr><td>Associate's Degree</td><td>620</td><td>131960</td><td>10040</td><td>Hospitality</td><td>Male</td><td>8/1/2005</td><td>260</td></tr><tr><td>Bachelor's Degree</td><td>1489</td><td>92000</td><td>7000</td><td>Retail</td><td>Male</td><td>2/1/2002</td><td>261</td></tr><tr><td>Bachelor's Degree</td><td>1229</td><td>12419000</td><td>945700</td><td>Retail</td><td>Female</td><td>4/1/2019</td><td>262</td></tr><tr><td>Bachelor's Degree</td><td>1326</td><td>3225400</td><td>245900</td><td>Financial Services</td><td>Female</td><td>2/1/1995</td><td>263</td></tr><tr><td>High School</td><td>1398</td><td>3111020</td><td>237180</td><td>Retail</td><td>Female</td><td>2/1/1998</td><td>264</td></tr><tr><td>Bachelor's Degree</td><td>716</td><td>204400</td><td>15600</td><td>Energy</td><td>Male</td><td>8/1/2007</td><td>265</td></tr><tr><td>Bachelor's Degree</td><td>1399</td><td>3114160</td><td>237740</td><td>Education</td><td>Male</td><td>3/1/1998</td><td>266</td></tr><tr><td>College</td><td>1397</td><td>3108210</td><td>237390</td><td>Manufacturing</td><td>Male</td><td>1/1/1998</td><td>267</td></tr><tr><td>High School Diploma</td><td>261</td><td>9169500</td><td>700500</td><td>Retail</td><td>Female</td><td>2/1/1998</td><td>268</td></tr><tr><td>Master's Degree</td><td>262</td><td>9169500</td><td>700500</td><td>Healthcare</td><td>Male</td><td>2/1/1998</td><td>268</td></tr><tr><td>Master's Degree</td><td>250</td><td>9169500</td><td>700500</td><td>Healthcare</td><td>Male</td><td>11/1/1997</td><td>268</td></tr><tr><td>High School</td><td>1161</td><td>11566700</td><td>883800</td><td>Construction</td><td>Female</td><td>11/1/2016</td><td>269</td></tr><tr><td>High School</td><td>1325</td><td>3222600</td><td>246300</td><td>Education</td><td>Male</td><td>1/1/1995</td><td>270</td></tr><tr><td>Bachelor's Degree</td><td>1165</td><td>11594100</td><td>886800</td><td>Technology</td><td>Female</td><td>12/1/2016</td><td>271</td></tr><tr><td>Master's Degree</td><td>1400</td><td>3117250</td><td>238550</td><td>Healthcare</td><td>Female</td><td>4/1/1998</td><td>272</td></tr><tr><td>Bachelor's Degree</td><td>720</td><td>209000</td><td>16000</td><td>Hospitality</td><td>Male</td><td>9/1/2007</td><td>273</td></tr><tr><td>College</td><td>1141</td><td>11528100</td><td>882800</td><td>Retail</td><td>Female</td><td>6/1/2016</td><td>274</td></tr><tr><td>High School</td><td>1149</td><td>11611300</td><td>889200</td><td>Financial Services</td><td>Female</td><td>8/1/2016</td><td>275</td></tr><tr><td>Master's Degree</td><td>360</td><td>120750</td><td>9250</td><td>Manufacturing</td><td>Male</td><td>3/1/2000</td><td>276</td></tr><tr><td>Master's Degree</td><td>122</td><td>120750</td><td>9250</td><td>Manufacturing</td><td>Male</td><td>3/1/1995</td><td>276</td></tr><tr><td>High School Diploma</td><td>269</td><td>5944000</td><td>456000</td><td>Agriculture</td><td>Female</td><td>4/1/1998</td><td>277</td></tr><tr><td>High School Diploma</td><td>312</td><td>5944000</td><td>456000</td><td>Wholesale Trade</td><td>Female</td><td>3/1/1999</td><td>277</td></tr><tr><td>Associate's Degree</td><td>267</td><td>5944000</td><td>456000</td><td>Education</td><td>Female</td><td>3/1/1998</td><td>277</td></tr><tr><td>College</td><td>1052</td><td>378000</td><td>29000</td><td>Hospitality</td><td>Male</td><td>8/1/2014</td><td>278</td></tr><tr><td>Associate's Degree</td><td>955</td><td>378000</td><td>29000</td><td>Professional and Business S.</td><td>Female</td><td>7/1/2012</td><td>278</td></tr><tr><td>Master's Degree</td><td>759</td><td>378000</td><td>29000</td><td>Manufacturing</td><td>Female</td><td>6/1/2008</td><td>278</td></tr><tr><td>High School</td><td>848</td><td>378000</td><td>29000</td><td>Hospitality</td><td>Male</td><td>5/1/2010</td><td>278</td></tr><tr><td>Associate's Degree</td><td>563</td><td>378000</td><td>29000</td><td>Trade, Transportation, Util.</td><td>Female</td><td>5/1/2004</td><td>278</td></tr><tr><td>Associate's Degree</td><td>591</td><td>378000</td><td>29000</td><td>Finance</td><td>Female</td><td>12/1/2004</td><td>278</td></tr><tr><td>Master's Degree</td><td>1307</td><td>378000</td><td>29000</td><td>Agriculture</td><td>Female</td><td>11/1/2020</td><td>278</td></tr><tr><td>Bachelor's Degree</td><td>1112</td><td>378000</td><td>29000</td><td>Manufacturing</td><td>Male</td><td>11/1/2015</td><td>278</td></tr><tr><td>High School Diploma</td><td>39</td><td>378000</td><td>29000</td><td>Retail</td><td>Female</td><td>10/1/1998</td><td>278</td></tr><tr><td>High School Diploma</td><td>293</td><td>378000</td><td>29000</td><td>Retail</td><td>Female</td><td>10/1/1998</td><td>278</td></tr><tr><td>College</td><td>1401</td><td>3120240</td><td>239460</td><td>Financial Services</td><td>Male</td><td>5/1/1998</td><td>279</td></tr><tr><td>Graduate</td><td>1521</td><td>406936</td><td>31256</td><td>Manufacturing</td><td>Male</td><td>10/1/2003</td><td>280</td></tr><tr><td>Master's Degree</td><td>1490</td><td>91000</td><td>7000</td><td>Healthcare</td><td>Female</td><td>3/1/2002</td><td>281</td></tr><tr><td>College</td><td>1520</td><td>404209</td><td>31120</td><td>Manufacturing</td><td>Female</td><td>9/1/2003</td><td>282</td></tr><tr><td>High School</td><td>1402</td><td>3122690</td><td>240510</td><td>Manufacturing</td><td>Female</td><td>6/1/1998</td><td>283</td></tr><tr><td>Bachelor's Degree</td><td>237</td><td>6923000</td><td>534000</td><td>Healthcare</td><td>Male</td><td>8/1/1997</td><td>284</td></tr><tr><td>Bachelor's Degree</td><td>1403</td><td>3125060</td><td>241440</td><td>Retail</td><td>Male</td><td>7/1/1998</td><td>285</td></tr><tr><td>Master's Degree</td><td>296</td><td>568000</td><td>44000</td><td>Healthcare</td><td>Male</td><td>11/1/1998</td><td>286</td></tr><tr><td>Associate's Degree</td><td>712</td><td>208800</td><td>16200</td><td>Manufacturing</td><td>Male</td><td>7/1/2007</td><td>287</td></tr><tr><td>Master's Degree</td><td>1404</td><td>3127310</td><td>242690</td><td>Education</td><td>Female</td><td>8/1/1998</td><td>288</td></tr><tr><td>College</td><td>1518</td><td>399066</td><td>30971</td><td>Manufacturing</td><td>Female</td><td>7/1/2003</td><td>289</td></tr><tr><td>Master's Degree</td><td>308</td><td>541000</td><td>42000</td><td>Healthcare</td><td>Male</td><td>2/1/1999</td><td>290</td></tr><tr><td>High School Diploma</td><td>281</td><td>425000</td><td>33000</td><td>Finance</td><td>Female</td><td>7/1/1998</td><td>291</td></tr><tr><td>College</td><td>1519</td><td>401688</td><td>31195</td><td>Manufacturing</td><td>Male</td><td>8/1/2003</td><td>292</td></tr><tr><td>Bachelor's Degree</td><td>225</td><td>6833000</td><td>531000</td><td>Energy</td><td>Male</td><td>5/1/1997</td><td>293</td></tr><tr><td>Bachelor's Degree</td><td>210</td><td>6833000</td><td>531000</td><td>Wholesale Trade</td><td>Male</td><td>1/1/1997</td><td>293</td></tr><tr><td>Associate's Degree</td><td>265</td><td>5196000</td><td>404000</td><td>Education</td><td>Female</td><td>3/1/1998</td><td>294</td></tr><tr><td>High School Diploma</td><td>236</td><td>9021000</td><td>702000</td><td>Manufacturing</td><td>Female</td><td>8/1/1997</td><td>295</td></tr><tr><td>High School Diploma</td><td>238</td><td>9021000</td><td>702000</td><td>Manufacturing</td><td>Female</td><td>8/1/1997</td><td>295</td></tr><tr><td>High School Diploma</td><td>219</td><td>9021000</td><td>702000</td><td>Healthcare</td><td>Male</td><td>3/1/1997</td><td>295</td></tr><tr><td>Associate's Degree</td><td>255</td><td>9021000</td><td>702000</td><td>Education</td><td>Female</td><td>12/1/1997</td><td>295</td></tr><tr><td>Bachelor's Degree</td><td>297</td><td>334000</td><td>26000</td><td>Manufacturing</td><td>Female</td><td>11/1/1998</td><td>296</td></tr><tr><td>College</td><td>1225</td><td>12364600</td><td>962700</td><td>Construction</td><td>Female</td><td>3/1/2019</td><td>297</td></tr><tr><td>College</td><td>1405</td><td>3129840</td><td>243860</td><td>Healthcare</td><td>Male</td><td>9/1/1998</td><td>298</td></tr><tr><td>High School Diploma</td><td>616</td><td>180900</td><td>14100</td><td>Agriculture</td><td>Male</td><td>7/1/2005</td><td>299</td></tr><tr><td>Associate's Degree</td><td>240</td><td>8558000</td><td>668000</td><td>Energy</td><td>Female</td><td>9/1/1997</td><td>300</td></tr><tr><td>Master's Degree</td><td>220</td><td>8558000</td><td>668000</td><td>Manufacturing</td><td>Female</td><td>4/1/1997</td><td>300</td></tr><tr><td>Bachelor's Degree</td><td>629</td><td>89040</td><td>6960</td><td>Energy</td><td>Female</td><td>10/1/2005</td><td>301</td></tr><tr><td>High School</td><td>1406</td><td>3132460</td><td>244940</td><td>Financial Services</td><td>Female</td><td>10/1/1998</td><td>302</td></tr><tr><td>College</td><td>1164</td><td>14392500</td><td>1126400</td><td>Manufacturing</td><td>Male</td><td>12/1/2016</td><td>303</td></tr><tr><td>Bachelor's Degree</td><td>304</td><td>740000</td><td>58000</td><td>Agriculture</td><td>Male</td><td>1/1/1999</td><td>304</td></tr><tr><td>Bachelor's Degree</td><td>1407</td><td>3134840</td><td>246160</td><td>Manufacturing</td><td>Male</td><td>11/1/1998</td><td>305</td></tr><tr><td>High School</td><td>1144</td><td>14351200</td><td>1127700</td><td>Energy</td><td>Male</td><td>7/1/2016</td><td>306</td></tr><tr><td>Bachelor's Degree</td><td>1160</td><td>14350900</td><td>1128000</td><td>Financial Services</td><td>Male</td><td>11/1/2016</td><td>307</td></tr><tr><td>Associate's Degree</td><td>1156</td><td>14340700</td><td>1128200</td><td>Manufacturing</td><td>Male</td><td>10/1/2016</td><td>308</td></tr><tr><td>Bachelor's Degree</td><td>692</td><td>157600</td><td>12400</td><td>Energy</td><td>Male</td><td>2/1/2007</td><td>309</td></tr><tr><td>Master's Degree</td><td>1408</td><td>3137260</td><td>247240</td><td>Retail</td><td>Female</td><td>12/1/1998</td><td>310</td></tr><tr><td>Associate's Degree</td><td>301</td><td>279000</td><td>22000</td><td>Energy</td><td>Female</td><td>12/1/1998</td><td>311</td></tr><tr><td>High School</td><td>1140</td><td>14301100</td><td>1127800</td><td>Technology</td><td>Male</td><td>6/1/2016</td><td>312</td></tr><tr><td>College</td><td>1522</td><td>410034</td><td>32367</td><td>Manufacturing</td><td>Female</td><td>11/1/2003</td><td>313</td></tr><tr><td>Associate's Degree</td><td>234</td><td>9082500</td><td>717500</td><td>Education</td><td>Female</td><td>7/1/1997</td><td>314</td></tr><tr><td>High School Diploma</td><td>230</td><td>9082500</td><td>717500</td><td>Agriculture</td><td>Female</td><td>6/1/1997</td><td>314</td></tr><tr><td>Associate's Degree</td><td>995</td><td>9082500</td><td>717500</td><td>Energy</td><td>Female</td><td>5/1/2013</td><td>314</td></tr><tr><td>Associate's Degree</td><td>559</td><td>9082500</td><td>717500</td><td>Professional and Business S.</td><td>Female</td><td>4/1/2004</td><td>314</td></tr><tr><td>Master's Degree</td><td>699</td><td>9082500</td><td>717500</td><td>Manufacturing</td><td>Female</td><td>3/1/2007</td><td>314</td></tr><tr><td>High School Diploma</td><td>249</td><td>9082500</td><td>717500</td><td>Retail</td><td>Female</td><td>11/1/1997</td><td>314</td></tr><tr><td>Bachelor's Degree</td><td>1062</td><td>9082500</td><td>717500</td><td>Retail</td><td>Male</td><td>10/1/2014</td><td>314</td></tr><tr><td>Master's Degree</td><td>918</td><td>9082500</td><td>717500</td><td>Professional and Business S.</td><td>Male</td><td>10/1/2011</td><td>314</td></tr><tr><td>Bachelor's Degree</td><td>247</td><td>9082500</td><td>717500</td><td>Retail</td><td>Male</td><td>10/1/1997</td><td>314</td></tr><tr><td>Bachelor's Degree</td><td>285</td><td>354000</td><td>28000</td><td>Manufacturing</td><td>Female</td><td>8/1/1998</td><td>315</td></tr><tr><td>Bachelor's Degree</td><td>266</td><td>316000</td><td>25000</td><td>Finance</td><td>Male</td><td>3/1/1998</td><td>316</td></tr><tr><td>Bachelor's Degree</td><td>309</td><td>316000</td><td>25000</td><td>Manufacturing</td><td>Female</td><td>2/1/1999</td><td>316</td></tr><tr><td>Bachelor's Degree</td><td>264</td><td>8154000</td><td>646000</td><td>Finance</td><td>Male</td><td>3/1/1998</td><td>317</td></tr><tr><td>High School Diploma</td><td>263</td><td>8154000</td><td>646000</td><td>Retail</td><td>Female</td><td>2/1/1998</td><td>317</td></tr><tr><td>High School Diploma</td><td>251</td><td>8154000</td><td>646000</td><td>Retail</td><td>Female</td><td>11/1/1997</td><td>317</td></tr><tr><td>Bachelor's Degree</td><td>1221</td><td>12311100</td><td>976900</td><td>Technology</td><td>Female</td><td>2/1/2019</td><td>318</td></tr><tr><td>High School Diploma</td><td>578</td><td>63000</td><td>5000</td><td>Energy</td><td>Male</td><td>9/1/2004</td><td>319</td></tr><tr><td>Master's Degree</td><td>670</td><td>63000</td><td>5000</td><td>Professional and Business S.</td><td>Male</td><td>8/1/2006</td><td>319</td></tr><tr><td>Associate's Degree</td><td>17</td><td>63000</td><td>5000</td><td>Retail</td><td>Female</td><td>5/1/2021</td><td>319</td></tr><tr><td>Associate's Degree</td><td>899</td><td>63000</td><td>5000</td><td>Energy</td><td>Female</td><td>5/1/2011</td><td>319</td></tr><tr><td>Associate's Degree</td><td>991</td><td>63000</td><td>5000</td><td>Energy</td><td>Female</td><td>4/1/2013</td><td>319</td></tr><tr><td>Associate's Degree</td><td>731</td><td>63000</td><td>5000</td><td>Retail</td><td>Female</td><td>11/1/2007</td><td>319</td></tr><tr><td>High School Diploma</td><td>1074</td><td>63000</td><td>5000</td><td>Agriculture</td><td>Male</td><td>1/1/2015</td><td>319</td></tr><tr><td>Master's Degree</td><td>1203</td><td>14376400</td><td>1142500</td><td>Education</td><td>Female</td><td>9/1/2017</td><td>320</td></tr><tr><td>Bachelor's Degree</td><td>1148</td><td>14376400</td><td>1142500</td><td>Retail</td><td>Male</td><td>8/1/2016</td><td>320</td></tr><tr><td>High School Diploma</td><td>1290</td><td>14376400</td><td>1142500</td><td>Agriculture</td><td>Male</td><td>7/1/2020</td><td>320</td></tr><tr><td>Master's Degree</td><td>1243</td><td>14376400</td><td>1142500</td><td>Retail</td><td>Female</td><td>7/1/2019</td><td>320</td></tr><tr><td>Master's Degree</td><td>1239</td><td>14376400</td><td>1142500</td><td>Manufacturing</td><td>Female</td><td>6/1/2019</td><td>320</td></tr><tr><td>Bachelor's Degree</td><td>1186</td><td>14376400</td><td>1142500</td><td>Education</td><td>Male</td><td>5/1/2017</td><td>320</td></tr><tr><td>Master's Degree</td><td>1279</td><td>14376400</td><td>1142500</td><td>Manufacturing</td><td>Female</td><td>4/1/2020</td><td>320</td></tr><tr><td>High School Diploma</td><td>1258</td><td>14376400</td><td>1142500</td><td>Education</td><td>Male</td><td>11/1/2019</td><td>320</td></tr><tr><td>High School Diploma</td><td>1218</td><td>14376400</td><td>1142500</td><td>Retail</td><td>Male</td><td>1/1/2019</td><td>320</td></tr><tr><td>Associate's Degree</td><td>963</td><td>75960</td><td>6040</td><td>Energy</td><td>Female</td><td>9/1/2012</td><td>321</td></tr><tr><td>Bachelor's Degree</td><td>675</td><td>75960</td><td>6040</td><td>Professional and Business S.</td><td>Female</td><td>9/1/2006</td><td>321</td></tr><tr><td>Master's Degree</td><td>625</td><td>75960</td><td>6040</td><td>Healthcare</td><td>Female</td><td>9/1/2005</td><td>321</td></tr><tr><td>Master's Degree</td><td>627</td><td>75960</td><td>6040</td><td>Energy</td><td>Female</td><td>9/1/2005</td><td>321</td></tr><tr><td>Associate's Degree</td><td>863</td><td>75960</td><td>6040</td><td>Professional and Business S.</td><td>Female</td><td>8/1/2010</td><td>321</td></tr><tr><td>Master's Degree</td><td>1095</td><td>75960</td><td>6040</td><td>Agriculture</td><td>Female</td><td>6/1/2015</td><td>321</td></tr><tr><td>Master's Degree</td><td>1183</td><td>75960</td><td>6040</td><td>Retail</td><td>Female</td><td>4/1/2017</td><td>321</td></tr><tr><td>Master's Degree</td><td>1135</td><td>75960</td><td>6040</td><td>Manufacturing</td><td>Female</td><td>4/1/2016</td><td>321</td></tr><tr><td>Bachelor's Degree</td><td>751</td><td>75960</td><td>6040</td><td>Hospitality</td><td>Female</td><td>4/1/2008</td><td>321</td></tr><tr><td>Bachelor's Degree</td><td>1035</td><td>75960</td><td>6040</td><td>Agriculture</td><td>Female</td><td>3/1/2014</td><td>321</td></tr><tr><td>Master's Degree</td><td>843</td><td>75960</td><td>6040</td><td>Energy</td><td>Female</td><td>3/1/2010</td><td>321</td></tr><tr><td>Master's Degree</td><td>1223</td><td>75960</td><td>6040</td><td>Professional and Business S.</td><td>Female</td><td>2/1/2019</td><td>321</td></tr><tr><td>Bachelor's Degree</td><td>695</td><td>75960</td><td>6040</td><td>Hospitality</td><td>Female</td><td>2/1/2007</td><td>321</td></tr><tr><td>Bachelor's Degree</td><td>311</td><td>75960</td><td>6040</td><td>Manufacturing</td><td>Female</td><td>2/1/1999</td><td>321</td></tr><tr><td>High School Diploma</td><td>639</td><td>75960</td><td>6040</td><td>Energy</td><td>Female</td><td>12/1/2005</td><td>321</td></tr><tr><td>Associate's Degree</td><td>875</td><td>75960</td><td>6040</td><td>Retail</td><td>Female</td><td>11/1/2010</td><td>321</td></tr><tr><td>Master's Degree</td><td>635</td><td>75960</td><td>6040</td><td>Hospitality</td><td>Female</td><td>11/1/2005</td><td>321</td></tr><tr><td>Master's Degree</td><td>1207</td><td>75960</td><td>6040</td><td>Energy</td><td>Female</td><td>10/1/2017</td><td>321</td></tr><tr><td>Master's Degree</td><td>823</td><td>75960</td><td>6040</td><td>Energy</td><td>Female</td><td>10/1/2009</td><td>321</td></tr><tr><td>Master's Degree</td><td>775</td><td>75960</td><td>6040</td><td>Retail</td><td>Female</td><td>10/1/2008</td><td>321</td></tr><tr><td>High School Diploma</td><td>631</td><td>75960</td><td>6040</td><td>Energy</td><td>Female</td><td>10/1/2005</td><td>321</td></tr><tr><td>Bachelor's Degree</td><td>787</td><td>75960</td><td>6040</td><td>Energy</td><td>Female</td><td>1/1/2009</td><td>321</td></tr><tr><td>Bachelor's Degree</td><td>277</td><td>9318000</td><td>742000</td><td>Manufacturing</td><td>Male</td><td>6/1/1998</td><td>322</td></tr><tr><td>Bachelor's Degree</td><td>268</td><td>9318000</td><td>742000</td><td>Manufacturing</td><td>Male</td><td>4/1/1998</td><td>322</td></tr><tr><td>Bachelor's Degree</td><td>258</td><td>9318000</td><td>742000</td><td>Manufacturing</td><td>Male</td><td>1/1/1998</td><td>322</td></tr><tr><td>Graduate</td><td>1523</td><td>413619</td><td>32947</td><td>Manufacturing</td><td>Male</td><td>12/1/2003</td><td>323</td></tr><tr><td>High School Diploma</td><td>224</td><td>8929000</td><td>713000</td><td>Finance</td><td>Female</td><td>5/1/1997</td><td>324</td></tr><tr><td>Master's Degree</td><td>632</td><td>125900</td><td>10100</td><td>Energy</td><td>Male</td><td>11/1/2005</td><td>325</td></tr><tr><td>Associate's Degree</td><td>32</td><td>14181000</td><td>1140000</td><td>Energy</td><td>Female</td><td>9/1/2021</td><td>326</td></tr><tr><td>Master's Degree</td><td>714</td><td>14181000</td><td>1140000</td><td>Retail</td><td>Male</td><td>7/1/2007</td><td>326</td></tr><tr><td>Master's Degree</td><td>1091</td><td>14181000</td><td>1140000</td><td>Retail</td><td>Female</td><td>5/1/2015</td><td>326</td></tr><tr><td>Master's Degree</td><td>938</td><td>14181000</td><td>1140000</td><td>Hospitality</td><td>Male</td><td>3/1/2012</td><td>326</td></tr><tr><td>Associate's Degree</td><td>551</td><td>14181000</td><td>1140000</td><td>Finance</td><td>Female</td><td>2/1/2004</td><td>326</td></tr><tr><td>Associate's Degree</td><td>687</td><td>14181000</td><td>1140000</td><td>Technology</td><td>Female</td><td>12/1/2006</td><td>326</td></tr><tr><td>Master's Degree</td><td>1067</td><td>14181000</td><td>1140000</td><td>Education</td><td>Female</td><td>11/1/2014</td><td>326</td></tr><tr><td>Associate's Degree</td><td>1019</td><td>14181000</td><td>1140000</td><td>finance</td><td>Female</td><td>11/1/2013</td><td>326</td></tr><tr><td>Master's Degree</td><td>546</td><td>14181000</td><td>1140000</td><td>Finance</td><td>Male</td><td>1/1/2004</td><td>326</td></tr><tr><td>Bachelor's Degree</td><td>617</td><td>89780</td><td>7220</td><td>Healthcare</td><td>Female</td><td>7/1/2005</td><td>327</td></tr><tr><td>Bachelor's Degree</td><td>621</td><td>80520</td><td>6480</td><td>Energy</td><td>Female</td><td>8/1/2005</td><td>328</td></tr><tr><td>Master's Degree</td><td>1147</td><td>12282200</td><td>988700</td><td>Technology</td><td>Female</td><td>7/1/2016</td><td>329</td></tr><tr><td>Bachelor's Degree</td><td>1086</td><td>12282200</td><td>988700</td><td>Technology</td><td>Male</td><td>4/1/2015</td><td>329</td></tr><tr><td>Bachelor's Degree</td><td>1131</td><td>12282200</td><td>988700</td><td>Retail</td><td>Female</td><td>3/1/2016</td><td>329</td></tr><tr><td>Master's Degree</td><td>1219</td><td>12282200</td><td>988700</td><td>Education</td><td>Female</td><td>2/1/2019</td><td>329</td></tr><tr><td>High School Diploma</td><td>1078</td><td>12282200</td><td>988700</td><td>Agriculture</td><td>Male</td><td>2/1/2015</td><td>329</td></tr><tr><td>Master's Degree</td><td>1167</td><td>12282200</td><td>988700</td><td>Education</td><td>Female</td><td>12/1/2016</td><td>329</td></tr><tr><td>High School Diploma</td><td>1114</td><td>12282200</td><td>988700</td><td>Professional and Business S.</td><td>Male</td><td>11/1/2015</td><td>329</td></tr><tr><td>Bachelor's Degree</td><td>1217</td><td>12282200</td><td>988700</td><td>Technology</td><td>Female</td><td>1/1/2019</td><td>329</td></tr><tr><td>High School Diploma</td><td>339</td><td>421000</td><td>34000</td><td>Healthcare</td><td>Female</td><td>9/1/1999</td><td>330</td></tr><tr><td>High School Diploma</td><td>300</td><td>421000</td><td>34000</td><td>Education</td><td>Male</td><td>12/1/1998</td><td>330</td></tr><tr><td>Bachelor's Degree</td><td>256</td><td>9266000</td><td>749000</td><td>Manufacturing</td><td>Male</td><td>1/1/1998</td><td>331</td></tr><tr><td>Associate's Degree</td><td>242</td><td>8047500</td><td>652500</td><td>Energy</td><td>Female</td><td>9/1/1997</td><td>332</td></tr><tr><td>Bachelor's Degree</td><td>235</td><td>8047500</td><td>652500</td><td>Retail</td><td>Male</td><td>7/1/1997</td><td>332</td></tr><tr><td>Associate's Degree</td><td>996</td><td>8047500</td><td>652500</td><td>Hospitality</td><td>Male</td><td>6/1/2013</td><td>332</td></tr><tr><td>Bachelor's Degree</td><td>231</td><td>8047500</td><td>652500</td><td>Healthcare</td><td>Male</td><td>6/1/1997</td><td>332</td></tr><tr><td>High School Diploma</td><td>560</td><td>8047500</td><td>652500</td><td>Finance</td><td>Male</td><td>5/1/2004</td><td>332</td></tr><tr><td>Associate's Degree</td><td>700</td><td>8047500</td><td>652500</td><td>Finance</td><td>Male</td><td>4/1/2007</td><td>332</td></tr><tr><td>Master's Degree</td><td>94</td><td>115625</td><td>9375</td><td>Manufacturing</td><td>Male</td><td>12/1/2022</td><td>332</td></tr><tr><td>Master's Degree</td><td>348</td><td>115625</td><td>9375</td><td>Manufacturing</td><td>Male</td><td>12/1/1999</td><td>332</td></tr><tr><td>Bachelor's Degree</td><td>252</td><td>8047500</td><td>652500</td><td>Finance</td><td>Male</td><td>12/1/1997</td><td>332</td></tr><tr><td>Bachelor's Degree</td><td>254</td><td>8047500</td><td>652500</td><td>Finance</td><td>Male</td><td>12/1/1997</td><td>332</td></tr><tr><td>Bachelor's Degree</td><td>1063</td><td>8047500</td><td>652500</td><td>Education</td><td>Female</td><td>10/1/2014</td><td>332</td></tr><tr><td>Associate's Degree</td><td>919</td><td>8047500</td><td>652500</td><td>Energy</td><td>Female</td><td>10/1/2011</td><td>332</td></tr><tr><td>Associate's Degree</td><td>676</td><td>148000</td><td>12000</td><td>Energy</td><td>Male</td><td>10/1/2006</td><td>332</td></tr><tr><td>Bachelor's Degree</td><td>294</td><td>115625</td><td>9375</td><td>Agriculture</td><td>Male</td><td>10/1/1998</td><td>332</td></tr><tr><td>High School Diploma</td><td>33</td><td>10546000</td><td>858000</td><td>Education</td><td>Male</td><td>9/1/2021</td><td>333</td></tr><tr><td>Master's Degree</td><td>816</td><td>10546000</td><td>858000</td><td>Energy</td><td>Male</td><td>9/1/2009</td><td>333</td></tr><tr><td>High School Diploma</td><td>241</td><td>10546000</td><td>858000</td><td>Education</td><td>Male</td><td>9/1/1997</td><td>333</td></tr><tr><td>Associate's Degree</td><td>715</td><td>10546000</td><td>858000</td><td>Professional and Business S.</td><td>Female</td><td>7/1/2007</td><td>333</td></tr><tr><td>Associate's Degree</td><td>1092</td><td>10546000</td><td>858000</td><td>Energy</td><td>Male</td><td>6/1/2015</td><td>333</td></tr><tr><td>Associate's Degree</td><td>939</td><td>10546000</td><td>858000</td><td>Professional and Business S.</td><td>Female</td><td>3/1/2012</td><td>333</td></tr><tr><td>High School Diploma</td><td>552</td><td>10546000</td><td>858000</td><td>Hospitality</td><td>Male</td><td>3/1/2004</td><td>333</td></tr><tr><td>Master's Degree</td><td>214</td><td>10546000</td><td>858000</td><td>Finance</td><td>Male</td><td>2/1/1997</td><td>333</td></tr><tr><td>Associate's Degree</td><td>1068</td><td>10546000</td><td>858000</td><td>Manufacturing</td><td>Male</td><td>12/1/2014</td><td>333</td></tr><tr><td>Associate's Degree</td><td>1020</td><td>10546000</td><td>858000</td><td>Agriculture</td><td>Male</td><td>12/1/2013</td><td>333</td></tr><tr><td>Bachelor's Degree</td><td>688</td><td>10546000</td><td>858000</td><td>Finance</td><td>Male</td><td>1/1/2007</td><td>333</td></tr><tr><td>Associate's Degree</td><td>547</td><td>10546000</td><td>858000</td><td>Hospitality</td><td>Female</td><td>1/1/2004</td><td>333</td></tr><tr><td>Bachelor's Degree</td><td>71</td><td>10531000</td><td>858000</td><td>Healthcare</td><td>Male</td><td>6/1/2022</td><td>334</td></tr><tr><td>Bachelor's Degree</td><td>229</td><td>10531000</td><td>858000</td><td>Healthcare</td><td>Male</td><td>6/1/1997</td><td>334</td></tr><tr><td>High School Diploma</td><td>207</td><td>10531000</td><td>858000</td><td>Healthcare</td><td>Female</td><td>12/1/1996</td><td>334</td></tr><tr><td>Bachelor's Degree</td><td>246</td><td>10531000</td><td>858000</td><td>Healthcare</td><td>Female</td><td>10/1/1997</td><td>334</td></tr><tr><td>Bachelor's Degree</td><td>1137</td><td>11421400</td><td>931100</td><td>Retail</td><td>Female</td><td>5/1/2016</td><td>335</td></tr><tr><td>High School Diploma</td><td>23</td><td>10516000</td><td>858000</td><td>Healthcare</td><td>Male</td><td>6/1/2021</td><td>336</td></tr><tr><td>High School Diploma</td><td>107</td><td>10516000</td><td>858000</td><td>Healthcare</td><td>Male</td><td>3/1/2023</td><td>336</td></tr><tr><td>High School Diploma</td><td>217</td><td>10516000</td><td>858000</td><td>Healthcare</td><td>Male</td><td>3/1/1997</td><td>336</td></tr><tr><td>Bachelor's Degree</td><td>280</td><td>806000</td><td>66000</td><td>Retail</td><td>Male</td><td>7/1/1998</td><td>337</td></tr><tr><td>High School Diploma</td><td>259</td><td>806000</td><td>66000</td><td>Agriculture</td><td>Female</td><td>1/1/1998</td><td>337</td></tr><tr><td>Associate's Degree</td><td>289</td><td>292000</td><td>24000</td><td>Energy</td><td>Female</td><td>9/1/1998</td><td>338</td></tr><tr><td>High School Diploma</td><td>70</td><td>14138000</td><td>1163000</td><td>Agriculture</td><td>Female</td><td>6/1/2022</td><td>339</td></tr><tr><td>High School Diploma</td><td>228</td><td>14138000</td><td>1163000</td><td>Agriculture</td><td>Female</td><td>6/1/1997</td><td>339</td></tr><tr><td>Bachelor's Degree</td><td>206</td><td>14138000</td><td>1163000</td><td>Education</td><td>Male</td><td>12/1/1996</td><td>339</td></tr><tr><td>High School Diploma</td><td>211</td><td>14138000</td><td>1163000</td><td>Healthcare</td><td>Female</td><td>1/1/1997</td><td>339</td></tr><tr><td>High School Diploma</td><td>1133</td><td>11371400</td><td>939100</td><td>Healthcare</td><td>Female</td><td>4/1/2016</td><td>340</td></tr><tr><td>High School Diploma</td><td>257</td><td>5908000</td><td>492000</td><td>Agriculture</td><td>Female</td><td>1/1/1998</td><td>341</td></tr><tr><td>Associate's Degree</td><td>680</td><td>120000</td><td>10000</td><td>Hospitality</td><td>Male</td><td>11/1/2006</td><td>342</td></tr><tr><td>College</td><td>1120</td><td>14064200</td><td>1174700</td><td>Energy</td><td>Male</td><td>1/1/2016</td><td>343</td></tr><tr><td>Master's Degree</td><td>1051</td><td>754000</td><td>63000</td><td>Energy</td><td>Female</td><td>7/1/2014</td><td>344</td></tr><tr><td>Master's Degree</td><td>954</td><td>754000</td><td>63000</td><td>Hospitality</td><td>Male</td><td>7/1/2012</td><td>344</td></tr><tr><td>Master's Degree</td><td>758</td><td>754000</td><td>63000</td><td>Education</td><td>Male</td><td>6/1/2008</td><td>344</td></tr><tr><td>Associate's Degree</td><td>562</td><td>754000</td><td>63000</td><td>Professional and Business S.</td><td>Male</td><td>5/1/2004</td><td>344</td></tr><tr><td>Associate's Degree</td><td>847</td><td>754000</td><td>63000</td><td>Energy</td><td>Female</td><td>4/1/2010</td><td>344</td></tr><tr><td>Bachelor's Degree</td><td>590</td><td>754000</td><td>63000</td><td>Energy</td><td>Male</td><td>12/1/2004</td><td>344</td></tr><tr><td>High School Diploma</td><td>1306</td><td>754000</td><td>63000</td><td>Technology</td><td>Male</td><td>11/1/2020</td><td>344</td></tr><tr><td>Master's Degree</td><td>1111</td><td>754000</td><td>63000</td><td>Agriculture</td><td>Female</td><td>10/1/2015</td><td>344</td></tr><tr><td>Bachelor's Degree</td><td>38</td><td>754000</td><td>63000</td><td>Agriculture</td><td>Male</td><td>10/1/1998</td><td>344</td></tr><tr><td>Bachelor's Degree</td><td>292</td><td>754000</td><td>63000</td><td>Agriculture</td><td>Male</td><td>10/1/1998</td><td>344</td></tr><tr><td>Bachelor's Degree</td><td>696</td><td>129200</td><td>10800</td><td>Hospitality</td><td>Male</td><td>3/1/2007</td><td>345</td></tr><tr><td>High School Diploma</td><td>527</td><td>83000</td><td>7000</td><td>Finance</td><td>Female</td><td>8/1/2003</td><td>346</td></tr><tr><td>Bachelor's Degree</td><td>495</td><td>83000</td><td>7000</td><td>Education</td><td>Female</td><td>12/1/2002</td><td>346</td></tr><tr><td>College</td><td>1136</td><td>14269200</td><td>1209000</td><td>Technology</td><td>Male</td><td>5/1/2016</td><td>347</td></tr><tr><td>High School Diploma</td><td>95</td><td>101400</td><td>8600</td><td>Retail</td><td>Female</td><td>12/1/2022</td><td>348</td></tr><tr><td>High School Diploma</td><td>349</td><td>101400</td><td>8600</td><td>Retail</td><td>Female</td><td>12/1/1999</td><td>348</td></tr><tr><td>Associate's Degree</td><td>633</td><td>81120</td><td>6880</td><td>Manufacturing</td><td>Female</td><td>11/1/2005</td><td>348</td></tr><tr><td>High School Diploma</td><td>295</td><td>101400</td><td>8600</td><td>Retail</td><td>Female</td><td>10/1/1998</td><td>348</td></tr><tr><td>Bachelor's Degree</td><td>1132</td><td>14207800</td><td>1210200</td><td>Manufacturing</td><td>Male</td><td>4/1/2016</td><td>349</td></tr><tr><td>Bachelor's Degree</td><td>1125</td><td>11236900</td><td>958300</td><td>Technology</td><td>Female</td><td>2/1/2016</td><td>350</td></tr><tr><td>Bachelor's Degree</td><td>22</td><td>14079000</td><td>1203000</td><td>Education</td><td>Female</td><td>6/1/2021</td><td>351</td></tr><tr><td>Bachelor's Degree</td><td>106</td><td>14079000</td><td>1203000</td><td>Education</td><td>Female</td><td>3/1/2023</td><td>351</td></tr><tr><td>Bachelor's Degree</td><td>216</td><td>14079000</td><td>1203000</td><td>Education</td><td>Female</td><td>3/1/1997</td><td>351</td></tr><tr><td>Bachelor's Degree</td><td>1121</td><td>11209100</td><td>960600</td><td>Hospitality</td><td>Female</td><td>1/1/2016</td><td>352</td></tr><tr><td>High School Diploma</td><td>1301</td><td>11784700</td><td>1024200</td><td>Retail</td><td>Female</td><td>10/1/2020</td><td>353</td></tr><tr><td>Master's Degree</td><td>771</td><td>101200</td><td>8800</td><td>Hospitality</td><td>Female</td><td>9/1/2008</td><td>354</td></tr><tr><td>Bachelor's Degree</td><td>674</td><td>82800</td><td>7200</td><td>Education</td><td>Male</td><td>9/1/2006</td><td>354</td></tr><tr><td>High School Diploma</td><td>626</td><td>82800</td><td>7200</td><td>Hospitality</td><td>Male</td><td>9/1/2005</td><td>354</td></tr><tr><td>Bachelor's Degree</td><td>958</td><td>101200</td><td>8800</td><td>Professional and Business S.</td><td>Male</td><td>8/1/2012</td><td>354</td></tr><tr><td>Master's Degree</td><td>862</td><td>82800</td><td>7200</td><td>Finance</td><td>Male</td><td>8/1/2010</td><td>354</td></tr><tr><td>Associate's Degree</td><td>719</td><td>101200</td><td>8800</td><td>Hospitality</td><td>Female</td><td>8/1/2007</td><td>354</td></tr><tr><td>High School Diploma</td><td>669</td><td>101200</td><td>8800</td><td>Healthcare</td><td>Female</td><td>8/1/2006</td><td>354</td></tr><tr><td>Associate's Degree</td><td>671</td><td>82800</td><td>7200</td><td>Finance</td><td>Female</td><td>8/1/2006</td><td>354</td></tr><tr><td>Master's Degree</td><td>622</td><td>101200</td><td>8800</td><td>Finance</td><td>Male</td><td>8/1/2005</td><td>354</td></tr><tr><td>Master's Degree</td><td>380</td><td>115000</td><td>10000</td><td>Healthcare</td><td>Male</td><td>8/1/2000</td><td>354</td></tr><tr><td>Bachelor's Degree</td><td>713</td><td>179400</td><td>15600</td><td>Technology</td><td>Female</td><td>7/1/2007</td><td>354</td></tr><tr><td>High School Diploma</td><td>666</td><td>82800</td><td>7200</td><td>Finance</td><td>Male</td><td>7/1/2006</td><td>354</td></tr><tr><td>High School Diploma</td><td>1094</td><td>82800</td><td>7200</td><td>Agriculture</td><td>Male</td><td>6/1/2015</td><td>354</td></tr><tr><td>Associate's Degree</td><td>708</td><td>202400</td><td>17600</td><td>Manufacturing</td><td>Male</td><td>6/1/2007</td><td>354</td></tr><tr><td>Bachelor's Degree</td><td>612</td><td>138000</td><td>12000</td><td>Finance</td><td>Male</td><td>6/1/2005</td><td>354</td></tr><tr><td>High School Diploma</td><td>613</td><td>78200</td><td>6800</td><td>Hospitality</td><td>Female</td><td>6/1/2005</td><td>354</td></tr><tr><td>High School Diploma</td><td>609</td><td>82800</td><td>7200</td><td>Education</td><td>Female</td><td>5/1/2005</td><td>354</td></tr><tr><td>High School Diploma</td><td>1182</td><td>82800</td><td>7200</td><td>Technology</td><td>Male</td><td>4/1/2017</td><td>354</td></tr><tr><td>High School Diploma</td><td>1134</td><td>82800</td><td>7200</td><td>Education</td><td>Male</td><td>4/1/2016</td><td>354</td></tr><tr><td>Master's Degree</td><td>799</td><td>82800</td><td>7200</td><td>Hospitality</td><td>Female</td><td>4/1/2009</td><td>354</td></tr><tr><td>High School Diploma</td><td>750</td><td>82800</td><td>7200</td><td>Finance</td><td>Male</td><td>4/1/2008</td><td>354</td></tr><tr><td>Associate's Degree</td><td>607</td><td>101200</td><td>8800</td><td>Finance</td><td>Female</td><td>4/1/2005</td><td>354</td></tr><tr><td>Bachelor's Degree</td><td>1034</td><td>82800</td><td>7200</td><td>Agriculture</td><td>Male</td><td>3/1/2014</td><td>354</td></tr><tr><td>College</td><td>985</td><td>101200</td><td>8800</td><td>Construction</td><td>Female</td><td>3/1/2013</td><td>354</td></tr><tr><td>Master's Degree</td><td>842</td><td>82800</td><td>7200</td><td>Professional and Business S.</td><td>Male</td><td>3/1/2010</td><td>354</td></tr><tr><td>High School Diploma</td><td>746</td><td>101200</td><td>8800</td><td>Education</td><td>Male</td><td>3/1/2008</td><td>354</td></tr><tr><td>High School Diploma</td><td>698</td><td>101200</td><td>8800</td><td>Education</td><td>Male</td><td>3/1/2007</td><td>354</td></tr><tr><td>Master's Degree</td><td>651</td><td>82800</td><td>7200</td><td>Energy</td><td>Female</td><td>3/1/2006</td><td>354</td></tr><tr><td>High School Diploma</td><td>171</td><td>69000</td><td>6000</td><td>Wholesale Trade</td><td>Female</td><td>3/1/1996</td><td>354</td></tr><tr><td>High School Diploma</td><td>1222</td><td>82800</td><td>7200</td><td>Retail</td><td>Male</td><td>2/1/2019</td><td>354</td></tr><tr><td>Master's Degree</td><td>934</td><td>82800</td><td>7200</td><td>Finance</td><td>Male</td><td>2/1/2012</td><td>354</td></tr><tr><td>Associate's Degree</td><td>743</td><td>82800</td><td>7200</td><td>Manufacturing</td><td>Female</td><td>2/1/2008</td><td>354</td></tr><tr><td>Master's Degree</td><td>694</td><td>82800</td><td>7200</td><td>Finance</td><td>Male</td><td>2/1/2007</td><td>354</td></tr><tr><td>Bachelor's Degree</td><td>684</td><td>202400</td><td>17600</td><td>Hospitality</td><td>Male</td><td>12/1/2006</td><td>354</td></tr><tr><td>Master's Degree</td><td>638</td><td>82800</td><td>7200</td><td>Energy</td><td>Male</td><td>12/1/2005</td><td>354</td></tr><tr><td>Bachelor's Degree</td><td>158</td><td>202400</td><td>17600</td><td>Manufacturing</td><td>Male</td><td>12/1/1995</td><td>354</td></tr><tr><td>Master's Degree</td><td>1018</td><td>101200</td><td>8800</td><td>Professional and Business S.</td><td>Male</td><td>11/1/2013</td><td>354</td></tr><tr><td>Master's Degree</td><td>970</td><td>82800</td><td>7200</td><td>Professional and Business S.</td><td>Male</td><td>11/1/2012</td><td>354</td></tr><tr><td>Master's Degree</td><td>874</td><td>82800</td><td>7200</td><td>Technology</td><td>Male</td><td>11/1/2010</td><td>354</td></tr><tr><td>Master's Degree</td><td>634</td><td>82800</td><td>7200</td><td>Energy</td><td>Male</td><td>11/1/2005</td><td>354</td></tr><tr><td>High School Diploma</td><td>1206</td><td>82800</td><td>7200</td><td>Retail</td><td>Male</td><td>10/1/2017</td><td>354</td></tr><tr><td>High School Diploma</td><td>822</td><td>82800</td><td>7200</td><td>Professional and Business S.</td><td>Male</td><td>10/1/2009</td><td>354</td></tr><tr><td>High School Diploma</td><td>774</td><td>82800</td><td>7200</td><td>Technology</td><td>Male</td><td>10/1/2008</td><td>354</td></tr><tr><td>Master's Degree</td><td>630</td><td>82800</td><td>7200</td><td>Finance</td><td>Male</td><td>10/1/2005</td><td>354</td></tr><tr><td>Master's Degree</td><td>1027</td><td>82800</td><td>7200</td><td>Manufacturing</td><td>Female</td><td>1/1/2014</td><td>354</td></tr><tr><td>Bachelor's Degree</td><td>786</td><td>82800</td><td>7200</td><td>Professional and Business S.</td><td>Male</td><td>1/1/2009</td><td>354</td></tr><tr><td>Associate's Degree</td><td>1128</td><td>14102700</td><td>1226500</td><td>Education</td><td>Male</td><td>3/1/2016</td><td>355</td></tr><tr><td>Bachelor's Degree</td><td>608</td><td>126900</td><td>11100</td><td>Hospitality</td><td>Male</td><td>5/1/2005</td><td>356</td></tr><tr><td>Master's Degree</td><td>430</td><td>91000</td><td>8000</td><td>Finance</td><td>Male</td><td>8/1/2001</td><td>357</td></tr><tr><td>Associate's Degree</td><td>446</td><td>91000</td><td>8000</td><td>Education</td><td>Male</td><td>12/1/2001</td><td>357</td></tr><tr><td>Bachelor's Degree</td><td>396</td><td>91000</td><td>8000</td><td>Education</td><td>Male</td><td>12/1/2000</td><td>357</td></tr><tr><td>Master's Degree</td><td>350</td><td>91000</td><td>8000</td><td>Manufacturing</td><td>Male</td><td>12/1/1999</td><td>357</td></tr><tr><td>Bachelor's Degree</td><td>993</td><td>11188300</td><td>984400</td><td>Finance</td><td>Female</td><td>5/1/2013</td><td>358</td></tr><tr><td>Associate's Degree</td><td>1124</td><td>14051600</td><td>1237500</td><td>Healthcare</td><td>Male</td><td>2/1/2016</td><td>359</td></tr><tr><td>High School Diploma</td><td>717</td><td>183800</td><td>16200</td><td>Finance</td><td>Female</td><td>8/1/2007</td><td>360</td></tr><tr><td>Bachelor's Degree</td><td>486</td><td>133250</td><td>11750</td><td>Education</td><td>Male</td><td>10/1/2002</td><td>361</td></tr><tr><td>Master's Degree</td><td>170</td><td>120500</td><td>10700</td><td>Education</td><td>Male</td><td>3/1/1996</td><td>362</td></tr><tr><td>Bachelor's Degree</td><td>162</td><td>120500</td><td>10700</td><td>Retail</td><td>Male</td><td>1/1/1996</td><td>362</td></tr><tr><td>Bachelor's Degree</td><td>1129</td><td>11242500</td><td>998900</td><td>Construction</td><td>Female</td><td>3/1/2016</td><td>363</td></tr><tr><td>Bachelor's Degree</td><td>701</td><td>174400</td><td>15600</td><td>Healthcare</td><td>Female</td><td>4/1/2007</td><td>364</td></tr><tr><td>High School</td><td>1305</td><td>11673000</td><td>1045400</td><td>Education</td><td>Female</td><td>11/1/2020</td><td>365</td></tr><tr><td>High School Diploma</td><td>1246</td><td>10230100</td><td>918700</td><td>Retail</td><td>Male</td><td>8/1/2019</td><td>366</td></tr><tr><td>High School Diploma</td><td>1238</td><td>10230100</td><td>918700</td><td>Education</td><td>Male</td><td>6/1/2019</td><td>366</td></tr><tr><td>High School Diploma</td><td>1282</td><td>10230100</td><td>918700</td><td>Education</td><td>Male</td><td>5/1/2020</td><td>366</td></tr><tr><td>College</td><td>1395</td><td>3350900</td><td>301100</td><td>Financial Services</td><td>Male</td><td>11/1/1997</td><td>367</td></tr><tr><td>Bachelor's Degree</td><td>957</td><td>11392600</td><td>1023800</td><td>Information Tech</td><td>Female</td><td>8/1/2012</td><td>368</td></tr><tr><td>Bachelor's Degree</td><td>1396</td><td>3355700</td><td>301800</td><td>Retail</td><td>Female</td><td>12/1/1997</td><td>369</td></tr><tr><td>College</td><td>953</td><td>11371300</td><td>1027400</td><td>Hospitality</td><td>Female</td><td>7/1/2012</td><td>370</td></tr><tr><td>High School</td><td>949</td><td>11331000</td><td>1024200</td><td>Retail</td><td>Female</td><td>6/1/2012</td><td>371</td></tr><tr><td>High School Diploma</td><td>729</td><td>178800</td><td>16200</td><td>Retail</td><td>Female</td><td>11/1/2007</td><td>372</td></tr><tr><td>Master's Degree</td><td>1394</td><td>3341900</td><td>303000</td><td>Manufacturing</td><td>Female</td><td>10/1/1997</td><td>373</td></tr><tr><td>Bachelor's Degree</td><td>668</td><td>220000</td><td>20000</td><td>Hospitality</td><td>Male</td><td>8/1/2006</td><td>374</td></tr><tr><td>Master's Degree</td><td>4</td><td>110000</td><td>10000</td><td>Finance</td><td>Male</td><td>2/1/2021</td><td>374</td></tr><tr><td>Master's Degree</td><td>392</td><td>121000</td><td>11000</td><td>Healthcare</td><td>Male</td><td>11/1/2000</td><td>374</td></tr><tr><td>Master's Degree</td><td>154</td><td>121000</td><td>11000</td><td>Healthcare</td><td>Male</td><td>11/1/1995</td><td>374</td></tr><tr><td>High School</td><td>1393</td><td>3335300</td><td>303900</td><td>Technology</td><td>Male</td><td>9/1/1997</td><td>375</td></tr><tr><td>High School Diploma</td><td>1297</td><td>11815300</td><td>1078200</td><td>Technology</td><td>Female</td><td>9/1/2020</td><td>376</td></tr><tr><td>College</td><td>1392</td><td>3329600</td><td>305000</td><td>Healthcare</td><td>Female</td><td>8/1/1997</td><td>377</td></tr><tr><td>Master's Degree</td><td>1057</td><td>11288600</td><td>1037600</td><td>Education and Health</td><td>Female</td><td>9/1/2014</td><td>378</td></tr><tr><td>Bachelor's Degree</td><td>384</td><td>87000</td><td>8000</td><td>Education</td><td>Male</td><td>9/1/2000</td><td>379</td></tr><tr><td>High School</td><td>1289</td><td>12027800</td><td>1109000</td><td>Finance</td><td>Female</td><td>7/1/2020</td><td>380</td></tr><tr><td>Bachelor's Degree</td><td>937</td><td>11230300</td><td>1038800</td><td>Hospitality</td><td>Female</td><td>3/1/2012</td><td>381</td></tr><tr><td>Bachelor's Degree</td><td>1391</td><td>3321700</td><td>307900</td><td>Retail</td><td>Male</td><td>7/1/1997</td><td>382</td></tr><tr><td>Bachelor's Degree</td><td>941</td><td>11237900</td><td>1042300</td><td>Finance</td><td>Female</td><td>4/1/2012</td><td>383</td></tr><tr><td>High School Diploma</td><td>725</td><td>183000</td><td>17000</td><td>Education</td><td>Female</td><td>10/1/2007</td><td>384</td></tr><tr><td>Bachelor's Degree</td><td>1053</td><td>11260000</td><td>1053100</td><td>Transportation and Utilities</td><td>Female</td><td>8/1/2014</td><td>385</td></tr><tr><td>Bachelor's Degree</td><td>672</td><td>160000</td><td>15000</td><td>Hospitality</td><td>Male</td><td>9/1/2006</td><td>386</td></tr><tr><td>Associate's Degree</td><td>945</td><td>11300200</td><td>1059400</td><td>Retail</td><td>Female</td><td>5/1/2012</td><td>387</td></tr><tr><td>High School</td><td>1390</td><td>3312500</td><td>310800</td><td>Financial Services</td><td>Female</td><td>6/1/1997</td><td>388</td></tr><tr><td>High School Diploma</td><td>1309</td><td>11515700</td><td>1082000</td><td>Hospitality</td><td>Female</td><td>12/1/2020</td><td>389</td></tr><tr><td>College</td><td>1389</td><td>3306400</td><td>311000</td><td>Manufacturing</td><td>Male</td><td>5/1/1997</td><td>390</td></tr><tr><td>High School Diploma</td><td>721</td><td>178200</td><td>16800</td><td>Energy</td><td>Female</td><td>9/1/2007</td><td>391</td></tr><tr><td>High School</td><td>992</td><td>14085800</td><td>1330000</td><td>Hospitality</td><td>Male</td><td>5/1/2013</td><td>392</td></tr><tr><td>Master's Degree</td><td>1049</td><td>11234600</td><td>1061800</td><td>Education and Health</td><td>Female</td><td>7/1/2014</td><td>393</td></tr><tr><td>Bachelor's Degree</td><td>400</td><td>95000</td><td>9000</td><td>Healthcare</td><td>Male</td><td>1/1/2001</td><td>394</td></tr><tr><td>High School Diploma</td><td>1293</td><td>11884200</td><td>1126500</td><td>Technology</td><td>Female</td><td>8/1/2020</td><td>395</td></tr><tr><td>Master's Degree</td><td>1388</td><td>3298300</td><td>312900</td><td>Technology</td><td>Female</td><td>4/1/1997</td><td>396</td></tr><tr><td>Bachelor's Degree</td><td>402</td><td>68500</td><td>6500</td><td>Finance</td><td>Male</td><td>1/1/2001</td><td>397</td></tr><tr><td>High School</td><td>1387</td><td>3291500</td><td>313900</td><td>Healthcare</td><td>Male</td><td>3/1/1997</td><td>398</td></tr><tr><td>Bachelor's Degree</td><td>1045</td><td>11208600</td><td>1070500</td><td>Information</td><td>Female</td><td>6/1/2014</td><td>399</td></tr><tr><td>Associate's Degree</td><td>951</td><td>13973800</td><td>1335800</td><td>Retail</td><td>Female</td><td>6/1/2012</td><td>400</td></tr><tr><td>High School</td><td>984</td><td>13973800</td><td>1335800</td><td>Health Care</td><td>Male</td><td>3/1/2013</td><td>400</td></tr><tr><td>Associate's Degree</td><td>879</td><td>13973800</td><td>1335800</td><td>Manufacturing</td><td>Female</td><td>12/1/2010</td><td>400</td></tr><tr><td>Associate's Degree</td><td>923</td><td>13973800</td><td>1335800</td><td>Energy</td><td>Female</td><td>11/1/2011</td><td>400</td></tr><tr><td>High School Diploma</td><td>319</td><td>115000</td><td>11000</td><td>Retail</td><td>Female</td><td>4/1/1999</td><td>401</td></tr><tr><td>Master's Degree</td><td>404</td><td>115000</td><td>11000</td><td>Agriculture</td><td>Male</td><td>2/1/2001</td><td>401</td></tr><tr><td>Master's Degree</td><td>118</td><td>115000</td><td>11000</td><td>Agriculture</td><td>Male</td><td>2/1/1995</td><td>401</td></tr><tr><td>High School Diploma</td><td>1154</td><td>94000</td><td>9000</td><td>Agriculture</td><td>Male</td><td>9/1/2016</td><td>402</td></tr><tr><td>Master's Degree</td><td>962</td><td>94000</td><td>9000</td><td>Professional and Business S.</td><td>Male</td><td>9/1/2012</td><td>402</td></tr><tr><td>Associate's Degree</td><td>867</td><td>94000</td><td>9000</td><td>Hospitality</td><td>Female</td><td>9/1/2010</td><td>402</td></tr><tr><td>High School Diploma</td><td>770</td><td>94000</td><td>9000</td><td>Hospitality</td><td>Male</td><td>9/1/2008</td><td>402</td></tr><tr><td>Master's Degree</td><td>1102</td><td>94000</td><td>9000</td><td>Education</td><td>Male</td><td>8/1/2015</td><td>402</td></tr><tr><td>Associate's Degree</td><td>1007</td><td>94000</td><td>9000</td><td>Professional and Business S.</td><td>Female</td><td>8/1/2013</td><td>402</td></tr><tr><td>High School Diploma</td><td>1242</td><td>94000</td><td>9000</td><td>Technology</td><td>Male</td><td>7/1/2019</td><td>402</td></tr><tr><td>High School Diploma</td><td>1194</td><td>94000</td><td>9000</td><td>Retail</td><td>Male</td><td>7/1/2017</td><td>402</td></tr><tr><td>Master's Degree</td><td>1003</td><td>94000</td><td>9000</td><td>Professional and Business S.</td><td>Female</td><td>7/1/2013</td><td>402</td></tr><tr><td>Bachelor's Degree</td><td>376</td><td>94000</td><td>9000</td><td>Agriculture</td><td>Male</td><td>7/1/2000</td><td>402</td></tr><tr><td>High School Diploma</td><td>1286</td><td>94000</td><td>9000</td><td>Technology</td><td>Male</td><td>6/1/2020</td><td>402</td></tr><tr><td>High School Diploma</td><td>1042</td><td>94000</td><td>9000</td><td>Retail</td><td>Male</td><td>5/1/2014</td><td>402</td></tr><tr><td>Master's Degree</td><td>994</td><td>94000</td><td>9000</td><td>Professional and Business S.</td><td>Male</td><td>5/1/2013</td><td>402</td></tr><tr><td>High School Diploma</td><td>802</td><td>94000</td><td>9000</td><td>Agriculture</td><td>Male</td><td>5/1/2009</td><td>402</td></tr><tr><td>Associate's Degree</td><td>706</td><td>94000</td><td>9000</td><td>Retail</td><td>Male</td><td>5/1/2007</td><td>402</td></tr><tr><td>High School Diploma</td><td>1038</td><td>94000</td><td>9000</td><td>Agriculture</td><td>Male</td><td>4/1/2014</td><td>402</td></tr><tr><td>Master's Degree</td><td>990</td><td>94000</td><td>9000</td><td>Professional and Business S.</td><td>Male</td><td>4/1/2013</td><td>402</td></tr><tr><td>Master's Degree</td><td>943</td><td>94000</td><td>9000</td><td>Manufacturing</td><td>Female</td><td>4/1/2012</td><td>402</td></tr><tr><td>Master's Degree</td><td>606</td><td>94000</td><td>9000</td><td>Professional and Business S.</td><td>Male</td><td>4/1/2005</td><td>402</td></tr><tr><td>Master's Degree</td><td>1127</td><td>94000</td><td>9000</td><td>Agriculture</td><td>Female</td><td>2/1/2016</td><td>402</td></tr><tr><td>Master's Degree</td><td>886</td><td>94000</td><td>9000</td><td>Hospitality</td><td>Male</td><td>2/1/2011</td><td>402</td></tr><tr><td>Master's Degree</td><td>782</td><td>94000</td><td>9000</td><td>Hospitality</td><td>Male</td><td>12/1/2008</td><td>402</td></tr><tr><td>High School Diploma</td><td>542</td><td>94000</td><td>9000</td><td>Hospitality</td><td>Male</td><td>12/1/2003</td><td>402</td></tr><tr><td>Master's Degree</td><td>1257</td><td>94000</td><td>9000</td><td>Retail</td><td>Female</td><td>11/1/2019</td><td>402</td></tr><tr><td>High School Diploma</td><td>1066</td><td>94000</td><td>9000</td><td>Retail</td><td>Male</td><td>11/1/2014</td><td>402</td></tr><tr><td>College</td><td>1013</td><td>94000</td><td>9000</td><td>Retail</td><td>Female</td><td>10/1/2013</td><td>402</td></tr><tr><td>Bachelor's Degree</td><td>978</td><td>94000</td><td>9000</td><td>Professional and Business S.</td><td>Male</td><td>1/1/2013</td><td>402</td></tr><tr><td>Master's Degree</td><td>930</td><td>94000</td><td>9000</td><td>Professional and Business S.</td><td>Male</td><td>1/1/2012</td><td>402</td></tr><tr><td>Bachelor's Degree</td><td>1386</td><td>3282300</td><td>314500</td><td>Retail</td><td>Female</td><td>2/1/1997</td><td>403</td></tr><tr><td>College</td><td>933</td><td>11145700</td><td>1069600</td><td>Health Care</td><td>Female</td><td>2/1/2012</td><td>404</td></tr><tr><td>Master's Degree</td><td>322</td><td>76600</td><td>7400</td><td>Finance</td><td>Male</td><td>5/1/1999</td><td>405</td></tr><tr><td>Master's Degree</td><td>980</td><td>13941200</td><td>1351200</td><td>Retail</td><td>Male</td><td>2/1/2013</td><td>406</td></tr><tr><td>Bachelor's Degree</td><td>981</td><td>10963800</td><td>1068100</td><td>Education</td><td>Female</td><td>2/1/2013</td><td>407</td></tr><tr><td>Master's Degree</td><td>1251</td><td>11148800</td><td>1091100</td><td>Manufacturing</td><td>Female</td><td>9/1/2019</td><td>408</td></tr><tr><td>Master's Degree</td><td>1199</td><td>11148800</td><td>1091100</td><td>Education</td><td>Female</td><td>8/1/2017</td><td>408</td></tr><tr><td>Master's Degree</td><td>1099</td><td>11148800</td><td>1091100</td><td>Energy</td><td>Female</td><td>7/1/2015</td><td>408</td></tr><tr><td>Master's Degree</td><td>1287</td><td>11148800</td><td>1091100</td><td>Retail</td><td>Female</td><td>6/1/2020</td><td>408</td></tr><tr><td>College</td><td>1037</td><td>11148800</td><td>1091100</td><td>Professional and Business Services</td><td>Female</td><td>4/1/2014</td><td>408</td></tr><tr><td>Master's Degree</td><td>1227</td><td>11148800</td><td>1091100</td><td>Manufacturing</td><td>Female</td><td>3/1/2019</td><td>408</td></tr><tr><td>High School Diploma</td><td>1262</td><td>11148800</td><td>1091100</td><td>Education</td><td>Male</td><td>12/1/2019</td><td>408</td></tr><tr><td>Master's Degree</td><td>1215</td><td>11148800</td><td>1091100</td><td>Education</td><td>Female</td><td>12/1/2017</td><td>408</td></tr><tr><td>Master's Degree</td><td>1303</td><td>11148800</td><td>1091100</td><td>Technology</td><td>Female</td><td>10/1/2020</td><td>408</td></tr><tr><td>Master's Degree</td><td>1267</td><td>11148800</td><td>1091100</td><td>Professional and Business S.</td><td>Female</td><td>1/1/2020</td><td>408</td></tr><tr><td>Master's Degree</td><td>1123</td><td>11148800</td><td>1091100</td><td>Retail</td><td>Female</td><td>1/1/2016</td><td>408</td></tr><tr><td>College</td><td>1029</td><td>11106900</td><td>1088300</td><td>Retail</td><td>Female</td><td>2/1/2014</td><td>409</td></tr><tr><td>High School Diploma</td><td>1033</td><td>11114100</td><td>1096600</td><td>Retail</td><td>Female</td><td>3/1/2014</td><td>410</td></tr><tr><td>College</td><td>1385</td><td>3264900</td><td>322600</td><td>Financial Services</td><td>Male</td><td>1/1/1997</td><td>411</td></tr><tr><td>Bachelor's Degree</td><td>709</td><td>182000</td><td>18000</td><td>Technology</td><td>Female</td><td>6/1/2007</td><td>412</td></tr><tr><td>Associate's Degree</td><td>335</td><td>95500</td><td>9500</td><td>Education</td><td>Female</td><td>8/1/1999</td><td>413</td></tr><tr><td>High School Diploma</td><td>174</td><td>80000</td><td>8000</td><td>Agriculture</td><td>Male</td><td>4/1/1996</td><td>414</td></tr><tr><td>Associate's Degree</td><td>393</td><td>80000</td><td>8000</td><td>Retail</td><td>Female</td><td>11/1/2000</td><td>414</td></tr><tr><td>Associate's Degree</td><td>155</td><td>80000</td><td>8000</td><td>Retail</td><td>Female</td><td>11/1/1995</td><td>414</td></tr><tr><td>High School</td><td>1056</td><td>15984100</td><td>1615600</td><td>Construction</td><td>Male</td><td>9/1/2014</td><td>415</td></tr><tr><td>Bachelor's Degree</td><td>952</td><td>16012900</td><td>1619600</td><td>Energy</td><td>Male</td><td>7/1/2012</td><td>416</td></tr><tr><td>Associate's Degree</td><td>956</td><td>16033200</td><td>1634400</td><td>Energy</td><td>Male</td><td>8/1/2012</td><td>417</td></tr><tr><td>College</td><td>977</td><td>10958400</td><td>1117500</td><td>Hospitality</td><td>Female</td><td>1/1/2013</td><td>418</td></tr><tr><td>College</td><td>948</td><td>15980600</td><td>1633600</td><td>Technology</td><td>Male</td><td>6/1/2012</td><td>419</td></tr><tr><td>Associate's Degree</td><td>405</td><td>78000</td><td>8000</td><td>Retail</td><td>Female</td><td>2/1/2001</td><td>420</td></tr><tr><td>Associate's Degree</td><td>119</td><td>78000</td><td>8000</td><td>Retail</td><td>Female</td><td>2/1/1995</td><td>420</td></tr><tr><td>Bachelor's Degree</td><td>113</td><td>195000</td><td>20000</td><td>Healthcare</td><td>Female</td><td>1/1/1995</td><td>420</td></tr><tr><td>Associate's Degree</td><td>936</td><td>15921400</td><td>1635300</td><td>Energy</td><td>Male</td><td>3/1/2012</td><td>421</td></tr><tr><td>Associate's Degree</td><td>303</td><td>107000</td><td>11000</td><td>Energy</td><td>Female</td><td>12/1/1998</td><td>422</td></tr><tr><td>Bachelor's Degree</td><td>388</td><td>107000</td><td>11000</td><td>Finance</td><td>Male</td><td>10/1/2000</td><td>422</td></tr><tr><td>Bachelor's Degree</td><td>150</td><td>107000</td><td>11000</td><td>Finance</td><td>Male</td><td>10/1/1995</td><td>422</td></tr><tr><td>Bachelor's Degree</td><td>723</td><td>68000</td><td>7000</td><td>Finance</td><td>Female</td><td>9/1/2007</td><td>423</td></tr><tr><td>Master's Degree</td><td>1055</td><td>68000</td><td>7000</td><td>Retail</td><td>Female</td><td>8/1/2014</td><td>423</td></tr><tr><td>Associate's Degree</td><td>911</td><td>68000</td><td>7000</td><td>Hospitality</td><td>Female</td><td>8/1/2011</td><td>423</td></tr><tr><td>Associate's Degree</td><td>947</td><td>68000</td><td>7000</td><td>Manufacturing</td><td>Female</td><td>5/1/2012</td><td>423</td></tr><tr><td>Bachelor's Degree</td><td>175</td><td>68000</td><td>7000</td><td>Healthcare</td><td>Female</td><td>4/1/1996</td><td>423</td></tr><tr><td>Master's Degree</td><td>1175</td><td>68000</td><td>7000</td><td>Energy</td><td>Female</td><td>2/1/2017</td><td>423</td></tr><tr><td>High School Diploma</td><td>167</td><td>68000</td><td>7000</td><td>Finance</td><td>Female</td><td>2/1/1996</td><td>423</td></tr><tr><td>Associate's Degree</td><td>544</td><td>68000</td><td>7000</td><td>Trade, Transportation, Util.</td><td>Male</td><td>1/1/2004</td><td>423</td></tr><tr><td>Bachelor's Degree</td><td>54</td><td>961000</td><td>99000</td><td>Manufacturing</td><td>Male</td><td>2/1/2022</td><td>424</td></tr><tr><td>Bachelor's Degree</td><td>116</td><td>961000</td><td>99000</td><td>Manufacturing</td><td>Male</td><td>2/1/1995</td><td>424</td></tr><tr><td>Associate's Degree</td><td>940</td><td>15921500</td><td>1640400</td><td>Energy</td><td>Male</td><td>4/1/2012</td><td>425</td></tr><tr><td>High School</td><td>1048</td><td>15914400</td><td>1646700</td><td>Professional and Business Services</td><td>Male</td><td>7/1/2014</td><td>426</td></tr><tr><td>High School Diploma</td><td>55</td><td>589000</td><td>61000</td><td>Education</td><td>Female</td><td>2/1/2022</td><td>427</td></tr><tr><td>High School Diploma</td><td>117</td><td>589000</td><td>61000</td><td>Education</td><td>Female</td><td>2/1/1995</td><td>427</td></tr><tr><td>Associate's Degree</td><td>944</td><td>15959200</td><td>1657300</td><td>Technology</td><td>Male</td><td>5/1/2012</td><td>428</td></tr><tr><td>Associate's Degree</td><td>381</td><td>77000</td><td>8000</td><td>Wholesale Trade</td><td>Female</td><td>8/1/2000</td><td>429</td></tr><tr><td>High School Diploma</td><td>1050</td><td>13418200</td><td>1394900</td><td>Professional and Business S.</td><td>Male</td><td>7/1/2014</td><td>430</td></tr><tr><td>Bachelor's Degree</td><td>903</td><td>13418200</td><td>1394900</td><td>Hospitality</td><td>Female</td><td>6/1/2011</td><td>430</td></tr><tr><td>High School Diploma</td><td>1138</td><td>13418200</td><td>1394900</td><td>Education</td><td>Male</td><td>5/1/2016</td><td>430</td></tr><tr><td>High School Diploma</td><td>1090</td><td>13418200</td><td>1394900</td><td>Technology</td><td>Male</td><td>5/1/2015</td><td>430</td></tr><tr><td>Associate's Degree</td><td>1031</td><td>13418200</td><td>1394900</td><td>Manufacturing</td><td>Female</td><td>2/1/2014</td><td>430</td></tr><tr><td>High School Diploma</td><td>1070</td><td>13418200</td><td>1394900</td><td>Retail</td><td>Male</td><td>12/1/2014</td><td>430</td></tr><tr><td>High School Diploma</td><td>1023</td><td>13418200</td><td>1394900</td><td>Hospitality</td><td>Female</td><td>12/1/2013</td><td>430</td></tr><tr><td>Associate's Degree</td><td>975</td><td>13418200</td><td>1394900</td><td>Energy</td><td>Female</td><td>12/1/2012</td><td>430</td></tr><tr><td>Bachelor's Degree</td><td>1104</td><td>13413800</td><td>1396300</td><td>Technology</td><td>Male</td><td>9/1/2015</td><td>431</td></tr><tr><td>Associate's Degree</td><td>976</td><td>13876000</td><td>1444800</td><td>Hospitality</td><td>Male</td><td>1/1/2013</td><td>432</td></tr><tr><td>Associate's Degree</td><td>323</td><td>161200</td><td>16800</td><td>Education</td><td>Female</td><td>5/1/1999</td><td>433</td></tr><tr><td>Associate's Degree</td><td>1116</td><td>13399500</td><td>1401800</td><td>Hospitality</td><td>Male</td><td>12/1/2015</td><td>434</td></tr><tr><td>Bachelor's Degree</td><td>1096</td><td>13402800</td><td>1403100</td><td>Manufacturing</td><td>Male</td><td>7/1/2015</td><td>435</td></tr><tr><td>Bachelor's Degree</td><td>1108</td><td>13395600</td><td>1402500</td><td>Technology</td><td>Male</td><td>10/1/2015</td><td>436</td></tr><tr><td>College</td><td>1044</td><td>15871900</td><td>1662300</td><td>Manufacturing</td><td>Male</td><td>6/1/2014</td><td>437</td></tr><tr><td>Bachelor's Degree</td><td>1100</td><td>13398600</td><td>1403600</td><td>Hospitality</td><td>Male</td><td>8/1/2015</td><td>438</td></tr><tr><td>College</td><td>885</td><td>10993700</td><td>1153800</td><td>Finance</td><td>Female</td><td>2/1/2011</td><td>439</td></tr><tr><td>Bachelor's Degree</td><td>318</td><td>57000</td><td>6000</td><td>Manufacturing</td><td>Male</td><td>4/1/1999</td><td>440</td></tr><tr><td>High School Diploma</td><td>401</td><td>57000</td><td>6000</td><td>Retail</td><td>Female</td><td>1/1/2001</td><td>440</td></tr><tr><td>High School Diploma</td><td>427</td><td>81420</td><td>8580</td><td>Retail</td><td>Female</td><td>7/1/2001</td><td>441</td></tr><tr><td>High School Diploma</td><td>459</td><td>81420</td><td>8580</td><td>Wholesale Trade</td><td>Female</td><td>3/1/2002</td><td>441</td></tr><tr><td>High School Diploma</td><td>411</td><td>81420</td><td>8580</td><td>Healthcare</td><td>Female</td><td>3/1/2001</td><td>441</td></tr><tr><td>Bachelor's Degree</td><td>905</td><td>11024500</td><td>1167400</td><td>Finance</td><td>Female</td><td>7/1/2011</td><td>442</td></tr><tr><td>Master's Degree</td><td>1058</td><td>1148000</td><td>122000</td><td>Agriculture</td><td>Male</td><td>9/1/2014</td><td>443</td></tr><tr><td>High School Diploma</td><td>814</td><td>1148000</td><td>122000</td><td>Agriculture</td><td>Male</td><td>8/1/2009</td><td>443</td></tr><tr><td>High School Diploma</td><td>1142</td><td>1148000</td><td>122000</td><td>Technology</td><td>Male</td><td>6/1/2016</td><td>443</td></tr><tr><td>Bachelor's Degree</td><td>66</td><td>1148000</td><td>122000</td><td>Manufacturing</td><td>Male</td><td>5/1/2022</td><td>443</td></tr><tr><td>Bachelor's Degree</td><td>128</td><td>1148000</td><td>122000</td><td>Manufacturing</td><td>Male</td><td>5/1/1995</td><td>443</td></tr><tr><td>Master's Degree</td><td>926</td><td>1148000</td><td>122000</td><td>Professional and Business S.</td><td>Male</td><td>12/1/2011</td><td>443</td></tr><tr><td>Bachelor's Degree</td><td>587</td><td>1148000</td><td>122000</td><td>Professional and Business S.</td><td>Female</td><td>11/1/2004</td><td>443</td></tr><tr><td>High School</td><td>932</td><td>15891000</td><td>1692700</td><td>Manufacturing</td><td>Male</td><td>2/1/2012</td><td>444</td></tr><tr><td>High School Diploma</td><td>1250</td><td>15804800</td><td>1687800</td><td>Retail</td><td>Male</td><td>9/1/2019</td><td>445</td></tr><tr><td>High School Diploma</td><td>1198</td><td>15804800</td><td>1687800</td><td>Retail</td><td>Male</td><td>8/1/2017</td><td>445</td></tr><tr><td>High School Diploma</td><td>1098</td><td>15804800</td><td>1687800</td><td>Professional and Business S.</td><td>Male</td><td>7/1/2015</td><td>445</td></tr><tr><td>Master's Degree</td><td>1036</td><td>15804800</td><td>1687800</td><td>Retail</td><td>Male</td><td>4/1/2014</td><td>445</td></tr><tr><td>High School Diploma</td><td>1226</td><td>15804800</td><td>1687800</td><td>Education</td><td>Male</td><td>3/1/2019</td><td>445</td></tr><tr><td>High School Diploma</td><td>1214</td><td>15804800</td><td>1687800</td><td>Agriculture</td><td>Male</td><td>12/1/2017</td><td>445</td></tr><tr><td>High School Diploma</td><td>1302</td><td>15804800</td><td>1687800</td><td>Agriculture</td><td>Male</td><td>10/1/2020</td><td>445</td></tr><tr><td>High School Diploma</td><td>1266</td><td>15804800</td><td>1687800</td><td>Agriculture</td><td>Male</td><td>1/1/2020</td><td>445</td></tr><tr><td>High School Diploma</td><td>1122</td><td>15804800</td><td>1687800</td><td>Technology</td><td>Male</td><td>1/1/2016</td><td>445</td></tr><tr><td>Bachelor's Degree</td><td>881</td><td>10912500</td><td>1166200</td><td>Retail</td><td>Female</td><td>1/1/2011</td><td>446</td></tr><tr><td>Master's Degree</td><td>476</td><td>135500</td><td>14500</td><td>Finance</td><td>Male</td><td>8/1/2002</td><td>447</td></tr><tr><td>Associate's Degree</td><td>431</td><td>56000</td><td>6000</td><td>Education</td><td>Female</td><td>8/1/2001</td><td>448</td></tr><tr><td>High School Diploma</td><td>377</td><td>56000</td><td>6000</td><td>Manufacturing</td><td>Female</td><td>7/1/2000</td><td>448</td></tr><tr><td>High School Diploma</td><td>447</td><td>56000</td><td>6000</td><td>Finance</td><td>Female</td><td>12/1/2001</td><td>448</td></tr><tr><td>High School Diploma</td><td>397</td><td>56000</td><td>6000</td><td>Energy</td><td>Female</td><td>12/1/2000</td><td>448</td></tr><tr><td>High School Diploma</td><td>351</td><td>56000</td><td>6000</td><td>Retail</td><td>Female</td><td>12/1/1999</td><td>448</td></tr><tr><td>High School Diploma</td><td>973</td><td>11250400</td><td>1213500</td><td>Financial Services</td><td>Female</td><td>12/1/2012</td><td>449</td></tr><tr><td>High School</td><td>901</td><td>11047400</td><td>1192800</td><td>Finance</td><td>Female</td><td>6/1/2011</td><td>450</td></tr><tr><td>Bachelor's Degree</td><td>1032</td><td>15759400</td><td>1703900</td><td>Technology</td><td>Male</td><td>3/1/2014</td><td>451</td></tr><tr><td>College</td><td>897</td><td>11042600</td><td>1196800</td><td>Health Care</td><td>Female</td><td>5/1/2011</td><td>452</td></tr><tr><td>Associate's Degree</td><td>11</td><td>275000</td><td>30000</td><td>Retail</td><td>Female</td><td>3/1/2021</td><td>453</td></tr><tr><td>Associate's Degree</td><td>121</td><td>275000</td><td>30000</td><td>Retail</td><td>Female</td><td>3/1/1995</td><td>453</td></tr><tr><td>College</td><td>969</td><td>11233100</td><td>1225900</td><td>Hospitality</td><td>Female</td><td>11/1/2012</td><td>454</td></tr><tr><td>Bachelor's Degree</td><td>63</td><td>293000</td><td>32000</td><td>Healthcare</td><td>Female</td><td>4/1/2022</td><td>455</td></tr><tr><td>Bachelor's Degree</td><td>125</td><td>293000</td><td>32000</td><td>Healthcare</td><td>Female</td><td>4/1/1995</td><td>455</td></tr><tr><td>Master's Degree</td><td>818</td><td>11224400</td><td>1227200</td><td>Finance</td><td>Male</td><td>9/1/2009</td><td>456</td></tr><tr><td>Associate's Degree</td><td>530</td><td>11224400</td><td>1227200</td><td>Hospitality</td><td>Male</td><td>9/1/2003</td><td>456</td></tr><tr><td>Master's Degree</td><td>710</td><td>11224400</td><td>1227200</td><td>Retail</td><td>Male</td><td>6/1/2007</td><td>456</td></tr><tr><td>High School Diploma</td><td>662</td><td>11224400</td><td>1227200</td><td>Agriculture</td><td>Male</td><td>6/1/2006</td><td>456</td></tr><tr><td>Bachelor's Degree</td><td>850</td><td>11224400</td><td>1227200</td><td>Professional and Business S.</td><td>Male</td><td>5/1/2010</td><td>456</td></tr><tr><td>College</td><td>845</td><td>11224400</td><td>1227200</td><td>Information Tech</td><td>Female</td><td>4/1/2010</td><td>456</td></tr><tr><td>Master's Degree</td><td>654</td><td>11224400</td><td>1227200</td><td>Agriculture</td><td>Male</td><td>4/1/2006</td><td>456</td></tr><tr><td>Master's Degree</td><td>598</td><td>11224400</td><td>1227200</td><td>Hospitality</td><td>Male</td><td>2/1/2005</td><td>456</td></tr><tr><td>Master's Degree</td><td>734</td><td>11224400</td><td>1227200</td><td>Retail</td><td>Male</td><td>12/1/2007</td><td>456</td></tr><tr><td>High School</td><td>965</td><td>11224400</td><td>1227200</td><td>Construction</td><td>Female</td><td>10/1/2012</td><td>456</td></tr><tr><td>High School Diploma</td><td>726</td><td>11224400</td><td>1227200</td><td>Education</td><td>Male</td><td>10/1/2007</td><td>456</td></tr><tr><td>Bachelor's Degree</td><td>582</td><td>11224400</td><td>1227200</td><td>Professional and Business S.</td><td>Male</td><td>10/1/2004</td><td>456</td></tr><tr><td>Bachelor's Degree</td><td>882</td><td>11224400</td><td>1227200</td><td>Professional and Business S.</td><td>Male</td><td>1/1/2011</td><td>456</td></tr><tr><td>Master's Degree</td><td>690</td><td>11224400</td><td>1227200</td><td>Retail</td><td>Male</td><td>1/1/2007</td><td>456</td></tr><tr><td>High School Diploma</td><td>389</td><td>64000</td><td>7000</td><td>Agriculture</td><td>Female</td><td>10/1/2000</td><td>457</td></tr><tr><td>High School Diploma</td><td>151</td><td>64000</td><td>7000</td><td>Agriculture</td><td>Female</td><td>10/1/1995</td><td>457</td></tr><tr><td>Bachelor's Degree</td><td>1028</td><td>15732900</td><td>1721000</td><td>Technology</td><td>Male</td><td>2/1/2014</td><td>458</td></tr><tr><td>High School Diploma</td><td>112</td><td>712000</td><td>78000</td><td>Retail</td><td>Male</td><td>1/1/1995</td><td>459</td></tr><tr><td>High School Diploma</td><td>483</td><td>739000</td><td>81000</td><td>Agriculture</td><td>Female</td><td>9/1/2002</td><td>460</td></tr><tr><td>Master's Degree</td><td>10</td><td>739000</td><td>81000</td><td>Finance</td><td>Male</td><td>3/1/2021</td><td>460</td></tr><tr><td>Master's Degree</td><td>120</td><td>739000</td><td>81000</td><td>Finance</td><td>Male</td><td>3/1/1995</td><td>460</td></tr><tr><td>Bachelor's Degree</td><td>477</td><td>85600</td><td>9400</td><td>Retail</td><td>Female</td><td>8/1/2002</td><td>461</td></tr><tr><td>Bachelor's Degree</td><td>479</td><td>85600</td><td>9400</td><td>Retail</td><td>Female</td><td>8/1/2002</td><td>461</td></tr><tr><td>Bachelor's Degree</td><td>473</td><td>85600</td><td>9400</td><td>Retail</td><td>Female</td><td>7/1/2002</td><td>461</td></tr><tr><td>High School Diploma</td><td>472</td><td>198200</td><td>21800</td><td>Healthcare</td><td>Female</td><td>7/1/2002</td><td>462</td></tr><tr><td>Associate's Degree</td><td>915</td><td>89900</td><td>9900</td><td>Retail</td><td>Female</td><td>9/1/2011</td><td>463</td></tr><tr><td>High School Diploma</td><td>1002</td><td>89900</td><td>9900</td><td>Hospitality</td><td>Male</td><td>7/1/2013</td><td>463</td></tr><tr><td>Master's Degree</td><td>763</td><td>89900</td><td>9900</td><td>Hospitality</td><td>Female</td><td>7/1/2008</td><td>463</td></tr><tr><td>High School Diploma</td><td>327</td><td>153100</td><td>16900</td><td>Healthcare</td><td>Female</td><td>6/1/1999</td><td>464</td></tr><tr><td>High School Diploma</td><td>62</td><td>788000</td><td>87000</td><td>Agriculture</td><td>Male</td><td>4/1/2022</td><td>465</td></tr><tr><td>High School Diploma</td><td>124</td><td>788000</td><td>87000</td><td>Agriculture</td><td>Male</td><td>4/1/1995</td><td>465</td></tr><tr><td>College</td><td>865</td><td>11122700</td><td>1230900</td><td>Finance</td><td>Female</td><td>9/1/2010</td><td>466</td></tr><tr><td>Bachelor's Degree</td><td>849</td><td>11006400</td><td>1219200</td><td>Hospitality</td><td>Female</td><td>5/1/2010</td><td>467</td></tr><tr><td>Bachelor's Degree</td><td>500</td><td>130520</td><td>14480</td><td>Agriculture</td><td>Male</td><td>2/1/2003</td><td>468</td></tr><tr><td>High School</td><td>889</td><td>10925200</td><td>1212400</td><td>Construction</td><td>Female</td><td>3/1/2011</td><td>469</td></tr><tr><td>Bachelor's Degree</td><td>80</td><td>180000</td><td>20000</td><td>Energy</td><td>Male</td><td>9/1/2022</td><td>470</td></tr><tr><td>High School Diploma</td><td>81</td><td>94500</td><td>10500</td><td>Healthcare</td><td>Female</td><td>9/1/2022</td><td>470</td></tr><tr><td>Bachelor's Degree</td><td>82</td><td>126000</td><td>14000</td><td>Manufacturing</td><td>Male</td><td>9/1/2022</td><td>470</td></tr><tr><td>High School Diploma</td><td>83</td><td>81000</td><td>9000</td><td>Retail</td><td>Female</td><td>9/1/2022</td><td>470</td></tr><tr><td>Bachelor's Degree</td><td>34</td><td>171000</td><td>19000</td><td>Energy</td><td>Male</td><td>9/1/2021</td><td>470</td></tr><tr><td>High School Diploma</td><td>35</td><td>90000</td><td>10000</td><td>Healthcare</td><td>Female</td><td>9/1/2021</td><td>470</td></tr><tr><td>College</td><td>1152</td><td>121500</td><td>13500</td><td>Hospitality</td><td>Male</td><td>9/1/2016</td><td>470</td></tr><tr><td>Bachelor's Degree</td><td>1153</td><td>81000</td><td>9000</td><td>Education</td><td>Female</td><td>9/1/2016</td><td>470</td></tr><tr><td>Associate's Degree</td><td>1059</td><td>675000</td><td>75000</td><td>Technology</td><td>Female</td><td>9/1/2014</td><td>470</td></tr><tr><td>Associate's Degree</td><td>1011</td><td>121500</td><td>13500</td><td>Technology</td><td>Female</td><td>9/1/2013</td><td>470</td></tr><tr><td>Associate's Degree</td><td>960</td><td>121500</td><td>13500</td><td>Hospitality</td><td>Male</td><td>9/1/2012</td><td>470</td></tr><tr><td>High School</td><td>961</td><td>81000</td><td>9000</td><td>Hospitality</td><td>Female</td><td>9/1/2012</td><td>470</td></tr><tr><td>High School Diploma</td><td>673</td><td>81000</td><td>9000</td><td>Education</td><td>Female</td><td>9/1/2006</td><td>470</td></tr><tr><td>Associate's Degree</td><td>576</td><td>126000</td><td>14000</td><td>Finance</td><td>Male</td><td>9/1/2004</td><td>470</td></tr><tr><td>Bachelor's Degree</td><td>577</td><td>81000</td><td>9000</td><td>Hospitality</td><td>Female</td><td>9/1/2004</td><td>470</td></tr><tr><td>Associate's Degree</td><td>480</td><td>112500</td><td>12500</td><td>Education</td><td>Male</td><td>9/1/2002</td><td>470</td></tr><tr><td>High School Diploma</td><td>481</td><td>72000</td><td>8000</td><td>Agriculture</td><td>Female</td><td>9/1/2002</td><td>470</td></tr><tr><td>Associate's Degree</td><td>482</td><td>81000</td><td>9000</td><td>Finance</td><td>Male</td><td>9/1/2002</td><td>470</td></tr><tr><td>Bachelor's Degree</td><td>432</td><td>144000</td><td>16000</td><td>Agriculture</td><td>Male</td><td>9/1/2001</td><td>470</td></tr><tr><td>High School Diploma</td><td>433</td><td>76500</td><td>8500</td><td>Healthcare</td><td>Female</td><td>9/1/2001</td><td>470</td></tr><tr><td>Bachelor's Degree</td><td>386</td><td>91800</td><td>10200</td><td>Education</td><td>Male</td><td>9/1/2000</td><td>470</td></tr><tr><td>High School Diploma</td><td>387</td><td>126900</td><td>14100</td><td>Energy</td><td>Female</td><td>9/1/2000</td><td>470</td></tr><tr><td>Bachelor's Degree</td><td>336</td><td>171000</td><td>19000</td><td>Energy</td><td>Male</td><td>9/1/1999</td><td>470</td></tr><tr><td>High School Diploma</td><td>337</td><td>90000</td><td>10000</td><td>Healthcare</td><td>Female</td><td>9/1/1999</td><td>470</td></tr><tr><td>High School Diploma</td><td>290</td><td>135000</td><td>15000</td><td>Education</td><td>Male</td><td>9/1/1998</td><td>470</td></tr><tr><td>Associate's Degree</td><td>291</td><td>85500</td><td>9500</td><td>Energy</td><td>Female</td><td>9/1/1998</td><td>470</td></tr><tr><td>High School Diploma</td><td>144</td><td>99000</td><td>11000</td><td>Wholesale Trade</td><td>Male</td><td>9/1/1995</td><td>470</td></tr><tr><td>Bachelor's Degree</td><td>145</td><td>72000</td><td>8000</td><td>Healthcare</td><td>Female</td><td>9/1/1995</td><td>470</td></tr><tr><td>Bachelor's Degree</td><td>146</td><td>126000</td><td>14000</td><td>Manufacturing</td><td>Male</td><td>9/1/1995</td><td>470</td></tr><tr><td>High School Diploma</td><td>147</td><td>81000</td><td>9000</td><td>Retail</td><td>Female</td><td>9/1/1995</td><td>470</td></tr><tr><td>Master's Degree</td><td>76</td><td>99000</td><td>11000</td><td>Finance</td><td>Male</td><td>8/1/2022</td><td>470</td></tr><tr><td>Associate's Degree</td><td>77</td><td>67500</td><td>7500</td><td>Education</td><td>Female</td><td>8/1/2022</td><td>470</td></tr><tr><td>Bachelor's Degree</td><td>79</td><td>85500</td><td>9500</td><td>Retail</td><td>Female</td><td>8/1/2022</td><td>470</td></tr><tr><td>Master's Degree</td><td>28</td><td>117000</td><td>13000</td><td>Retail</td><td>Male</td><td>8/1/2021</td><td>470</td></tr><tr><td>Associate's Degree</td><td>29</td><td>76500</td><td>8500</td><td>Hospitality</td><td>Female</td><td>8/1/2021</td><td>470</td></tr><tr><td>High School Diploma</td><td>815</td><td>675000</td><td>75000</td><td>Professional and Business S.</td><td>Female</td><td>8/1/2009</td><td>470</td></tr><tr><td>Associate's Degree</td><td>572</td><td>180000</td><td>20000</td><td>Hospitality</td><td>Male</td><td>8/1/2004</td><td>470</td></tr><tr><td>Bachelor's Degree</td><td>573</td><td>94500</td><td>10500</td><td>Energy</td><td>Female</td><td>8/1/2004</td><td>470</td></tr><tr><td>Master's Degree</td><td>428</td><td>103500</td><td>11500</td><td>Finance</td><td>Male</td><td>8/1/2001</td><td>470</td></tr><tr><td>Associate's Degree</td><td>429</td><td>67500</td><td>7500</td><td>Education</td><td>Female</td><td>8/1/2001</td><td>470</td></tr><tr><td>Master's Degree</td><td>332</td><td>103500</td><td>11500</td><td>Finance</td><td>Male</td><td>8/1/1999</td><td>470</td></tr><tr><td>Associate's Degree</td><td>333</td><td>67500</td><td>7500</td><td>Education</td><td>Female</td><td>8/1/1999</td><td>470</td></tr><tr><td>Bachelor's Degree</td><td>140</td><td>1296000</td><td>144000</td><td>Manufacturing</td><td>Male</td><td>8/1/1995</td><td>470</td></tr><tr><td>High School</td><td>141</td><td>810000</td><td>90000</td><td>Retail</td><td>Female</td><td>8/1/1995</td><td>470</td></tr><tr><td>Bachelor's Degree</td><td>142</td><td>180000</td><td>20000</td><td>Energy</td><td>Male</td><td>8/1/1995</td><td>470</td></tr><tr><td>High School Diploma</td><td>143</td><td>94500</td><td>10500</td><td>Healthcare</td><td>Female</td><td>8/1/1995</td><td>470</td></tr><tr><td>Bachelor's Degree</td><td>72</td><td>117000</td><td>13000</td><td>Manufacturing</td><td>Male</td><td>7/1/2022</td><td>470</td></tr><tr><td>High School Diploma</td><td>73</td><td>76500</td><td>8500</td><td>Healthcare</td><td>Female</td><td>7/1/2022</td><td>470</td></tr><tr><td>High School Diploma</td><td>74</td><td>882000</td><td>98000</td><td>Agriculture</td><td>Male</td><td>7/1/2022</td><td>470</td></tr><tr><td>Bachelor's Degree</td><td>75</td><td>373500</td><td>41500</td><td>Healthcare</td><td>Female</td><td>7/1/2022</td><td>470</td></tr><tr><td>Bachelor's Degree</td><td>24</td><td>108000</td><td>12000</td><td>Tech</td><td>Male</td><td>7/1/2021</td><td>470</td></tr><tr><td>High School Diploma</td><td>25</td><td>90000</td><td>10000</td><td>Education</td><td>Female</td><td>7/1/2021</td><td>470</td></tr><tr><td>High School Diploma</td><td>26</td><td>882000</td><td>98000</td><td>Agriculture</td><td>Male</td><td>7/1/2021</td><td>470</td></tr><tr><td>Bachelor's Degree</td><td>27</td><td>373500</td><td>41500</td><td>Healthcare</td><td>Female</td><td>7/1/2021</td><td>470</td></tr><tr><td>Associate's Degree</td><td>1192</td><td>121500</td><td>13500</td><td>Technology</td><td>Male</td><td>7/1/2017</td><td>470</td></tr><tr><td>Bachelor's Degree</td><td>1193</td><td>81000</td><td>9000</td><td>Retail</td><td>Female</td><td>7/1/2017</td><td>470</td></tr><tr><td>Master's Degree</td><td>906</td><td>207000</td><td>23000</td><td>Professional and Business S.</td><td>Male</td><td>7/1/2011</td><td>470</td></tr><tr><td>Associate's Degree</td><td>907</td><td>108000</td><td>12000</td><td>Energy</td><td>Female</td><td>7/1/2011</td><td>470</td></tr><tr><td>Associate's Degree</td><td>760</td><td>131400</td><td>14600</td><td>Technology</td><td>Male</td><td>7/1/2008</td><td>470</td></tr><tr><td>Bachelor's Degree</td><td>761</td><td>188550</td><td>20950</td><td>Retail</td><td>Female</td><td>7/1/2008</td><td>470</td></tr><tr><td>Associate's Degree</td><td>664</td><td>144000</td><td>16000</td><td>Energy</td><td>Male</td><td>7/1/2006</td><td>470</td></tr><tr><td>Bachelor's Degree</td><td>665</td><td>76500</td><td>8500</td><td>Finance</td><td>Female</td><td>7/1/2006</td><td>470</td></tr><tr><td>Bachelor's Degree</td><td>424</td><td>126000</td><td>14000</td><td>Manufacturing</td><td>Male</td><td>7/1/2001</td><td>470</td></tr><tr><td>High School Diploma</td><td>425</td><td>94500</td><td>10500</td><td>Retail</td><td>Female</td><td>7/1/2001</td><td>470</td></tr><tr><td>Bachelor's Degree</td><td>328</td><td>126000</td><td>14000</td><td>Manufacturing</td><td>Male</td><td>7/1/1999</td><td>470</td></tr><tr><td>High School Diploma</td><td>329</td><td>94500</td><td>10500</td><td>Retail</td><td>Female</td><td>7/1/1999</td><td>470</td></tr><tr><td>High School Diploma</td><td>136</td><td>882000</td><td>98000</td><td>Agriculture</td><td>Male</td><td>7/1/1995</td><td>470</td></tr><tr><td>Bachelor's Degree</td><td>137</td><td>373500</td><td>41500</td><td>Healthcare</td><td>Female</td><td>7/1/1995</td><td>470</td></tr><tr><td>Bachelor's Degree</td><td>138</td><td>126000</td><td>14000</td><td>Manufacturing</td><td>Male</td><td>7/1/1995</td><td>470</td></tr><tr><td>High School Diploma</td><td>139</td><td>94500</td><td>10500</td><td>Retail</td><td>Female</td><td>7/1/1995</td><td>470</td></tr><tr><td>Bachelor's Degree</td><td>68</td><td>144000</td><td>16000</td><td>Energy</td><td>Male</td><td>6/1/2022</td><td>470</td></tr><tr><td>High School Diploma</td><td>69</td><td>76500</td><td>8500</td><td>Retail</td><td>Female</td><td>6/1/2022</td><td>470</td></tr><tr><td>Bachelor's Degree</td><td>20</td><td>153000</td><td>17000</td><td>Finance</td><td>Male</td><td>6/1/2021</td><td>470</td></tr><tr><td>High School Diploma</td><td>21</td><td>72000</td><td>8000</td><td>Healthcare</td><td>Female</td><td>6/1/2021</td><td>470</td></tr><tr><td>High School</td><td>1284</td><td>121500</td><td>13500</td><td>Technology</td><td>Male</td><td>6/1/2020</td><td>470</td></tr><tr><td>Bachelor's Degree</td><td>1285</td><td>81000</td><td>9000</td><td>Retail</td><td>Female</td><td>6/1/2020</td><td>470</td></tr><tr><td>Master's Degree</td><td>1143</td><td>675000</td><td>75000</td><td>Retail</td><td>Female</td><td>6/1/2016</td><td>470</td></tr><tr><td>High School Diploma</td><td>1046</td><td>207000</td><td>23000</td><td>Technology</td><td>Male</td><td>6/1/2014</td><td>470</td></tr><tr><td>Master's Degree</td><td>1047</td><td>108000</td><td>12000</td><td>Retail</td><td>Female</td><td>6/1/2014</td><td>470</td></tr><tr><td>Master's Degree</td><td>756</td><td>108000</td><td>12000</td><td>Technology</td><td>Male</td><td>6/1/2008</td><td>470</td></tr><tr><td>Associate's Degree</td><td>757</td><td>186750</td><td>20750</td><td>Retail</td><td>Female</td><td>6/1/2008</td><td>470</td></tr><tr><td>Bachelor's Degree</td><td>660</td><td>126000</td><td>14000</td><td>Finance</td><td>Male</td><td>6/1/2006</td><td>470</td></tr><tr><td>High School Diploma</td><td>661</td><td>94500</td><td>10500</td><td>Hospitality</td><td>Female</td><td>6/1/2006</td><td>470</td></tr><tr><td>High School Diploma</td><td>614</td><td>207000</td><td>23000</td><td>Energy</td><td>Male</td><td>6/1/2005</td><td>470</td></tr><tr><td>High School Diploma</td><td>615</td><td>108000</td><td>12000</td><td>Finance</td><td>Female</td><td>6/1/2005</td><td>470</td></tr><tr><td>Associate's Degree</td><td>468</td><td>132300</td><td>14700</td><td>Finance</td><td>Male</td><td>6/1/2002</td><td>470</td></tr><tr><td>High School Diploma</td><td>469</td><td>79200</td><td>8800</td><td>Education</td><td>Female</td><td>6/1/2002</td><td>470</td></tr><tr><td>Bachelor's Degree</td><td>420</td><td>171000</td><td>19000</td><td>Energy</td><td>Male</td><td>6/1/2001</td><td>470</td></tr><tr><td>High School Diploma</td><td>421</td><td>90000</td><td>10000</td><td>Healthcare</td><td>Female</td><td>6/1/2001</td><td>470</td></tr><tr><td>Master's Degree</td><td>374</td><td>121500</td><td>13500</td><td>Manufacturing</td><td>Male</td><td>6/1/2000</td><td>470</td></tr><tr><td>High School Diploma</td><td>375</td><td>81000</td><td>9000</td><td>Retail</td><td>Female</td><td>6/1/2000</td><td>470</td></tr><tr><td>Bachelor's Degree</td><td>324</td><td>144000</td><td>16000</td><td>Agriculture</td><td>Male</td><td>6/1/1999</td><td>470</td></tr><tr><td>High School Diploma</td><td>325</td><td>76500</td><td>8500</td><td>Healthcare</td><td>Female</td><td>6/1/1999</td><td>470</td></tr><tr><td>Bachelor's Degree</td><td>180</td><td>144000</td><td>16000</td><td>Manufacturing</td><td>Male</td><td>6/1/1996</td><td>470</td></tr><tr><td>High School Diploma</td><td>181</td><td>76500</td><td>8500</td><td>Healthcare</td><td>Female</td><td>6/1/1996</td><td>470</td></tr><tr><td>Master's Degree</td><td>132</td><td>805500</td><td>89500</td><td>Finance</td><td>Male</td><td>6/1/1995</td><td>470</td></tr><tr><td>Associate's Degree</td><td>133</td><td>364500</td><td>40500</td><td>Education</td><td>Female</td><td>6/1/1995</td><td>470</td></tr><tr><td>Bachelor's Degree</td><td>64</td><td>103500</td><td>11500</td><td>Technology</td><td>Male</td><td>5/1/2022</td><td>470</td></tr><tr><td>Associate's Degree</td><td>65</td><td>63000</td><td>7000</td><td>Education</td><td>Female</td><td>5/1/2022</td><td>470</td></tr><tr><td>High School Diploma</td><td>67</td><td>675000</td><td>75000</td><td>Retail</td><td>Female</td><td>5/1/2022</td><td>470</td></tr><tr><td>Master's Degree</td><td>16</td><td>99000</td><td>11000</td><td>Manufacturing</td><td>Male</td><td>5/1/2021</td><td>470</td></tr><tr><td>High School Diploma</td><td>18</td><td>162000</td><td>18000</td><td>Retail</td><td>Male</td><td>5/1/2021</td><td>470</td></tr><tr><td>Bachelor's Degree</td><td>19</td><td>94500</td><td>10500</td><td>Manufacturing</td><td>Female</td><td>5/1/2021</td><td>470</td></tr><tr><td>Bachelor's Degree</td><td>1187</td><td>81000</td><td>9000</td><td>Manufacturing</td><td>Female</td><td>5/1/2017</td><td>470</td></tr><tr><td>Bachelor's Degree</td><td>1040</td><td>121500</td><td>13500</td><td>Transportation and Utilities</td><td>Male</td><td>5/1/2014</td><td>470</td></tr><tr><td>High School</td><td>1041</td><td>81000</td><td>9000</td><td>Trade, Transportation, and Utilities</td><td>Female</td><td>5/1/2014</td><td>470</td></tr><tr><td>Bachelor's Degree</td><td>752</td><td>128700</td><td>14300</td><td>Hospitality</td><td>Male</td><td>5/1/2008</td><td>470</td></tr><tr><td>High School Diploma</td><td>753</td><td>185400</td><td>20600</td><td>Finance</td><td>Female</td><td>5/1/2008</td><td>470</td></tr><tr><td>Associate's Degree</td><td>755</td><td>207000</td><td>23000</td><td>Manufacturing</td><td>Female</td><td>5/1/2008</td><td>470</td></tr><tr><td>Bachelor's Degree</td><td>704</td><td>121500</td><td>13500</td><td>Manufacturing</td><td>Male</td><td>5/1/2007</td><td>470</td></tr><tr><td>High School Diploma</td><td>705</td><td>81000</td><td>9000</td><td>Retail</td><td>Female</td><td>5/1/2007</td><td>470</td></tr><tr><td>Bachelor's Degree</td><td>656</td><td>103500</td><td>11500</td><td>Finance</td><td>Male</td><td>5/1/2006</td><td>470</td></tr><tr><td>Associate's Degree</td><td>657</td><td>67500</td><td>7500</td><td>Education</td><td>Female</td><td>5/1/2006</td><td>470</td></tr><tr><td>High School Diploma</td><td>464</td><td>162000</td><td>18000</td><td>Retail</td><td>Male</td><td>5/1/2002</td><td>470</td></tr><tr><td>Bachelor's Degree</td><td>465</td><td>94500</td><td>10500</td><td>Manufacturing</td><td>Female</td><td>5/1/2002</td><td>470</td></tr><tr><td>Master's Degree</td><td>416</td><td>126000</td><td>14000</td><td>Finance</td><td>Male</td><td>5/1/2001</td><td>470</td></tr><tr><td>Associate's Degree</td><td>417</td><td>81000</td><td>9000</td><td>Education</td><td>Female</td><td>5/1/2001</td><td>470</td></tr><tr><td>Master's Degree</td><td>320</td><td>103500</td><td>11500</td><td>Finance</td><td>Male</td><td>5/1/1999</td><td>470</td></tr><tr><td>Associate's Degree</td><td>321</td><td>67500</td><td>7500</td><td>Education</td><td>Female</td><td>5/1/1999</td><td>470</td></tr><tr><td>Master's Degree</td><td>274</td><td>121500</td><td>13500</td><td>Healthcare</td><td>Male</td><td>5/1/1998</td><td>470</td></tr><tr><td>High School Diploma</td><td>275</td><td>85500</td><td>9500</td><td>Retail</td><td>Female</td><td>5/1/1998</td><td>470</td></tr><tr><td>Associate's Degree</td><td>176</td><td>103500</td><td>11500</td><td>Retail</td><td>Male</td><td>5/1/1996</td><td>470</td></tr><tr><td>High School Diploma</td><td>177</td><td>67500</td><td>7500</td><td>Finance</td><td>Female</td><td>5/1/1996</td><td>470</td></tr><tr><td>Associate's Degree</td><td>178</td><td>85500</td><td>9500</td><td>Retail</td><td>Male</td><td>5/1/1996</td><td>470</td></tr><tr><td>Bachelor's Degree</td><td>108</td><td>171000</td><td>19000</td><td>Energy</td><td>Male</td><td>4/1/2023</td><td>470</td></tr><tr><td>Bachelor's Degree</td><td>109</td><td>90000</td><td>10000</td><td>Healthcare</td><td>Female</td><td>4/1/2023</td><td>470</td></tr><tr><td>High School Diploma</td><td>110</td><td>121500</td><td>13500</td><td>Agriculture</td><td>Male</td><td>4/1/2023</td><td>470</td></tr><tr><td>Bachelor's Degree</td><td>111</td><td>85500</td><td>9500</td><td>Wholesale Trade</td><td>Female</td><td>4/1/2023</td><td>470</td></tr><tr><td>Bachelor's Degree</td><td>60</td><td>121500</td><td>13500</td><td>Manufacturing</td><td>Male</td><td>4/1/2022</td><td>470</td></tr><tr><td>High School Diploma</td><td>61</td><td>81000</td><td>9000</td><td>Healthcare</td><td>Female</td><td>4/1/2022</td><td>470</td></tr><tr><td>Bachelor's Degree</td><td>12</td><td>117000</td><td>13000</td><td>Hospitality</td><td>Male</td><td>4/1/2021</td><td>470</td></tr><tr><td>High School Diploma</td><td>13</td><td>85500</td><td>9500</td><td>Agriculture</td><td>Female</td><td>4/1/2021</td><td>470</td></tr><tr><td>High School Diploma</td><td>14</td><td>121500</td><td>13500</td><td>Agriculture</td><td>Male</td><td>4/1/2021</td><td>470</td></tr><tr><td>Bachelor's Degree</td><td>15</td><td>85500</td><td>9500</td><td>Healthcare</td><td>Female</td><td>4/1/2021</td><td>470</td></tr><tr><td>Bachelor's Degree</td><td>1180</td><td>108000</td><td>12000</td><td>Financial Services</td><td>Male</td><td>4/1/2017</td><td>470</td></tr><tr><td>Associate's Degree</td><td>988</td><td>121500</td><td>13500</td><td>Hospitality</td><td>Male</td><td>4/1/2013</td><td>470</td></tr><tr><td>Master's Degree</td><td>989</td><td>81000</td><td>9000</td><td>Manufacturing</td><td>Female</td><td>4/1/2013</td><td>470</td></tr><tr><td>Bachelor's Degree</td><td>748</td><td>126900</td><td>14100</td><td>Energy</td><td>Male</td><td>4/1/2008</td><td>470</td></tr><tr><td>Bachelor's Degree</td><td>749</td><td>182700</td><td>20300</td><td>Finance</td><td>Female</td><td>4/1/2008</td><td>470</td></tr><tr><td>Bachelor's Degree</td><td>652</td><td>144000</td><td>16000</td><td>Manufacturing</td><td>Male</td><td>4/1/2006</td><td>470</td></tr><tr><td>High School Diploma</td><td>653</td><td>76500</td><td>8500</td><td>Retail</td><td>Female</td><td>4/1/2006</td><td>470</td></tr><tr><td>Master's Degree</td><td>604</td><td>121500</td><td>13500</td><td>Manufacturing</td><td>Male</td><td>4/1/2005</td><td>470</td></tr><tr><td>Associate's Degree</td><td>605</td><td>81000</td><td>9000</td><td>Healthcare</td><td>Female</td><td>4/1/2005</td><td>470</td></tr><tr><td>Master's Degree</td><td>460</td><td>144900</td><td>16100</td><td>Healthcare</td><td>Male</td><td>4/1/2002</td><td>470</td></tr><tr><td>Bachelor's Degree</td><td>461</td><td>78300</td><td>8700</td><td>Agriculture</td><td>Female</td><td>4/1/2002</td><td>470</td></tr><tr><td>Bachelor's Degree</td><td>412</td><td>153000</td><td>17000</td><td>Manufacturing</td><td>Male</td><td>4/1/2001</td><td>470</td></tr><tr><td>High School Diploma</td><td>413</td><td>115200</td><td>12800</td><td>Retail</td><td>Female</td><td>4/1/2001</td><td>470</td></tr><tr><td>Bachelor's Degree</td><td>316</td><td>126000</td><td>14000</td><td>Manufacturing</td><td>Male</td><td>4/1/1999</td><td>470</td></tr><tr><td>High School Diploma</td><td>317</td><td>94500</td><td>10500</td><td>Retail</td><td>Female</td><td>4/1/1999</td><td>470</td></tr><tr><td>High School Diploma</td><td>172</td><td>121500</td><td>13500</td><td>Agriculture</td><td>Male</td><td>4/1/1996</td><td>470</td></tr><tr><td>Bachelor's Degree</td><td>173</td><td>85500</td><td>9500</td><td>Healthcare</td><td>Female</td><td>4/1/1996</td><td>470</td></tr><tr><td>Bachelor's Degree</td><td>126</td><td>126000</td><td>14000</td><td>Wholesale Trade</td><td>Male</td><td>4/1/1995</td><td>470</td></tr><tr><td>High School Diploma</td><td>127</td><td>94500</td><td>10500</td><td>Retail</td><td>Female</td><td>4/1/1995</td><td>470</td></tr><tr><td>Master's Degree</td><td>104</td><td>112500</td><td>12500</td><td>Finance</td><td>Male</td><td>3/1/2023</td><td>470</td></tr><tr><td>Associate's Degree</td><td>105</td><td>67500</td><td>7500</td><td>Education</td><td>Female</td><td>3/1/2023</td><td>470</td></tr><tr><td>Bachelor's Degree</td><td>56</td><td>162000</td><td>18000</td><td>Energy</td><td>Male</td><td>3/1/2022</td><td>470</td></tr><tr><td>High School Diploma</td><td>57</td><td>85500</td><td>9500</td><td>Retail</td><td>Female</td><td>3/1/2022</td><td>470</td></tr><tr><td>Bachelor's Degree</td><td>58</td><td>207000</td><td>23000</td><td>Agriculture</td><td>Male</td><td>3/1/2022</td><td>470</td></tr><tr><td>High School Diploma</td><td>59</td><td>108000</td><td>12000</td><td>Healthcare</td><td>Female</td><td>3/1/2022</td><td>470</td></tr><tr><td>Bachelor's Degree</td><td>8</td><td>162000</td><td>18000</td><td>Energy</td><td>Male</td><td>3/1/2021</td><td>470</td></tr><tr><td>High School Diploma</td><td>9</td><td>81000</td><td>9000</td><td>Education</td><td>Female</td><td>3/1/2021</td><td>470</td></tr><tr><td>Master's Degree</td><td>1179</td><td>207000</td><td>23000</td><td>Retail</td><td>Female</td><td>3/1/2017</td><td>470</td></tr><tr><td>Master's Degree</td><td>986</td><td>207000</td><td>23000</td><td>Professional and Business S.</td><td>Male</td><td>3/1/2013</td><td>470</td></tr><tr><td>Associate's Degree</td><td>987</td><td>108000</td><td>12000</td><td>Energy</td><td>Female</td><td>3/1/2013</td><td>470</td></tr><tr><td>Bachelor's Degree</td><td>744</td><td>125100</td><td>13900</td><td>Technology</td><td>Male</td><td>3/1/2008</td><td>470</td></tr><tr><td>High School Diploma</td><td>745</td><td>180900</td><td>20100</td><td>Retail</td><td>Female</td><td>3/1/2008</td><td>470</td></tr><tr><td>Bachelor's Degree</td><td>697</td><td>63000</td><td>7000</td><td>Retail</td><td>Female</td><td>3/1/2007</td><td>470</td></tr><tr><td>Bachelor's Degree</td><td>600</td><td>144000</td><td>16000</td><td>Finance</td><td>Male</td><td>3/1/2005</td><td>470</td></tr><tr><td>High School Diploma</td><td>601</td><td>76500</td><td>8500</td><td>Hospitality</td><td>Female</td><td>3/1/2005</td><td>470</td></tr><tr><td>Bachelor's Degree</td><td>504</td><td>108000</td><td>12000</td><td>Wholesale Trade</td><td>Male</td><td>3/1/2003</td><td>470</td></tr><tr><td>Associate's Degree</td><td>505</td><td>112500</td><td>12500</td><td>Education</td><td>Male</td><td>3/1/2003</td><td>470</td></tr><tr><td>Associate's Degree</td><td>456</td><td>130500</td><td>14500</td><td>Finance</td><td>Male</td><td>3/1/2002</td><td>470</td></tr><tr><td>High School Diploma</td><td>457</td><td>78300</td><td>8700</td><td>Education</td><td>Female</td><td>3/1/2002</td><td>470</td></tr><tr><td>Bachelor's Degree</td><td>408</td><td>207000</td><td>23000</td><td>Wholesale Trade</td><td>Male</td><td>3/1/2001</td><td>470</td></tr><tr><td>High School Diploma</td><td>409</td><td>108000</td><td>12000</td><td>Healthcare</td><td>Female</td><td>3/1/2001</td><td>470</td></tr><tr><td>Bachelor's Degree</td><td>313</td><td>162000</td><td>18000</td><td>Energy</td><td>Male</td><td>3/1/1999</td><td>470</td></tr><tr><td>Master's Degree</td><td>168</td><td>135000</td><td>15000</td><td>Education</td><td>Male</td><td>3/1/1996</td><td>470</td></tr><tr><td>High School Diploma</td><td>169</td><td>63000</td><td>7000</td><td>Energy</td><td>Female</td><td>3/1/1996</td><td>470</td></tr><tr><td>Bachelor's Degree</td><td>100</td><td>135000</td><td>15000</td><td>Manufacturing</td><td>Male</td><td>2/1/2023</td><td>470</td></tr><tr><td>Associate's Degree</td><td>102</td><td>108000</td><td>12000</td><td>Manufacturing</td><td>Male</td><td>2/1/2023</td><td>470</td></tr><tr><td>High School Diploma</td><td>103</td><td>76500</td><td>8500</td><td>Finance</td><td>Female</td><td>2/1/2023</td><td>470</td></tr><tr><td>Master's Degree</td><td>52</td><td>108000</td><td>12000</td><td>Finance</td><td>Male</td><td>2/1/2022</td><td>470</td></tr><tr><td>Associate's Degree</td><td>53</td><td>67500</td><td>7500</td><td>Education</td><td>Female</td><td>2/1/2022</td><td>470</td></tr><tr><td>Associate's Degree</td><td>5</td><td>72000</td><td>8000</td><td>Healthcare</td><td>Female</td><td>2/1/2021</td><td>470</td></tr><tr><td>Bachelor's Degree</td><td>6</td><td>162000</td><td>18000</td><td>Energy</td><td>Male</td><td>2/1/2021</td><td>470</td></tr><tr><td>High School Diploma</td><td>7</td><td>85500</td><td>9500</td><td>Retail</td><td>Female</td><td>2/1/2021</td><td>470</td></tr><tr><td>Bachelor's Degree</td><td>740</td><td>121500</td><td>13500</td><td>Hospitality</td><td>Male</td><td>2/1/2008</td><td>470</td></tr><tr><td>High School Diploma</td><td>741</td><td>177750</td><td>19750</td><td>Education</td><td>Female</td><td>2/1/2008</td><td>470</td></tr><tr><td>High School Diploma</td><td>693</td><td>76500</td><td>8500</td><td>Finance</td><td>Female</td><td>2/1/2007</td><td>470</td></tr><tr><td>Master's Degree</td><td>596</td><td>103500</td><td>11500</td><td>Energy</td><td>Male</td><td>2/1/2005</td><td>470</td></tr><tr><td>Associate's Degree</td><td>597</td><td>67500</td><td>7500</td><td>Education</td><td>Female</td><td>2/1/2005</td><td>470</td></tr><tr><td>Associate's Degree</td><td>501</td><td>81000</td><td>9000</td><td>Healthcare</td><td>Female</td><td>2/1/2003</td><td>470</td></tr><tr><td>High School Diploma</td><td>452</td><td>160200</td><td>17800</td><td>Manufacturing</td><td>Male</td><td>2/1/2002</td><td>470</td></tr><tr><td>Bachelor's Degree</td><td>453</td><td>92700</td><td>10300</td><td>Retail</td><td>Female</td><td>2/1/2002</td><td>470</td></tr><tr><td>Associate's Degree</td><td>164</td><td>108000</td><td>12000</td><td>Manufacturing</td><td>Male</td><td>2/1/1996</td><td>470</td></tr><tr><td>High School Diploma</td><td>165</td><td>76500</td><td>8500</td><td>Finance</td><td>Female</td><td>2/1/1996</td><td>470</td></tr><tr><td>Bachelor's Degree</td><td>92</td><td>153000</td><td>17000</td><td>Agriculture</td><td>Male</td><td>12/1/2022</td><td>470</td></tr><tr><td>High School Diploma</td><td>93</td><td>81000</td><td>9000</td><td>Healthcare</td><td>Female</td><td>12/1/2022</td><td>470</td></tr><tr><td>Bachelor's Degree</td><td>44</td><td>144000</td><td>16000</td><td>Agriculture</td><td>Male</td><td>12/1/2021</td><td>470</td></tr><tr><td>High School Diploma</td><td>45</td><td>76500</td><td>8500</td><td>Healthcare</td><td>Female</td><td>12/1/2021</td><td>470</td></tr><tr><td>Bachelor's Degree</td><td>46</td><td>171000</td><td>19000</td><td>Energy</td><td>Male</td><td>12/1/2021</td><td>470</td></tr><tr><td>High School Diploma</td><td>47</td><td>90000</td><td>10000</td><td>Healthcare</td><td>Female</td><td>12/1/2021</td><td>470</td></tr><tr><td>High School Diploma</td><td>1118</td><td>207000</td><td>23000</td><td>Finance</td><td>Male</td><td>12/1/2015</td><td>470</td></tr><tr><td>Master's Degree</td><td>1119</td><td>108000</td><td>12000</td><td>Professional and Business S.</td><td>Female</td><td>12/1/2015</td><td>470</td></tr><tr><td>Master's Degree</td><td>1071</td><td>207000</td><td>23000</td><td>Hospitality</td><td>Female</td><td>12/1/2014</td><td>470</td></tr><tr><td>Associate's Degree</td><td>927</td><td>675000</td><td>75000</td><td>Energy</td><td>Female</td><td>12/1/2011</td><td>470</td></tr><tr><td>Bachelor's Degree</td><td>780</td><td>121500</td><td>13500</td><td>Finance</td><td>Male</td><td>12/1/2008</td><td>470</td></tr><tr><td>High School Diploma</td><td>781</td><td>81000</td><td>9000</td><td>Finance</td><td>Female</td><td>12/1/2008</td><td>470</td></tr><tr><td>Bachelor's Degree</td><td>732</td><td>118800</td><td>13200</td><td>Hospitality</td><td>Male</td><td>12/1/2007</td><td>470</td></tr><tr><td>High School Diploma</td><td>733</td><td>167400</td><td>18600</td><td>Healthcare</td><td>Female</td><td>12/1/2007</td><td>470</td></tr><tr><td>High School Diploma</td><td>685</td><td>94500</td><td>10500</td><td>Retail</td><td>Female</td><td>12/1/2006</td><td>470</td></tr><tr><td>Associate's Degree</td><td>636</td><td>117000</td><td>13000</td><td>Energy</td><td>Male</td><td>12/1/2005</td><td>470</td></tr><tr><td>Bachelor's Degree</td><td>637</td><td>85500</td><td>9500</td><td>Healthcare</td><td>Female</td><td>12/1/2005</td><td>470</td></tr><tr><td>Bachelor's Degree</td><td>588</td><td>675000</td><td>75000</td><td>Finance</td><td>Male</td><td>12/1/2004</td><td>470</td></tr><tr><td>High School Diploma</td><td>589</td><td>90000</td><td>10000</td><td>Hospitality</td><td>Female</td><td>12/1/2004</td><td>470</td></tr><tr><td>Associate's Degree</td><td>540</td><td>121500</td><td>13500</td><td>Energy</td><td>Male</td><td>12/1/2003</td><td>470</td></tr><tr><td>Bachelor's Degree</td><td>541</td><td>81000</td><td>9000</td><td>Finance</td><td>Female</td><td>12/1/2003</td><td>470</td></tr><tr><td>High School Diploma</td><td>492</td><td>99000</td><td>11000</td><td>Education</td><td>Male</td><td>12/1/2002</td><td>470</td></tr><tr><td>Bachelor's Degree</td><td>493</td><td>63000</td><td>7000</td><td>Healthcare</td><td>Female</td><td>12/1/2002</td><td>470</td></tr><tr><td>Associate's Degree</td><td>444</td><td>126900</td><td>14100</td><td>Education</td><td>Male</td><td>12/1/2001</td><td>470</td></tr><tr><td>High School Diploma</td><td>445</td><td>81000</td><td>9000</td><td>Finance</td><td>Female</td><td>12/1/2001</td><td>470</td></tr><tr><td>High School Diploma</td><td>399</td><td>91800</td><td>10200</td><td>Energy</td><td>Female</td><td>12/1/2000</td><td>470</td></tr><tr><td>Bachelor's Degree</td><td>156</td><td>126000</td><td>14000</td><td>Wholesale Trade</td><td>Male</td><td>12/1/1995</td><td>470</td></tr><tr><td>High School Diploma</td><td>157</td><td>67500</td><td>7500</td><td>Healthcare</td><td>Female</td><td>12/1/1995</td><td>470</td></tr><tr><td>High School Diploma</td><td>159</td><td>94500</td><td>10500</td><td>Retail</td><td>Female</td><td>12/1/1995</td><td>470</td></tr><tr><td>Associate's Degree</td><td>89</td><td>72000</td><td>8000</td><td>Education</td><td>Female</td><td>11/1/2022</td><td>470</td></tr><tr><td>Master's Degree</td><td>40</td><td>103500</td><td>11500</td><td>Finance</td><td>Male</td><td>11/1/2021</td><td>470</td></tr><tr><td>Associate's Degree</td><td>41</td><td>67500</td><td>7500</td><td>Education</td><td>Female</td><td>11/1/2021</td><td>470</td></tr><tr><td>Bachelor's Degree</td><td>42</td><td>135000</td><td>15000</td><td>Manufacturing</td><td>Male</td><td>11/1/2021</td><td>470</td></tr><tr><td>High School Diploma</td><td>43</td><td>103500</td><td>11500</td><td>Retail</td><td>Female</td><td>11/1/2021</td><td>470</td></tr><tr><td>College</td><td>1256</td><td>81000</td><td>9000</td><td>Technology</td><td>Male</td><td>11/1/2019</td><td>470</td></tr><tr><td>Master's Degree</td><td>1115</td><td>81000</td><td>9000</td><td>Energy</td><td>Female</td><td>11/1/2015</td><td>470</td></tr><tr><td>Bachelor's Degree</td><td>1064</td><td>121500</td><td>13500</td><td>Manufacturing</td><td>Male</td><td>11/1/2014</td><td>470</td></tr><tr><td>College</td><td>1065</td><td>81000</td><td>9000</td><td>Technology</td><td>Female</td><td>11/1/2014</td><td>470</td></tr><tr><td>Bachelor's Degree</td><td>681</td><td>67500</td><td>7500</td><td>Healthcare</td><td>Female</td><td>11/1/2006</td><td>470</td></tr><tr><td>Bachelor's Degree</td><td>584</td><td>144000</td><td>16000</td><td>Hospitality</td><td>Male</td><td>11/1/2004</td><td>470</td></tr><tr><td>High School Diploma</td><td>585</td><td>76500</td><td>8500</td><td>Energy</td><td>Female</td><td>11/1/2004</td><td>470</td></tr><tr><td>Master's Degree</td><td>536</td><td>108000</td><td>12000</td><td>Energy</td><td>Male</td><td>11/1/2003</td><td>470</td></tr><tr><td>Master's Degree</td><td>488</td><td>121500</td><td>13500</td><td>Energy</td><td>Male</td><td>11/1/2002</td><td>470</td></tr><tr><td>Associate's Degree</td><td>489</td><td>81000</td><td>9000</td><td>Retail</td><td>Female</td><td>11/1/2002</td><td>470</td></tr><tr><td>High School Diploma</td><td>440</td><td>155700</td><td>17300</td><td>Healthcare</td><td>Male</td><td>11/1/2001</td><td>470</td></tr><tr><td>Bachelor's Degree</td><td>441</td><td>91800</td><td>10200</td><td>Wholesale Trade</td><td>Female</td><td>11/1/2001</td><td>470</td></tr><tr><td>Associate's Degree</td><td>152</td><td>94500</td><td>10500</td><td>Education</td><td>Male</td><td>11/1/1995</td><td>470</td></tr><tr><td>High School Diploma</td><td>153</td><td>63000</td><td>7000</td><td>Energy</td><td>Female</td><td>11/1/1995</td><td>470</td></tr><tr><td>Bachelor's Degree</td><td>84</td><td>130500</td><td>14500</td><td>Manufacturing</td><td>Male</td><td>10/1/2022</td><td>470</td></tr><tr><td>High School Diploma</td><td>85</td><td>99000</td><td>11000</td><td>Retail</td><td>Female</td><td>10/1/2022</td><td>470</td></tr><tr><td>Bachelor's Degree</td><td>36</td><td>126000</td><td>14000</td><td>Manufacturing</td><td>Male</td><td>10/1/2021</td><td>470</td></tr><tr><td>High School Diploma</td><td>37</td><td>94500</td><td>10500</td><td>Retail</td><td>Female</td><td>10/1/2021</td><td>470</td></tr><tr><td>Master's Degree</td><td>1255</td><td>121500</td><td>13500</td><td>Manufacturing</td><td>Female</td><td>10/1/2019</td><td>470</td></tr><tr><td>High School</td><td>1012</td><td>81000</td><td>9000</td><td>Retail</td><td>Male</td><td>10/1/2013</td><td>470</td></tr><tr><td>Bachelor's Degree</td><td>677</td><td>72000</td><td>8000</td><td>Finance</td><td>Female</td><td>10/1/2006</td><td>470</td></tr><tr><td>Bachelor's Degree</td><td>580</td><td>103500</td><td>11500</td><td>Finance</td><td>Male</td><td>10/1/2004</td><td>470</td></tr><tr><td>High School Diploma</td><td>581</td><td>67500</td><td>7500</td><td>Education</td><td>Female</td><td>10/1/2004</td><td>470</td></tr><tr><td>Associate's Degree</td><td>535</td><td>207000</td><td>23000</td><td>Hospitality</td><td>Female</td><td>10/1/2003</td><td>470</td></tr><tr><td>Bachelor's Degree</td><td>484</td><td>162000</td><td>18000</td><td>Manufacturing</td><td>Male</td><td>10/1/2002</td><td>470</td></tr><tr><td>High School Diploma</td><td>485</td><td>85500</td><td>9500</td><td>Healthcare</td><td>Female</td><td>10/1/2002</td><td>470</td></tr><tr><td>Bachelor's Degree</td><td>436</td><td>171000</td><td>19000</td><td>Manufacturing</td><td>Male</td><td>10/1/2001</td><td>470</td></tr><tr><td>High School Diploma</td><td>437</td><td>108000</td><td>12000</td><td>Retail</td><td>Female</td><td>10/1/2001</td><td>470</td></tr><tr><td>Bachelor's Degree</td><td>390</td><td>155700</td><td>17300</td><td>Finance</td><td>Male</td><td>10/1/2000</td><td>470</td></tr><tr><td>High School Diploma</td><td>391</td><td>91800</td><td>10200</td><td>Agriculture</td><td>Female</td><td>10/1/2000</td><td>470</td></tr><tr><td>Bachelor's Degree</td><td>340</td><td>126000</td><td>14000</td><td>Manufacturing</td><td>Male</td><td>10/1/1999</td><td>470</td></tr><tr><td>High School Diploma</td><td>341</td><td>94500</td><td>10500</td><td>Retail</td><td>Female</td><td>10/1/1999</td><td>470</td></tr><tr><td>High School Diploma</td><td>343</td><td>121500</td><td>13500</td><td>Retail</td><td>Female</td><td>10/1/1999</td><td>470</td></tr><tr><td>High School Diploma</td><td>148</td><td>112500</td><td>12500</td><td>Manufacturing</td><td>Male</td><td>10/1/1995</td><td>470</td></tr><tr><td>Master's Degree</td><td>149</td><td>85500</td><td>9500</td><td>Finance</td><td>Female</td><td>10/1/1995</td><td>470</td></tr><tr><td>Bachelor's Degree</td><td>96</td><td>117000</td><td>13000</td><td>Technology</td><td>Male</td><td>1/1/2023</td><td>470</td></tr><tr><td>High School Diploma</td><td>97</td><td>76500</td><td>8500</td><td>Retail</td><td>Female</td><td>1/1/2023</td><td>470</td></tr><tr><td>Bachelor's Degree</td><td>98</td><td>94500</td><td>10500</td><td>Retail</td><td>Male</td><td>1/1/2023</td><td>470</td></tr><tr><td>High School Diploma</td><td>99</td><td>67500</td><td>7500</td><td>Education</td><td>Female</td><td>1/1/2023</td><td>470</td></tr><tr><td>Bachelor's Degree</td><td>48</td><td>112500</td><td>12500</td><td>Technology</td><td>Male</td><td>1/1/2022</td><td>470</td></tr><tr><td>Bachelor's Degree</td><td>50</td><td>117000</td><td>13000</td><td>Retail</td><td>Male</td><td>1/1/2022</td><td>470</td></tr><tr><td>High School Diploma</td><td>51</td><td>81000</td><td>9000</td><td>Healthcare</td><td>Female</td><td>1/1/2022</td><td>470</td></tr><tr><td>Bachelor's Degree</td><td>0</td><td>90000</td><td>10000</td><td>Tech</td><td>Male</td><td>1/1/2021</td><td>470</td></tr><tr><td>High School Diploma</td><td>1</td><td>135000</td><td>15000</td><td>Retail</td><td>Female</td><td>1/1/2021</td><td>470</td></tr><tr><td>Associate's Degree</td><td>2</td><td>108000</td><td>12000</td><td>Manufacturing</td><td>Male</td><td>1/1/2021</td><td>470</td></tr><tr><td>High School Diploma</td><td>3</td><td>76500</td><td>8500</td><td>Finance</td><td>Female</td><td>1/1/2021</td><td>470</td></tr><tr><td>College</td><td>1072</td><td>108000</td><td>12000</td><td>Professional and Business S.</td><td>Male</td><td>1/1/2015</td><td>470</td></tr><tr><td>Master's Degree</td><td>928</td><td>121500</td><td>13500</td><td>Hospitality</td><td>Male</td><td>1/1/2012</td><td>470</td></tr><tr><td>High School</td><td>929</td><td>81000</td><td>9000</td><td>Hospitality</td><td>Female</td><td>1/1/2012</td><td>470</td></tr><tr><td>Bachelor's Degree</td><td>736</td><td>115650</td><td>12850</td><td>Energy</td><td>Male</td><td>1/1/2008</td><td>470</td></tr><tr><td>High School Diploma</td><td>737</td><td>174600</td><td>19400</td><td>Finance</td><td>Female</td><td>1/1/2008</td><td>470</td></tr><tr><td>High School Diploma</td><td>689</td><td>85500</td><td>9500</td><td>Education</td><td>Female</td><td>1/1/2007</td><td>470</td></tr><tr><td>Master's Degree</td><td>640</td><td>94500</td><td>10500</td><td>Retail</td><td>Male</td><td>1/1/2006</td><td>470</td></tr><tr><td>High School Diploma</td><td>641</td><td>67500</td><td>7500</td><td>Education</td><td>Female</td><td>1/1/2006</td><td>470</td></tr><tr><td>Bachelor's Degree</td><td>592</td><td>126000</td><td>14000</td><td>Hospitality</td><td>Male</td><td>1/1/2005</td><td>470</td></tr><tr><td>High School Diploma</td><td>593</td><td>81000</td><td>9000</td><td>Retail</td><td>Female</td><td>1/1/2005</td><td>470</td></tr><tr><td>Master's Degree</td><td>496</td><td>180000</td><td>20000</td><td>Manufacturing</td><td>Male</td><td>1/1/2003</td><td>470</td></tr><tr><td>High School Diploma</td><td>497</td><td>94500</td><td>10500</td><td>Construction</td><td>Female</td><td>1/1/2003</td><td>470</td></tr><tr><td>Master's Degree</td><td>448</td><td>143100</td><td>15900</td><td>Agriculture</td><td>Male</td><td>1/1/2002</td><td>470</td></tr><tr><td>Bachelor's Degree</td><td>449</td><td>75600</td><td>8400</td><td>Healthcare</td><td>Female</td><td>1/1/2002</td><td>470</td></tr><tr><td>High School Diploma</td><td>403</td><td>144000</td><td>16000</td><td>Healthcare</td><td>Female</td><td>1/1/2001</td><td>470</td></tr><tr><td>Bachelor's Degree</td><td>306</td><td>207000</td><td>23000</td><td>Agriculture</td><td>Male</td><td>1/1/1999</td><td>470</td></tr><tr><td>High School Diploma</td><td>307</td><td>108000</td><td>12000</td><td>Retail</td><td>Female</td><td>1/1/1999</td><td>470</td></tr><tr><td>Bachelor's Degree</td><td>160</td><td>117000</td><td>13000</td><td>Retail</td><td>Male</td><td>1/1/1996</td><td>470</td></tr><tr><td>High School Diploma</td><td>161</td><td>81000</td><td>9000</td><td>Healthcare</td><td>Female</td><td>1/1/1996</td><td>470</td></tr><tr><td>High School Diploma</td><td>163</td><td>81000</td><td>9000</td><td>Healthcare</td><td>Female</td><td>1/1/1996</td><td>470</td></tr><tr><td>Bachelor's Degree</td><td>114</td><td>117000</td><td>13000</td><td>Retail</td><td>Male</td><td>1/1/1995</td><td>470</td></tr><tr><td>High School Diploma</td><td>115</td><td>81000</td><td>9000</td><td>Healthcare</td><td>Female</td><td>1/1/1995</td><td>470</td></tr><tr><td>High School</td><td>873</td><td>11052600</td><td>1228900</td><td>Manufacturing</td><td>Female</td><td>11/1/2010</td><td>471</td></tr><tr><td>High School Diploma</td><td>909</td><td>11025900</td><td>1227400</td><td>Finance</td><td>Female</td><td>8/1/2011</td><td>472</td></tr><tr><td>High School Diploma</td><td>893</td><td>10966800</td><td>1224900</td><td>Finance</td><td>Female</td><td>4/1/2011</td><td>473</td></tr><tr><td>Master's Degree</td><td>853</td><td>11076600</td><td>1238100</td><td>Health Care</td><td>Female</td><td>6/1/2010</td><td>474</td></tr><tr><td>Master's Degree</td><td>1024</td><td>13139300</td><td>1469000</td><td>Professional and Business S.</td><td>Male</td><td>1/1/2014</td><td>475</td></tr><tr><td>Bachelor's Degree</td><td>1016</td><td>13102700</td><td>1477200</td><td>Education</td><td>Male</td><td>11/1/2013</td><td>476</td></tr><tr><td>High School Diploma</td><td>385</td><td>53000</td><td>6000</td><td>Energy</td><td>Female</td><td>9/1/2000</td><td>477</td></tr><tr><td>Bachelor's Degree</td><td>398</td><td>53000</td><td>6000</td><td>Finance</td><td>Male</td><td>12/1/2000</td><td>477</td></tr><tr><td>High School Diploma</td><td>302</td><td>53000</td><td>6000</td><td>Education</td><td>Male</td><td>12/1/1998</td><td>477</td></tr><tr><td>High School Diploma</td><td>499</td><td>126900</td><td>14400</td><td>Retail</td><td>Female</td><td>1/1/2003</td><td>478</td></tr><tr><td>Bachelor's Degree</td><td>1008</td><td>13063100</td><td>1484100</td><td>finance</td><td>Male</td><td>9/1/2013</td><td>479</td></tr><tr><td>Associate's Degree</td><td>1004</td><td>13042000</td><td>1487100</td><td>finance</td><td>Male</td><td>8/1/2013</td><td>480</td></tr><tr><td>Associate's Degree</td><td>1000</td><td>13021100</td><td>1488000</td><td>finance</td><td>Male</td><td>7/1/2013</td><td>481</td></tr><tr><td>Bachelor's Degree</td><td>821</td><td>9606300</td><td>1101800</td><td>Retail</td><td>Female</td><td>10/1/2009</td><td>482</td></tr><tr><td>High School</td><td>1025</td><td>11142500</td><td>1280400</td><td>finance</td><td>Female</td><td>1/1/2014</td><td>483</td></tr><tr><td>Bachelor's Degree</td><td>1021</td><td>11118500</td><td>1281500</td><td>Hospitality</td><td>Female</td><td>12/1/2013</td><td>484</td></tr><tr><td>High School</td><td>997</td><td>10980700</td><td>1265900</td><td>Hospitality</td><td>Female</td><td>6/1/2013</td><td>485</td></tr><tr><td>Master's Degree</td><td>1017</td><td>11094400</td><td>1282100</td><td>Health Care</td><td>Female</td><td>11/1/2013</td><td>486</td></tr><tr><td>Bachelor's Degree</td><td>817</td><td>9581500</td><td>1108800</td><td>Finance</td><td>Female</td><td>9/1/2009</td><td>487</td></tr><tr><td>Bachelor's Degree</td><td>1001</td><td>11001400</td><td>1273900</td><td>Agriculture</td><td>Female</td><td>7/1/2013</td><td>488</td></tr><tr><td>Doctorate</td><td>1005</td><td>11024400</td><td>1278100</td><td>Agriculture</td><td>Female</td><td>8/1/2013</td><td>489</td></tr><tr><td>Associate's Degree</td><td>1009</td><td>11046400</td><td>1281400</td><td>Agriculture</td><td>Female</td><td>9/1/2013</td><td>490</td></tr><tr><td>Associate's Degree</td><td>804</td><td>9589300</td><td>1119500</td><td>Energy</td><td>Male</td><td>6/1/2009</td><td>491</td></tr><tr><td>High School</td><td>1093</td><td>10906500</td><td>1283100</td><td>Hospitality</td><td>Female</td><td>6/1/2015</td><td>492</td></tr><tr><td>Bachelor's Degree</td><td>972</td><td>16255000</td><td>1935200</td><td>Manufacturing</td><td>Male</td><td>12/1/2012</td><td>493</td></tr><tr><td>Bachelor's Degree</td><td>363</td><td>191950</td><td>23050</td><td>Wholesale Trade</td><td>Female</td><td>3/1/2000</td><td>494</td></tr><tr><td>High School Diploma</td><td>1146</td><td>16220900</td><td>1953700</td><td>Agriculture</td><td>Male</td><td>7/1/2016</td><td>495</td></tr><tr><td>Associate's Degree</td><td>999</td><td>16220900</td><td>1953700</td><td>Professional and Business S.</td><td>Female</td><td>6/1/2013</td><td>495</td></tr><tr><td>Master's Degree</td><td>982</td><td>16220900</td><td>1953700</td><td>Agriculture</td><td>Male</td><td>2/1/2013</td><td>495</td></tr><tr><td>Bachelor's Degree</td><td>968</td><td>16220900</td><td>1953700</td><td>Hospitality</td><td>Male</td><td>11/1/2012</td><td>495</td></tr><tr><td>High School Diploma</td><td>1026</td><td>16220900</td><td>1953700</td><td>Education</td><td>Male</td><td>1/1/2014</td><td>495</td></tr><tr><td>College</td><td>1097</td><td>10931700</td><td>1325000</td><td>Health Care</td><td>Female</td><td>7/1/2015</td><td>496</td></tr><tr><td>College</td><td>964</td><td>16205200</td><td>1968200</td><td>Retail</td><td>Male</td><td>10/1/2012</td><td>497</td></tr><tr><td>Master's Degree</td><td>1436</td><td>432000</td><td>53000</td><td>Technology</td><td>Female</td><td>8/1/1999</td><td>498</td></tr><tr><td>High School Diploma</td><td>1101</td><td>10951600</td><td>1349800</td><td>Construction</td><td>Female</td><td>8/1/2015</td><td>499</td></tr><tr><td>Bachelor's Degree</td><td>1109</td><td>10966700</td><td>1353300</td><td>Retail</td><td>Female</td><td>10/1/2015</td><td>500</td></tr><tr><td>Associate's Degree</td><td>383</td><td>81000</td><td>10000</td><td>Retail</td><td>Female</td><td>8/1/2000</td><td>501</td></tr><tr><td>High School</td><td>1430</td><td>405000</td><td>50000</td><td>Finance</td><td>Female</td><td>2/1/1999</td><td>501</td></tr><tr><td>College</td><td>833</td><td>9516400</td><td>1178500</td><td>Finance</td><td>Female</td><td>1/1/2010</td><td>502</td></tr><tr><td>Master's Degree</td><td>1435</td><td>427000</td><td>53000</td><td>Technology</td><td>Male</td><td>7/1/1999</td><td>503</td></tr><tr><td>High School</td><td>1433</td><td>418000</td><td>52000</td><td>Healthcare</td><td>Male</td><td>5/1/1999</td><td>504</td></tr><tr><td>High School</td><td>1429</td><td>400000</td><td>50000</td><td>Finance</td><td>Male</td><td>1/1/1999</td><td>505</td></tr><tr><td>Bachelor's Degree</td><td>1060</td><td>12825200</td><td>1607700</td><td>Retail</td><td>Male</td><td>10/1/2014</td><td>506</td></tr><tr><td>Bachelor's Degree</td><td>1300</td><td>15905200</td><td>1996100</td><td>Manufacturing</td><td>Male</td><td>10/1/2020</td><td>507</td></tr><tr><td>High School</td><td>1434</td><td>422000</td><td>53000</td><td>Healthcare</td><td>Female</td><td>6/1/1999</td><td>508</td></tr><tr><td>High School Diploma</td><td>1105</td><td>10977300</td><td>1380100</td><td>Retail</td><td>Female</td><td>9/1/2015</td><td>509</td></tr><tr><td>Master's Degree</td><td>1113</td><td>10995300</td><td>1384300</td><td>Health Care</td><td>Female</td><td>11/1/2015</td><td>510</td></tr><tr><td>Associate's Degree</td><td>1088</td><td>12845400</td><td>1623400</td><td>Manufacturing</td><td>Male</td><td>5/1/2015</td><td>511</td></tr><tr><td>College</td><td>1084</td><td>12842900</td><td>1627000</td><td>Energy</td><td>Male</td><td>4/1/2015</td><td>512</td></tr><tr><td>Master's Degree</td><td>1080</td><td>12840600</td><td>1628500</td><td>Retail</td><td>Male</td><td>3/1/2015</td><td>513</td></tr><tr><td>Associate's Degree</td><td>1076</td><td>12838200</td><td>1629200</td><td>Education</td><td>Male</td><td>2/1/2015</td><td>514</td></tr><tr><td>Master's Degree</td><td>78</td><td>133100</td><td>16900</td><td>Finance</td><td>Male</td><td>8/1/2022</td><td>515</td></tr><tr><td>College</td><td>1304</td><td>15854900</td><td>2017000</td><td>Retail</td><td>Male</td><td>11/1/2020</td><td>516</td></tr><tr><td>Bachelor's Degree</td><td>1431</td><td>408000</td><td>52000</td><td>Education</td><td>Male</td><td>3/1/1999</td><td>517</td></tr><tr><td>Bachelor's Degree</td><td>1432</td><td>412000</td><td>53000</td><td>Education</td><td>Female</td><td>4/1/1999</td><td>518</td></tr><tr><td>Bachelor's Degree</td><td>1117</td><td>10987800</td><td>1416600</td><td>Construction</td><td>Female</td><td>12/1/2015</td><td>519</td></tr><tr><td>College</td><td>913</td><td>10936700</td><td>1417900</td><td>Finance</td><td>Female</td><td>9/1/2011</td><td>520</td></tr><tr><td>Master's Degree</td><td>1312</td><td>15687700</td><td>2040000</td><td>Energy</td><td>Male</td><td>1/1/2021</td><td>521</td></tr><tr><td>Master's Degree</td><td>917</td><td>10887300</td><td>1417100</td><td>Information</td><td>Female</td><td>10/1/2011</td><td>522</td></tr><tr><td>Bachelor's Degree</td><td>1308</td><td>15743400</td><td>2060000</td><td>Construction</td><td>Male</td><td>12/1/2020</td><td>523</td></tr><tr><td>High School</td><td>921</td><td>10837500</td><td>1427100</td><td>Hospitality</td><td>Female</td><td>11/1/2011</td><td>524</td></tr><tr><td>Bachelor's Degree</td><td>902</td><td>10512000</td><td>1386900</td><td>Hospitality</td><td>Male</td><td>6/1/2011</td><td>525</td></tr><tr><td>Master's Degree</td><td>1030</td><td>10512000</td><td>1386900</td><td>Education</td><td>Male</td><td>2/1/2014</td><td>525</td></tr><tr><td>High School</td><td>1069</td><td>10512000</td><td>1386900</td><td>Technology</td><td>Female</td><td>12/1/2014</td><td>525</td></tr><tr><td>High School Diploma</td><td>1022</td><td>10512000</td><td>1386900</td><td>Agriculture</td><td>Male</td><td>12/1/2013</td><td>525</td></tr><tr><td>Master's Degree</td><td>974</td><td>10512000</td><td>1386900</td><td>Professional and Business S.</td><td>Male</td><td>12/1/2012</td><td>525</td></tr><tr><td>Bachelor's Degree</td><td>1073</td><td>10535500</td><td>1395700</td><td>Manufacturing</td><td>Female</td><td>1/1/2015</td><td>526</td></tr><tr><td>Bachelor's Degree</td><td>1296</td><td>15902100</td><td>2108900</td><td>Manufacturing</td><td>Male</td><td>9/1/2020</td><td>527</td></tr><tr><td>High School</td><td>1089</td><td>10633300</td><td>1410200</td><td>Education</td><td>Female</td><td>5/1/2015</td><td>528</td></tr><tr><td>Associate's Degree</td><td>820</td><td>11961900</td><td>1586800</td><td>Hospitality</td><td>Male</td><td>10/1/2009</td><td>529</td></tr><tr><td>Bachelor's Degree</td><td>1085</td><td>10612300</td><td>1408100</td><td>Hospitality</td><td>Female</td><td>4/1/2015</td><td>530</td></tr><tr><td>Bachelor's Degree</td><td>1077</td><td>10561900</td><td>1401900</td><td>Health Care</td><td>Female</td><td>2/1/2015</td><td>531</td></tr><tr><td>High School Diploma</td><td>925</td><td>10796800</td><td>1433700</td><td>Health Care</td><td>Female</td><td>12/1/2011</td><td>532</td></tr><tr><td>High School</td><td>1081</td><td>10587600</td><td>1406500</td><td>Finance</td><td>Female</td><td>3/1/2015</td><td>533</td></tr><tr><td>High School Diploma</td><td>1061</td><td>10456700</td><td>1392200</td><td>Manufacturing</td><td>Female</td><td>10/1/2014</td><td>534</td></tr><tr><td>Bachelor's Degree</td><td>824</td><td>11937500</td><td>1602900</td><td>Finance</td><td>Male</td><td>11/1/2009</td><td>535</td></tr><tr><td>Master's Degree</td><td>819</td><td>15576000</td><td>2102400</td><td>Hospitality</td><td>Female</td><td>9/1/2009</td><td>536</td></tr><tr><td>Master's Degree</td><td>531</td><td>15576000</td><td>2102400</td><td>Professional and Business S.</td><td>Female</td><td>9/1/2003</td><td>536</td></tr><tr><td>Master's Degree</td><td>1247</td><td>15576000</td><td>2102400</td><td>Education</td><td>Female</td><td>8/1/2019</td><td>536</td></tr><tr><td>Associate's Degree</td><td>1103</td><td>15576000</td><td>2102400</td><td>Manufacturing</td><td>Female</td><td>8/1/2015</td><td>536</td></tr><tr><td>Master's Degree</td><td>1006</td><td>15576000</td><td>2102400</td><td>Hospitality</td><td>Male</td><td>8/1/2013</td><td>536</td></tr><tr><td>Master's Degree</td><td>950</td><td>15576000</td><td>2102400</td><td>Technology</td><td>Male</td><td>6/1/2012</td><td>536</td></tr><tr><td>Associate's Degree</td><td>711</td><td>15576000</td><td>2102400</td><td>Education</td><td>Female</td><td>6/1/2007</td><td>536</td></tr><tr><td>Master's Degree</td><td>663</td><td>15576000</td><td>2102400</td><td>Professional and Business S.</td><td>Female</td><td>6/1/2006</td><td>536</td></tr><tr><td>High School Diploma</td><td>566</td><td>15576000</td><td>2102400</td><td>Hospitality</td><td>Male</td><td>6/1/2004</td><td>536</td></tr><tr><td>Master's Degree</td><td>898</td><td>15576000</td><td>2102400</td><td>Professional and Business S.</td><td>Male</td><td>5/1/2011</td><td>536</td></tr><tr><td>Bachelor's Degree</td><td>851</td><td>15576000</td><td>2102400</td><td>Energy</td><td>Female</td><td>5/1/2010</td><td>536</td></tr><tr><td>High School Diploma</td><td>1230</td><td>15576000</td><td>2102400</td><td>Education</td><td>Male</td><td>4/1/2019</td><td>536</td></tr><tr><td>Master's Degree</td><td>846</td><td>15576000</td><td>2102400</td><td>Professional and Business S.</td><td>Male</td><td>4/1/2010</td><td>536</td></tr><tr><td>Associate's Degree</td><td>655</td><td>15576000</td><td>2102400</td><td>Energy</td><td>Female</td><td>4/1/2006</td><td>536</td></tr><tr><td>High School Diploma</td><td>1082</td><td>15576000</td><td>2102400</td><td>Agriculture</td><td>Male</td><td>3/1/2015</td><td>536</td></tr><tr><td>High School Diploma</td><td>1270</td><td>15576000</td><td>2102400</td><td>Retail</td><td>Male</td><td>2/1/2020</td><td>536</td></tr><tr><td>High School Diploma</td><td>1126</td><td>15576000</td><td>2102400</td><td>Agriculture</td><td>Male</td><td>2/1/2016</td><td>536</td></tr><tr><td>Associate's Degree</td><td>983</td><td>15576000</td><td>2102400</td><td>Agriculture</td><td>Female</td><td>2/1/2013</td><td>536</td></tr><tr><td>Associate's Degree</td><td>887</td><td>15576000</td><td>2102400</td><td>Hospitality</td><td>Female</td><td>2/1/2011</td><td>536</td></tr><tr><td>Master's Degree</td><td>742</td><td>15576000</td><td>2102400</td><td>Education</td><td>Male</td><td>2/1/2008</td><td>536</td></tr><tr><td>Associate's Degree</td><td>599</td><td>15576000</td><td>2102400</td><td>Energy</td><td>Female</td><td>2/1/2005</td><td>536</td></tr><tr><td>High School Diploma</td><td>1166</td><td>15576000</td><td>2102400</td><td>Retail</td><td>Male</td><td>12/1/2016</td><td>536</td></tr><tr><td>Master's Degree</td><td>878</td><td>15576000</td><td>2102400</td><td>Education</td><td>Male</td><td>12/1/2010</td><td>536</td></tr><tr><td>Associate's Degree</td><td>783</td><td>15576000</td><td>2102400</td><td>Hospitality</td><td>Female</td><td>12/1/2008</td><td>536</td></tr><tr><td>Associate's Degree</td><td>735</td><td>15576000</td><td>2102400</td><td>Professional and Business S.</td><td>Female</td><td>12/1/2007</td><td>536</td></tr><tr><td>Master's Degree</td><td>686</td><td>15576000</td><td>2102400</td><td>Manufacturing</td><td>Male</td><td>12/1/2006</td><td>536</td></tr><tr><td>Master's Degree</td><td>922</td><td>15576000</td><td>2102400</td><td>Professional and Business S.</td><td>Male</td><td>11/1/2011</td><td>536</td></tr><tr><td>High School Diploma</td><td>778</td><td>15576000</td><td>2102400</td><td>Professional and Business S.</td><td>Male</td><td>11/1/2008</td><td>536</td></tr><tr><td>Master's Degree</td><td>966</td><td>15576000</td><td>2102400</td><td>Professional and Business S.</td><td>Male</td><td>10/1/2012</td><td>536</td></tr><tr><td>Master's Degree</td><td>727</td><td>15576000</td><td>2102400</td><td>Manufacturing</td><td>Female</td><td>10/1/2007</td><td>536</td></tr><tr><td>Bachelor's Degree</td><td>583</td><td>15576000</td><td>2102400</td><td>Finance</td><td>Female</td><td>10/1/2004</td><td>536</td></tr><tr><td>Bachelor's Degree</td><td>883</td><td>15576000</td><td>2102400</td><td>Energy</td><td>Female</td><td>1/1/2011</td><td>536</td></tr><tr><td>Associate's Degree</td><td>691</td><td>15576000</td><td>2102400</td><td>Professional and Business S.</td><td>Female</td><td>1/1/2007</td><td>536</td></tr><tr><td>Master's Degree</td><td>642</td><td>15576000</td><td>2102400</td><td>Hospitality</td><td>Male</td><td>1/1/2006</td><td>536</td></tr><tr><td>Associate's Degree</td><td>844</td><td>11925100</td><td>1640500</td><td>Health Care</td><td>Male</td><td>4/1/2010</td><td>537</td></tr><tr><td>Bachelor's Degree</td><td>1087</td><td>3230100</td><td>445500</td><td>Retail</td><td>Female</td><td>4/1/2015</td><td>538</td></tr><tr><td>College</td><td>852</td><td>14873700</td><td>2091400</td><td>Construction</td><td>Male</td><td>6/1/2010</td><td>539</td></tr><tr><td>High School</td><td>868</td><td>14799100</td><td>2104800</td><td>Hospitality</td><td>Male</td><td>10/1/2010</td><td>540</td></tr><tr><td>College</td><td>904</td><td>15994200</td><td>2281900</td><td>Finance</td><td>Male</td><td>7/1/2011</td><td>541</td></tr><tr><td>Bachelor's Degree</td><td>1292</td><td>15832800</td><td>2268100</td><td>Manufacturing</td><td>Male</td><td>8/1/2020</td><td>542</td></tr><tr><td>Bachelor's Degree</td><td>900</td><td>16024600</td><td>2307600</td><td>Finance</td><td>Male</td><td>6/1/2011</td><td>543</td></tr><tr><td>Bachelor's Degree</td><td>908</td><td>15941800</td><td>2303800</td><td>Finance</td><td>Male</td><td>8/1/2011</td><td>544</td></tr><tr><td>Master's Degree</td><td>1155</td><td>74250</td><td>10750</td><td>Manufacturing</td><td>Female</td><td>9/1/2016</td><td>545</td></tr><tr><td>Master's Degree</td><td>1295</td><td>74250</td><td>10750</td><td>Education</td><td>Female</td><td>8/1/2020</td><td>545</td></tr><tr><td>Associate's Degree</td><td>623</td><td>74250</td><td>10750</td><td>Hospitality</td><td>Female</td><td>8/1/2005</td><td>545</td></tr><tr><td>Master's Degree</td><td>1291</td><td>74250</td><td>10750</td><td>Education</td><td>Female</td><td>7/1/2020</td><td>545</td></tr><tr><td>Master's Degree</td><td>567</td><td>74250</td><td>10750</td><td>Hospitality</td><td>Female</td><td>6/1/2004</td><td>545</td></tr><tr><td>Master's Degree</td><td>803</td><td>74250</td><td>10750</td><td>Professional and Business S.</td><td>Female</td><td>5/1/2009</td><td>545</td></tr><tr><td>Master's Degree</td><td>1231</td><td>74250</td><td>10750</td><td>Manufacturing</td><td>Female</td><td>4/1/2019</td><td>545</td></tr><tr><td>High School Diploma</td><td>942</td><td>74250</td><td>10750</td><td>Education</td><td>Male</td><td>4/1/2012</td><td>545</td></tr><tr><td>Master's Degree</td><td>894</td><td>74250</td><td>10750</td><td>Hospitality</td><td>Male</td><td>4/1/2011</td><td>545</td></tr><tr><td>Master's Degree</td><td>1083</td><td>74250</td><td>10750</td><td>Professional and Business S.</td><td>Female</td><td>3/1/2015</td><td>545</td></tr><tr><td>Master's Degree</td><td>553</td><td>74250</td><td>10750</td><td>Retail</td><td>Female</td><td>3/1/2004</td><td>545</td></tr><tr><td>Master's Degree</td><td>1263</td><td>74250</td><td>10750</td><td>Manufacturing</td><td>Female</td><td>12/1/2019</td><td>545</td></tr><tr><td>Associate's Degree</td><td>967</td><td>74250</td><td>10750</td><td>Energy</td><td>Female</td><td>10/1/2012</td><td>545</td></tr><tr><td>High School</td><td>896</td><td>16016000</td><td>2323800</td><td>Hospitality</td><td>Male</td><td>5/1/2011</td><td>546</td></tr><tr><td>Bachelor's Degree</td><td>800</td><td>16805000</td><td>2445000</td><td>Construction</td><td>Male</td><td>5/1/2009</td><td>547</td></tr><tr><td>High School Diploma</td><td>678</td><td>16805000</td><td>2445000</td><td>Finance</td><td>Male</td><td>10/1/2006</td><td>547</td></tr><tr><td>Master's Degree</td><td>738</td><td>16805000</td><td>2445000</td><td>Finance</td><td>Male</td><td>1/1/2008</td><td>547</td></tr><tr><td>Bachelor's Degree</td><td>864</td><td>14746900</td><td>2150000</td><td>Energy</td><td>Male</td><td>9/1/2010</td><td>548</td></tr><tr><td>College</td><td>872</td><td>14694100</td><td>2161200</td><td>Information Tech</td><td>Male</td><td>11/1/2010</td><td>549</td></tr><tr><td>Bachelor's Degree</td><td>892</td><td>15985300</td><td>2360300</td><td>Finance</td><td>Male</td><td>4/1/2011</td><td>550</td></tr><tr><td>College</td><td>920</td><td>14629500</td><td>2182600</td><td>Hospitality</td><td>Male</td><td>11/1/2011</td><td>551</td></tr><tr><td>College</td><td>880</td><td>15935100</td><td>2380200</td><td>Technology</td><td>Male</td><td>1/1/2011</td><td>552</td></tr><tr><td>High School</td><td>912</td><td>14723600</td><td>2199800</td><td>Manufacturing</td><td>Male</td><td>9/1/2011</td><td>553</td></tr><tr><td>Bachelor's Degree</td><td>888</td><td>15912300</td><td>2377400</td><td>Information Tech</td><td>Male</td><td>3/1/2011</td><td>554</td></tr><tr><td>Bachelor's Degree</td><td>924</td><td>14596300</td><td>2189300</td><td>Finance</td><td>Male</td><td>12/1/2011</td><td>555</td></tr><tr><td>High School</td><td>884</td><td>15860200</td><td>2382900</td><td>Finance</td><td>Male</td><td>2/1/2011</td><td>556</td></tr><tr><td>Bachelor's Degree</td><td>876</td><td>14597200</td><td>2197200</td><td>Technology</td><td>Male</td><td>12/1/2010</td><td>557</td></tr><tr><td>Bachelor's Degree</td><td>916</td><td>14674200</td><td>2216200</td><td>Retail</td><td>Male</td><td>10/1/2011</td><td>558</td></tr><tr><td>College</td><td>1288</td><td>15714600</td><td>2483600</td><td>Retail</td><td>Male</td><td>7/1/2020</td><td>559</td></tr><tr><td>Master's Degree</td><td>998</td><td>45900</td><td>7900</td><td>Professional and Business S.</td><td>Male</td><td>6/1/2013</td><td>560</td></tr><tr><td>Bachelor's Degree</td><td>747</td><td>45900</td><td>7900</td><td>Retail</td><td>Female</td><td>3/1/2008</td><td>560</td></tr><tr><td>Associate's Degree</td><td>871</td><td>45900</td><td>7900</td><td>Agriculture</td><td>Female</td><td>10/1/2010</td><td>560</td></tr><tr><td>Master's Degree</td><td>1075</td><td>45900</td><td>7900</td><td>Agriculture</td><td>Female</td><td>1/1/2015</td><td>560</td></tr><tr><td>Associate's Degree</td><td>931</td><td>45900</td><td>7900</td><td>Energy</td><td>Female</td><td>1/1/2012</td><td>560</td></tr><tr><td>Master's Degree</td><td>722</td><td>68000</td><td>12000</td><td>Retail</td><td>Male</td><td>9/1/2007</td><td>561</td></tr><tr><td>Master's Degree</td><td>528</td><td>52700</td><td>9300</td><td>Retail</td><td>Male</td><td>9/1/2003</td><td>561</td></tr><tr><td>Associate's Degree</td><td>529</td><td>35700</td><td>6300</td><td>Healthcare</td><td>Female</td><td>9/1/2003</td><td>561</td></tr><tr><td>Bachelor's Degree</td><td>192</td><td>52700</td><td>9300</td><td>Finance</td><td>Male</td><td>9/1/1996</td><td>561</td></tr><tr><td>High School Diploma</td><td>193</td><td>34000</td><td>6000</td><td>Agriculture</td><td>Female</td><td>9/1/1996</td><td>561</td></tr><tr><td>Bachelor's Degree</td><td>30</td><td>65450</td><td>11550</td><td>Manufacturing</td><td>Male</td><td>8/1/2021</td><td>561</td></tr><tr><td>High School Diploma</td><td>31</td><td>44200</td><td>7800</td><td>Retail</td><td>Female</td><td>8/1/2021</td><td>561</td></tr><tr><td>High School Diploma</td><td>1054</td><td>68000</td><td>12000</td><td>Agriculture</td><td>Male</td><td>8/1/2014</td><td>561</td></tr><tr><td>Master's Degree</td><td>910</td><td>68000</td><td>12000</td><td>Hospitality</td><td>Male</td><td>8/1/2011</td><td>561</td></tr><tr><td>Bachelor's Degree</td><td>524</td><td>65450</td><td>11550</td><td>Construction</td><td>Male</td><td>8/1/2003</td><td>561</td></tr><tr><td>High School Diploma</td><td>525</td><td>44200</td><td>7800</td><td>Agriculture</td><td>Female</td><td>8/1/2003</td><td>561</td></tr><tr><td>Master's Degree</td><td>188</td><td>68000</td><td>12000</td><td>Healthcare</td><td>Male</td><td>8/1/1996</td><td>561</td></tr><tr><td>Associate's Degree</td><td>189</td><td>44200</td><td>7800</td><td>Wholesale Trade</td><td>Female</td><td>8/1/1996</td><td>561</td></tr><tr><td>Associate's Degree</td><td>191</td><td>44200</td><td>7800</td><td>Manufacturing</td><td>Female</td><td>8/1/1996</td><td>561</td></tr><tr><td>High School Diploma</td><td>618</td><td>56950</td><td>10050</td><td>Professional and Business S.</td><td>Male</td><td>7/1/2005</td><td>561</td></tr><tr><td>Associate's Degree</td><td>568</td><td>140250</td><td>24750</td><td>Energy</td><td>Male</td><td>7/1/2004</td><td>561</td></tr><tr><td>Bachelor's Degree</td><td>569</td><td>89250</td><td>15750</td><td>Healthcare</td><td>Female</td><td>7/1/2004</td><td>561</td></tr><tr><td>High School Diploma</td><td>570</td><td>56950</td><td>10050</td><td>Professional and Business S.</td><td>Male</td><td>7/1/2004</td><td>561</td></tr><tr><td>High School Diploma</td><td>521</td><td>51000</td><td>9000</td><td>Healthcare</td><td>Female</td><td>7/1/2003</td><td>561</td></tr><tr><td>Associate's Degree</td><td>522</td><td>56950</td><td>10050</td><td>Professional and Business S.</td><td>Male</td><td>7/1/2003</td><td>561</td></tr><tr><td>Bachelor's Degree</td><td>474</td><td>93500</td><td>16500</td><td>Retail</td><td>Male</td><td>7/1/2002</td><td>561</td></tr><tr><td>High School Diploma</td><td>475</td><td>63750</td><td>11250</td><td>Agriculture</td><td>Female</td><td>7/1/2002</td><td>561</td></tr><tr><td>High School Diploma</td><td>283</td><td>123250</td><td>21750</td><td>Finance</td><td>Female</td><td>7/1/1998</td><td>561</td></tr><tr><td>Bachelor's Degree</td><td>184</td><td>100300</td><td>17700</td><td>Education</td><td>Male</td><td>7/1/1996</td><td>561</td></tr><tr><td>High School Diploma</td><td>185</td><td>52700</td><td>9300</td><td>Retail</td><td>Female</td><td>7/1/1996</td><td>561</td></tr><tr><td>Bachelor's Degree</td><td>186</td><td>83300</td><td>14700</td><td>Education</td><td>Male</td><td>7/1/1996</td><td>561</td></tr><tr><td>Master's Degree</td><td>564</td><td>119000</td><td>21000</td><td>Energy</td><td>Male</td><td>6/1/2004</td><td>561</td></tr><tr><td>Bachelor's Degree</td><td>565</td><td>76500</td><td>13500</td><td>Finance</td><td>Female</td><td>6/1/2004</td><td>561</td></tr><tr><td>Bachelor's Degree</td><td>516</td><td>68000</td><td>12000</td><td>Manufacturing</td><td>Male</td><td>6/1/2003</td><td>561</td></tr><tr><td>High School Diploma</td><td>517</td><td>45050</td><td>7950</td><td>Education</td><td>Female</td><td>6/1/2003</td><td>561</td></tr><tr><td>Master's Degree</td><td>470</td><td>80750</td><td>14250</td><td>Wholesale Trade</td><td>Male</td><td>6/1/2002</td><td>561</td></tr><tr><td>Associate's Degree</td><td>471</td><td>56950</td><td>10050</td><td>Finance</td><td>Female</td><td>6/1/2002</td><td>561</td></tr><tr><td>Bachelor's Degree</td><td>182</td><td>25500</td><td>4500</td><td>Manufacturing</td><td>Male</td><td>6/1/1996</td><td>561</td></tr><tr><td>High School Diploma</td><td>183</td><td>51000</td><td>9000</td><td>Healthcare</td><td>Female</td><td>6/1/1996</td><td>561</td></tr><tr><td>Master's Degree</td><td>946</td><td>68000</td><td>12000</td><td>Education</td><td>Male</td><td>5/1/2012</td><td>561</td></tr><tr><td>Master's Degree</td><td>658</td><td>56950</td><td>10050</td><td>Energy</td><td>Male</td><td>5/1/2006</td><td>561</td></tr><tr><td>Master's Degree</td><td>561</td><td>93500</td><td>16500</td><td>Hospitality</td><td>Female</td><td>5/1/2004</td><td>561</td></tr><tr><td>Master's Degree</td><td>512</td><td>80750</td><td>14250</td><td>Healthcare</td><td>Male</td><td>5/1/2003</td><td>561</td></tr><tr><td>Associate's Degree</td><td>513</td><td>56950</td><td>10050</td><td>Finance</td><td>Female</td><td>5/1/2003</td><td>561</td></tr><tr><td>High School Diploma</td><td>226</td><td>39100</td><td>6900</td><td>Finance</td><td>Female</td><td>5/1/1997</td><td>561</td></tr><tr><td>Bachelor's Degree</td><td>227</td><td>25500</td><td>4500</td><td>Energy</td><td>Male</td><td>5/1/1997</td><td>561</td></tr><tr><td>High School Diploma</td><td>130</td><td>144500</td><td>25500</td><td>Manufacturing</td><td>Male</td><td>5/1/1995</td><td>561</td></tr><tr><td>Master's Degree</td><td>131</td><td>93500</td><td>16500</td><td>Education</td><td>Female</td><td>5/1/1995</td><td>561</td></tr><tr><td>Associate's Degree</td><td>556</td><td>131750</td><td>23250</td><td>Energy</td><td>Male</td><td>4/1/2004</td><td>561</td></tr><tr><td>Bachelor's Degree</td><td>557</td><td>85000</td><td>15000</td><td>Finance</td><td>Female</td><td>4/1/2004</td><td>561</td></tr><tr><td>Associate's Degree</td><td>558</td><td>140250</td><td>24750</td><td>Hospitality</td><td>Male</td><td>4/1/2004</td><td>561</td></tr><tr><td>Bachelor's Degree</td><td>508</td><td>93500</td><td>16500</td><td>Retail</td><td>Male</td><td>4/1/2003</td><td>561</td></tr><tr><td>High School Diploma</td><td>509</td><td>63750</td><td>11250</td><td>Agriculture</td><td>Female</td><td>4/1/2003</td><td>561</td></tr><tr><td>Master's Degree</td><td>462</td><td>83300</td><td>14700</td><td>Manufacturing</td><td>Female</td><td>4/1/2002</td><td>561</td></tr><tr><td>Associate's Degree</td><td>463</td><td>43350</td><td>7650</td><td>Retail</td><td>Male</td><td>4/1/2002</td><td>561</td></tr><tr><td>Bachelor's Degree</td><td>414</td><td>144500</td><td>25500</td><td>Agriculture</td><td>Male</td><td>4/1/2001</td><td>561</td></tr><tr><td>High School Diploma</td><td>415</td><td>93500</td><td>16500</td><td>Retail</td><td>Female</td><td>4/1/2001</td><td>561</td></tr><tr><td>Bachelor's Degree</td><td>270</td><td>39100</td><td>6900</td><td>Manufacturing</td><td>Male</td><td>4/1/1998</td><td>561</td></tr><tr><td>High School Diploma</td><td>271</td><td>25500</td><td>4500</td><td>Agriculture</td><td>Female</td><td>4/1/1998</td><td>561</td></tr><tr><td>Master's Degree</td><td>222</td><td>83300</td><td>14700</td><td>Manufacturing</td><td>Female</td><td>4/1/1997</td><td>561</td></tr><tr><td>Associate's Degree</td><td>223</td><td>43350</td><td>7650</td><td>Retail</td><td>Male</td><td>4/1/1997</td><td>561</td></tr><tr><td>Master's Degree</td><td>602</td><td>140250</td><td>24750</td><td>Energy</td><td>Male</td><td>3/1/2005</td><td>561</td></tr><tr><td>High School Diploma</td><td>1174</td><td>68000</td><td>12000</td><td>Professional and Business S.</td><td>Male</td><td>2/1/2017</td><td>561</td></tr><tr><td>Bachelor's Degree</td><td>548</td><td>136000</td><td>24000</td><td>Manufacturing</td><td>Male</td><td>2/1/2004</td><td>561</td></tr><tr><td>Bachelor's Degree</td><td>549</td><td>89250</td><td>15750</td><td>Finance</td><td>Female</td><td>2/1/2004</td><td>561</td></tr><tr><td>Master's Degree</td><td>212</td><td>56100</td><td>9900</td><td>Finance</td><td>Male</td><td>2/1/1997</td><td>561</td></tr><tr><td>Associate's Degree</td><td>213</td><td>36550</td><td>6450</td><td>Retail</td><td>Female</td><td>2/1/1997</td><td>561</td></tr><tr><td>Associate's Degree</td><td>166</td><td>68000</td><td>12000</td><td>Manufacturing</td><td>Male</td><td>2/1/1996</td><td>561</td></tr><tr><td>Master's Degree</td><td>543</td><td>68000</td><td>12000</td><td>Professional and Business S.</td><td>Female</td><td>12/1/2003</td><td>561</td></tr><tr><td>Bachelor's Degree</td><td>204</td><td>39100</td><td>6900</td><td>Education</td><td>Male</td><td>12/1/1996</td><td>561</td></tr><tr><td>High School Diploma</td><td>205</td><td>25500</td><td>4500</td><td>Healthcare</td><td>Female</td><td>12/1/1996</td><td>561</td></tr><tr><td>Master's Degree</td><td>90</td><td>51000</td><td>9000</td><td>Manufacturing</td><td>Male</td><td>11/1/2022</td><td>561</td></tr><tr><td>Associate's Degree</td><td>91</td><td>33150</td><td>5850</td><td>Retail</td><td>Female</td><td>11/1/2022</td><td>561</td></tr><tr><td>Bachelor's Degree</td><td>537</td><td>41650</td><td>7350</td><td>Retail</td><td>Female</td><td>11/1/2003</td><td>561</td></tr><tr><td>Master's Degree</td><td>200</td><td>51000</td><td>9000</td><td>Manufacturing</td><td>Male</td><td>11/1/1996</td><td>561</td></tr><tr><td>Associate's Degree</td><td>201</td><td>33150</td><td>5850</td><td>Retail</td><td>Female</td><td>11/1/1996</td><td>561</td></tr><tr><td>Master's Degree</td><td>202</td><td>68000</td><td>12000</td><td>Manufacturing</td><td>Male</td><td>11/1/1996</td><td>561</td></tr><tr><td>Associate's Degree</td><td>203</td><td>44200</td><td>7800</td><td>Retail</td><td>Female</td><td>11/1/1996</td><td>561</td></tr><tr><td>Bachelor's Degree</td><td>86</td><td>73950</td><td>13050</td><td>Energy</td><td>Male</td><td>10/1/2022</td><td>561</td></tr><tr><td>High School Diploma</td><td>87</td><td>39100</td><td>6900</td><td>Healthcare</td><td>Female</td><td>10/1/2022</td><td>561</td></tr><tr><td>Bachelor's Degree</td><td>532</td><td>68000</td><td>12000</td><td>Trade, Transportation, Util.</td><td>Male</td><td>10/1/2003</td><td>561</td></tr><tr><td>High School Diploma</td><td>533</td><td>45900</td><td>8100</td><td>Energy</td><td>Female</td><td>10/1/2003</td><td>561</td></tr><tr><td>High School Diploma</td><td>534</td><td>140250</td><td>24750</td><td>Finance</td><td>Male</td><td>10/1/2003</td><td>561</td></tr><tr><td>Bachelor's Degree</td><td>196</td><td>73950</td><td>13050</td><td>Energy</td><td>Male</td><td>10/1/1996</td><td>561</td></tr><tr><td>High School Diploma</td><td>197</td><td>39100</td><td>6900</td><td>Healthcare</td><td>Female</td><td>10/1/1996</td><td>561</td></tr><tr><td>Master's Degree</td><td>594</td><td>56950</td><td>10050</td><td>Finance</td><td>Male</td><td>1/1/2005</td><td>561</td></tr><tr><td>Bachelor's Degree</td><td>545</td><td>80750</td><td>14250</td><td>Energy</td><td>Female</td><td>1/1/2004</td><td>561</td></tr><tr><td>Master's Degree</td><td>354</td><td>123250</td><td>21750</td><td>Energy</td><td>Male</td><td>1/1/2000</td><td>561</td></tr><tr><td>Associate's Degree</td><td>355</td><td>80750</td><td>14250</td><td>Education</td><td>Female</td><td>1/1/2000</td><td>561</td></tr><tr><td>Bachelor's Degree</td><td>208</td><td>83300</td><td>14700</td><td>Agriculture</td><td>Male</td><td>1/1/1997</td><td>561</td></tr><tr><td>High School Diploma</td><td>209</td><td>43350</td><td>7650</td><td>Healthcare</td><td>Female</td><td>1/1/1997</td><td>561</td></tr><tr><td>High School Diploma</td><td>179</td><td>67500</td><td>12500</td><td>Finance</td><td>Female</td><td>5/1/1996</td><td>562</td></tr><tr><td>Master's Degree</td><td>362</td><td>92750</td><td>17250</td><td>Manufacturing</td><td>Male</td><td>3/1/2000</td><td>563</td></tr><tr><td>Bachelor's Degree</td><td>1280</td><td>13737500</td><td>2577300</td><td>Technology</td><td>Male</td><td>5/1/2020</td><td>564</td></tr><tr><td>Bachelor's Degree</td><td>518</td><td>100750</td><td>19250</td><td>Manufacturing</td><td>Male</td><td>6/1/2003</td><td>565</td></tr><tr><td>High School Diploma</td><td>435</td><td>154500</td><td>30500</td><td>Healthcare</td><td>Female</td><td>9/1/2001</td><td>566</td></tr><tr><td>High School Diploma</td><td>1281</td><td>8698900</td><td>1734200</td><td>Retail</td><td>Female</td><td>5/1/2020</td><td>567</td></tr><tr><td>High School Diploma</td><td>423</td><td>92000</td><td>19000</td><td>Wholesale Trade</td><td>Female</td><td>6/1/2001</td><td>568</td></tr><tr><td>Bachelor's Degree</td><td>451</td><td>92000</td><td>19000</td><td>Construction</td><td>Female</td><td>1/1/2002</td><td>568</td></tr><tr><td>Bachelor's Degree</td><td>366</td><td>67840</td><td>14160</td><td>Education</td><td>Male</td><td>4/1/2000</td><td>569</td></tr><tr><td>High School Diploma</td><td>619</td><td>80750</td><td>17250</td><td>Finance</td><td>Female</td><td>7/1/2005</td><td>570</td></tr><tr><td>Master's Degree</td><td>571</td><td>80750</td><td>17250</td><td>Finance</td><td>Female</td><td>7/1/2004</td><td>570</td></tr><tr><td>Master's Degree</td><td>523</td><td>80750</td><td>17250</td><td>Trade, Transportation, Util.</td><td>Female</td><td>7/1/2003</td><td>570</td></tr><tr><td>Associate's Degree</td><td>659</td><td>80750</td><td>17250</td><td>Professional and Business S.</td><td>Female</td><td>5/1/2006</td><td>570</td></tr><tr><td>Master's Degree</td><td>514</td><td>80750</td><td>17250</td><td>Healthcare</td><td>Male</td><td>5/1/2003</td><td>570</td></tr><tr><td>Master's Degree</td><td>595</td><td>80750</td><td>17250</td><td>Hospitality</td><td>Female</td><td>1/1/2005</td><td>570</td></tr><tr><td>Bachelor's Degree</td><td>438</td><td>102500</td><td>22500</td><td>Manufacturing</td><td>Male</td><td>10/1/2001</td><td>571</td></tr><tr><td>Associate's Degree</td><td>491</td><td>68000</td><td>15100</td><td>Construction</td><td>Female</td><td>11/1/2002</td><td>572</td></tr><tr><td>Bachelor's Degree</td><td>773</td><td>900000</td><td>200000</td><td>Finance and Insurance</td><td>Female</td><td>10/1/2008</td><td>573</td></tr><tr><td>Master's Degree</td><td>88</td><td>98000</td><td>22000</td><td>Finance</td><td>Male</td><td>11/1/2022</td><td>574</td></tr><tr><td>Master's Degree</td><td>718</td><td>34900</td><td>7900</td><td>Finance</td><td>Male</td><td>8/1/2007</td><td>575</td></tr><tr><td>Associate's Degree</td><td>971</td><td>34900</td><td>7900</td><td>Energy</td><td>Female</td><td>11/1/2012</td><td>575</td></tr><tr><td>Bachelor's Degree</td><td>586</td><td>34900</td><td>7900</td><td>Finance</td><td>Male</td><td>11/1/2004</td><td>575</td></tr><tr><td>High School Diploma</td><td>101</td><td>93500</td><td>21500</td><td>Retail</td><td>Female</td><td>2/1/2023</td><td>576</td></tr><tr><td>Master's Degree</td><td>1259</td><td>12442000</td><td>3076900</td><td>Manufacturing</td><td>Female</td><td>11/1/2019</td><td>577</td></tr><tr><td>Bachelor's Degree</td><td>330</td><td>78300</td><td>19700</td><td>Wholesale Trade</td><td>Male</td><td>7/1/1999</td><td>578</td></tr><tr><td>Bachelor's Degree</td><td>194</td><td>52700</td><td>13300</td><td>Finance</td><td>Male</td><td>9/1/1996</td><td>579</td></tr><tr><td>High School Diploma</td><td>494</td><td>99000</td><td>26000</td><td>Education</td><td>Male</td><td>12/1/2002</td><td>580</td></tr><tr><td>Master's Degree</td><td>334</td><td>142000</td><td>38000</td><td>Finance</td><td>Male</td><td>8/1/1999</td><td>581</td></tr><tr><td>High School Diploma</td><td>455</td><td>68300</td><td>18700</td><td>Energy</td><td>Female</td><td>2/1/2002</td><td>582</td></tr><tr><td>High School Diploma</td><td>359</td><td>68300</td><td>18700</td><td>Energy</td><td>Female</td><td>2/1/2000</td><td>582</td></tr><tr><td>Bachelor's Degree</td><td>443</td><td>68300</td><td>18700</td><td>Retail</td><td>Female</td><td>11/1/2001</td><td>582</td></tr><tr><td>Master's Degree</td><td>498</td><td>68300</td><td>19500</td><td>Manufacturing</td><td>Male</td><td>1/1/2003</td><td>583</td></tr><tr><td>Associate's Degree</td><td>370</td><td>62000</td><td>18000</td><td>Energy</td><td>Male</td><td>5/1/2000</td><td>584</td></tr><tr><td>High School Diploma</td><td>439</td><td>62000</td><td>18000</td><td>Retail</td><td>Female</td><td>10/1/2001</td><td>584</td></tr><tr><td>High School Diploma</td><td>1079</td><td>31974</td><td>9837</td><td>Technology</td><td>Female</td><td>2/1/2015</td><td>585</td></tr><tr><td>Associate's Degree</td><td>454</td><td>110500</td><td>34500</td><td>Manufacturing</td><td>Male</td><td>2/1/2002</td><td>586</td></tr><tr><td>Associate's Degree</td><td>358</td><td>110500</td><td>34500</td><td>Manufacturing</td><td>Male</td><td>2/1/2000</td><td>586</td></tr><tr><td>Bachelor's Degree</td><td>1277</td><td>8071900</td><td>2820700</td><td>Hospitality</td><td>Female</td><td>4/1/2020</td><td>587</td></tr><tr><td>Bachelor's Degree</td><td>788</td><td>200000</td><td>70000</td><td>Finance</td><td>Male</td><td>2/1/2009</td><td>588</td></tr><tr><td>Bachelor's Degree</td><td>422</td><td>92500</td><td>32500</td><td>Energy</td><td>Male</td><td>6/1/2001</td><td>589</td></tr><tr><td>Master's Degree</td><td>450</td><td>92500</td><td>32500</td><td>Agriculture</td><td>Male</td><td>1/1/2002</td><td>589</td></tr><tr><td>College</td><td>1276</td><td>12733800</td><td>4494200</td><td>Energy</td><td>Male</td><td>4/1/2020</td><td>590</td></tr><tr><td>Master's Degree</td><td>490</td><td>102000</td><td>38500</td><td>Energy</td><td>Male</td><td>11/1/2002</td><td>591</td></tr><tr><td>High School Diploma</td><td>187</td><td>52700</td><td>22300</td><td>Retail</td><td>Female</td><td>7/1/1996</td><td>592</td></tr><tr><td>Bachelor's Degree</td><td>510</td><td>99000</td><td>41990</td><td>Retail</td><td>Male</td><td>4/1/2003</td><td>593</td></tr><tr><td>Bachelor's Degree</td><td>239</td><td>4621000</td><td>2102000</td><td>Healthcare</td><td>Male</td><td>8/1/1997</td><td>594</td></tr><tr><td>High School Diploma</td><td>331</td><td>144900</td><td>66100</td><td>Retail</td><td>Female</td><td>7/1/1999</td><td>595</td></tr><tr><td>Associate's Degree</td><td>407</td><td>61000</td><td>29000</td><td>Retail</td><td>Female</td><td>2/1/2001</td><td>596</td></tr><tr><td>Associate's Degree</td><td>419</td><td>41700</td><td>20300</td><td>Education</td><td>Female</td><td>5/1/2001</td><td>597</td></tr><tr><td>Master's Degree</td><td>418</td><td>34200</td><td>17800</td><td>Finance</td><td>Male</td><td>5/1/2001</td><td>598</td></tr><tr><td>Bachelor's Degree</td><td>502</td><td>60750</td><td>34560</td><td>Agriculture</td><td>Male</td><td>2/1/2003</td><td>599</td></tr><tr><td>Master's Degree</td><td>478</td><td>55500</td><td>32500</td><td>Construction</td><td>Male</td><td>8/1/2002</td><td>600</td></tr><tr><td>Bachelor's Degree</td><td>278</td><td>73950</td><td>44050</td><td>Finance</td><td>Male</td><td>6/1/1998</td><td>601</td></tr><tr><td>Bachelor's Degree</td><td>198</td><td>73950</td><td>44050</td><td>Energy</td><td>Male</td><td>10/1/1996</td><td>601</td></tr><tr><td>High School Diploma</td><td>519</td><td>56950</td><td>38050</td><td>Education</td><td>Female</td><td>6/1/2003</td><td>602</td></tr><tr><td>Bachelor's Degree</td><td>279</td><td>39100</td><td>26900</td><td>Manufacturing</td><td>Male</td><td>6/1/1998</td><td>603</td></tr><tr><td>High School Diploma</td><td>199</td><td>39100</td><td>26900</td><td>Healthcare</td><td>Female</td><td>10/1/1996</td><td>603</td></tr><tr><td>Bachelor's Degree</td><td>777</td><td>82000</td><td>58000</td><td>Government and Public Admin.</td><td>Female</td><td>11/1/2008</td><td>604</td></tr><tr><td>Bachelor's Degree</td><td>769</td><td>250000</td><td>200000</td><td>Finance</td><td>Female</td><td>9/1/2008</td><td>605</td></tr><tr><td>Associate's Degree</td><td>515</td><td>56950</td><td>53050</td><td>Finance</td><td>Female</td><td>5/1/2003</td><td>606</td></tr><tr><td>Master's Degree</td><td>190</td><td>7800500</td><td>7481500</td><td>Healthcare</td><td>Male</td><td>8/1/1996</td><td>607</td></tr><tr><td>Associate's Degree</td><td>707</td><td>9900</td><td>9900</td><td>Education</td><td>Female</td><td>5/1/2007</td><td>608</td></tr><tr><td>Associate's Degree</td><td>776</td><td>200000</td><td>200000</td><td>Retail</td><td>Male</td><td>11/1/2008</td><td>608</td></tr><tr><td>Bachelor's Degree</td><td>801</td><td>150000</td><td>200000</td><td>Construction</td><td>Female</td><td>5/1/2009</td><td>609</td></tr><tr><td>High School Diploma</td><td>785</td><td>150000</td><td>200000</td><td>Manufacturing</td><td>Female</td><td>1/1/2009</td><td>609</td></tr></tbody></table></div>"
      ]
     },
     "metadata": {
      "application/vnd.databricks.v1+output": {
       "addedWidgets": {},
       "aggData": [],
       "aggError": "",
       "aggOverflow": false,
       "aggSchema": [],
       "aggSeriesLimitReached": false,
       "aggType": "",
       "arguments": {},
       "columnCustomDisplayInfos": {},
       "data": [
        [
         "Bachelor's Degree",
         326,
         118000,
         2000,
         "Agriculture",
         "Male",
         "6/1/1999",
         1
        ],
        [
         "High School Diploma",
         195,
         11134000,
         240000,
         "Agriculture",
         "Female",
         "9/1/1996",
         2
        ],
        [
         "High School Diploma",
         129,
         675000,
         15000,
         "Retail",
         "Female",
         "5/1/1995",
         3
        ],
        [
         "Master's Degree",
         406,
         131500,
         3500,
         "Agriculture",
         "Male",
         "2/1/2001",
         4
        ],
        [
         "High School",
         1463,
         4031000,
         115000,
         "Retail Trade",
         "Male",
         "12/1/2000",
         5
        ],
        [
         "Bachelor's Degree",
         426,
         136900,
         4100,
         "Manufacturing",
         "Male",
         "7/1/2001",
         6
        ],
        [
         "Bachelor's Degree",
         458,
         136900,
         4100,
         "Agriculture",
         "Male",
         "3/1/2002",
         6
        ],
        [
         "Bachelor's Degree",
         410,
         136900,
         4100,
         "Agriculture",
         "Male",
         "3/1/2001",
         6
        ],
        [
         "High School",
         1462,
         4018000,
         123000,
         "Retail Trade",
         "Female",
         "11/1/2000",
         7
        ],
        [
         "Associate's Degree",
         507,
         53350,
         1650,
         "Education",
         "Male",
         "3/1/2003",
         8
        ],
        [
         "High School",
         1461,
         4004000,
         132000,
         "Retail Trade",
         "Male",
         "10/1/2000",
         9
        ],
        [
         "High School",
         1460,
         3990000,
         140000,
         "Retail Trade",
         "Female",
         "9/1/2000",
         10
        ],
        [
         "High School",
         1459,
         3974000,
         149000,
         "Retail Trade",
         "Male",
         "8/1/2000",
         11
        ],
        [
         "High School Diploma",
         442,
         154900,
         6100,
         "Healthcare",
         "Male",
         "11/1/2001",
         12
        ],
        [
         "High School",
         1458,
         3958000,
         157000,
         "Retail Trade",
         "Female",
         "7/1/2000",
         13
        ],
        [
         "Bachelor's Degree",
         520,
         86500,
         3500,
         "Energy",
         "Male",
         "7/1/2003",
         14
        ],
        [
         "Bachelor's Degree",
         1213,
         11908700,
         483400,
         "Health Care",
         "Female",
         "12/1/2017",
         15
        ],
        [
         "Bachelor's Degree",
         371,
         192000,
         8000,
         "Finance",
         "Female",
         "5/1/2000",
         16
        ],
        [
         "High School",
         1457,
         3942000,
         165000,
         "Retail Trade",
         "Male",
         "6/1/2000",
         17
        ],
        [
         "Bachelor's Degree",
         434,
         182000,
         8000,
         "Agriculture",
         "Male",
         "9/1/2001",
         18
        ],
        [
         "High School",
         1456,
         3925000,
         173000,
         "Retail Trade",
         "Female",
         "5/1/2000",
         19
        ],
        [
         "High School Diploma",
         511,
         76500,
         3500,
         "Agriculture",
         "Female",
         "4/1/2003",
         20
        ],
        [
         "High School",
         1455,
         3907000,
         182000,
         "Retail Trade",
         "Male",
         "4/1/2000",
         21
        ],
        [
         "High School Diploma",
         487,
         90750,
         4250,
         "Healthcare",
         "Female",
         "10/1/2002",
         22
        ],
        [
         "Bachelor's Degree",
         1209,
         11812600,
         570500,
         "Financial Services",
         "Female",
         "11/1/2017",
         23
        ],
        [
         "High School Diploma",
         1205,
         11729600,
         574600,
         "Technology",
         "Female",
         "10/1/2017",
         24
        ],
        [
         "High School",
         1439,
         5625,
         276,
         "Technology",
         "Male",
         "12/1/1999",
         25
        ],
        [
         "Master's Degree",
         1438,
         5600,
         275,
         "Healthcare",
         "Female",
         "11/1/1999",
         26
        ],
        [
         "High School",
         1454,
         3889000,
         191000,
         "Retail Trade",
         "Female",
         "3/1/2000",
         27
        ],
        [
         "Master's Degree",
         1511,
         4691822,
         230540,
         "Education",
         "Male",
         "12/1/2002",
         28
        ],
        [
         "High School",
         1437,
         5571,
         274,
         "Education",
         "Male",
         "10/1/1999",
         29
        ],
        [
         "Associate's Degree",
         667,
         81000,
         4000,
         "Hospitality",
         "Female",
         "7/1/2006",
         30
        ],
        [
         "Master's Degree",
         754,
         81000,
         4000,
         "Education",
         "Male",
         "5/1/2008",
         30
        ],
        [
         "Master's Degree",
         702,
         81000,
         4000,
         "Finance",
         "Male",
         "4/1/2007",
         30
        ],
        [
         "Associate's Degree",
         554,
         81000,
         4000,
         "Professional and Business S.",
         "Male",
         "3/1/2004",
         30
        ],
        [
         "High School Diploma",
         538,
         81000,
         4000,
         "Professional and Business S.",
         "Male",
         "11/1/2003",
         30
        ],
        [
         "Master's Degree",
         679,
         81000,
         4000,
         "Hospitality",
         "Female",
         "10/1/2006",
         30
        ],
        [
         "Associate's Degree",
         739,
         81000,
         4000,
         "Hospitality",
         "Female",
         "1/1/2008",
         30
        ],
        [
         "High School",
         1428,
         5200,
         258,
         "Technology",
         "Female",
         "8/1/1999",
         31
        ],
        [
         "Bachelor's Degree",
         506,
         93300,
         4700,
         "Finance",
         "Male",
         "3/1/2003",
         32
        ],
        [
         "College",
         1201,
         11654300,
         589700,
         "Technology",
         "Female",
         "9/1/2017",
         33
        ],
        [
         "High School Diploma",
         1294,
         11654300,
         589700,
         "Retail",
         "Male",
         "8/1/2020",
         33
        ],
        [
         "High School Diploma",
         1278,
         11654300,
         589700,
         "Education",
         "Male",
         "4/1/2020",
         33
        ],
        [
         "Bachelor's Degree",
         1425,
         5079,
         257,
         "Finance",
         "Male",
         "5/1/1999",
         34
        ],
        [
         "Bachelor's Degree",
         1510,
         4680886,
         236931,
         "Information",
         "Female",
         "11/1/2002",
         35
        ],
        [
         "High School",
         1426,
         5118,
         260,
         "Education",
         "Female",
         "6/1/1999",
         36
        ],
        [
         "Master's Degree",
         1427,
         5157,
         263,
         "Healthcare",
         "Male",
         "7/1/1999",
         37
        ],
        [
         "High School",
         1453,
         3871000,
         199000,
         "Retail Trade",
         "Male",
         "2/1/2000",
         38
        ],
        [
         "High School",
         1451,
         5800,
         300,
         "Manufacturing",
         "Male",
         "12/1/2000",
         39
        ],
        [
         "College",
         1509,
         4670674,
         242570,
         "Retail",
         "Male",
         "10/1/2002",
         40
        ],
        [
         "Graduate",
         1450,
         5700,
         300,
         "Technology",
         "Female",
         "11/1/2000",
         41
        ],
        [
         "High School Diploma",
         1197,
         11561000,
         615900,
         "Technology",
         "Female",
         "8/1/2017",
         42
        ],
        [
         "High School",
         1508,
         4660495,
         248411,
         "Construction",
         "Female",
         "9/1/2002",
         43
        ],
        [
         "Master's Degree",
         914,
         5022,
         269,
         "Technology",
         "Male",
         "9/1/2011",
         44
        ],
        [
         "High School",
         1424,
         5022,
         269,
         "Technology",
         "Female",
         "4/1/1999",
         44
        ],
        [
         "High School Diploma",
         1178,
         5022,
         269,
         "Technology",
         "Male",
         "3/1/2017",
         44
        ],
        [
         "Associate's Degree",
         555,
         5022,
         269,
         "Trade, Transportation, Util.",
         "Female",
         "3/1/2004",
         44
        ],
        [
         "Master's Degree",
         730,
         5022,
         269,
         "Education",
         "Male",
         "11/1/2007",
         44
        ],
        [
         "High School Diploma",
         1110,
         5022,
         269,
         "Agriculture",
         "Male",
         "10/1/2015",
         44
        ],
        [
         "Associate's Degree",
         1015,
         5022,
         269,
         "Retail",
         "Female",
         "10/1/2013",
         44
        ],
        [
         "Bachelor's Degree",
         979,
         5022,
         269,
         "Energy",
         "Female",
         "1/1/2013",
         44
        ],
        [
         "College",
         1449,
         5600,
         300,
         "Education",
         "Male",
         "10/1/2000",
         45
        ],
        [
         "High School",
         1452,
         3853000,
         208000,
         "Retail Trade",
         "Female",
         "1/1/2000",
         46
        ],
        [
         "Bachelor's Degree",
         1268,
         17365200,
         947100,
         "Energy",
         "Male",
         "2/1/2020",
         47
        ],
        [
         "High School",
         1448,
         5500,
         300,
         "Retail",
         "Female",
         "9/1/2000",
         48
        ],
        [
         "Master's Degree",
         1507,
         4650797,
         253889,
         "Manufacturing",
         "Male",
         "8/1/2002",
         49
        ],
        [
         "Associate's Degree",
         1264,
         17364500,
         951000,
         "Technology",
         "Male",
         "1/1/2020",
         50
        ],
        [
         "Master's Degree",
         1423,
         4965,
         272,
         "Healthcare",
         "Male",
         "3/1/1999",
         51
        ],
        [
         "Master's Degree",
         579,
         62000,
         3400,
         "Finance",
         "Female",
         "9/1/2004",
         52
        ],
        [
         "High School Diploma",
         1150,
         62000,
         3400,
         "Professional and Business S.",
         "Male",
         "8/1/2016",
         52
        ],
        [
         "High School Diploma",
         762,
         62000,
         3400,
         "Hospitality",
         "Male",
         "7/1/2008",
         52
        ],
        [
         "Master's Degree",
         1043,
         62000,
         3400,
         "Agriculture",
         "Female",
         "5/1/2014",
         52
        ],
        [
         "Associate's Degree",
         895,
         62000,
         3400,
         "Hospitality",
         "Female",
         "4/1/2011",
         52
        ],
        [
         "Associate's Degree",
         935,
         62000,
         3400,
         "Professional and Business S.",
         "Female",
         "2/1/2012",
         52
        ],
        [
         "Associate's Degree",
         550,
         62000,
         3400,
         "Professional and Business S.",
         "Male",
         "2/1/2004",
         52
        ],
        [
         "Master's Degree",
         1014,
         62000,
         3400,
         "Technology",
         "Male",
         "10/1/2013",
         52
        ],
        [
         "High School Diploma",
         49,
         62000,
         3400,
         "Healthcare",
         "Female",
         "1/1/2022",
         52
        ],
        [
         "Bachelor's Degree",
         1252,
         17489600,
         961400,
         "Technology",
         "Male",
         "10/1/2019",
         53
        ],
        [
         "High School",
         1421,
         4876,
         269,
         "Finance",
         "Male",
         "1/1/1999",
         54
        ],
        [
         "Associate's Degree",
         1260,
         17367000,
         959200,
         "Technology",
         "Male",
         "12/1/2019",
         55
        ],
        [
         "Bachelor's Degree",
         1422,
         4923,
         273,
         "Education",
         "Female",
         "2/1/1999",
         56
        ],
        [
         "Graduate",
         1447,
         5400,
         300,
         "Finance",
         "Male",
         "8/1/2000",
         57
        ],
        [
         "Bachelor's Degree",
         1506,
         4642724,
         258165,
         "Healthcare",
         "Female",
         "7/1/2002",
         58
        ],
        [
         "College",
         1446,
         5300,
         300,
         "Healthcare",
         "Female",
         "7/1/2000",
         59
        ],
        [
         "College",
         1505,
         4634769,
         262653,
         "Finance",
         "Male",
         "6/1/2002",
         60
        ],
        [
         "College",
         1269,
         12349100,
         706000,
         "Hospitality",
         "Female",
         "2/1/2020",
         61
        ],
        [
         "High School",
         1265,
         12351400,
         710600,
         "Retail",
         "Female",
         "1/1/2020",
         62
        ],
        [
         "Bachelor's Degree",
         1372,
         5329795,
         306760,
         "Health Care",
         "Female",
         "12/1/1997",
         63
        ],
        [
         "Bachelor's Degree",
         1261,
         12353300,
         711400,
         "Retail",
         "Female",
         "12/1/2019",
         64
        ],
        [
         "High School Diploma",
         1253,
         12442000,
         717800,
         "Retail",
         "Female",
         "10/1/2019",
         65
        ],
        [
         "High School",
         1445,
         5200,
         300,
         "Manufacturing",
         "Male",
         "6/1/2000",
         66
        ],
        [
         "High School",
         1504,
         4627225,
         266990,
         "Education",
         "Female",
         "5/1/2002",
         67
        ],
        [
         "Bachelor's Degree",
         805,
         12100000,
         700000,
         "Finance",
         "Female",
         "6/1/2009",
         68
        ],
        [
         "Bachelor's Degree",
         364,
         118125,
         6875,
         "Education",
         "Male",
         "4/1/2000",
         69
        ],
        [
         "Master's Degree",
         394,
         118125,
         6875,
         "Healthcare",
         "Male",
         "11/1/2000",
         69
        ],
        [
         "High School Diploma",
         346,
         118125,
         6875,
         "Healthcare",
         "Male",
         "11/1/1999",
         69
        ],
        [
         "Master's Degree",
         298,
         118125,
         6875,
         "Healthcare",
         "Male",
         "11/1/1998",
         69
        ],
        [
         "High School Diploma",
         789,
         12000000,
         700000,
         "Finance",
         "Female",
         "2/1/2009",
         70
        ],
        [
         "College",
         1371,
         5311429,
         310347,
         "Finance and Insurance",
         "Male",
         "11/1/1997",
         71
        ],
        [
         "Master's Degree",
         1503,
         4620168,
         271161,
         "Information",
         "Male",
         "4/1/2002",
         72
        ],
        [
         "Graduate",
         1444,
         5100,
         300,
         "Technology",
         "Female",
         "5/1/2000",
         73
        ],
        [
         "Associate's Degree",
         772,
         11900000,
         700000,
         "Manufacturing",
         "Male",
         "10/1/2008",
         73
        ],
        [
         "High School",
         1370,
         5295262,
         313570,
         "Manufacturing",
         "Female",
         "10/1/1997",
         74
        ],
        [
         "Bachelor's Degree",
         765,
         11800000,
         700000,
         "Construction",
         "Female",
         "8/1/2008",
         75
        ],
        [
         "Associate's Degree",
         1212,
         13584200,
         807000,
         "Retail",
         "Male",
         "12/1/2017",
         76
        ],
        [
         "Bachelor's Degree",
         1502,
         4613335,
         275180,
         "Retail",
         "Female",
         "3/1/2002",
         77
        ],
        [
         "College",
         1501,
         4610273,
         275713,
         "Construction",
         "Male",
         "2/1/2002",
         78
        ],
        [
         "College",
         1384,
         7523000,
         451000,
         "Financial Services",
         "Female",
         "12/1/1998",
         79
        ],
        [
         "College",
         1443,
         5000,
         300,
         "Education",
         "Male",
         "4/1/2000",
         80
        ],
        [
         "High School",
         1470,
         3877827,
         234000,
         "Education",
         "Female",
         "7/1/2001",
         81
        ],
        [
         "Master's Degree",
         1369,
         5279014,
         318584,
         "Retail Trade",
         "Male",
         "9/1/1997",
         82
        ],
        [
         "Bachelor's Degree",
         1383,
         7508000,
         454000,
         "Education Services",
         "Male",
         "11/1/1998",
         83
        ],
        [
         "Bachelor's Degree",
         1464,
         3802536,
         230000,
         "Technology",
         "Female",
         "1/1/2001",
         84
        ],
        [
         "Bachelor's Degree",
         1469,
         3866255,
         234000,
         "Healthcare",
         "Male",
         "6/1/2001",
         85
        ],
        [
         "College",
         1351,
         6707000,
         406000,
         "Health Care",
         "Male",
         "8/1/1996",
         86
        ],
        [
         "Master's Degree",
         1471,
         3892329,
         236000,
         "Finance",
         "Male",
         "8/1/2001",
         87
        ],
        [
         "Bachelor's Degree",
         1472,
         3908215,
         237000,
         "Technology",
         "Female",
         "9/1/2001",
         88
        ],
        [
         "High School",
         1382,
         7498000,
         455000,
         "Manufacturing",
         "Female",
         "10/1/1998",
         89
        ],
        [
         "Associate's Degree",
         1208,
         13551800,
         822800,
         "Hospitality",
         "Male",
         "11/1/2017",
         90
        ],
        [
         "High School",
         1349,
         6685000,
         406000,
         "Construction",
         "Male",
         "7/1/1996",
         91
        ],
        [
         "High School",
         1465,
         3808680,
         232000,
         "Healthcare",
         "Male",
         "2/1/2001",
         92
        ],
        [
         "Bachelor's Degree",
         1368,
         5263819,
         321634,
         "Wholesale Trade",
         "Female",
         "8/1/1997",
         93
        ],
        [
         "High School Diploma",
         1202,
         13504000,
         825500,
         "Retail",
         "Male",
         "9/1/2017",
         94
        ],
        [
         "Bachelor's Degree",
         1204,
         13504000,
         825500,
         "Manufacturing",
         "Male",
         "10/1/2017",
         94
        ],
        [
         "Bachelor's Degree",
         1380,
         7456000,
         456000,
         "Healthcare Services",
         "Female",
         "8/1/1998",
         95
        ],
        [
         "College",
         1381,
         7472000,
         457000,
         "Retail",
         "Male",
         "9/1/1998",
         96
        ],
        [
         "High School",
         1442,
         4900,
         300,
         "Healthcare",
         "Female",
         "3/1/2000",
         97
        ],
        [
         "High School",
         1473,
         3918491,
         240000,
         "Healthcare",
         "Male",
         "10/1/2001",
         98
        ],
        [
         "College",
         1375,
         7362000,
         451000,
         "Healthcare Services",
         "Male",
         "3/1/1998",
         99
        ],
        [
         "High School",
         1500,
         4600112,
         282730,
         "Manufacturing",
         "Female",
         "1/1/2002",
         100
        ],
        [
         "Bachelor's Degree",
         1475,
         3946542,
         243000,
         "Finance",
         "Male",
         "12/1/2001",
         101
        ],
        [
         "High School",
         1376,
         7386000,
         455000,
         "Retail",
         "Female",
         "4/1/1998",
         102
        ],
        [
         "Master's Degree",
         1466,
         3820902,
         236000,
         "Education",
         "Female",
         "3/1/2001",
         103
        ],
        [
         "College",
         1367,
         5240404,
         323914,
         "Professional Services",
         "Male",
         "7/1/1997",
         104
        ],
        [
         "High School",
         1468,
         3849511,
         238000,
         "Technology",
         "Female",
         "5/1/2001",
         105
        ],
        [
         "Master's Degree",
         1474,
         3929381,
         243000,
         "Education",
         "Female",
         "11/1/2001",
         106
        ],
        [
         "High School",
         1379,
         7438000,
         461000,
         "Financial Services",
         "Male",
         "7/1/1998",
         107
        ],
        [
         "Bachelor's Degree",
         1377,
         7403000,
         459000,
         "Manufacturing",
         "Male",
         "5/1/1998",
         108
        ],
        [
         "Bachelor's Degree",
         1374,
         7345000,
         457000,
         "Financial Services",
         "Female",
         "2/1/1998",
         109
        ],
        [
         "College",
         1378,
         7422000,
         462000,
         "Education Services",
         "Female",
         "6/1/1998",
         110
        ],
        [
         "Bachelor's Degree",
         1467,
         3830349,
         239000,
         "Finance",
         "Male",
         "4/1/2001",
         111
        ],
        [
         "College",
         1441,
         4800,
         300,
         "Retail",
         "Male",
         "2/1/2000",
         112
        ],
        [
         "College",
         1347,
         6649000,
         416000,
         "Education",
         "Male",
         "6/1/1996",
         113
        ],
        [
         "High School",
         1366,
         5213332,
         326589,
         "Health Care",
         "Female",
         "6/1/1997",
         114
        ],
        [
         "High School Diploma",
         1273,
         12212200,
         765600,
         "Healthcare",
         "Female",
         "3/1/2020",
         115
        ],
        [
         "Bachelor's Degree",
         1249,
         13415600,
         842200,
         "Technology",
         "Female",
         "9/1/2019",
         116
        ],
        [
         "Bachelor's Degree",
         1200,
         13415600,
         842200,
         "Manufacturing",
         "Male",
         "9/1/2017",
         116
        ],
        [
         "High School",
         1373,
         7323000,
         461000,
         "Education Services",
         "Male",
         "1/1/1998",
         117
        ],
        [
         "High School",
         861,
         6622000,
         422000,
         "Transportation",
         "Female",
         "8/1/2010",
         118
        ],
        [
         "Bachelor's Degree",
         813,
         6622000,
         422000,
         "Finance",
         "Female",
         "8/1/2009",
         118
        ],
        [
         "Master's Degree",
         767,
         6622000,
         422000,
         "Energy",
         "Female",
         "8/1/2008",
         118
        ],
        [
         "Master's Degree",
         575,
         6622000,
         422000,
         "Professional and Business S.",
         "Female",
         "8/1/2004",
         118
        ],
        [
         "Associate's Degree",
         611,
         6622000,
         422000,
         "Professional and Business S.",
         "Female",
         "5/1/2005",
         118
        ],
        [
         "High School",
         1345,
         6622000,
         422000,
         "Health Care",
         "Male",
         "5/1/1996",
         118
        ],
        [
         "Master's Degree",
         798,
         6622000,
         422000,
         "Hospitality",
         "Male",
         "4/1/2009",
         118
        ],
        [
         "High School Diploma",
         841,
         6622000,
         422000,
         "Hospitality",
         "Female",
         "3/1/2010",
         118
        ],
        [
         "High School Diploma",
         650,
         6622000,
         422000,
         "Hospitality",
         "Male",
         "3/1/2006",
         118
        ],
        [
         "Associate's Degree",
         683,
         6622000,
         422000,
         "Finance",
         "Female",
         "11/1/2006",
         118
        ],
        [
         "High School",
         832,
         6622000,
         422000,
         "Finance",
         "Male",
         "1/1/2010",
         118
        ],
        [
         "Master's Degree",
         286,
         112800,
         7200,
         "Healthcare",
         "Male",
         "8/1/1998",
         119
        ],
        [
         "Bachelor's Degree",
         378,
         112800,
         7200,
         "Agriculture",
         "Male",
         "7/1/2000",
         119
        ],
        [
         "Master's Degree",
         372,
         126900,
         8100,
         "Manufacturing",
         "Male",
         "6/1/2000",
         119
        ],
        [
         "Master's Degree",
         134,
         126900,
         8100,
         "Manufacturing",
         "Male",
         "6/1/1995",
         119
        ],
        [
         "Associate's Degree",
         466,
         103400,
         6600,
         "Healthcare",
         "Male",
         "5/1/2002",
         119
        ],
        [
         "Associate's Degree",
         368,
         103400,
         6600,
         "Healthcare",
         "Male",
         "5/1/2000",
         119
        ],
        [
         "High School Diploma",
         344,
         89300,
         5700,
         "Healthcare",
         "Male",
         "11/1/1999",
         119
        ],
        [
         "High School",
         1488,
         94000,
         6000,
         "Finance",
         "Female",
         "1/1/2002",
         119
        ],
        [
         "Bachelor's Degree",
         352,
         112800,
         7200,
         "Education",
         "Male",
         "1/1/2000",
         119
        ],
        [
         "High School",
         1440,
         4700,
         300,
         "Finance",
         "Female",
         "1/1/2000",
         119
        ],
        [
         "Bachelor's Degree",
         1196,
         13353200,
         855500,
         "Manufacturing",
         "Male",
         "8/1/2017",
         120
        ],
        [
         "High School Diploma",
         1190,
         13353200,
         855500,
         "Education",
         "Male",
         "6/1/2017",
         120
        ],
        [
         "Bachelor's Degree",
         1234,
         13353200,
         855500,
         "Education",
         "Male",
         "5/1/2019",
         120
        ],
        [
         "Master's Degree",
         1139,
         13353200,
         855500,
         "Manufacturing",
         "Female",
         "5/1/2016",
         120
        ],
        [
         "Bachelor's Degree",
         1159,
         13353200,
         855500,
         "Agriculture",
         "Female",
         "10/1/2016",
         120
        ],
        [
         "Bachelor's Degree",
         338,
         79875,
         5125,
         "Energy",
         "Male",
         "9/1/1999",
         121
        ],
        [
         "High School Diploma",
         365,
         79875,
         5125,
         "Energy",
         "Female",
         "4/1/2000",
         121
        ],
        [
         "Associate's Degree",
         395,
         79875,
         5125,
         "Retail",
         "Female",
         "11/1/2000",
         121
        ],
        [
         "Bachelor's Degree",
         347,
         79875,
         5125,
         "Finance",
         "Female",
         "11/1/1999",
         121
        ],
        [
         "Bachelor's Degree",
         299,
         79875,
         5125,
         "Manufacturing",
         "Female",
         "11/1/1998",
         121
        ],
        [
         "Doctorate",
         1365,
         5197536,
         335384,
         "Education Services",
         "Male",
         "5/1/1997",
         122
        ],
        [
         "High School Diploma",
         314,
         98625,
         6375,
         "Healthcare",
         "Female",
         "3/1/1999",
         123
        ],
        [
         "Associate's Degree",
         356,
         98625,
         6375,
         "Healthcare",
         "Male",
         "2/1/2000",
         123
        ],
        [
         "College",
         860,
         3929000,
         254000,
         "Retail",
         "Male",
         "8/1/2010",
         124
        ],
        [
         "Associate's Degree",
         812,
         3929000,
         254000,
         "Manufacturing",
         "Male",
         "8/1/2009",
         124
        ],
        [
         "High School Diploma",
         766,
         3929000,
         254000,
         "Professional and Business S.",
         "Male",
         "8/1/2008",
         124
        ],
        [
         "High School Diploma",
         574,
         3929000,
         254000,
         "Finance",
         "Male",
         "8/1/2004",
         124
        ],
        [
         "Master's Degree",
         610,
         3929000,
         254000,
         "Energy",
         "Male",
         "5/1/2005",
         124
        ],
        [
         "High School Diploma",
         797,
         3929000,
         254000,
         "Finance",
         "Female",
         "4/1/2009",
         124
        ],
        [
         "Master's Degree",
         1344,
         3929000,
         254000,
         "Manufacturing",
         "Female",
         "4/1/1996",
         124
        ],
        [
         "Bachelor's Degree",
         840,
         3929000,
         254000,
         "Hospitality",
         "Male",
         "3/1/2010",
         124
        ],
        [
         "High School Diploma",
         649,
         3929000,
         254000,
         "Healthcare",
         "Female",
         "3/1/2006",
         124
        ],
        [
         "Master's Degree",
         831,
         3929000,
         254000,
         "Energy",
         "Female",
         "12/1/2009",
         124
        ],
        [
         "High School Diploma",
         682,
         3929000,
         254000,
         "Professional and Business S.",
         "Male",
         "11/1/2006",
         124
        ],
        [
         "Associate's Degree",
         856,
         3909000,
         253000,
         "Hospitality",
         "Male",
         "7/1/2010",
         125
        ],
        [
         "Master's Degree",
         808,
         3909000,
         253000,
         "Hospitality",
         "Male",
         "7/1/2009",
         125
        ],
        [
         "College",
         793,
         3909000,
         253000,
         "Trade, Transportation, Util.",
         "Female",
         "3/1/2009",
         125
        ],
        [
         "Bachelor's Degree",
         836,
         3909000,
         253000,
         "Finance",
         "Male",
         "2/1/2010",
         125
        ],
        [
         "High School Diploma",
         645,
         3909000,
         253000,
         "Agriculture",
         "Female",
         "2/1/2006",
         125
        ],
        [
         "Master's Degree",
         1340,
         3909000,
         253000,
         "Health Care",
         "Female",
         "2/1/1996",
         125
        ],
        [
         "Master's Degree",
         827,
         3909000,
         253000,
         "Hospitality",
         "Female",
         "11/1/2009",
         125
        ],
        [
         "High School Diploma",
         858,
         3914000,
         254000,
         "Professional and Business S.",
         "Male",
         "7/1/2010",
         126
        ],
        [
         "Bachelor's Degree",
         810,
         3914000,
         254000,
         "Hospitality",
         "Male",
         "7/1/2009",
         126
        ],
        [
         "Master's Degree",
         890,
         3914000,
         254000,
         "Professional and Business S.",
         "Male",
         "3/1/2011",
         126
        ],
        [
         "Master's Degree",
         795,
         3914000,
         254000,
         "Energy",
         "Female",
         "3/1/2009",
         126
        ],
        [
         "Bachelor's Degree",
         1342,
         3914000,
         254000,
         "Financial Sector",
         "Female",
         "3/1/1996",
         126
        ],
        [
         "Master's Degree",
         838,
         3914000,
         254000,
         "Professional and Business S.",
         "Male",
         "2/1/2010",
         126
        ],
        [
         "Associate's Degree",
         647,
         3914000,
         254000,
         "Hospitality",
         "Female",
         "2/1/2006",
         126
        ],
        [
         "Bachelor's Degree",
         829,
         3914000,
         254000,
         "Health Care",
         "Female",
         "12/1/2009",
         126
        ],
        [
         "Bachelor's Degree",
         869,
         3914000,
         254000,
         "Health Care",
         "Female",
         "10/1/2010",
         126
        ],
        [
         "Master's Degree",
         866,
         6590000,
         429000,
         "Finance",
         "Male",
         "9/1/2010",
         127
        ],
        [
         "Master's Degree",
         859,
         6590000,
         429000,
         "Energy",
         "Female",
         "7/1/2010",
         127
        ],
        [
         "Bachelor's Degree",
         811,
         6590000,
         429000,
         "Hospitality",
         "Female",
         "7/1/2009",
         127
        ],
        [
         "Bachelor's Degree",
         796,
         6590000,
         429000,
         "Finance",
         "Male",
         "4/1/2009",
         127
        ],
        [
         "College",
         1343,
         6590000,
         429000,
         "Construction",
         "Male",
         "4/1/1996",
         127
        ],
        [
         "Associate's Degree",
         891,
         6590000,
         429000,
         "Energy",
         "Female",
         "3/1/2011",
         127
        ],
        [
         "Bachelor's Degree",
         648,
         6590000,
         429000,
         "Energy",
         "Male",
         "3/1/2006",
         127
        ],
        [
         "Associate's Degree",
         839,
         6590000,
         429000,
         "Energy",
         "Female",
         "2/1/2010",
         127
        ],
        [
         "High School Diploma",
         830,
         6590000,
         429000,
         "Professional and Business S.",
         "Male",
         "12/1/2009",
         127
        ],
        [
         "Master's Degree",
         870,
         6590000,
         429000,
         "finance",
         "Male",
         "10/1/2010",
         127
        ],
        [
         "Master's Degree",
         1352,
         3980000,
         260000,
         "Retail",
         "Female",
         "8/1/1996",
         128
        ],
        [
         "Associate's Degree",
         764,
         18300000,
         1200000,
         "Information",
         "Male",
         "8/1/2008",
         129
        ],
        [
         "High School Diploma",
         790,
         18300000,
         1200000,
         "Hospitality",
         "Male",
         "2/1/2009",
         129
        ],
        [
         "Bachelor's Degree",
         1420,
         8981500,
         590500,
         "Construction",
         "Female",
         "12/1/1999",
         130
        ],
        [
         "Associate's Degree",
         768,
         18250000,
         1200000,
         "Finance",
         "Male",
         "9/1/2008",
         131
        ],
        [
         "Master's Degree",
         877,
         18250000,
         1200000,
         "Retail",
         "Female",
         "12/1/2010",
         131
        ],
        [
         "Master's Degree",
         272,
         14750000,
         970000,
         "Healthcare",
         "Male",
         "5/1/1998",
         132
        ],
        [
         "Master's Degree",
         382,
         152000,
         10000,
         "Healthcare",
         "Male",
         "8/1/2000",
         133
        ],
        [
         "High School",
         1491,
         91000,
         6000,
         "Manufacturing",
         "Male",
         "4/1/2002",
         134
        ],
        [
         "Bachelor's Degree",
         1346,
         3940000,
         260000,
         "Retail",
         "Female",
         "5/1/1996",
         135
        ],
        [
         "Master's Degree",
         1348,
         3952000,
         261000,
         "Financial Sector",
         "Female",
         "6/1/1996",
         136
        ],
        [
         "Bachelor's Degree",
         784,
         18150000,
         1200000,
         "Manufacturing",
         "Male",
         "1/1/2009",
         137
        ],
        [
         "Bachelor's Degree",
         1350,
         3960000,
         262000,
         "Manufacturing",
         "Female",
         "7/1/1996",
         138
        ],
        [
         "High School",
         1419,
         8960700,
         593300,
         "Education",
         "Male",
         "11/1/1999",
         139
        ],
        [
         "Associate's Degree",
         503,
         90950,
         6050,
         "Healthcare",
         "Female",
         "2/1/2003",
         140
        ],
        [
         "College",
         1418,
         8940500,
         595700,
         "Financial Services",
         "Female",
         "10/1/1999",
         141
        ],
        [
         "Bachelor's Degree",
         526,
         84375,
         5625,
         "Energy",
         "Male",
         "8/1/2003",
         142
        ],
        [
         "Bachelor's Degree",
         467,
         84375,
         5625,
         "Finance",
         "Female",
         "5/1/2002",
         142
        ],
        [
         "Bachelor's Degree",
         1492,
         90000,
         6000,
         "Technology",
         "Female",
         "5/1/2002",
         142
        ],
        [
         "Bachelor's Degree",
         369,
         84375,
         5625,
         "Finance",
         "Female",
         "5/1/2000",
         142
        ],
        [
         "Bachelor's Degree",
         1417,
         8919700,
         598100,
         "Healthcare",
         "Male",
         "9/1/1999",
         143
        ],
        [
         "Bachelor's Degree",
         287,
         76840,
         5160,
         "Manufacturing",
         "Female",
         "8/1/1998",
         144
        ],
        [
         "High School Diploma",
         379,
         76840,
         5160,
         "Manufacturing",
         "Female",
         "7/1/2000",
         144
        ],
        [
         "Bachelor's Degree",
         282,
         76840,
         5160,
         "Retail",
         "Male",
         "7/1/1998",
         144
        ],
        [
         "High School Diploma",
         353,
         76840,
         5160,
         "Energy",
         "Female",
         "1/1/2000",
         144
        ],
        [
         "High School Diploma",
         273,
         9258000,
         622000,
         "Retail",
         "Female",
         "5/1/1998",
         145
        ],
        [
         "Bachelor's Degree",
         342,
         9258000,
         622000,
         "Manufacturing",
         "Male",
         "10/1/1999",
         145
        ],
        [
         "Bachelor's Degree",
         1363,
         5149417,
         346298,
         "Finance and Insurance",
         "Male",
         "3/1/1997",
         146
        ],
        [
         "High School Diploma",
         367,
         323250,
         21750,
         "Energy",
         "Female",
         "4/1/2000",
         147
        ],
        [
         "High School",
         1416,
         8900500,
         599500,
         "Retail",
         "Female",
         "8/1/1999",
         148
        ],
        [
         "Master's Degree",
         1493,
         89000,
         6000,
         "Finance",
         "Male",
         "6/1/2002",
         149
        ],
        [
         "Bachelor's Degree",
         857,
         6555000,
         443000,
         "Hospitality",
         "Female",
         "7/1/2010",
         150
        ],
        [
         "Master's Degree",
         809,
         6555000,
         443000,
         "Finance",
         "Female",
         "7/1/2009",
         150
        ],
        [
         "Master's Degree",
         794,
         6555000,
         443000,
         "Professional and Business S.",
         "Male",
         "3/1/2009",
         150
        ],
        [
         "High School",
         1341,
         6555000,
         443000,
         "Retail",
         "Male",
         "3/1/1996",
         150
        ],
        [
         "High School",
         837,
         6555000,
         443000,
         "Manufacturing",
         "Female",
         "2/1/2010",
         150
        ],
        [
         "Master's Degree",
         646,
         6555000,
         443000,
         "Energy",
         "Male",
         "2/1/2006",
         150
        ],
        [
         "Associate's Degree",
         828,
         6555000,
         443000,
         "Hospitality",
         "Male",
         "12/1/2009",
         150
        ],
        [
         "Master's Degree",
         1364,
         5161526,
         348997,
         "Manufacturing",
         "Female",
         "4/1/1997",
         151
        ],
        [
         "College",
         1415,
         8880000,
         601700,
         "Construction",
         "Male",
         "7/1/1999",
         152
        ],
        [
         "Master's Degree",
         1414,
         8860200,
         603900,
         "Education",
         "Female",
         "6/1/1999",
         153
        ],
        [
         "High School",
         1361,
         5128562,
         349587,
         "Construction",
         "Male",
         "1/1/1997",
         154
        ],
        [
         "High School",
         1494,
         88000,
         6000,
         "Retail",
         "Female",
         "7/1/2002",
         155
        ],
        [
         "Bachelor's Degree",
         1272,
         17080400,
         1166000,
         "Education",
         "Male",
         "3/1/2020",
         156
        ],
        [
         "College",
         1248,
         17665500,
         1206100,
         "Manufacturing",
         "Male",
         "9/1/2019",
         157
        ],
        [
         "College",
         1362,
         5135402,
         350770,
         "Retail Trade",
         "Female",
         "2/1/1997",
         158
        ],
        [
         "Master's Degree",
         248,
         14460000,
         990000,
         "Healthcare",
         "Male",
         "11/1/1997",
         159
        ],
        [
         "Master's Degree",
         855,
         6524000,
         447000,
         "Energy",
         "Female",
         "6/1/2010",
         160
        ],
        [
         "High School Diploma",
         807,
         6524000,
         447000,
         "Hospitality",
         "Female",
         "6/1/2009",
         160
        ],
        [
         "College",
         792,
         6524000,
         447000,
         "Trade, Transportation, Util.",
         "Male",
         "3/1/2009",
         160
        ],
        [
         "Bachelor's Degree",
         644,
         6524000,
         447000,
         "Finance",
         "Male",
         "2/1/2006",
         160
        ],
        [
         "College",
         1339,
         6524000,
         447000,
         "Education",
         "Male",
         "2/1/1996",
         160
        ],
        [
         "Master's Degree",
         826,
         6524000,
         447000,
         "Hospitality",
         "Male",
         "11/1/2009",
         160
        ],
        [
         "Bachelor's Degree",
         835,
         6524000,
         447000,
         "Hospitality",
         "Female",
         "1/1/2010",
         160
        ],
        [
         "Bachelor's Degree",
         1413,
         8840400,
         605900,
         "Financial Services",
         "Male",
         "5/1/1999",
         161
        ],
        [
         "High School",
         1244,
         17630700,
         1209200,
         "Manufacturing",
         "Male",
         "8/1/2019",
         162
        ],
        [
         "High School",
         1359,
         8674000,
         595000,
         "Retail",
         "Male",
         "12/1/1996",
         163
        ],
        [
         "Bachelor's Degree",
         1324,
         2910000,
         200000,
         "Construction",
         "Female",
         "12/1/1995",
         164
        ],
        [
         "Master's Degree",
         260,
         14615000,
         1005000,
         "Healthcare",
         "Male",
         "2/1/1998",
         165
        ],
        [
         "Master's Degree",
         854,
         3878000,
         267000,
         "Professional and Business S.",
         "Male",
         "6/1/2010",
         166
        ],
        [
         "High School Diploma",
         806,
         3878000,
         267000,
         "Finance",
         "Male",
         "6/1/2009",
         166
        ],
        [
         "High School Diploma",
         791,
         3878000,
         267000,
         "Hospitality",
         "Female",
         "2/1/2009",
         166
        ],
        [
         "High School",
         825,
         3878000,
         267000,
         "Finance",
         "Female",
         "11/1/2009",
         166
        ],
        [
         "Bachelor's Degree",
         834,
         3878000,
         267000,
         "Hospitality",
         "Male",
         "1/1/2010",
         166
        ],
        [
         "Associate's Degree",
         643,
         3878000,
         267000,
         "Energy",
         "Female",
         "1/1/2006",
         166
        ],
        [
         "Bachelor's Degree",
         1338,
         3878000,
         267000,
         "Information",
         "Female",
         "1/1/1996",
         166
        ],
        [
         "Bachelor's Degree",
         1189,
         11848900,
         815900,
         "Retail",
         "Female",
         "6/1/2017",
         167
        ],
        [
         "College",
         1412,
         8821400,
         607600,
         "Healthcare",
         "Female",
         "4/1/1999",
         168
        ],
        [
         "Associate's Degree",
         1240,
         17596500,
         1212900,
         "Technology",
         "Male",
         "7/1/2019",
         169
        ],
        [
         "Bachelor's Degree",
         1495,
         87000,
         6000,
         "Healthcare",
         "Male",
         "8/1/2002",
         170
        ],
        [
         "College",
         1323,
         2900000,
         200000,
         "Financial Services",
         "Male",
         "11/1/1995",
         170
        ],
        [
         "Bachelor's Degree",
         315,
         79500,
         5500,
         "Energy",
         "Male",
         "3/1/1999",
         171
        ],
        [
         "High School Diploma",
         357,
         79500,
         5500,
         "Finance",
         "Female",
         "2/1/2000",
         171
        ],
        [
         "High School",
         1322,
         2890000,
         200000,
         "Healthcare",
         "Female",
         "10/1/1995",
         172
        ],
        [
         "High School",
         1411,
         8802600,
         609400,
         "Retail",
         "Male",
         "3/1/1999",
         173
        ],
        [
         "Bachelor's Degree",
         1410,
         8785300,
         608800,
         "Information",
         "Female",
         "2/1/1999",
         174
        ],
        [
         "Graduate",
         1512,
         384023,
         26615,
         "Manufacturing",
         "Female",
         "1/1/2003",
         175
        ],
        [
         "Bachelor's Degree",
         1236,
         17563200,
         1218800,
         "Technology",
         "Male",
         "6/1/2019",
         176
        ],
        [
         "Bachelor's Degree",
         1321,
         2880000,
         200000,
         "Education",
         "Male",
         "9/1/1995",
         177
        ],
        [
         "Master's Degree",
         1010,
         112200,
         7800,
         "Hospitality",
         "Male",
         "9/1/2013",
         178
        ],
        [
         "Master's Degree",
         1151,
         112200,
         7800,
         "Energy",
         "Female",
         "8/1/2016",
         178
        ],
        [
         "Bachelor's Degree",
         959,
         112200,
         7800,
         "Energy",
         "Female",
         "8/1/2012",
         178
        ],
        [
         "Master's Degree",
         1191,
         112200,
         7800,
         "Manufacturing",
         "Female",
         "6/1/2017",
         178
        ],
        [
         "High School Diploma",
         373,
         112200,
         7800,
         "Retail",
         "Female",
         "6/1/2000",
         178
        ],
        [
         "High School Diploma",
         135,
         112200,
         7800,
         "Retail",
         "Female",
         "6/1/1995",
         178
        ],
        [
         "Master's Degree",
         1283,
         112200,
         7800,
         "Manufacturing",
         "Female",
         "5/1/2020",
         178
        ],
        [
         "Master's Degree",
         1039,
         112200,
         7800,
         "Agriculture",
         "Female",
         "4/1/2014",
         178
        ],
        [
         "Associate's Degree",
         703,
         112200,
         7800,
         "Technology",
         "Female",
         "4/1/2007",
         178
        ],
        [
         "Master's Degree",
         603,
         112200,
         7800,
         "Finance",
         "Female",
         "3/1/2005",
         178
        ],
        [
         "Associate's Degree",
         779,
         112200,
         7800,
         "Energy",
         "Female",
         "11/1/2008",
         178
        ],
        [
         "Master's Degree",
         539,
         112200,
         7800,
         "Trade, Transportation, Util.",
         "Female",
         "11/1/2003",
         178
        ],
        [
         "High School Diploma",
         1254,
         112200,
         7800,
         "Education",
         "Male",
         "10/1/2019",
         178
        ],
        [
         "College",
         1320,
         2870000,
         200000,
         "Retail",
         "Female",
         "8/1/1995",
         179
        ],
        [
         "Master's Degree",
         1496,
         86000,
         6000,
         "Manufacturing",
         "Female",
         "9/1/2002",
         180
        ],
        [
         "High School",
         1337,
         6489000,
         453000,
         "Manufacturing",
         "Male",
         "1/1/1996",
         181
        ],
        [
         "Bachelor's Degree",
         1357,
         8661000,
         605000,
         "Financial Services",
         "Male",
         "11/1/1996",
         182
        ],
        [
         "High School",
         1319,
         2860000,
         200000,
         "Manufacturing",
         "Male",
         "7/1/1995",
         183
        ],
        [
         "College",
         1232,
         17531300,
         1226100,
         "Technology",
         "Male",
         "5/1/2019",
         184
        ],
        [
         "Bachelor's Degree",
         1318,
         2850000,
         200000,
         "Construction",
         "Female",
         "6/1/1995",
         185
        ],
        [
         "Associate's Degree",
         1228,
         17493200,
         1231900,
         "Technology",
         "Male",
         "4/1/2019",
         186
        ],
        [
         "College",
         1317,
         2840000,
         200000,
         "Financial Services",
         "Male",
         "5/1/1995",
         187
        ],
        [
         "Bachelor's Degree",
         1360,
         4165000,
         294000,
         "Healthcare",
         "Female",
         "12/1/1996",
         188
        ],
        [
         "High School",
         1497,
         85000,
         6000,
         "Technology",
         "Male",
         "10/1/2002",
         188
        ],
        [
         "College",
         1409,
         8757500,
         618300,
         "Manufacturing",
         "Male",
         "1/1/1999",
         189
        ],
        [
         "High School",
         1316,
         2830000,
         200000,
         "Healthcare",
         "Female",
         "4/1/1995",
         190
        ],
        [
         "Bachelor's Degree",
         345,
         72840,
         5160,
         "Finance",
         "Female",
         "11/1/1999",
         191
        ],
        [
         "Master's Degree",
         1224,
         17450500,
         1237500,
         "Energy",
         "Male",
         "3/1/2019",
         192
        ],
        [
         "Bachelor's Degree",
         1315,
         2820000,
         200000,
         "Education",
         "Male",
         "3/1/1995",
         193
        ],
        [
         "High School Diploma",
         1314,
         2810000,
         200000,
         "Retail",
         "Female",
         "2/1/1995",
         194
        ],
        [
         "College",
         1513,
         386013,
         27496,
         "Manufacturing",
         "Male",
         "2/1/2003",
         195
        ],
        [
         "High School",
         1355,
         8645000,
         616000,
         "Healthcare",
         "Male",
         "10/1/1996",
         196
        ],
        [
         "Bachelor's Degree",
         1498,
         84000,
         6000,
         "Finance",
         "Female",
         "11/1/2002",
         197
        ],
        [
         "Bachelor's Degree",
         1313,
         2800000,
         200000,
         "Manufacturing",
         "Male",
         "1/1/1995",
         197
        ],
        [
         "Bachelor's Degree",
         245,
         6472000,
         463000,
         "Retail",
         "Male",
         "10/1/1997",
         198
        ],
        [
         "Associate's Degree",
         1220,
         17394000,
         1247600,
         "Manufacturing",
         "Male",
         "2/1/2019",
         199
        ],
        [
         "College",
         1515,
         393278,
         28217,
         "Manufacturing",
         "Male",
         "4/1/2003",
         200
        ],
        [
         "Bachelor's Degree",
         1245,
         12609100,
         906200,
         "Technology",
         "Female",
         "8/1/2019",
         201
        ],
        [
         "Bachelor's Degree",
         276,
         8255000,
         595000,
         "Wholesale Trade",
         "Male",
         "6/1/1998",
         202
        ],
        [
         "High School",
         1185,
         11778600,
         850500,
         "Retail",
         "Female",
         "5/1/2017",
         203
        ],
        [
         "Master's Degree",
         1499,
         83000,
         6000,
         "Retail",
         "Male",
         "12/1/2002",
         204
        ],
        [
         "Bachelor's Degree",
         1481,
         3752513,
         271584,
         "Manufacturing",
         "Male",
         "6/1/2001",
         205
        ],
        [
         "High School",
         1482,
         3752561,
         271675,
         "Healthcare",
         "Female",
         "7/1/2001",
         206
        ],
        [
         "Master's Degree",
         1483,
         3751125,
         271975,
         "Education",
         "Male",
         "8/1/2001",
         207
        ],
        [
         "Bachelor's Degree",
         233,
         6420000,
         466000,
         "Retail",
         "Male",
         "7/1/1997",
         208
        ],
        [
         "Bachelor's Degree",
         218,
         6420000,
         466000,
         "Education",
         "Female",
         "3/1/1997",
         208
        ],
        [
         "College",
         1484,
         3748776,
         272147,
         "Finance",
         "Female",
         "9/1/2001",
         209
        ],
        [
         "High School",
         1216,
         17378000,
         1262300,
         "Manufacturing",
         "Male",
         "1/1/2019",
         210
        ],
        [
         "College",
         1358,
         4156000,
         302000,
         "Manufacturing",
         "Female",
         "11/1/1996",
         211
        ],
        [
         "Bachelor's Degree",
         1241,
         12563600,
         913200,
         "Retail",
         "Female",
         "7/1/2019",
         212
        ],
        [
         "Master's Degree",
         1195,
         11682000,
         849900,
         "Education",
         "Female",
         "7/1/2017",
         213
        ],
        [
         "Master's Degree",
         1299,
         11682000,
         849900,
         "Agriculture",
         "Female",
         "11/1/2020",
         213
        ],
        [
         "Master's Degree",
         1211,
         11682000,
         849900,
         "Retail",
         "Female",
         "11/1/2017",
         213
        ],
        [
         "Bachelor's Degree",
         1169,
         11682000,
         849900,
         "Technology",
         "Female",
         "1/1/2017",
         213
        ],
        [
         "Master's Degree",
         1171,
         11682000,
         849900,
         "Education",
         "Female",
         "1/1/2017",
         213
        ],
        [
         "Master's Degree",
         1173,
         11705900,
         852200,
         "Retail",
         "Female",
         "2/1/2017",
         214
        ],
        [
         "College",
         1487,
         3744822,
         272753,
         "Manufacturing",
         "Male",
         "12/1/2001",
         215
        ],
        [
         "Bachelor's Degree",
         1177,
         11716900,
         853700,
         "Education",
         "Female",
         "3/1/2017",
         216
        ],
        [
         "Bachelor's Degree",
         1485,
         3745253,
         272987,
         "Technology",
         "Male",
         "10/1/2001",
         217
        ],
        [
         "High School",
         1486,
         3744076,
         272945,
         "Retail",
         "Female",
         "11/1/2001",
         218
        ],
        [
         "High School Diploma",
         1181,
         11734900,
         858400,
         "Manufacturing",
         "Female",
         "4/1/2017",
         219
        ],
        [
         "Associate's Degree",
         215,
         8673000,
         636000,
         "Retail",
         "Female",
         "2/1/1997",
         220
        ],
        [
         "Bachelor's Degree",
         244,
         8673000,
         636000,
         "Healthcare",
         "Female",
         "10/1/1997",
         220
        ],
        [
         "College",
         1480,
         3748662,
         274917,
         "Retail",
         "Female",
         "5/1/2001",
         221
        ],
        [
         "College",
         1514,
         390099,
         28622,
         "Manufacturing",
         "Female",
         "3/1/2003",
         222
        ],
        [
         "High School Diploma",
         1237,
         12516200,
         922100,
         "Retail",
         "Female",
         "6/1/2019",
         223
        ],
        [
         "College",
         1176,
         15032200,
         1110600,
         "Hospitality",
         "Male",
         "3/1/2017",
         224
        ],
        [
         "High School",
         1172,
         15024600,
         1112100,
         "Retail",
         "Male",
         "2/1/2017",
         225
        ],
        [
         "College",
         1353,
         8610000,
         638000,
         "Manufacturing",
         "Male",
         "9/1/1996",
         226
        ],
        [
         "College",
         1168,
         15006700,
         1112500,
         "Manufacturing",
         "Male",
         "1/1/2017",
         227
        ],
        [
         "Bachelor's Degree",
         1184,
         15051600,
         1116400,
         "Healthcare",
         "Male",
         "5/1/2017",
         228
        ],
        [
         "Master's Degree",
         284,
         606000,
         45000,
         "Healthcare",
         "Male",
         "8/1/1998",
         229
        ],
        [
         "Master's Degree",
         1479,
         3745658,
         278185,
         "Technology",
         "Male",
         "4/1/2001",
         230
        ],
        [
         "Associate's Degree",
         1188,
         15068000,
         1119900,
         "Technology",
         "Male",
         "6/1/2017",
         231
        ],
        [
         "Bachelor's Degree",
         728,
         209400,
         15600,
         "Technology",
         "Male",
         "11/1/2007",
         232
        ],
        [
         "College",
         1356,
         4147000,
         309000,
         "Information Services",
         "Female",
         "10/1/1996",
         233
        ],
        [
         "High School",
         1478,
         3740556,
         278840,
         "Healthcare",
         "Female",
         "3/1/2001",
         234
        ],
        [
         "Bachelor's Degree",
         1107,
         3244100,
         242800,
         "Manufacturing",
         "Female",
         "9/1/2015",
         235
        ],
        [
         "Master's Degree",
         1275,
         3244100,
         242800,
         "Professional and Business S.",
         "Female",
         "3/1/2020",
         235
        ],
        [
         "Master's Degree",
         1311,
         3244100,
         242800,
         "Professional and Business S.",
         "Female",
         "12/1/2020",
         235
        ],
        [
         "Master's Degree",
         1336,
         3244100,
         242800,
         "Healthcare",
         "Female",
         "12/1/1995",
         235
        ],
        [
         "Master's Degree",
         1163,
         3244100,
         242800,
         "Education",
         "Female",
         "11/1/2016",
         235
        ],
        [
         "Master's Degree",
         1233,
         12469200,
         934100,
         "Retail",
         "Female",
         "5/1/2019",
         236
        ],
        [
         "High School Diploma",
         288,
         440000,
         33000,
         "Education",
         "Male",
         "9/1/1998",
         237
        ],
        [
         "College",
         1516,
         394256,
         29570,
         "Manufacturing",
         "Female",
         "5/1/2003",
         238
        ],
        [
         "Graduate",
         1517,
         396621,
         29751,
         "Manufacturing",
         "Male",
         "6/1/2003",
         239
        ],
        [
         "High School Diploma",
         1106,
         3241600,
         243200,
         "Education",
         "Male",
         "9/1/2015",
         240
        ],
        [
         "High School Diploma",
         1274,
         3241600,
         243200,
         "Manufacturing",
         "Male",
         "3/1/2020",
         240
        ],
        [
         "High School Diploma",
         1310,
         3241600,
         243200,
         "Technology",
         "Male",
         "12/1/2020",
         240
        ],
        [
         "High School Diploma",
         1162,
         3241600,
         243200,
         "Agriculture",
         "Male",
         "11/1/2016",
         240
        ],
        [
         "College",
         1335,
         3241600,
         243200,
         "Education",
         "Male",
         "11/1/1995",
         240
        ],
        [
         "Bachelor's Degree",
         1334,
         3240200,
         243100,
         "Retail",
         "Female",
         "10/1/1995",
         241
        ],
        [
         "Bachelor's Degree",
         1354,
         4142000,
         311000,
         "Retail",
         "Female",
         "9/1/1996",
         242
        ],
        [
         "College",
         1476,
         3738191,
         281207,
         "Finance",
         "Female",
         "1/1/2001",
         243
        ],
        [
         "Bachelor's Degree",
         624,
         148800,
         11200,
         "Energy",
         "Male",
         "9/1/2005",
         244
        ],
        [
         "Bachelor's Degree",
         361,
         106950,
         8050,
         "Retail",
         "Female",
         "3/1/2000",
         244
        ],
        [
         "Bachelor's Degree",
         123,
         106950,
         8050,
         "Retail",
         "Female",
         "3/1/1995",
         244
        ],
        [
         "Master's Degree",
         310,
         148800,
         11200,
         "Healthcare",
         "Male",
         "2/1/1999",
         244
        ],
        [
         "Associate's Degree",
         253,
         5115000,
         385000,
         "Education",
         "Female",
         "12/1/1997",
         244
        ],
        [
         "College",
         1145,
         11588200,
         872700,
         "Hospitality",
         "Female",
         "7/1/2016",
         245
        ],
        [
         "High School",
         1333,
         3237700,
         243900,
         "Technology",
         "Male",
         "9/1/1995",
         246
        ],
        [
         "Associate's Degree",
         628,
         169240,
         12760,
         "Hospitality",
         "Male",
         "10/1/2005",
         247
        ],
        [
         "Bachelor's Degree",
         1477,
         3735572,
         281699,
         "Education",
         "Male",
         "2/1/2001",
         248
        ],
        [
         "High School Diploma",
         243,
         8626000,
         651000,
         "Wholesale Trade",
         "Male",
         "9/1/1997",
         249
        ],
        [
         "Associate's Degree",
         232,
         8626000,
         651000,
         "Education",
         "Female",
         "7/1/1997",
         249
        ],
        [
         "Master's Degree",
         1332,
         3235200,
         244700,
         "Financial Services",
         "Female",
         "8/1/1995",
         250
        ],
        [
         "College",
         1331,
         3233800,
         245000,
         "Healthcare",
         "Male",
         "7/1/1995",
         251
        ],
        [
         "Bachelor's Degree",
         724,
         213800,
         16200,
         "Healthcare",
         "Male",
         "10/1/2007",
         252
        ],
        [
         "Bachelor's Degree",
         1330,
         3232900,
         245200,
         "Education",
         "Female",
         "6/1/1995",
         253
        ],
        [
         "High School",
         1329,
         3231600,
         245200,
         "Retail",
         "Male",
         "5/1/1995",
         254
        ],
        [
         "High School Diploma",
         305,
         369000,
         28000,
         "Retail",
         "Female",
         "1/1/1999",
         255
        ],
        [
         "High School Diploma",
         1210,
         11534800,
         876100,
         "Technology",
         "Male",
         "11/1/2017",
         256
        ],
        [
         "High School Diploma",
         1298,
         11534800,
         876100,
         "Retail",
         "Male",
         "10/1/2020",
         256
        ],
        [
         "Bachelor's Degree",
         1157,
         11534800,
         876100,
         "Health Care",
         "Female",
         "10/1/2016",
         256
        ],
        [
         "High School Diploma",
         1170,
         11534800,
         876100,
         "Retail",
         "Male",
         "1/1/2017",
         256
        ],
        [
         "Associate's Degree",
         221,
         6332000,
         481000,
         "Retail",
         "Male",
         "4/1/1997",
         257
        ],
        [
         "Bachelor's Degree",
         1235,
         3230100,
         245500,
         "Manufacturing",
         "Female",
         "5/1/2019",
         258
        ],
        [
         "Master's Degree",
         1328,
         3230100,
         245500,
         "Technology",
         "Female",
         "4/1/1995",
         258
        ],
        [
         "High School Diploma",
         1130,
         3230100,
         245500,
         "Technology",
         "Male",
         "3/1/2016",
         258
        ],
        [
         "Master's Degree",
         1271,
         3230100,
         245500,
         "Agriculture",
         "Female",
         "2/1/2020",
         258
        ],
        [
         "Bachelor's Degree",
         1158,
         3230100,
         245500,
         "Professional and Business S.",
         "Male",
         "10/1/2016",
         258
        ],
        [
         "College",
         1327,
         3228100,
         245600,
         "Healthcare",
         "Male",
         "3/1/1995",
         259
        ],
        [
         "Associate's Degree",
         620,
         131960,
         10040,
         "Hospitality",
         "Male",
         "8/1/2005",
         260
        ],
        [
         "Bachelor's Degree",
         1489,
         92000,
         7000,
         "Retail",
         "Male",
         "2/1/2002",
         261
        ],
        [
         "Bachelor's Degree",
         1229,
         12419000,
         945700,
         "Retail",
         "Female",
         "4/1/2019",
         262
        ],
        [
         "Bachelor's Degree",
         1326,
         3225400,
         245900,
         "Financial Services",
         "Female",
         "2/1/1995",
         263
        ],
        [
         "High School",
         1398,
         3111020,
         237180,
         "Retail",
         "Female",
         "2/1/1998",
         264
        ],
        [
         "Bachelor's Degree",
         716,
         204400,
         15600,
         "Energy",
         "Male",
         "8/1/2007",
         265
        ],
        [
         "Bachelor's Degree",
         1399,
         3114160,
         237740,
         "Education",
         "Male",
         "3/1/1998",
         266
        ],
        [
         "College",
         1397,
         3108210,
         237390,
         "Manufacturing",
         "Male",
         "1/1/1998",
         267
        ],
        [
         "High School Diploma",
         261,
         9169500,
         700500,
         "Retail",
         "Female",
         "2/1/1998",
         268
        ],
        [
         "Master's Degree",
         262,
         9169500,
         700500,
         "Healthcare",
         "Male",
         "2/1/1998",
         268
        ],
        [
         "Master's Degree",
         250,
         9169500,
         700500,
         "Healthcare",
         "Male",
         "11/1/1997",
         268
        ],
        [
         "High School",
         1161,
         11566700,
         883800,
         "Construction",
         "Female",
         "11/1/2016",
         269
        ],
        [
         "High School",
         1325,
         3222600,
         246300,
         "Education",
         "Male",
         "1/1/1995",
         270
        ],
        [
         "Bachelor's Degree",
         1165,
         11594100,
         886800,
         "Technology",
         "Female",
         "12/1/2016",
         271
        ],
        [
         "Master's Degree",
         1400,
         3117250,
         238550,
         "Healthcare",
         "Female",
         "4/1/1998",
         272
        ],
        [
         "Bachelor's Degree",
         720,
         209000,
         16000,
         "Hospitality",
         "Male",
         "9/1/2007",
         273
        ],
        [
         "College",
         1141,
         11528100,
         882800,
         "Retail",
         "Female",
         "6/1/2016",
         274
        ],
        [
         "High School",
         1149,
         11611300,
         889200,
         "Financial Services",
         "Female",
         "8/1/2016",
         275
        ],
        [
         "Master's Degree",
         360,
         120750,
         9250,
         "Manufacturing",
         "Male",
         "3/1/2000",
         276
        ],
        [
         "Master's Degree",
         122,
         120750,
         9250,
         "Manufacturing",
         "Male",
         "3/1/1995",
         276
        ],
        [
         "High School Diploma",
         269,
         5944000,
         456000,
         "Agriculture",
         "Female",
         "4/1/1998",
         277
        ],
        [
         "High School Diploma",
         312,
         5944000,
         456000,
         "Wholesale Trade",
         "Female",
         "3/1/1999",
         277
        ],
        [
         "Associate's Degree",
         267,
         5944000,
         456000,
         "Education",
         "Female",
         "3/1/1998",
         277
        ],
        [
         "College",
         1052,
         378000,
         29000,
         "Hospitality",
         "Male",
         "8/1/2014",
         278
        ],
        [
         "Associate's Degree",
         955,
         378000,
         29000,
         "Professional and Business S.",
         "Female",
         "7/1/2012",
         278
        ],
        [
         "Master's Degree",
         759,
         378000,
         29000,
         "Manufacturing",
         "Female",
         "6/1/2008",
         278
        ],
        [
         "High School",
         848,
         378000,
         29000,
         "Hospitality",
         "Male",
         "5/1/2010",
         278
        ],
        [
         "Associate's Degree",
         563,
         378000,
         29000,
         "Trade, Transportation, Util.",
         "Female",
         "5/1/2004",
         278
        ],
        [
         "Associate's Degree",
         591,
         378000,
         29000,
         "Finance",
         "Female",
         "12/1/2004",
         278
        ],
        [
         "Master's Degree",
         1307,
         378000,
         29000,
         "Agriculture",
         "Female",
         "11/1/2020",
         278
        ],
        [
         "Bachelor's Degree",
         1112,
         378000,
         29000,
         "Manufacturing",
         "Male",
         "11/1/2015",
         278
        ],
        [
         "High School Diploma",
         39,
         378000,
         29000,
         "Retail",
         "Female",
         "10/1/1998",
         278
        ],
        [
         "High School Diploma",
         293,
         378000,
         29000,
         "Retail",
         "Female",
         "10/1/1998",
         278
        ],
        [
         "College",
         1401,
         3120240,
         239460,
         "Financial Services",
         "Male",
         "5/1/1998",
         279
        ],
        [
         "Graduate",
         1521,
         406936,
         31256,
         "Manufacturing",
         "Male",
         "10/1/2003",
         280
        ],
        [
         "Master's Degree",
         1490,
         91000,
         7000,
         "Healthcare",
         "Female",
         "3/1/2002",
         281
        ],
        [
         "College",
         1520,
         404209,
         31120,
         "Manufacturing",
         "Female",
         "9/1/2003",
         282
        ],
        [
         "High School",
         1402,
         3122690,
         240510,
         "Manufacturing",
         "Female",
         "6/1/1998",
         283
        ],
        [
         "Bachelor's Degree",
         237,
         6923000,
         534000,
         "Healthcare",
         "Male",
         "8/1/1997",
         284
        ],
        [
         "Bachelor's Degree",
         1403,
         3125060,
         241440,
         "Retail",
         "Male",
         "7/1/1998",
         285
        ],
        [
         "Master's Degree",
         296,
         568000,
         44000,
         "Healthcare",
         "Male",
         "11/1/1998",
         286
        ],
        [
         "Associate's Degree",
         712,
         208800,
         16200,
         "Manufacturing",
         "Male",
         "7/1/2007",
         287
        ],
        [
         "Master's Degree",
         1404,
         3127310,
         242690,
         "Education",
         "Female",
         "8/1/1998",
         288
        ],
        [
         "College",
         1518,
         399066,
         30971,
         "Manufacturing",
         "Female",
         "7/1/2003",
         289
        ],
        [
         "Master's Degree",
         308,
         541000,
         42000,
         "Healthcare",
         "Male",
         "2/1/1999",
         290
        ],
        [
         "High School Diploma",
         281,
         425000,
         33000,
         "Finance",
         "Female",
         "7/1/1998",
         291
        ],
        [
         "College",
         1519,
         401688,
         31195,
         "Manufacturing",
         "Male",
         "8/1/2003",
         292
        ],
        [
         "Bachelor's Degree",
         225,
         6833000,
         531000,
         "Energy",
         "Male",
         "5/1/1997",
         293
        ],
        [
         "Bachelor's Degree",
         210,
         6833000,
         531000,
         "Wholesale Trade",
         "Male",
         "1/1/1997",
         293
        ],
        [
         "Associate's Degree",
         265,
         5196000,
         404000,
         "Education",
         "Female",
         "3/1/1998",
         294
        ],
        [
         "High School Diploma",
         236,
         9021000,
         702000,
         "Manufacturing",
         "Female",
         "8/1/1997",
         295
        ],
        [
         "High School Diploma",
         238,
         9021000,
         702000,
         "Manufacturing",
         "Female",
         "8/1/1997",
         295
        ],
        [
         "High School Diploma",
         219,
         9021000,
         702000,
         "Healthcare",
         "Male",
         "3/1/1997",
         295
        ],
        [
         "Associate's Degree",
         255,
         9021000,
         702000,
         "Education",
         "Female",
         "12/1/1997",
         295
        ],
        [
         "Bachelor's Degree",
         297,
         334000,
         26000,
         "Manufacturing",
         "Female",
         "11/1/1998",
         296
        ],
        [
         "College",
         1225,
         12364600,
         962700,
         "Construction",
         "Female",
         "3/1/2019",
         297
        ],
        [
         "College",
         1405,
         3129840,
         243860,
         "Healthcare",
         "Male",
         "9/1/1998",
         298
        ],
        [
         "High School Diploma",
         616,
         180900,
         14100,
         "Agriculture",
         "Male",
         "7/1/2005",
         299
        ],
        [
         "Associate's Degree",
         240,
         8558000,
         668000,
         "Energy",
         "Female",
         "9/1/1997",
         300
        ],
        [
         "Master's Degree",
         220,
         8558000,
         668000,
         "Manufacturing",
         "Female",
         "4/1/1997",
         300
        ],
        [
         "Bachelor's Degree",
         629,
         89040,
         6960,
         "Energy",
         "Female",
         "10/1/2005",
         301
        ],
        [
         "High School",
         1406,
         3132460,
         244940,
         "Financial Services",
         "Female",
         "10/1/1998",
         302
        ],
        [
         "College",
         1164,
         14392500,
         1126400,
         "Manufacturing",
         "Male",
         "12/1/2016",
         303
        ],
        [
         "Bachelor's Degree",
         304,
         740000,
         58000,
         "Agriculture",
         "Male",
         "1/1/1999",
         304
        ],
        [
         "Bachelor's Degree",
         1407,
         3134840,
         246160,
         "Manufacturing",
         "Male",
         "11/1/1998",
         305
        ],
        [
         "High School",
         1144,
         14351200,
         1127700,
         "Energy",
         "Male",
         "7/1/2016",
         306
        ],
        [
         "Bachelor's Degree",
         1160,
         14350900,
         1128000,
         "Financial Services",
         "Male",
         "11/1/2016",
         307
        ],
        [
         "Associate's Degree",
         1156,
         14340700,
         1128200,
         "Manufacturing",
         "Male",
         "10/1/2016",
         308
        ],
        [
         "Bachelor's Degree",
         692,
         157600,
         12400,
         "Energy",
         "Male",
         "2/1/2007",
         309
        ],
        [
         "Master's Degree",
         1408,
         3137260,
         247240,
         "Retail",
         "Female",
         "12/1/1998",
         310
        ],
        [
         "Associate's Degree",
         301,
         279000,
         22000,
         "Energy",
         "Female",
         "12/1/1998",
         311
        ],
        [
         "High School",
         1140,
         14301100,
         1127800,
         "Technology",
         "Male",
         "6/1/2016",
         312
        ],
        [
         "College",
         1522,
         410034,
         32367,
         "Manufacturing",
         "Female",
         "11/1/2003",
         313
        ],
        [
         "Associate's Degree",
         234,
         9082500,
         717500,
         "Education",
         "Female",
         "7/1/1997",
         314
        ],
        [
         "High School Diploma",
         230,
         9082500,
         717500,
         "Agriculture",
         "Female",
         "6/1/1997",
         314
        ],
        [
         "Associate's Degree",
         995,
         9082500,
         717500,
         "Energy",
         "Female",
         "5/1/2013",
         314
        ],
        [
         "Associate's Degree",
         559,
         9082500,
         717500,
         "Professional and Business S.",
         "Female",
         "4/1/2004",
         314
        ],
        [
         "Master's Degree",
         699,
         9082500,
         717500,
         "Manufacturing",
         "Female",
         "3/1/2007",
         314
        ],
        [
         "High School Diploma",
         249,
         9082500,
         717500,
         "Retail",
         "Female",
         "11/1/1997",
         314
        ],
        [
         "Bachelor's Degree",
         1062,
         9082500,
         717500,
         "Retail",
         "Male",
         "10/1/2014",
         314
        ],
        [
         "Master's Degree",
         918,
         9082500,
         717500,
         "Professional and Business S.",
         "Male",
         "10/1/2011",
         314
        ],
        [
         "Bachelor's Degree",
         247,
         9082500,
         717500,
         "Retail",
         "Male",
         "10/1/1997",
         314
        ],
        [
         "Bachelor's Degree",
         285,
         354000,
         28000,
         "Manufacturing",
         "Female",
         "8/1/1998",
         315
        ],
        [
         "Bachelor's Degree",
         266,
         316000,
         25000,
         "Finance",
         "Male",
         "3/1/1998",
         316
        ],
        [
         "Bachelor's Degree",
         309,
         316000,
         25000,
         "Manufacturing",
         "Female",
         "2/1/1999",
         316
        ],
        [
         "Bachelor's Degree",
         264,
         8154000,
         646000,
         "Finance",
         "Male",
         "3/1/1998",
         317
        ],
        [
         "High School Diploma",
         263,
         8154000,
         646000,
         "Retail",
         "Female",
         "2/1/1998",
         317
        ],
        [
         "High School Diploma",
         251,
         8154000,
         646000,
         "Retail",
         "Female",
         "11/1/1997",
         317
        ],
        [
         "Bachelor's Degree",
         1221,
         12311100,
         976900,
         "Technology",
         "Female",
         "2/1/2019",
         318
        ],
        [
         "High School Diploma",
         578,
         63000,
         5000,
         "Energy",
         "Male",
         "9/1/2004",
         319
        ],
        [
         "Master's Degree",
         670,
         63000,
         5000,
         "Professional and Business S.",
         "Male",
         "8/1/2006",
         319
        ],
        [
         "Associate's Degree",
         17,
         63000,
         5000,
         "Retail",
         "Female",
         "5/1/2021",
         319
        ],
        [
         "Associate's Degree",
         899,
         63000,
         5000,
         "Energy",
         "Female",
         "5/1/2011",
         319
        ],
        [
         "Associate's Degree",
         991,
         63000,
         5000,
         "Energy",
         "Female",
         "4/1/2013",
         319
        ],
        [
         "Associate's Degree",
         731,
         63000,
         5000,
         "Retail",
         "Female",
         "11/1/2007",
         319
        ],
        [
         "High School Diploma",
         1074,
         63000,
         5000,
         "Agriculture",
         "Male",
         "1/1/2015",
         319
        ],
        [
         "Master's Degree",
         1203,
         14376400,
         1142500,
         "Education",
         "Female",
         "9/1/2017",
         320
        ],
        [
         "Bachelor's Degree",
         1148,
         14376400,
         1142500,
         "Retail",
         "Male",
         "8/1/2016",
         320
        ],
        [
         "High School Diploma",
         1290,
         14376400,
         1142500,
         "Agriculture",
         "Male",
         "7/1/2020",
         320
        ],
        [
         "Master's Degree",
         1243,
         14376400,
         1142500,
         "Retail",
         "Female",
         "7/1/2019",
         320
        ],
        [
         "Master's Degree",
         1239,
         14376400,
         1142500,
         "Manufacturing",
         "Female",
         "6/1/2019",
         320
        ],
        [
         "Bachelor's Degree",
         1186,
         14376400,
         1142500,
         "Education",
         "Male",
         "5/1/2017",
         320
        ],
        [
         "Master's Degree",
         1279,
         14376400,
         1142500,
         "Manufacturing",
         "Female",
         "4/1/2020",
         320
        ],
        [
         "High School Diploma",
         1258,
         14376400,
         1142500,
         "Education",
         "Male",
         "11/1/2019",
         320
        ],
        [
         "High School Diploma",
         1218,
         14376400,
         1142500,
         "Retail",
         "Male",
         "1/1/2019",
         320
        ],
        [
         "Associate's Degree",
         963,
         75960,
         6040,
         "Energy",
         "Female",
         "9/1/2012",
         321
        ],
        [
         "Bachelor's Degree",
         675,
         75960,
         6040,
         "Professional and Business S.",
         "Female",
         "9/1/2006",
         321
        ],
        [
         "Master's Degree",
         625,
         75960,
         6040,
         "Healthcare",
         "Female",
         "9/1/2005",
         321
        ],
        [
         "Master's Degree",
         627,
         75960,
         6040,
         "Energy",
         "Female",
         "9/1/2005",
         321
        ],
        [
         "Associate's Degree",
         863,
         75960,
         6040,
         "Professional and Business S.",
         "Female",
         "8/1/2010",
         321
        ],
        [
         "Master's Degree",
         1095,
         75960,
         6040,
         "Agriculture",
         "Female",
         "6/1/2015",
         321
        ],
        [
         "Master's Degree",
         1183,
         75960,
         6040,
         "Retail",
         "Female",
         "4/1/2017",
         321
        ],
        [
         "Master's Degree",
         1135,
         75960,
         6040,
         "Manufacturing",
         "Female",
         "4/1/2016",
         321
        ],
        [
         "Bachelor's Degree",
         751,
         75960,
         6040,
         "Hospitality",
         "Female",
         "4/1/2008",
         321
        ],
        [
         "Bachelor's Degree",
         1035,
         75960,
         6040,
         "Agriculture",
         "Female",
         "3/1/2014",
         321
        ],
        [
         "Master's Degree",
         843,
         75960,
         6040,
         "Energy",
         "Female",
         "3/1/2010",
         321
        ],
        [
         "Master's Degree",
         1223,
         75960,
         6040,
         "Professional and Business S.",
         "Female",
         "2/1/2019",
         321
        ],
        [
         "Bachelor's Degree",
         695,
         75960,
         6040,
         "Hospitality",
         "Female",
         "2/1/2007",
         321
        ],
        [
         "Bachelor's Degree",
         311,
         75960,
         6040,
         "Manufacturing",
         "Female",
         "2/1/1999",
         321
        ],
        [
         "High School Diploma",
         639,
         75960,
         6040,
         "Energy",
         "Female",
         "12/1/2005",
         321
        ],
        [
         "Associate's Degree",
         875,
         75960,
         6040,
         "Retail",
         "Female",
         "11/1/2010",
         321
        ],
        [
         "Master's Degree",
         635,
         75960,
         6040,
         "Hospitality",
         "Female",
         "11/1/2005",
         321
        ],
        [
         "Master's Degree",
         1207,
         75960,
         6040,
         "Energy",
         "Female",
         "10/1/2017",
         321
        ],
        [
         "Master's Degree",
         823,
         75960,
         6040,
         "Energy",
         "Female",
         "10/1/2009",
         321
        ],
        [
         "Master's Degree",
         775,
         75960,
         6040,
         "Retail",
         "Female",
         "10/1/2008",
         321
        ],
        [
         "High School Diploma",
         631,
         75960,
         6040,
         "Energy",
         "Female",
         "10/1/2005",
         321
        ],
        [
         "Bachelor's Degree",
         787,
         75960,
         6040,
         "Energy",
         "Female",
         "1/1/2009",
         321
        ],
        [
         "Bachelor's Degree",
         277,
         9318000,
         742000,
         "Manufacturing",
         "Male",
         "6/1/1998",
         322
        ],
        [
         "Bachelor's Degree",
         268,
         9318000,
         742000,
         "Manufacturing",
         "Male",
         "4/1/1998",
         322
        ],
        [
         "Bachelor's Degree",
         258,
         9318000,
         742000,
         "Manufacturing",
         "Male",
         "1/1/1998",
         322
        ],
        [
         "Graduate",
         1523,
         413619,
         32947,
         "Manufacturing",
         "Male",
         "12/1/2003",
         323
        ],
        [
         "High School Diploma",
         224,
         8929000,
         713000,
         "Finance",
         "Female",
         "5/1/1997",
         324
        ],
        [
         "Master's Degree",
         632,
         125900,
         10100,
         "Energy",
         "Male",
         "11/1/2005",
         325
        ],
        [
         "Associate's Degree",
         32,
         14181000,
         1140000,
         "Energy",
         "Female",
         "9/1/2021",
         326
        ],
        [
         "Master's Degree",
         714,
         14181000,
         1140000,
         "Retail",
         "Male",
         "7/1/2007",
         326
        ],
        [
         "Master's Degree",
         1091,
         14181000,
         1140000,
         "Retail",
         "Female",
         "5/1/2015",
         326
        ],
        [
         "Master's Degree",
         938,
         14181000,
         1140000,
         "Hospitality",
         "Male",
         "3/1/2012",
         326
        ],
        [
         "Associate's Degree",
         551,
         14181000,
         1140000,
         "Finance",
         "Female",
         "2/1/2004",
         326
        ],
        [
         "Associate's Degree",
         687,
         14181000,
         1140000,
         "Technology",
         "Female",
         "12/1/2006",
         326
        ],
        [
         "Master's Degree",
         1067,
         14181000,
         1140000,
         "Education",
         "Female",
         "11/1/2014",
         326
        ],
        [
         "Associate's Degree",
         1019,
         14181000,
         1140000,
         "finance",
         "Female",
         "11/1/2013",
         326
        ],
        [
         "Master's Degree",
         546,
         14181000,
         1140000,
         "Finance",
         "Male",
         "1/1/2004",
         326
        ],
        [
         "Bachelor's Degree",
         617,
         89780,
         7220,
         "Healthcare",
         "Female",
         "7/1/2005",
         327
        ],
        [
         "Bachelor's Degree",
         621,
         80520,
         6480,
         "Energy",
         "Female",
         "8/1/2005",
         328
        ],
        [
         "Master's Degree",
         1147,
         12282200,
         988700,
         "Technology",
         "Female",
         "7/1/2016",
         329
        ],
        [
         "Bachelor's Degree",
         1086,
         12282200,
         988700,
         "Technology",
         "Male",
         "4/1/2015",
         329
        ],
        [
         "Bachelor's Degree",
         1131,
         12282200,
         988700,
         "Retail",
         "Female",
         "3/1/2016",
         329
        ],
        [
         "Master's Degree",
         1219,
         12282200,
         988700,
         "Education",
         "Female",
         "2/1/2019",
         329
        ],
        [
         "High School Diploma",
         1078,
         12282200,
         988700,
         "Agriculture",
         "Male",
         "2/1/2015",
         329
        ],
        [
         "Master's Degree",
         1167,
         12282200,
         988700,
         "Education",
         "Female",
         "12/1/2016",
         329
        ],
        [
         "High School Diploma",
         1114,
         12282200,
         988700,
         "Professional and Business S.",
         "Male",
         "11/1/2015",
         329
        ],
        [
         "Bachelor's Degree",
         1217,
         12282200,
         988700,
         "Technology",
         "Female",
         "1/1/2019",
         329
        ],
        [
         "High School Diploma",
         339,
         421000,
         34000,
         "Healthcare",
         "Female",
         "9/1/1999",
         330
        ],
        [
         "High School Diploma",
         300,
         421000,
         34000,
         "Education",
         "Male",
         "12/1/1998",
         330
        ],
        [
         "Bachelor's Degree",
         256,
         9266000,
         749000,
         "Manufacturing",
         "Male",
         "1/1/1998",
         331
        ],
        [
         "Associate's Degree",
         242,
         8047500,
         652500,
         "Energy",
         "Female",
         "9/1/1997",
         332
        ],
        [
         "Bachelor's Degree",
         235,
         8047500,
         652500,
         "Retail",
         "Male",
         "7/1/1997",
         332
        ],
        [
         "Associate's Degree",
         996,
         8047500,
         652500,
         "Hospitality",
         "Male",
         "6/1/2013",
         332
        ],
        [
         "Bachelor's Degree",
         231,
         8047500,
         652500,
         "Healthcare",
         "Male",
         "6/1/1997",
         332
        ],
        [
         "High School Diploma",
         560,
         8047500,
         652500,
         "Finance",
         "Male",
         "5/1/2004",
         332
        ],
        [
         "Associate's Degree",
         700,
         8047500,
         652500,
         "Finance",
         "Male",
         "4/1/2007",
         332
        ],
        [
         "Master's Degree",
         94,
         115625,
         9375,
         "Manufacturing",
         "Male",
         "12/1/2022",
         332
        ],
        [
         "Master's Degree",
         348,
         115625,
         9375,
         "Manufacturing",
         "Male",
         "12/1/1999",
         332
        ],
        [
         "Bachelor's Degree",
         252,
         8047500,
         652500,
         "Finance",
         "Male",
         "12/1/1997",
         332
        ],
        [
         "Bachelor's Degree",
         254,
         8047500,
         652500,
         "Finance",
         "Male",
         "12/1/1997",
         332
        ],
        [
         "Bachelor's Degree",
         1063,
         8047500,
         652500,
         "Education",
         "Female",
         "10/1/2014",
         332
        ],
        [
         "Associate's Degree",
         919,
         8047500,
         652500,
         "Energy",
         "Female",
         "10/1/2011",
         332
        ],
        [
         "Associate's Degree",
         676,
         148000,
         12000,
         "Energy",
         "Male",
         "10/1/2006",
         332
        ],
        [
         "Bachelor's Degree",
         294,
         115625,
         9375,
         "Agriculture",
         "Male",
         "10/1/1998",
         332
        ],
        [
         "High School Diploma",
         33,
         10546000,
         858000,
         "Education",
         "Male",
         "9/1/2021",
         333
        ],
        [
         "Master's Degree",
         816,
         10546000,
         858000,
         "Energy",
         "Male",
         "9/1/2009",
         333
        ],
        [
         "High School Diploma",
         241,
         10546000,
         858000,
         "Education",
         "Male",
         "9/1/1997",
         333
        ],
        [
         "Associate's Degree",
         715,
         10546000,
         858000,
         "Professional and Business S.",
         "Female",
         "7/1/2007",
         333
        ],
        [
         "Associate's Degree",
         1092,
         10546000,
         858000,
         "Energy",
         "Male",
         "6/1/2015",
         333
        ],
        [
         "Associate's Degree",
         939,
         10546000,
         858000,
         "Professional and Business S.",
         "Female",
         "3/1/2012",
         333
        ],
        [
         "High School Diploma",
         552,
         10546000,
         858000,
         "Hospitality",
         "Male",
         "3/1/2004",
         333
        ],
        [
         "Master's Degree",
         214,
         10546000,
         858000,
         "Finance",
         "Male",
         "2/1/1997",
         333
        ],
        [
         "Associate's Degree",
         1068,
         10546000,
         858000,
         "Manufacturing",
         "Male",
         "12/1/2014",
         333
        ],
        [
         "Associate's Degree",
         1020,
         10546000,
         858000,
         "Agriculture",
         "Male",
         "12/1/2013",
         333
        ],
        [
         "Bachelor's Degree",
         688,
         10546000,
         858000,
         "Finance",
         "Male",
         "1/1/2007",
         333
        ],
        [
         "Associate's Degree",
         547,
         10546000,
         858000,
         "Hospitality",
         "Female",
         "1/1/2004",
         333
        ],
        [
         "Bachelor's Degree",
         71,
         10531000,
         858000,
         "Healthcare",
         "Male",
         "6/1/2022",
         334
        ],
        [
         "Bachelor's Degree",
         229,
         10531000,
         858000,
         "Healthcare",
         "Male",
         "6/1/1997",
         334
        ],
        [
         "High School Diploma",
         207,
         10531000,
         858000,
         "Healthcare",
         "Female",
         "12/1/1996",
         334
        ],
        [
         "Bachelor's Degree",
         246,
         10531000,
         858000,
         "Healthcare",
         "Female",
         "10/1/1997",
         334
        ],
        [
         "Bachelor's Degree",
         1137,
         11421400,
         931100,
         "Retail",
         "Female",
         "5/1/2016",
         335
        ],
        [
         "High School Diploma",
         23,
         10516000,
         858000,
         "Healthcare",
         "Male",
         "6/1/2021",
         336
        ],
        [
         "High School Diploma",
         107,
         10516000,
         858000,
         "Healthcare",
         "Male",
         "3/1/2023",
         336
        ],
        [
         "High School Diploma",
         217,
         10516000,
         858000,
         "Healthcare",
         "Male",
         "3/1/1997",
         336
        ],
        [
         "Bachelor's Degree",
         280,
         806000,
         66000,
         "Retail",
         "Male",
         "7/1/1998",
         337
        ],
        [
         "High School Diploma",
         259,
         806000,
         66000,
         "Agriculture",
         "Female",
         "1/1/1998",
         337
        ],
        [
         "Associate's Degree",
         289,
         292000,
         24000,
         "Energy",
         "Female",
         "9/1/1998",
         338
        ],
        [
         "High School Diploma",
         70,
         14138000,
         1163000,
         "Agriculture",
         "Female",
         "6/1/2022",
         339
        ],
        [
         "High School Diploma",
         228,
         14138000,
         1163000,
         "Agriculture",
         "Female",
         "6/1/1997",
         339
        ],
        [
         "Bachelor's Degree",
         206,
         14138000,
         1163000,
         "Education",
         "Male",
         "12/1/1996",
         339
        ],
        [
         "High School Diploma",
         211,
         14138000,
         1163000,
         "Healthcare",
         "Female",
         "1/1/1997",
         339
        ],
        [
         "High School Diploma",
         1133,
         11371400,
         939100,
         "Healthcare",
         "Female",
         "4/1/2016",
         340
        ],
        [
         "High School Diploma",
         257,
         5908000,
         492000,
         "Agriculture",
         "Female",
         "1/1/1998",
         341
        ],
        [
         "Associate's Degree",
         680,
         120000,
         10000,
         "Hospitality",
         "Male",
         "11/1/2006",
         342
        ],
        [
         "College",
         1120,
         14064200,
         1174700,
         "Energy",
         "Male",
         "1/1/2016",
         343
        ],
        [
         "Master's Degree",
         1051,
         754000,
         63000,
         "Energy",
         "Female",
         "7/1/2014",
         344
        ],
        [
         "Master's Degree",
         954,
         754000,
         63000,
         "Hospitality",
         "Male",
         "7/1/2012",
         344
        ],
        [
         "Master's Degree",
         758,
         754000,
         63000,
         "Education",
         "Male",
         "6/1/2008",
         344
        ],
        [
         "Associate's Degree",
         562,
         754000,
         63000,
         "Professional and Business S.",
         "Male",
         "5/1/2004",
         344
        ],
        [
         "Associate's Degree",
         847,
         754000,
         63000,
         "Energy",
         "Female",
         "4/1/2010",
         344
        ],
        [
         "Bachelor's Degree",
         590,
         754000,
         63000,
         "Energy",
         "Male",
         "12/1/2004",
         344
        ],
        [
         "High School Diploma",
         1306,
         754000,
         63000,
         "Technology",
         "Male",
         "11/1/2020",
         344
        ],
        [
         "Master's Degree",
         1111,
         754000,
         63000,
         "Agriculture",
         "Female",
         "10/1/2015",
         344
        ],
        [
         "Bachelor's Degree",
         38,
         754000,
         63000,
         "Agriculture",
         "Male",
         "10/1/1998",
         344
        ],
        [
         "Bachelor's Degree",
         292,
         754000,
         63000,
         "Agriculture",
         "Male",
         "10/1/1998",
         344
        ],
        [
         "Bachelor's Degree",
         696,
         129200,
         10800,
         "Hospitality",
         "Male",
         "3/1/2007",
         345
        ],
        [
         "High School Diploma",
         527,
         83000,
         7000,
         "Finance",
         "Female",
         "8/1/2003",
         346
        ],
        [
         "Bachelor's Degree",
         495,
         83000,
         7000,
         "Education",
         "Female",
         "12/1/2002",
         346
        ],
        [
         "College",
         1136,
         14269200,
         1209000,
         "Technology",
         "Male",
         "5/1/2016",
         347
        ],
        [
         "High School Diploma",
         95,
         101400,
         8600,
         "Retail",
         "Female",
         "12/1/2022",
         348
        ],
        [
         "High School Diploma",
         349,
         101400,
         8600,
         "Retail",
         "Female",
         "12/1/1999",
         348
        ],
        [
         "Associate's Degree",
         633,
         81120,
         6880,
         "Manufacturing",
         "Female",
         "11/1/2005",
         348
        ],
        [
         "High School Diploma",
         295,
         101400,
         8600,
         "Retail",
         "Female",
         "10/1/1998",
         348
        ],
        [
         "Bachelor's Degree",
         1132,
         14207800,
         1210200,
         "Manufacturing",
         "Male",
         "4/1/2016",
         349
        ],
        [
         "Bachelor's Degree",
         1125,
         11236900,
         958300,
         "Technology",
         "Female",
         "2/1/2016",
         350
        ],
        [
         "Bachelor's Degree",
         22,
         14079000,
         1203000,
         "Education",
         "Female",
         "6/1/2021",
         351
        ],
        [
         "Bachelor's Degree",
         106,
         14079000,
         1203000,
         "Education",
         "Female",
         "3/1/2023",
         351
        ],
        [
         "Bachelor's Degree",
         216,
         14079000,
         1203000,
         "Education",
         "Female",
         "3/1/1997",
         351
        ],
        [
         "Bachelor's Degree",
         1121,
         11209100,
         960600,
         "Hospitality",
         "Female",
         "1/1/2016",
         352
        ],
        [
         "High School Diploma",
         1301,
         11784700,
         1024200,
         "Retail",
         "Female",
         "10/1/2020",
         353
        ],
        [
         "Master's Degree",
         771,
         101200,
         8800,
         "Hospitality",
         "Female",
         "9/1/2008",
         354
        ],
        [
         "Bachelor's Degree",
         674,
         82800,
         7200,
         "Education",
         "Male",
         "9/1/2006",
         354
        ],
        [
         "High School Diploma",
         626,
         82800,
         7200,
         "Hospitality",
         "Male",
         "9/1/2005",
         354
        ],
        [
         "Bachelor's Degree",
         958,
         101200,
         8800,
         "Professional and Business S.",
         "Male",
         "8/1/2012",
         354
        ],
        [
         "Master's Degree",
         862,
         82800,
         7200,
         "Finance",
         "Male",
         "8/1/2010",
         354
        ],
        [
         "Associate's Degree",
         719,
         101200,
         8800,
         "Hospitality",
         "Female",
         "8/1/2007",
         354
        ],
        [
         "High School Diploma",
         669,
         101200,
         8800,
         "Healthcare",
         "Female",
         "8/1/2006",
         354
        ],
        [
         "Associate's Degree",
         671,
         82800,
         7200,
         "Finance",
         "Female",
         "8/1/2006",
         354
        ],
        [
         "Master's Degree",
         622,
         101200,
         8800,
         "Finance",
         "Male",
         "8/1/2005",
         354
        ],
        [
         "Master's Degree",
         380,
         115000,
         10000,
         "Healthcare",
         "Male",
         "8/1/2000",
         354
        ],
        [
         "Bachelor's Degree",
         713,
         179400,
         15600,
         "Technology",
         "Female",
         "7/1/2007",
         354
        ],
        [
         "High School Diploma",
         666,
         82800,
         7200,
         "Finance",
         "Male",
         "7/1/2006",
         354
        ],
        [
         "High School Diploma",
         1094,
         82800,
         7200,
         "Agriculture",
         "Male",
         "6/1/2015",
         354
        ],
        [
         "Associate's Degree",
         708,
         202400,
         17600,
         "Manufacturing",
         "Male",
         "6/1/2007",
         354
        ],
        [
         "Bachelor's Degree",
         612,
         138000,
         12000,
         "Finance",
         "Male",
         "6/1/2005",
         354
        ],
        [
         "High School Diploma",
         613,
         78200,
         6800,
         "Hospitality",
         "Female",
         "6/1/2005",
         354
        ],
        [
         "High School Diploma",
         609,
         82800,
         7200,
         "Education",
         "Female",
         "5/1/2005",
         354
        ],
        [
         "High School Diploma",
         1182,
         82800,
         7200,
         "Technology",
         "Male",
         "4/1/2017",
         354
        ],
        [
         "High School Diploma",
         1134,
         82800,
         7200,
         "Education",
         "Male",
         "4/1/2016",
         354
        ],
        [
         "Master's Degree",
         799,
         82800,
         7200,
         "Hospitality",
         "Female",
         "4/1/2009",
         354
        ],
        [
         "High School Diploma",
         750,
         82800,
         7200,
         "Finance",
         "Male",
         "4/1/2008",
         354
        ],
        [
         "Associate's Degree",
         607,
         101200,
         8800,
         "Finance",
         "Female",
         "4/1/2005",
         354
        ],
        [
         "Bachelor's Degree",
         1034,
         82800,
         7200,
         "Agriculture",
         "Male",
         "3/1/2014",
         354
        ],
        [
         "College",
         985,
         101200,
         8800,
         "Construction",
         "Female",
         "3/1/2013",
         354
        ],
        [
         "Master's Degree",
         842,
         82800,
         7200,
         "Professional and Business S.",
         "Male",
         "3/1/2010",
         354
        ],
        [
         "High School Diploma",
         746,
         101200,
         8800,
         "Education",
         "Male",
         "3/1/2008",
         354
        ],
        [
         "High School Diploma",
         698,
         101200,
         8800,
         "Education",
         "Male",
         "3/1/2007",
         354
        ],
        [
         "Master's Degree",
         651,
         82800,
         7200,
         "Energy",
         "Female",
         "3/1/2006",
         354
        ],
        [
         "High School Diploma",
         171,
         69000,
         6000,
         "Wholesale Trade",
         "Female",
         "3/1/1996",
         354
        ],
        [
         "High School Diploma",
         1222,
         82800,
         7200,
         "Retail",
         "Male",
         "2/1/2019",
         354
        ],
        [
         "Master's Degree",
         934,
         82800,
         7200,
         "Finance",
         "Male",
         "2/1/2012",
         354
        ],
        [
         "Associate's Degree",
         743,
         82800,
         7200,
         "Manufacturing",
         "Female",
         "2/1/2008",
         354
        ],
        [
         "Master's Degree",
         694,
         82800,
         7200,
         "Finance",
         "Male",
         "2/1/2007",
         354
        ],
        [
         "Bachelor's Degree",
         684,
         202400,
         17600,
         "Hospitality",
         "Male",
         "12/1/2006",
         354
        ],
        [
         "Master's Degree",
         638,
         82800,
         7200,
         "Energy",
         "Male",
         "12/1/2005",
         354
        ],
        [
         "Bachelor's Degree",
         158,
         202400,
         17600,
         "Manufacturing",
         "Male",
         "12/1/1995",
         354
        ],
        [
         "Master's Degree",
         1018,
         101200,
         8800,
         "Professional and Business S.",
         "Male",
         "11/1/2013",
         354
        ],
        [
         "Master's Degree",
         970,
         82800,
         7200,
         "Professional and Business S.",
         "Male",
         "11/1/2012",
         354
        ],
        [
         "Master's Degree",
         874,
         82800,
         7200,
         "Technology",
         "Male",
         "11/1/2010",
         354
        ],
        [
         "Master's Degree",
         634,
         82800,
         7200,
         "Energy",
         "Male",
         "11/1/2005",
         354
        ],
        [
         "High School Diploma",
         1206,
         82800,
         7200,
         "Retail",
         "Male",
         "10/1/2017",
         354
        ],
        [
         "High School Diploma",
         822,
         82800,
         7200,
         "Professional and Business S.",
         "Male",
         "10/1/2009",
         354
        ],
        [
         "High School Diploma",
         774,
         82800,
         7200,
         "Technology",
         "Male",
         "10/1/2008",
         354
        ],
        [
         "Master's Degree",
         630,
         82800,
         7200,
         "Finance",
         "Male",
         "10/1/2005",
         354
        ],
        [
         "Master's Degree",
         1027,
         82800,
         7200,
         "Manufacturing",
         "Female",
         "1/1/2014",
         354
        ],
        [
         "Bachelor's Degree",
         786,
         82800,
         7200,
         "Professional and Business S.",
         "Male",
         "1/1/2009",
         354
        ],
        [
         "Associate's Degree",
         1128,
         14102700,
         1226500,
         "Education",
         "Male",
         "3/1/2016",
         355
        ],
        [
         "Bachelor's Degree",
         608,
         126900,
         11100,
         "Hospitality",
         "Male",
         "5/1/2005",
         356
        ],
        [
         "Master's Degree",
         430,
         91000,
         8000,
         "Finance",
         "Male",
         "8/1/2001",
         357
        ],
        [
         "Associate's Degree",
         446,
         91000,
         8000,
         "Education",
         "Male",
         "12/1/2001",
         357
        ],
        [
         "Bachelor's Degree",
         396,
         91000,
         8000,
         "Education",
         "Male",
         "12/1/2000",
         357
        ],
        [
         "Master's Degree",
         350,
         91000,
         8000,
         "Manufacturing",
         "Male",
         "12/1/1999",
         357
        ],
        [
         "Bachelor's Degree",
         993,
         11188300,
         984400,
         "Finance",
         "Female",
         "5/1/2013",
         358
        ],
        [
         "Associate's Degree",
         1124,
         14051600,
         1237500,
         "Healthcare",
         "Male",
         "2/1/2016",
         359
        ],
        [
         "High School Diploma",
         717,
         183800,
         16200,
         "Finance",
         "Female",
         "8/1/2007",
         360
        ],
        [
         "Bachelor's Degree",
         486,
         133250,
         11750,
         "Education",
         "Male",
         "10/1/2002",
         361
        ],
        [
         "Master's Degree",
         170,
         120500,
         10700,
         "Education",
         "Male",
         "3/1/1996",
         362
        ],
        [
         "Bachelor's Degree",
         162,
         120500,
         10700,
         "Retail",
         "Male",
         "1/1/1996",
         362
        ],
        [
         "Bachelor's Degree",
         1129,
         11242500,
         998900,
         "Construction",
         "Female",
         "3/1/2016",
         363
        ],
        [
         "Bachelor's Degree",
         701,
         174400,
         15600,
         "Healthcare",
         "Female",
         "4/1/2007",
         364
        ],
        [
         "High School",
         1305,
         11673000,
         1045400,
         "Education",
         "Female",
         "11/1/2020",
         365
        ],
        [
         "High School Diploma",
         1246,
         10230100,
         918700,
         "Retail",
         "Male",
         "8/1/2019",
         366
        ],
        [
         "High School Diploma",
         1238,
         10230100,
         918700,
         "Education",
         "Male",
         "6/1/2019",
         366
        ],
        [
         "High School Diploma",
         1282,
         10230100,
         918700,
         "Education",
         "Male",
         "5/1/2020",
         366
        ],
        [
         "College",
         1395,
         3350900,
         301100,
         "Financial Services",
         "Male",
         "11/1/1997",
         367
        ],
        [
         "Bachelor's Degree",
         957,
         11392600,
         1023800,
         "Information Tech",
         "Female",
         "8/1/2012",
         368
        ],
        [
         "Bachelor's Degree",
         1396,
         3355700,
         301800,
         "Retail",
         "Female",
         "12/1/1997",
         369
        ],
        [
         "College",
         953,
         11371300,
         1027400,
         "Hospitality",
         "Female",
         "7/1/2012",
         370
        ],
        [
         "High School",
         949,
         11331000,
         1024200,
         "Retail",
         "Female",
         "6/1/2012",
         371
        ],
        [
         "High School Diploma",
         729,
         178800,
         16200,
         "Retail",
         "Female",
         "11/1/2007",
         372
        ],
        [
         "Master's Degree",
         1394,
         3341900,
         303000,
         "Manufacturing",
         "Female",
         "10/1/1997",
         373
        ],
        [
         "Bachelor's Degree",
         668,
         220000,
         20000,
         "Hospitality",
         "Male",
         "8/1/2006",
         374
        ],
        [
         "Master's Degree",
         4,
         110000,
         10000,
         "Finance",
         "Male",
         "2/1/2021",
         374
        ],
        [
         "Master's Degree",
         392,
         121000,
         11000,
         "Healthcare",
         "Male",
         "11/1/2000",
         374
        ],
        [
         "Master's Degree",
         154,
         121000,
         11000,
         "Healthcare",
         "Male",
         "11/1/1995",
         374
        ],
        [
         "High School",
         1393,
         3335300,
         303900,
         "Technology",
         "Male",
         "9/1/1997",
         375
        ],
        [
         "High School Diploma",
         1297,
         11815300,
         1078200,
         "Technology",
         "Female",
         "9/1/2020",
         376
        ],
        [
         "College",
         1392,
         3329600,
         305000,
         "Healthcare",
         "Female",
         "8/1/1997",
         377
        ],
        [
         "Master's Degree",
         1057,
         11288600,
         1037600,
         "Education and Health",
         "Female",
         "9/1/2014",
         378
        ],
        [
         "Bachelor's Degree",
         384,
         87000,
         8000,
         "Education",
         "Male",
         "9/1/2000",
         379
        ],
        [
         "High School",
         1289,
         12027800,
         1109000,
         "Finance",
         "Female",
         "7/1/2020",
         380
        ],
        [
         "Bachelor's Degree",
         937,
         11230300,
         1038800,
         "Hospitality",
         "Female",
         "3/1/2012",
         381
        ],
        [
         "Bachelor's Degree",
         1391,
         3321700,
         307900,
         "Retail",
         "Male",
         "7/1/1997",
         382
        ],
        [
         "Bachelor's Degree",
         941,
         11237900,
         1042300,
         "Finance",
         "Female",
         "4/1/2012",
         383
        ],
        [
         "High School Diploma",
         725,
         183000,
         17000,
         "Education",
         "Female",
         "10/1/2007",
         384
        ],
        [
         "Bachelor's Degree",
         1053,
         11260000,
         1053100,
         "Transportation and Utilities",
         "Female",
         "8/1/2014",
         385
        ],
        [
         "Bachelor's Degree",
         672,
         160000,
         15000,
         "Hospitality",
         "Male",
         "9/1/2006",
         386
        ],
        [
         "Associate's Degree",
         945,
         11300200,
         1059400,
         "Retail",
         "Female",
         "5/1/2012",
         387
        ],
        [
         "High School",
         1390,
         3312500,
         310800,
         "Financial Services",
         "Female",
         "6/1/1997",
         388
        ],
        [
         "High School Diploma",
         1309,
         11515700,
         1082000,
         "Hospitality",
         "Female",
         "12/1/2020",
         389
        ],
        [
         "College",
         1389,
         3306400,
         311000,
         "Manufacturing",
         "Male",
         "5/1/1997",
         390
        ],
        [
         "High School Diploma",
         721,
         178200,
         16800,
         "Energy",
         "Female",
         "9/1/2007",
         391
        ],
        [
         "High School",
         992,
         14085800,
         1330000,
         "Hospitality",
         "Male",
         "5/1/2013",
         392
        ],
        [
         "Master's Degree",
         1049,
         11234600,
         1061800,
         "Education and Health",
         "Female",
         "7/1/2014",
         393
        ],
        [
         "Bachelor's Degree",
         400,
         95000,
         9000,
         "Healthcare",
         "Male",
         "1/1/2001",
         394
        ],
        [
         "High School Diploma",
         1293,
         11884200,
         1126500,
         "Technology",
         "Female",
         "8/1/2020",
         395
        ],
        [
         "Master's Degree",
         1388,
         3298300,
         312900,
         "Technology",
         "Female",
         "4/1/1997",
         396
        ],
        [
         "Bachelor's Degree",
         402,
         68500,
         6500,
         "Finance",
         "Male",
         "1/1/2001",
         397
        ],
        [
         "High School",
         1387,
         3291500,
         313900,
         "Healthcare",
         "Male",
         "3/1/1997",
         398
        ],
        [
         "Bachelor's Degree",
         1045,
         11208600,
         1070500,
         "Information",
         "Female",
         "6/1/2014",
         399
        ],
        [
         "Associate's Degree",
         951,
         13973800,
         1335800,
         "Retail",
         "Female",
         "6/1/2012",
         400
        ],
        [
         "High School",
         984,
         13973800,
         1335800,
         "Health Care",
         "Male",
         "3/1/2013",
         400
        ],
        [
         "Associate's Degree",
         879,
         13973800,
         1335800,
         "Manufacturing",
         "Female",
         "12/1/2010",
         400
        ],
        [
         "Associate's Degree",
         923,
         13973800,
         1335800,
         "Energy",
         "Female",
         "11/1/2011",
         400
        ],
        [
         "High School Diploma",
         319,
         115000,
         11000,
         "Retail",
         "Female",
         "4/1/1999",
         401
        ],
        [
         "Master's Degree",
         404,
         115000,
         11000,
         "Agriculture",
         "Male",
         "2/1/2001",
         401
        ],
        [
         "Master's Degree",
         118,
         115000,
         11000,
         "Agriculture",
         "Male",
         "2/1/1995",
         401
        ],
        [
         "High School Diploma",
         1154,
         94000,
         9000,
         "Agriculture",
         "Male",
         "9/1/2016",
         402
        ],
        [
         "Master's Degree",
         962,
         94000,
         9000,
         "Professional and Business S.",
         "Male",
         "9/1/2012",
         402
        ],
        [
         "Associate's Degree",
         867,
         94000,
         9000,
         "Hospitality",
         "Female",
         "9/1/2010",
         402
        ],
        [
         "High School Diploma",
         770,
         94000,
         9000,
         "Hospitality",
         "Male",
         "9/1/2008",
         402
        ],
        [
         "Master's Degree",
         1102,
         94000,
         9000,
         "Education",
         "Male",
         "8/1/2015",
         402
        ],
        [
         "Associate's Degree",
         1007,
         94000,
         9000,
         "Professional and Business S.",
         "Female",
         "8/1/2013",
         402
        ],
        [
         "High School Diploma",
         1242,
         94000,
         9000,
         "Technology",
         "Male",
         "7/1/2019",
         402
        ],
        [
         "High School Diploma",
         1194,
         94000,
         9000,
         "Retail",
         "Male",
         "7/1/2017",
         402
        ],
        [
         "Master's Degree",
         1003,
         94000,
         9000,
         "Professional and Business S.",
         "Female",
         "7/1/2013",
         402
        ],
        [
         "Bachelor's Degree",
         376,
         94000,
         9000,
         "Agriculture",
         "Male",
         "7/1/2000",
         402
        ],
        [
         "High School Diploma",
         1286,
         94000,
         9000,
         "Technology",
         "Male",
         "6/1/2020",
         402
        ],
        [
         "High School Diploma",
         1042,
         94000,
         9000,
         "Retail",
         "Male",
         "5/1/2014",
         402
        ],
        [
         "Master's Degree",
         994,
         94000,
         9000,
         "Professional and Business S.",
         "Male",
         "5/1/2013",
         402
        ],
        [
         "High School Diploma",
         802,
         94000,
         9000,
         "Agriculture",
         "Male",
         "5/1/2009",
         402
        ],
        [
         "Associate's Degree",
         706,
         94000,
         9000,
         "Retail",
         "Male",
         "5/1/2007",
         402
        ],
        [
         "High School Diploma",
         1038,
         94000,
         9000,
         "Agriculture",
         "Male",
         "4/1/2014",
         402
        ],
        [
         "Master's Degree",
         990,
         94000,
         9000,
         "Professional and Business S.",
         "Male",
         "4/1/2013",
         402
        ],
        [
         "Master's Degree",
         943,
         94000,
         9000,
         "Manufacturing",
         "Female",
         "4/1/2012",
         402
        ],
        [
         "Master's Degree",
         606,
         94000,
         9000,
         "Professional and Business S.",
         "Male",
         "4/1/2005",
         402
        ],
        [
         "Master's Degree",
         1127,
         94000,
         9000,
         "Agriculture",
         "Female",
         "2/1/2016",
         402
        ],
        [
         "Master's Degree",
         886,
         94000,
         9000,
         "Hospitality",
         "Male",
         "2/1/2011",
         402
        ],
        [
         "Master's Degree",
         782,
         94000,
         9000,
         "Hospitality",
         "Male",
         "12/1/2008",
         402
        ],
        [
         "High School Diploma",
         542,
         94000,
         9000,
         "Hospitality",
         "Male",
         "12/1/2003",
         402
        ],
        [
         "Master's Degree",
         1257,
         94000,
         9000,
         "Retail",
         "Female",
         "11/1/2019",
         402
        ],
        [
         "High School Diploma",
         1066,
         94000,
         9000,
         "Retail",
         "Male",
         "11/1/2014",
         402
        ],
        [
         "College",
         1013,
         94000,
         9000,
         "Retail",
         "Female",
         "10/1/2013",
         402
        ],
        [
         "Bachelor's Degree",
         978,
         94000,
         9000,
         "Professional and Business S.",
         "Male",
         "1/1/2013",
         402
        ],
        [
         "Master's Degree",
         930,
         94000,
         9000,
         "Professional and Business S.",
         "Male",
         "1/1/2012",
         402
        ],
        [
         "Bachelor's Degree",
         1386,
         3282300,
         314500,
         "Retail",
         "Female",
         "2/1/1997",
         403
        ],
        [
         "College",
         933,
         11145700,
         1069600,
         "Health Care",
         "Female",
         "2/1/2012",
         404
        ],
        [
         "Master's Degree",
         322,
         76600,
         7400,
         "Finance",
         "Male",
         "5/1/1999",
         405
        ],
        [
         "Master's Degree",
         980,
         13941200,
         1351200,
         "Retail",
         "Male",
         "2/1/2013",
         406
        ],
        [
         "Bachelor's Degree",
         981,
         10963800,
         1068100,
         "Education",
         "Female",
         "2/1/2013",
         407
        ],
        [
         "Master's Degree",
         1251,
         11148800,
         1091100,
         "Manufacturing",
         "Female",
         "9/1/2019",
         408
        ],
        [
         "Master's Degree",
         1199,
         11148800,
         1091100,
         "Education",
         "Female",
         "8/1/2017",
         408
        ],
        [
         "Master's Degree",
         1099,
         11148800,
         1091100,
         "Energy",
         "Female",
         "7/1/2015",
         408
        ],
        [
         "Master's Degree",
         1287,
         11148800,
         1091100,
         "Retail",
         "Female",
         "6/1/2020",
         408
        ],
        [
         "College",
         1037,
         11148800,
         1091100,
         "Professional and Business Services",
         "Female",
         "4/1/2014",
         408
        ],
        [
         "Master's Degree",
         1227,
         11148800,
         1091100,
         "Manufacturing",
         "Female",
         "3/1/2019",
         408
        ],
        [
         "High School Diploma",
         1262,
         11148800,
         1091100,
         "Education",
         "Male",
         "12/1/2019",
         408
        ],
        [
         "Master's Degree",
         1215,
         11148800,
         1091100,
         "Education",
         "Female",
         "12/1/2017",
         408
        ],
        [
         "Master's Degree",
         1303,
         11148800,
         1091100,
         "Technology",
         "Female",
         "10/1/2020",
         408
        ],
        [
         "Master's Degree",
         1267,
         11148800,
         1091100,
         "Professional and Business S.",
         "Female",
         "1/1/2020",
         408
        ],
        [
         "Master's Degree",
         1123,
         11148800,
         1091100,
         "Retail",
         "Female",
         "1/1/2016",
         408
        ],
        [
         "College",
         1029,
         11106900,
         1088300,
         "Retail",
         "Female",
         "2/1/2014",
         409
        ],
        [
         "High School Diploma",
         1033,
         11114100,
         1096600,
         "Retail",
         "Female",
         "3/1/2014",
         410
        ],
        [
         "College",
         1385,
         3264900,
         322600,
         "Financial Services",
         "Male",
         "1/1/1997",
         411
        ],
        [
         "Bachelor's Degree",
         709,
         182000,
         18000,
         "Technology",
         "Female",
         "6/1/2007",
         412
        ],
        [
         "Associate's Degree",
         335,
         95500,
         9500,
         "Education",
         "Female",
         "8/1/1999",
         413
        ],
        [
         "High School Diploma",
         174,
         80000,
         8000,
         "Agriculture",
         "Male",
         "4/1/1996",
         414
        ],
        [
         "Associate's Degree",
         393,
         80000,
         8000,
         "Retail",
         "Female",
         "11/1/2000",
         414
        ],
        [
         "Associate's Degree",
         155,
         80000,
         8000,
         "Retail",
         "Female",
         "11/1/1995",
         414
        ],
        [
         "High School",
         1056,
         15984100,
         1615600,
         "Construction",
         "Male",
         "9/1/2014",
         415
        ],
        [
         "Bachelor's Degree",
         952,
         16012900,
         1619600,
         "Energy",
         "Male",
         "7/1/2012",
         416
        ],
        [
         "Associate's Degree",
         956,
         16033200,
         1634400,
         "Energy",
         "Male",
         "8/1/2012",
         417
        ],
        [
         "College",
         977,
         10958400,
         1117500,
         "Hospitality",
         "Female",
         "1/1/2013",
         418
        ],
        [
         "College",
         948,
         15980600,
         1633600,
         "Technology",
         "Male",
         "6/1/2012",
         419
        ],
        [
         "Associate's Degree",
         405,
         78000,
         8000,
         "Retail",
         "Female",
         "2/1/2001",
         420
        ],
        [
         "Associate's Degree",
         119,
         78000,
         8000,
         "Retail",
         "Female",
         "2/1/1995",
         420
        ],
        [
         "Bachelor's Degree",
         113,
         195000,
         20000,
         "Healthcare",
         "Female",
         "1/1/1995",
         420
        ],
        [
         "Associate's Degree",
         936,
         15921400,
         1635300,
         "Energy",
         "Male",
         "3/1/2012",
         421
        ],
        [
         "Associate's Degree",
         303,
         107000,
         11000,
         "Energy",
         "Female",
         "12/1/1998",
         422
        ],
        [
         "Bachelor's Degree",
         388,
         107000,
         11000,
         "Finance",
         "Male",
         "10/1/2000",
         422
        ],
        [
         "Bachelor's Degree",
         150,
         107000,
         11000,
         "Finance",
         "Male",
         "10/1/1995",
         422
        ],
        [
         "Bachelor's Degree",
         723,
         68000,
         7000,
         "Finance",
         "Female",
         "9/1/2007",
         423
        ],
        [
         "Master's Degree",
         1055,
         68000,
         7000,
         "Retail",
         "Female",
         "8/1/2014",
         423
        ],
        [
         "Associate's Degree",
         911,
         68000,
         7000,
         "Hospitality",
         "Female",
         "8/1/2011",
         423
        ],
        [
         "Associate's Degree",
         947,
         68000,
         7000,
         "Manufacturing",
         "Female",
         "5/1/2012",
         423
        ],
        [
         "Bachelor's Degree",
         175,
         68000,
         7000,
         "Healthcare",
         "Female",
         "4/1/1996",
         423
        ],
        [
         "Master's Degree",
         1175,
         68000,
         7000,
         "Energy",
         "Female",
         "2/1/2017",
         423
        ],
        [
         "High School Diploma",
         167,
         68000,
         7000,
         "Finance",
         "Female",
         "2/1/1996",
         423
        ],
        [
         "Associate's Degree",
         544,
         68000,
         7000,
         "Trade, Transportation, Util.",
         "Male",
         "1/1/2004",
         423
        ],
        [
         "Bachelor's Degree",
         54,
         961000,
         99000,
         "Manufacturing",
         "Male",
         "2/1/2022",
         424
        ],
        [
         "Bachelor's Degree",
         116,
         961000,
         99000,
         "Manufacturing",
         "Male",
         "2/1/1995",
         424
        ],
        [
         "Associate's Degree",
         940,
         15921500,
         1640400,
         "Energy",
         "Male",
         "4/1/2012",
         425
        ],
        [
         "High School",
         1048,
         15914400,
         1646700,
         "Professional and Business Services",
         "Male",
         "7/1/2014",
         426
        ],
        [
         "High School Diploma",
         55,
         589000,
         61000,
         "Education",
         "Female",
         "2/1/2022",
         427
        ],
        [
         "High School Diploma",
         117,
         589000,
         61000,
         "Education",
         "Female",
         "2/1/1995",
         427
        ],
        [
         "Associate's Degree",
         944,
         15959200,
         1657300,
         "Technology",
         "Male",
         "5/1/2012",
         428
        ],
        [
         "Associate's Degree",
         381,
         77000,
         8000,
         "Wholesale Trade",
         "Female",
         "8/1/2000",
         429
        ],
        [
         "High School Diploma",
         1050,
         13418200,
         1394900,
         "Professional and Business S.",
         "Male",
         "7/1/2014",
         430
        ],
        [
         "Bachelor's Degree",
         903,
         13418200,
         1394900,
         "Hospitality",
         "Female",
         "6/1/2011",
         430
        ],
        [
         "High School Diploma",
         1138,
         13418200,
         1394900,
         "Education",
         "Male",
         "5/1/2016",
         430
        ],
        [
         "High School Diploma",
         1090,
         13418200,
         1394900,
         "Technology",
         "Male",
         "5/1/2015",
         430
        ],
        [
         "Associate's Degree",
         1031,
         13418200,
         1394900,
         "Manufacturing",
         "Female",
         "2/1/2014",
         430
        ],
        [
         "High School Diploma",
         1070,
         13418200,
         1394900,
         "Retail",
         "Male",
         "12/1/2014",
         430
        ],
        [
         "High School Diploma",
         1023,
         13418200,
         1394900,
         "Hospitality",
         "Female",
         "12/1/2013",
         430
        ],
        [
         "Associate's Degree",
         975,
         13418200,
         1394900,
         "Energy",
         "Female",
         "12/1/2012",
         430
        ],
        [
         "Bachelor's Degree",
         1104,
         13413800,
         1396300,
         "Technology",
         "Male",
         "9/1/2015",
         431
        ],
        [
         "Associate's Degree",
         976,
         13876000,
         1444800,
         "Hospitality",
         "Male",
         "1/1/2013",
         432
        ],
        [
         "Associate's Degree",
         323,
         161200,
         16800,
         "Education",
         "Female",
         "5/1/1999",
         433
        ],
        [
         "Associate's Degree",
         1116,
         13399500,
         1401800,
         "Hospitality",
         "Male",
         "12/1/2015",
         434
        ],
        [
         "Bachelor's Degree",
         1096,
         13402800,
         1403100,
         "Manufacturing",
         "Male",
         "7/1/2015",
         435
        ],
        [
         "Bachelor's Degree",
         1108,
         13395600,
         1402500,
         "Technology",
         "Male",
         "10/1/2015",
         436
        ],
        [
         "College",
         1044,
         15871900,
         1662300,
         "Manufacturing",
         "Male",
         "6/1/2014",
         437
        ],
        [
         "Bachelor's Degree",
         1100,
         13398600,
         1403600,
         "Hospitality",
         "Male",
         "8/1/2015",
         438
        ],
        [
         "College",
         885,
         10993700,
         1153800,
         "Finance",
         "Female",
         "2/1/2011",
         439
        ],
        [
         "Bachelor's Degree",
         318,
         57000,
         6000,
         "Manufacturing",
         "Male",
         "4/1/1999",
         440
        ],
        [
         "High School Diploma",
         401,
         57000,
         6000,
         "Retail",
         "Female",
         "1/1/2001",
         440
        ],
        [
         "High School Diploma",
         427,
         81420,
         8580,
         "Retail",
         "Female",
         "7/1/2001",
         441
        ],
        [
         "High School Diploma",
         459,
         81420,
         8580,
         "Wholesale Trade",
         "Female",
         "3/1/2002",
         441
        ],
        [
         "High School Diploma",
         411,
         81420,
         8580,
         "Healthcare",
         "Female",
         "3/1/2001",
         441
        ],
        [
         "Bachelor's Degree",
         905,
         11024500,
         1167400,
         "Finance",
         "Female",
         "7/1/2011",
         442
        ],
        [
         "Master's Degree",
         1058,
         1148000,
         122000,
         "Agriculture",
         "Male",
         "9/1/2014",
         443
        ],
        [
         "High School Diploma",
         814,
         1148000,
         122000,
         "Agriculture",
         "Male",
         "8/1/2009",
         443
        ],
        [
         "High School Diploma",
         1142,
         1148000,
         122000,
         "Technology",
         "Male",
         "6/1/2016",
         443
        ],
        [
         "Bachelor's Degree",
         66,
         1148000,
         122000,
         "Manufacturing",
         "Male",
         "5/1/2022",
         443
        ],
        [
         "Bachelor's Degree",
         128,
         1148000,
         122000,
         "Manufacturing",
         "Male",
         "5/1/1995",
         443
        ],
        [
         "Master's Degree",
         926,
         1148000,
         122000,
         "Professional and Business S.",
         "Male",
         "12/1/2011",
         443
        ],
        [
         "Bachelor's Degree",
         587,
         1148000,
         122000,
         "Professional and Business S.",
         "Female",
         "11/1/2004",
         443
        ],
        [
         "High School",
         932,
         15891000,
         1692700,
         "Manufacturing",
         "Male",
         "2/1/2012",
         444
        ],
        [
         "High School Diploma",
         1250,
         15804800,
         1687800,
         "Retail",
         "Male",
         "9/1/2019",
         445
        ],
        [
         "High School Diploma",
         1198,
         15804800,
         1687800,
         "Retail",
         "Male",
         "8/1/2017",
         445
        ],
        [
         "High School Diploma",
         1098,
         15804800,
         1687800,
         "Professional and Business S.",
         "Male",
         "7/1/2015",
         445
        ],
        [
         "Master's Degree",
         1036,
         15804800,
         1687800,
         "Retail",
         "Male",
         "4/1/2014",
         445
        ],
        [
         "High School Diploma",
         1226,
         15804800,
         1687800,
         "Education",
         "Male",
         "3/1/2019",
         445
        ],
        [
         "High School Diploma",
         1214,
         15804800,
         1687800,
         "Agriculture",
         "Male",
         "12/1/2017",
         445
        ],
        [
         "High School Diploma",
         1302,
         15804800,
         1687800,
         "Agriculture",
         "Male",
         "10/1/2020",
         445
        ],
        [
         "High School Diploma",
         1266,
         15804800,
         1687800,
         "Agriculture",
         "Male",
         "1/1/2020",
         445
        ],
        [
         "High School Diploma",
         1122,
         15804800,
         1687800,
         "Technology",
         "Male",
         "1/1/2016",
         445
        ],
        [
         "Bachelor's Degree",
         881,
         10912500,
         1166200,
         "Retail",
         "Female",
         "1/1/2011",
         446
        ],
        [
         "Master's Degree",
         476,
         135500,
         14500,
         "Finance",
         "Male",
         "8/1/2002",
         447
        ],
        [
         "Associate's Degree",
         431,
         56000,
         6000,
         "Education",
         "Female",
         "8/1/2001",
         448
        ],
        [
         "High School Diploma",
         377,
         56000,
         6000,
         "Manufacturing",
         "Female",
         "7/1/2000",
         448
        ],
        [
         "High School Diploma",
         447,
         56000,
         6000,
         "Finance",
         "Female",
         "12/1/2001",
         448
        ],
        [
         "High School Diploma",
         397,
         56000,
         6000,
         "Energy",
         "Female",
         "12/1/2000",
         448
        ],
        [
         "High School Diploma",
         351,
         56000,
         6000,
         "Retail",
         "Female",
         "12/1/1999",
         448
        ],
        [
         "High School Diploma",
         973,
         11250400,
         1213500,
         "Financial Services",
         "Female",
         "12/1/2012",
         449
        ],
        [
         "High School",
         901,
         11047400,
         1192800,
         "Finance",
         "Female",
         "6/1/2011",
         450
        ],
        [
         "Bachelor's Degree",
         1032,
         15759400,
         1703900,
         "Technology",
         "Male",
         "3/1/2014",
         451
        ],
        [
         "College",
         897,
         11042600,
         1196800,
         "Health Care",
         "Female",
         "5/1/2011",
         452
        ],
        [
         "Associate's Degree",
         11,
         275000,
         30000,
         "Retail",
         "Female",
         "3/1/2021",
         453
        ],
        [
         "Associate's Degree",
         121,
         275000,
         30000,
         "Retail",
         "Female",
         "3/1/1995",
         453
        ],
        [
         "College",
         969,
         11233100,
         1225900,
         "Hospitality",
         "Female",
         "11/1/2012",
         454
        ],
        [
         "Bachelor's Degree",
         63,
         293000,
         32000,
         "Healthcare",
         "Female",
         "4/1/2022",
         455
        ],
        [
         "Bachelor's Degree",
         125,
         293000,
         32000,
         "Healthcare",
         "Female",
         "4/1/1995",
         455
        ],
        [
         "Master's Degree",
         818,
         11224400,
         1227200,
         "Finance",
         "Male",
         "9/1/2009",
         456
        ],
        [
         "Associate's Degree",
         530,
         11224400,
         1227200,
         "Hospitality",
         "Male",
         "9/1/2003",
         456
        ],
        [
         "Master's Degree",
         710,
         11224400,
         1227200,
         "Retail",
         "Male",
         "6/1/2007",
         456
        ],
        [
         "High School Diploma",
         662,
         11224400,
         1227200,
         "Agriculture",
         "Male",
         "6/1/2006",
         456
        ],
        [
         "Bachelor's Degree",
         850,
         11224400,
         1227200,
         "Professional and Business S.",
         "Male",
         "5/1/2010",
         456
        ],
        [
         "College",
         845,
         11224400,
         1227200,
         "Information Tech",
         "Female",
         "4/1/2010",
         456
        ],
        [
         "Master's Degree",
         654,
         11224400,
         1227200,
         "Agriculture",
         "Male",
         "4/1/2006",
         456
        ],
        [
         "Master's Degree",
         598,
         11224400,
         1227200,
         "Hospitality",
         "Male",
         "2/1/2005",
         456
        ],
        [
         "Master's Degree",
         734,
         11224400,
         1227200,
         "Retail",
         "Male",
         "12/1/2007",
         456
        ],
        [
         "High School",
         965,
         11224400,
         1227200,
         "Construction",
         "Female",
         "10/1/2012",
         456
        ],
        [
         "High School Diploma",
         726,
         11224400,
         1227200,
         "Education",
         "Male",
         "10/1/2007",
         456
        ],
        [
         "Bachelor's Degree",
         582,
         11224400,
         1227200,
         "Professional and Business S.",
         "Male",
         "10/1/2004",
         456
        ],
        [
         "Bachelor's Degree",
         882,
         11224400,
         1227200,
         "Professional and Business S.",
         "Male",
         "1/1/2011",
         456
        ],
        [
         "Master's Degree",
         690,
         11224400,
         1227200,
         "Retail",
         "Male",
         "1/1/2007",
         456
        ],
        [
         "High School Diploma",
         389,
         64000,
         7000,
         "Agriculture",
         "Female",
         "10/1/2000",
         457
        ],
        [
         "High School Diploma",
         151,
         64000,
         7000,
         "Agriculture",
         "Female",
         "10/1/1995",
         457
        ],
        [
         "Bachelor's Degree",
         1028,
         15732900,
         1721000,
         "Technology",
         "Male",
         "2/1/2014",
         458
        ],
        [
         "High School Diploma",
         112,
         712000,
         78000,
         "Retail",
         "Male",
         "1/1/1995",
         459
        ],
        [
         "High School Diploma",
         483,
         739000,
         81000,
         "Agriculture",
         "Female",
         "9/1/2002",
         460
        ],
        [
         "Master's Degree",
         10,
         739000,
         81000,
         "Finance",
         "Male",
         "3/1/2021",
         460
        ],
        [
         "Master's Degree",
         120,
         739000,
         81000,
         "Finance",
         "Male",
         "3/1/1995",
         460
        ],
        [
         "Bachelor's Degree",
         477,
         85600,
         9400,
         "Retail",
         "Female",
         "8/1/2002",
         461
        ],
        [
         "Bachelor's Degree",
         479,
         85600,
         9400,
         "Retail",
         "Female",
         "8/1/2002",
         461
        ],
        [
         "Bachelor's Degree",
         473,
         85600,
         9400,
         "Retail",
         "Female",
         "7/1/2002",
         461
        ],
        [
         "High School Diploma",
         472,
         198200,
         21800,
         "Healthcare",
         "Female",
         "7/1/2002",
         462
        ],
        [
         "Associate's Degree",
         915,
         89900,
         9900,
         "Retail",
         "Female",
         "9/1/2011",
         463
        ],
        [
         "High School Diploma",
         1002,
         89900,
         9900,
         "Hospitality",
         "Male",
         "7/1/2013",
         463
        ],
        [
         "Master's Degree",
         763,
         89900,
         9900,
         "Hospitality",
         "Female",
         "7/1/2008",
         463
        ],
        [
         "High School Diploma",
         327,
         153100,
         16900,
         "Healthcare",
         "Female",
         "6/1/1999",
         464
        ],
        [
         "High School Diploma",
         62,
         788000,
         87000,
         "Agriculture",
         "Male",
         "4/1/2022",
         465
        ],
        [
         "High School Diploma",
         124,
         788000,
         87000,
         "Agriculture",
         "Male",
         "4/1/1995",
         465
        ],
        [
         "College",
         865,
         11122700,
         1230900,
         "Finance",
         "Female",
         "9/1/2010",
         466
        ],
        [
         "Bachelor's Degree",
         849,
         11006400,
         1219200,
         "Hospitality",
         "Female",
         "5/1/2010",
         467
        ],
        [
         "Bachelor's Degree",
         500,
         130520,
         14480,
         "Agriculture",
         "Male",
         "2/1/2003",
         468
        ],
        [
         "High School",
         889,
         10925200,
         1212400,
         "Construction",
         "Female",
         "3/1/2011",
         469
        ],
        [
         "Bachelor's Degree",
         80,
         180000,
         20000,
         "Energy",
         "Male",
         "9/1/2022",
         470
        ],
        [
         "High School Diploma",
         81,
         94500,
         10500,
         "Healthcare",
         "Female",
         "9/1/2022",
         470
        ],
        [
         "Bachelor's Degree",
         82,
         126000,
         14000,
         "Manufacturing",
         "Male",
         "9/1/2022",
         470
        ],
        [
         "High School Diploma",
         83,
         81000,
         9000,
         "Retail",
         "Female",
         "9/1/2022",
         470
        ],
        [
         "Bachelor's Degree",
         34,
         171000,
         19000,
         "Energy",
         "Male",
         "9/1/2021",
         470
        ],
        [
         "High School Diploma",
         35,
         90000,
         10000,
         "Healthcare",
         "Female",
         "9/1/2021",
         470
        ],
        [
         "College",
         1152,
         121500,
         13500,
         "Hospitality",
         "Male",
         "9/1/2016",
         470
        ],
        [
         "Bachelor's Degree",
         1153,
         81000,
         9000,
         "Education",
         "Female",
         "9/1/2016",
         470
        ],
        [
         "Associate's Degree",
         1059,
         675000,
         75000,
         "Technology",
         "Female",
         "9/1/2014",
         470
        ],
        [
         "Associate's Degree",
         1011,
         121500,
         13500,
         "Technology",
         "Female",
         "9/1/2013",
         470
        ],
        [
         "Associate's Degree",
         960,
         121500,
         13500,
         "Hospitality",
         "Male",
         "9/1/2012",
         470
        ],
        [
         "High School",
         961,
         81000,
         9000,
         "Hospitality",
         "Female",
         "9/1/2012",
         470
        ],
        [
         "High School Diploma",
         673,
         81000,
         9000,
         "Education",
         "Female",
         "9/1/2006",
         470
        ],
        [
         "Associate's Degree",
         576,
         126000,
         14000,
         "Finance",
         "Male",
         "9/1/2004",
         470
        ],
        [
         "Bachelor's Degree",
         577,
         81000,
         9000,
         "Hospitality",
         "Female",
         "9/1/2004",
         470
        ],
        [
         "Associate's Degree",
         480,
         112500,
         12500,
         "Education",
         "Male",
         "9/1/2002",
         470
        ],
        [
         "High School Diploma",
         481,
         72000,
         8000,
         "Agriculture",
         "Female",
         "9/1/2002",
         470
        ],
        [
         "Associate's Degree",
         482,
         81000,
         9000,
         "Finance",
         "Male",
         "9/1/2002",
         470
        ],
        [
         "Bachelor's Degree",
         432,
         144000,
         16000,
         "Agriculture",
         "Male",
         "9/1/2001",
         470
        ],
        [
         "High School Diploma",
         433,
         76500,
         8500,
         "Healthcare",
         "Female",
         "9/1/2001",
         470
        ],
        [
         "Bachelor's Degree",
         386,
         91800,
         10200,
         "Education",
         "Male",
         "9/1/2000",
         470
        ],
        [
         "High School Diploma",
         387,
         126900,
         14100,
         "Energy",
         "Female",
         "9/1/2000",
         470
        ],
        [
         "Bachelor's Degree",
         336,
         171000,
         19000,
         "Energy",
         "Male",
         "9/1/1999",
         470
        ],
        [
         "High School Diploma",
         337,
         90000,
         10000,
         "Healthcare",
         "Female",
         "9/1/1999",
         470
        ],
        [
         "High School Diploma",
         290,
         135000,
         15000,
         "Education",
         "Male",
         "9/1/1998",
         470
        ],
        [
         "Associate's Degree",
         291,
         85500,
         9500,
         "Energy",
         "Female",
         "9/1/1998",
         470
        ],
        [
         "High School Diploma",
         144,
         99000,
         11000,
         "Wholesale Trade",
         "Male",
         "9/1/1995",
         470
        ],
        [
         "Bachelor's Degree",
         145,
         72000,
         8000,
         "Healthcare",
         "Female",
         "9/1/1995",
         470
        ],
        [
         "Bachelor's Degree",
         146,
         126000,
         14000,
         "Manufacturing",
         "Male",
         "9/1/1995",
         470
        ],
        [
         "High School Diploma",
         147,
         81000,
         9000,
         "Retail",
         "Female",
         "9/1/1995",
         470
        ],
        [
         "Master's Degree",
         76,
         99000,
         11000,
         "Finance",
         "Male",
         "8/1/2022",
         470
        ],
        [
         "Associate's Degree",
         77,
         67500,
         7500,
         "Education",
         "Female",
         "8/1/2022",
         470
        ],
        [
         "Bachelor's Degree",
         79,
         85500,
         9500,
         "Retail",
         "Female",
         "8/1/2022",
         470
        ],
        [
         "Master's Degree",
         28,
         117000,
         13000,
         "Retail",
         "Male",
         "8/1/2021",
         470
        ],
        [
         "Associate's Degree",
         29,
         76500,
         8500,
         "Hospitality",
         "Female",
         "8/1/2021",
         470
        ],
        [
         "High School Diploma",
         815,
         675000,
         75000,
         "Professional and Business S.",
         "Female",
         "8/1/2009",
         470
        ],
        [
         "Associate's Degree",
         572,
         180000,
         20000,
         "Hospitality",
         "Male",
         "8/1/2004",
         470
        ],
        [
         "Bachelor's Degree",
         573,
         94500,
         10500,
         "Energy",
         "Female",
         "8/1/2004",
         470
        ],
        [
         "Master's Degree",
         428,
         103500,
         11500,
         "Finance",
         "Male",
         "8/1/2001",
         470
        ],
        [
         "Associate's Degree",
         429,
         67500,
         7500,
         "Education",
         "Female",
         "8/1/2001",
         470
        ],
        [
         "Master's Degree",
         332,
         103500,
         11500,
         "Finance",
         "Male",
         "8/1/1999",
         470
        ],
        [
         "Associate's Degree",
         333,
         67500,
         7500,
         "Education",
         "Female",
         "8/1/1999",
         470
        ],
        [
         "Bachelor's Degree",
         140,
         1296000,
         144000,
         "Manufacturing",
         "Male",
         "8/1/1995",
         470
        ],
        [
         "High School",
         141,
         810000,
         90000,
         "Retail",
         "Female",
         "8/1/1995",
         470
        ],
        [
         "Bachelor's Degree",
         142,
         180000,
         20000,
         "Energy",
         "Male",
         "8/1/1995",
         470
        ],
        [
         "High School Diploma",
         143,
         94500,
         10500,
         "Healthcare",
         "Female",
         "8/1/1995",
         470
        ],
        [
         "Bachelor's Degree",
         72,
         117000,
         13000,
         "Manufacturing",
         "Male",
         "7/1/2022",
         470
        ],
        [
         "High School Diploma",
         73,
         76500,
         8500,
         "Healthcare",
         "Female",
         "7/1/2022",
         470
        ],
        [
         "High School Diploma",
         74,
         882000,
         98000,
         "Agriculture",
         "Male",
         "7/1/2022",
         470
        ],
        [
         "Bachelor's Degree",
         75,
         373500,
         41500,
         "Healthcare",
         "Female",
         "7/1/2022",
         470
        ],
        [
         "Bachelor's Degree",
         24,
         108000,
         12000,
         "Tech",
         "Male",
         "7/1/2021",
         470
        ],
        [
         "High School Diploma",
         25,
         90000,
         10000,
         "Education",
         "Female",
         "7/1/2021",
         470
        ],
        [
         "High School Diploma",
         26,
         882000,
         98000,
         "Agriculture",
         "Male",
         "7/1/2021",
         470
        ],
        [
         "Bachelor's Degree",
         27,
         373500,
         41500,
         "Healthcare",
         "Female",
         "7/1/2021",
         470
        ],
        [
         "Associate's Degree",
         1192,
         121500,
         13500,
         "Technology",
         "Male",
         "7/1/2017",
         470
        ],
        [
         "Bachelor's Degree",
         1193,
         81000,
         9000,
         "Retail",
         "Female",
         "7/1/2017",
         470
        ],
        [
         "Master's Degree",
         906,
         207000,
         23000,
         "Professional and Business S.",
         "Male",
         "7/1/2011",
         470
        ],
        [
         "Associate's Degree",
         907,
         108000,
         12000,
         "Energy",
         "Female",
         "7/1/2011",
         470
        ],
        [
         "Associate's Degree",
         760,
         131400,
         14600,
         "Technology",
         "Male",
         "7/1/2008",
         470
        ],
        [
         "Bachelor's Degree",
         761,
         188550,
         20950,
         "Retail",
         "Female",
         "7/1/2008",
         470
        ],
        [
         "Associate's Degree",
         664,
         144000,
         16000,
         "Energy",
         "Male",
         "7/1/2006",
         470
        ],
        [
         "Bachelor's Degree",
         665,
         76500,
         8500,
         "Finance",
         "Female",
         "7/1/2006",
         470
        ],
        [
         "Bachelor's Degree",
         424,
         126000,
         14000,
         "Manufacturing",
         "Male",
         "7/1/2001",
         470
        ],
        [
         "High School Diploma",
         425,
         94500,
         10500,
         "Retail",
         "Female",
         "7/1/2001",
         470
        ],
        [
         "Bachelor's Degree",
         328,
         126000,
         14000,
         "Manufacturing",
         "Male",
         "7/1/1999",
         470
        ],
        [
         "High School Diploma",
         329,
         94500,
         10500,
         "Retail",
         "Female",
         "7/1/1999",
         470
        ],
        [
         "High School Diploma",
         136,
         882000,
         98000,
         "Agriculture",
         "Male",
         "7/1/1995",
         470
        ],
        [
         "Bachelor's Degree",
         137,
         373500,
         41500,
         "Healthcare",
         "Female",
         "7/1/1995",
         470
        ],
        [
         "Bachelor's Degree",
         138,
         126000,
         14000,
         "Manufacturing",
         "Male",
         "7/1/1995",
         470
        ],
        [
         "High School Diploma",
         139,
         94500,
         10500,
         "Retail",
         "Female",
         "7/1/1995",
         470
        ],
        [
         "Bachelor's Degree",
         68,
         144000,
         16000,
         "Energy",
         "Male",
         "6/1/2022",
         470
        ],
        [
         "High School Diploma",
         69,
         76500,
         8500,
         "Retail",
         "Female",
         "6/1/2022",
         470
        ],
        [
         "Bachelor's Degree",
         20,
         153000,
         17000,
         "Finance",
         "Male",
         "6/1/2021",
         470
        ],
        [
         "High School Diploma",
         21,
         72000,
         8000,
         "Healthcare",
         "Female",
         "6/1/2021",
         470
        ],
        [
         "High School",
         1284,
         121500,
         13500,
         "Technology",
         "Male",
         "6/1/2020",
         470
        ],
        [
         "Bachelor's Degree",
         1285,
         81000,
         9000,
         "Retail",
         "Female",
         "6/1/2020",
         470
        ],
        [
         "Master's Degree",
         1143,
         675000,
         75000,
         "Retail",
         "Female",
         "6/1/2016",
         470
        ],
        [
         "High School Diploma",
         1046,
         207000,
         23000,
         "Technology",
         "Male",
         "6/1/2014",
         470
        ],
        [
         "Master's Degree",
         1047,
         108000,
         12000,
         "Retail",
         "Female",
         "6/1/2014",
         470
        ],
        [
         "Master's Degree",
         756,
         108000,
         12000,
         "Technology",
         "Male",
         "6/1/2008",
         470
        ],
        [
         "Associate's Degree",
         757,
         186750,
         20750,
         "Retail",
         "Female",
         "6/1/2008",
         470
        ],
        [
         "Bachelor's Degree",
         660,
         126000,
         14000,
         "Finance",
         "Male",
         "6/1/2006",
         470
        ],
        [
         "High School Diploma",
         661,
         94500,
         10500,
         "Hospitality",
         "Female",
         "6/1/2006",
         470
        ],
        [
         "High School Diploma",
         614,
         207000,
         23000,
         "Energy",
         "Male",
         "6/1/2005",
         470
        ],
        [
         "High School Diploma",
         615,
         108000,
         12000,
         "Finance",
         "Female",
         "6/1/2005",
         470
        ],
        [
         "Associate's Degree",
         468,
         132300,
         14700,
         "Finance",
         "Male",
         "6/1/2002",
         470
        ],
        [
         "High School Diploma",
         469,
         79200,
         8800,
         "Education",
         "Female",
         "6/1/2002",
         470
        ],
        [
         "Bachelor's Degree",
         420,
         171000,
         19000,
         "Energy",
         "Male",
         "6/1/2001",
         470
        ],
        [
         "High School Diploma",
         421,
         90000,
         10000,
         "Healthcare",
         "Female",
         "6/1/2001",
         470
        ],
        [
         "Master's Degree",
         374,
         121500,
         13500,
         "Manufacturing",
         "Male",
         "6/1/2000",
         470
        ],
        [
         "High School Diploma",
         375,
         81000,
         9000,
         "Retail",
         "Female",
         "6/1/2000",
         470
        ],
        [
         "Bachelor's Degree",
         324,
         144000,
         16000,
         "Agriculture",
         "Male",
         "6/1/1999",
         470
        ],
        [
         "High School Diploma",
         325,
         76500,
         8500,
         "Healthcare",
         "Female",
         "6/1/1999",
         470
        ],
        [
         "Bachelor's Degree",
         180,
         144000,
         16000,
         "Manufacturing",
         "Male",
         "6/1/1996",
         470
        ],
        [
         "High School Diploma",
         181,
         76500,
         8500,
         "Healthcare",
         "Female",
         "6/1/1996",
         470
        ],
        [
         "Master's Degree",
         132,
         805500,
         89500,
         "Finance",
         "Male",
         "6/1/1995",
         470
        ],
        [
         "Associate's Degree",
         133,
         364500,
         40500,
         "Education",
         "Female",
         "6/1/1995",
         470
        ],
        [
         "Bachelor's Degree",
         64,
         103500,
         11500,
         "Technology",
         "Male",
         "5/1/2022",
         470
        ],
        [
         "Associate's Degree",
         65,
         63000,
         7000,
         "Education",
         "Female",
         "5/1/2022",
         470
        ],
        [
         "High School Diploma",
         67,
         675000,
         75000,
         "Retail",
         "Female",
         "5/1/2022",
         470
        ],
        [
         "Master's Degree",
         16,
         99000,
         11000,
         "Manufacturing",
         "Male",
         "5/1/2021",
         470
        ],
        [
         "High School Diploma",
         18,
         162000,
         18000,
         "Retail",
         "Male",
         "5/1/2021",
         470
        ],
        [
         "Bachelor's Degree",
         19,
         94500,
         10500,
         "Manufacturing",
         "Female",
         "5/1/2021",
         470
        ],
        [
         "Bachelor's Degree",
         1187,
         81000,
         9000,
         "Manufacturing",
         "Female",
         "5/1/2017",
         470
        ],
        [
         "Bachelor's Degree",
         1040,
         121500,
         13500,
         "Transportation and Utilities",
         "Male",
         "5/1/2014",
         470
        ],
        [
         "High School",
         1041,
         81000,
         9000,
         "Trade, Transportation, and Utilities",
         "Female",
         "5/1/2014",
         470
        ],
        [
         "Bachelor's Degree",
         752,
         128700,
         14300,
         "Hospitality",
         "Male",
         "5/1/2008",
         470
        ],
        [
         "High School Diploma",
         753,
         185400,
         20600,
         "Finance",
         "Female",
         "5/1/2008",
         470
        ],
        [
         "Associate's Degree",
         755,
         207000,
         23000,
         "Manufacturing",
         "Female",
         "5/1/2008",
         470
        ],
        [
         "Bachelor's Degree",
         704,
         121500,
         13500,
         "Manufacturing",
         "Male",
         "5/1/2007",
         470
        ],
        [
         "High School Diploma",
         705,
         81000,
         9000,
         "Retail",
         "Female",
         "5/1/2007",
         470
        ],
        [
         "Bachelor's Degree",
         656,
         103500,
         11500,
         "Finance",
         "Male",
         "5/1/2006",
         470
        ],
        [
         "Associate's Degree",
         657,
         67500,
         7500,
         "Education",
         "Female",
         "5/1/2006",
         470
        ],
        [
         "High School Diploma",
         464,
         162000,
         18000,
         "Retail",
         "Male",
         "5/1/2002",
         470
        ],
        [
         "Bachelor's Degree",
         465,
         94500,
         10500,
         "Manufacturing",
         "Female",
         "5/1/2002",
         470
        ],
        [
         "Master's Degree",
         416,
         126000,
         14000,
         "Finance",
         "Male",
         "5/1/2001",
         470
        ],
        [
         "Associate's Degree",
         417,
         81000,
         9000,
         "Education",
         "Female",
         "5/1/2001",
         470
        ],
        [
         "Master's Degree",
         320,
         103500,
         11500,
         "Finance",
         "Male",
         "5/1/1999",
         470
        ],
        [
         "Associate's Degree",
         321,
         67500,
         7500,
         "Education",
         "Female",
         "5/1/1999",
         470
        ],
        [
         "Master's Degree",
         274,
         121500,
         13500,
         "Healthcare",
         "Male",
         "5/1/1998",
         470
        ],
        [
         "High School Diploma",
         275,
         85500,
         9500,
         "Retail",
         "Female",
         "5/1/1998",
         470
        ],
        [
         "Associate's Degree",
         176,
         103500,
         11500,
         "Retail",
         "Male",
         "5/1/1996",
         470
        ],
        [
         "High School Diploma",
         177,
         67500,
         7500,
         "Finance",
         "Female",
         "5/1/1996",
         470
        ],
        [
         "Associate's Degree",
         178,
         85500,
         9500,
         "Retail",
         "Male",
         "5/1/1996",
         470
        ],
        [
         "Bachelor's Degree",
         108,
         171000,
         19000,
         "Energy",
         "Male",
         "4/1/2023",
         470
        ],
        [
         "Bachelor's Degree",
         109,
         90000,
         10000,
         "Healthcare",
         "Female",
         "4/1/2023",
         470
        ],
        [
         "High School Diploma",
         110,
         121500,
         13500,
         "Agriculture",
         "Male",
         "4/1/2023",
         470
        ],
        [
         "Bachelor's Degree",
         111,
         85500,
         9500,
         "Wholesale Trade",
         "Female",
         "4/1/2023",
         470
        ],
        [
         "Bachelor's Degree",
         60,
         121500,
         13500,
         "Manufacturing",
         "Male",
         "4/1/2022",
         470
        ],
        [
         "High School Diploma",
         61,
         81000,
         9000,
         "Healthcare",
         "Female",
         "4/1/2022",
         470
        ],
        [
         "Bachelor's Degree",
         12,
         117000,
         13000,
         "Hospitality",
         "Male",
         "4/1/2021",
         470
        ],
        [
         "High School Diploma",
         13,
         85500,
         9500,
         "Agriculture",
         "Female",
         "4/1/2021",
         470
        ],
        [
         "High School Diploma",
         14,
         121500,
         13500,
         "Agriculture",
         "Male",
         "4/1/2021",
         470
        ],
        [
         "Bachelor's Degree",
         15,
         85500,
         9500,
         "Healthcare",
         "Female",
         "4/1/2021",
         470
        ],
        [
         "Bachelor's Degree",
         1180,
         108000,
         12000,
         "Financial Services",
         "Male",
         "4/1/2017",
         470
        ],
        [
         "Associate's Degree",
         988,
         121500,
         13500,
         "Hospitality",
         "Male",
         "4/1/2013",
         470
        ],
        [
         "Master's Degree",
         989,
         81000,
         9000,
         "Manufacturing",
         "Female",
         "4/1/2013",
         470
        ],
        [
         "Bachelor's Degree",
         748,
         126900,
         14100,
         "Energy",
         "Male",
         "4/1/2008",
         470
        ],
        [
         "Bachelor's Degree",
         749,
         182700,
         20300,
         "Finance",
         "Female",
         "4/1/2008",
         470
        ],
        [
         "Bachelor's Degree",
         652,
         144000,
         16000,
         "Manufacturing",
         "Male",
         "4/1/2006",
         470
        ],
        [
         "High School Diploma",
         653,
         76500,
         8500,
         "Retail",
         "Female",
         "4/1/2006",
         470
        ],
        [
         "Master's Degree",
         604,
         121500,
         13500,
         "Manufacturing",
         "Male",
         "4/1/2005",
         470
        ],
        [
         "Associate's Degree",
         605,
         81000,
         9000,
         "Healthcare",
         "Female",
         "4/1/2005",
         470
        ],
        [
         "Master's Degree",
         460,
         144900,
         16100,
         "Healthcare",
         "Male",
         "4/1/2002",
         470
        ],
        [
         "Bachelor's Degree",
         461,
         78300,
         8700,
         "Agriculture",
         "Female",
         "4/1/2002",
         470
        ],
        [
         "Bachelor's Degree",
         412,
         153000,
         17000,
         "Manufacturing",
         "Male",
         "4/1/2001",
         470
        ],
        [
         "High School Diploma",
         413,
         115200,
         12800,
         "Retail",
         "Female",
         "4/1/2001",
         470
        ],
        [
         "Bachelor's Degree",
         316,
         126000,
         14000,
         "Manufacturing",
         "Male",
         "4/1/1999",
         470
        ],
        [
         "High School Diploma",
         317,
         94500,
         10500,
         "Retail",
         "Female",
         "4/1/1999",
         470
        ],
        [
         "High School Diploma",
         172,
         121500,
         13500,
         "Agriculture",
         "Male",
         "4/1/1996",
         470
        ],
        [
         "Bachelor's Degree",
         173,
         85500,
         9500,
         "Healthcare",
         "Female",
         "4/1/1996",
         470
        ],
        [
         "Bachelor's Degree",
         126,
         126000,
         14000,
         "Wholesale Trade",
         "Male",
         "4/1/1995",
         470
        ],
        [
         "High School Diploma",
         127,
         94500,
         10500,
         "Retail",
         "Female",
         "4/1/1995",
         470
        ],
        [
         "Master's Degree",
         104,
         112500,
         12500,
         "Finance",
         "Male",
         "3/1/2023",
         470
        ],
        [
         "Associate's Degree",
         105,
         67500,
         7500,
         "Education",
         "Female",
         "3/1/2023",
         470
        ],
        [
         "Bachelor's Degree",
         56,
         162000,
         18000,
         "Energy",
         "Male",
         "3/1/2022",
         470
        ],
        [
         "High School Diploma",
         57,
         85500,
         9500,
         "Retail",
         "Female",
         "3/1/2022",
         470
        ],
        [
         "Bachelor's Degree",
         58,
         207000,
         23000,
         "Agriculture",
         "Male",
         "3/1/2022",
         470
        ],
        [
         "High School Diploma",
         59,
         108000,
         12000,
         "Healthcare",
         "Female",
         "3/1/2022",
         470
        ],
        [
         "Bachelor's Degree",
         8,
         162000,
         18000,
         "Energy",
         "Male",
         "3/1/2021",
         470
        ],
        [
         "High School Diploma",
         9,
         81000,
         9000,
         "Education",
         "Female",
         "3/1/2021",
         470
        ],
        [
         "Master's Degree",
         1179,
         207000,
         23000,
         "Retail",
         "Female",
         "3/1/2017",
         470
        ],
        [
         "Master's Degree",
         986,
         207000,
         23000,
         "Professional and Business S.",
         "Male",
         "3/1/2013",
         470
        ],
        [
         "Associate's Degree",
         987,
         108000,
         12000,
         "Energy",
         "Female",
         "3/1/2013",
         470
        ],
        [
         "Bachelor's Degree",
         744,
         125100,
         13900,
         "Technology",
         "Male",
         "3/1/2008",
         470
        ],
        [
         "High School Diploma",
         745,
         180900,
         20100,
         "Retail",
         "Female",
         "3/1/2008",
         470
        ],
        [
         "Bachelor's Degree",
         697,
         63000,
         7000,
         "Retail",
         "Female",
         "3/1/2007",
         470
        ],
        [
         "Bachelor's Degree",
         600,
         144000,
         16000,
         "Finance",
         "Male",
         "3/1/2005",
         470
        ],
        [
         "High School Diploma",
         601,
         76500,
         8500,
         "Hospitality",
         "Female",
         "3/1/2005",
         470
        ],
        [
         "Bachelor's Degree",
         504,
         108000,
         12000,
         "Wholesale Trade",
         "Male",
         "3/1/2003",
         470
        ],
        [
         "Associate's Degree",
         505,
         112500,
         12500,
         "Education",
         "Male",
         "3/1/2003",
         470
        ],
        [
         "Associate's Degree",
         456,
         130500,
         14500,
         "Finance",
         "Male",
         "3/1/2002",
         470
        ],
        [
         "High School Diploma",
         457,
         78300,
         8700,
         "Education",
         "Female",
         "3/1/2002",
         470
        ],
        [
         "Bachelor's Degree",
         408,
         207000,
         23000,
         "Wholesale Trade",
         "Male",
         "3/1/2001",
         470
        ],
        [
         "High School Diploma",
         409,
         108000,
         12000,
         "Healthcare",
         "Female",
         "3/1/2001",
         470
        ],
        [
         "Bachelor's Degree",
         313,
         162000,
         18000,
         "Energy",
         "Male",
         "3/1/1999",
         470
        ],
        [
         "Master's Degree",
         168,
         135000,
         15000,
         "Education",
         "Male",
         "3/1/1996",
         470
        ],
        [
         "High School Diploma",
         169,
         63000,
         7000,
         "Energy",
         "Female",
         "3/1/1996",
         470
        ],
        [
         "Bachelor's Degree",
         100,
         135000,
         15000,
         "Manufacturing",
         "Male",
         "2/1/2023",
         470
        ],
        [
         "Associate's Degree",
         102,
         108000,
         12000,
         "Manufacturing",
         "Male",
         "2/1/2023",
         470
        ],
        [
         "High School Diploma",
         103,
         76500,
         8500,
         "Finance",
         "Female",
         "2/1/2023",
         470
        ],
        [
         "Master's Degree",
         52,
         108000,
         12000,
         "Finance",
         "Male",
         "2/1/2022",
         470
        ],
        [
         "Associate's Degree",
         53,
         67500,
         7500,
         "Education",
         "Female",
         "2/1/2022",
         470
        ],
        [
         "Associate's Degree",
         5,
         72000,
         8000,
         "Healthcare",
         "Female",
         "2/1/2021",
         470
        ],
        [
         "Bachelor's Degree",
         6,
         162000,
         18000,
         "Energy",
         "Male",
         "2/1/2021",
         470
        ],
        [
         "High School Diploma",
         7,
         85500,
         9500,
         "Retail",
         "Female",
         "2/1/2021",
         470
        ],
        [
         "Bachelor's Degree",
         740,
         121500,
         13500,
         "Hospitality",
         "Male",
         "2/1/2008",
         470
        ],
        [
         "High School Diploma",
         741,
         177750,
         19750,
         "Education",
         "Female",
         "2/1/2008",
         470
        ],
        [
         "High School Diploma",
         693,
         76500,
         8500,
         "Finance",
         "Female",
         "2/1/2007",
         470
        ],
        [
         "Master's Degree",
         596,
         103500,
         11500,
         "Energy",
         "Male",
         "2/1/2005",
         470
        ],
        [
         "Associate's Degree",
         597,
         67500,
         7500,
         "Education",
         "Female",
         "2/1/2005",
         470
        ],
        [
         "Associate's Degree",
         501,
         81000,
         9000,
         "Healthcare",
         "Female",
         "2/1/2003",
         470
        ],
        [
         "High School Diploma",
         452,
         160200,
         17800,
         "Manufacturing",
         "Male",
         "2/1/2002",
         470
        ],
        [
         "Bachelor's Degree",
         453,
         92700,
         10300,
         "Retail",
         "Female",
         "2/1/2002",
         470
        ],
        [
         "Associate's Degree",
         164,
         108000,
         12000,
         "Manufacturing",
         "Male",
         "2/1/1996",
         470
        ],
        [
         "High School Diploma",
         165,
         76500,
         8500,
         "Finance",
         "Female",
         "2/1/1996",
         470
        ],
        [
         "Bachelor's Degree",
         92,
         153000,
         17000,
         "Agriculture",
         "Male",
         "12/1/2022",
         470
        ],
        [
         "High School Diploma",
         93,
         81000,
         9000,
         "Healthcare",
         "Female",
         "12/1/2022",
         470
        ],
        [
         "Bachelor's Degree",
         44,
         144000,
         16000,
         "Agriculture",
         "Male",
         "12/1/2021",
         470
        ],
        [
         "High School Diploma",
         45,
         76500,
         8500,
         "Healthcare",
         "Female",
         "12/1/2021",
         470
        ],
        [
         "Bachelor's Degree",
         46,
         171000,
         19000,
         "Energy",
         "Male",
         "12/1/2021",
         470
        ],
        [
         "High School Diploma",
         47,
         90000,
         10000,
         "Healthcare",
         "Female",
         "12/1/2021",
         470
        ],
        [
         "High School Diploma",
         1118,
         207000,
         23000,
         "Finance",
         "Male",
         "12/1/2015",
         470
        ],
        [
         "Master's Degree",
         1119,
         108000,
         12000,
         "Professional and Business S.",
         "Female",
         "12/1/2015",
         470
        ],
        [
         "Master's Degree",
         1071,
         207000,
         23000,
         "Hospitality",
         "Female",
         "12/1/2014",
         470
        ],
        [
         "Associate's Degree",
         927,
         675000,
         75000,
         "Energy",
         "Female",
         "12/1/2011",
         470
        ],
        [
         "Bachelor's Degree",
         780,
         121500,
         13500,
         "Finance",
         "Male",
         "12/1/2008",
         470
        ],
        [
         "High School Diploma",
         781,
         81000,
         9000,
         "Finance",
         "Female",
         "12/1/2008",
         470
        ],
        [
         "Bachelor's Degree",
         732,
         118800,
         13200,
         "Hospitality",
         "Male",
         "12/1/2007",
         470
        ],
        [
         "High School Diploma",
         733,
         167400,
         18600,
         "Healthcare",
         "Female",
         "12/1/2007",
         470
        ],
        [
         "High School Diploma",
         685,
         94500,
         10500,
         "Retail",
         "Female",
         "12/1/2006",
         470
        ],
        [
         "Associate's Degree",
         636,
         117000,
         13000,
         "Energy",
         "Male",
         "12/1/2005",
         470
        ],
        [
         "Bachelor's Degree",
         637,
         85500,
         9500,
         "Healthcare",
         "Female",
         "12/1/2005",
         470
        ],
        [
         "Bachelor's Degree",
         588,
         675000,
         75000,
         "Finance",
         "Male",
         "12/1/2004",
         470
        ],
        [
         "High School Diploma",
         589,
         90000,
         10000,
         "Hospitality",
         "Female",
         "12/1/2004",
         470
        ],
        [
         "Associate's Degree",
         540,
         121500,
         13500,
         "Energy",
         "Male",
         "12/1/2003",
         470
        ],
        [
         "Bachelor's Degree",
         541,
         81000,
         9000,
         "Finance",
         "Female",
         "12/1/2003",
         470
        ],
        [
         "High School Diploma",
         492,
         99000,
         11000,
         "Education",
         "Male",
         "12/1/2002",
         470
        ],
        [
         "Bachelor's Degree",
         493,
         63000,
         7000,
         "Healthcare",
         "Female",
         "12/1/2002",
         470
        ],
        [
         "Associate's Degree",
         444,
         126900,
         14100,
         "Education",
         "Male",
         "12/1/2001",
         470
        ],
        [
         "High School Diploma",
         445,
         81000,
         9000,
         "Finance",
         "Female",
         "12/1/2001",
         470
        ],
        [
         "High School Diploma",
         399,
         91800,
         10200,
         "Energy",
         "Female",
         "12/1/2000",
         470
        ],
        [
         "Bachelor's Degree",
         156,
         126000,
         14000,
         "Wholesale Trade",
         "Male",
         "12/1/1995",
         470
        ],
        [
         "High School Diploma",
         157,
         67500,
         7500,
         "Healthcare",
         "Female",
         "12/1/1995",
         470
        ],
        [
         "High School Diploma",
         159,
         94500,
         10500,
         "Retail",
         "Female",
         "12/1/1995",
         470
        ],
        [
         "Associate's Degree",
         89,
         72000,
         8000,
         "Education",
         "Female",
         "11/1/2022",
         470
        ],
        [
         "Master's Degree",
         40,
         103500,
         11500,
         "Finance",
         "Male",
         "11/1/2021",
         470
        ],
        [
         "Associate's Degree",
         41,
         67500,
         7500,
         "Education",
         "Female",
         "11/1/2021",
         470
        ],
        [
         "Bachelor's Degree",
         42,
         135000,
         15000,
         "Manufacturing",
         "Male",
         "11/1/2021",
         470
        ],
        [
         "High School Diploma",
         43,
         103500,
         11500,
         "Retail",
         "Female",
         "11/1/2021",
         470
        ],
        [
         "College",
         1256,
         81000,
         9000,
         "Technology",
         "Male",
         "11/1/2019",
         470
        ],
        [
         "Master's Degree",
         1115,
         81000,
         9000,
         "Energy",
         "Female",
         "11/1/2015",
         470
        ],
        [
         "Bachelor's Degree",
         1064,
         121500,
         13500,
         "Manufacturing",
         "Male",
         "11/1/2014",
         470
        ],
        [
         "College",
         1065,
         81000,
         9000,
         "Technology",
         "Female",
         "11/1/2014",
         470
        ],
        [
         "Bachelor's Degree",
         681,
         67500,
         7500,
         "Healthcare",
         "Female",
         "11/1/2006",
         470
        ],
        [
         "Bachelor's Degree",
         584,
         144000,
         16000,
         "Hospitality",
         "Male",
         "11/1/2004",
         470
        ],
        [
         "High School Diploma",
         585,
         76500,
         8500,
         "Energy",
         "Female",
         "11/1/2004",
         470
        ],
        [
         "Master's Degree",
         536,
         108000,
         12000,
         "Energy",
         "Male",
         "11/1/2003",
         470
        ],
        [
         "Master's Degree",
         488,
         121500,
         13500,
         "Energy",
         "Male",
         "11/1/2002",
         470
        ],
        [
         "Associate's Degree",
         489,
         81000,
         9000,
         "Retail",
         "Female",
         "11/1/2002",
         470
        ],
        [
         "High School Diploma",
         440,
         155700,
         17300,
         "Healthcare",
         "Male",
         "11/1/2001",
         470
        ],
        [
         "Bachelor's Degree",
         441,
         91800,
         10200,
         "Wholesale Trade",
         "Female",
         "11/1/2001",
         470
        ],
        [
         "Associate's Degree",
         152,
         94500,
         10500,
         "Education",
         "Male",
         "11/1/1995",
         470
        ],
        [
         "High School Diploma",
         153,
         63000,
         7000,
         "Energy",
         "Female",
         "11/1/1995",
         470
        ],
        [
         "Bachelor's Degree",
         84,
         130500,
         14500,
         "Manufacturing",
         "Male",
         "10/1/2022",
         470
        ],
        [
         "High School Diploma",
         85,
         99000,
         11000,
         "Retail",
         "Female",
         "10/1/2022",
         470
        ],
        [
         "Bachelor's Degree",
         36,
         126000,
         14000,
         "Manufacturing",
         "Male",
         "10/1/2021",
         470
        ],
        [
         "High School Diploma",
         37,
         94500,
         10500,
         "Retail",
         "Female",
         "10/1/2021",
         470
        ],
        [
         "Master's Degree",
         1255,
         121500,
         13500,
         "Manufacturing",
         "Female",
         "10/1/2019",
         470
        ],
        [
         "High School",
         1012,
         81000,
         9000,
         "Retail",
         "Male",
         "10/1/2013",
         470
        ],
        [
         "Bachelor's Degree",
         677,
         72000,
         8000,
         "Finance",
         "Female",
         "10/1/2006",
         470
        ],
        [
         "Bachelor's Degree",
         580,
         103500,
         11500,
         "Finance",
         "Male",
         "10/1/2004",
         470
        ],
        [
         "High School Diploma",
         581,
         67500,
         7500,
         "Education",
         "Female",
         "10/1/2004",
         470
        ],
        [
         "Associate's Degree",
         535,
         207000,
         23000,
         "Hospitality",
         "Female",
         "10/1/2003",
         470
        ],
        [
         "Bachelor's Degree",
         484,
         162000,
         18000,
         "Manufacturing",
         "Male",
         "10/1/2002",
         470
        ],
        [
         "High School Diploma",
         485,
         85500,
         9500,
         "Healthcare",
         "Female",
         "10/1/2002",
         470
        ],
        [
         "Bachelor's Degree",
         436,
         171000,
         19000,
         "Manufacturing",
         "Male",
         "10/1/2001",
         470
        ],
        [
         "High School Diploma",
         437,
         108000,
         12000,
         "Retail",
         "Female",
         "10/1/2001",
         470
        ],
        [
         "Bachelor's Degree",
         390,
         155700,
         17300,
         "Finance",
         "Male",
         "10/1/2000",
         470
        ],
        [
         "High School Diploma",
         391,
         91800,
         10200,
         "Agriculture",
         "Female",
         "10/1/2000",
         470
        ],
        [
         "Bachelor's Degree",
         340,
         126000,
         14000,
         "Manufacturing",
         "Male",
         "10/1/1999",
         470
        ],
        [
         "High School Diploma",
         341,
         94500,
         10500,
         "Retail",
         "Female",
         "10/1/1999",
         470
        ],
        [
         "High School Diploma",
         343,
         121500,
         13500,
         "Retail",
         "Female",
         "10/1/1999",
         470
        ],
        [
         "High School Diploma",
         148,
         112500,
         12500,
         "Manufacturing",
         "Male",
         "10/1/1995",
         470
        ],
        [
         "Master's Degree",
         149,
         85500,
         9500,
         "Finance",
         "Female",
         "10/1/1995",
         470
        ],
        [
         "Bachelor's Degree",
         96,
         117000,
         13000,
         "Technology",
         "Male",
         "1/1/2023",
         470
        ],
        [
         "High School Diploma",
         97,
         76500,
         8500,
         "Retail",
         "Female",
         "1/1/2023",
         470
        ],
        [
         "Bachelor's Degree",
         98,
         94500,
         10500,
         "Retail",
         "Male",
         "1/1/2023",
         470
        ],
        [
         "High School Diploma",
         99,
         67500,
         7500,
         "Education",
         "Female",
         "1/1/2023",
         470
        ],
        [
         "Bachelor's Degree",
         48,
         112500,
         12500,
         "Technology",
         "Male",
         "1/1/2022",
         470
        ],
        [
         "Bachelor's Degree",
         50,
         117000,
         13000,
         "Retail",
         "Male",
         "1/1/2022",
         470
        ],
        [
         "High School Diploma",
         51,
         81000,
         9000,
         "Healthcare",
         "Female",
         "1/1/2022",
         470
        ],
        [
         "Bachelor's Degree",
         0,
         90000,
         10000,
         "Tech",
         "Male",
         "1/1/2021",
         470
        ],
        [
         "High School Diploma",
         1,
         135000,
         15000,
         "Retail",
         "Female",
         "1/1/2021",
         470
        ],
        [
         "Associate's Degree",
         2,
         108000,
         12000,
         "Manufacturing",
         "Male",
         "1/1/2021",
         470
        ],
        [
         "High School Diploma",
         3,
         76500,
         8500,
         "Finance",
         "Female",
         "1/1/2021",
         470
        ],
        [
         "College",
         1072,
         108000,
         12000,
         "Professional and Business S.",
         "Male",
         "1/1/2015",
         470
        ],
        [
         "Master's Degree",
         928,
         121500,
         13500,
         "Hospitality",
         "Male",
         "1/1/2012",
         470
        ],
        [
         "High School",
         929,
         81000,
         9000,
         "Hospitality",
         "Female",
         "1/1/2012",
         470
        ],
        [
         "Bachelor's Degree",
         736,
         115650,
         12850,
         "Energy",
         "Male",
         "1/1/2008",
         470
        ],
        [
         "High School Diploma",
         737,
         174600,
         19400,
         "Finance",
         "Female",
         "1/1/2008",
         470
        ],
        [
         "High School Diploma",
         689,
         85500,
         9500,
         "Education",
         "Female",
         "1/1/2007",
         470
        ],
        [
         "Master's Degree",
         640,
         94500,
         10500,
         "Retail",
         "Male",
         "1/1/2006",
         470
        ],
        [
         "High School Diploma",
         641,
         67500,
         7500,
         "Education",
         "Female",
         "1/1/2006",
         470
        ],
        [
         "Bachelor's Degree",
         592,
         126000,
         14000,
         "Hospitality",
         "Male",
         "1/1/2005",
         470
        ],
        [
         "High School Diploma",
         593,
         81000,
         9000,
         "Retail",
         "Female",
         "1/1/2005",
         470
        ],
        [
         "Master's Degree",
         496,
         180000,
         20000,
         "Manufacturing",
         "Male",
         "1/1/2003",
         470
        ],
        [
         "High School Diploma",
         497,
         94500,
         10500,
         "Construction",
         "Female",
         "1/1/2003",
         470
        ],
        [
         "Master's Degree",
         448,
         143100,
         15900,
         "Agriculture",
         "Male",
         "1/1/2002",
         470
        ],
        [
         "Bachelor's Degree",
         449,
         75600,
         8400,
         "Healthcare",
         "Female",
         "1/1/2002",
         470
        ],
        [
         "High School Diploma",
         403,
         144000,
         16000,
         "Healthcare",
         "Female",
         "1/1/2001",
         470
        ],
        [
         "Bachelor's Degree",
         306,
         207000,
         23000,
         "Agriculture",
         "Male",
         "1/1/1999",
         470
        ],
        [
         "High School Diploma",
         307,
         108000,
         12000,
         "Retail",
         "Female",
         "1/1/1999",
         470
        ],
        [
         "Bachelor's Degree",
         160,
         117000,
         13000,
         "Retail",
         "Male",
         "1/1/1996",
         470
        ],
        [
         "High School Diploma",
         161,
         81000,
         9000,
         "Healthcare",
         "Female",
         "1/1/1996",
         470
        ],
        [
         "High School Diploma",
         163,
         81000,
         9000,
         "Healthcare",
         "Female",
         "1/1/1996",
         470
        ],
        [
         "Bachelor's Degree",
         114,
         117000,
         13000,
         "Retail",
         "Male",
         "1/1/1995",
         470
        ],
        [
         "High School Diploma",
         115,
         81000,
         9000,
         "Healthcare",
         "Female",
         "1/1/1995",
         470
        ],
        [
         "High School",
         873,
         11052600,
         1228900,
         "Manufacturing",
         "Female",
         "11/1/2010",
         471
        ],
        [
         "High School Diploma",
         909,
         11025900,
         1227400,
         "Finance",
         "Female",
         "8/1/2011",
         472
        ],
        [
         "High School Diploma",
         893,
         10966800,
         1224900,
         "Finance",
         "Female",
         "4/1/2011",
         473
        ],
        [
         "Master's Degree",
         853,
         11076600,
         1238100,
         "Health Care",
         "Female",
         "6/1/2010",
         474
        ],
        [
         "Master's Degree",
         1024,
         13139300,
         1469000,
         "Professional and Business S.",
         "Male",
         "1/1/2014",
         475
        ],
        [
         "Bachelor's Degree",
         1016,
         13102700,
         1477200,
         "Education",
         "Male",
         "11/1/2013",
         476
        ],
        [
         "High School Diploma",
         385,
         53000,
         6000,
         "Energy",
         "Female",
         "9/1/2000",
         477
        ],
        [
         "Bachelor's Degree",
         398,
         53000,
         6000,
         "Finance",
         "Male",
         "12/1/2000",
         477
        ],
        [
         "High School Diploma",
         302,
         53000,
         6000,
         "Education",
         "Male",
         "12/1/1998",
         477
        ],
        [
         "High School Diploma",
         499,
         126900,
         14400,
         "Retail",
         "Female",
         "1/1/2003",
         478
        ],
        [
         "Bachelor's Degree",
         1008,
         13063100,
         1484100,
         "finance",
         "Male",
         "9/1/2013",
         479
        ],
        [
         "Associate's Degree",
         1004,
         13042000,
         1487100,
         "finance",
         "Male",
         "8/1/2013",
         480
        ],
        [
         "Associate's Degree",
         1000,
         13021100,
         1488000,
         "finance",
         "Male",
         "7/1/2013",
         481
        ],
        [
         "Bachelor's Degree",
         821,
         9606300,
         1101800,
         "Retail",
         "Female",
         "10/1/2009",
         482
        ],
        [
         "High School",
         1025,
         11142500,
         1280400,
         "finance",
         "Female",
         "1/1/2014",
         483
        ],
        [
         "Bachelor's Degree",
         1021,
         11118500,
         1281500,
         "Hospitality",
         "Female",
         "12/1/2013",
         484
        ],
        [
         "High School",
         997,
         10980700,
         1265900,
         "Hospitality",
         "Female",
         "6/1/2013",
         485
        ],
        [
         "Master's Degree",
         1017,
         11094400,
         1282100,
         "Health Care",
         "Female",
         "11/1/2013",
         486
        ],
        [
         "Bachelor's Degree",
         817,
         9581500,
         1108800,
         "Finance",
         "Female",
         "9/1/2009",
         487
        ],
        [
         "Bachelor's Degree",
         1001,
         11001400,
         1273900,
         "Agriculture",
         "Female",
         "7/1/2013",
         488
        ],
        [
         "Doctorate",
         1005,
         11024400,
         1278100,
         "Agriculture",
         "Female",
         "8/1/2013",
         489
        ],
        [
         "Associate's Degree",
         1009,
         11046400,
         1281400,
         "Agriculture",
         "Female",
         "9/1/2013",
         490
        ],
        [
         "Associate's Degree",
         804,
         9589300,
         1119500,
         "Energy",
         "Male",
         "6/1/2009",
         491
        ],
        [
         "High School",
         1093,
         10906500,
         1283100,
         "Hospitality",
         "Female",
         "6/1/2015",
         492
        ],
        [
         "Bachelor's Degree",
         972,
         16255000,
         1935200,
         "Manufacturing",
         "Male",
         "12/1/2012",
         493
        ],
        [
         "Bachelor's Degree",
         363,
         191950,
         23050,
         "Wholesale Trade",
         "Female",
         "3/1/2000",
         494
        ],
        [
         "High School Diploma",
         1146,
         16220900,
         1953700,
         "Agriculture",
         "Male",
         "7/1/2016",
         495
        ],
        [
         "Associate's Degree",
         999,
         16220900,
         1953700,
         "Professional and Business S.",
         "Female",
         "6/1/2013",
         495
        ],
        [
         "Master's Degree",
         982,
         16220900,
         1953700,
         "Agriculture",
         "Male",
         "2/1/2013",
         495
        ],
        [
         "Bachelor's Degree",
         968,
         16220900,
         1953700,
         "Hospitality",
         "Male",
         "11/1/2012",
         495
        ],
        [
         "High School Diploma",
         1026,
         16220900,
         1953700,
         "Education",
         "Male",
         "1/1/2014",
         495
        ],
        [
         "College",
         1097,
         10931700,
         1325000,
         "Health Care",
         "Female",
         "7/1/2015",
         496
        ],
        [
         "College",
         964,
         16205200,
         1968200,
         "Retail",
         "Male",
         "10/1/2012",
         497
        ],
        [
         "Master's Degree",
         1436,
         432000,
         53000,
         "Technology",
         "Female",
         "8/1/1999",
         498
        ],
        [
         "High School Diploma",
         1101,
         10951600,
         1349800,
         "Construction",
         "Female",
         "8/1/2015",
         499
        ],
        [
         "Bachelor's Degree",
         1109,
         10966700,
         1353300,
         "Retail",
         "Female",
         "10/1/2015",
         500
        ],
        [
         "Associate's Degree",
         383,
         81000,
         10000,
         "Retail",
         "Female",
         "8/1/2000",
         501
        ],
        [
         "High School",
         1430,
         405000,
         50000,
         "Finance",
         "Female",
         "2/1/1999",
         501
        ],
        [
         "College",
         833,
         9516400,
         1178500,
         "Finance",
         "Female",
         "1/1/2010",
         502
        ],
        [
         "Master's Degree",
         1435,
         427000,
         53000,
         "Technology",
         "Male",
         "7/1/1999",
         503
        ],
        [
         "High School",
         1433,
         418000,
         52000,
         "Healthcare",
         "Male",
         "5/1/1999",
         504
        ],
        [
         "High School",
         1429,
         400000,
         50000,
         "Finance",
         "Male",
         "1/1/1999",
         505
        ],
        [
         "Bachelor's Degree",
         1060,
         12825200,
         1607700,
         "Retail",
         "Male",
         "10/1/2014",
         506
        ],
        [
         "Bachelor's Degree",
         1300,
         15905200,
         1996100,
         "Manufacturing",
         "Male",
         "10/1/2020",
         507
        ],
        [
         "High School",
         1434,
         422000,
         53000,
         "Healthcare",
         "Female",
         "6/1/1999",
         508
        ],
        [
         "High School Diploma",
         1105,
         10977300,
         1380100,
         "Retail",
         "Female",
         "9/1/2015",
         509
        ],
        [
         "Master's Degree",
         1113,
         10995300,
         1384300,
         "Health Care",
         "Female",
         "11/1/2015",
         510
        ],
        [
         "Associate's Degree",
         1088,
         12845400,
         1623400,
         "Manufacturing",
         "Male",
         "5/1/2015",
         511
        ],
        [
         "College",
         1084,
         12842900,
         1627000,
         "Energy",
         "Male",
         "4/1/2015",
         512
        ],
        [
         "Master's Degree",
         1080,
         12840600,
         1628500,
         "Retail",
         "Male",
         "3/1/2015",
         513
        ],
        [
         "Associate's Degree",
         1076,
         12838200,
         1629200,
         "Education",
         "Male",
         "2/1/2015",
         514
        ],
        [
         "Master's Degree",
         78,
         133100,
         16900,
         "Finance",
         "Male",
         "8/1/2022",
         515
        ],
        [
         "College",
         1304,
         15854900,
         2017000,
         "Retail",
         "Male",
         "11/1/2020",
         516
        ],
        [
         "Bachelor's Degree",
         1431,
         408000,
         52000,
         "Education",
         "Male",
         "3/1/1999",
         517
        ],
        [
         "Bachelor's Degree",
         1432,
         412000,
         53000,
         "Education",
         "Female",
         "4/1/1999",
         518
        ],
        [
         "Bachelor's Degree",
         1117,
         10987800,
         1416600,
         "Construction",
         "Female",
         "12/1/2015",
         519
        ],
        [
         "College",
         913,
         10936700,
         1417900,
         "Finance",
         "Female",
         "9/1/2011",
         520
        ],
        [
         "Master's Degree",
         1312,
         15687700,
         2040000,
         "Energy",
         "Male",
         "1/1/2021",
         521
        ],
        [
         "Master's Degree",
         917,
         10887300,
         1417100,
         "Information",
         "Female",
         "10/1/2011",
         522
        ],
        [
         "Bachelor's Degree",
         1308,
         15743400,
         2060000,
         "Construction",
         "Male",
         "12/1/2020",
         523
        ],
        [
         "High School",
         921,
         10837500,
         1427100,
         "Hospitality",
         "Female",
         "11/1/2011",
         524
        ],
        [
         "Bachelor's Degree",
         902,
         10512000,
         1386900,
         "Hospitality",
         "Male",
         "6/1/2011",
         525
        ],
        [
         "Master's Degree",
         1030,
         10512000,
         1386900,
         "Education",
         "Male",
         "2/1/2014",
         525
        ],
        [
         "High School",
         1069,
         10512000,
         1386900,
         "Technology",
         "Female",
         "12/1/2014",
         525
        ],
        [
         "High School Diploma",
         1022,
         10512000,
         1386900,
         "Agriculture",
         "Male",
         "12/1/2013",
         525
        ],
        [
         "Master's Degree",
         974,
         10512000,
         1386900,
         "Professional and Business S.",
         "Male",
         "12/1/2012",
         525
        ],
        [
         "Bachelor's Degree",
         1073,
         10535500,
         1395700,
         "Manufacturing",
         "Female",
         "1/1/2015",
         526
        ],
        [
         "Bachelor's Degree",
         1296,
         15902100,
         2108900,
         "Manufacturing",
         "Male",
         "9/1/2020",
         527
        ],
        [
         "High School",
         1089,
         10633300,
         1410200,
         "Education",
         "Female",
         "5/1/2015",
         528
        ],
        [
         "Associate's Degree",
         820,
         11961900,
         1586800,
         "Hospitality",
         "Male",
         "10/1/2009",
         529
        ],
        [
         "Bachelor's Degree",
         1085,
         10612300,
         1408100,
         "Hospitality",
         "Female",
         "4/1/2015",
         530
        ],
        [
         "Bachelor's Degree",
         1077,
         10561900,
         1401900,
         "Health Care",
         "Female",
         "2/1/2015",
         531
        ],
        [
         "High School Diploma",
         925,
         10796800,
         1433700,
         "Health Care",
         "Female",
         "12/1/2011",
         532
        ],
        [
         "High School",
         1081,
         10587600,
         1406500,
         "Finance",
         "Female",
         "3/1/2015",
         533
        ],
        [
         "High School Diploma",
         1061,
         10456700,
         1392200,
         "Manufacturing",
         "Female",
         "10/1/2014",
         534
        ],
        [
         "Bachelor's Degree",
         824,
         11937500,
         1602900,
         "Finance",
         "Male",
         "11/1/2009",
         535
        ],
        [
         "Master's Degree",
         819,
         15576000,
         2102400,
         "Hospitality",
         "Female",
         "9/1/2009",
         536
        ],
        [
         "Master's Degree",
         531,
         15576000,
         2102400,
         "Professional and Business S.",
         "Female",
         "9/1/2003",
         536
        ],
        [
         "Master's Degree",
         1247,
         15576000,
         2102400,
         "Education",
         "Female",
         "8/1/2019",
         536
        ],
        [
         "Associate's Degree",
         1103,
         15576000,
         2102400,
         "Manufacturing",
         "Female",
         "8/1/2015",
         536
        ],
        [
         "Master's Degree",
         1006,
         15576000,
         2102400,
         "Hospitality",
         "Male",
         "8/1/2013",
         536
        ],
        [
         "Master's Degree",
         950,
         15576000,
         2102400,
         "Technology",
         "Male",
         "6/1/2012",
         536
        ],
        [
         "Associate's Degree",
         711,
         15576000,
         2102400,
         "Education",
         "Female",
         "6/1/2007",
         536
        ],
        [
         "Master's Degree",
         663,
         15576000,
         2102400,
         "Professional and Business S.",
         "Female",
         "6/1/2006",
         536
        ],
        [
         "High School Diploma",
         566,
         15576000,
         2102400,
         "Hospitality",
         "Male",
         "6/1/2004",
         536
        ],
        [
         "Master's Degree",
         898,
         15576000,
         2102400,
         "Professional and Business S.",
         "Male",
         "5/1/2011",
         536
        ],
        [
         "Bachelor's Degree",
         851,
         15576000,
         2102400,
         "Energy",
         "Female",
         "5/1/2010",
         536
        ],
        [
         "High School Diploma",
         1230,
         15576000,
         2102400,
         "Education",
         "Male",
         "4/1/2019",
         536
        ],
        [
         "Master's Degree",
         846,
         15576000,
         2102400,
         "Professional and Business S.",
         "Male",
         "4/1/2010",
         536
        ],
        [
         "Associate's Degree",
         655,
         15576000,
         2102400,
         "Energy",
         "Female",
         "4/1/2006",
         536
        ],
        [
         "High School Diploma",
         1082,
         15576000,
         2102400,
         "Agriculture",
         "Male",
         "3/1/2015",
         536
        ],
        [
         "High School Diploma",
         1270,
         15576000,
         2102400,
         "Retail",
         "Male",
         "2/1/2020",
         536
        ],
        [
         "High School Diploma",
         1126,
         15576000,
         2102400,
         "Agriculture",
         "Male",
         "2/1/2016",
         536
        ],
        [
         "Associate's Degree",
         983,
         15576000,
         2102400,
         "Agriculture",
         "Female",
         "2/1/2013",
         536
        ],
        [
         "Associate's Degree",
         887,
         15576000,
         2102400,
         "Hospitality",
         "Female",
         "2/1/2011",
         536
        ],
        [
         "Master's Degree",
         742,
         15576000,
         2102400,
         "Education",
         "Male",
         "2/1/2008",
         536
        ],
        [
         "Associate's Degree",
         599,
         15576000,
         2102400,
         "Energy",
         "Female",
         "2/1/2005",
         536
        ],
        [
         "High School Diploma",
         1166,
         15576000,
         2102400,
         "Retail",
         "Male",
         "12/1/2016",
         536
        ],
        [
         "Master's Degree",
         878,
         15576000,
         2102400,
         "Education",
         "Male",
         "12/1/2010",
         536
        ],
        [
         "Associate's Degree",
         783,
         15576000,
         2102400,
         "Hospitality",
         "Female",
         "12/1/2008",
         536
        ],
        [
         "Associate's Degree",
         735,
         15576000,
         2102400,
         "Professional and Business S.",
         "Female",
         "12/1/2007",
         536
        ],
        [
         "Master's Degree",
         686,
         15576000,
         2102400,
         "Manufacturing",
         "Male",
         "12/1/2006",
         536
        ],
        [
         "Master's Degree",
         922,
         15576000,
         2102400,
         "Professional and Business S.",
         "Male",
         "11/1/2011",
         536
        ],
        [
         "High School Diploma",
         778,
         15576000,
         2102400,
         "Professional and Business S.",
         "Male",
         "11/1/2008",
         536
        ],
        [
         "Master's Degree",
         966,
         15576000,
         2102400,
         "Professional and Business S.",
         "Male",
         "10/1/2012",
         536
        ],
        [
         "Master's Degree",
         727,
         15576000,
         2102400,
         "Manufacturing",
         "Female",
         "10/1/2007",
         536
        ],
        [
         "Bachelor's Degree",
         583,
         15576000,
         2102400,
         "Finance",
         "Female",
         "10/1/2004",
         536
        ],
        [
         "Bachelor's Degree",
         883,
         15576000,
         2102400,
         "Energy",
         "Female",
         "1/1/2011",
         536
        ],
        [
         "Associate's Degree",
         691,
         15576000,
         2102400,
         "Professional and Business S.",
         "Female",
         "1/1/2007",
         536
        ],
        [
         "Master's Degree",
         642,
         15576000,
         2102400,
         "Hospitality",
         "Male",
         "1/1/2006",
         536
        ],
        [
         "Associate's Degree",
         844,
         11925100,
         1640500,
         "Health Care",
         "Male",
         "4/1/2010",
         537
        ],
        [
         "Bachelor's Degree",
         1087,
         3230100,
         445500,
         "Retail",
         "Female",
         "4/1/2015",
         538
        ],
        [
         "College",
         852,
         14873700,
         2091400,
         "Construction",
         "Male",
         "6/1/2010",
         539
        ],
        [
         "High School",
         868,
         14799100,
         2104800,
         "Hospitality",
         "Male",
         "10/1/2010",
         540
        ],
        [
         "College",
         904,
         15994200,
         2281900,
         "Finance",
         "Male",
         "7/1/2011",
         541
        ],
        [
         "Bachelor's Degree",
         1292,
         15832800,
         2268100,
         "Manufacturing",
         "Male",
         "8/1/2020",
         542
        ],
        [
         "Bachelor's Degree",
         900,
         16024600,
         2307600,
         "Finance",
         "Male",
         "6/1/2011",
         543
        ],
        [
         "Bachelor's Degree",
         908,
         15941800,
         2303800,
         "Finance",
         "Male",
         "8/1/2011",
         544
        ],
        [
         "Master's Degree",
         1155,
         74250,
         10750,
         "Manufacturing",
         "Female",
         "9/1/2016",
         545
        ],
        [
         "Master's Degree",
         1295,
         74250,
         10750,
         "Education",
         "Female",
         "8/1/2020",
         545
        ],
        [
         "Associate's Degree",
         623,
         74250,
         10750,
         "Hospitality",
         "Female",
         "8/1/2005",
         545
        ],
        [
         "Master's Degree",
         1291,
         74250,
         10750,
         "Education",
         "Female",
         "7/1/2020",
         545
        ],
        [
         "Master's Degree",
         567,
         74250,
         10750,
         "Hospitality",
         "Female",
         "6/1/2004",
         545
        ],
        [
         "Master's Degree",
         803,
         74250,
         10750,
         "Professional and Business S.",
         "Female",
         "5/1/2009",
         545
        ],
        [
         "Master's Degree",
         1231,
         74250,
         10750,
         "Manufacturing",
         "Female",
         "4/1/2019",
         545
        ],
        [
         "High School Diploma",
         942,
         74250,
         10750,
         "Education",
         "Male",
         "4/1/2012",
         545
        ],
        [
         "Master's Degree",
         894,
         74250,
         10750,
         "Hospitality",
         "Male",
         "4/1/2011",
         545
        ],
        [
         "Master's Degree",
         1083,
         74250,
         10750,
         "Professional and Business S.",
         "Female",
         "3/1/2015",
         545
        ],
        [
         "Master's Degree",
         553,
         74250,
         10750,
         "Retail",
         "Female",
         "3/1/2004",
         545
        ],
        [
         "Master's Degree",
         1263,
         74250,
         10750,
         "Manufacturing",
         "Female",
         "12/1/2019",
         545
        ],
        [
         "Associate's Degree",
         967,
         74250,
         10750,
         "Energy",
         "Female",
         "10/1/2012",
         545
        ],
        [
         "High School",
         896,
         16016000,
         2323800,
         "Hospitality",
         "Male",
         "5/1/2011",
         546
        ],
        [
         "Bachelor's Degree",
         800,
         16805000,
         2445000,
         "Construction",
         "Male",
         "5/1/2009",
         547
        ],
        [
         "High School Diploma",
         678,
         16805000,
         2445000,
         "Finance",
         "Male",
         "10/1/2006",
         547
        ],
        [
         "Master's Degree",
         738,
         16805000,
         2445000,
         "Finance",
         "Male",
         "1/1/2008",
         547
        ],
        [
         "Bachelor's Degree",
         864,
         14746900,
         2150000,
         "Energy",
         "Male",
         "9/1/2010",
         548
        ],
        [
         "College",
         872,
         14694100,
         2161200,
         "Information Tech",
         "Male",
         "11/1/2010",
         549
        ],
        [
         "Bachelor's Degree",
         892,
         15985300,
         2360300,
         "Finance",
         "Male",
         "4/1/2011",
         550
        ],
        [
         "College",
         920,
         14629500,
         2182600,
         "Hospitality",
         "Male",
         "11/1/2011",
         551
        ],
        [
         "College",
         880,
         15935100,
         2380200,
         "Technology",
         "Male",
         "1/1/2011",
         552
        ],
        [
         "High School",
         912,
         14723600,
         2199800,
         "Manufacturing",
         "Male",
         "9/1/2011",
         553
        ],
        [
         "Bachelor's Degree",
         888,
         15912300,
         2377400,
         "Information Tech",
         "Male",
         "3/1/2011",
         554
        ],
        [
         "Bachelor's Degree",
         924,
         14596300,
         2189300,
         "Finance",
         "Male",
         "12/1/2011",
         555
        ],
        [
         "High School",
         884,
         15860200,
         2382900,
         "Finance",
         "Male",
         "2/1/2011",
         556
        ],
        [
         "Bachelor's Degree",
         876,
         14597200,
         2197200,
         "Technology",
         "Male",
         "12/1/2010",
         557
        ],
        [
         "Bachelor's Degree",
         916,
         14674200,
         2216200,
         "Retail",
         "Male",
         "10/1/2011",
         558
        ],
        [
         "College",
         1288,
         15714600,
         2483600,
         "Retail",
         "Male",
         "7/1/2020",
         559
        ],
        [
         "Master's Degree",
         998,
         45900,
         7900,
         "Professional and Business S.",
         "Male",
         "6/1/2013",
         560
        ],
        [
         "Bachelor's Degree",
         747,
         45900,
         7900,
         "Retail",
         "Female",
         "3/1/2008",
         560
        ],
        [
         "Associate's Degree",
         871,
         45900,
         7900,
         "Agriculture",
         "Female",
         "10/1/2010",
         560
        ],
        [
         "Master's Degree",
         1075,
         45900,
         7900,
         "Agriculture",
         "Female",
         "1/1/2015",
         560
        ],
        [
         "Associate's Degree",
         931,
         45900,
         7900,
         "Energy",
         "Female",
         "1/1/2012",
         560
        ],
        [
         "Master's Degree",
         722,
         68000,
         12000,
         "Retail",
         "Male",
         "9/1/2007",
         561
        ],
        [
         "Master's Degree",
         528,
         52700,
         9300,
         "Retail",
         "Male",
         "9/1/2003",
         561
        ],
        [
         "Associate's Degree",
         529,
         35700,
         6300,
         "Healthcare",
         "Female",
         "9/1/2003",
         561
        ],
        [
         "Bachelor's Degree",
         192,
         52700,
         9300,
         "Finance",
         "Male",
         "9/1/1996",
         561
        ],
        [
         "High School Diploma",
         193,
         34000,
         6000,
         "Agriculture",
         "Female",
         "9/1/1996",
         561
        ],
        [
         "Bachelor's Degree",
         30,
         65450,
         11550,
         "Manufacturing",
         "Male",
         "8/1/2021",
         561
        ],
        [
         "High School Diploma",
         31,
         44200,
         7800,
         "Retail",
         "Female",
         "8/1/2021",
         561
        ],
        [
         "High School Diploma",
         1054,
         68000,
         12000,
         "Agriculture",
         "Male",
         "8/1/2014",
         561
        ],
        [
         "Master's Degree",
         910,
         68000,
         12000,
         "Hospitality",
         "Male",
         "8/1/2011",
         561
        ],
        [
         "Bachelor's Degree",
         524,
         65450,
         11550,
         "Construction",
         "Male",
         "8/1/2003",
         561
        ],
        [
         "High School Diploma",
         525,
         44200,
         7800,
         "Agriculture",
         "Female",
         "8/1/2003",
         561
        ],
        [
         "Master's Degree",
         188,
         68000,
         12000,
         "Healthcare",
         "Male",
         "8/1/1996",
         561
        ],
        [
         "Associate's Degree",
         189,
         44200,
         7800,
         "Wholesale Trade",
         "Female",
         "8/1/1996",
         561
        ],
        [
         "Associate's Degree",
         191,
         44200,
         7800,
         "Manufacturing",
         "Female",
         "8/1/1996",
         561
        ],
        [
         "High School Diploma",
         618,
         56950,
         10050,
         "Professional and Business S.",
         "Male",
         "7/1/2005",
         561
        ],
        [
         "Associate's Degree",
         568,
         140250,
         24750,
         "Energy",
         "Male",
         "7/1/2004",
         561
        ],
        [
         "Bachelor's Degree",
         569,
         89250,
         15750,
         "Healthcare",
         "Female",
         "7/1/2004",
         561
        ],
        [
         "High School Diploma",
         570,
         56950,
         10050,
         "Professional and Business S.",
         "Male",
         "7/1/2004",
         561
        ],
        [
         "High School Diploma",
         521,
         51000,
         9000,
         "Healthcare",
         "Female",
         "7/1/2003",
         561
        ],
        [
         "Associate's Degree",
         522,
         56950,
         10050,
         "Professional and Business S.",
         "Male",
         "7/1/2003",
         561
        ],
        [
         "Bachelor's Degree",
         474,
         93500,
         16500,
         "Retail",
         "Male",
         "7/1/2002",
         561
        ],
        [
         "High School Diploma",
         475,
         63750,
         11250,
         "Agriculture",
         "Female",
         "7/1/2002",
         561
        ],
        [
         "High School Diploma",
         283,
         123250,
         21750,
         "Finance",
         "Female",
         "7/1/1998",
         561
        ],
        [
         "Bachelor's Degree",
         184,
         100300,
         17700,
         "Education",
         "Male",
         "7/1/1996",
         561
        ],
        [
         "High School Diploma",
         185,
         52700,
         9300,
         "Retail",
         "Female",
         "7/1/1996",
         561
        ],
        [
         "Bachelor's Degree",
         186,
         83300,
         14700,
         "Education",
         "Male",
         "7/1/1996",
         561
        ],
        [
         "Master's Degree",
         564,
         119000,
         21000,
         "Energy",
         "Male",
         "6/1/2004",
         561
        ],
        [
         "Bachelor's Degree",
         565,
         76500,
         13500,
         "Finance",
         "Female",
         "6/1/2004",
         561
        ],
        [
         "Bachelor's Degree",
         516,
         68000,
         12000,
         "Manufacturing",
         "Male",
         "6/1/2003",
         561
        ],
        [
         "High School Diploma",
         517,
         45050,
         7950,
         "Education",
         "Female",
         "6/1/2003",
         561
        ],
        [
         "Master's Degree",
         470,
         80750,
         14250,
         "Wholesale Trade",
         "Male",
         "6/1/2002",
         561
        ],
        [
         "Associate's Degree",
         471,
         56950,
         10050,
         "Finance",
         "Female",
         "6/1/2002",
         561
        ],
        [
         "Bachelor's Degree",
         182,
         25500,
         4500,
         "Manufacturing",
         "Male",
         "6/1/1996",
         561
        ],
        [
         "High School Diploma",
         183,
         51000,
         9000,
         "Healthcare",
         "Female",
         "6/1/1996",
         561
        ],
        [
         "Master's Degree",
         946,
         68000,
         12000,
         "Education",
         "Male",
         "5/1/2012",
         561
        ],
        [
         "Master's Degree",
         658,
         56950,
         10050,
         "Energy",
         "Male",
         "5/1/2006",
         561
        ],
        [
         "Master's Degree",
         561,
         93500,
         16500,
         "Hospitality",
         "Female",
         "5/1/2004",
         561
        ],
        [
         "Master's Degree",
         512,
         80750,
         14250,
         "Healthcare",
         "Male",
         "5/1/2003",
         561
        ],
        [
         "Associate's Degree",
         513,
         56950,
         10050,
         "Finance",
         "Female",
         "5/1/2003",
         561
        ],
        [
         "High School Diploma",
         226,
         39100,
         6900,
         "Finance",
         "Female",
         "5/1/1997",
         561
        ],
        [
         "Bachelor's Degree",
         227,
         25500,
         4500,
         "Energy",
         "Male",
         "5/1/1997",
         561
        ],
        [
         "High School Diploma",
         130,
         144500,
         25500,
         "Manufacturing",
         "Male",
         "5/1/1995",
         561
        ],
        [
         "Master's Degree",
         131,
         93500,
         16500,
         "Education",
         "Female",
         "5/1/1995",
         561
        ],
        [
         "Associate's Degree",
         556,
         131750,
         23250,
         "Energy",
         "Male",
         "4/1/2004",
         561
        ],
        [
         "Bachelor's Degree",
         557,
         85000,
         15000,
         "Finance",
         "Female",
         "4/1/2004",
         561
        ],
        [
         "Associate's Degree",
         558,
         140250,
         24750,
         "Hospitality",
         "Male",
         "4/1/2004",
         561
        ],
        [
         "Bachelor's Degree",
         508,
         93500,
         16500,
         "Retail",
         "Male",
         "4/1/2003",
         561
        ],
        [
         "High School Diploma",
         509,
         63750,
         11250,
         "Agriculture",
         "Female",
         "4/1/2003",
         561
        ],
        [
         "Master's Degree",
         462,
         83300,
         14700,
         "Manufacturing",
         "Female",
         "4/1/2002",
         561
        ],
        [
         "Associate's Degree",
         463,
         43350,
         7650,
         "Retail",
         "Male",
         "4/1/2002",
         561
        ],
        [
         "Bachelor's Degree",
         414,
         144500,
         25500,
         "Agriculture",
         "Male",
         "4/1/2001",
         561
        ],
        [
         "High School Diploma",
         415,
         93500,
         16500,
         "Retail",
         "Female",
         "4/1/2001",
         561
        ],
        [
         "Bachelor's Degree",
         270,
         39100,
         6900,
         "Manufacturing",
         "Male",
         "4/1/1998",
         561
        ],
        [
         "High School Diploma",
         271,
         25500,
         4500,
         "Agriculture",
         "Female",
         "4/1/1998",
         561
        ],
        [
         "Master's Degree",
         222,
         83300,
         14700,
         "Manufacturing",
         "Female",
         "4/1/1997",
         561
        ],
        [
         "Associate's Degree",
         223,
         43350,
         7650,
         "Retail",
         "Male",
         "4/1/1997",
         561
        ],
        [
         "Master's Degree",
         602,
         140250,
         24750,
         "Energy",
         "Male",
         "3/1/2005",
         561
        ],
        [
         "High School Diploma",
         1174,
         68000,
         12000,
         "Professional and Business S.",
         "Male",
         "2/1/2017",
         561
        ],
        [
         "Bachelor's Degree",
         548,
         136000,
         24000,
         "Manufacturing",
         "Male",
         "2/1/2004",
         561
        ],
        [
         "Bachelor's Degree",
         549,
         89250,
         15750,
         "Finance",
         "Female",
         "2/1/2004",
         561
        ],
        [
         "Master's Degree",
         212,
         56100,
         9900,
         "Finance",
         "Male",
         "2/1/1997",
         561
        ],
        [
         "Associate's Degree",
         213,
         36550,
         6450,
         "Retail",
         "Female",
         "2/1/1997",
         561
        ],
        [
         "Associate's Degree",
         166,
         68000,
         12000,
         "Manufacturing",
         "Male",
         "2/1/1996",
         561
        ],
        [
         "Master's Degree",
         543,
         68000,
         12000,
         "Professional and Business S.",
         "Female",
         "12/1/2003",
         561
        ],
        [
         "Bachelor's Degree",
         204,
         39100,
         6900,
         "Education",
         "Male",
         "12/1/1996",
         561
        ],
        [
         "High School Diploma",
         205,
         25500,
         4500,
         "Healthcare",
         "Female",
         "12/1/1996",
         561
        ],
        [
         "Master's Degree",
         90,
         51000,
         9000,
         "Manufacturing",
         "Male",
         "11/1/2022",
         561
        ],
        [
         "Associate's Degree",
         91,
         33150,
         5850,
         "Retail",
         "Female",
         "11/1/2022",
         561
        ],
        [
         "Bachelor's Degree",
         537,
         41650,
         7350,
         "Retail",
         "Female",
         "11/1/2003",
         561
        ],
        [
         "Master's Degree",
         200,
         51000,
         9000,
         "Manufacturing",
         "Male",
         "11/1/1996",
         561
        ],
        [
         "Associate's Degree",
         201,
         33150,
         5850,
         "Retail",
         "Female",
         "11/1/1996",
         561
        ],
        [
         "Master's Degree",
         202,
         68000,
         12000,
         "Manufacturing",
         "Male",
         "11/1/1996",
         561
        ],
        [
         "Associate's Degree",
         203,
         44200,
         7800,
         "Retail",
         "Female",
         "11/1/1996",
         561
        ],
        [
         "Bachelor's Degree",
         86,
         73950,
         13050,
         "Energy",
         "Male",
         "10/1/2022",
         561
        ],
        [
         "High School Diploma",
         87,
         39100,
         6900,
         "Healthcare",
         "Female",
         "10/1/2022",
         561
        ],
        [
         "Bachelor's Degree",
         532,
         68000,
         12000,
         "Trade, Transportation, Util.",
         "Male",
         "10/1/2003",
         561
        ],
        [
         "High School Diploma",
         533,
         45900,
         8100,
         "Energy",
         "Female",
         "10/1/2003",
         561
        ],
        [
         "High School Diploma",
         534,
         140250,
         24750,
         "Finance",
         "Male",
         "10/1/2003",
         561
        ],
        [
         "Bachelor's Degree",
         196,
         73950,
         13050,
         "Energy",
         "Male",
         "10/1/1996",
         561
        ],
        [
         "High School Diploma",
         197,
         39100,
         6900,
         "Healthcare",
         "Female",
         "10/1/1996",
         561
        ],
        [
         "Master's Degree",
         594,
         56950,
         10050,
         "Finance",
         "Male",
         "1/1/2005",
         561
        ],
        [
         "Bachelor's Degree",
         545,
         80750,
         14250,
         "Energy",
         "Female",
         "1/1/2004",
         561
        ],
        [
         "Master's Degree",
         354,
         123250,
         21750,
         "Energy",
         "Male",
         "1/1/2000",
         561
        ],
        [
         "Associate's Degree",
         355,
         80750,
         14250,
         "Education",
         "Female",
         "1/1/2000",
         561
        ],
        [
         "Bachelor's Degree",
         208,
         83300,
         14700,
         "Agriculture",
         "Male",
         "1/1/1997",
         561
        ],
        [
         "High School Diploma",
         209,
         43350,
         7650,
         "Healthcare",
         "Female",
         "1/1/1997",
         561
        ],
        [
         "High School Diploma",
         179,
         67500,
         12500,
         "Finance",
         "Female",
         "5/1/1996",
         562
        ],
        [
         "Master's Degree",
         362,
         92750,
         17250,
         "Manufacturing",
         "Male",
         "3/1/2000",
         563
        ],
        [
         "Bachelor's Degree",
         1280,
         13737500,
         2577300,
         "Technology",
         "Male",
         "5/1/2020",
         564
        ],
        [
         "Bachelor's Degree",
         518,
         100750,
         19250,
         "Manufacturing",
         "Male",
         "6/1/2003",
         565
        ],
        [
         "High School Diploma",
         435,
         154500,
         30500,
         "Healthcare",
         "Female",
         "9/1/2001",
         566
        ],
        [
         "High School Diploma",
         1281,
         8698900,
         1734200,
         "Retail",
         "Female",
         "5/1/2020",
         567
        ],
        [
         "High School Diploma",
         423,
         92000,
         19000,
         "Wholesale Trade",
         "Female",
         "6/1/2001",
         568
        ],
        [
         "Bachelor's Degree",
         451,
         92000,
         19000,
         "Construction",
         "Female",
         "1/1/2002",
         568
        ],
        [
         "Bachelor's Degree",
         366,
         67840,
         14160,
         "Education",
         "Male",
         "4/1/2000",
         569
        ],
        [
         "High School Diploma",
         619,
         80750,
         17250,
         "Finance",
         "Female",
         "7/1/2005",
         570
        ],
        [
         "Master's Degree",
         571,
         80750,
         17250,
         "Finance",
         "Female",
         "7/1/2004",
         570
        ],
        [
         "Master's Degree",
         523,
         80750,
         17250,
         "Trade, Transportation, Util.",
         "Female",
         "7/1/2003",
         570
        ],
        [
         "Associate's Degree",
         659,
         80750,
         17250,
         "Professional and Business S.",
         "Female",
         "5/1/2006",
         570
        ],
        [
         "Master's Degree",
         514,
         80750,
         17250,
         "Healthcare",
         "Male",
         "5/1/2003",
         570
        ],
        [
         "Master's Degree",
         595,
         80750,
         17250,
         "Hospitality",
         "Female",
         "1/1/2005",
         570
        ],
        [
         "Bachelor's Degree",
         438,
         102500,
         22500,
         "Manufacturing",
         "Male",
         "10/1/2001",
         571
        ],
        [
         "Associate's Degree",
         491,
         68000,
         15100,
         "Construction",
         "Female",
         "11/1/2002",
         572
        ],
        [
         "Bachelor's Degree",
         773,
         900000,
         200000,
         "Finance and Insurance",
         "Female",
         "10/1/2008",
         573
        ],
        [
         "Master's Degree",
         88,
         98000,
         22000,
         "Finance",
         "Male",
         "11/1/2022",
         574
        ],
        [
         "Master's Degree",
         718,
         34900,
         7900,
         "Finance",
         "Male",
         "8/1/2007",
         575
        ],
        [
         "Associate's Degree",
         971,
         34900,
         7900,
         "Energy",
         "Female",
         "11/1/2012",
         575
        ],
        [
         "Bachelor's Degree",
         586,
         34900,
         7900,
         "Finance",
         "Male",
         "11/1/2004",
         575
        ],
        [
         "High School Diploma",
         101,
         93500,
         21500,
         "Retail",
         "Female",
         "2/1/2023",
         576
        ],
        [
         "Master's Degree",
         1259,
         12442000,
         3076900,
         "Manufacturing",
         "Female",
         "11/1/2019",
         577
        ],
        [
         "Bachelor's Degree",
         330,
         78300,
         19700,
         "Wholesale Trade",
         "Male",
         "7/1/1999",
         578
        ],
        [
         "Bachelor's Degree",
         194,
         52700,
         13300,
         "Finance",
         "Male",
         "9/1/1996",
         579
        ],
        [
         "High School Diploma",
         494,
         99000,
         26000,
         "Education",
         "Male",
         "12/1/2002",
         580
        ],
        [
         "Master's Degree",
         334,
         142000,
         38000,
         "Finance",
         "Male",
         "8/1/1999",
         581
        ],
        [
         "High School Diploma",
         455,
         68300,
         18700,
         "Energy",
         "Female",
         "2/1/2002",
         582
        ],
        [
         "High School Diploma",
         359,
         68300,
         18700,
         "Energy",
         "Female",
         "2/1/2000",
         582
        ],
        [
         "Bachelor's Degree",
         443,
         68300,
         18700,
         "Retail",
         "Female",
         "11/1/2001",
         582
        ],
        [
         "Master's Degree",
         498,
         68300,
         19500,
         "Manufacturing",
         "Male",
         "1/1/2003",
         583
        ],
        [
         "Associate's Degree",
         370,
         62000,
         18000,
         "Energy",
         "Male",
         "5/1/2000",
         584
        ],
        [
         "High School Diploma",
         439,
         62000,
         18000,
         "Retail",
         "Female",
         "10/1/2001",
         584
        ],
        [
         "High School Diploma",
         1079,
         31974,
         9837,
         "Technology",
         "Female",
         "2/1/2015",
         585
        ],
        [
         "Associate's Degree",
         454,
         110500,
         34500,
         "Manufacturing",
         "Male",
         "2/1/2002",
         586
        ],
        [
         "Associate's Degree",
         358,
         110500,
         34500,
         "Manufacturing",
         "Male",
         "2/1/2000",
         586
        ],
        [
         "Bachelor's Degree",
         1277,
         8071900,
         2820700,
         "Hospitality",
         "Female",
         "4/1/2020",
         587
        ],
        [
         "Bachelor's Degree",
         788,
         200000,
         70000,
         "Finance",
         "Male",
         "2/1/2009",
         588
        ],
        [
         "Bachelor's Degree",
         422,
         92500,
         32500,
         "Energy",
         "Male",
         "6/1/2001",
         589
        ],
        [
         "Master's Degree",
         450,
         92500,
         32500,
         "Agriculture",
         "Male",
         "1/1/2002",
         589
        ],
        [
         "College",
         1276,
         12733800,
         4494200,
         "Energy",
         "Male",
         "4/1/2020",
         590
        ],
        [
         "Master's Degree",
         490,
         102000,
         38500,
         "Energy",
         "Male",
         "11/1/2002",
         591
        ],
        [
         "High School Diploma",
         187,
         52700,
         22300,
         "Retail",
         "Female",
         "7/1/1996",
         592
        ],
        [
         "Bachelor's Degree",
         510,
         99000,
         41990,
         "Retail",
         "Male",
         "4/1/2003",
         593
        ],
        [
         "Bachelor's Degree",
         239,
         4621000,
         2102000,
         "Healthcare",
         "Male",
         "8/1/1997",
         594
        ],
        [
         "High School Diploma",
         331,
         144900,
         66100,
         "Retail",
         "Female",
         "7/1/1999",
         595
        ],
        [
         "Associate's Degree",
         407,
         61000,
         29000,
         "Retail",
         "Female",
         "2/1/2001",
         596
        ],
        [
         "Associate's Degree",
         419,
         41700,
         20300,
         "Education",
         "Female",
         "5/1/2001",
         597
        ],
        [
         "Master's Degree",
         418,
         34200,
         17800,
         "Finance",
         "Male",
         "5/1/2001",
         598
        ],
        [
         "Bachelor's Degree",
         502,
         60750,
         34560,
         "Agriculture",
         "Male",
         "2/1/2003",
         599
        ],
        [
         "Master's Degree",
         478,
         55500,
         32500,
         "Construction",
         "Male",
         "8/1/2002",
         600
        ],
        [
         "Bachelor's Degree",
         278,
         73950,
         44050,
         "Finance",
         "Male",
         "6/1/1998",
         601
        ],
        [
         "Bachelor's Degree",
         198,
         73950,
         44050,
         "Energy",
         "Male",
         "10/1/1996",
         601
        ],
        [
         "High School Diploma",
         519,
         56950,
         38050,
         "Education",
         "Female",
         "6/1/2003",
         602
        ],
        [
         "Bachelor's Degree",
         279,
         39100,
         26900,
         "Manufacturing",
         "Male",
         "6/1/1998",
         603
        ],
        [
         "High School Diploma",
         199,
         39100,
         26900,
         "Healthcare",
         "Female",
         "10/1/1996",
         603
        ],
        [
         "Bachelor's Degree",
         777,
         82000,
         58000,
         "Government and Public Admin.",
         "Female",
         "11/1/2008",
         604
        ],
        [
         "Bachelor's Degree",
         769,
         250000,
         200000,
         "Finance",
         "Female",
         "9/1/2008",
         605
        ],
        [
         "Associate's Degree",
         515,
         56950,
         53050,
         "Finance",
         "Female",
         "5/1/2003",
         606
        ],
        [
         "Master's Degree",
         190,
         7800500,
         7481500,
         "Healthcare",
         "Male",
         "8/1/1996",
         607
        ],
        [
         "Associate's Degree",
         707,
         9900,
         9900,
         "Education",
         "Female",
         "5/1/2007",
         608
        ],
        [
         "Associate's Degree",
         776,
         200000,
         200000,
         "Retail",
         "Male",
         "11/1/2008",
         608
        ],
        [
         "Bachelor's Degree",
         801,
         150000,
         200000,
         "Construction",
         "Female",
         "5/1/2009",
         609
        ],
        [
         "High School Diploma",
         785,
         150000,
         200000,
         "Manufacturing",
         "Female",
         "1/1/2009",
         609
        ]
       ],
       "datasetInfos": [],
       "dbfsResultPath": null,
       "isJsonSchema": true,
       "metadata": {
        "dataframeName": "_sqldf",
        "executionCount": 4
       },
       "overflow": false,
       "plotOptions": {
        "customPlotOptions": {},
        "displayType": "table",
        "pivotAggregation": null,
        "pivotColumns": null,
        "xColumns": null,
        "yColumns": null
       },
       "removedWidgets": [],
       "schema": [
        {
         "metadata": "{}",
         "name": "Education_Level",
         "type": "\"string\""
        },
        {
         "metadata": "{}",
         "name": "Line_Number",
         "type": "\"integer\""
        },
        {
         "metadata": "{}",
         "name": "Employed",
         "type": "\"integer\""
        },
        {
         "metadata": "{}",
         "name": "Unemployed",
         "type": "\"integer\""
        },
        {
         "metadata": "{}",
         "name": "Industry",
         "type": "\"string\""
        },
        {
         "metadata": "{}",
         "name": "Gender",
         "type": "\"string\""
        },
        {
         "metadata": "{}",
         "name": "Date_Inserted",
         "type": "\"string\""
        },
        {
         "metadata": "{}",
         "name": "dense_rank",
         "type": "\"integer\""
        }
       ],
       "type": "table"
      }
     },
     "output_type": "display_data"
    }
   ],
   "source": [
    "%sql \n",
    "\n",
    "select * from `delta`.versiontable"
   ]
  },
  {
   "cell_type": "code",
   "execution_count": 0,
   "metadata": {
    "application/vnd.databricks.v1+cell": {
     "cellMetadata": {
      "byteLimit": 2048000,
      "implicitDf": true,
      "rowLimit": 10000
     },
     "inputWidgets": {},
     "nuid": "b5b043fb-d44a-45d4-a108-9045cc726bf6",
     "showTitle": false,
     "title": ""
    }
   },
   "outputs": [
    {
     "output_type": "display_data",
     "data": {
      "text/html": [
       "<style scoped>\n",
       "  .table-result-container {\n",
       "    max-height: 300px;\n",
       "    overflow: auto;\n",
       "  }\n",
       "  table, th, td {\n",
       "    border: 1px solid black;\n",
       "    border-collapse: collapse;\n",
       "  }\n",
       "  th, td {\n",
       "    padding: 5px;\n",
       "  }\n",
       "  th {\n",
       "    text-align: left;\n",
       "  }\n",
       "</style><div class='table-result-container'><table class='table-result'><thead style='background-color: white'><tr><th>num_affected_rows</th><th>num_inserted_rows</th></tr></thead><tbody><tr><td>4</td><td>4</td></tr></tbody></table></div>"
      ]
     },
     "metadata": {
      "application/vnd.databricks.v1+output": {
       "addedWidgets": {},
       "aggData": [],
       "aggError": "",
       "aggOverflow": false,
       "aggSchema": [],
       "aggSeriesLimitReached": false,
       "aggType": "",
       "arguments": {},
       "columnCustomDisplayInfos": {},
       "data": [
        [
         4,
         4
        ]
       ],
       "datasetInfos": [],
       "dbfsResultPath": null,
       "isJsonSchema": true,
       "metadata": {
        "dataframeName": "_sqldf",
        "executionCount": 6
       },
       "overflow": false,
       "plotOptions": {
        "customPlotOptions": {},
        "displayType": "table",
        "pivotAggregation": null,
        "pivotColumns": null,
        "xColumns": null,
        "yColumns": null
       },
       "removedWidgets": [],
       "schema": [
        {
         "metadata": "{}",
         "name": "num_affected_rows",
         "type": "\"long\""
        },
        {
         "metadata": "{}",
         "name": "num_inserted_rows",
         "type": "\"long\""
        }
       ],
       "type": "table"
      }
     },
     "output_type": "display_data"
    }
   ],
   "source": [
    "%sql \n",
    "INSERT INTO `delta`.versiontable\n",
    "VALUES\n",
    "    ('Bachelor', 1, 4500, 500, 'Networking', 'Male', '2023-07-12',  1),\n",
    "    ('Master', 2, 6500, 500, 'Networking', 'Female', '2023-07-12', 2),\n",
    "    ('High School', 3, 3500, 500, 'Networking', 'Male', '2023-07-12', 3),\n",
    "    ('PhD', 4, 5500, 500, 'Networking', 'Female', '2023-07-12', 4);\n"
   ]
  },
  {
   "cell_type": "code",
   "execution_count": 0,
   "metadata": {
    "application/vnd.databricks.v1+cell": {
     "cellMetadata": {
      "byteLimit": 2048000,
      "implicitDf": true,
      "rowLimit": 10000
     },
     "inputWidgets": {},
     "nuid": "b8549986-7f69-4816-bf8b-1b77510d3fc6",
     "showTitle": false,
     "title": ""
    }
   },
   "outputs": [
    {
     "output_type": "display_data",
     "data": {
      "text/html": [
       "<style scoped>\n",
       "  .table-result-container {\n",
       "    max-height: 300px;\n",
       "    overflow: auto;\n",
       "  }\n",
       "  table, th, td {\n",
       "    border: 1px solid black;\n",
       "    border-collapse: collapse;\n",
       "  }\n",
       "  th, td {\n",
       "    padding: 5px;\n",
       "  }\n",
       "  th {\n",
       "    text-align: left;\n",
       "  }\n",
       "</style><div class='table-result-container'><table class='table-result'><thead style='background-color: white'><tr><th>version</th><th>timestamp</th><th>userId</th><th>userName</th><th>operation</th><th>operationParameters</th><th>job</th><th>notebook</th><th>clusterId</th><th>readVersion</th><th>isolationLevel</th><th>isBlindAppend</th><th>operationMetrics</th><th>userMetadata</th><th>engineInfo</th></tr></thead><tbody><tr><td>1</td><td>2024-02-27T13:53:12Z</td><td>4700893722167418</td><td>lokeswar.valluru@xyenta.com</td><td>WRITE</td><td>Map(mode -> Append, statsOnLoad -> false, partitionBy -> [])</td><td>null</td><td>List(4089641095547163)</td><td>1227-053858-m1tsqg19</td><td>0</td><td>WriteSerializable</td><td>true</td><td>Map(numFiles -> 1, numOutputRows -> 4, numOutputBytes -> 2158)</td><td>null</td><td>Databricks-Runtime/13.3.x-photon-scala2.12</td></tr><tr><td>0</td><td>2024-02-27T13:50:19Z</td><td>4700893722167418</td><td>lokeswar.valluru@xyenta.com</td><td>CREATE OR REPLACE TABLE AS SELECT</td><td>Map(partitionBy -> [], description -> null, isManaged -> true, properties -> {}, statsOnLoad -> false)</td><td>null</td><td>List(4089641095547163)</td><td>1227-053858-m1tsqg19</td><td>null</td><td>WriteSerializable</td><td>false</td><td>Map(numFiles -> 1, numOutputRows -> 1524, numOutputBytes -> 26014)</td><td>null</td><td>Databricks-Runtime/13.3.x-photon-scala2.12</td></tr></tbody></table></div>"
      ]
     },
     "metadata": {
      "application/vnd.databricks.v1+output": {
       "addedWidgets": {},
       "aggData": [],
       "aggError": "",
       "aggOverflow": false,
       "aggSchema": [],
       "aggSeriesLimitReached": false,
       "aggType": "",
       "arguments": {},
       "columnCustomDisplayInfos": {},
       "data": [
        [
         1,
         "2024-02-27T13:53:12Z",
         "4700893722167418",
         "lokeswar.valluru@xyenta.com",
         "WRITE",
         {
          "mode": "Append",
          "partitionBy": "[]",
          "statsOnLoad": "false"
         },
         null,
         [
          "4089641095547163"
         ],
         "1227-053858-m1tsqg19",
         0,
         "WriteSerializable",
         true,
         {
          "numFiles": "1",
          "numOutputBytes": "2158",
          "numOutputRows": "4"
         },
         null,
         "Databricks-Runtime/13.3.x-photon-scala2.12"
        ],
        [
         0,
         "2024-02-27T13:50:19Z",
         "4700893722167418",
         "lokeswar.valluru@xyenta.com",
         "CREATE OR REPLACE TABLE AS SELECT",
         {
          "description": null,
          "isManaged": "true",
          "partitionBy": "[]",
          "properties": "{}",
          "statsOnLoad": "false"
         },
         null,
         [
          "4089641095547163"
         ],
         "1227-053858-m1tsqg19",
         null,
         "WriteSerializable",
         false,
         {
          "numFiles": "1",
          "numOutputBytes": "26014",
          "numOutputRows": "1524"
         },
         null,
         "Databricks-Runtime/13.3.x-photon-scala2.12"
        ]
       ],
       "datasetInfos": [],
       "dbfsResultPath": null,
       "isJsonSchema": true,
       "metadata": {
        "dataframeName": "_sqldf",
        "executionCount": 7
       },
       "overflow": false,
       "plotOptions": {
        "customPlotOptions": {},
        "displayType": "table",
        "pivotAggregation": null,
        "pivotColumns": null,
        "xColumns": null,
        "yColumns": null
       },
       "removedWidgets": [],
       "schema": [
        {
         "metadata": "{}",
         "name": "version",
         "type": "\"long\""
        },
        {
         "metadata": "{}",
         "name": "timestamp",
         "type": "\"timestamp\""
        },
        {
         "metadata": "{}",
         "name": "userId",
         "type": "\"string\""
        },
        {
         "metadata": "{}",
         "name": "userName",
         "type": "\"string\""
        },
        {
         "metadata": "{}",
         "name": "operation",
         "type": "\"string\""
        },
        {
         "metadata": "{}",
         "name": "operationParameters",
         "type": "{\"type\":\"map\",\"keyType\":\"string\",\"valueType\":\"string\",\"valueContainsNull\":true}"
        },
        {
         "metadata": "{}",
         "name": "job",
         "type": "{\"type\":\"struct\",\"fields\":[{\"name\":\"jobId\",\"type\":\"string\",\"nullable\":true,\"metadata\":{}},{\"name\":\"jobName\",\"type\":\"string\",\"nullable\":true,\"metadata\":{}},{\"name\":\"jobRunId\",\"type\":\"string\",\"nullable\":true,\"metadata\":{}},{\"name\":\"runId\",\"type\":\"string\",\"nullable\":true,\"metadata\":{}},{\"name\":\"jobOwnerId\",\"type\":\"string\",\"nullable\":true,\"metadata\":{}},{\"name\":\"triggerType\",\"type\":\"string\",\"nullable\":true,\"metadata\":{}}]}"
        },
        {
         "metadata": "{}",
         "name": "notebook",
         "type": "{\"type\":\"struct\",\"fields\":[{\"name\":\"notebookId\",\"type\":\"string\",\"nullable\":true,\"metadata\":{}}]}"
        },
        {
         "metadata": "{}",
         "name": "clusterId",
         "type": "\"string\""
        },
        {
         "metadata": "{}",
         "name": "readVersion",
         "type": "\"long\""
        },
        {
         "metadata": "{}",
         "name": "isolationLevel",
         "type": "\"string\""
        },
        {
         "metadata": "{}",
         "name": "isBlindAppend",
         "type": "\"boolean\""
        },
        {
         "metadata": "{}",
         "name": "operationMetrics",
         "type": "{\"type\":\"map\",\"keyType\":\"string\",\"valueType\":\"string\",\"valueContainsNull\":true}"
        },
        {
         "metadata": "{}",
         "name": "userMetadata",
         "type": "\"string\""
        },
        {
         "metadata": "{}",
         "name": "engineInfo",
         "type": "\"string\""
        }
       ],
       "type": "table"
      }
     },
     "output_type": "display_data"
    }
   ],
   "source": [
    "%sql\n",
    "\n",
    "DESCRIBE HISTORY `delta`.VersionTable"
   ]
  },
  {
   "cell_type": "code",
   "execution_count": 0,
   "metadata": {
    "application/vnd.databricks.v1+cell": {
     "cellMetadata": {
      "byteLimit": 2048000,
      "implicitDf": true,
      "rowLimit": 10000
     },
     "inputWidgets": {},
     "nuid": "7c0bcfe6-8ab4-415c-a69f-0b7a9c5063db",
     "showTitle": false,
     "title": ""
    }
   },
   "outputs": [
    {
     "output_type": "display_data",
     "data": {
      "text/html": [
       "<style scoped>\n",
       "  .table-result-container {\n",
       "    max-height: 300px;\n",
       "    overflow: auto;\n",
       "  }\n",
       "  table, th, td {\n",
       "    border: 1px solid black;\n",
       "    border-collapse: collapse;\n",
       "  }\n",
       "  th, td {\n",
       "    padding: 5px;\n",
       "  }\n",
       "  th {\n",
       "    text-align: left;\n",
       "  }\n",
       "</style><div class='table-result-container'><table class='table-result'><thead style='background-color: white'><tr><th>num_affected_rows</th></tr></thead><tbody><tr><td>4</td></tr></tbody></table></div>"
      ]
     },
     "metadata": {
      "application/vnd.databricks.v1+output": {
       "addedWidgets": {},
       "aggData": [],
       "aggError": "",
       "aggOverflow": false,
       "aggSchema": [],
       "aggSeriesLimitReached": false,
       "aggType": "",
       "arguments": {},
       "columnCustomDisplayInfos": {},
       "data": [
        [
         4
        ]
       ],
       "datasetInfos": [],
       "dbfsResultPath": null,
       "isJsonSchema": true,
       "metadata": {
        "dataframeName": "_sqldf",
        "executionCount": 8
       },
       "overflow": false,
       "plotOptions": {
        "customPlotOptions": {},
        "displayType": "table",
        "pivotAggregation": null,
        "pivotColumns": null,
        "xColumns": null,
        "yColumns": null
       },
       "removedWidgets": [],
       "schema": [
        {
         "metadata": "{}",
         "name": "num_affected_rows",
         "type": "\"long\""
        }
       ],
       "type": "table"
      }
     },
     "output_type": "display_data"
    }
   ],
   "source": [
    "%sql \n",
    "\n",
    "Update `delta`.versiontable\n",
    "set Education_Level = 'PhD'\n",
    "where Industry = 'Networking'"
   ]
  },
  {
   "cell_type": "code",
   "execution_count": 0,
   "metadata": {
    "application/vnd.databricks.v1+cell": {
     "cellMetadata": {
      "byteLimit": 2048000,
      "implicitDf": true,
      "rowLimit": 10000
     },
     "inputWidgets": {},
     "nuid": "211321da-f9da-4894-bd05-50da2a97abd6",
     "showTitle": false,
     "title": ""
    }
   },
   "outputs": [
    {
     "output_type": "display_data",
     "data": {
      "text/html": [
       "<style scoped>\n",
       "  .table-result-container {\n",
       "    max-height: 300px;\n",
       "    overflow: auto;\n",
       "  }\n",
       "  table, th, td {\n",
       "    border: 1px solid black;\n",
       "    border-collapse: collapse;\n",
       "  }\n",
       "  th, td {\n",
       "    padding: 5px;\n",
       "  }\n",
       "  th {\n",
       "    text-align: left;\n",
       "  }\n",
       "</style><div class='table-result-container'><table class='table-result'><thead style='background-color: white'><tr><th>version</th><th>timestamp</th><th>userId</th><th>userName</th><th>operation</th><th>operationParameters</th><th>job</th><th>notebook</th><th>clusterId</th><th>readVersion</th><th>isolationLevel</th><th>isBlindAppend</th><th>operationMetrics</th><th>userMetadata</th><th>engineInfo</th></tr></thead><tbody><tr><td>2</td><td>2024-02-27T13:57:26Z</td><td>4700893722167418</td><td>lokeswar.valluru@xyenta.com</td><td>UPDATE</td><td>Map(predicate -> [\"(Industry#4935 = Networking)\"])</td><td>null</td><td>List(4089641095547163)</td><td>1227-053858-m1tsqg19</td><td>1</td><td>WriteSerializable</td><td>false</td><td>Map(numRemovedFiles -> 1, numRemovedBytes -> 2158, numCopiedRows -> 0, numDeletionVectorsAdded -> 0, numDeletionVectorsRemoved -> 0, numAddedChangeFiles -> 0, executionTimeMs -> 1627, scanTimeMs -> 968, numAddedFiles -> 1, numUpdatedRows -> 4, numAddedBytes -> 2186, rewriteTimeMs -> 635)</td><td>null</td><td>Databricks-Runtime/13.3.x-photon-scala2.12</td></tr><tr><td>1</td><td>2024-02-27T13:53:12Z</td><td>4700893722167418</td><td>lokeswar.valluru@xyenta.com</td><td>WRITE</td><td>Map(mode -> Append, statsOnLoad -> false, partitionBy -> [])</td><td>null</td><td>List(4089641095547163)</td><td>1227-053858-m1tsqg19</td><td>0</td><td>WriteSerializable</td><td>true</td><td>Map(numFiles -> 1, numOutputRows -> 4, numOutputBytes -> 2158)</td><td>null</td><td>Databricks-Runtime/13.3.x-photon-scala2.12</td></tr><tr><td>0</td><td>2024-02-27T13:50:19Z</td><td>4700893722167418</td><td>lokeswar.valluru@xyenta.com</td><td>CREATE OR REPLACE TABLE AS SELECT</td><td>Map(partitionBy -> [], description -> null, isManaged -> true, properties -> {}, statsOnLoad -> false)</td><td>null</td><td>List(4089641095547163)</td><td>1227-053858-m1tsqg19</td><td>null</td><td>WriteSerializable</td><td>false</td><td>Map(numFiles -> 1, numOutputRows -> 1524, numOutputBytes -> 26014)</td><td>null</td><td>Databricks-Runtime/13.3.x-photon-scala2.12</td></tr></tbody></table></div>"
      ]
     },
     "metadata": {
      "application/vnd.databricks.v1+output": {
       "addedWidgets": {},
       "aggData": [],
       "aggError": "",
       "aggOverflow": false,
       "aggSchema": [],
       "aggSeriesLimitReached": false,
       "aggType": "",
       "arguments": {},
       "columnCustomDisplayInfos": {},
       "data": [
        [
         2,
         "2024-02-27T13:57:26Z",
         "4700893722167418",
         "lokeswar.valluru@xyenta.com",
         "UPDATE",
         {
          "predicate": "[\"(Industry#4935 = Networking)\"]"
         },
         null,
         [
          "4089641095547163"
         ],
         "1227-053858-m1tsqg19",
         1,
         "WriteSerializable",
         false,
         {
          "executionTimeMs": "1627",
          "numAddedBytes": "2186",
          "numAddedChangeFiles": "0",
          "numAddedFiles": "1",
          "numCopiedRows": "0",
          "numDeletionVectorsAdded": "0",
          "numDeletionVectorsRemoved": "0",
          "numRemovedBytes": "2158",
          "numRemovedFiles": "1",
          "numUpdatedRows": "4",
          "rewriteTimeMs": "635",
          "scanTimeMs": "968"
         },
         null,
         "Databricks-Runtime/13.3.x-photon-scala2.12"
        ],
        [
         1,
         "2024-02-27T13:53:12Z",
         "4700893722167418",
         "lokeswar.valluru@xyenta.com",
         "WRITE",
         {
          "mode": "Append",
          "partitionBy": "[]",
          "statsOnLoad": "false"
         },
         null,
         [
          "4089641095547163"
         ],
         "1227-053858-m1tsqg19",
         0,
         "WriteSerializable",
         true,
         {
          "numFiles": "1",
          "numOutputBytes": "2158",
          "numOutputRows": "4"
         },
         null,
         "Databricks-Runtime/13.3.x-photon-scala2.12"
        ],
        [
         0,
         "2024-02-27T13:50:19Z",
         "4700893722167418",
         "lokeswar.valluru@xyenta.com",
         "CREATE OR REPLACE TABLE AS SELECT",
         {
          "description": null,
          "isManaged": "true",
          "partitionBy": "[]",
          "properties": "{}",
          "statsOnLoad": "false"
         },
         null,
         [
          "4089641095547163"
         ],
         "1227-053858-m1tsqg19",
         null,
         "WriteSerializable",
         false,
         {
          "numFiles": "1",
          "numOutputBytes": "26014",
          "numOutputRows": "1524"
         },
         null,
         "Databricks-Runtime/13.3.x-photon-scala2.12"
        ]
       ],
       "datasetInfos": [],
       "dbfsResultPath": null,
       "isJsonSchema": true,
       "metadata": {
        "dataframeName": "_sqldf",
        "executionCount": 9
       },
       "overflow": false,
       "plotOptions": {
        "customPlotOptions": {},
        "displayType": "table",
        "pivotAggregation": null,
        "pivotColumns": null,
        "xColumns": null,
        "yColumns": null
       },
       "removedWidgets": [],
       "schema": [
        {
         "metadata": "{}",
         "name": "version",
         "type": "\"long\""
        },
        {
         "metadata": "{}",
         "name": "timestamp",
         "type": "\"timestamp\""
        },
        {
         "metadata": "{}",
         "name": "userId",
         "type": "\"string\""
        },
        {
         "metadata": "{}",
         "name": "userName",
         "type": "\"string\""
        },
        {
         "metadata": "{}",
         "name": "operation",
         "type": "\"string\""
        },
        {
         "metadata": "{}",
         "name": "operationParameters",
         "type": "{\"type\":\"map\",\"keyType\":\"string\",\"valueType\":\"string\",\"valueContainsNull\":true}"
        },
        {
         "metadata": "{}",
         "name": "job",
         "type": "{\"type\":\"struct\",\"fields\":[{\"name\":\"jobId\",\"type\":\"string\",\"nullable\":true,\"metadata\":{}},{\"name\":\"jobName\",\"type\":\"string\",\"nullable\":true,\"metadata\":{}},{\"name\":\"jobRunId\",\"type\":\"string\",\"nullable\":true,\"metadata\":{}},{\"name\":\"runId\",\"type\":\"string\",\"nullable\":true,\"metadata\":{}},{\"name\":\"jobOwnerId\",\"type\":\"string\",\"nullable\":true,\"metadata\":{}},{\"name\":\"triggerType\",\"type\":\"string\",\"nullable\":true,\"metadata\":{}}]}"
        },
        {
         "metadata": "{}",
         "name": "notebook",
         "type": "{\"type\":\"struct\",\"fields\":[{\"name\":\"notebookId\",\"type\":\"string\",\"nullable\":true,\"metadata\":{}}]}"
        },
        {
         "metadata": "{}",
         "name": "clusterId",
         "type": "\"string\""
        },
        {
         "metadata": "{}",
         "name": "readVersion",
         "type": "\"long\""
        },
        {
         "metadata": "{}",
         "name": "isolationLevel",
         "type": "\"string\""
        },
        {
         "metadata": "{}",
         "name": "isBlindAppend",
         "type": "\"boolean\""
        },
        {
         "metadata": "{}",
         "name": "operationMetrics",
         "type": "{\"type\":\"map\",\"keyType\":\"string\",\"valueType\":\"string\",\"valueContainsNull\":true}"
        },
        {
         "metadata": "{}",
         "name": "userMetadata",
         "type": "\"string\""
        },
        {
         "metadata": "{}",
         "name": "engineInfo",
         "type": "\"string\""
        }
       ],
       "type": "table"
      }
     },
     "output_type": "display_data"
    }
   ],
   "source": [
    "%sql\n",
    "\n",
    "DESCRIBE HISTORY `delta`.VersionTable"
   ]
  },
  {
   "cell_type": "markdown",
   "metadata": {
    "application/vnd.databricks.v1+cell": {
     "cellMetadata": {},
     "inputWidgets": {},
     "nuid": "2ac6f39b-e985-4629-bb40-5b5d08034dfb",
     "showTitle": false,
     "title": ""
    }
   },
   "source": [
    "## Get Back to Previous version:means where No Update using versionAsOf Pyspark code"
   ]
  },
  {
   "cell_type": "code",
   "execution_count": 0,
   "metadata": {
    "application/vnd.databricks.v1+cell": {
     "cellMetadata": {
      "byteLimit": 2048000,
      "rowLimit": 10000
     },
     "inputWidgets": {},
     "nuid": "4c1733d1-d269-46ce-933d-53b592f49d69",
     "showTitle": false,
     "title": ""
    }
   },
   "outputs": [],
   "source": [
    "df_1 = spark.read.format('delta').option('versionAsOf', '1').load('dbfs:/user/hive/warehouse/delta.db/versiontable')"
   ]
  },
  {
   "cell_type": "code",
   "execution_count": 0,
   "metadata": {
    "application/vnd.databricks.v1+cell": {
     "cellMetadata": {
      "byteLimit": 2048000,
      "rowLimit": 10000
     },
     "inputWidgets": {},
     "nuid": "88ac9785-8be1-45f6-8a5a-6e63b9011618",
     "showTitle": false,
     "title": ""
    }
   },
   "outputs": [
    {
     "output_type": "stream",
     "name": "stdout",
     "output_type": "stream",
     "text": [
      "+---------------+----------+\n|Education_level|  Industry|\n+---------------+----------+\n|       Bachelor|Networking|\n|         Master|Networking|\n|    High School|Networking|\n|            PhD|Networking|\n+---------------+----------+\n\n"
     ]
    }
   ],
   "source": [
    "df_1.filter(df_1['Industry'] == 'Networking').select('Education_level', 'Industry').show()"
   ]
  },
  {
   "cell_type": "markdown",
   "metadata": {
    "application/vnd.databricks.v1+cell": {
     "cellMetadata": {},
     "inputWidgets": {},
     "nuid": "2fb11553-a8ac-4a58-8285-414d3ff57700",
     "showTitle": false,
     "title": ""
    }
   },
   "source": [
    "## Get Back to Previous version:means where No Update using versionAsOf SQL"
   ]
  },
  {
   "cell_type": "code",
   "execution_count": 0,
   "metadata": {
    "application/vnd.databricks.v1+cell": {
     "cellMetadata": {
      "byteLimit": 2048000,
      "implicitDf": true,
      "rowLimit": 10000
     },
     "inputWidgets": {},
     "nuid": "1eb51379-e645-4ad1-ae67-9e89af96c42e",
     "showTitle": false,
     "title": ""
    }
   },
   "outputs": [
    {
     "output_type": "display_data",
     "data": {
      "text/html": [
       "<style scoped>\n",
       "  .table-result-container {\n",
       "    max-height: 300px;\n",
       "    overflow: auto;\n",
       "  }\n",
       "  table, th, td {\n",
       "    border: 1px solid black;\n",
       "    border-collapse: collapse;\n",
       "  }\n",
       "  th, td {\n",
       "    padding: 5px;\n",
       "  }\n",
       "  th {\n",
       "    text-align: left;\n",
       "  }\n",
       "</style><div class='table-result-container'><table class='table-result'><thead style='background-color: white'><tr><th>Education_Level</th><th>Industry</th></tr></thead><tbody><tr><td>Bachelor</td><td>Networking</td></tr><tr><td>Master</td><td>Networking</td></tr><tr><td>High School</td><td>Networking</td></tr><tr><td>PhD</td><td>Networking</td></tr></tbody></table></div>"
      ]
     },
     "metadata": {
      "application/vnd.databricks.v1+output": {
       "addedWidgets": {},
       "aggData": [],
       "aggError": "",
       "aggOverflow": false,
       "aggSchema": [],
       "aggSeriesLimitReached": false,
       "aggType": "",
       "arguments": {},
       "columnCustomDisplayInfos": {},
       "data": [
        [
         "Bachelor",
         "Networking"
        ],
        [
         "Master",
         "Networking"
        ],
        [
         "High School",
         "Networking"
        ],
        [
         "PhD",
         "Networking"
        ]
       ],
       "datasetInfos": [],
       "dbfsResultPath": null,
       "isJsonSchema": true,
       "metadata": {
        "dataframeName": "_sqldf",
        "executionCount": 22
       },
       "overflow": false,
       "plotOptions": {
        "customPlotOptions": {},
        "displayType": "table",
        "pivotAggregation": null,
        "pivotColumns": null,
        "xColumns": null,
        "yColumns": null
       },
       "removedWidgets": [],
       "schema": [
        {
         "metadata": "{}",
         "name": "Education_Level",
         "type": "\"string\""
        },
        {
         "metadata": "{}",
         "name": "Industry",
         "type": "\"string\""
        }
       ],
       "type": "table"
      }
     },
     "output_type": "display_data"
    }
   ],
   "source": [
    "%sql\n",
    "\n",
    "select Education_Level, Industry from `delta`.versiontable version as of 1\n",
    "where Industry = 'Networking'"
   ]
  },
  {
   "cell_type": "markdown",
   "metadata": {
    "application/vnd.databricks.v1+cell": {
     "cellMetadata": {},
     "inputWidgets": {},
     "nuid": "4115f7a9-abb4-4e35-a07d-0ad1a3723f0b",
     "showTitle": false,
     "title": ""
    }
   },
   "source": [
    "## using timestampAsOf pyspark : from describe we have TimeStamp Column"
   ]
  },
  {
   "cell_type": "code",
   "execution_count": 0,
   "metadata": {
    "application/vnd.databricks.v1+cell": {
     "cellMetadata": {
      "byteLimit": 2048000,
      "implicitDf": true,
      "rowLimit": 10000
     },
     "inputWidgets": {},
     "nuid": "03075c3c-d128-48d0-b43e-af327686835f",
     "showTitle": false,
     "title": ""
    }
   },
   "outputs": [
    {
     "output_type": "display_data",
     "data": {
      "text/html": [
       "<style scoped>\n",
       "  .table-result-container {\n",
       "    max-height: 300px;\n",
       "    overflow: auto;\n",
       "  }\n",
       "  table, th, td {\n",
       "    border: 1px solid black;\n",
       "    border-collapse: collapse;\n",
       "  }\n",
       "  th, td {\n",
       "    padding: 5px;\n",
       "  }\n",
       "  th {\n",
       "    text-align: left;\n",
       "  }\n",
       "</style><div class='table-result-container'><table class='table-result'><thead style='background-color: white'><tr><th>version</th><th>timestamp</th><th>userId</th><th>userName</th><th>operation</th><th>operationParameters</th><th>job</th><th>notebook</th><th>clusterId</th><th>readVersion</th><th>isolationLevel</th><th>isBlindAppend</th><th>operationMetrics</th><th>userMetadata</th><th>engineInfo</th></tr></thead><tbody><tr><td>2</td><td>2024-02-27T13:57:26Z</td><td>4700893722167418</td><td>lokeswar.valluru@xyenta.com</td><td>UPDATE</td><td>Map(predicate -> [\"(Industry#4935 = Networking)\"])</td><td>null</td><td>List(4089641095547163)</td><td>1227-053858-m1tsqg19</td><td>1</td><td>WriteSerializable</td><td>false</td><td>Map(numRemovedFiles -> 1, numRemovedBytes -> 2158, numCopiedRows -> 0, numDeletionVectorsAdded -> 0, numDeletionVectorsRemoved -> 0, numAddedChangeFiles -> 0, executionTimeMs -> 1627, scanTimeMs -> 968, numAddedFiles -> 1, numUpdatedRows -> 4, numAddedBytes -> 2186, rewriteTimeMs -> 635)</td><td>null</td><td>Databricks-Runtime/13.3.x-photon-scala2.12</td></tr><tr><td>1</td><td>2024-02-27T13:53:12Z</td><td>4700893722167418</td><td>lokeswar.valluru@xyenta.com</td><td>WRITE</td><td>Map(mode -> Append, statsOnLoad -> false, partitionBy -> [])</td><td>null</td><td>List(4089641095547163)</td><td>1227-053858-m1tsqg19</td><td>0</td><td>WriteSerializable</td><td>true</td><td>Map(numFiles -> 1, numOutputRows -> 4, numOutputBytes -> 2158)</td><td>null</td><td>Databricks-Runtime/13.3.x-photon-scala2.12</td></tr><tr><td>0</td><td>2024-02-27T13:50:19Z</td><td>4700893722167418</td><td>lokeswar.valluru@xyenta.com</td><td>CREATE OR REPLACE TABLE AS SELECT</td><td>Map(partitionBy -> [], description -> null, isManaged -> true, properties -> {}, statsOnLoad -> false)</td><td>null</td><td>List(4089641095547163)</td><td>1227-053858-m1tsqg19</td><td>null</td><td>WriteSerializable</td><td>false</td><td>Map(numFiles -> 1, numOutputRows -> 1524, numOutputBytes -> 26014)</td><td>null</td><td>Databricks-Runtime/13.3.x-photon-scala2.12</td></tr></tbody></table></div>"
      ]
     },
     "metadata": {
      "application/vnd.databricks.v1+output": {
       "addedWidgets": {},
       "aggData": [],
       "aggError": "",
       "aggOverflow": false,
       "aggSchema": [],
       "aggSeriesLimitReached": false,
       "aggType": "",
       "arguments": {},
       "columnCustomDisplayInfos": {},
       "data": [
        [
         2,
         "2024-02-27T13:57:26Z",
         "4700893722167418",
         "lokeswar.valluru@xyenta.com",
         "UPDATE",
         {
          "predicate": "[\"(Industry#4935 = Networking)\"]"
         },
         null,
         [
          "4089641095547163"
         ],
         "1227-053858-m1tsqg19",
         1,
         "WriteSerializable",
         false,
         {
          "executionTimeMs": "1627",
          "numAddedBytes": "2186",
          "numAddedChangeFiles": "0",
          "numAddedFiles": "1",
          "numCopiedRows": "0",
          "numDeletionVectorsAdded": "0",
          "numDeletionVectorsRemoved": "0",
          "numRemovedBytes": "2158",
          "numRemovedFiles": "1",
          "numUpdatedRows": "4",
          "rewriteTimeMs": "635",
          "scanTimeMs": "968"
         },
         null,
         "Databricks-Runtime/13.3.x-photon-scala2.12"
        ],
        [
         1,
         "2024-02-27T13:53:12Z",
         "4700893722167418",
         "lokeswar.valluru@xyenta.com",
         "WRITE",
         {
          "mode": "Append",
          "partitionBy": "[]",
          "statsOnLoad": "false"
         },
         null,
         [
          "4089641095547163"
         ],
         "1227-053858-m1tsqg19",
         0,
         "WriteSerializable",
         true,
         {
          "numFiles": "1",
          "numOutputBytes": "2158",
          "numOutputRows": "4"
         },
         null,
         "Databricks-Runtime/13.3.x-photon-scala2.12"
        ],
        [
         0,
         "2024-02-27T13:50:19Z",
         "4700893722167418",
         "lokeswar.valluru@xyenta.com",
         "CREATE OR REPLACE TABLE AS SELECT",
         {
          "description": null,
          "isManaged": "true",
          "partitionBy": "[]",
          "properties": "{}",
          "statsOnLoad": "false"
         },
         null,
         [
          "4089641095547163"
         ],
         "1227-053858-m1tsqg19",
         null,
         "WriteSerializable",
         false,
         {
          "numFiles": "1",
          "numOutputBytes": "26014",
          "numOutputRows": "1524"
         },
         null,
         "Databricks-Runtime/13.3.x-photon-scala2.12"
        ]
       ],
       "datasetInfos": [],
       "dbfsResultPath": null,
       "isJsonSchema": true,
       "metadata": {
        "dataframeName": "_sqldf",
        "executionCount": 23
       },
       "overflow": false,
       "plotOptions": {
        "customPlotOptions": {},
        "displayType": "table",
        "pivotAggregation": null,
        "pivotColumns": null,
        "xColumns": null,
        "yColumns": null
       },
       "removedWidgets": [],
       "schema": [
        {
         "metadata": "{}",
         "name": "version",
         "type": "\"long\""
        },
        {
         "metadata": "{}",
         "name": "timestamp",
         "type": "\"timestamp\""
        },
        {
         "metadata": "{}",
         "name": "userId",
         "type": "\"string\""
        },
        {
         "metadata": "{}",
         "name": "userName",
         "type": "\"string\""
        },
        {
         "metadata": "{}",
         "name": "operation",
         "type": "\"string\""
        },
        {
         "metadata": "{}",
         "name": "operationParameters",
         "type": "{\"type\":\"map\",\"keyType\":\"string\",\"valueType\":\"string\",\"valueContainsNull\":true}"
        },
        {
         "metadata": "{}",
         "name": "job",
         "type": "{\"type\":\"struct\",\"fields\":[{\"name\":\"jobId\",\"type\":\"string\",\"nullable\":true,\"metadata\":{}},{\"name\":\"jobName\",\"type\":\"string\",\"nullable\":true,\"metadata\":{}},{\"name\":\"jobRunId\",\"type\":\"string\",\"nullable\":true,\"metadata\":{}},{\"name\":\"runId\",\"type\":\"string\",\"nullable\":true,\"metadata\":{}},{\"name\":\"jobOwnerId\",\"type\":\"string\",\"nullable\":true,\"metadata\":{}},{\"name\":\"triggerType\",\"type\":\"string\",\"nullable\":true,\"metadata\":{}}]}"
        },
        {
         "metadata": "{}",
         "name": "notebook",
         "type": "{\"type\":\"struct\",\"fields\":[{\"name\":\"notebookId\",\"type\":\"string\",\"nullable\":true,\"metadata\":{}}]}"
        },
        {
         "metadata": "{}",
         "name": "clusterId",
         "type": "\"string\""
        },
        {
         "metadata": "{}",
         "name": "readVersion",
         "type": "\"long\""
        },
        {
         "metadata": "{}",
         "name": "isolationLevel",
         "type": "\"string\""
        },
        {
         "metadata": "{}",
         "name": "isBlindAppend",
         "type": "\"boolean\""
        },
        {
         "metadata": "{}",
         "name": "operationMetrics",
         "type": "{\"type\":\"map\",\"keyType\":\"string\",\"valueType\":\"string\",\"valueContainsNull\":true}"
        },
        {
         "metadata": "{}",
         "name": "userMetadata",
         "type": "\"string\""
        },
        {
         "metadata": "{}",
         "name": "engineInfo",
         "type": "\"string\""
        }
       ],
       "type": "table"
      }
     },
     "output_type": "display_data"
    }
   ],
   "source": [
    "%sql \n",
    "DESCRIBE HISTORY `delta`.versiontable"
   ]
  },
  {
   "cell_type": "code",
   "execution_count": 0,
   "metadata": {
    "application/vnd.databricks.v1+cell": {
     "cellMetadata": {
      "byteLimit": 2048000,
      "rowLimit": 10000
     },
     "inputWidgets": {},
     "nuid": "a8f8c158-cc0d-4dc6-a48e-ca61d089b1be",
     "showTitle": false,
     "title": ""
    }
   },
   "outputs": [],
   "source": [
    "# better to use 1 sec greater than actual value to avoid latency issues \n",
    "\n",
    "df_t_1 = spark.read.format('delta').option('timestampAsOf', '2024-02-27T13:54:13Z').load('dbfs:/user/hive/warehouse/delta.db/versiontable')"
   ]
  },
  {
   "cell_type": "code",
   "execution_count": 0,
   "metadata": {
    "application/vnd.databricks.v1+cell": {
     "cellMetadata": {
      "byteLimit": 2048000,
      "rowLimit": 10000
     },
     "inputWidgets": {},
     "nuid": "ef7fc5c7-403c-44f2-b915-dbc69e260623",
     "showTitle": false,
     "title": ""
    }
   },
   "outputs": [
    {
     "output_type": "stream",
     "name": "stdout",
     "output_type": "stream",
     "text": [
      "+---------------+-----------+--------+----------+----------+------+-------------+----------+\n|Education_Level|Line_Number|Employed|Unemployed|  Industry|Gender|Date_Inserted|dense_rank|\n+---------------+-----------+--------+----------+----------+------+-------------+----------+\n|       Bachelor|          1|    4500|       500|Networking|  Male|   2023-07-12|         1|\n|         Master|          2|    6500|       500|Networking|Female|   2023-07-12|         2|\n|    High School|          3|    3500|       500|Networking|  Male|   2023-07-12|         3|\n|            PhD|          4|    5500|       500|Networking|Female|   2023-07-12|         4|\n+---------------+-----------+--------+----------+----------+------+-------------+----------+\n\n"
     ]
    }
   ],
   "source": [
    "df_t_1.filter(df_t_1['Industry'] == \"Networking\").show()"
   ]
  },
  {
   "cell_type": "markdown",
   "metadata": {
    "application/vnd.databricks.v1+cell": {
     "cellMetadata": {},
     "inputWidgets": {},
     "nuid": "8891b896-8391-44a1-9555-49da8dae2cfd",
     "showTitle": false,
     "title": ""
    }
   },
   "source": [
    "## using timestampAsOf sql : from describe we have TimeStamp Column"
   ]
  },
  {
   "cell_type": "code",
   "execution_count": 0,
   "metadata": {
    "application/vnd.databricks.v1+cell": {
     "cellMetadata": {
      "byteLimit": 2048000,
      "implicitDf": true,
      "rowLimit": 10000
     },
     "inputWidgets": {},
     "nuid": "620314c0-6a5d-456b-8601-69327a2ebb3c",
     "showTitle": false,
     "title": ""
    }
   },
   "outputs": [
    {
     "output_type": "display_data",
     "data": {
      "text/html": [
       "<style scoped>\n",
       "  .table-result-container {\n",
       "    max-height: 300px;\n",
       "    overflow: auto;\n",
       "  }\n",
       "  table, th, td {\n",
       "    border: 1px solid black;\n",
       "    border-collapse: collapse;\n",
       "  }\n",
       "  th, td {\n",
       "    padding: 5px;\n",
       "  }\n",
       "  th {\n",
       "    text-align: left;\n",
       "  }\n",
       "</style><div class='table-result-container'><table class='table-result'><thead style='background-color: white'><tr><th>Education_Level</th><th>Line_Number</th><th>Employed</th><th>Unemployed</th><th>Industry</th><th>Gender</th><th>Date_Inserted</th><th>dense_rank</th></tr></thead><tbody><tr><td>Bachelor</td><td>1</td><td>4500</td><td>500</td><td>Networking</td><td>Male</td><td>2023-07-12</td><td>1</td></tr><tr><td>Master</td><td>2</td><td>6500</td><td>500</td><td>Networking</td><td>Female</td><td>2023-07-12</td><td>2</td></tr><tr><td>High School</td><td>3</td><td>3500</td><td>500</td><td>Networking</td><td>Male</td><td>2023-07-12</td><td>3</td></tr><tr><td>PhD</td><td>4</td><td>5500</td><td>500</td><td>Networking</td><td>Female</td><td>2023-07-12</td><td>4</td></tr></tbody></table></div>"
      ]
     },
     "metadata": {
      "application/vnd.databricks.v1+output": {
       "addedWidgets": {},
       "aggData": [],
       "aggError": "",
       "aggOverflow": false,
       "aggSchema": [],
       "aggSeriesLimitReached": false,
       "aggType": "",
       "arguments": {},
       "columnCustomDisplayInfos": {},
       "data": [
        [
         "Bachelor",
         1,
         4500,
         500,
         "Networking",
         "Male",
         "2023-07-12",
         1
        ],
        [
         "Master",
         2,
         6500,
         500,
         "Networking",
         "Female",
         "2023-07-12",
         2
        ],
        [
         "High School",
         3,
         3500,
         500,
         "Networking",
         "Male",
         "2023-07-12",
         3
        ],
        [
         "PhD",
         4,
         5500,
         500,
         "Networking",
         "Female",
         "2023-07-12",
         4
        ]
       ],
       "datasetInfos": [],
       "dbfsResultPath": null,
       "isJsonSchema": true,
       "metadata": {
        "dataframeName": "_sqldf",
        "executionCount": 26
       },
       "overflow": false,
       "plotOptions": {
        "customPlotOptions": {},
        "displayType": "table",
        "pivotAggregation": null,
        "pivotColumns": null,
        "xColumns": null,
        "yColumns": null
       },
       "removedWidgets": [],
       "schema": [
        {
         "metadata": "{}",
         "name": "Education_Level",
         "type": "\"string\""
        },
        {
         "metadata": "{}",
         "name": "Line_Number",
         "type": "\"integer\""
        },
        {
         "metadata": "{}",
         "name": "Employed",
         "type": "\"integer\""
        },
        {
         "metadata": "{}",
         "name": "Unemployed",
         "type": "\"integer\""
        },
        {
         "metadata": "{}",
         "name": "Industry",
         "type": "\"string\""
        },
        {
         "metadata": "{}",
         "name": "Gender",
         "type": "\"string\""
        },
        {
         "metadata": "{}",
         "name": "Date_Inserted",
         "type": "\"string\""
        },
        {
         "metadata": "{}",
         "name": "dense_rank",
         "type": "\"integer\""
        }
       ],
       "type": "table"
      }
     },
     "output_type": "display_data"
    }
   ],
   "source": [
    "%sql\n",
    "\n",
    "select * from `delta`.versiontable timestamp as of \"2024-02-27T13:54:13Z\"\n",
    "where Industry = 'Networking'"
   ]
  },
  {
   "cell_type": "code",
   "execution_count": 0,
   "metadata": {
    "application/vnd.databricks.v1+cell": {
     "cellMetadata": {
      "byteLimit": 2048000,
      "implicitDf": true,
      "rowLimit": 10000
     },
     "inputWidgets": {},
     "nuid": "70903813-9dd1-447a-9d73-4eca144f172d",
     "showTitle": false,
     "title": ""
    }
   },
   "outputs": [
    {
     "output_type": "display_data",
     "data": {
      "text/html": [
       "<style scoped>\n",
       "  .ansiout {\n",
       "    display: block;\n",
       "    unicode-bidi: embed;\n",
       "    white-space: pre-wrap;\n",
       "    word-wrap: break-word;\n",
       "    word-break: break-all;\n",
       "    font-family: \"Menlo\", \"Monaco\", \"Consolas\", \"Ubuntu Mono\", \"Source Code Pro\", monospace;\n",
       "    font-size: 13px;\n",
       "    color: #555;\n",
       "    margin-left: 4px;\n",
       "    line-height: 19px;\n",
       "  }\n",
       "</style>\n",
       "com.databricks.backend.common.rpc.SparkDriverExceptions$SQLExecutionException: com.databricks.sql.transaction.tahoe.DeltaErrorsBase$TimestampEarlierThanCommitRetentionException: The provided timestamp (2024-02-27 00:00:00.0) is before the earliest version available to this\n",
       "table (2024-02-27 13:50:19.0). Please use a timestamp after 2024-02-27 13:50:19.\n",
       "         \n",
       "\tat com.databricks.sql.transaction.tahoe.DeltaHistoryManager.getActiveCommitAtTime(DeltaHistoryManager.scala:150)\n",
       "\tat com.databricks.sql.transaction.tahoe.DeltaTableUtils$.resolveTimeTravelVersion(DeltaTable.scala:594)\n",
       "\tat com.databricks.sql.transaction.tahoe.catalog.DeltaTableV2.$anonfun$snapshot$1(DeltaTableV2.scala:142)\n",
       "\tat scala.Option.map(Option.scala:230)\n",
       "\tat com.databricks.sql.transaction.tahoe.catalog.DeltaTableV2.snapshot$lzycompute(DeltaTableV2.scala:141)\n",
       "\tat com.databricks.sql.transaction.tahoe.catalog.DeltaTableV2.snapshot(DeltaTableV2.scala:140)\n",
       "\tat com.databricks.sql.transaction.tahoe.catalog.DeltaTableV2.toBaseRelation(DeltaTableV2.scala:297)\n",
       "\tat com.databricks.sql.transaction.tahoe.DeltaAnalysis$$anonfun$apply$1.applyOrElse(DeltaAnalysis.scala:841)\n",
       "\tat com.databricks.sql.transaction.tahoe.DeltaAnalysis$$anonfun$apply$1.applyOrElse(DeltaAnalysis.scala:106)\n",
       "\tat org.apache.spark.sql.catalyst.plans.logical.AnalysisHelper.$anonfun$resolveOperatorsDownWithPruning$2(AnalysisHelper.scala:219)\n",
       "\tat org.apache.spark.sql.catalyst.trees.CurrentOrigin$.withOrigin(origin.scala:69)\n",
       "\tat org.apache.spark.sql.catalyst.plans.logical.AnalysisHelper.$anonfun$resolveOperatorsDownWithPruning$1(AnalysisHelper.scala:219)\n",
       "\tat org.apache.spark.sql.catalyst.plans.logical.AnalysisHelper$.allowInvokingTransformsInAnalyzer(AnalysisHelper.scala:372)\n",
       "\tat org.apache.spark.sql.catalyst.plans.logical.AnalysisHelper.resolveOperatorsDownWithPruning(AnalysisHelper.scala:217)\n",
       "\tat org.apache.spark.sql.catalyst.plans.logical.AnalysisHelper.resolveOperatorsDownWithPruning$(AnalysisHelper.scala:213)\n",
       "\tat org.apache.spark.sql.catalyst.plans.logical.LogicalPlan.resolveOperatorsDownWithPruning(LogicalPlan.scala:39)\n",
       "\tat org.apache.spark.sql.catalyst.plans.logical.AnalysisHelper.$anonfun$resolveOperatorsDownWithPruning$4(AnalysisHelper.scala:224)\n",
       "\tat org.apache.spark.sql.catalyst.trees.UnaryLike.mapChildren(TreeNode.scala:1269)\n",
       "\tat org.apache.spark.sql.catalyst.trees.UnaryLike.mapChildren$(TreeNode.scala:1268)\n",
       "\tat org.apache.spark.sql.catalyst.plans.logical.Filter.mapChildren(basicLogicalOperators.scala:325)\n",
       "\tat org.apache.spark.sql.catalyst.plans.logical.AnalysisHelper.$anonfun$resolveOperatorsDownWithPruning$1(AnalysisHelper.scala:224)\n",
       "\tat org.apache.spark.sql.catalyst.plans.logical.AnalysisHelper$.allowInvokingTransformsInAnalyzer(AnalysisHelper.scala:372)\n",
       "\tat org.apache.spark.sql.catalyst.plans.logical.AnalysisHelper.resolveOperatorsDownWithPruning(AnalysisHelper.scala:217)\n",
       "\tat org.apache.spark.sql.catalyst.plans.logical.AnalysisHelper.resolveOperatorsDownWithPruning$(AnalysisHelper.scala:213)\n",
       "\tat org.apache.spark.sql.catalyst.plans.logical.LogicalPlan.resolveOperatorsDownWithPruning(LogicalPlan.scala:39)\n",
       "\tat org.apache.spark.sql.catalyst.plans.logical.AnalysisHelper.$anonfun$resolveOperatorsDownWithPruning$4(AnalysisHelper.scala:224)\n",
       "\tat org.apache.spark.sql.catalyst.trees.UnaryLike.mapChildren(TreeNode.scala:1269)\n",
       "\tat org.apache.spark.sql.catalyst.trees.UnaryLike.mapChildren$(TreeNode.scala:1268)\n",
       "\tat org.apache.spark.sql.catalyst.plans.logical.Project.mapChildren(basicLogicalOperators.scala:83)\n",
       "\tat org.apache.spark.sql.catalyst.plans.logical.AnalysisHelper.$anonfun$resolveOperatorsDownWithPruning$1(AnalysisHelper.scala:224)\n",
       "\tat org.apache.spark.sql.catalyst.plans.logical.AnalysisHelper$.allowInvokingTransformsInAnalyzer(AnalysisHelper.scala:372)\n",
       "\tat org.apache.spark.sql.catalyst.plans.logical.AnalysisHelper.resolveOperatorsDownWithPruning(AnalysisHelper.scala:217)\n",
       "\tat org.apache.spark.sql.catalyst.plans.logical.AnalysisHelper.resolveOperatorsDownWithPruning$(AnalysisHelper.scala:213)\n",
       "\tat org.apache.spark.sql.catalyst.plans.logical.LogicalPlan.resolveOperatorsDownWithPruning(LogicalPlan.scala:39)\n",
       "\tat org.apache.spark.sql.catalyst.plans.logical.AnalysisHelper.resolveOperatorsDown(AnalysisHelper.scala:209)\n",
       "\tat org.apache.spark.sql.catalyst.plans.logical.AnalysisHelper.resolveOperatorsDown$(AnalysisHelper.scala:208)\n",
       "\tat org.apache.spark.sql.catalyst.plans.logical.LogicalPlan.resolveOperatorsDown(LogicalPlan.scala:39)\n",
       "\tat com.databricks.sql.transaction.tahoe.DeltaAnalysis.apply(DeltaAnalysis.scala:106)\n",
       "\tat com.databricks.sql.transaction.tahoe.DeltaAnalysis.apply(DeltaAnalysis.scala:100)\n",
       "\tat org.apache.spark.sql.catalyst.rules.RuleExecutor.$anonfun$execute$4(RuleExecutor.scala:286)\n",
       "\tat com.databricks.spark.util.FrameProfiler$.record(FrameProfiler.scala:94)\n",
       "\tat org.apache.spark.sql.catalyst.rules.RuleExecutor.$anonfun$execute$3(RuleExecutor.scala:286)\n",
       "\tat scala.collection.LinearSeqOptimized.foldLeft(LinearSeqOptimized.scala:126)\n",
       "\tat scala.collection.LinearSeqOptimized.foldLeft$(LinearSeqOptimized.scala:122)\n",
       "\tat scala.collection.immutable.List.foldLeft(List.scala:91)\n",
       "\tat org.apache.spark.sql.catalyst.rules.RuleExecutor.$anonfun$execute$2(RuleExecutor.scala:283)\n",
       "\tat scala.runtime.java8.JFunction0$mcV$sp.apply(JFunction0$mcV$sp.java:23)\n",
       "\tat com.databricks.spark.util.FrameProfiler$.record(FrameProfiler.scala:94)\n",
       "\tat org.apache.spark.sql.catalyst.rules.RuleExecutor.executeBatch$1(RuleExecutor.scala:266)\n",
       "\tat org.apache.spark.sql.catalyst.rules.RuleExecutor.$anonfun$execute$8(RuleExecutor.scala:353)\n",
       "\tat org.apache.spark.sql.catalyst.rules.RuleExecutor.$anonfun$execute$8$adapted(RuleExecutor.scala:353)\n",
       "\tat scala.collection.immutable.List.foreach(List.scala:431)\n",
       "\tat org.apache.spark.sql.catalyst.rules.RuleExecutor.$anonfun$execute$1(RuleExecutor.scala:353)\n",
       "\tat com.databricks.spark.util.FrameProfiler$.record(FrameProfiler.scala:94)\n",
       "\tat org.apache.spark.sql.catalyst.rules.RuleExecutor.execute(RuleExecutor.scala:233)\n",
       "\tat org.apache.spark.sql.catalyst.analysis.Analyzer.executeSameContext(Analyzer.scala:410)\n",
       "\tat org.apache.spark.sql.catalyst.analysis.Analyzer.$anonfun$execute$1(Analyzer.scala:403)\n",
       "\tat org.apache.spark.sql.catalyst.analysis.AnalysisContext$.withNewAnalysisContext(Analyzer.scala:310)\n",
       "\tat org.apache.spark.sql.catalyst.analysis.Analyzer.execute(Analyzer.scala:403)\n",
       "\tat org.apache.spark.sql.catalyst.analysis.Analyzer.execute(Analyzer.scala:329)\n",
       "\tat org.apache.spark.sql.catalyst.rules.RuleExecutor.$anonfun$executeAndTrack$1(RuleExecutor.scala:225)\n",
       "\tat org.apache.spark.sql.catalyst.QueryPlanningTracker$.withTracker(QueryPlanningTracker.scala:166)\n",
       "\tat org.apache.spark.sql.catalyst.rules.RuleExecutor.executeAndTrack(RuleExecutor.scala:225)\n",
       "\tat org.apache.spark.sql.catalyst.analysis.Analyzer.$anonfun$executeAndCheck$1(Analyzer.scala:381)\n",
       "\tat org.apache.spark.sql.catalyst.plans.logical.AnalysisHelper$.markInAnalyzer(AnalysisHelper.scala:379)\n",
       "\tat org.apache.spark.sql.catalyst.analysis.Analyzer.executeAndCheck(Analyzer.scala:380)\n",
       "\tat org.apache.spark.sql.execution.QueryExecution.$anonfun$analyzed$1(QueryExecution.scala:179)\n",
       "\tat com.databricks.spark.util.FrameProfiler$.record(FrameProfiler.scala:94)\n",
       "\tat org.apache.spark.sql.catalyst.QueryPlanningTracker.measurePhase(QueryPlanningTracker.scala:400)\n",
       "\tat org.apache.spark.sql.execution.QueryExecution.$anonfun$executePhase$4(QueryExecution.scala:431)\n",
       "\tat org.apache.spark.sql.execution.QueryExecution$.withInternalError(QueryExecution.scala:945)\n",
       "\tat org.apache.spark.sql.execution.QueryExecution.$anonfun$executePhase$2(QueryExecution.scala:431)\n",
       "\tat com.databricks.util.LexicalThreadLocal$Handle.runWith(LexicalThreadLocal.scala:63)\n",
       "\tat org.apache.spark.sql.execution.QueryExecution.$anonfun$executePhase$1(QueryExecution.scala:427)\n",
       "\tat org.apache.spark.sql.SparkSession.withActive(SparkSession.scala:1138)\n",
       "\tat org.apache.spark.sql.execution.QueryExecution.executePhase(QueryExecution.scala:427)\n",
       "\tat org.apache.spark.sql.execution.QueryExecution.analyzed$lzycompute(QueryExecution.scala:173)\n",
       "\tat org.apache.spark.sql.execution.QueryExecution.analyzed(QueryExecution.scala:172)\n",
       "\tat org.apache.spark.sql.execution.QueryExecution.assertAnalyzed(QueryExecution.scala:162)\n",
       "\tat org.apache.spark.sql.Dataset$.$anonfun$ofRows$2(Dataset.scala:115)\n",
       "\tat org.apache.spark.sql.SparkSession.withActive(SparkSession.scala:1138)\n",
       "\tat org.apache.spark.sql.SparkSession.$anonfun$withActiveAndFrameProfiler$1(SparkSession.scala:1145)\n",
       "\tat com.databricks.spark.util.FrameProfiler$.record(FrameProfiler.scala:94)\n",
       "\tat org.apache.spark.sql.SparkSession.withActiveAndFrameProfiler(SparkSession.scala:1145)\n",
       "\tat org.apache.spark.sql.Dataset$.ofRows(Dataset.scala:113)\n",
       "\tat org.apache.spark.sql.SparkSession.$anonfun$sql$5(SparkSession.scala:918)\n",
       "\tat org.apache.spark.sql.SparkSession.withActive(SparkSession.scala:1138)\n",
       "\tat org.apache.spark.sql.SparkSession.sql(SparkSession.scala:907)\n",
       "\tat org.apache.spark.sql.SparkSession.$anonfun$sql$9(SparkSession.scala:941)\n",
       "\tat org.apache.spark.sql.SparkSession.withActive(SparkSession.scala:1138)\n",
       "\tat org.apache.spark.sql.SparkSession.sql(SparkSession.scala:941)\n",
       "\tat org.apache.spark.sql.SparkSession.sql(SparkSession.scala:974)\n",
       "\tat org.apache.spark.sql.SQLContext.sql(SQLContext.scala:695)\n",
       "\tat com.databricks.backend.daemon.driver.DriverLocal$DbClassicStrategy.executeSQLQuery(DriverLocal.scala:237)\n",
       "\tat com.databricks.backend.daemon.driver.DriverLocal.executeSQLSubCommand(DriverLocal.scala:319)\n",
       "\tat com.databricks.backend.daemon.driver.DriverLocal.$anonfun$executeSql$1(DriverLocal.scala:338)\n",
       "\tat scala.collection.immutable.List.map(List.scala:293)\n",
       "\tat com.databricks.backend.daemon.driver.DriverLocal.executeSql(DriverLocal.scala:333)\n",
       "\tat com.databricks.backend.daemon.driver.JupyterDriverLocal.repl(JupyterDriverLocal.scala:709)\n",
       "\tat com.databricks.backend.daemon.driver.DriverLocal.$anonfun$execute$33(DriverLocal.scala:997)\n",
       "\tat com.databricks.unity.EmptyHandle$.runWith(UCSHandle.scala:124)\n",
       "\tat com.databricks.backend.daemon.driver.DriverLocal.$anonfun$execute$22(DriverLocal.scala:980)\n",
       "\tat com.databricks.logging.UsageLogging.$anonfun$withAttributionContext$1(UsageLogging.scala:426)\n",
       "\tat scala.util.DynamicVariable.withValue(DynamicVariable.scala:62)\n",
       "\tat com.databricks.logging.AttributionContext$.withValue(AttributionContext.scala:196)\n",
       "\tat com.databricks.logging.UsageLogging.withAttributionContext(UsageLogging.scala:424)\n",
       "\tat com.databricks.logging.UsageLogging.withAttributionContext$(UsageLogging.scala:418)\n",
       "\tat com.databricks.backend.daemon.driver.DriverLocal.withAttributionContext(DriverLocal.scala:69)\n",
       "\tat com.databricks.logging.UsageLogging.withAttributionTags(UsageLogging.scala:470)\n",
       "\tat com.databricks.logging.UsageLogging.withAttributionTags$(UsageLogging.scala:455)\n",
       "\tat com.databricks.backend.daemon.driver.DriverLocal.withAttributionTags(DriverLocal.scala:69)\n",
       "\tat com.databricks.backend.daemon.driver.DriverLocal.execute(DriverLocal.scala:935)\n",
       "\tat com.databricks.backend.daemon.driver.DriverWrapper.$anonfun$tryExecutingCommand$1(DriverWrapper.scala:798)\n",
       "\tat scala.util.Try$.apply(Try.scala:213)\n",
       "\tat com.databricks.backend.daemon.driver.DriverWrapper.tryExecutingCommand(DriverWrapper.scala:790)\n",
       "\tat com.databricks.backend.daemon.driver.DriverWrapper.executeCommandAndGetError(DriverWrapper.scala:643)\n",
       "\tat com.databricks.backend.daemon.driver.DriverWrapper.executeCommand(DriverWrapper.scala:744)\n",
       "\tat com.databricks.backend.daemon.driver.DriverWrapper.runInnerLoop(DriverWrapper.scala:520)\n",
       "\tat com.databricks.backend.daemon.driver.DriverWrapper.runInner(DriverWrapper.scala:436)\n",
       "\tat com.databricks.backend.daemon.driver.DriverWrapper.run(DriverWrapper.scala:279)\n",
       "\tat java.lang.Thread.run(Thread.java:750)\n",
       "\n",
       "\tat com.databricks.backend.daemon.driver.DriverLocal.executeSql(DriverLocal.scala:376)\n",
       "\tat com.databricks.backend.daemon.driver.JupyterDriverLocal.repl(JupyterDriverLocal.scala:709)\n",
       "\tat com.databricks.backend.daemon.driver.DriverLocal.$anonfun$execute$33(DriverLocal.scala:997)\n",
       "\tat com.databricks.unity.EmptyHandle$.runWith(UCSHandle.scala:124)\n",
       "\tat com.databricks.backend.daemon.driver.DriverLocal.$anonfun$execute$22(DriverLocal.scala:980)\n",
       "\tat com.databricks.logging.UsageLogging.$anonfun$withAttributionContext$1(UsageLogging.scala:426)\n",
       "\tat scala.util.DynamicVariable.withValue(DynamicVariable.scala:62)\n",
       "\tat com.databricks.logging.AttributionContext$.withValue(AttributionContext.scala:196)\n",
       "\tat com.databricks.logging.UsageLogging.withAttributionContext(UsageLogging.scala:424)\n",
       "\tat com.databricks.logging.UsageLogging.withAttributionContext$(UsageLogging.scala:418)\n",
       "\tat com.databricks.backend.daemon.driver.DriverLocal.withAttributionContext(DriverLocal.scala:69)\n",
       "\tat com.databricks.logging.UsageLogging.withAttributionTags(UsageLogging.scala:470)\n",
       "\tat com.databricks.logging.UsageLogging.withAttributionTags$(UsageLogging.scala:455)\n",
       "\tat com.databricks.backend.daemon.driver.DriverLocal.withAttributionTags(DriverLocal.scala:69)\n",
       "\tat com.databricks.backend.daemon.driver.DriverLocal.execute(DriverLocal.scala:935)\n",
       "\tat com.databricks.backend.daemon.driver.DriverWrapper.$anonfun$tryExecutingCommand$1(DriverWrapper.scala:798)\n",
       "\tat scala.util.Try$.apply(Try.scala:213)\n",
       "\tat com.databricks.backend.daemon.driver.DriverWrapper.tryExecutingCommand(DriverWrapper.scala:790)\n",
       "\tat com.databricks.backend.daemon.driver.DriverWrapper.executeCommandAndGetError(DriverWrapper.scala:643)\n",
       "\tat com.databricks.backend.daemon.driver.DriverWrapper.executeCommand(DriverWrapper.scala:744)\n",
       "\tat com.databricks.backend.daemon.driver.DriverWrapper.runInnerLoop(DriverWrapper.scala:520)\n",
       "\tat com.databricks.backend.daemon.driver.DriverWrapper.runInner(DriverWrapper.scala:436)\n",
       "\tat com.databricks.backend.daemon.driver.DriverWrapper.run(DriverWrapper.scala:279)\n",
       "\tat java.lang.Thread.run(Thread.java:750)"
      ]
     },
     "metadata": {
      "application/vnd.databricks.v1+output": {
       "arguments": {},
       "data": "com.databricks.backend.common.rpc.SparkDriverExceptions$SQLExecutionException: com.databricks.sql.transaction.tahoe.DeltaErrorsBase$TimestampEarlierThanCommitRetentionException: The provided timestamp (2024-02-27 00:00:00.0) is before the earliest version available to this\ntable (2024-02-27 13:50:19.0). Please use a timestamp after 2024-02-27 13:50:19.\n         \n\tat com.databricks.sql.transaction.tahoe.DeltaHistoryManager.getActiveCommitAtTime(DeltaHistoryManager.scala:150)\n\tat com.databricks.sql.transaction.tahoe.DeltaTableUtils$.resolveTimeTravelVersion(DeltaTable.scala:594)\n\tat com.databricks.sql.transaction.tahoe.catalog.DeltaTableV2.$anonfun$snapshot$1(DeltaTableV2.scala:142)\n\tat scala.Option.map(Option.scala:230)\n\tat com.databricks.sql.transaction.tahoe.catalog.DeltaTableV2.snapshot$lzycompute(DeltaTableV2.scala:141)\n\tat com.databricks.sql.transaction.tahoe.catalog.DeltaTableV2.snapshot(DeltaTableV2.scala:140)\n\tat com.databricks.sql.transaction.tahoe.catalog.DeltaTableV2.toBaseRelation(DeltaTableV2.scala:297)\n\tat com.databricks.sql.transaction.tahoe.DeltaAnalysis$$anonfun$apply$1.applyOrElse(DeltaAnalysis.scala:841)\n\tat com.databricks.sql.transaction.tahoe.DeltaAnalysis$$anonfun$apply$1.applyOrElse(DeltaAnalysis.scala:106)\n\tat org.apache.spark.sql.catalyst.plans.logical.AnalysisHelper.$anonfun$resolveOperatorsDownWithPruning$2(AnalysisHelper.scala:219)\n\tat org.apache.spark.sql.catalyst.trees.CurrentOrigin$.withOrigin(origin.scala:69)\n\tat org.apache.spark.sql.catalyst.plans.logical.AnalysisHelper.$anonfun$resolveOperatorsDownWithPruning$1(AnalysisHelper.scala:219)\n\tat org.apache.spark.sql.catalyst.plans.logical.AnalysisHelper$.allowInvokingTransformsInAnalyzer(AnalysisHelper.scala:372)\n\tat org.apache.spark.sql.catalyst.plans.logical.AnalysisHelper.resolveOperatorsDownWithPruning(AnalysisHelper.scala:217)\n\tat org.apache.spark.sql.catalyst.plans.logical.AnalysisHelper.resolveOperatorsDownWithPruning$(AnalysisHelper.scala:213)\n\tat org.apache.spark.sql.catalyst.plans.logical.LogicalPlan.resolveOperatorsDownWithPruning(LogicalPlan.scala:39)\n\tat org.apache.spark.sql.catalyst.plans.logical.AnalysisHelper.$anonfun$resolveOperatorsDownWithPruning$4(AnalysisHelper.scala:224)\n\tat org.apache.spark.sql.catalyst.trees.UnaryLike.mapChildren(TreeNode.scala:1269)\n\tat org.apache.spark.sql.catalyst.trees.UnaryLike.mapChildren$(TreeNode.scala:1268)\n\tat org.apache.spark.sql.catalyst.plans.logical.Filter.mapChildren(basicLogicalOperators.scala:325)\n\tat org.apache.spark.sql.catalyst.plans.logical.AnalysisHelper.$anonfun$resolveOperatorsDownWithPruning$1(AnalysisHelper.scala:224)\n\tat org.apache.spark.sql.catalyst.plans.logical.AnalysisHelper$.allowInvokingTransformsInAnalyzer(AnalysisHelper.scala:372)\n\tat org.apache.spark.sql.catalyst.plans.logical.AnalysisHelper.resolveOperatorsDownWithPruning(AnalysisHelper.scala:217)\n\tat org.apache.spark.sql.catalyst.plans.logical.AnalysisHelper.resolveOperatorsDownWithPruning$(AnalysisHelper.scala:213)\n\tat org.apache.spark.sql.catalyst.plans.logical.LogicalPlan.resolveOperatorsDownWithPruning(LogicalPlan.scala:39)\n\tat org.apache.spark.sql.catalyst.plans.logical.AnalysisHelper.$anonfun$resolveOperatorsDownWithPruning$4(AnalysisHelper.scala:224)\n\tat org.apache.spark.sql.catalyst.trees.UnaryLike.mapChildren(TreeNode.scala:1269)\n\tat org.apache.spark.sql.catalyst.trees.UnaryLike.mapChildren$(TreeNode.scala:1268)\n\tat org.apache.spark.sql.catalyst.plans.logical.Project.mapChildren(basicLogicalOperators.scala:83)\n\tat org.apache.spark.sql.catalyst.plans.logical.AnalysisHelper.$anonfun$resolveOperatorsDownWithPruning$1(AnalysisHelper.scala:224)\n\tat org.apache.spark.sql.catalyst.plans.logical.AnalysisHelper$.allowInvokingTransformsInAnalyzer(AnalysisHelper.scala:372)\n\tat org.apache.spark.sql.catalyst.plans.logical.AnalysisHelper.resolveOperatorsDownWithPruning(AnalysisHelper.scala:217)\n\tat org.apache.spark.sql.catalyst.plans.logical.AnalysisHelper.resolveOperatorsDownWithPruning$(AnalysisHelper.scala:213)\n\tat org.apache.spark.sql.catalyst.plans.logical.LogicalPlan.resolveOperatorsDownWithPruning(LogicalPlan.scala:39)\n\tat org.apache.spark.sql.catalyst.plans.logical.AnalysisHelper.resolveOperatorsDown(AnalysisHelper.scala:209)\n\tat org.apache.spark.sql.catalyst.plans.logical.AnalysisHelper.resolveOperatorsDown$(AnalysisHelper.scala:208)\n\tat org.apache.spark.sql.catalyst.plans.logical.LogicalPlan.resolveOperatorsDown(LogicalPlan.scala:39)\n\tat com.databricks.sql.transaction.tahoe.DeltaAnalysis.apply(DeltaAnalysis.scala:106)\n\tat com.databricks.sql.transaction.tahoe.DeltaAnalysis.apply(DeltaAnalysis.scala:100)\n\tat org.apache.spark.sql.catalyst.rules.RuleExecutor.$anonfun$execute$4(RuleExecutor.scala:286)\n\tat com.databricks.spark.util.FrameProfiler$.record(FrameProfiler.scala:94)\n\tat org.apache.spark.sql.catalyst.rules.RuleExecutor.$anonfun$execute$3(RuleExecutor.scala:286)\n\tat scala.collection.LinearSeqOptimized.foldLeft(LinearSeqOptimized.scala:126)\n\tat scala.collection.LinearSeqOptimized.foldLeft$(LinearSeqOptimized.scala:122)\n\tat scala.collection.immutable.List.foldLeft(List.scala:91)\n\tat org.apache.spark.sql.catalyst.rules.RuleExecutor.$anonfun$execute$2(RuleExecutor.scala:283)\n\tat scala.runtime.java8.JFunction0$mcV$sp.apply(JFunction0$mcV$sp.java:23)\n\tat com.databricks.spark.util.FrameProfiler$.record(FrameProfiler.scala:94)\n\tat org.apache.spark.sql.catalyst.rules.RuleExecutor.executeBatch$1(RuleExecutor.scala:266)\n\tat org.apache.spark.sql.catalyst.rules.RuleExecutor.$anonfun$execute$8(RuleExecutor.scala:353)\n\tat org.apache.spark.sql.catalyst.rules.RuleExecutor.$anonfun$execute$8$adapted(RuleExecutor.scala:353)\n\tat scala.collection.immutable.List.foreach(List.scala:431)\n\tat org.apache.spark.sql.catalyst.rules.RuleExecutor.$anonfun$execute$1(RuleExecutor.scala:353)\n\tat com.databricks.spark.util.FrameProfiler$.record(FrameProfiler.scala:94)\n\tat org.apache.spark.sql.catalyst.rules.RuleExecutor.execute(RuleExecutor.scala:233)\n\tat org.apache.spark.sql.catalyst.analysis.Analyzer.executeSameContext(Analyzer.scala:410)\n\tat org.apache.spark.sql.catalyst.analysis.Analyzer.$anonfun$execute$1(Analyzer.scala:403)\n\tat org.apache.spark.sql.catalyst.analysis.AnalysisContext$.withNewAnalysisContext(Analyzer.scala:310)\n\tat org.apache.spark.sql.catalyst.analysis.Analyzer.execute(Analyzer.scala:403)\n\tat org.apache.spark.sql.catalyst.analysis.Analyzer.execute(Analyzer.scala:329)\n\tat org.apache.spark.sql.catalyst.rules.RuleExecutor.$anonfun$executeAndTrack$1(RuleExecutor.scala:225)\n\tat org.apache.spark.sql.catalyst.QueryPlanningTracker$.withTracker(QueryPlanningTracker.scala:166)\n\tat org.apache.spark.sql.catalyst.rules.RuleExecutor.executeAndTrack(RuleExecutor.scala:225)\n\tat org.apache.spark.sql.catalyst.analysis.Analyzer.$anonfun$executeAndCheck$1(Analyzer.scala:381)\n\tat org.apache.spark.sql.catalyst.plans.logical.AnalysisHelper$.markInAnalyzer(AnalysisHelper.scala:379)\n\tat org.apache.spark.sql.catalyst.analysis.Analyzer.executeAndCheck(Analyzer.scala:380)\n\tat org.apache.spark.sql.execution.QueryExecution.$anonfun$analyzed$1(QueryExecution.scala:179)\n\tat com.databricks.spark.util.FrameProfiler$.record(FrameProfiler.scala:94)\n\tat org.apache.spark.sql.catalyst.QueryPlanningTracker.measurePhase(QueryPlanningTracker.scala:400)\n\tat org.apache.spark.sql.execution.QueryExecution.$anonfun$executePhase$4(QueryExecution.scala:431)\n\tat org.apache.spark.sql.execution.QueryExecution$.withInternalError(QueryExecution.scala:945)\n\tat org.apache.spark.sql.execution.QueryExecution.$anonfun$executePhase$2(QueryExecution.scala:431)\n\tat com.databricks.util.LexicalThreadLocal$Handle.runWith(LexicalThreadLocal.scala:63)\n\tat org.apache.spark.sql.execution.QueryExecution.$anonfun$executePhase$1(QueryExecution.scala:427)\n\tat org.apache.spark.sql.SparkSession.withActive(SparkSession.scala:1138)\n\tat org.apache.spark.sql.execution.QueryExecution.executePhase(QueryExecution.scala:427)\n\tat org.apache.spark.sql.execution.QueryExecution.analyzed$lzycompute(QueryExecution.scala:173)\n\tat org.apache.spark.sql.execution.QueryExecution.analyzed(QueryExecution.scala:172)\n\tat org.apache.spark.sql.execution.QueryExecution.assertAnalyzed(QueryExecution.scala:162)\n\tat org.apache.spark.sql.Dataset$.$anonfun$ofRows$2(Dataset.scala:115)\n\tat org.apache.spark.sql.SparkSession.withActive(SparkSession.scala:1138)\n\tat org.apache.spark.sql.SparkSession.$anonfun$withActiveAndFrameProfiler$1(SparkSession.scala:1145)\n\tat com.databricks.spark.util.FrameProfiler$.record(FrameProfiler.scala:94)\n\tat org.apache.spark.sql.SparkSession.withActiveAndFrameProfiler(SparkSession.scala:1145)\n\tat org.apache.spark.sql.Dataset$.ofRows(Dataset.scala:113)\n\tat org.apache.spark.sql.SparkSession.$anonfun$sql$5(SparkSession.scala:918)\n\tat org.apache.spark.sql.SparkSession.withActive(SparkSession.scala:1138)\n\tat org.apache.spark.sql.SparkSession.sql(SparkSession.scala:907)\n\tat org.apache.spark.sql.SparkSession.$anonfun$sql$9(SparkSession.scala:941)\n\tat org.apache.spark.sql.SparkSession.withActive(SparkSession.scala:1138)\n\tat org.apache.spark.sql.SparkSession.sql(SparkSession.scala:941)\n\tat org.apache.spark.sql.SparkSession.sql(SparkSession.scala:974)\n\tat org.apache.spark.sql.SQLContext.sql(SQLContext.scala:695)\n\tat com.databricks.backend.daemon.driver.DriverLocal$DbClassicStrategy.executeSQLQuery(DriverLocal.scala:237)\n\tat com.databricks.backend.daemon.driver.DriverLocal.executeSQLSubCommand(DriverLocal.scala:319)\n\tat com.databricks.backend.daemon.driver.DriverLocal.$anonfun$executeSql$1(DriverLocal.scala:338)\n\tat scala.collection.immutable.List.map(List.scala:293)\n\tat com.databricks.backend.daemon.driver.DriverLocal.executeSql(DriverLocal.scala:333)\n\tat com.databricks.backend.daemon.driver.JupyterDriverLocal.repl(JupyterDriverLocal.scala:709)\n\tat com.databricks.backend.daemon.driver.DriverLocal.$anonfun$execute$33(DriverLocal.scala:997)\n\tat com.databricks.unity.EmptyHandle$.runWith(UCSHandle.scala:124)\n\tat com.databricks.backend.daemon.driver.DriverLocal.$anonfun$execute$22(DriverLocal.scala:980)\n\tat com.databricks.logging.UsageLogging.$anonfun$withAttributionContext$1(UsageLogging.scala:426)\n\tat scala.util.DynamicVariable.withValue(DynamicVariable.scala:62)\n\tat com.databricks.logging.AttributionContext$.withValue(AttributionContext.scala:196)\n\tat com.databricks.logging.UsageLogging.withAttributionContext(UsageLogging.scala:424)\n\tat com.databricks.logging.UsageLogging.withAttributionContext$(UsageLogging.scala:418)\n\tat com.databricks.backend.daemon.driver.DriverLocal.withAttributionContext(DriverLocal.scala:69)\n\tat com.databricks.logging.UsageLogging.withAttributionTags(UsageLogging.scala:470)\n\tat com.databricks.logging.UsageLogging.withAttributionTags$(UsageLogging.scala:455)\n\tat com.databricks.backend.daemon.driver.DriverLocal.withAttributionTags(DriverLocal.scala:69)\n\tat com.databricks.backend.daemon.driver.DriverLocal.execute(DriverLocal.scala:935)\n\tat com.databricks.backend.daemon.driver.DriverWrapper.$anonfun$tryExecutingCommand$1(DriverWrapper.scala:798)\n\tat scala.util.Try$.apply(Try.scala:213)\n\tat com.databricks.backend.daemon.driver.DriverWrapper.tryExecutingCommand(DriverWrapper.scala:790)\n\tat com.databricks.backend.daemon.driver.DriverWrapper.executeCommandAndGetError(DriverWrapper.scala:643)\n\tat com.databricks.backend.daemon.driver.DriverWrapper.executeCommand(DriverWrapper.scala:744)\n\tat com.databricks.backend.daemon.driver.DriverWrapper.runInnerLoop(DriverWrapper.scala:520)\n\tat com.databricks.backend.daemon.driver.DriverWrapper.runInner(DriverWrapper.scala:436)\n\tat com.databricks.backend.daemon.driver.DriverWrapper.run(DriverWrapper.scala:279)\n\tat java.lang.Thread.run(Thread.java:750)\n\n\tat com.databricks.backend.daemon.driver.DriverLocal.executeSql(DriverLocal.scala:376)\n\tat com.databricks.backend.daemon.driver.JupyterDriverLocal.repl(JupyterDriverLocal.scala:709)\n\tat com.databricks.backend.daemon.driver.DriverLocal.$anonfun$execute$33(DriverLocal.scala:997)\n\tat com.databricks.unity.EmptyHandle$.runWith(UCSHandle.scala:124)\n\tat com.databricks.backend.daemon.driver.DriverLocal.$anonfun$execute$22(DriverLocal.scala:980)\n\tat com.databricks.logging.UsageLogging.$anonfun$withAttributionContext$1(UsageLogging.scala:426)\n\tat scala.util.DynamicVariable.withValue(DynamicVariable.scala:62)\n\tat com.databricks.logging.AttributionContext$.withValue(AttributionContext.scala:196)\n\tat com.databricks.logging.UsageLogging.withAttributionContext(UsageLogging.scala:424)\n\tat com.databricks.logging.UsageLogging.withAttributionContext$(UsageLogging.scala:418)\n\tat com.databricks.backend.daemon.driver.DriverLocal.withAttributionContext(DriverLocal.scala:69)\n\tat com.databricks.logging.UsageLogging.withAttributionTags(UsageLogging.scala:470)\n\tat com.databricks.logging.UsageLogging.withAttributionTags$(UsageLogging.scala:455)\n\tat com.databricks.backend.daemon.driver.DriverLocal.withAttributionTags(DriverLocal.scala:69)\n\tat com.databricks.backend.daemon.driver.DriverLocal.execute(DriverLocal.scala:935)\n\tat com.databricks.backend.daemon.driver.DriverWrapper.$anonfun$tryExecutingCommand$1(DriverWrapper.scala:798)\n\tat scala.util.Try$.apply(Try.scala:213)\n\tat com.databricks.backend.daemon.driver.DriverWrapper.tryExecutingCommand(DriverWrapper.scala:790)\n\tat com.databricks.backend.daemon.driver.DriverWrapper.executeCommandAndGetError(DriverWrapper.scala:643)\n\tat com.databricks.backend.daemon.driver.DriverWrapper.executeCommand(DriverWrapper.scala:744)\n\tat com.databricks.backend.daemon.driver.DriverWrapper.runInnerLoop(DriverWrapper.scala:520)\n\tat com.databricks.backend.daemon.driver.DriverWrapper.runInner(DriverWrapper.scala:436)\n\tat com.databricks.backend.daemon.driver.DriverWrapper.run(DriverWrapper.scala:279)\n\tat java.lang.Thread.run(Thread.java:750)\n",
       "errorSummary": "DeltaErrorsBase.TimestampEarlierThanCommitRetentionException: The provided timestamp (2024-02-27 00:00:00.0) is before the earliest version available to this\ntable (2024-02-27 13:50:19.0). Please use a timestamp after 2024-02-27 13:50:19.\n         ",
       "errorTraceType": "html",
       "metadata": {},
       "type": "ipynbError"
      }
     },
     "output_type": "display_data"
    }
   ],
   "source": [
    "%sql\n",
    "-- or with date also we can do version . either prevous date if we have (But if we run here we will get error, becuse we don't have previous date)\n",
    "\n",
    "select * from `delta`.versiontable timestamp as of '2024-02-27' where Industry = 'Networking'"
   ]
  },
  {
   "cell_type": "markdown",
   "metadata": {
    "application/vnd.databricks.v1+cell": {
     "cellMetadata": {},
     "inputWidgets": {},
     "nuid": "0c314712-b805-47da-aa8b-b86dd4ad86ef",
     "showTitle": false,
     "title": ""
    }
   },
   "source": [
    "\n",
    "## Now restore table entirly . so far we are selecting for resotre use RESTORE"
   ]
  },
  {
   "cell_type": "code",
   "execution_count": 0,
   "metadata": {
    "application/vnd.databricks.v1+cell": {
     "cellMetadata": {
      "byteLimit": 2048000,
      "implicitDf": true,
      "rowLimit": 10000
     },
     "inputWidgets": {},
     "nuid": "114d4048-daaf-41ef-80d9-51ac5fb2204d",
     "showTitle": false,
     "title": ""
    }
   },
   "outputs": [
    {
     "output_type": "display_data",
     "data": {
      "text/html": [
       "<style scoped>\n",
       "  .table-result-container {\n",
       "    max-height: 300px;\n",
       "    overflow: auto;\n",
       "  }\n",
       "  table, th, td {\n",
       "    border: 1px solid black;\n",
       "    border-collapse: collapse;\n",
       "  }\n",
       "  th, td {\n",
       "    padding: 5px;\n",
       "  }\n",
       "  th {\n",
       "    text-align: left;\n",
       "  }\n",
       "</style><div class='table-result-container'><table class='table-result'><thead style='background-color: white'><tr><th>table_size_after_restore</th><th>num_of_files_after_restore</th><th>num_removed_files</th><th>num_restored_files</th><th>removed_files_size</th><th>restored_files_size</th></tr></thead><tbody><tr><td>28172</td><td>2</td><td>1</td><td>1</td><td>2186</td><td>2158</td></tr></tbody></table></div>"
      ]
     },
     "metadata": {
      "application/vnd.databricks.v1+output": {
       "addedWidgets": {},
       "aggData": [],
       "aggError": "",
       "aggOverflow": false,
       "aggSchema": [],
       "aggSeriesLimitReached": false,
       "aggType": "",
       "arguments": {},
       "columnCustomDisplayInfos": {},
       "data": [
        [
         28172,
         2,
         1,
         1,
         2186,
         2158
        ]
       ],
       "datasetInfos": [],
       "dbfsResultPath": null,
       "isJsonSchema": true,
       "metadata": {
        "dataframeName": "_sqldf",
        "executionCount": 27
       },
       "overflow": false,
       "plotOptions": {
        "customPlotOptions": {},
        "displayType": "table",
        "pivotAggregation": null,
        "pivotColumns": null,
        "xColumns": null,
        "yColumns": null
       },
       "removedWidgets": [],
       "schema": [
        {
         "metadata": "{}",
         "name": "table_size_after_restore",
         "type": "\"long\""
        },
        {
         "metadata": "{}",
         "name": "num_of_files_after_restore",
         "type": "\"long\""
        },
        {
         "metadata": "{}",
         "name": "num_removed_files",
         "type": "\"long\""
        },
        {
         "metadata": "{}",
         "name": "num_restored_files",
         "type": "\"long\""
        },
        {
         "metadata": "{}",
         "name": "removed_files_size",
         "type": "\"long\""
        },
        {
         "metadata": "{}",
         "name": "restored_files_size",
         "type": "\"long\""
        }
       ],
       "type": "table"
      }
     },
     "output_type": "display_data"
    }
   ],
   "source": [
    "%sql\n",
    "RESTORE TABLE `delta`.versiontable TO VERSION AS OF 1"
   ]
  },
  {
   "cell_type": "code",
   "execution_count": 0,
   "metadata": {
    "application/vnd.databricks.v1+cell": {
     "cellMetadata": {
      "byteLimit": 2048000,
      "implicitDf": true,
      "rowLimit": 10000
     },
     "inputWidgets": {},
     "nuid": "319ec894-19fc-4f3f-b19a-85f896a1cfb4",
     "showTitle": false,
     "title": ""
    }
   },
   "outputs": [
    {
     "output_type": "display_data",
     "data": {
      "text/html": [
       "<style scoped>\n",
       "  .table-result-container {\n",
       "    max-height: 300px;\n",
       "    overflow: auto;\n",
       "  }\n",
       "  table, th, td {\n",
       "    border: 1px solid black;\n",
       "    border-collapse: collapse;\n",
       "  }\n",
       "  th, td {\n",
       "    padding: 5px;\n",
       "  }\n",
       "  th {\n",
       "    text-align: left;\n",
       "  }\n",
       "</style><div class='table-result-container'><table class='table-result'><thead style='background-color: white'><tr><th>Education_Level</th><th>Line_Number</th><th>Employed</th><th>Unemployed</th><th>Industry</th><th>Gender</th><th>Date_Inserted</th><th>dense_rank</th></tr></thead><tbody><tr><td>Bachelor</td><td>1</td><td>4500</td><td>500</td><td>Networking</td><td>Male</td><td>2023-07-12</td><td>1</td></tr><tr><td>Master</td><td>2</td><td>6500</td><td>500</td><td>Networking</td><td>Female</td><td>2023-07-12</td><td>2</td></tr><tr><td>High School</td><td>3</td><td>3500</td><td>500</td><td>Networking</td><td>Male</td><td>2023-07-12</td><td>3</td></tr><tr><td>PhD</td><td>4</td><td>5500</td><td>500</td><td>Networking</td><td>Female</td><td>2023-07-12</td><td>4</td></tr></tbody></table></div>"
      ]
     },
     "metadata": {
      "application/vnd.databricks.v1+output": {
       "addedWidgets": {},
       "aggData": [],
       "aggError": "",
       "aggOverflow": false,
       "aggSchema": [],
       "aggSeriesLimitReached": false,
       "aggType": "",
       "arguments": {},
       "columnCustomDisplayInfos": {},
       "data": [
        [
         "Bachelor",
         1,
         4500,
         500,
         "Networking",
         "Male",
         "2023-07-12",
         1
        ],
        [
         "Master",
         2,
         6500,
         500,
         "Networking",
         "Female",
         "2023-07-12",
         2
        ],
        [
         "High School",
         3,
         3500,
         500,
         "Networking",
         "Male",
         "2023-07-12",
         3
        ],
        [
         "PhD",
         4,
         5500,
         500,
         "Networking",
         "Female",
         "2023-07-12",
         4
        ]
       ],
       "datasetInfos": [],
       "dbfsResultPath": null,
       "isJsonSchema": true,
       "metadata": {
        "dataframeName": "_sqldf",
        "executionCount": 29
       },
       "overflow": false,
       "plotOptions": {
        "customPlotOptions": {},
        "displayType": "table",
        "pivotAggregation": null,
        "pivotColumns": null,
        "xColumns": null,
        "yColumns": null
       },
       "removedWidgets": [],
       "schema": [
        {
         "metadata": "{}",
         "name": "Education_Level",
         "type": "\"string\""
        },
        {
         "metadata": "{}",
         "name": "Line_Number",
         "type": "\"integer\""
        },
        {
         "metadata": "{}",
         "name": "Employed",
         "type": "\"integer\""
        },
        {
         "metadata": "{}",
         "name": "Unemployed",
         "type": "\"integer\""
        },
        {
         "metadata": "{}",
         "name": "Industry",
         "type": "\"string\""
        },
        {
         "metadata": "{}",
         "name": "Gender",
         "type": "\"string\""
        },
        {
         "metadata": "{}",
         "name": "Date_Inserted",
         "type": "\"string\""
        },
        {
         "metadata": "{}",
         "name": "dense_rank",
         "type": "\"integer\""
        }
       ],
       "type": "table"
      }
     },
     "output_type": "display_data"
    }
   ],
   "source": [
    "%sql\n",
    "-- check \n",
    "\n",
    "select * from `delta`.versiontable where Industry = 'Networking'\n"
   ]
  },
  {
   "cell_type": "code",
   "execution_count": 0,
   "metadata": {
    "application/vnd.databricks.v1+cell": {
     "cellMetadata": {
      "byteLimit": 2048000,
      "implicitDf": true,
      "rowLimit": 10000
     },
     "inputWidgets": {},
     "nuid": "cd33b2bf-828d-4712-999f-eecc7b639230",
     "showTitle": false,
     "title": ""
    }
   },
   "outputs": [
    {
     "output_type": "display_data",
     "data": {
      "text/html": [
       "<style scoped>\n",
       "  .table-result-container {\n",
       "    max-height: 300px;\n",
       "    overflow: auto;\n",
       "  }\n",
       "  table, th, td {\n",
       "    border: 1px solid black;\n",
       "    border-collapse: collapse;\n",
       "  }\n",
       "  th, td {\n",
       "    padding: 5px;\n",
       "  }\n",
       "  th {\n",
       "    text-align: left;\n",
       "  }\n",
       "</style><div class='table-result-container'><table class='table-result'><thead style='background-color: white'><tr><th>version</th><th>timestamp</th><th>userId</th><th>userName</th><th>operation</th><th>operationParameters</th><th>job</th><th>notebook</th><th>clusterId</th><th>readVersion</th><th>isolationLevel</th><th>isBlindAppend</th><th>operationMetrics</th><th>userMetadata</th><th>engineInfo</th></tr></thead><tbody><tr><td>3</td><td>2024-02-27T14:18:13Z</td><td>4700893722167418</td><td>lokeswar.valluru@xyenta.com</td><td>RESTORE</td><td>Map(version -> 1, timestamp -> null)</td><td>null</td><td>List(4089641095547163)</td><td>1227-053858-m1tsqg19</td><td>2</td><td>Serializable</td><td>false</td><td>Map(numRestoredFiles -> 1, removedFilesSize -> 2186, numRemovedFiles -> 1, restoredFilesSize -> 2158, numOfFilesAfterRestore -> 2, tableSizeAfterRestore -> 28172)</td><td>null</td><td>Databricks-Runtime/13.3.x-photon-scala2.12</td></tr><tr><td>2</td><td>2024-02-27T13:57:26Z</td><td>4700893722167418</td><td>lokeswar.valluru@xyenta.com</td><td>UPDATE</td><td>Map(predicate -> [\"(Industry#4935 = Networking)\"])</td><td>null</td><td>List(4089641095547163)</td><td>1227-053858-m1tsqg19</td><td>1</td><td>WriteSerializable</td><td>false</td><td>Map(numRemovedFiles -> 1, numRemovedBytes -> 2158, numCopiedRows -> 0, numDeletionVectorsAdded -> 0, numDeletionVectorsRemoved -> 0, numAddedChangeFiles -> 0, executionTimeMs -> 1627, scanTimeMs -> 968, numAddedFiles -> 1, numUpdatedRows -> 4, numAddedBytes -> 2186, rewriteTimeMs -> 635)</td><td>null</td><td>Databricks-Runtime/13.3.x-photon-scala2.12</td></tr><tr><td>1</td><td>2024-02-27T13:53:12Z</td><td>4700893722167418</td><td>lokeswar.valluru@xyenta.com</td><td>WRITE</td><td>Map(mode -> Append, statsOnLoad -> false, partitionBy -> [])</td><td>null</td><td>List(4089641095547163)</td><td>1227-053858-m1tsqg19</td><td>0</td><td>WriteSerializable</td><td>true</td><td>Map(numFiles -> 1, numOutputRows -> 4, numOutputBytes -> 2158)</td><td>null</td><td>Databricks-Runtime/13.3.x-photon-scala2.12</td></tr><tr><td>0</td><td>2024-02-27T13:50:19Z</td><td>4700893722167418</td><td>lokeswar.valluru@xyenta.com</td><td>CREATE OR REPLACE TABLE AS SELECT</td><td>Map(partitionBy -> [], description -> null, isManaged -> true, properties -> {}, statsOnLoad -> false)</td><td>null</td><td>List(4089641095547163)</td><td>1227-053858-m1tsqg19</td><td>null</td><td>WriteSerializable</td><td>false</td><td>Map(numFiles -> 1, numOutputRows -> 1524, numOutputBytes -> 26014)</td><td>null</td><td>Databricks-Runtime/13.3.x-photon-scala2.12</td></tr></tbody></table></div>"
      ]
     },
     "metadata": {
      "application/vnd.databricks.v1+output": {
       "addedWidgets": {},
       "aggData": [],
       "aggError": "",
       "aggOverflow": false,
       "aggSchema": [],
       "aggSeriesLimitReached": false,
       "aggType": "",
       "arguments": {},
       "columnCustomDisplayInfos": {},
       "data": [
        [
         3,
         "2024-02-27T14:18:13Z",
         "4700893722167418",
         "lokeswar.valluru@xyenta.com",
         "RESTORE",
         {
          "timestamp": null,
          "version": "1"
         },
         null,
         [
          "4089641095547163"
         ],
         "1227-053858-m1tsqg19",
         2,
         "Serializable",
         false,
         {
          "numOfFilesAfterRestore": "2",
          "numRemovedFiles": "1",
          "numRestoredFiles": "1",
          "removedFilesSize": "2186",
          "restoredFilesSize": "2158",
          "tableSizeAfterRestore": "28172"
         },
         null,
         "Databricks-Runtime/13.3.x-photon-scala2.12"
        ],
        [
         2,
         "2024-02-27T13:57:26Z",
         "4700893722167418",
         "lokeswar.valluru@xyenta.com",
         "UPDATE",
         {
          "predicate": "[\"(Industry#4935 = Networking)\"]"
         },
         null,
         [
          "4089641095547163"
         ],
         "1227-053858-m1tsqg19",
         1,
         "WriteSerializable",
         false,
         {
          "executionTimeMs": "1627",
          "numAddedBytes": "2186",
          "numAddedChangeFiles": "0",
          "numAddedFiles": "1",
          "numCopiedRows": "0",
          "numDeletionVectorsAdded": "0",
          "numDeletionVectorsRemoved": "0",
          "numRemovedBytes": "2158",
          "numRemovedFiles": "1",
          "numUpdatedRows": "4",
          "rewriteTimeMs": "635",
          "scanTimeMs": "968"
         },
         null,
         "Databricks-Runtime/13.3.x-photon-scala2.12"
        ],
        [
         1,
         "2024-02-27T13:53:12Z",
         "4700893722167418",
         "lokeswar.valluru@xyenta.com",
         "WRITE",
         {
          "mode": "Append",
          "partitionBy": "[]",
          "statsOnLoad": "false"
         },
         null,
         [
          "4089641095547163"
         ],
         "1227-053858-m1tsqg19",
         0,
         "WriteSerializable",
         true,
         {
          "numFiles": "1",
          "numOutputBytes": "2158",
          "numOutputRows": "4"
         },
         null,
         "Databricks-Runtime/13.3.x-photon-scala2.12"
        ],
        [
         0,
         "2024-02-27T13:50:19Z",
         "4700893722167418",
         "lokeswar.valluru@xyenta.com",
         "CREATE OR REPLACE TABLE AS SELECT",
         {
          "description": null,
          "isManaged": "true",
          "partitionBy": "[]",
          "properties": "{}",
          "statsOnLoad": "false"
         },
         null,
         [
          "4089641095547163"
         ],
         "1227-053858-m1tsqg19",
         null,
         "WriteSerializable",
         false,
         {
          "numFiles": "1",
          "numOutputBytes": "26014",
          "numOutputRows": "1524"
         },
         null,
         "Databricks-Runtime/13.3.x-photon-scala2.12"
        ]
       ],
       "datasetInfos": [],
       "dbfsResultPath": null,
       "isJsonSchema": true,
       "metadata": {
        "dataframeName": "_sqldf",
        "executionCount": 30
       },
       "overflow": false,
       "plotOptions": {
        "customPlotOptions": {},
        "displayType": "table",
        "pivotAggregation": null,
        "pivotColumns": null,
        "xColumns": null,
        "yColumns": null
       },
       "removedWidgets": [],
       "schema": [
        {
         "metadata": "{}",
         "name": "version",
         "type": "\"long\""
        },
        {
         "metadata": "{}",
         "name": "timestamp",
         "type": "\"timestamp\""
        },
        {
         "metadata": "{}",
         "name": "userId",
         "type": "\"string\""
        },
        {
         "metadata": "{}",
         "name": "userName",
         "type": "\"string\""
        },
        {
         "metadata": "{}",
         "name": "operation",
         "type": "\"string\""
        },
        {
         "metadata": "{}",
         "name": "operationParameters",
         "type": "{\"type\":\"map\",\"keyType\":\"string\",\"valueType\":\"string\",\"valueContainsNull\":true}"
        },
        {
         "metadata": "{}",
         "name": "job",
         "type": "{\"type\":\"struct\",\"fields\":[{\"name\":\"jobId\",\"type\":\"string\",\"nullable\":true,\"metadata\":{}},{\"name\":\"jobName\",\"type\":\"string\",\"nullable\":true,\"metadata\":{}},{\"name\":\"jobRunId\",\"type\":\"string\",\"nullable\":true,\"metadata\":{}},{\"name\":\"runId\",\"type\":\"string\",\"nullable\":true,\"metadata\":{}},{\"name\":\"jobOwnerId\",\"type\":\"string\",\"nullable\":true,\"metadata\":{}},{\"name\":\"triggerType\",\"type\":\"string\",\"nullable\":true,\"metadata\":{}}]}"
        },
        {
         "metadata": "{}",
         "name": "notebook",
         "type": "{\"type\":\"struct\",\"fields\":[{\"name\":\"notebookId\",\"type\":\"string\",\"nullable\":true,\"metadata\":{}}]}"
        },
        {
         "metadata": "{}",
         "name": "clusterId",
         "type": "\"string\""
        },
        {
         "metadata": "{}",
         "name": "readVersion",
         "type": "\"long\""
        },
        {
         "metadata": "{}",
         "name": "isolationLevel",
         "type": "\"string\""
        },
        {
         "metadata": "{}",
         "name": "isBlindAppend",
         "type": "\"boolean\""
        },
        {
         "metadata": "{}",
         "name": "operationMetrics",
         "type": "{\"type\":\"map\",\"keyType\":\"string\",\"valueType\":\"string\",\"valueContainsNull\":true}"
        },
        {
         "metadata": "{}",
         "name": "userMetadata",
         "type": "\"string\""
        },
        {
         "metadata": "{}",
         "name": "engineInfo",
         "type": "\"string\""
        }
       ],
       "type": "table"
      }
     },
     "output_type": "display_data"
    }
   ],
   "source": [
    "%sql\n",
    "DESCRIBE HISTORY `delta`.versiontable"
   ]
  }
 ],
 "metadata": {
  "application/vnd.databricks.v1+notebook": {
   "dashboards": [],
   "language": "python",
   "notebookMetadata": {
    "mostRecentlyExecutedCommandWithImplicitDF": {
     "commandId": 4089641095547190,
     "dataframes": [
      "_sqldf"
     ]
    },
    "pythonIndentUnit": 4
   },
   "notebookName": "Time Travel",
   "widgets": {}
  }
 },
 "nbformat": 4,
 "nbformat_minor": 0
}
