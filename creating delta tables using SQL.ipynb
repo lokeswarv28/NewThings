{
 "cells": [
  {
   "cell_type": "markdown",
   "metadata": {
    "application/vnd.databricks.v1+cell": {
     "cellMetadata": {},
     "inputWidgets": {},
     "nuid": "125cbd6a-69c9-4dcc-aa6d-835eb915dbf5",
     "showTitle": false,
     "title": ""
    }
   },
   "source": [
    "In the Prevoius notebook , we have seen how to write file as delta format.Now will see how data formated as delta table"
   ]
  },
  {
   "cell_type": "code",
   "execution_count": 0,
   "metadata": {
    "application/vnd.databricks.v1+cell": {
     "cellMetadata": {
      "byteLimit": 2048000,
      "implicitDf": true,
      "rowLimit": 10000
     },
     "inputWidgets": {},
     "nuid": "cf4f90b2-5b58-4a81-a898-c2bf4b4c6773",
     "showTitle": false,
     "title": ""
    }
   },
   "outputs": [
    {
     "output_type": "display_data",
     "data": {
      "text/html": [
       "<style scoped>\n",
       "  .table-result-container {\n",
       "    max-height: 300px;\n",
       "    overflow: auto;\n",
       "  }\n",
       "  table, th, td {\n",
       "    border: 1px solid black;\n",
       "    border-collapse: collapse;\n",
       "  }\n",
       "  th, td {\n",
       "    padding: 5px;\n",
       "  }\n",
       "  th {\n",
       "    text-align: left;\n",
       "  }\n",
       "</style><div class='table-result-container'><table class='table-result'><thead style='background-color: white'><tr></tr></thead><tbody></tbody></table></div>"
      ]
     },
     "metadata": {
      "application/vnd.databricks.v1+output": {
       "addedWidgets": {},
       "aggData": [],
       "aggError": "",
       "aggOverflow": false,
       "aggSchema": [],
       "aggSeriesLimitReached": false,
       "aggType": "",
       "arguments": {},
       "columnCustomDisplayInfos": {},
       "data": [],
       "datasetInfos": [],
       "dbfsResultPath": null,
       "isJsonSchema": true,
       "metadata": {
        "dataframeName": null
       },
       "overflow": false,
       "plotOptions": {
        "customPlotOptions": {},
        "displayType": "table",
        "pivotAggregation": null,
        "pivotColumns": null,
        "xColumns": null,
        "yColumns": null
       },
       "removedWidgets": [],
       "schema": [],
       "type": "table"
      }
     },
     "output_type": "display_data"
    }
   ],
   "source": [
    "%sql\n",
    "\n",
    "create schema if not exists delta;"
   ]
  },
  {
   "cell_type": "code",
   "execution_count": 0,
   "metadata": {
    "application/vnd.databricks.v1+cell": {
     "cellMetadata": {
      "byteLimit": 2048000,
      "implicitDf": true,
      "rowLimit": 10000
     },
     "inputWidgets": {},
     "nuid": "9e992c10-dc03-4007-b425-6e4956d29855",
     "showTitle": false,
     "title": ""
    }
   },
   "outputs": [
    {
     "output_type": "display_data",
     "data": {
      "text/html": [
       "<style scoped>\n",
       "  .table-result-container {\n",
       "    max-height: 300px;\n",
       "    overflow: auto;\n",
       "  }\n",
       "  table, th, td {\n",
       "    border: 1px solid black;\n",
       "    border-collapse: collapse;\n",
       "  }\n",
       "  th, td {\n",
       "    padding: 5px;\n",
       "  }\n",
       "  th {\n",
       "    text-align: left;\n",
       "  }\n",
       "</style><div class='table-result-container'><table class='table-result'><thead style='background-color: white'><tr></tr></thead><tbody></tbody></table></div>"
      ]
     },
     "metadata": {
      "application/vnd.databricks.v1+output": {
       "addedWidgets": {},
       "aggData": [],
       "aggError": "",
       "aggOverflow": false,
       "aggSchema": [],
       "aggSeriesLimitReached": false,
       "aggType": "",
       "arguments": {},
       "columnCustomDisplayInfos": {},
       "data": [],
       "datasetInfos": [],
       "dbfsResultPath": null,
       "isJsonSchema": true,
       "metadata": {
        "dataframeName": null
       },
       "overflow": false,
       "plotOptions": {
        "customPlotOptions": {},
        "displayType": "table",
        "pivotAggregation": null,
        "pivotColumns": null,
        "xColumns": null,
        "yColumns": null
       },
       "removedWidgets": [],
       "schema": [],
       "type": "table"
      }
     },
     "output_type": "display_data"
    }
   ],
   "source": [
    "%sql\n",
    "\n",
    "create Table `delta`.deltaFile (\n",
    "    Education_Level VARCHAR(50),\n",
    "    Line_Number INT,\n",
    "    Employed INT,\n",
    "    Unemployed INT,\n",
    "    Industry VARCHAR(50),\n",
    "    Gender VARCHAR(10),\n",
    "    Date_Inserted DATE,\n",
    "    dense_rank INT\n",
    ")"
   ]
  },
  {
   "cell_type": "markdown",
   "metadata": {
    "application/vnd.databricks.v1+cell": {
     "cellMetadata": {},
     "inputWidgets": {},
     "nuid": "de58d1c9-d2af-486b-9675-b3f2d5a01b01",
     "showTitle": false,
     "title": ""
    }
   },
   "source": [
    "Any Table you are creating by default is a DELTA TABLE IN DATABRICKS and Treated as Managed Table\n",
    "\n",
    "Managed Table : Means that Meta-Data and Data of Table maintained by the DataBricks "
   ]
  },
  {
   "cell_type": "code",
   "execution_count": 0,
   "metadata": {
    "application/vnd.databricks.v1+cell": {
     "cellMetadata": {
      "byteLimit": 2048000,
      "rowLimit": 10000
     },
     "inputWidgets": {},
     "nuid": "43516d6b-81ff-4402-8776-6a14db849469",
     "showTitle": false,
     "title": ""
    }
   },
   "outputs": [
    {
     "output_type": "execute_result",
     "data": {
      "text/plain": [
       "[FileInfo(path='dbfs:/user/hive/warehouse/delta.db/deltafile/_delta_log/', name='_delta_log/', size=0, modificationTime=1709018399000)]"
      ]
     },
     "execution_count": 1,
     "metadata": {},
     "output_type": "execute_result"
    }
   ],
   "source": [
    "dbutils.fs.ls('dbfs:/user/hive/warehouse/delta.db/deltafile') #The presence of delta_log says that it's a delta table "
   ]
  },
  {
   "cell_type": "code",
   "execution_count": 0,
   "metadata": {
    "application/vnd.databricks.v1+cell": {
     "cellMetadata": {
      "byteLimit": 2048000,
      "rowLimit": 10000
     },
     "inputWidgets": {},
     "nuid": "9d31697d-1536-443d-8467-9d3b9d9bdd2b",
     "showTitle": false,
     "title": ""
    }
   },
   "outputs": [
    {
     "output_type": "execute_result",
     "data": {
      "text/plain": [
       "[FileInfo(path='dbfs:/user/hive/warehouse/delta.db/deltafile/_delta_log/00000000000000000000.crc', name='00000000000000000000.crc', size=2606, modificationTime=1709018401000),\n",
       " FileInfo(path='dbfs:/user/hive/warehouse/delta.db/deltafile/_delta_log/00000000000000000000.json', name='00000000000000000000.json', size=1624, modificationTime=1709018400000),\n",
       " FileInfo(path='dbfs:/user/hive/warehouse/delta.db/deltafile/_delta_log/__tmp_path_dir/', name='__tmp_path_dir/', size=0, modificationTime=1709018399000)]"
      ]
     },
     "execution_count": 2,
     "metadata": {},
     "output_type": "execute_result"
    }
   ],
   "source": [
    "#lets see what delta_logs contains : \n",
    "\n",
    "dbutils.fs.ls('dbfs:/user/hive/warehouse/delta.db/deltafile/_delta_log')"
   ]
  },
  {
   "cell_type": "code",
   "execution_count": 0,
   "metadata": {
    "application/vnd.databricks.v1+cell": {
     "cellMetadata": {
      "byteLimit": 2048000,
      "implicitDf": true,
      "rowLimit": 10000
     },
     "inputWidgets": {},
     "nuid": "d501b90f-1435-4207-bab2-afbc384729a7",
     "showTitle": false,
     "title": ""
    }
   },
   "outputs": [
    {
     "output_type": "display_data",
     "data": {
      "text/html": [
       "<style scoped>\n",
       "  .table-result-container {\n",
       "    max-height: 300px;\n",
       "    overflow: auto;\n",
       "  }\n",
       "  table, th, td {\n",
       "    border: 1px solid black;\n",
       "    border-collapse: collapse;\n",
       "  }\n",
       "  th, td {\n",
       "    padding: 5px;\n",
       "  }\n",
       "  th {\n",
       "    text-align: left;\n",
       "  }\n",
       "</style><div class='table-result-container'><table class='table-result'><thead style='background-color: white'><tr><th>commitInfo</th><th>metaData</th><th>protocol</th></tr></thead><tbody><tr><td>List(1227-053858-m1tsqg19, Databricks-Runtime/13.3.x-photon-scala2.12, true, WriteSerializable, List(482608276354729), CREATE TABLE, List(null, true, [], {}, false), List(false), 1709018399912, 8a3d7bd9-7644-4b01-a61f-dbd5a76dcddf, 4700893722167418, lokeswar.valluru@xyenta.com)</td><td>null</td><td>null</td></tr><tr><td>null</td><td>List(1709018399839, List(parquet), 995e51d4-9ff8-4bbd-a227-cbbc4dbc65e2, List(), {\"type\":\"struct\",\"fields\":[{\"name\":\"Education_Level\",\"type\":\"string\",\"nullable\":true,\"metadata\":{\"__CHAR_VARCHAR_TYPE_STRING\":\"varchar(50)\"}},{\"name\":\"Line_Number\",\"type\":\"integer\",\"nullable\":true,\"metadata\":{}},{\"name\":\"Employed\",\"type\":\"integer\",\"nullable\":true,\"metadata\":{}},{\"name\":\"Unemployed\",\"type\":\"integer\",\"nullable\":true,\"metadata\":{}},{\"name\":\"Industry\",\"type\":\"string\",\"nullable\":true,\"metadata\":{\"__CHAR_VARCHAR_TYPE_STRING\":\"varchar(50)\"}},{\"name\":\"Gender\",\"type\":\"string\",\"nullable\":true,\"metadata\":{\"__CHAR_VARCHAR_TYPE_STRING\":\"varchar(10)\"}},{\"name\":\"Date_Inserted\",\"type\":\"date\",\"nullable\":true,\"metadata\":{}},{\"name\":\"dense_rank\",\"type\":\"integer\",\"nullable\":true,\"metadata\":{}}]})</td><td>null</td></tr><tr><td>null</td><td>null</td><td>List(1, 2)</td></tr></tbody></table></div>"
      ]
     },
     "metadata": {
      "application/vnd.databricks.v1+output": {
       "addedWidgets": {},
       "aggData": [],
       "aggError": "",
       "aggOverflow": false,
       "aggSchema": [],
       "aggSeriesLimitReached": false,
       "aggType": "",
       "arguments": {},
       "columnCustomDisplayInfos": {},
       "data": [
        [
         [
          "1227-053858-m1tsqg19",
          "Databricks-Runtime/13.3.x-photon-scala2.12",
          true,
          "WriteSerializable",
          [
           "482608276354729"
          ],
          "CREATE TABLE",
          [
           null,
           "true",
           "[]",
           "{}",
           false
          ],
          [
           "false"
          ],
          1709018399912,
          "8a3d7bd9-7644-4b01-a61f-dbd5a76dcddf",
          "4700893722167418",
          "lokeswar.valluru@xyenta.com"
         ],
         null,
         null
        ],
        [
         null,
         [
          1709018399839,
          [
           "parquet"
          ],
          "995e51d4-9ff8-4bbd-a227-cbbc4dbc65e2",
          [],
          "{\"type\":\"struct\",\"fields\":[{\"name\":\"Education_Level\",\"type\":\"string\",\"nullable\":true,\"metadata\":{\"__CHAR_VARCHAR_TYPE_STRING\":\"varchar(50)\"}},{\"name\":\"Line_Number\",\"type\":\"integer\",\"nullable\":true,\"metadata\":{}},{\"name\":\"Employed\",\"type\":\"integer\",\"nullable\":true,\"metadata\":{}},{\"name\":\"Unemployed\",\"type\":\"integer\",\"nullable\":true,\"metadata\":{}},{\"name\":\"Industry\",\"type\":\"string\",\"nullable\":true,\"metadata\":{\"__CHAR_VARCHAR_TYPE_STRING\":\"varchar(50)\"}},{\"name\":\"Gender\",\"type\":\"string\",\"nullable\":true,\"metadata\":{\"__CHAR_VARCHAR_TYPE_STRING\":\"varchar(10)\"}},{\"name\":\"Date_Inserted\",\"type\":\"date\",\"nullable\":true,\"metadata\":{}},{\"name\":\"dense_rank\",\"type\":\"integer\",\"nullable\":true,\"metadata\":{}}]}"
         ],
         null
        ],
        [
         null,
         null,
         [
          1,
          2
         ]
        ]
       ],
       "datasetInfos": [],
       "dbfsResultPath": null,
       "isJsonSchema": true,
       "metadata": {
        "dataframeName": "_sqldf",
        "executionCount": 3
       },
       "overflow": false,
       "plotOptions": {
        "customPlotOptions": {},
        "displayType": "table",
        "pivotAggregation": null,
        "pivotColumns": null,
        "xColumns": null,
        "yColumns": null
       },
       "removedWidgets": [],
       "schema": [
        {
         "metadata": "{}",
         "name": "commitInfo",
         "type": "{\"type\":\"struct\",\"fields\":[{\"name\":\"clusterId\",\"type\":\"string\",\"nullable\":true,\"metadata\":{}},{\"name\":\"engineInfo\",\"type\":\"string\",\"nullable\":true,\"metadata\":{}},{\"name\":\"isBlindAppend\",\"type\":\"boolean\",\"nullable\":true,\"metadata\":{}},{\"name\":\"isolationLevel\",\"type\":\"string\",\"nullable\":true,\"metadata\":{}},{\"name\":\"notebook\",\"type\":{\"type\":\"struct\",\"fields\":[{\"name\":\"notebookId\",\"type\":\"string\",\"nullable\":true,\"metadata\":{}}]},\"nullable\":true,\"metadata\":{}},{\"name\":\"operation\",\"type\":\"string\",\"nullable\":true,\"metadata\":{}},{\"name\":\"operationParameters\",\"type\":{\"type\":\"struct\",\"fields\":[{\"name\":\"description\",\"type\":\"string\",\"nullable\":true,\"metadata\":{}},{\"name\":\"isManaged\",\"type\":\"string\",\"nullable\":true,\"metadata\":{}},{\"name\":\"partitionBy\",\"type\":\"string\",\"nullable\":true,\"metadata\":{}},{\"name\":\"properties\",\"type\":\"string\",\"nullable\":true,\"metadata\":{}},{\"name\":\"statsOnLoad\",\"type\":\"boolean\",\"nullable\":true,\"metadata\":{}}]},\"nullable\":true,\"metadata\":{}},{\"name\":\"tags\",\"type\":{\"type\":\"struct\",\"fields\":[{\"name\":\"restoresDeletedRows\",\"type\":\"string\",\"nullable\":true,\"metadata\":{}}]},\"nullable\":true,\"metadata\":{}},{\"name\":\"timestamp\",\"type\":\"long\",\"nullable\":true,\"metadata\":{}},{\"name\":\"txnId\",\"type\":\"string\",\"nullable\":true,\"metadata\":{}},{\"name\":\"userId\",\"type\":\"string\",\"nullable\":true,\"metadata\":{}},{\"name\":\"userName\",\"type\":\"string\",\"nullable\":true,\"metadata\":{}}]}"
        },
        {
         "metadata": "{}",
         "name": "metaData",
         "type": "{\"type\":\"struct\",\"fields\":[{\"name\":\"createdTime\",\"type\":\"long\",\"nullable\":true,\"metadata\":{}},{\"name\":\"format\",\"type\":{\"type\":\"struct\",\"fields\":[{\"name\":\"provider\",\"type\":\"string\",\"nullable\":true,\"metadata\":{}}]},\"nullable\":true,\"metadata\":{}},{\"name\":\"id\",\"type\":\"string\",\"nullable\":true,\"metadata\":{}},{\"name\":\"partitionColumns\",\"type\":{\"type\":\"array\",\"elementType\":\"string\",\"containsNull\":true},\"nullable\":true,\"metadata\":{}},{\"name\":\"schemaString\",\"type\":\"string\",\"nullable\":true,\"metadata\":{}}]}"
        },
        {
         "metadata": "{}",
         "name": "protocol",
         "type": "{\"type\":\"struct\",\"fields\":[{\"name\":\"minReaderVersion\",\"type\":\"long\",\"nullable\":true,\"metadata\":{}},{\"name\":\"minWriterVersion\",\"type\":\"long\",\"nullable\":true,\"metadata\":{}}]}"
        }
       ],
       "type": "table"
      }
     },
     "output_type": "display_data"
    }
   ],
   "source": [
    "%sql\n",
    "\n",
    "select * from json.`dbfs:/user/hive/warehouse/delta.db/deltafile/_delta_log/00000000000000000000.json`\n",
    "-- or \n",
    "-- select * from text.`dbfs:/user/hive/warehouse/delta.db/deltafile/_delta_log/00000000000000000000.json`"
   ]
  },
  {
   "cell_type": "markdown",
   "metadata": {
    "application/vnd.databricks.v1+cell": {
     "cellMetadata": {},
     "inputWidgets": {},
     "nuid": "28fc90a4-e105-4056-a81c-97ac1222ffc1",
     "showTitle": false,
     "title": ""
    }
   },
   "source": [
    "Lets Add records to delta Table . Main varaibles u need to look in above Query is Operation "
   ]
  },
  {
   "cell_type": "code",
   "execution_count": 0,
   "metadata": {
    "application/vnd.databricks.v1+cell": {
     "cellMetadata": {
      "byteLimit": 2048000,
      "implicitDf": true,
      "rowLimit": 10000
     },
     "inputWidgets": {},
     "nuid": "531173e9-fced-4071-b56b-d76270b7a949",
     "showTitle": false,
     "title": ""
    }
   },
   "outputs": [
    {
     "output_type": "display_data",
     "data": {
      "text/html": [
       "<style scoped>\n",
       "  .table-result-container {\n",
       "    max-height: 300px;\n",
       "    overflow: auto;\n",
       "  }\n",
       "  table, th, td {\n",
       "    border: 1px solid black;\n",
       "    border-collapse: collapse;\n",
       "  }\n",
       "  th, td {\n",
       "    padding: 5px;\n",
       "  }\n",
       "  th {\n",
       "    text-align: left;\n",
       "  }\n",
       "</style><div class='table-result-container'><table class='table-result'><thead style='background-color: white'><tr><th>num_affected_rows</th><th>num_inserted_rows</th></tr></thead><tbody><tr><td>4</td><td>4</td></tr></tbody></table></div>"
      ]
     },
     "metadata": {
      "application/vnd.databricks.v1+output": {
       "addedWidgets": {},
       "aggData": [],
       "aggError": "",
       "aggOverflow": false,
       "aggSchema": [],
       "aggSeriesLimitReached": false,
       "aggType": "",
       "arguments": {},
       "columnCustomDisplayInfos": {},
       "data": [
        [
         4,
         4
        ]
       ],
       "datasetInfos": [],
       "dbfsResultPath": null,
       "isJsonSchema": true,
       "metadata": {
        "dataframeName": "_sqldf",
        "executionCount": 4
       },
       "overflow": false,
       "plotOptions": {
        "customPlotOptions": {},
        "displayType": "table",
        "pivotAggregation": null,
        "pivotColumns": null,
        "xColumns": null,
        "yColumns": null
       },
       "removedWidgets": [],
       "schema": [
        {
         "metadata": "{}",
         "name": "num_affected_rows",
         "type": "\"long\""
        },
        {
         "metadata": "{}",
         "name": "num_inserted_rows",
         "type": "\"long\""
        }
       ],
       "type": "table"
      }
     },
     "output_type": "display_data"
    }
   ],
   "source": [
    "%sql\n",
    "INSERT INTO `delta`.deltafile\n",
    "VALUES\n",
    "    ('Bachelor', 1, 4500, 500, 'IT', 'Male', '2023-07-12',  1),\n",
    "    ('Master', 2, 6500, 500, 'Finance', 'Female', '2023-07-12', 2),\n",
    "    ('High School', 3, 3500, 500, 'Retail', 'Male', '2023-07-12', 3),\n",
    "    ('PhD', 4, 5500, 500, 'Healthcare', 'Female', '2023-07-12', 4);\n"
   ]
  },
  {
   "cell_type": "markdown",
   "metadata": {
    "application/vnd.databricks.v1+cell": {
     "cellMetadata": {},
     "inputWidgets": {},
     "nuid": "f5250025-be3f-4df5-b20a-10056a130320",
     "showTitle": false,
     "title": ""
    }
   },
   "source": [
    "Now Querying the Table delta.deltafile"
   ]
  },
  {
   "cell_type": "code",
   "execution_count": 0,
   "metadata": {
    "application/vnd.databricks.v1+cell": {
     "cellMetadata": {
      "byteLimit": 2048000,
      "implicitDf": true,
      "rowLimit": 10000
     },
     "inputWidgets": {},
     "nuid": "079ddd66-6d20-46eb-952a-adfa9e60990a",
     "showTitle": false,
     "title": ""
    }
   },
   "outputs": [
    {
     "output_type": "display_data",
     "data": {
      "text/html": [
       "<style scoped>\n",
       "  .table-result-container {\n",
       "    max-height: 300px;\n",
       "    overflow: auto;\n",
       "  }\n",
       "  table, th, td {\n",
       "    border: 1px solid black;\n",
       "    border-collapse: collapse;\n",
       "  }\n",
       "  th, td {\n",
       "    padding: 5px;\n",
       "  }\n",
       "  th {\n",
       "    text-align: left;\n",
       "  }\n",
       "</style><div class='table-result-container'><table class='table-result'><thead style='background-color: white'><tr><th>Education_Level</th><th>Line_Number</th><th>Employed</th><th>Unemployed</th><th>Industry</th><th>Gender</th><th>Date_Inserted</th><th>dense_rank</th></tr></thead><tbody><tr><td>Bachelor</td><td>1</td><td>4500</td><td>500</td><td>IT</td><td>Male</td><td>2023-07-12</td><td>1</td></tr><tr><td>Master</td><td>2</td><td>6500</td><td>500</td><td>Finance</td><td>Female</td><td>2023-07-12</td><td>2</td></tr><tr><td>High School</td><td>3</td><td>3500</td><td>500</td><td>Retail</td><td>Male</td><td>2023-07-12</td><td>3</td></tr><tr><td>PhD</td><td>4</td><td>5500</td><td>500</td><td>Healthcare</td><td>Female</td><td>2023-07-12</td><td>4</td></tr></tbody></table></div>"
      ]
     },
     "metadata": {
      "application/vnd.databricks.v1+output": {
       "addedWidgets": {},
       "aggData": [],
       "aggError": "",
       "aggOverflow": false,
       "aggSchema": [],
       "aggSeriesLimitReached": false,
       "aggType": "",
       "arguments": {},
       "columnCustomDisplayInfos": {},
       "data": [
        [
         "Bachelor",
         1,
         4500,
         500,
         "IT",
         "Male",
         "2023-07-12",
         1
        ],
        [
         "Master",
         2,
         6500,
         500,
         "Finance",
         "Female",
         "2023-07-12",
         2
        ],
        [
         "High School",
         3,
         3500,
         500,
         "Retail",
         "Male",
         "2023-07-12",
         3
        ],
        [
         "PhD",
         4,
         5500,
         500,
         "Healthcare",
         "Female",
         "2023-07-12",
         4
        ]
       ],
       "datasetInfos": [],
       "dbfsResultPath": null,
       "isJsonSchema": true,
       "metadata": {
        "dataframeName": "_sqldf",
        "executionCount": 5
       },
       "overflow": false,
       "plotOptions": {
        "customPlotOptions": {},
        "displayType": "table",
        "pivotAggregation": null,
        "pivotColumns": null,
        "xColumns": null,
        "yColumns": null
       },
       "removedWidgets": [],
       "schema": [
        {
         "metadata": "{\"__CHAR_VARCHAR_TYPE_STRING\":\"varchar(50)\"}",
         "name": "Education_Level",
         "type": "\"string\""
        },
        {
         "metadata": "{}",
         "name": "Line_Number",
         "type": "\"integer\""
        },
        {
         "metadata": "{}",
         "name": "Employed",
         "type": "\"integer\""
        },
        {
         "metadata": "{}",
         "name": "Unemployed",
         "type": "\"integer\""
        },
        {
         "metadata": "{\"__CHAR_VARCHAR_TYPE_STRING\":\"varchar(50)\"}",
         "name": "Industry",
         "type": "\"string\""
        },
        {
         "metadata": "{\"__CHAR_VARCHAR_TYPE_STRING\":\"varchar(10)\"}",
         "name": "Gender",
         "type": "\"string\""
        },
        {
         "metadata": "{}",
         "name": "Date_Inserted",
         "type": "\"date\""
        },
        {
         "metadata": "{}",
         "name": "dense_rank",
         "type": "\"integer\""
        }
       ],
       "type": "table"
      }
     },
     "output_type": "display_data"
    }
   ],
   "source": [
    "%sql\n",
    "\n",
    "select * from `delta`.deltafile"
   ]
  },
  {
   "cell_type": "code",
   "execution_count": 0,
   "metadata": {
    "application/vnd.databricks.v1+cell": {
     "cellMetadata": {
      "byteLimit": 2048000,
      "rowLimit": 10000
     },
     "inputWidgets": {},
     "nuid": "96005ef7-a0f8-4595-a45b-bf2998e261f4",
     "showTitle": false,
     "title": ""
    }
   },
   "outputs": [
    {
     "output_type": "execute_result",
     "data": {
      "text/plain": [
       "[FileInfo(path='dbfs:/user/hive/warehouse/delta.db/deltafile/_delta_log/', name='_delta_log/', size=0, modificationTime=1709018399000),\n",
       " FileInfo(path='dbfs:/user/hive/warehouse/delta.db/deltafile/part-00000-34241875-df11-4d53-9ee6-c93fac83081b.c000.snappy.parquet', name='part-00000-34241875-df11-4d53-9ee6-c93fac83081b.c000.snappy.parquet', size=2239, modificationTime=1709019075000)]"
      ]
     },
     "execution_count": 6,
     "metadata": {},
     "output_type": "execute_result"
    }
   ],
   "source": [
    "dbutils.fs.ls('dbfs:/user/hive/warehouse/delta.db/deltafile') #now we inserted data so we got parquet files. "
   ]
  },
  {
   "cell_type": "code",
   "execution_count": 0,
   "metadata": {
    "application/vnd.databricks.v1+cell": {
     "cellMetadata": {
      "byteLimit": 2048000,
      "rowLimit": 10000
     },
     "inputWidgets": {},
     "nuid": "6d32edc5-c416-43f5-a19a-f6bf27c04bbb",
     "showTitle": false,
     "title": ""
    }
   },
   "outputs": [
    {
     "output_type": "execute_result",
     "data": {
      "text/plain": [
       "[FileInfo(path='dbfs:/user/hive/warehouse/delta.db/deltafile/_delta_log/00000000000000000000.crc', name='00000000000000000000.crc', size=2606, modificationTime=1709018401000),\n",
       " FileInfo(path='dbfs:/user/hive/warehouse/delta.db/deltafile/_delta_log/00000000000000000000.json', name='00000000000000000000.json', size=1624, modificationTime=1709018400000),\n",
       " FileInfo(path='dbfs:/user/hive/warehouse/delta.db/deltafile/_delta_log/00000000000000000001.crc', name='00000000000000000001.crc', size=3511, modificationTime=1709019076000),\n",
       " FileInfo(path='dbfs:/user/hive/warehouse/delta.db/deltafile/_delta_log/00000000000000000001.json', name='00000000000000000001.json', size=1495, modificationTime=1709019075000),\n",
       " FileInfo(path='dbfs:/user/hive/warehouse/delta.db/deltafile/_delta_log/__tmp_path_dir/', name='__tmp_path_dir/', size=0, modificationTime=1709018399000)]"
      ]
     },
     "execution_count": 7,
     "metadata": {},
     "output_type": "execute_result"
    }
   ],
   "source": [
    "dbutils.fs.ls('dbfs:/user/hive/warehouse/delta.db/deltafile/_delta_log')"
   ]
  },
  {
   "cell_type": "markdown",
   "metadata": {
    "application/vnd.databricks.v1+cell": {
     "cellMetadata": {},
     "inputWidgets": {},
     "nuid": "6139024e-a811-4b62-af77-4125af819a58",
     "showTitle": false,
     "title": ""
    }
   },
   "source": [
    "\n",
    "## Number of Json / parquet files depend on Number of operations  "
   ]
  },
  {
   "cell_type": "code",
   "execution_count": 0,
   "metadata": {
    "application/vnd.databricks.v1+cell": {
     "cellMetadata": {
      "byteLimit": 2048000,
      "implicitDf": true,
      "rowLimit": 10000
     },
     "inputWidgets": {},
     "nuid": "9d2b11ed-8d20-49fb-8f57-88bb6a3001ef",
     "showTitle": false,
     "title": ""
    }
   },
   "outputs": [
    {
     "output_type": "display_data",
     "data": {
      "text/html": [
       "<style scoped>\n",
       "  .table-result-container {\n",
       "    max-height: 300px;\n",
       "    overflow: auto;\n",
       "  }\n",
       "  table, th, td {\n",
       "    border: 1px solid black;\n",
       "    border-collapse: collapse;\n",
       "  }\n",
       "  th, td {\n",
       "    padding: 5px;\n",
       "  }\n",
       "  th {\n",
       "    text-align: left;\n",
       "  }\n",
       "</style><div class='table-result-container'><table class='table-result'><thead style='background-color: white'><tr><th>value</th></tr></thead><tbody><tr><td>{\"commitInfo\":{\"timestamp\":1709019075447,\"userId\":\"4700893722167418\",\"userName\":\"lokeswar.valluru@xyenta.com\",\"operation\":\"WRITE\",\"operationParameters\":{\"mode\":\"Append\",\"statsOnLoad\":false,\"partitionBy\":\"[]\"},\"notebook\":{\"notebookId\":\"482608276354729\"},\"clusterId\":\"1227-053858-m1tsqg19\",\"readVersion\":0,\"isolationLevel\":\"WriteSerializable\",\"isBlindAppend\":true,\"operationMetrics\":{\"numFiles\":\"1\",\"numOutputRows\":\"4\",\"numOutputBytes\":\"2239\"},\"tags\":{\"restoresDeletedRows\":\"false\"},\"engineInfo\":\"Databricks-Runtime/13.3.x-photon-scala2.12\",\"txnId\":\"1adc6c5e-c5a2-4db4-ace0-aa0b1385c485\"}}</td></tr><tr><td>{\"add\":{\"path\":\"part-00000-34241875-df11-4d53-9ee6-c93fac83081b.c000.snappy.parquet\",\"partitionValues\":{},\"size\":2239,\"modificationTime\":1709019075000,\"dataChange\":true,\"stats\":\"{\\\"numRecords\\\":4,\\\"minValues\\\":{\\\"Education_Level\\\":\\\"Bachelor\\\",\\\"Line_Number\\\":1,\\\"Employed\\\":3500,\\\"Unemployed\\\":500,\\\"Industry\\\":\\\"Finance\\\",\\\"Gender\\\":\\\"Female\\\",\\\"Date_Inserted\\\":\\\"2023-07-12\\\",\\\"dense_rank\\\":1},\\\"maxValues\\\":{\\\"Education_Level\\\":\\\"PhD\\\",\\\"Line_Number\\\":4,\\\"Employed\\\":6500,\\\"Unemployed\\\":500,\\\"Industry\\\":\\\"Retail\\\",\\\"Gender\\\":\\\"Male\\\",\\\"Date_Inserted\\\":\\\"2023-07-12\\\",\\\"dense_rank\\\":4},\\\"nullCount\\\":{\\\"Education_Level\\\":0,\\\"Line_Number\\\":0,\\\"Employed\\\":0,\\\"Unemployed\\\":0,\\\"Industry\\\":0,\\\"Gender\\\":0,\\\"Date_Inserted\\\":0,\\\"dense_rank\\\":0}}\",\"tags\":{\"INSERTION_TIME\":\"1709019075000000\",\"MIN_INSERTION_TIME\":\"1709019075000000\",\"MAX_INSERTION_TIME\":\"1709019075000000\",\"OPTIMIZE_TARGET_SIZE\":\"268435456\"}}}</td></tr></tbody></table></div>"
      ]
     },
     "metadata": {
      "application/vnd.databricks.v1+output": {
       "addedWidgets": {},
       "aggData": [],
       "aggError": "",
       "aggOverflow": false,
       "aggSchema": [],
       "aggSeriesLimitReached": false,
       "aggType": "",
       "arguments": {},
       "columnCustomDisplayInfos": {},
       "data": [
        [
         "{\"commitInfo\":{\"timestamp\":1709019075447,\"userId\":\"4700893722167418\",\"userName\":\"lokeswar.valluru@xyenta.com\",\"operation\":\"WRITE\",\"operationParameters\":{\"mode\":\"Append\",\"statsOnLoad\":false,\"partitionBy\":\"[]\"},\"notebook\":{\"notebookId\":\"482608276354729\"},\"clusterId\":\"1227-053858-m1tsqg19\",\"readVersion\":0,\"isolationLevel\":\"WriteSerializable\",\"isBlindAppend\":true,\"operationMetrics\":{\"numFiles\":\"1\",\"numOutputRows\":\"4\",\"numOutputBytes\":\"2239\"},\"tags\":{\"restoresDeletedRows\":\"false\"},\"engineInfo\":\"Databricks-Runtime/13.3.x-photon-scala2.12\",\"txnId\":\"1adc6c5e-c5a2-4db4-ace0-aa0b1385c485\"}}"
        ],
        [
         "{\"add\":{\"path\":\"part-00000-34241875-df11-4d53-9ee6-c93fac83081b.c000.snappy.parquet\",\"partitionValues\":{},\"size\":2239,\"modificationTime\":1709019075000,\"dataChange\":true,\"stats\":\"{\\\"numRecords\\\":4,\\\"minValues\\\":{\\\"Education_Level\\\":\\\"Bachelor\\\",\\\"Line_Number\\\":1,\\\"Employed\\\":3500,\\\"Unemployed\\\":500,\\\"Industry\\\":\\\"Finance\\\",\\\"Gender\\\":\\\"Female\\\",\\\"Date_Inserted\\\":\\\"2023-07-12\\\",\\\"dense_rank\\\":1},\\\"maxValues\\\":{\\\"Education_Level\\\":\\\"PhD\\\",\\\"Line_Number\\\":4,\\\"Employed\\\":6500,\\\"Unemployed\\\":500,\\\"Industry\\\":\\\"Retail\\\",\\\"Gender\\\":\\\"Male\\\",\\\"Date_Inserted\\\":\\\"2023-07-12\\\",\\\"dense_rank\\\":4},\\\"nullCount\\\":{\\\"Education_Level\\\":0,\\\"Line_Number\\\":0,\\\"Employed\\\":0,\\\"Unemployed\\\":0,\\\"Industry\\\":0,\\\"Gender\\\":0,\\\"Date_Inserted\\\":0,\\\"dense_rank\\\":0}}\",\"tags\":{\"INSERTION_TIME\":\"1709019075000000\",\"MIN_INSERTION_TIME\":\"1709019075000000\",\"MAX_INSERTION_TIME\":\"1709019075000000\",\"OPTIMIZE_TARGET_SIZE\":\"268435456\"}}}"
        ]
       ],
       "datasetInfos": [],
       "dbfsResultPath": null,
       "isJsonSchema": true,
       "metadata": {
        "dataframeName": "_sqldf",
        "executionCount": 8
       },
       "overflow": false,
       "plotOptions": {
        "customPlotOptions": {},
        "displayType": "table",
        "pivotAggregation": null,
        "pivotColumns": null,
        "xColumns": null,
        "yColumns": null
       },
       "removedWidgets": [],
       "schema": [
        {
         "metadata": "{}",
         "name": "value",
         "type": "\"string\""
        }
       ],
       "type": "table"
      }
     },
     "output_type": "display_data"
    }
   ],
   "source": [
    "%sql\n",
    "\n",
    "select * from text .`dbfs:/user/hive/warehouse/delta.db/deltafile/_delta_log/00000000000000000001.json`"
   ]
  },
  {
   "cell_type": "markdown",
   "metadata": {
    "application/vnd.databricks.v1+cell": {
     "cellMetadata": {},
     "inputWidgets": {},
     "nuid": "e7f2a103-b4b9-4c5b-8344-e8df6a4f1f5c",
     "showTitle": false,
     "title": ""
    }
   },
   "source": [
    "Updating the Table "
   ]
  },
  {
   "cell_type": "code",
   "execution_count": 0,
   "metadata": {
    "application/vnd.databricks.v1+cell": {
     "cellMetadata": {
      "byteLimit": 2048000,
      "implicitDf": true,
      "rowLimit": 10000
     },
     "inputWidgets": {},
     "nuid": "cd674a7a-3101-4b2c-a334-dbfbeb4b43c7",
     "showTitle": false,
     "title": ""
    }
   },
   "outputs": [
    {
     "output_type": "display_data",
     "data": {
      "text/html": [
       "<style scoped>\n",
       "  .table-result-container {\n",
       "    max-height: 300px;\n",
       "    overflow: auto;\n",
       "  }\n",
       "  table, th, td {\n",
       "    border: 1px solid black;\n",
       "    border-collapse: collapse;\n",
       "  }\n",
       "  th, td {\n",
       "    padding: 5px;\n",
       "  }\n",
       "  th {\n",
       "    text-align: left;\n",
       "  }\n",
       "</style><div class='table-result-container'><table class='table-result'><thead style='background-color: white'><tr><th>num_affected_rows</th></tr></thead><tbody><tr><td>1</td></tr></tbody></table></div>"
      ]
     },
     "metadata": {
      "application/vnd.databricks.v1+output": {
       "addedWidgets": {},
       "aggData": [],
       "aggError": "",
       "aggOverflow": false,
       "aggSchema": [],
       "aggSeriesLimitReached": false,
       "aggType": "",
       "arguments": {},
       "columnCustomDisplayInfos": {},
       "data": [
        [
         1
        ]
       ],
       "datasetInfos": [],
       "dbfsResultPath": null,
       "isJsonSchema": true,
       "metadata": {
        "dataframeName": "_sqldf",
        "executionCount": 9
       },
       "overflow": false,
       "plotOptions": {
        "customPlotOptions": {},
        "displayType": "table",
        "pivotAggregation": null,
        "pivotColumns": null,
        "xColumns": null,
        "yColumns": null
       },
       "removedWidgets": [],
       "schema": [
        {
         "metadata": "{}",
         "name": "num_affected_rows",
         "type": "\"long\""
        }
       ],
       "type": "table"
      }
     },
     "output_type": "display_data"
    }
   ],
   "source": [
    "%sql \n",
    "update `delta`.deltafile\n",
    "set Industry = 'Finance' where Education_Level = 'PhD'"
   ]
  },
  {
   "cell_type": "code",
   "execution_count": 0,
   "metadata": {
    "application/vnd.databricks.v1+cell": {
     "cellMetadata": {
      "byteLimit": 2048000,
      "implicitDf": true,
      "rowLimit": 10000
     },
     "inputWidgets": {},
     "nuid": "c928e5bd-590f-433f-8e3f-3764ec8b4685",
     "showTitle": false,
     "title": ""
    }
   },
   "outputs": [
    {
     "output_type": "display_data",
     "data": {
      "text/html": [
       "<style scoped>\n",
       "  .table-result-container {\n",
       "    max-height: 300px;\n",
       "    overflow: auto;\n",
       "  }\n",
       "  table, th, td {\n",
       "    border: 1px solid black;\n",
       "    border-collapse: collapse;\n",
       "  }\n",
       "  th, td {\n",
       "    padding: 5px;\n",
       "  }\n",
       "  th {\n",
       "    text-align: left;\n",
       "  }\n",
       "</style><div class='table-result-container'><table class='table-result'><thead style='background-color: white'><tr><th>Education_Level</th><th>Line_Number</th><th>Employed</th><th>Unemployed</th><th>Industry</th><th>Gender</th><th>Date_Inserted</th><th>dense_rank</th></tr></thead><tbody><tr><td>Bachelor</td><td>1</td><td>4500</td><td>500</td><td>IT</td><td>Male</td><td>2023-07-12</td><td>1</td></tr><tr><td>Master</td><td>2</td><td>6500</td><td>500</td><td>Finance</td><td>Female</td><td>2023-07-12</td><td>2</td></tr><tr><td>High School</td><td>3</td><td>3500</td><td>500</td><td>Retail</td><td>Male</td><td>2023-07-12</td><td>3</td></tr><tr><td>PhD</td><td>4</td><td>5500</td><td>500</td><td>Finance</td><td>Female</td><td>2023-07-12</td><td>4</td></tr></tbody></table></div>"
      ]
     },
     "metadata": {
      "application/vnd.databricks.v1+output": {
       "addedWidgets": {},
       "aggData": [],
       "aggError": "",
       "aggOverflow": false,
       "aggSchema": [],
       "aggSeriesLimitReached": false,
       "aggType": "",
       "arguments": {},
       "columnCustomDisplayInfos": {},
       "data": [
        [
         "Bachelor",
         1,
         4500,
         500,
         "IT",
         "Male",
         "2023-07-12",
         1
        ],
        [
         "Master",
         2,
         6500,
         500,
         "Finance",
         "Female",
         "2023-07-12",
         2
        ],
        [
         "High School",
         3,
         3500,
         500,
         "Retail",
         "Male",
         "2023-07-12",
         3
        ],
        [
         "PhD",
         4,
         5500,
         500,
         "Finance",
         "Female",
         "2023-07-12",
         4
        ]
       ],
       "datasetInfos": [],
       "dbfsResultPath": null,
       "isJsonSchema": true,
       "metadata": {
        "dataframeName": "_sqldf",
        "executionCount": 10
       },
       "overflow": false,
       "plotOptions": {
        "customPlotOptions": {},
        "displayType": "table",
        "pivotAggregation": null,
        "pivotColumns": null,
        "xColumns": null,
        "yColumns": null
       },
       "removedWidgets": [],
       "schema": [
        {
         "metadata": "{\"__CHAR_VARCHAR_TYPE_STRING\":\"varchar(50)\"}",
         "name": "Education_Level",
         "type": "\"string\""
        },
        {
         "metadata": "{}",
         "name": "Line_Number",
         "type": "\"integer\""
        },
        {
         "metadata": "{}",
         "name": "Employed",
         "type": "\"integer\""
        },
        {
         "metadata": "{}",
         "name": "Unemployed",
         "type": "\"integer\""
        },
        {
         "metadata": "{\"__CHAR_VARCHAR_TYPE_STRING\":\"varchar(50)\"}",
         "name": "Industry",
         "type": "\"string\""
        },
        {
         "metadata": "{\"__CHAR_VARCHAR_TYPE_STRING\":\"varchar(10)\"}",
         "name": "Gender",
         "type": "\"string\""
        },
        {
         "metadata": "{}",
         "name": "Date_Inserted",
         "type": "\"date\""
        },
        {
         "metadata": "{}",
         "name": "dense_rank",
         "type": "\"integer\""
        }
       ],
       "type": "table"
      }
     },
     "output_type": "display_data"
    }
   ],
   "source": [
    "%sql \n",
    "\n",
    "select * from `delta`.deltafile"
   ]
  },
  {
   "cell_type": "code",
   "execution_count": 0,
   "metadata": {
    "application/vnd.databricks.v1+cell": {
     "cellMetadata": {
      "byteLimit": 2048000,
      "rowLimit": 10000
     },
     "inputWidgets": {},
     "nuid": "5b124414-7d95-4009-b3fe-e1febf4e9629",
     "showTitle": false,
     "title": ""
    }
   },
   "outputs": [
    {
     "output_type": "execute_result",
     "data": {
      "text/plain": [
       "[FileInfo(path='dbfs:/user/hive/warehouse/delta.db/deltafile/_delta_log/00000000000000000000.crc', name='00000000000000000000.crc', size=2606, modificationTime=1709018401000),\n",
       " FileInfo(path='dbfs:/user/hive/warehouse/delta.db/deltafile/_delta_log/00000000000000000000.json', name='00000000000000000000.json', size=1624, modificationTime=1709018400000),\n",
       " FileInfo(path='dbfs:/user/hive/warehouse/delta.db/deltafile/_delta_log/00000000000000000001.crc', name='00000000000000000001.crc', size=3511, modificationTime=1709019076000),\n",
       " FileInfo(path='dbfs:/user/hive/warehouse/delta.db/deltafile/_delta_log/00000000000000000001.json', name='00000000000000000001.json', size=1495, modificationTime=1709019075000),\n",
       " FileInfo(path='dbfs:/user/hive/warehouse/delta.db/deltafile/_delta_log/00000000000000000002.crc', name='00000000000000000002.crc', size=3511, modificationTime=1709019388000),\n",
       " FileInfo(path='dbfs:/user/hive/warehouse/delta.db/deltafile/_delta_log/00000000000000000002.json', name='00000000000000000002.json', size=2141, modificationTime=1709019386000),\n",
       " FileInfo(path='dbfs:/user/hive/warehouse/delta.db/deltafile/_delta_log/__tmp_path_dir/', name='__tmp_path_dir/', size=0, modificationTime=1709018399000)]"
      ]
     },
     "execution_count": 11,
     "metadata": {},
     "output_type": "execute_result"
    }
   ],
   "source": [
    "dbutils.fs.ls('dbfs:/user/hive/warehouse/delta.db/deltafile/_delta_log')"
   ]
  },
  {
   "cell_type": "code",
   "execution_count": 0,
   "metadata": {
    "application/vnd.databricks.v1+cell": {
     "cellMetadata": {
      "byteLimit": 2048000,
      "implicitDf": true,
      "rowLimit": 10000
     },
     "inputWidgets": {},
     "nuid": "e93254a7-f47c-40e6-bf54-1961f0c54de7",
     "showTitle": false,
     "title": ""
    }
   },
   "outputs": [
    {
     "output_type": "display_data",
     "data": {
      "text/html": [
       "<style scoped>\n",
       "  .table-result-container {\n",
       "    max-height: 300px;\n",
       "    overflow: auto;\n",
       "  }\n",
       "  table, th, td {\n",
       "    border: 1px solid black;\n",
       "    border-collapse: collapse;\n",
       "  }\n",
       "  th, td {\n",
       "    padding: 5px;\n",
       "  }\n",
       "  th {\n",
       "    text-align: left;\n",
       "  }\n",
       "</style><div class='table-result-container'><table class='table-result'><thead style='background-color: white'><tr><th>value</th></tr></thead><tbody><tr><td>{\"commitInfo\":{\"timestamp\":1709019386915,\"userId\":\"4700893722167418\",\"userName\":\"lokeswar.valluru@xyenta.com\",\"operation\":\"UPDATE\",\"operationParameters\":{\"predicate\":\"[\\\"(Education_Level#4543 = PhD)\\\"]\"},\"notebook\":{\"notebookId\":\"482608276354729\"},\"clusterId\":\"1227-053858-m1tsqg19\",\"readVersion\":1,\"isolationLevel\":\"WriteSerializable\",\"isBlindAppend\":false,\"operationMetrics\":{\"numRemovedFiles\":\"1\",\"numRemovedBytes\":\"2239\",\"numCopiedRows\":\"3\",\"numDeletionVectorsAdded\":\"0\",\"numDeletionVectorsRemoved\":\"0\",\"numAddedChangeFiles\":\"0\",\"executionTimeMs\":\"1514\",\"scanTimeMs\":\"843\",\"numAddedFiles\":\"1\",\"numUpdatedRows\":\"1\",\"numAddedBytes\":\"2296\",\"rewriteTimeMs\":\"651\"},\"tags\":{\"noRowsCopied\":\"false\",\"delta.rowTracking.preserved\":\"false\",\"restoresDeletedRows\":\"false\"},\"engineInfo\":\"Databricks-Runtime/13.3.x-photon-scala2.12\",\"txnId\":\"01b35a97-7ed3-4c2d-80b0-cfd5ead7032a\"}}</td></tr><tr><td>{\"remove\":{\"path\":\"part-00000-34241875-df11-4d53-9ee6-c93fac83081b.c000.snappy.parquet\",\"deletionTimestamp\":1709019386898,\"dataChange\":true,\"extendedFileMetadata\":true,\"partitionValues\":{},\"size\":2239,\"tags\":{\"INSERTION_TIME\":\"1709019075000000\",\"MIN_INSERTION_TIME\":\"1709019075000000\",\"MAX_INSERTION_TIME\":\"1709019075000000\",\"OPTIMIZE_TARGET_SIZE\":\"268435456\"}}}</td></tr><tr><td>{\"add\":{\"path\":\"part-00000-29fc0fc4-a7f1-47e7-9e40-84642ecf1e7b.c000.snappy.parquet\",\"partitionValues\":{},\"size\":2296,\"modificationTime\":1709019386000,\"dataChange\":true,\"stats\":\"{\\\"numRecords\\\":4,\\\"minValues\\\":{\\\"Education_Level\\\":\\\"Bachelor\\\",\\\"Line_Number\\\":1,\\\"Employed\\\":3500,\\\"Unemployed\\\":500,\\\"Industry\\\":\\\"Finance\\\",\\\"Gender\\\":\\\"Female\\\",\\\"Date_Inserted\\\":\\\"2023-07-12\\\",\\\"dense_rank\\\":1},\\\"maxValues\\\":{\\\"Education_Level\\\":\\\"PhD\\\",\\\"Line_Number\\\":4,\\\"Employed\\\":6500,\\\"Unemployed\\\":500,\\\"Industry\\\":\\\"Retail\\\",\\\"Gender\\\":\\\"Male\\\",\\\"Date_Inserted\\\":\\\"2023-07-12\\\",\\\"dense_rank\\\":4},\\\"nullCount\\\":{\\\"Education_Level\\\":0,\\\"Line_Number\\\":0,\\\"Employed\\\":0,\\\"Unemployed\\\":0,\\\"Industry\\\":0,\\\"Gender\\\":0,\\\"Date_Inserted\\\":0,\\\"dense_rank\\\":0}}\",\"tags\":{\"MAX_INSERTION_TIME\":\"1709019075000000\",\"INSERTION_TIME\":\"1709019075000000\",\"MIN_INSERTION_TIME\":\"1709019075000000\",\"OPTIMIZE_TARGET_SIZE\":\"268435456\"}}}</td></tr></tbody></table></div>"
      ]
     },
     "metadata": {
      "application/vnd.databricks.v1+output": {
       "addedWidgets": {},
       "aggData": [],
       "aggError": "",
       "aggOverflow": false,
       "aggSchema": [],
       "aggSeriesLimitReached": false,
       "aggType": "",
       "arguments": {},
       "columnCustomDisplayInfos": {},
       "data": [
        [
         "{\"commitInfo\":{\"timestamp\":1709019386915,\"userId\":\"4700893722167418\",\"userName\":\"lokeswar.valluru@xyenta.com\",\"operation\":\"UPDATE\",\"operationParameters\":{\"predicate\":\"[\\\"(Education_Level#4543 = PhD)\\\"]\"},\"notebook\":{\"notebookId\":\"482608276354729\"},\"clusterId\":\"1227-053858-m1tsqg19\",\"readVersion\":1,\"isolationLevel\":\"WriteSerializable\",\"isBlindAppend\":false,\"operationMetrics\":{\"numRemovedFiles\":\"1\",\"numRemovedBytes\":\"2239\",\"numCopiedRows\":\"3\",\"numDeletionVectorsAdded\":\"0\",\"numDeletionVectorsRemoved\":\"0\",\"numAddedChangeFiles\":\"0\",\"executionTimeMs\":\"1514\",\"scanTimeMs\":\"843\",\"numAddedFiles\":\"1\",\"numUpdatedRows\":\"1\",\"numAddedBytes\":\"2296\",\"rewriteTimeMs\":\"651\"},\"tags\":{\"noRowsCopied\":\"false\",\"delta.rowTracking.preserved\":\"false\",\"restoresDeletedRows\":\"false\"},\"engineInfo\":\"Databricks-Runtime/13.3.x-photon-scala2.12\",\"txnId\":\"01b35a97-7ed3-4c2d-80b0-cfd5ead7032a\"}}"
        ],
        [
         "{\"remove\":{\"path\":\"part-00000-34241875-df11-4d53-9ee6-c93fac83081b.c000.snappy.parquet\",\"deletionTimestamp\":1709019386898,\"dataChange\":true,\"extendedFileMetadata\":true,\"partitionValues\":{},\"size\":2239,\"tags\":{\"INSERTION_TIME\":\"1709019075000000\",\"MIN_INSERTION_TIME\":\"1709019075000000\",\"MAX_INSERTION_TIME\":\"1709019075000000\",\"OPTIMIZE_TARGET_SIZE\":\"268435456\"}}}"
        ],
        [
         "{\"add\":{\"path\":\"part-00000-29fc0fc4-a7f1-47e7-9e40-84642ecf1e7b.c000.snappy.parquet\",\"partitionValues\":{},\"size\":2296,\"modificationTime\":1709019386000,\"dataChange\":true,\"stats\":\"{\\\"numRecords\\\":4,\\\"minValues\\\":{\\\"Education_Level\\\":\\\"Bachelor\\\",\\\"Line_Number\\\":1,\\\"Employed\\\":3500,\\\"Unemployed\\\":500,\\\"Industry\\\":\\\"Finance\\\",\\\"Gender\\\":\\\"Female\\\",\\\"Date_Inserted\\\":\\\"2023-07-12\\\",\\\"dense_rank\\\":1},\\\"maxValues\\\":{\\\"Education_Level\\\":\\\"PhD\\\",\\\"Line_Number\\\":4,\\\"Employed\\\":6500,\\\"Unemployed\\\":500,\\\"Industry\\\":\\\"Retail\\\",\\\"Gender\\\":\\\"Male\\\",\\\"Date_Inserted\\\":\\\"2023-07-12\\\",\\\"dense_rank\\\":4},\\\"nullCount\\\":{\\\"Education_Level\\\":0,\\\"Line_Number\\\":0,\\\"Employed\\\":0,\\\"Unemployed\\\":0,\\\"Industry\\\":0,\\\"Gender\\\":0,\\\"Date_Inserted\\\":0,\\\"dense_rank\\\":0}}\",\"tags\":{\"MAX_INSERTION_TIME\":\"1709019075000000\",\"INSERTION_TIME\":\"1709019075000000\",\"MIN_INSERTION_TIME\":\"1709019075000000\",\"OPTIMIZE_TARGET_SIZE\":\"268435456\"}}}"
        ]
       ],
       "datasetInfos": [],
       "dbfsResultPath": null,
       "isJsonSchema": true,
       "metadata": {
        "dataframeName": "_sqldf",
        "executionCount": 13
       },
       "overflow": false,
       "plotOptions": {
        "customPlotOptions": {},
        "displayType": "table",
        "pivotAggregation": null,
        "pivotColumns": null,
        "xColumns": null,
        "yColumns": null
       },
       "removedWidgets": [],
       "schema": [
        {
         "metadata": "{}",
         "name": "value",
         "type": "\"string\""
        }
       ],
       "type": "table"
      }
     },
     "output_type": "display_data"
    }
   ],
   "source": [
    "%sql \n",
    "select * from Text.`dbfs:/user/hive/warehouse/delta.db/deltafile/_delta_log/00000000000000000002.json`"
   ]
  },
  {
   "cell_type": "code",
   "execution_count": 0,
   "metadata": {
    "application/vnd.databricks.v1+cell": {
     "cellMetadata": {
      "byteLimit": 2048000,
      "rowLimit": 10000
     },
     "inputWidgets": {},
     "nuid": "06c9f0d0-2c57-48d1-849f-eb3325f1a0ba",
     "showTitle": false,
     "title": ""
    }
   },
   "outputs": [
    {
     "output_type": "execute_result",
     "data": {
      "text/plain": [
       "[FileInfo(path='dbfs:/user/hive/warehouse/delta.db/deltafile/_delta_log/', name='_delta_log/', size=0, modificationTime=1709018399000),\n",
       " FileInfo(path='dbfs:/user/hive/warehouse/delta.db/deltafile/part-00000-29fc0fc4-a7f1-47e7-9e40-84642ecf1e7b.c000.snappy.parquet', name='part-00000-29fc0fc4-a7f1-47e7-9e40-84642ecf1e7b.c000.snappy.parquet', size=2296, modificationTime=1709019386000),\n",
       " FileInfo(path='dbfs:/user/hive/warehouse/delta.db/deltafile/part-00000-34241875-df11-4d53-9ee6-c93fac83081b.c000.snappy.parquet', name='part-00000-34241875-df11-4d53-9ee6-c93fac83081b.c000.snappy.parquet', size=2239, modificationTime=1709019075000)]"
      ]
     },
     "execution_count": 14,
     "metadata": {},
     "output_type": "execute_result"
    }
   ],
   "source": [
    "dbutils.fs.ls('dbfs:/user/hive/warehouse/delta.db/deltafile/')"
   ]
  },
  {
   "cell_type": "markdown",
   "metadata": {
    "application/vnd.databricks.v1+cell": {
     "cellMetadata": {},
     "inputWidgets": {},
     "nuid": "2d7d9301-8095-4c21-b665-f4b457ba6e80",
     "showTitle": false,
     "title": ""
    }
   },
   "source": [
    "delete operation \n",
    "\n"
   ]
  },
  {
   "cell_type": "code",
   "execution_count": 0,
   "metadata": {
    "application/vnd.databricks.v1+cell": {
     "cellMetadata": {
      "byteLimit": 2048000,
      "implicitDf": true,
      "rowLimit": 10000
     },
     "inputWidgets": {},
     "nuid": "8675d2ba-62f9-4770-98e9-cf34f88fbd34",
     "showTitle": false,
     "title": ""
    }
   },
   "outputs": [
    {
     "output_type": "display_data",
     "data": {
      "text/html": [
       "<style scoped>\n",
       "  .table-result-container {\n",
       "    max-height: 300px;\n",
       "    overflow: auto;\n",
       "  }\n",
       "  table, th, td {\n",
       "    border: 1px solid black;\n",
       "    border-collapse: collapse;\n",
       "  }\n",
       "  th, td {\n",
       "    padding: 5px;\n",
       "  }\n",
       "  th {\n",
       "    text-align: left;\n",
       "  }\n",
       "</style><div class='table-result-container'><table class='table-result'><thead style='background-color: white'><tr><th>num_affected_rows</th></tr></thead><tbody><tr><td>1</td></tr></tbody></table></div>"
      ]
     },
     "metadata": {
      "application/vnd.databricks.v1+output": {
       "addedWidgets": {},
       "aggData": [],
       "aggError": "",
       "aggOverflow": false,
       "aggSchema": [],
       "aggSeriesLimitReached": false,
       "aggType": "",
       "arguments": {},
       "columnCustomDisplayInfos": {},
       "data": [
        [
         1
        ]
       ],
       "datasetInfos": [],
       "dbfsResultPath": null,
       "isJsonSchema": true,
       "metadata": {
        "dataframeName": "_sqldf",
        "executionCount": 15
       },
       "overflow": false,
       "plotOptions": {
        "customPlotOptions": {},
        "displayType": "table",
        "pivotAggregation": null,
        "pivotColumns": null,
        "xColumns": null,
        "yColumns": null
       },
       "removedWidgets": [],
       "schema": [
        {
         "metadata": "{}",
         "name": "num_affected_rows",
         "type": "\"long\""
        }
       ],
       "type": "table"
      }
     },
     "output_type": "display_data"
    }
   ],
   "source": [
    "%sql\n",
    "\n",
    "Delete from `delta`.deltafile\n",
    "where dense_rank = 2"
   ]
  },
  {
   "cell_type": "code",
   "execution_count": 0,
   "metadata": {
    "application/vnd.databricks.v1+cell": {
     "cellMetadata": {
      "byteLimit": 2048000,
      "rowLimit": 10000
     },
     "inputWidgets": {},
     "nuid": "8237185a-9da9-497b-b871-363748a693ba",
     "showTitle": false,
     "title": ""
    }
   },
   "outputs": [
    {
     "output_type": "execute_result",
     "data": {
      "text/plain": [
       "[FileInfo(path='dbfs:/user/hive/warehouse/delta.db/deltafile/_delta_log/', name='_delta_log/', size=0, modificationTime=1709018399000),\n",
       " FileInfo(path='dbfs:/user/hive/warehouse/delta.db/deltafile/part-00000-29fc0fc4-a7f1-47e7-9e40-84642ecf1e7b.c000.snappy.parquet', name='part-00000-29fc0fc4-a7f1-47e7-9e40-84642ecf1e7b.c000.snappy.parquet', size=2296, modificationTime=1709019386000),\n",
       " FileInfo(path='dbfs:/user/hive/warehouse/delta.db/deltafile/part-00000-34241875-df11-4d53-9ee6-c93fac83081b.c000.snappy.parquet', name='part-00000-34241875-df11-4d53-9ee6-c93fac83081b.c000.snappy.parquet', size=2239, modificationTime=1709019075000),\n",
       " FileInfo(path='dbfs:/user/hive/warehouse/delta.db/deltafile/part-00000-b7cc85d0-db11-4f2a-883f-42d57ed165b6.c000.snappy.parquet', name='part-00000-b7cc85d0-db11-4f2a-883f-42d57ed165b6.c000.snappy.parquet', size=2244, modificationTime=1709019757000)]"
      ]
     },
     "execution_count": 16,
     "metadata": {},
     "output_type": "execute_result"
    }
   ],
   "source": [
    "dbutils.fs.ls('dbfs:/user/hive/warehouse/delta.db/deltafile/') #a new parquet and json will created after an operation "
   ]
  },
  {
   "cell_type": "code",
   "execution_count": 0,
   "metadata": {
    "application/vnd.databricks.v1+cell": {
     "cellMetadata": {
      "byteLimit": 2048000,
      "implicitDf": true,
      "rowLimit": 10000
     },
     "inputWidgets": {},
     "nuid": "0b2c8375-a27e-4ed5-9176-08d2ae3a86d5",
     "showTitle": false,
     "title": ""
    }
   },
   "outputs": [
    {
     "output_type": "display_data",
     "data": {
      "text/html": [
       "<style scoped>\n",
       "  .table-result-container {\n",
       "    max-height: 300px;\n",
       "    overflow: auto;\n",
       "  }\n",
       "  table, th, td {\n",
       "    border: 1px solid black;\n",
       "    border-collapse: collapse;\n",
       "  }\n",
       "  th, td {\n",
       "    padding: 5px;\n",
       "  }\n",
       "  th {\n",
       "    text-align: left;\n",
       "  }\n",
       "</style><div class='table-result-container'><table class='table-result'><thead style='background-color: white'><tr><th>value</th></tr></thead><tbody><tr><td>{\"commitInfo\":{\"timestamp\":1709019757681,\"userId\":\"4700893722167418\",\"userName\":\"lokeswar.valluru@xyenta.com\",\"operation\":\"DELETE\",\"operationParameters\":{\"predicate\":\"[\\\"(dense_rank#5373 = 2)\\\"]\"},\"notebook\":{\"notebookId\":\"482608276354729\"},\"clusterId\":\"1227-053858-m1tsqg19\",\"readVersion\":2,\"isolationLevel\":\"WriteSerializable\",\"isBlindAppend\":false,\"operationMetrics\":{\"numRemovedFiles\":\"1\",\"numRemovedBytes\":\"2296\",\"numCopiedRows\":\"3\",\"numDeletionVectorsAdded\":\"0\",\"numDeletionVectorsRemoved\":\"0\",\"numAddedChangeFiles\":\"0\",\"executionTimeMs\":\"979\",\"numDeletedRows\":\"1\",\"scanTimeMs\":\"422\",\"numAddedFiles\":\"1\",\"numAddedBytes\":\"2244\",\"rewriteTimeMs\":\"557\"},\"tags\":{\"noRowsCopied\":\"false\",\"delta.rowTracking.preserved\":\"false\",\"restoresDeletedRows\":\"false\"},\"engineInfo\":\"Databricks-Runtime/13.3.x-photon-scala2.12\",\"txnId\":\"12d0a249-53ef-4530-a155-b1dcf291dfd6\"}}</td></tr><tr><td>{\"remove\":{\"path\":\"part-00000-29fc0fc4-a7f1-47e7-9e40-84642ecf1e7b.c000.snappy.parquet\",\"deletionTimestamp\":1709019757679,\"dataChange\":true,\"extendedFileMetadata\":true,\"partitionValues\":{},\"size\":2296,\"tags\":{\"MAX_INSERTION_TIME\":\"1709019075000000\",\"INSERTION_TIME\":\"1709019075000000\",\"MIN_INSERTION_TIME\":\"1709019075000000\",\"OPTIMIZE_TARGET_SIZE\":\"268435456\"}}}</td></tr><tr><td>{\"add\":{\"path\":\"part-00000-b7cc85d0-db11-4f2a-883f-42d57ed165b6.c000.snappy.parquet\",\"partitionValues\":{},\"size\":2244,\"modificationTime\":1709019757000,\"dataChange\":true,\"stats\":\"{\\\"numRecords\\\":3,\\\"minValues\\\":{\\\"Education_Level\\\":\\\"Bachelor\\\",\\\"Line_Number\\\":1,\\\"Employed\\\":3500,\\\"Unemployed\\\":500,\\\"Industry\\\":\\\"Finance\\\",\\\"Gender\\\":\\\"Female\\\",\\\"Date_Inserted\\\":\\\"2023-07-12\\\",\\\"dense_rank\\\":1},\\\"maxValues\\\":{\\\"Education_Level\\\":\\\"PhD\\\",\\\"Line_Number\\\":4,\\\"Employed\\\":5500,\\\"Unemployed\\\":500,\\\"Industry\\\":\\\"Retail\\\",\\\"Gender\\\":\\\"Male\\\",\\\"Date_Inserted\\\":\\\"2023-07-12\\\",\\\"dense_rank\\\":4},\\\"nullCount\\\":{\\\"Education_Level\\\":0,\\\"Line_Number\\\":0,\\\"Employed\\\":0,\\\"Unemployed\\\":0,\\\"Industry\\\":0,\\\"Gender\\\":0,\\\"Date_Inserted\\\":0,\\\"dense_rank\\\":0}}\",\"tags\":{\"MAX_INSERTION_TIME\":\"1709019075000000\",\"INSERTION_TIME\":\"1709019075000000\",\"MIN_INSERTION_TIME\":\"1709019075000000\",\"OPTIMIZE_TARGET_SIZE\":\"268435456\"}}}</td></tr></tbody></table></div>"
      ]
     },
     "metadata": {
      "application/vnd.databricks.v1+output": {
       "addedWidgets": {},
       "aggData": [],
       "aggError": "",
       "aggOverflow": false,
       "aggSchema": [],
       "aggSeriesLimitReached": false,
       "aggType": "",
       "arguments": {},
       "columnCustomDisplayInfos": {},
       "data": [
        [
         "{\"commitInfo\":{\"timestamp\":1709019757681,\"userId\":\"4700893722167418\",\"userName\":\"lokeswar.valluru@xyenta.com\",\"operation\":\"DELETE\",\"operationParameters\":{\"predicate\":\"[\\\"(dense_rank#5373 = 2)\\\"]\"},\"notebook\":{\"notebookId\":\"482608276354729\"},\"clusterId\":\"1227-053858-m1tsqg19\",\"readVersion\":2,\"isolationLevel\":\"WriteSerializable\",\"isBlindAppend\":false,\"operationMetrics\":{\"numRemovedFiles\":\"1\",\"numRemovedBytes\":\"2296\",\"numCopiedRows\":\"3\",\"numDeletionVectorsAdded\":\"0\",\"numDeletionVectorsRemoved\":\"0\",\"numAddedChangeFiles\":\"0\",\"executionTimeMs\":\"979\",\"numDeletedRows\":\"1\",\"scanTimeMs\":\"422\",\"numAddedFiles\":\"1\",\"numAddedBytes\":\"2244\",\"rewriteTimeMs\":\"557\"},\"tags\":{\"noRowsCopied\":\"false\",\"delta.rowTracking.preserved\":\"false\",\"restoresDeletedRows\":\"false\"},\"engineInfo\":\"Databricks-Runtime/13.3.x-photon-scala2.12\",\"txnId\":\"12d0a249-53ef-4530-a155-b1dcf291dfd6\"}}"
        ],
        [
         "{\"remove\":{\"path\":\"part-00000-29fc0fc4-a7f1-47e7-9e40-84642ecf1e7b.c000.snappy.parquet\",\"deletionTimestamp\":1709019757679,\"dataChange\":true,\"extendedFileMetadata\":true,\"partitionValues\":{},\"size\":2296,\"tags\":{\"MAX_INSERTION_TIME\":\"1709019075000000\",\"INSERTION_TIME\":\"1709019075000000\",\"MIN_INSERTION_TIME\":\"1709019075000000\",\"OPTIMIZE_TARGET_SIZE\":\"268435456\"}}}"
        ],
        [
         "{\"add\":{\"path\":\"part-00000-b7cc85d0-db11-4f2a-883f-42d57ed165b6.c000.snappy.parquet\",\"partitionValues\":{},\"size\":2244,\"modificationTime\":1709019757000,\"dataChange\":true,\"stats\":\"{\\\"numRecords\\\":3,\\\"minValues\\\":{\\\"Education_Level\\\":\\\"Bachelor\\\",\\\"Line_Number\\\":1,\\\"Employed\\\":3500,\\\"Unemployed\\\":500,\\\"Industry\\\":\\\"Finance\\\",\\\"Gender\\\":\\\"Female\\\",\\\"Date_Inserted\\\":\\\"2023-07-12\\\",\\\"dense_rank\\\":1},\\\"maxValues\\\":{\\\"Education_Level\\\":\\\"PhD\\\",\\\"Line_Number\\\":4,\\\"Employed\\\":5500,\\\"Unemployed\\\":500,\\\"Industry\\\":\\\"Retail\\\",\\\"Gender\\\":\\\"Male\\\",\\\"Date_Inserted\\\":\\\"2023-07-12\\\",\\\"dense_rank\\\":4},\\\"nullCount\\\":{\\\"Education_Level\\\":0,\\\"Line_Number\\\":0,\\\"Employed\\\":0,\\\"Unemployed\\\":0,\\\"Industry\\\":0,\\\"Gender\\\":0,\\\"Date_Inserted\\\":0,\\\"dense_rank\\\":0}}\",\"tags\":{\"MAX_INSERTION_TIME\":\"1709019075000000\",\"INSERTION_TIME\":\"1709019075000000\",\"MIN_INSERTION_TIME\":\"1709019075000000\",\"OPTIMIZE_TARGET_SIZE\":\"268435456\"}}}"
        ]
       ],
       "datasetInfos": [],
       "dbfsResultPath": null,
       "isJsonSchema": true,
       "metadata": {
        "dataframeName": "_sqldf",
        "executionCount": 17
       },
       "overflow": false,
       "plotOptions": {
        "customPlotOptions": {},
        "displayType": "table",
        "pivotAggregation": null,
        "pivotColumns": null,
        "xColumns": null,
        "yColumns": null
       },
       "removedWidgets": [],
       "schema": [
        {
         "metadata": "{}",
         "name": "value",
         "type": "\"string\""
        }
       ],
       "type": "table"
      }
     },
     "output_type": "display_data"
    }
   ],
   "source": [
    "%sql \n",
    "select * from Text.`dbfs:/user/hive/warehouse/delta.db/deltafile/_delta_log/00000000000000000003.json`"
   ]
  },
  {
   "cell_type": "code",
   "execution_count": 0,
   "metadata": {
    "application/vnd.databricks.v1+cell": {
     "cellMetadata": {
      "byteLimit": 2048000,
      "implicitDf": true,
      "rowLimit": 10000
     },
     "inputWidgets": {},
     "nuid": "4b942dbb-8542-4e4e-a75e-6d85b5ce6828",
     "showTitle": false,
     "title": ""
    }
   },
   "outputs": [
    {
     "output_type": "display_data",
     "data": {
      "text/html": [
       "<style scoped>\n",
       "  .table-result-container {\n",
       "    max-height: 300px;\n",
       "    overflow: auto;\n",
       "  }\n",
       "  table, th, td {\n",
       "    border: 1px solid black;\n",
       "    border-collapse: collapse;\n",
       "  }\n",
       "  th, td {\n",
       "    padding: 5px;\n",
       "  }\n",
       "  th {\n",
       "    text-align: left;\n",
       "  }\n",
       "</style><div class='table-result-container'><table class='table-result'><thead style='background-color: white'><tr><th>Education_Level</th><th>Line_Number</th><th>Employed</th><th>Unemployed</th><th>Industry</th><th>Gender</th><th>Date_Inserted</th><th>dense_rank</th></tr></thead><tbody><tr><td>Bachelor</td><td>1</td><td>4500</td><td>500</td><td>IT</td><td>Male</td><td>2023-07-12</td><td>1</td></tr><tr><td>High School</td><td>3</td><td>3500</td><td>500</td><td>Retail</td><td>Male</td><td>2023-07-12</td><td>3</td></tr><tr><td>PhD</td><td>4</td><td>5500</td><td>500</td><td>Finance</td><td>Female</td><td>2023-07-12</td><td>4</td></tr></tbody></table></div>"
      ]
     },
     "metadata": {
      "application/vnd.databricks.v1+output": {
       "addedWidgets": {},
       "aggData": [],
       "aggError": "",
       "aggOverflow": false,
       "aggSchema": [],
       "aggSeriesLimitReached": false,
       "aggType": "",
       "arguments": {},
       "columnCustomDisplayInfos": {},
       "data": [
        [
         "Bachelor",
         1,
         4500,
         500,
         "IT",
         "Male",
         "2023-07-12",
         1
        ],
        [
         "High School",
         3,
         3500,
         500,
         "Retail",
         "Male",
         "2023-07-12",
         3
        ],
        [
         "PhD",
         4,
         5500,
         500,
         "Finance",
         "Female",
         "2023-07-12",
         4
        ]
       ],
       "datasetInfos": [],
       "dbfsResultPath": null,
       "isJsonSchema": true,
       "metadata": {
        "dataframeName": "_sqldf",
        "executionCount": 18
       },
       "overflow": false,
       "plotOptions": {
        "customPlotOptions": {},
        "displayType": "table",
        "pivotAggregation": null,
        "pivotColumns": null,
        "xColumns": null,
        "yColumns": null
       },
       "removedWidgets": [],
       "schema": [
        {
         "metadata": "{\"__CHAR_VARCHAR_TYPE_STRING\":\"varchar(50)\"}",
         "name": "Education_Level",
         "type": "\"string\""
        },
        {
         "metadata": "{}",
         "name": "Line_Number",
         "type": "\"integer\""
        },
        {
         "metadata": "{}",
         "name": "Employed",
         "type": "\"integer\""
        },
        {
         "metadata": "{}",
         "name": "Unemployed",
         "type": "\"integer\""
        },
        {
         "metadata": "{\"__CHAR_VARCHAR_TYPE_STRING\":\"varchar(50)\"}",
         "name": "Industry",
         "type": "\"string\""
        },
        {
         "metadata": "{\"__CHAR_VARCHAR_TYPE_STRING\":\"varchar(10)\"}",
         "name": "Gender",
         "type": "\"string\""
        },
        {
         "metadata": "{}",
         "name": "Date_Inserted",
         "type": "\"date\""
        },
        {
         "metadata": "{}",
         "name": "dense_rank",
         "type": "\"integer\""
        }
       ],
       "type": "table"
      }
     },
     "output_type": "display_data"
    }
   ],
   "source": [
    "%sql\n",
    "\n",
    "select * from `delta`.deltafile"
   ]
  }
 ],
 "metadata": {
  "application/vnd.databricks.v1+notebook": {
   "dashboards": [],
   "language": "python",
   "notebookMetadata": {
    "mostRecentlyExecutedCommandWithImplicitDF": {
     "commandId": 482608276354754,
     "dataframes": [
      "_sqldf"
     ]
    },
    "pythonIndentUnit": 4
   },
   "notebookName": "creating delta tables using SQL",
   "widgets": {}
  }
 },
 "nbformat": 4,
 "nbformat_minor": 0
}
